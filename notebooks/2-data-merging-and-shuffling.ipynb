{
 "cells": [
  {
   "cell_type": "markdown",
   "id": "162df7f3-0a16-4fc5-aeb7-63b3f0347868",
   "metadata": {},
   "source": [
    "# Data Merging & Shuffling\n",
    "\n",
    "**`Goal:`** Merge the data on the different ISPs and shuffle the merged dataset ahead of training-validation-test set split for better representativeness"
   ]
  },
  {
   "cell_type": "markdown",
   "id": "541a859b-8f81-4ad5-9650-4447d4fdf63a",
   "metadata": {},
   "source": [
    "### 1. Library Importation"
   ]
  },
  {
   "cell_type": "code",
   "execution_count": 19,
   "id": "2b301fec-8f4f-44fa-a0ad-7a3c29b6774a",
   "metadata": {},
   "outputs": [],
   "source": [
    "import pandas as pd\n",
    "from glob import glob"
   ]
  },
  {
   "cell_type": "markdown",
   "id": "61fd4b69-56eb-4fb6-b777-3f9187c44816",
   "metadata": {},
   "source": [
    "### 2. Defining the main function"
   ]
  },
  {
   "cell_type": "code",
   "execution_count": 20,
   "id": "4e85b525-e373-4a66-acaf-1cb98b8591f0",
   "metadata": {},
   "outputs": [],
   "source": [
    "def merge_and_shuffle(df_list):\n",
    "    \n",
    "    \"\"\"\n",
    "    Function to merge dataframes and shuffle the (larger) merged dataframe\n",
    "    \n",
    "    Inputs:\n",
    "        - df_list: List containing the dataframes to be merged\n",
    "    \"\"\"\n",
    "    \n",
    "    #1. Merge the dataframes\n",
    "    merged_df = pd.concat(df_list)\n",
    "    \n",
    "    #2. Shuffle three times – where three was arbitrarily chosen\n",
    "    for _ in range(4):\n",
    "        \n",
    "        merged_df = merged_df.sample(frac=1, random_state=1).reset_index(drop=True)\n",
    "        \n",
    "    return merged_df"
   ]
  },
  {
   "cell_type": "markdown",
   "id": "3e455946-ed40-4305-8daf-822de847735f",
   "metadata": {},
   "source": [
    "### 3. Load the data\n",
    "\n",
    "**a. Get file paths**"
   ]
  },
  {
   "cell_type": "code",
   "execution_count": 21,
   "id": "b0fa5205-8eb8-4ba2-8783-755ba5e79c80",
   "metadata": {},
   "outputs": [
    {
     "data": {
      "text/plain": [
       "['../data/raw/cobranet/cobranet_tweets_q4_2019.csv',\n",
       " '../data/raw/cobranet/cobranet_tweets_q3_2019.csv']"
      ]
     },
     "execution_count": 21,
     "metadata": {},
     "output_type": "execute_result"
    }
   ],
   "source": [
    "#Path to the data files\n",
    "path = \"../data/raw/*/\"\n",
    "\n",
    "#List to store file paths\n",
    "file_list = []\n",
    "\n",
    "#Iterate through all the subfolders in the main directory          \n",
    "for folder in glob(path):\n",
    "        \n",
    "    #Iterate through all the files in each subfolder\n",
    "    for file in glob(folder+'/*.csv'):\n",
    "        \n",
    "        #If it is a tweets file\n",
    "        if 'tweets' in file:\n",
    "\n",
    "            #Append the file name to the list\n",
    "            file_list.append(file)\n",
    "\n",
    "#See sample of the file names\n",
    "file_list[:2]"
   ]
  },
  {
   "cell_type": "markdown",
   "id": "1ac390a4-8ccb-491a-a11d-7d284302442e",
   "metadata": {},
   "source": [
    "**b. Read data into pandas dataframe**"
   ]
  },
  {
   "cell_type": "code",
   "execution_count": 22,
   "id": "e049529a-c98e-4dd1-ad43-09c03f50bd2d",
   "metadata": {},
   "outputs": [],
   "source": [
    "#List to store the dataframes\n",
    "df_list = []\n",
    "\n",
    "#Iterate through all the file paths\n",
    "for file_path in file_list:\n",
    "    \n",
    "    #Create a pandas dataframe if possible\n",
    "    try:\n",
    "        df = pd.read_csv(file_path)\n",
    "        df_list.append(df)\n",
    "    #If not, pass\n",
    "    except:\n",
    "        pass"
   ]
  },
  {
   "cell_type": "markdown",
   "id": "d4620d89-e4fc-4f6b-96d1-807d28fe3512",
   "metadata": {},
   "source": [
    "### 4. Merge & Shuffle the Data Files"
   ]
  },
  {
   "cell_type": "code",
   "execution_count": 23,
   "id": "aeda971b-0c9a-4e33-bd2b-af86ab07fbe6",
   "metadata": {},
   "outputs": [
    {
     "data": {
      "text/html": [
       "<div>\n",
       "<style scoped>\n",
       "    .dataframe tbody tr th:only-of-type {\n",
       "        vertical-align: middle;\n",
       "    }\n",
       "\n",
       "    .dataframe tbody tr th {\n",
       "        vertical-align: top;\n",
       "    }\n",
       "\n",
       "    .dataframe thead th {\n",
       "        text-align: right;\n",
       "    }\n",
       "</style>\n",
       "<table border=\"1\" class=\"dataframe\">\n",
       "  <thead>\n",
       "    <tr style=\"text-align: right;\">\n",
       "      <th></th>\n",
       "      <th>ISP_Name</th>\n",
       "      <th>Time</th>\n",
       "      <th>Text</th>\n",
       "      <th>Coordinates</th>\n",
       "      <th>Place</th>\n",
       "      <th>Source</th>\n",
       "    </tr>\n",
       "  </thead>\n",
       "  <tbody>\n",
       "    <tr>\n",
       "      <th>0</th>\n",
       "      <td>sprectranet</td>\n",
       "      <td>2019-05-13 09:30:03</td>\n",
       "      <td>It gives me joy seeing my spectranet turning g...</td>\n",
       "      <td>NaN</td>\n",
       "      <td>Place(_api=&lt;tweepy.api.API object at 0x7f96f37...</td>\n",
       "      <td>Twitter for iPhone</td>\n",
       "    </tr>\n",
       "    <tr>\n",
       "      <th>1</th>\n",
       "      <td>sprectranet</td>\n",
       "      <td>2020-04-21 06:11:55+00:00</td>\n",
       "      <td>@Spectranet_NG is this even fair? I won’t rene...</td>\n",
       "      <td>NaN</td>\n",
       "      <td>Place(_api=&lt;tweepy.api.API object at 0x7fbc03d...</td>\n",
       "      <td>Twitter for iPhone</td>\n",
       "    </tr>\n",
       "    <tr>\n",
       "      <th>2</th>\n",
       "      <td>sprectranet</td>\n",
       "      <td>2020-02-04 18:30:35+00:00</td>\n",
       "      <td>My family used my spectranet and they don't wa...</td>\n",
       "      <td>NaN</td>\n",
       "      <td>Place(_api=&lt;tweepy.api.API object at 0x7fbc025...</td>\n",
       "      <td>Twitter for Android</td>\n",
       "    </tr>\n",
       "    <tr>\n",
       "      <th>3</th>\n",
       "      <td>sprectranet</td>\n",
       "      <td>2019-02-16 18:11:48</td>\n",
       "      <td>@Spectranet_NG Can I subscribe via @UBAGroup m...</td>\n",
       "      <td>NaN</td>\n",
       "      <td>Place(_api=&lt;tweepy.api.API object at 0x7f96f2f...</td>\n",
       "      <td>Twitter for Android</td>\n",
       "    </tr>\n",
       "    <tr>\n",
       "      <th>4</th>\n",
       "      <td>sprectranet</td>\n",
       "      <td>2020-08-14 06:25:29+00:00</td>\n",
       "      <td>@EniolaShitta YouTube is where spectranet star...</td>\n",
       "      <td>NaN</td>\n",
       "      <td>Place(_api=&lt;tweepy.api.API object at 0x7fbc025...</td>\n",
       "      <td>Twitter for Android</td>\n",
       "    </tr>\n",
       "  </tbody>\n",
       "</table>\n",
       "</div>"
      ],
      "text/plain": [
       "      ISP_Name                       Time  \\\n",
       "0  sprectranet        2019-05-13 09:30:03   \n",
       "1  sprectranet  2020-04-21 06:11:55+00:00   \n",
       "2  sprectranet  2020-02-04 18:30:35+00:00   \n",
       "3  sprectranet        2019-02-16 18:11:48   \n",
       "4  sprectranet  2020-08-14 06:25:29+00:00   \n",
       "\n",
       "                                                Text Coordinates  \\\n",
       "0  It gives me joy seeing my spectranet turning g...         NaN   \n",
       "1  @Spectranet_NG is this even fair? I won’t rene...         NaN   \n",
       "2  My family used my spectranet and they don't wa...         NaN   \n",
       "3  @Spectranet_NG Can I subscribe via @UBAGroup m...         NaN   \n",
       "4  @EniolaShitta YouTube is where spectranet star...         NaN   \n",
       "\n",
       "                                               Place               Source  \n",
       "0  Place(_api=<tweepy.api.API object at 0x7f96f37...   Twitter for iPhone  \n",
       "1  Place(_api=<tweepy.api.API object at 0x7fbc03d...   Twitter for iPhone  \n",
       "2  Place(_api=<tweepy.api.API object at 0x7fbc025...  Twitter for Android  \n",
       "3  Place(_api=<tweepy.api.API object at 0x7f96f2f...  Twitter for Android  \n",
       "4  Place(_api=<tweepy.api.API object at 0x7fbc025...  Twitter for Android  "
      ]
     },
     "execution_count": 23,
     "metadata": {},
     "output_type": "execute_result"
    }
   ],
   "source": [
    "merged_df = merge_and_shuffle(df_list)\n",
    "merged_df.head()"
   ]
  },
  {
   "cell_type": "markdown",
   "id": "bec3185b-417a-46d6-9a6f-0408c323d636",
   "metadata": {},
   "source": [
    "### 5. Write to CSV File"
   ]
  },
  {
   "cell_type": "code",
   "execution_count": 24,
   "id": "d30c93e0-ba36-4432-af8d-f898a4107807",
   "metadata": {},
   "outputs": [],
   "source": [
    "merged_df.to_csv('../data/raw/merged.csv',index=False)"
   ]
  }
 ],
 "metadata": {
  "kernelspec": {
   "display_name": "Python 3 (ipykernel)",
   "language": "python",
   "name": "python3"
  },
  "language_info": {
   "codemirror_mode": {
    "name": "ipython",
    "version": 3
   },
   "file_extension": ".py",
   "mimetype": "text/x-python",
   "name": "python",
   "nbconvert_exporter": "python",
   "pygments_lexer": "ipython3",
   "version": "3.9.7"
  }
 },
 "nbformat": 4,
 "nbformat_minor": 5
}
