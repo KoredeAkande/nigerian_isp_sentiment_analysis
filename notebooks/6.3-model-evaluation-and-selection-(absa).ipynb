{
 "cells": [
  {
   "cell_type": "markdown",
   "id": "f7ea9406-9159-4ee3-82f5-5d4749dd3ca9",
   "metadata": {},
   "source": [
    "# Model Evaluation & Selection\n",
    "**`Aspect-based Sentiment Analysis`**"
   ]
  },
  {
   "cell_type": "markdown",
   "id": "17ec1b2f-d0bd-4760-b8a9-506dcd4538d1",
   "metadata": {},
   "source": [
    "**`Goal:`** Compare the performance of the three different model approaches (pos-tagging with word similarity, binary relevance, and multilabel classification) on the validation and test sets to settle on a final method to be used for our prediction tasks"
   ]
  },
  {
   "cell_type": "markdown",
   "id": "cb73fd6a-e0eb-4174-9706-becc9671015a",
   "metadata": {},
   "source": [
    "## 1. Import packages"
   ]
  },
  {
   "cell_type": "code",
   "execution_count": 1,
   "id": "eccb0d97-9943-4b44-9368-251f00be40f6",
   "metadata": {},
   "outputs": [],
   "source": [
    "import sys\n",
    "import pandas as pd\n",
    "import clean_tweets\n",
    "from absa_metrics import binary_precision_recall_fscore, aspect_sentiment_accuracy"
   ]
  },
  {
   "cell_type": "markdown",
   "id": "381b13ae-6d0d-40ac-b792-85df0314f1b6",
   "metadata": {},
   "source": [
    "## 2. Load the evaluation data"
   ]
  },
  {
   "cell_type": "markdown",
   "id": "ce94ca18-9a52-4b56-83a3-8a16c24f07b7",
   "metadata": {},
   "source": [
    "**Validation dataset**"
   ]
  },
  {
   "cell_type": "code",
   "execution_count": 2,
   "id": "0a6d4a4f-a015-4769-acc9-194b7f178089",
   "metadata": {},
   "outputs": [
    {
     "data": {
      "text/html": [
       "<div>\n",
       "<style scoped>\n",
       "    .dataframe tbody tr th:only-of-type {\n",
       "        vertical-align: middle;\n",
       "    }\n",
       "\n",
       "    .dataframe tbody tr th {\n",
       "        vertical-align: top;\n",
       "    }\n",
       "\n",
       "    .dataframe thead th {\n",
       "        text-align: right;\n",
       "    }\n",
       "</style>\n",
       "<table border=\"1\" class=\"dataframe\">\n",
       "  <thead>\n",
       "    <tr style=\"text-align: right;\">\n",
       "      <th></th>\n",
       "      <th>Text</th>\n",
       "      <th>price</th>\n",
       "      <th>speed</th>\n",
       "      <th>reliability</th>\n",
       "      <th>coverage</th>\n",
       "      <th>customer service</th>\n",
       "      <th>Aspects</th>\n",
       "      <th>Sentiment</th>\n",
       "    </tr>\n",
       "  </thead>\n",
       "  <tbody>\n",
       "    <tr>\n",
       "      <th>0</th>\n",
       "      <td>officialkome_ spectranet_ng this people don fr...</td>\n",
       "      <td>0</td>\n",
       "      <td>0</td>\n",
       "      <td>0</td>\n",
       "      <td>0</td>\n",
       "      <td>0</td>\n",
       "      <td>[None]</td>\n",
       "      <td>[None]</td>\n",
       "    </tr>\n",
       "    <tr>\n",
       "      <th>1</th>\n",
       "      <td>ayomikun_o_ yoruba_dev spectranet_ng i'm.yet t...</td>\n",
       "      <td>0</td>\n",
       "      <td>0</td>\n",
       "      <td>0</td>\n",
       "      <td>0</td>\n",
       "      <td>0</td>\n",
       "      <td>[None]</td>\n",
       "      <td>[None]</td>\n",
       "    </tr>\n",
       "    <tr>\n",
       "      <th>2</th>\n",
       "      <td>spectranet !!!!! 🤬🤬🤬🤬🤬🤬</td>\n",
       "      <td>0</td>\n",
       "      <td>0</td>\n",
       "      <td>0</td>\n",
       "      <td>0</td>\n",
       "      <td>0</td>\n",
       "      <td>[None]</td>\n",
       "      <td>[None]</td>\n",
       "    </tr>\n",
       "    <tr>\n",
       "      <th>3</th>\n",
       "      <td>after buying data see airtel telling me \"now t...</td>\n",
       "      <td>0</td>\n",
       "      <td>0</td>\n",
       "      <td>0</td>\n",
       "      <td>0</td>\n",
       "      <td>0</td>\n",
       "      <td>[None]</td>\n",
       "      <td>[None]</td>\n",
       "    </tr>\n",
       "    <tr>\n",
       "      <th>4</th>\n",
       "      <td>spectranet ooooo</td>\n",
       "      <td>0</td>\n",
       "      <td>0</td>\n",
       "      <td>0</td>\n",
       "      <td>0</td>\n",
       "      <td>0</td>\n",
       "      <td>[None]</td>\n",
       "      <td>[None]</td>\n",
       "    </tr>\n",
       "  </tbody>\n",
       "</table>\n",
       "</div>"
      ],
      "text/plain": [
       "                                                Text  price  speed  \\\n",
       "0  officialkome_ spectranet_ng this people don fr...      0      0   \n",
       "1  ayomikun_o_ yoruba_dev spectranet_ng i'm.yet t...      0      0   \n",
       "2                            spectranet !!!!! 🤬🤬🤬🤬🤬🤬      0      0   \n",
       "3  after buying data see airtel telling me \"now t...      0      0   \n",
       "4                                   spectranet ooooo      0      0   \n",
       "\n",
       "   reliability  coverage  customer service Aspects Sentiment  \n",
       "0            0         0                 0  [None]    [None]  \n",
       "1            0         0                 0  [None]    [None]  \n",
       "2            0         0                 0  [None]    [None]  \n",
       "3            0         0                 0  [None]    [None]  \n",
       "4            0         0                 0  [None]    [None]  "
      ]
     },
     "execution_count": 2,
     "metadata": {},
     "output_type": "execute_result"
    }
   ],
   "source": [
    "eval_val_df = pd.read_csv(\"../data/model-evaluation/validation_dataset.csv\")\n",
    "eval_val_df.head()"
   ]
  },
  {
   "cell_type": "markdown",
   "id": "63cf3f6f-6b82-4a51-80d0-d4d24323b0e9",
   "metadata": {},
   "source": [
    "**Test dataset**"
   ]
  },
  {
   "cell_type": "code",
   "execution_count": 3,
   "id": "3b40cd7a-5275-4dae-bb5a-147f129fd916",
   "metadata": {},
   "outputs": [
    {
     "data": {
      "text/html": [
       "<div>\n",
       "<style scoped>\n",
       "    .dataframe tbody tr th:only-of-type {\n",
       "        vertical-align: middle;\n",
       "    }\n",
       "\n",
       "    .dataframe tbody tr th {\n",
       "        vertical-align: top;\n",
       "    }\n",
       "\n",
       "    .dataframe thead th {\n",
       "        text-align: right;\n",
       "    }\n",
       "</style>\n",
       "<table border=\"1\" class=\"dataframe\">\n",
       "  <thead>\n",
       "    <tr style=\"text-align: right;\">\n",
       "      <th></th>\n",
       "      <th>Text</th>\n",
       "      <th>price</th>\n",
       "      <th>speed</th>\n",
       "      <th>reliability</th>\n",
       "      <th>coverage</th>\n",
       "      <th>customer service</th>\n",
       "      <th>Aspects</th>\n",
       "      <th>Sentiment</th>\n",
       "    </tr>\n",
       "  </thead>\n",
       "  <tbody>\n",
       "    <tr>\n",
       "      <th>0</th>\n",
       "      <td>deejay_klem smilecomsng well this means i will...</td>\n",
       "      <td>0</td>\n",
       "      <td>0</td>\n",
       "      <td>0</td>\n",
       "      <td>0</td>\n",
       "      <td>0</td>\n",
       "      <td>[None]</td>\n",
       "      <td>[None]</td>\n",
       "    </tr>\n",
       "    <tr>\n",
       "      <th>1</th>\n",
       "      <td>myaccessbank hello please i can't seem to find...</td>\n",
       "      <td>0</td>\n",
       "      <td>0</td>\n",
       "      <td>0</td>\n",
       "      <td>0</td>\n",
       "      <td>0</td>\n",
       "      <td>[None]</td>\n",
       "      <td>[None]</td>\n",
       "    </tr>\n",
       "    <tr>\n",
       "      <th>2</th>\n",
       "      <td>spectranet_ng hello please can i add multiple ...</td>\n",
       "      <td>0</td>\n",
       "      <td>0</td>\n",
       "      <td>0</td>\n",
       "      <td>0</td>\n",
       "      <td>0</td>\n",
       "      <td>[None]</td>\n",
       "      <td>[None]</td>\n",
       "    </tr>\n",
       "    <tr>\n",
       "      <th>3</th>\n",
       "      <td>spectranet is shit</td>\n",
       "      <td>0</td>\n",
       "      <td>0</td>\n",
       "      <td>0</td>\n",
       "      <td>0</td>\n",
       "      <td>0</td>\n",
       "      <td>[None]</td>\n",
       "      <td>[None]</td>\n",
       "    </tr>\n",
       "    <tr>\n",
       "      <th>4</th>\n",
       "      <td>tizeti is a special brand of useless, when it ...</td>\n",
       "      <td>0</td>\n",
       "      <td>1</td>\n",
       "      <td>0</td>\n",
       "      <td>0</td>\n",
       "      <td>0</td>\n",
       "      <td>['speed']</td>\n",
       "      <td>['Negative']</td>\n",
       "    </tr>\n",
       "  </tbody>\n",
       "</table>\n",
       "</div>"
      ],
      "text/plain": [
       "                                                Text  price  speed  \\\n",
       "0  deejay_klem smilecomsng well this means i will...      0      0   \n",
       "1  myaccessbank hello please i can't seem to find...      0      0   \n",
       "2  spectranet_ng hello please can i add multiple ...      0      0   \n",
       "3                                 spectranet is shit      0      0   \n",
       "4  tizeti is a special brand of useless, when it ...      0      1   \n",
       "\n",
       "   reliability  coverage  customer service    Aspects     Sentiment  \n",
       "0            0         0                 0     [None]        [None]  \n",
       "1            0         0                 0     [None]        [None]  \n",
       "2            0         0                 0     [None]        [None]  \n",
       "3            0         0                 0     [None]        [None]  \n",
       "4            0         0                 0  ['speed']  ['Negative']  "
      ]
     },
     "execution_count": 3,
     "metadata": {},
     "output_type": "execute_result"
    }
   ],
   "source": [
    "eval_test_df = pd.read_csv(\"../data/model-evaluation/test_dataset.csv\")\n",
    "eval_test_df.head()"
   ]
  },
  {
   "cell_type": "markdown",
   "id": "73fe01a6-0dbb-4d93-8464-48d781138a63",
   "metadata": {},
   "source": [
    "## 3. Load the models"
   ]
  },
  {
   "cell_type": "markdown",
   "id": "b9e00e88-2aae-4c41-ba6b-2b4d23eb6eee",
   "metadata": {},
   "source": [
    "### a. Load the POS tagger with word similarity model"
   ]
  },
  {
   "cell_type": "code",
   "execution_count": 4,
   "id": "bc5b16ec-c8de-444b-901e-dfbe95e1d2a2",
   "metadata": {},
   "outputs": [
    {
     "name": "stderr",
     "output_type": "stream",
     "text": [
      "2021-12-07 10:57:37.860689: I tensorflow/core/platform/cpu_feature_guard.cc:142] This TensorFlow binary is optimized with oneAPI Deep Neural Network Library (oneDNN) to use the following CPU instructions in performance-critical operations:  AVX2 FMA\n",
      "To enable them in other operations, rebuild TensorFlow with the appropriate compiler flags.\n",
      "Some layers from the model checkpoint at absa/classifier-rest-0.2 were not used when initializing BertABSClassifier: ['dropout_379']\n",
      "- This IS expected if you are initializing BertABSClassifier from the checkpoint of a model trained on another task or with another architecture (e.g. initializing a BertForSequenceClassification model from a BertForPreTraining model).\n",
      "- This IS NOT expected if you are initializing BertABSClassifier from the checkpoint of a model that you expect to be exactly identical (initializing a BertForSequenceClassification model from a BertForSequenceClassification model).\n",
      "Some layers of BertABSClassifier were not initialized from the model checkpoint at absa/classifier-rest-0.2 and are newly initialized: ['dropout_37']\n",
      "You should probably TRAIN this model on a down-stream task to be able to use it for predictions and inference.\n"
     ]
    }
   ],
   "source": [
    "sys.path.append(\"../models/full_absa_models\")\n",
    "import pos_word_similarity_model"
   ]
  },
  {
   "cell_type": "markdown",
   "id": "319eea0d-7641-4974-83bb-b2afea532ad1",
   "metadata": {},
   "source": [
    "### b. Load the binary relevance model"
   ]
  },
  {
   "cell_type": "code",
   "execution_count": 14,
   "id": "3838efc6-630a-42b9-a01c-4412d6e09193",
   "metadata": {},
   "outputs": [
    {
     "name": "stderr",
     "output_type": "stream",
     "text": [
      "Special tokens have been added in the vocabulary, make sure the associated word embeddings are fine-tuned or trained.\n",
      "Some layers from the model checkpoint at absa/classifier-rest-0.2 were not used when initializing BertABSClassifier: ['dropout_379']\n",
      "- This IS expected if you are initializing BertABSClassifier from the checkpoint of a model trained on another task or with another architecture (e.g. initializing a BertForSequenceClassification model from a BertForPreTraining model).\n",
      "- This IS NOT expected if you are initializing BertABSClassifier from the checkpoint of a model that you expect to be exactly identical (initializing a BertForSequenceClassification model from a BertForSequenceClassification model).\n",
      "Some layers of BertABSClassifier were not initialized from the model checkpoint at absa/classifier-rest-0.2 and are newly initialized: ['dropout_75']\n",
      "You should probably TRAIN this model on a down-stream task to be able to use it for predictions and inference.\n"
     ]
    }
   ],
   "source": [
    "sys.path.append(\"../models/full_absa_models\")\n",
    "import binary_relevance_model"
   ]
  },
  {
   "cell_type": "markdown",
   "id": "5a9f49d2-5738-4531-9aa0-443a8825cf40",
   "metadata": {},
   "source": [
    "### c. Load the multilabel classifier"
   ]
  },
  {
   "cell_type": "code",
   "execution_count": null,
   "id": "e3a01561-23a2-44b8-b850-dbdc378416a7",
   "metadata": {},
   "outputs": [],
   "source": []
  },
  {
   "cell_type": "markdown",
   "id": "b98448ac-98c2-4f2a-bfcf-4cdeab5ffa81",
   "metadata": {},
   "source": [
    "---"
   ]
  },
  {
   "cell_type": "markdown",
   "id": "bc63c873-bc6b-4ae1-a626-84212bcfe7a2",
   "metadata": {},
   "source": [
    "## Modeling: Validation set"
   ]
  },
  {
   "cell_type": "markdown",
   "id": "d67f0b6f-a2eb-493e-98d6-166e53280c63",
   "metadata": {},
   "source": [
    "### a. Model 1: POS Tagger with word similarity"
   ]
  },
  {
   "cell_type": "markdown",
   "id": "8e1011fc-33f5-42d9-aa79-a493721c1c1d",
   "metadata": {},
   "source": [
    "#### (i) Perform slight cleaning of the tweets"
   ]
  },
  {
   "cell_type": "code",
   "execution_count": 5,
   "id": "36be724f-fa4f-4dce-9af9-b45afedcf09e",
   "metadata": {},
   "outputs": [
    {
     "data": {
      "text/html": [
       "<div>\n",
       "<style scoped>\n",
       "    .dataframe tbody tr th:only-of-type {\n",
       "        vertical-align: middle;\n",
       "    }\n",
       "\n",
       "    .dataframe tbody tr th {\n",
       "        vertical-align: top;\n",
       "    }\n",
       "\n",
       "    .dataframe thead th {\n",
       "        text-align: right;\n",
       "    }\n",
       "</style>\n",
       "<table border=\"1\" class=\"dataframe\">\n",
       "  <thead>\n",
       "    <tr style=\"text-align: right;\">\n",
       "      <th></th>\n",
       "      <th>Text</th>\n",
       "      <th>price</th>\n",
       "      <th>speed</th>\n",
       "      <th>reliability</th>\n",
       "      <th>coverage</th>\n",
       "      <th>customer service</th>\n",
       "      <th>Aspects</th>\n",
       "      <th>Sentiment</th>\n",
       "    </tr>\n",
       "  </thead>\n",
       "  <tbody>\n",
       "    <tr>\n",
       "      <th>0</th>\n",
       "      <td>officialkome spectranetng this people don frus...</td>\n",
       "      <td>0</td>\n",
       "      <td>0</td>\n",
       "      <td>0</td>\n",
       "      <td>0</td>\n",
       "      <td>0</td>\n",
       "      <td>[None]</td>\n",
       "      <td>[None]</td>\n",
       "    </tr>\n",
       "    <tr>\n",
       "      <th>1</th>\n",
       "      <td>ayomikuno yorubadev spectranetng imyet to turn...</td>\n",
       "      <td>0</td>\n",
       "      <td>0</td>\n",
       "      <td>0</td>\n",
       "      <td>0</td>\n",
       "      <td>0</td>\n",
       "      <td>[None]</td>\n",
       "      <td>[None]</td>\n",
       "    </tr>\n",
       "    <tr>\n",
       "      <th>2</th>\n",
       "      <td>spectranet</td>\n",
       "      <td>0</td>\n",
       "      <td>0</td>\n",
       "      <td>0</td>\n",
       "      <td>0</td>\n",
       "      <td>0</td>\n",
       "      <td>[None]</td>\n",
       "      <td>[None]</td>\n",
       "    </tr>\n",
       "    <tr>\n",
       "      <th>3</th>\n",
       "      <td>after buying data see airtel telling me now th...</td>\n",
       "      <td>0</td>\n",
       "      <td>0</td>\n",
       "      <td>0</td>\n",
       "      <td>0</td>\n",
       "      <td>0</td>\n",
       "      <td>[None]</td>\n",
       "      <td>[None]</td>\n",
       "    </tr>\n",
       "    <tr>\n",
       "      <th>4</th>\n",
       "      <td>spectranet ooooo</td>\n",
       "      <td>0</td>\n",
       "      <td>0</td>\n",
       "      <td>0</td>\n",
       "      <td>0</td>\n",
       "      <td>0</td>\n",
       "      <td>[None]</td>\n",
       "      <td>[None]</td>\n",
       "    </tr>\n",
       "  </tbody>\n",
       "</table>\n",
       "</div>"
      ],
      "text/plain": [
       "                                                Text  price  speed  \\\n",
       "0  officialkome spectranetng this people don frus...      0      0   \n",
       "1  ayomikuno yorubadev spectranetng imyet to turn...      0      0   \n",
       "2                                        spectranet       0      0   \n",
       "3  after buying data see airtel telling me now th...      0      0   \n",
       "4                                   spectranet ooooo      0      0   \n",
       "\n",
       "   reliability  coverage  customer service Aspects Sentiment  \n",
       "0            0         0                 0  [None]    [None]  \n",
       "1            0         0                 0  [None]    [None]  \n",
       "2            0         0                 0  [None]    [None]  \n",
       "3            0         0                 0  [None]    [None]  \n",
       "4            0         0                 0  [None]    [None]  "
      ]
     },
     "execution_count": 5,
     "metadata": {},
     "output_type": "execute_result"
    }
   ],
   "source": [
    "#Clean the validation set tweets\n",
    "model_1_cleaned_val = clean_tweets.run_cleaner(eval_val_df,'Text',no_punc=True,\n",
    "                                               no_emoji=True, no_isp_name=True)\n",
    "\n",
    "model_1_cleaned_val.head()"
   ]
  },
  {
   "cell_type": "markdown",
   "id": "8fb56765-6526-40c3-ab1c-ecaf59928382",
   "metadata": {},
   "source": [
    "#### (ii) Run ABSA model on the tweets\n",
    "*Takes a couple of seconds to run*"
   ]
  },
  {
   "cell_type": "code",
   "execution_count": 6,
   "id": "e9a256bd-f6a8-485a-9660-781f72b97f68",
   "metadata": {},
   "outputs": [
    {
     "name": "stderr",
     "output_type": "stream",
     "text": [
      "../models/full_absa_models/pos_word_similarity_model.py:154: UserWarning: [W008] Evaluating Doc.similarity based on empty vectors.\n",
      "  similarity_score = round(asp_token.similarity(spacy_token),1)\n"
     ]
    }
   ],
   "source": [
    "pos_word_sim_absa = pos_word_similarity_model.run(model_1_cleaned_val, 'Text')"
   ]
  },
  {
   "cell_type": "markdown",
   "id": "fd20dfab-b66f-49bb-a69c-1ac42e16b801",
   "metadata": {},
   "source": [
    "#### (iii) Merge true annotations on the model's predictions"
   ]
  },
  {
   "cell_type": "code",
   "execution_count": 7,
   "id": "9cc9c130-7bf4-4c9c-a415-cc84e38bb76f",
   "metadata": {},
   "outputs": [
    {
     "data": {
      "text/html": [
       "<div>\n",
       "<style scoped>\n",
       "    .dataframe tbody tr th:only-of-type {\n",
       "        vertical-align: middle;\n",
       "    }\n",
       "\n",
       "    .dataframe tbody tr th {\n",
       "        vertical-align: top;\n",
       "    }\n",
       "\n",
       "    .dataframe thead th {\n",
       "        text-align: right;\n",
       "    }\n",
       "</style>\n",
       "<table border=\"1\" class=\"dataframe\">\n",
       "  <thead>\n",
       "    <tr style=\"text-align: right;\">\n",
       "      <th></th>\n",
       "      <th>Text</th>\n",
       "      <th>Detected aspects</th>\n",
       "      <th>Corresponding sentiment</th>\n",
       "      <th>Aspects</th>\n",
       "      <th>Sentiment</th>\n",
       "    </tr>\n",
       "  </thead>\n",
       "  <tbody>\n",
       "    <tr>\n",
       "      <th>0</th>\n",
       "      <td>officialkome spectranetng this people don frus...</td>\n",
       "      <td>[None]</td>\n",
       "      <td>[None]</td>\n",
       "      <td>[None]</td>\n",
       "      <td>[None]</td>\n",
       "    </tr>\n",
       "    <tr>\n",
       "      <th>1</th>\n",
       "      <td>ayomikuno yorubadev spectranetng imyet to turn...</td>\n",
       "      <td>[None]</td>\n",
       "      <td>[None]</td>\n",
       "      <td>[None]</td>\n",
       "      <td>[None]</td>\n",
       "    </tr>\n",
       "    <tr>\n",
       "      <th>2</th>\n",
       "      <td>spectranet</td>\n",
       "      <td>[None]</td>\n",
       "      <td>[None]</td>\n",
       "      <td>[None]</td>\n",
       "      <td>[None]</td>\n",
       "    </tr>\n",
       "    <tr>\n",
       "      <th>3</th>\n",
       "      <td>after buying data see airtel telling me now th...</td>\n",
       "      <td>[None]</td>\n",
       "      <td>[None]</td>\n",
       "      <td>[None]</td>\n",
       "      <td>[None]</td>\n",
       "    </tr>\n",
       "    <tr>\n",
       "      <th>4</th>\n",
       "      <td>spectranet ooooo</td>\n",
       "      <td>[None]</td>\n",
       "      <td>[None]</td>\n",
       "      <td>[None]</td>\n",
       "      <td>[None]</td>\n",
       "    </tr>\n",
       "  </tbody>\n",
       "</table>\n",
       "</div>"
      ],
      "text/plain": [
       "                                                Text Detected aspects  \\\n",
       "0  officialkome spectranetng this people don frus...           [None]   \n",
       "1  ayomikuno yorubadev spectranetng imyet to turn...           [None]   \n",
       "2                                        spectranet            [None]   \n",
       "3  after buying data see airtel telling me now th...           [None]   \n",
       "4                                   spectranet ooooo           [None]   \n",
       "\n",
       "  Corresponding sentiment Aspects Sentiment  \n",
       "0                  [None]  [None]    [None]  \n",
       "1                  [None]  [None]    [None]  \n",
       "2                  [None]  [None]    [None]  \n",
       "3                  [None]  [None]    [None]  \n",
       "4                  [None]  [None]    [None]  "
      ]
     },
     "execution_count": 7,
     "metadata": {},
     "output_type": "execute_result"
    }
   ],
   "source": [
    "pos_word_sim_absa[['Aspects', 'Sentiment']] = model_1_cleaned_val[['Aspects', 'Sentiment']]\n",
    "pos_word_sim_absa.head()"
   ]
  },
  {
   "cell_type": "markdown",
   "id": "45b7c3f2-59c5-473b-ad57-10882cc98465",
   "metadata": {},
   "source": [
    "#### (iv) Aspect extraction evaluation"
   ]
  },
  {
   "cell_type": "code",
   "execution_count": 8,
   "id": "f68e8ec6-f641-4335-8db0-ded57e77e725",
   "metadata": {},
   "outputs": [
    {
     "name": "stdout",
     "output_type": "stream",
     "text": [
      "Precision: 0.500  Recall: 0.033 F-0.5: 0.130\n"
     ]
    }
   ],
   "source": [
    "#Calculate precision, recall and f-0.5\n",
    "md1_class_metrics, md1_precision, md1_recall, md1_fscore = binary_precision_recall_fscore(\n",
    "    pos_word_sim_absa['Aspects'],\n",
    "    pos_word_sim_absa['Detected aspects'], \n",
    "    beta = 0.5)\n",
    "\n",
    "print(f\"Precision: {md1_precision:.3f}  Recall: {md1_recall:.3f} F-0.5: {md1_fscore:.3f}\")"
   ]
  },
  {
   "cell_type": "code",
   "execution_count": 9,
   "id": "f6dbce3b-5a1a-4e1a-9d38-c12678473508",
   "metadata": {},
   "outputs": [
    {
     "data": {
      "text/html": [
       "<div>\n",
       "<style scoped>\n",
       "    .dataframe tbody tr th:only-of-type {\n",
       "        vertical-align: middle;\n",
       "    }\n",
       "\n",
       "    .dataframe tbody tr th {\n",
       "        vertical-align: top;\n",
       "    }\n",
       "\n",
       "    .dataframe thead th {\n",
       "        text-align: right;\n",
       "    }\n",
       "</style>\n",
       "<table border=\"1\" class=\"dataframe\">\n",
       "  <thead>\n",
       "    <tr style=\"text-align: right;\">\n",
       "      <th></th>\n",
       "      <th>Precision</th>\n",
       "      <th>Recall</th>\n",
       "      <th>F-0.5</th>\n",
       "    </tr>\n",
       "  </thead>\n",
       "  <tbody>\n",
       "    <tr>\n",
       "      <th>price</th>\n",
       "      <td>0.000000</td>\n",
       "      <td>0.000000</td>\n",
       "      <td>0.000000</td>\n",
       "    </tr>\n",
       "    <tr>\n",
       "      <th>speed</th>\n",
       "      <td>1.000000</td>\n",
       "      <td>0.076923</td>\n",
       "      <td>0.294118</td>\n",
       "    </tr>\n",
       "    <tr>\n",
       "      <th>reliability</th>\n",
       "      <td>0.000000</td>\n",
       "      <td>0.000000</td>\n",
       "      <td>0.000000</td>\n",
       "    </tr>\n",
       "    <tr>\n",
       "      <th>coverage</th>\n",
       "      <td>0.000000</td>\n",
       "      <td>0.000000</td>\n",
       "      <td>0.000000</td>\n",
       "    </tr>\n",
       "    <tr>\n",
       "      <th>customer service</th>\n",
       "      <td>0.333333</td>\n",
       "      <td>0.062500</td>\n",
       "      <td>0.178571</td>\n",
       "    </tr>\n",
       "  </tbody>\n",
       "</table>\n",
       "</div>"
      ],
      "text/plain": [
       "                  Precision    Recall     F-0.5\n",
       "price              0.000000  0.000000  0.000000\n",
       "speed              1.000000  0.076923  0.294118\n",
       "reliability        0.000000  0.000000  0.000000\n",
       "coverage           0.000000  0.000000  0.000000\n",
       "customer service   0.333333  0.062500  0.178571"
      ]
     },
     "execution_count": 9,
     "metadata": {},
     "output_type": "execute_result"
    }
   ],
   "source": [
    "(pd.DataFrame(md1_class_metrics).T).iloc[:,-3:]"
   ]
  },
  {
   "cell_type": "markdown",
   "id": "cfd5a600-ffc1-4437-8a64-058f431c08d9",
   "metadata": {},
   "source": [
    "#### (iv) Aspect sentiment prediction evaluation"
   ]
  },
  {
   "cell_type": "code",
   "execution_count": 11,
   "id": "a4be86ac-b114-46c4-85bf-22a339aa60dd",
   "metadata": {},
   "outputs": [
    {
     "name": "stdout",
     "output_type": "stream",
     "text": [
      "Micro accuracy:0.500   Macro accuracy:0.500\n"
     ]
    }
   ],
   "source": [
    "md1_accuracies,md1_micro_accuracy,md1_macro_accuracy=aspect_sentiment_accuracy(pos_word_sim_absa['Aspects'],\n",
    "                                                                          pos_word_sim_absa['Detected aspects'],\n",
    "                                                                          pos_word_sim_absa['Sentiment'],\n",
    "                                                                          pos_word_sim_absa['Corresponding sentiment'])\n",
    "\n",
    "print(f\"Micro accuracy:{md1_micro_accuracy:.3f}   Macro accuracy:{md1_macro_accuracy:.3f}\")"
   ]
  },
  {
   "cell_type": "code",
   "execution_count": 12,
   "id": "f79221be-40d5-4e26-a1e7-beee4167f2e1",
   "metadata": {},
   "outputs": [
    {
     "data": {
      "text/html": [
       "<div>\n",
       "<style scoped>\n",
       "    .dataframe tbody tr th:only-of-type {\n",
       "        vertical-align: middle;\n",
       "    }\n",
       "\n",
       "    .dataframe tbody tr th {\n",
       "        vertical-align: top;\n",
       "    }\n",
       "\n",
       "    .dataframe thead th {\n",
       "        text-align: right;\n",
       "    }\n",
       "</style>\n",
       "<table border=\"1\" class=\"dataframe\">\n",
       "  <thead>\n",
       "    <tr style=\"text-align: right;\">\n",
       "      <th></th>\n",
       "      <th>Accuracy</th>\n",
       "    </tr>\n",
       "  </thead>\n",
       "  <tbody>\n",
       "    <tr>\n",
       "      <th>price</th>\n",
       "      <td>No prediction for this aspect</td>\n",
       "    </tr>\n",
       "    <tr>\n",
       "      <th>speed</th>\n",
       "      <td>0.0</td>\n",
       "    </tr>\n",
       "    <tr>\n",
       "      <th>reliability</th>\n",
       "      <td>No prediction for this aspect</td>\n",
       "    </tr>\n",
       "    <tr>\n",
       "      <th>coverage</th>\n",
       "      <td>No prediction for this aspect</td>\n",
       "    </tr>\n",
       "    <tr>\n",
       "      <th>customer service</th>\n",
       "      <td>1.0</td>\n",
       "    </tr>\n",
       "  </tbody>\n",
       "</table>\n",
       "</div>"
      ],
      "text/plain": [
       "                                       Accuracy\n",
       "price             No prediction for this aspect\n",
       "speed                                       0.0\n",
       "reliability       No prediction for this aspect\n",
       "coverage          No prediction for this aspect\n",
       "customer service                            1.0"
      ]
     },
     "execution_count": 12,
     "metadata": {},
     "output_type": "execute_result"
    }
   ],
   "source": [
    "(pd.DataFrame([md1_accuracies]).T).rename(columns={0:'Accuracy'})"
   ]
  },
  {
   "cell_type": "markdown",
   "id": "66352c63-3f99-494c-8406-8a024793dfed",
   "metadata": {},
   "source": [
    "---"
   ]
  },
  {
   "cell_type": "markdown",
   "id": "f3c210a3-9634-4c72-9daf-0deaeb5c3020",
   "metadata": {},
   "source": [
    "### a. Model 2: POS Tagger with word similarity"
   ]
  },
  {
   "cell_type": "markdown",
   "id": "a0c70bc5-fb8e-4eb7-8dda-2a6cacf3a488",
   "metadata": {},
   "source": [
    "#### (i) Run ABSA model on the tweets\n",
    "*Takes a couple of seconds to run*"
   ]
  },
  {
   "cell_type": "code",
   "execution_count": 15,
   "id": "10085f70-5961-4a87-9731-e24f9f414f6d",
   "metadata": {},
   "outputs": [],
   "source": [
    "binary_relevance_absa = binary_relevance_model.run(eval_val_df, 'Text')"
   ]
  },
  {
   "cell_type": "markdown",
   "id": "cd06569b-a535-43d8-beba-b4f25771aef0",
   "metadata": {},
   "source": [
    "#### (ii) Merge true annotations on the model's predictions"
   ]
  },
  {
   "cell_type": "code",
   "execution_count": 19,
   "id": "1cc04e24-59e6-4db0-8a62-c3db3fa24ae9",
   "metadata": {},
   "outputs": [
    {
     "data": {
      "text/html": [
       "<div>\n",
       "<style scoped>\n",
       "    .dataframe tbody tr th:only-of-type {\n",
       "        vertical-align: middle;\n",
       "    }\n",
       "\n",
       "    .dataframe tbody tr th {\n",
       "        vertical-align: top;\n",
       "    }\n",
       "\n",
       "    .dataframe thead th {\n",
       "        text-align: right;\n",
       "    }\n",
       "</style>\n",
       "<table border=\"1\" class=\"dataframe\">\n",
       "  <thead>\n",
       "    <tr style=\"text-align: right;\">\n",
       "      <th></th>\n",
       "      <th>Text</th>\n",
       "      <th>Detected aspects</th>\n",
       "      <th>Predicted sentiment</th>\n",
       "      <th>Aspects</th>\n",
       "      <th>Sentiment</th>\n",
       "    </tr>\n",
       "  </thead>\n",
       "  <tbody>\n",
       "    <tr>\n",
       "      <th>0</th>\n",
       "      <td>officialkome spectranetng this people don frus...</td>\n",
       "      <td>[None]</td>\n",
       "      <td>[None]</td>\n",
       "      <td>[None]</td>\n",
       "      <td>[None]</td>\n",
       "    </tr>\n",
       "    <tr>\n",
       "      <th>1</th>\n",
       "      <td>ayomikuno yorubadev spectranetng imyet to turn...</td>\n",
       "      <td>[None]</td>\n",
       "      <td>[None]</td>\n",
       "      <td>[None]</td>\n",
       "      <td>[None]</td>\n",
       "    </tr>\n",
       "    <tr>\n",
       "      <th>2</th>\n",
       "      <td>spectranet</td>\n",
       "      <td>[None]</td>\n",
       "      <td>[None]</td>\n",
       "      <td>[None]</td>\n",
       "      <td>[None]</td>\n",
       "    </tr>\n",
       "    <tr>\n",
       "      <th>3</th>\n",
       "      <td>after buying data see airtel telling me now th...</td>\n",
       "      <td>[None]</td>\n",
       "      <td>[None]</td>\n",
       "      <td>[None]</td>\n",
       "      <td>[None]</td>\n",
       "    </tr>\n",
       "    <tr>\n",
       "      <th>4</th>\n",
       "      <td>spectranet ooooo</td>\n",
       "      <td>[None]</td>\n",
       "      <td>[None]</td>\n",
       "      <td>[None]</td>\n",
       "      <td>[None]</td>\n",
       "    </tr>\n",
       "  </tbody>\n",
       "</table>\n",
       "</div>"
      ],
      "text/plain": [
       "                                                Text Detected aspects  \\\n",
       "0  officialkome spectranetng this people don frus...           [None]   \n",
       "1  ayomikuno yorubadev spectranetng imyet to turn...           [None]   \n",
       "2                                        spectranet            [None]   \n",
       "3  after buying data see airtel telling me now th...           [None]   \n",
       "4                                   spectranet ooooo           [None]   \n",
       "\n",
       "  Predicted sentiment Aspects Sentiment  \n",
       "0              [None]  [None]    [None]  \n",
       "1              [None]  [None]    [None]  \n",
       "2              [None]  [None]    [None]  \n",
       "3              [None]  [None]    [None]  \n",
       "4              [None]  [None]    [None]  "
      ]
     },
     "execution_count": 19,
     "metadata": {},
     "output_type": "execute_result"
    }
   ],
   "source": [
    "binary_relevance_absa[['Aspects', 'Sentiment']] = model_1_cleaned_val[['Aspects', 'Sentiment']]\n",
    "binary_relevance_absa.head()"
   ]
  },
  {
   "cell_type": "markdown",
   "id": "036b7da9-2d0d-4ac7-8fa8-8668caa3d9af",
   "metadata": {},
   "source": [
    "#### (iii) Aspect extraction evaluation"
   ]
  },
  {
   "cell_type": "code",
   "execution_count": 20,
   "id": "3ea3d03d-6946-4ba0-9d10-9ddbda1fe744",
   "metadata": {},
   "outputs": [
    {
     "name": "stdout",
     "output_type": "stream",
     "text": [
      "Precision: 0.585  Recall: 0.393 F-0.5: 0.533\n"
     ]
    }
   ],
   "source": [
    "#Calculate precision, recall and f-0.5\n",
    "md2_class_metrics, md2_precision, md2_recall, md2_fscore = binary_precision_recall_fscore(\n",
    "    binary_relevance_absa['Aspects'],\n",
    "    binary_relevance_absa['Detected aspects'], \n",
    "    beta = 0.5)\n",
    "\n",
    "print(f\"Precision: {md2_precision:.3f}  Recall: {md2_recall:.3f} F-0.5: {md2_fscore:.3f}\")"
   ]
  },
  {
   "cell_type": "code",
   "execution_count": 21,
   "id": "647ddc50-1477-4ae5-b5bd-22145d9eca1f",
   "metadata": {},
   "outputs": [
    {
     "data": {
      "text/html": [
       "<div>\n",
       "<style scoped>\n",
       "    .dataframe tbody tr th:only-of-type {\n",
       "        vertical-align: middle;\n",
       "    }\n",
       "\n",
       "    .dataframe tbody tr th {\n",
       "        vertical-align: top;\n",
       "    }\n",
       "\n",
       "    .dataframe thead th {\n",
       "        text-align: right;\n",
       "    }\n",
       "</style>\n",
       "<table border=\"1\" class=\"dataframe\">\n",
       "  <thead>\n",
       "    <tr style=\"text-align: right;\">\n",
       "      <th></th>\n",
       "      <th>Precision</th>\n",
       "      <th>Recall</th>\n",
       "      <th>F-0.5</th>\n",
       "    </tr>\n",
       "  </thead>\n",
       "  <tbody>\n",
       "    <tr>\n",
       "      <th>price</th>\n",
       "      <td>0.230769</td>\n",
       "      <td>0.250000</td>\n",
       "      <td>0.234375</td>\n",
       "    </tr>\n",
       "    <tr>\n",
       "      <th>speed</th>\n",
       "      <td>0.750000</td>\n",
       "      <td>0.230769</td>\n",
       "      <td>0.517241</td>\n",
       "    </tr>\n",
       "    <tr>\n",
       "      <th>reliability</th>\n",
       "      <td>0.800000</td>\n",
       "      <td>0.363636</td>\n",
       "      <td>0.645161</td>\n",
       "    </tr>\n",
       "    <tr>\n",
       "      <th>coverage</th>\n",
       "      <td>0.600000</td>\n",
       "      <td>0.333333</td>\n",
       "      <td>0.517241</td>\n",
       "    </tr>\n",
       "    <tr>\n",
       "      <th>customer service</th>\n",
       "      <td>0.785714</td>\n",
       "      <td>0.687500</td>\n",
       "      <td>0.763889</td>\n",
       "    </tr>\n",
       "  </tbody>\n",
       "</table>\n",
       "</div>"
      ],
      "text/plain": [
       "                  Precision    Recall     F-0.5\n",
       "price              0.230769  0.250000  0.234375\n",
       "speed              0.750000  0.230769  0.517241\n",
       "reliability        0.800000  0.363636  0.645161\n",
       "coverage           0.600000  0.333333  0.517241\n",
       "customer service   0.785714  0.687500  0.763889"
      ]
     },
     "execution_count": 21,
     "metadata": {},
     "output_type": "execute_result"
    }
   ],
   "source": [
    "(pd.DataFrame(md2_class_metrics).T).iloc[:,-3:]"
   ]
  },
  {
   "cell_type": "markdown",
   "id": "46f97d3f-4f69-4ad5-810f-c1cf39339675",
   "metadata": {},
   "source": [
    "#### (iv) Aspect sentiment prediction evaluation"
   ]
  },
  {
   "cell_type": "code",
   "execution_count": 23,
   "id": "6f4f924f-37c3-429c-8c1e-accf630cde35",
   "metadata": {},
   "outputs": [
    {
     "name": "stdout",
     "output_type": "stream",
     "text": [
      "Micro accuracy:0.833   Macro accuracy:0.733\n"
     ]
    }
   ],
   "source": [
    "md2_accuracies,md2_micro_accuracy,md2_macro_accuracy=aspect_sentiment_accuracy(binary_relevance_absa['Aspects'],\n",
    "                                                                          binary_relevance_absa['Detected aspects'],\n",
    "                                                                          binary_relevance_absa['Sentiment'],\n",
    "                                                                          binary_relevance_absa['Predicted sentiment'])\n",
    "\n",
    "print(f\"Micro accuracy:{md2_micro_accuracy:.3f}   Macro accuracy:{md2_macro_accuracy:.3f}\")"
   ]
  },
  {
   "cell_type": "code",
   "execution_count": 24,
   "id": "e3401736-a172-454c-82ec-ec9aa619d957",
   "metadata": {},
   "outputs": [
    {
     "data": {
      "text/html": [
       "<div>\n",
       "<style scoped>\n",
       "    .dataframe tbody tr th:only-of-type {\n",
       "        vertical-align: middle;\n",
       "    }\n",
       "\n",
       "    .dataframe tbody tr th {\n",
       "        vertical-align: top;\n",
       "    }\n",
       "\n",
       "    .dataframe thead th {\n",
       "        text-align: right;\n",
       "    }\n",
       "</style>\n",
       "<table border=\"1\" class=\"dataframe\">\n",
       "  <thead>\n",
       "    <tr style=\"text-align: right;\">\n",
       "      <th></th>\n",
       "      <th>Accuracy</th>\n",
       "    </tr>\n",
       "  </thead>\n",
       "  <tbody>\n",
       "    <tr>\n",
       "      <th>price</th>\n",
       "      <td>0.333333</td>\n",
       "    </tr>\n",
       "    <tr>\n",
       "      <th>speed</th>\n",
       "      <td>0.333333</td>\n",
       "    </tr>\n",
       "    <tr>\n",
       "      <th>reliability</th>\n",
       "      <td>1.000000</td>\n",
       "    </tr>\n",
       "    <tr>\n",
       "      <th>coverage</th>\n",
       "      <td>1.000000</td>\n",
       "    </tr>\n",
       "    <tr>\n",
       "      <th>customer service</th>\n",
       "      <td>1.000000</td>\n",
       "    </tr>\n",
       "  </tbody>\n",
       "</table>\n",
       "</div>"
      ],
      "text/plain": [
       "                  Accuracy\n",
       "price             0.333333\n",
       "speed             0.333333\n",
       "reliability       1.000000\n",
       "coverage          1.000000\n",
       "customer service  1.000000"
      ]
     },
     "execution_count": 24,
     "metadata": {},
     "output_type": "execute_result"
    }
   ],
   "source": [
    "(pd.DataFrame([md2_accuracies]).T).rename(columns={0:'Accuracy'})"
   ]
  },
  {
   "cell_type": "code",
   "execution_count": null,
   "id": "2a30cc1c-cb17-45a2-813d-6d834dc33a46",
   "metadata": {},
   "outputs": [],
   "source": []
  }
 ],
 "metadata": {
  "kernelspec": {
   "display_name": "Python 3 (ipykernel)",
   "language": "python",
   "name": "python3"
  },
  "language_info": {
   "codemirror_mode": {
    "name": "ipython",
    "version": 3
   },
   "file_extension": ".py",
   "mimetype": "text/x-python",
   "name": "python",
   "nbconvert_exporter": "python",
   "pygments_lexer": "ipython3",
   "version": "3.7.11"
  }
 },
 "nbformat": 4,
 "nbformat_minor": 5
}
