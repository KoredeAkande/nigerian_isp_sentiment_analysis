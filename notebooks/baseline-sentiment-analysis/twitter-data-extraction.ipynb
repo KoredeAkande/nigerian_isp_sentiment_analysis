{
 "cells": [
  {
   "cell_type": "markdown",
   "metadata": {},
   "source": [
    "# Twitter Data Extraction\n",
    "Monthly data extraction from Twitter API guided by the following [plan](https://docs.google.com/document/d/1d_4WeDetmZUkk9JJUEWiqqZaBaFsxy1ZDFNiL0JVaok/edit?usp=sharing) | [ISP Selection Guidelines](https://docs.google.com/document/d/12n9hZNdCLmrIVfK05MCa1CUhEYoCR9Ib0fPnxQZql_E/edit?usp=sharing) | [Twitter API Operators](https://developer.twitter.com/en/docs/twitter-api/tweets/search/integrate/build-a-query#limits) | \n",
    "Last updated Sept 14th, 2021"
   ]
  },
  {
   "cell_type": "code",
   "execution_count": 86,
   "metadata": {},
   "outputs": [],
   "source": [
    "#Import relevant libraries\n",
    "import tweepy\n",
    "import pandas as pd\n",
    "import numpy as np"
   ]
  },
  {
   "cell_type": "markdown",
   "metadata": {},
   "source": [
    "### 1. SETTING UP & CONNECTING TO THE API"
   ]
  },
  {
   "cell_type": "code",
   "execution_count": 87,
   "metadata": {},
   "outputs": [],
   "source": [
    "def authenticate():\n",
    "    \n",
    "    \"\"\"\n",
    "    Function to handle API connection, setup and authentication\n",
    "    \"\"\"\n",
    "    \n",
    "    #Import the twitter credentials stored in a separate file\n",
    "    %run ./twitter_credentials\n",
    "    \n",
    "    #Create the authentication object\n",
    "    auth = tweepy.OAuthHandler(api_key,api_secret_key)\n",
    "\n",
    "    #Set the access token and access token secret\n",
    "    auth.set_access_token(access_token,access_token_secret)\n",
    "\n",
    "    #Create the API object\n",
    "    api = tweepy.API(auth)  \n",
    "    \n",
    "    return api"
   ]
  },
  {
   "cell_type": "markdown",
   "metadata": {},
   "source": [
    "### 2. SPECIFYING VARIABLES FOR THE DATA EXTRACTION"
   ]
  },
  {
   "cell_type": "code",
   "execution_count": 88,
   "metadata": {},
   "outputs": [],
   "source": [
    "#Dev environment for the full archive endpoint (allows access to all tweets overtime)\n",
    "dev_env = 'prod'\n",
    "\n",
    "#THE BELOW SPECIFY HANDLES MANAGED BY THE ISPs or HANDLES THAT APPEAR TO TWEET BRAND PROMOTIONAL CONTENT\n",
    "#TWEETS FROM THESE HANDLES WILL BE AVOIDED WHEN EXTRACTING\n",
    "#Note: It is infeasible to address all cases. However, we would expect such tweets to be in the minority\n",
    "\n",
    "#Spectranet ISP\n",
    "spectranet_handles = ['-from:spectranet_NG','Spectr_net','SPECTRANETLTE','spectranet__NG']\n",
    "\n",
    "#IPNX ISP\n",
    "ipnx_handles = ['-from:ipNXTweet','IpnxSupport','iRecruite']\n",
    "\n",
    "#Tizeti (Wifi.ng) ISP\n",
    "tizeti_handles = ['-from:tizeti','wifisupport1']\n",
    "\n",
    "#Cobranet ISP\n",
    "cobranet_handles = ['-from:Cobranetisp']"
   ]
  },
  {
   "cell_type": "markdown",
   "metadata": {},
   "source": [
    "### 2. Extracting the Tweets\n",
    "#### Specifying the query & pulling from the API"
   ]
  },
  {
   "cell_type": "code",
   "execution_count": 89,
   "metadata": {
    "scrolled": true
   },
   "outputs": [],
   "source": [
    "def ISP_Tweet_Extractor(api,isp_name, from_date, to_date):\n",
    "    \n",
    "    \"\"\"\n",
    "    Function to extract tweets for a specified ISP during a specified time frame\n",
    "    \n",
    "    Inputs:\n",
    "     - isp_name (str): Name of the ISP to extract tweets for\n",
    "     - from_date (str): Earliest date (and time) of posting for any extracted tweet\n",
    "     - to_date (str): Latest date (and time) of posting for any extracted tweet \n",
    "     \n",
    "    Output:\n",
    "     - \n",
    "     \n",
    "    \"\"\"\n",
    "    \n",
    "    #Connection to api\n",
    "    api = api\n",
    "    \n",
    "    #### ------------------ VARIABLE REFORMATTING ------------------ ####\n",
    "    #Assign ISP name to variable ensuring it is in lower case\n",
    "    isp_name = isp_name.lower()\n",
    "    \n",
    "    #Reformat the fromDate to accepted API format (YYYYMMDDHHmm)\n",
    "    from_date = from_date.replace('-','').replace(':','')\n",
    "    \n",
    "    #Reformat the fromDate to accepted API format (YYYYMMDDHHmm)\n",
    "    to_date = to_date.replace('-','').replace(':','')\n",
    "    \n",
    "    #### ------------------ BUILDING THE API QUERY  ------------------ ####\n",
    "    \n",
    "    #Join the different handles to form the exclusion portion of the query\n",
    "    excl_handles = ' -from:'.join(eval(isp_name +'_handles'))\n",
    "    \n",
    "    #Query for tweets in Lagos containing the ISP's name and exclude tweets \n",
    "    #from the official ISP Twitter handles\n",
    "    \n",
    "    #If the ISP is Tizeti, take into account that they are known by multiple names\n",
    "    if isp_name == 'tizeti':\n",
    "        \n",
    "        api_query = f\"\"\" tizeti OR wifi.com.ng OR wifi.ng {excl_handles} \n",
    "                        -is:retweet point_radius:[5.53 3.54 140km]\"\"\"\n",
    "    else:\n",
    "        \n",
    "        api_query = f\"\"\"{isp_name} {excl_handles} place:\"Lagos,Nigeria\" \"\"\"\n",
    "        \n",
    "        \n",
    "    #### ------------------ SEARCHING & EXTRACTING THE DATA ------------------ ####\n",
    "\n",
    "    #Full archive search for ISP tweets\n",
    "    ISP_tweets = api.search_full_archive(dev_env, api_query, fromDate = from_date, toDate= to_date)\n",
    "    \n",
    "    \n",
    "    return ISP_tweets\n"
   ]
  },
  {
   "cell_type": "markdown",
   "metadata": {},
   "source": [
    "f\"{isp_name} {excl_handles} -is:retweet geocode:'5.53,3.54,140km'\"\n",
    "\n",
    "f\"\"\" tizeti OR wifi.com.ng OR wifi.ng {excl_handles} \n",
    "                    -is:retweet geocode:'5.53,3.54,140km'\"\"\"\n",
    "                    \n",
    "                    \n",
    "point_radius:[5.53 3.54 140km]\n"
   ]
  },
  {
   "cell_type": "markdown",
   "metadata": {},
   "source": [
    "#### Storing the tweets in a pandas dataframe"
   ]
  },
  {
   "cell_type": "code",
   "execution_count": 91,
   "metadata": {},
   "outputs": [],
   "source": [
    "def tweets_to_df(api_result):\n",
    "    \n",
    "    \"\"\"\n",
    "    Function to extract relevant properties from an api result (tweets objects) and store \n",
    "    in a pandas dataframe\n",
    "    \"\"\"\n",
    "    \n",
    "    #Getting the relevant properties from the tweets and storing in a dictionary \n",
    "    tweets = [{'Time':tweet.created_at, 'Subject':isp_name, 'Text':tweet.text,\n",
    "              'Coordinates':tweet.coordinates, 'Place': tweet.place, 'Source':tweet.source\n",
    "              } for tweet in api_result]\n",
    "    \n",
    "    #Convert the dictionary to a pandas dataframe\n",
    "    df = pd.DataFrame.from_dict(tweets)\n",
    "    \n",
    "    return df"
   ]
  },
  {
   "cell_type": "markdown",
   "metadata": {},
   "source": [
    "#### Converting pandas df to csv file"
   ]
  },
  {
   "cell_type": "code",
   "execution_count": 92,
   "metadata": {},
   "outputs": [],
   "source": [
    "def df_to_csv(df,isp_name,from_date,yearly_quarter):\n",
    "    \n",
    "    #Alphanumerics to lowercase\n",
    "    isp_name = isp_name.lower()\n",
    "    quarter = yearly_quarter.lower()\n",
    "    \n",
    "    #Extract year from date\n",
    "    year = from_date[:4]\n",
    "    \n",
    "    #Convert to CSV to save current tweets obtained from the API\n",
    "    df.to_csv(f\"./data/{isp_name}_tweets_{quarter}_{year}.csv\", index= False)"
   ]
  },
  {
   "cell_type": "code",
   "execution_count": 93,
   "metadata": {},
   "outputs": [],
   "source": [
    "def main():\n",
    "    \n",
    "    #Connect and authenticate Twitter API\n",
    "    api = authenticate()\n",
    "    \n",
    "    #Pass in parameters neeeded for API query\n",
    "    isp_name = input('ISP Full Name:')\n",
    "    from_date = input('Start Date (YYYY-MM-DD-HH:mm):')\n",
    "    to_date = input('End Date (YYYY-MM-DD-HH:mm):')\n",
    "    yearly_quarter = input('What quarter of the year? (q_):')\n",
    "    \n",
    "    #Pull the data from the API using the query and parameters\n",
    "    api_results = ISP_Tweet_Extractor(api, isp_name, from_date, to_date)\n",
    "    \n",
    "    #Convert the API results into a pandas dataframe\n",
    "    ISP_tweets = tweets_to_df(api_results)\n",
    "    \n",
    "    #Write to csv file\n",
    "    df_to_csv(ISP_tweets,isp_name,from_date,yearly_quarter)"
   ]
  },
  {
   "cell_type": "code",
   "execution_count": 94,
   "metadata": {},
   "outputs": [
    {
     "name": "stdout",
     "output_type": "stream",
     "text": [
      "ISP Full Name:spectranet\n",
      "Start Date (YYYY-MM-DD-HH:mm):2019-01-01-00:00\n",
      "End Date (YYYY-MM-DD-HH:mm):2019-03-31-23:59\n",
      "What quarter of the year? (q_):q1\n"
     ]
    }
   ],
   "source": [
    "if __name__ == \"__main__\":\n",
    "    main()"
   ]
  },
  {
   "cell_type": "code",
   "execution_count": 111,
   "metadata": {},
   "outputs": [],
   "source": [
    "k = pd.read_csv('./data/spectranet_tweets_q1_2019.csv')"
   ]
  },
  {
   "cell_type": "code",
   "execution_count": 112,
   "metadata": {},
   "outputs": [
    {
     "data": {
      "text/html": [
       "<div>\n",
       "<style scoped>\n",
       "    .dataframe tbody tr th:only-of-type {\n",
       "        vertical-align: middle;\n",
       "    }\n",
       "\n",
       "    .dataframe tbody tr th {\n",
       "        vertical-align: top;\n",
       "    }\n",
       "\n",
       "    .dataframe thead th {\n",
       "        text-align: right;\n",
       "    }\n",
       "</style>\n",
       "<table border=\"1\" class=\"dataframe\">\n",
       "  <thead>\n",
       "    <tr style=\"text-align: right;\">\n",
       "      <th></th>\n",
       "      <th>Time</th>\n",
       "      <th>Subject</th>\n",
       "      <th>Text</th>\n",
       "      <th>Coordinates</th>\n",
       "      <th>Place</th>\n",
       "      <th>Source</th>\n",
       "    </tr>\n",
       "  </thead>\n",
       "  <tbody>\n",
       "    <tr>\n",
       "      <th>0</th>\n",
       "      <td>2019-03-31 19:13:28</td>\n",
       "      <td>spectranet</td>\n",
       "      <td>I didn't once check my spectranet data balance...</td>\n",
       "      <td>NaN</td>\n",
       "      <td>Place(_api=&lt;tweepy.api.API object at 0x7fb97f4...</td>\n",
       "      <td>Twitter for Android</td>\n",
       "    </tr>\n",
       "    <tr>\n",
       "      <th>1</th>\n",
       "      <td>2019-03-29 11:29:59</td>\n",
       "      <td>spectranet</td>\n",
       "      <td>Eriq, i assume?\\nFirst of all accept my humble...</td>\n",
       "      <td>NaN</td>\n",
       "      <td>Place(_api=&lt;tweepy.api.API object at 0x7fb97f4...</td>\n",
       "      <td>Twitter for iPhone</td>\n",
       "    </tr>\n",
       "    <tr>\n",
       "      <th>2</th>\n",
       "      <td>2019-03-29 07:46:55</td>\n",
       "      <td>spectranet</td>\n",
       "      <td>Bought Spectranet mifi on tuesday, today is Fr...</td>\n",
       "      <td>NaN</td>\n",
       "      <td>Place(_api=&lt;tweepy.api.API object at 0x7fb97f4...</td>\n",
       "      <td>Twitter for Android</td>\n",
       "    </tr>\n",
       "    <tr>\n",
       "      <th>3</th>\n",
       "      <td>2019-03-28 22:52:09</td>\n",
       "      <td>spectranet</td>\n",
       "      <td>Oh boy, @Spectranet_NG won't make me work.  An...</td>\n",
       "      <td>NaN</td>\n",
       "      <td>Place(_api=&lt;tweepy.api.API object at 0x7fb97f4...</td>\n",
       "      <td>Twitter for Android</td>\n",
       "    </tr>\n",
       "    <tr>\n",
       "      <th>4</th>\n",
       "      <td>2019-03-28 19:13:22</td>\n",
       "      <td>spectranet</td>\n",
       "      <td>Please can you help me with the address of any...</td>\n",
       "      <td>NaN</td>\n",
       "      <td>Place(_api=&lt;tweepy.api.API object at 0x7fb97f4...</td>\n",
       "      <td>Twitter for iPhone</td>\n",
       "    </tr>\n",
       "    <tr>\n",
       "      <th>...</th>\n",
       "      <td>...</td>\n",
       "      <td>...</td>\n",
       "      <td>...</td>\n",
       "      <td>...</td>\n",
       "      <td>...</td>\n",
       "      <td>...</td>\n",
       "    </tr>\n",
       "    <tr>\n",
       "      <th>95</th>\n",
       "      <td>2019-01-06 10:50:04</td>\n",
       "      <td>spectranet</td>\n",
       "      <td>@OluwadamilolaOG @Spectranet_NG My second devi...</td>\n",
       "      <td>NaN</td>\n",
       "      <td>Place(_api=&lt;tweepy.api.API object at 0x7fb97f4...</td>\n",
       "      <td>Twitter for iPhone</td>\n",
       "    </tr>\n",
       "    <tr>\n",
       "      <th>96</th>\n",
       "      <td>2019-01-06 10:30:37</td>\n",
       "      <td>spectranet</td>\n",
       "      <td>Hello @Spectranet_NG what does the online mean...</td>\n",
       "      <td>NaN</td>\n",
       "      <td>Place(_api=&lt;tweepy.api.API object at 0x7fb97f4...</td>\n",
       "      <td>Twitter for iPhone</td>\n",
       "    </tr>\n",
       "    <tr>\n",
       "      <th>97</th>\n",
       "      <td>2019-01-05 17:37:37</td>\n",
       "      <td>spectranet</td>\n",
       "      <td>Left spectranet at home fml</td>\n",
       "      <td>NaN</td>\n",
       "      <td>Place(_api=&lt;tweepy.api.API object at 0x7fb97f4...</td>\n",
       "      <td>Twitter for iPhone</td>\n",
       "    </tr>\n",
       "    <tr>\n",
       "      <th>98</th>\n",
       "      <td>2019-01-05 07:50:32</td>\n",
       "      <td>spectranet</td>\n",
       "      <td>@ntelcare @NEXT_BILLIONAIR @ntelng Seems you’v...</td>\n",
       "      <td>NaN</td>\n",
       "      <td>Place(_api=&lt;tweepy.api.API object at 0x7fb97f4...</td>\n",
       "      <td>Twitter for iPhone</td>\n",
       "    </tr>\n",
       "    <tr>\n",
       "      <th>99</th>\n",
       "      <td>2019-01-04 16:58:01</td>\n",
       "      <td>spectranet</td>\n",
       "      <td>@Aunty_Les I use my spectranet in PH oh. Find out</td>\n",
       "      <td>NaN</td>\n",
       "      <td>Place(_api=&lt;tweepy.api.API object at 0x7fb97f4...</td>\n",
       "      <td>Twitter for iPhone</td>\n",
       "    </tr>\n",
       "  </tbody>\n",
       "</table>\n",
       "<p>100 rows × 6 columns</p>\n",
       "</div>"
      ],
      "text/plain": [
       "                   Time     Subject  \\\n",
       "0   2019-03-31 19:13:28  spectranet   \n",
       "1   2019-03-29 11:29:59  spectranet   \n",
       "2   2019-03-29 07:46:55  spectranet   \n",
       "3   2019-03-28 22:52:09  spectranet   \n",
       "4   2019-03-28 19:13:22  spectranet   \n",
       "..                  ...         ...   \n",
       "95  2019-01-06 10:50:04  spectranet   \n",
       "96  2019-01-06 10:30:37  spectranet   \n",
       "97  2019-01-05 17:37:37  spectranet   \n",
       "98  2019-01-05 07:50:32  spectranet   \n",
       "99  2019-01-04 16:58:01  spectranet   \n",
       "\n",
       "                                                 Text Coordinates  \\\n",
       "0   I didn't once check my spectranet data balance...         NaN   \n",
       "1   Eriq, i assume?\\nFirst of all accept my humble...         NaN   \n",
       "2   Bought Spectranet mifi on tuesday, today is Fr...         NaN   \n",
       "3   Oh boy, @Spectranet_NG won't make me work.  An...         NaN   \n",
       "4   Please can you help me with the address of any...         NaN   \n",
       "..                                                ...         ...   \n",
       "95  @OluwadamilolaOG @Spectranet_NG My second devi...         NaN   \n",
       "96  Hello @Spectranet_NG what does the online mean...         NaN   \n",
       "97                        Left spectranet at home fml         NaN   \n",
       "98  @ntelcare @NEXT_BILLIONAIR @ntelng Seems you’v...         NaN   \n",
       "99  @Aunty_Les I use my spectranet in PH oh. Find out         NaN   \n",
       "\n",
       "                                                Place               Source  \n",
       "0   Place(_api=<tweepy.api.API object at 0x7fb97f4...  Twitter for Android  \n",
       "1   Place(_api=<tweepy.api.API object at 0x7fb97f4...   Twitter for iPhone  \n",
       "2   Place(_api=<tweepy.api.API object at 0x7fb97f4...  Twitter for Android  \n",
       "3   Place(_api=<tweepy.api.API object at 0x7fb97f4...  Twitter for Android  \n",
       "4   Place(_api=<tweepy.api.API object at 0x7fb97f4...   Twitter for iPhone  \n",
       "..                                                ...                  ...  \n",
       "95  Place(_api=<tweepy.api.API object at 0x7fb97f4...   Twitter for iPhone  \n",
       "96  Place(_api=<tweepy.api.API object at 0x7fb97f4...   Twitter for iPhone  \n",
       "97  Place(_api=<tweepy.api.API object at 0x7fb97f4...   Twitter for iPhone  \n",
       "98  Place(_api=<tweepy.api.API object at 0x7fb97f4...   Twitter for iPhone  \n",
       "99  Place(_api=<tweepy.api.API object at 0x7fb97f4...   Twitter for iPhone  \n",
       "\n",
       "[100 rows x 6 columns]"
      ]
     },
     "execution_count": 112,
     "metadata": {},
     "output_type": "execute_result"
    }
   ],
   "source": [
    "k"
   ]
  },
  {
   "cell_type": "code",
   "execution_count": 113,
   "metadata": {},
   "outputs": [
    {
     "data": {
      "text/html": [
       "<div>\n",
       "<style scoped>\n",
       "    .dataframe tbody tr th:only-of-type {\n",
       "        vertical-align: middle;\n",
       "    }\n",
       "\n",
       "    .dataframe tbody tr th {\n",
       "        vertical-align: top;\n",
       "    }\n",
       "\n",
       "    .dataframe thead th {\n",
       "        text-align: right;\n",
       "    }\n",
       "</style>\n",
       "<table border=\"1\" class=\"dataframe\">\n",
       "  <thead>\n",
       "    <tr style=\"text-align: right;\">\n",
       "      <th></th>\n",
       "      <th>Time</th>\n",
       "      <th>Subject</th>\n",
       "      <th>Text</th>\n",
       "      <th>Coordinates</th>\n",
       "      <th>Place</th>\n",
       "      <th>Source</th>\n",
       "    </tr>\n",
       "  </thead>\n",
       "  <tbody>\n",
       "    <tr>\n",
       "      <th>24</th>\n",
       "      <td>2019-03-05 11:57:20</td>\n",
       "      <td>spectranet</td>\n",
       "      <td>Coming soon 🙌🙌\\nSpectranet advertisement video...</td>\n",
       "      <td>{'type': 'Point', 'coordinates': [3.39583, 6.4...</td>\n",
       "      <td>Place(_api=&lt;tweepy.api.API object at 0x7fb97f4...</td>\n",
       "      <td>Instagram</td>\n",
       "    </tr>\n",
       "    <tr>\n",
       "      <th>48</th>\n",
       "      <td>2019-02-18 14:14:38</td>\n",
       "      <td>spectranet</td>\n",
       "      <td>#TuneIn  if you be @Spectranet_NG user #tunein...</td>\n",
       "      <td>{'type': 'Point', 'coordinates': [3.39583, 6.4...</td>\n",
       "      <td>Place(_api=&lt;tweepy.api.API object at 0x7fb97f4...</td>\n",
       "      <td>Instagram</td>\n",
       "    </tr>\n",
       "  </tbody>\n",
       "</table>\n",
       "</div>"
      ],
      "text/plain": [
       "                   Time     Subject  \\\n",
       "24  2019-03-05 11:57:20  spectranet   \n",
       "48  2019-02-18 14:14:38  spectranet   \n",
       "\n",
       "                                                 Text  \\\n",
       "24  Coming soon 🙌🙌\\nSpectranet advertisement video...   \n",
       "48  #TuneIn  if you be @Spectranet_NG user #tunein...   \n",
       "\n",
       "                                          Coordinates  \\\n",
       "24  {'type': 'Point', 'coordinates': [3.39583, 6.4...   \n",
       "48  {'type': 'Point', 'coordinates': [3.39583, 6.4...   \n",
       "\n",
       "                                                Place     Source  \n",
       "24  Place(_api=<tweepy.api.API object at 0x7fb97f4...  Instagram  \n",
       "48  Place(_api=<tweepy.api.API object at 0x7fb97f4...  Instagram  "
      ]
     },
     "execution_count": 113,
     "metadata": {},
     "output_type": "execute_result"
    }
   ],
   "source": [
    "#Only two tweets with tagged coordinates \n",
    "k[k.Coordinates.isna() == False]"
   ]
  },
  {
   "cell_type": "code",
   "execution_count": 114,
   "metadata": {},
   "outputs": [
    {
     "data": {
      "text/plain": [
       "True"
      ]
     },
     "execution_count": 114,
     "metadata": {},
     "output_type": "execute_result"
    }
   ],
   "source": [
    "#The two tweets report being from the same location\n",
    "k[k.Coordinates.isna() == False].iloc[0,3]  == k[k.Coordinates.isna() == False].iloc[1,3] "
   ]
  },
  {
   "cell_type": "markdown",
   "metadata": {},
   "source": [
    "Unfortunately I might have to expand and look at ISPs across the entire Lagos :("
   ]
  }
 ],
 "metadata": {
  "kernelspec": {
   "display_name": "Python 3 (ipykernel)",
   "language": "python",
   "name": "python3"
  },
  "language_info": {
   "codemirror_mode": {
    "name": "ipython",
    "version": 3
   },
   "file_extension": ".py",
   "mimetype": "text/x-python",
   "name": "python",
   "nbconvert_exporter": "python",
   "pygments_lexer": "ipython3",
   "version": "3.9.7"
  }
 },
 "nbformat": 4,
 "nbformat_minor": 4
}
