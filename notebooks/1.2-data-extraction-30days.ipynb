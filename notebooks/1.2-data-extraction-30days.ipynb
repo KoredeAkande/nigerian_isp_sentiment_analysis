{
 "cells": [
  {
   "cell_type": "markdown",
   "id": "45b1e6dc-7b11-484e-95b4-ab6408edda3a",
   "metadata": {},
   "source": [
    "# Twitter Data Extraction\n",
    "**`30 day archive`**\n",
    "\n",
    "Extracting analogous ISP data for an aspect-based sentiment analysis task. Here, analogous is considered to be ISP providers (that do not double as telecom providers) from other countries asides Nigeria e.g. the US and Canada"
   ]
  },
  {
   "cell_type": "markdown",
   "id": "bb128733-730b-41b6-bbae-ccb28a0b1c66",
   "metadata": {},
   "source": [
    "## 1. Import packages"
   ]
  },
  {
   "cell_type": "code",
   "execution_count": 1,
   "id": "be0d2c11-24f1-42fb-854a-ba6a2193ea7d",
   "metadata": {},
   "outputs": [],
   "source": [
    "import tweepy\n",
    "import pandas as pd\n",
    "from datetime import datetime"
   ]
  },
  {
   "cell_type": "markdown",
   "id": "1d89083e-f519-4ca0-a716-9827a72edc87",
   "metadata": {},
   "source": [
    "## 2. Setup and connect to Twitter API"
   ]
  },
  {
   "cell_type": "code",
   "execution_count": 15,
   "id": "24738578-0e3d-4633-9d01-82160f06a809",
   "metadata": {},
   "outputs": [],
   "source": [
    "#Load twitter developer credentials\n",
    "%run ../../src/credentials/twitter_credentials\n",
    "\n",
    "#Create the authentication object\n",
    "auth = tweepy.OAuthHandler(api_key,api_secret_key)\n",
    "\n",
    "#Set the access token and access token secret\n",
    "auth.set_access_token(access_token,access_token_secret)\n",
    "\n",
    "#Create the API object\n",
    "api = tweepy.API(auth) \n",
    "\n",
    "#Dev environment for the 30day archive endpoint\n",
    "dev_env = 'extraction30days'"
   ]
  },
  {
   "cell_type": "markdown",
   "id": "81ee4dbc-290d-4e2b-a9ec-79cbfe11da23",
   "metadata": {},
   "source": [
    "## 3. Define function to store tweets in pandas dataframe"
   ]
  },
  {
   "cell_type": "code",
   "execution_count": 43,
   "id": "4ade61fc-db41-4130-92f4-997ab900ad2a",
   "metadata": {},
   "outputs": [],
   "source": [
    "def tweets_to_df(isp_name,api_result):\n",
    "    \n",
    "    \"\"\"\n",
    "    Function to extract relevant properties from api results (tweets objects) and store \n",
    "    in a pandas dataframe\n",
    "    \n",
    "    Input(s):\n",
    "        - isp_name (str): The name of the ISP\n",
    "        - api_result_list (list): List containing API results for a yearly quarter's subintervals\n",
    "        \n",
    "    Output(s):\n",
    "        - main_df (DataFrame): Pandas DataFrame of tweets (and their properties) from the yearly quarter\n",
    "    \n",
    "    \"\"\"\n",
    "    \n",
    "    #Empty dataframe to compile data from all yearly quarter subintervals\n",
    "    main_df = pd.DataFrame()\n",
    "    \n",
    "    #List to store the tweets\n",
    "    tweets = []\n",
    "        \n",
    "    #Iterate through all the tweets\n",
    "    for tweet in api_result:\n",
    "\n",
    "        #Dictionary to store tweet properties\n",
    "        tweet_prop = {}\n",
    "\n",
    "        #Store the ISP's name\n",
    "        tweet_prop['ISP_Name'] = isp_name\n",
    "\n",
    "        #Store the tweet time\n",
    "        tweet_prop['Time'] = tweet.created_at\n",
    "\n",
    "        #Store the tweet text – ensuring that the full text is gotten (if truncated)\n",
    "        if tweet.truncated:\n",
    "            tweet_prop['Text'] = tweet.extended_tweet['full_text']\n",
    "        else:\n",
    "            tweet_prop['Text'] = tweet.text\n",
    "\n",
    "        #Store the coordinates (if available)\n",
    "        tweet_prop['Coordinates'] = tweet.coordinates\n",
    "\n",
    "        #Store the place\n",
    "        tweet_prop['Place'] = tweet.place\n",
    "\n",
    "        #Store the source (e.g. Android, iOS, Desktop)\n",
    "        tweet_prop['Source'] = tweet.source\n",
    "\n",
    "        #Store the tweet in the tweets list\n",
    "        tweets.append(tweet_prop)\n",
    "    \n",
    "    #Convert the dictionary to a pandas dataframe\n",
    "    df = pd.DataFrame.from_dict(tweets)\n",
    "        \n",
    "    return df"
   ]
  },
  {
   "cell_type": "markdown",
   "id": "0388ca73-82e6-4153-9fb3-fcee559d1b64",
   "metadata": {},
   "source": [
    "## 3. Setup and run a search query\n",
    "**`Nov 27th checkpoint`**"
   ]
  },
  {
   "cell_type": "markdown",
   "id": "0138d445-5178-4fdb-90db-8df971b59cfc",
   "metadata": {},
   "source": [
    "## Nigerian ISPs"
   ]
  },
  {
   "cell_type": "code",
   "execution_count": 70,
   "id": "2f62132e-c1ff-489e-ba03-02603ea3b286",
   "metadata": {},
   "outputs": [],
   "source": [
    "#Spectranet ISP\n",
    "spectranet_handles = ['-from:spectranet_NG','Spectr_net','SPECTRANETLTE','spectranet__NG']\n",
    "\n",
    "#IPNX ISP\n",
    "ipnx_handles = ['-from:ipNXTweet','IpnxSupport','iRecruite']\n",
    "\n",
    "#Tizeti (Wifi.ng) ISP\n",
    "tizeti_handles = ['-from:tizeti','wifisupport1']\n",
    "\n",
    "#Dataframe to store results in\n",
    "nigerian_isp_df = pd.DataFrame()\n",
    "\n",
    "for isp_name in ['spectranet','ipnx','tizeti']:\n",
    "    \n",
    "    #Get handles to exclude\n",
    "    excl_handles = ' -from:'.join(eval(isp_name +'_handles'))\n",
    "    \n",
    "    #Define query\n",
    "    api_query = f\"\"\" {isp_name} {excl_handles} \"\"\"\n",
    "    \n",
    "    #Extract tweets\n",
    "    tweets = api.search_30_day(dev_env, api_query, fromDate = '202111130000')\n",
    "    tweets2 = api.search_30_day(dev_env, api_query, fromDate = '202110300000', toDate = '202111132359')\n",
    "    \n",
    "    \n",
    "    #Create pandas dataframes\n",
    "    df1 = tweets_to_df(isp_name,tweets)\n",
    "    df2 = tweets_to_df(isp_name,tweets2)\n",
    "    \n",
    "    #Merge and remove duplicates\n",
    "    merged_df = pd.concat([df1,df2]).drop_duplicates(subset=['Text'])\n",
    "    \n",
    "    #Append dataframe to the dataframe containing all the Nigerian ISPs tweets\n",
    "    nigerian_isp_df = nigerian_isp_df.append(merged_df)\n",
    "    "
   ]
  },
  {
   "cell_type": "code",
   "execution_count": 72,
   "id": "fa829357-fb76-4ed1-a540-810daeb1acce",
   "metadata": {},
   "outputs": [
    {
     "data": {
      "text/html": [
       "<div>\n",
       "<style scoped>\n",
       "    .dataframe tbody tr th:only-of-type {\n",
       "        vertical-align: middle;\n",
       "    }\n",
       "\n",
       "    .dataframe tbody tr th {\n",
       "        vertical-align: top;\n",
       "    }\n",
       "\n",
       "    .dataframe thead th {\n",
       "        text-align: right;\n",
       "    }\n",
       "</style>\n",
       "<table border=\"1\" class=\"dataframe\">\n",
       "  <thead>\n",
       "    <tr style=\"text-align: right;\">\n",
       "      <th></th>\n",
       "      <th>ISP_Name</th>\n",
       "      <th>Time</th>\n",
       "      <th>Text</th>\n",
       "      <th>Coordinates</th>\n",
       "      <th>Place</th>\n",
       "      <th>Source</th>\n",
       "    </tr>\n",
       "  </thead>\n",
       "  <tbody>\n",
       "    <tr>\n",
       "      <th>0</th>\n",
       "      <td>spectranet</td>\n",
       "      <td>2021-11-27 14:41:14+00:00</td>\n",
       "      <td>RT @iamrenike: The sexual tension between Spec...</td>\n",
       "      <td>None</td>\n",
       "      <td>None</td>\n",
       "      <td>Twitter for Android</td>\n",
       "    </tr>\n",
       "    <tr>\n",
       "      <th>1</th>\n",
       "      <td>spectranet</td>\n",
       "      <td>2021-11-27 13:59:19+00:00</td>\n",
       "      <td>Spectranet or Smile? Which is more reliable?</td>\n",
       "      <td>None</td>\n",
       "      <td>None</td>\n",
       "      <td>Twitter for iPhone</td>\n",
       "    </tr>\n",
       "    <tr>\n",
       "      <th>2</th>\n",
       "      <td>spectranet</td>\n",
       "      <td>2021-11-27 11:54:37+00:00</td>\n",
       "      <td>Spectranet, and Glo Dey cook me seriously for ...</td>\n",
       "      <td>None</td>\n",
       "      <td>None</td>\n",
       "      <td>Twitter for iPhone</td>\n",
       "    </tr>\n",
       "    <tr>\n",
       "      <th>3</th>\n",
       "      <td>spectranet</td>\n",
       "      <td>2021-11-27 11:53:48+00:00</td>\n",
       "      <td>Spectranet offer State-of-the-art dedicated li...</td>\n",
       "      <td>None</td>\n",
       "      <td>None</td>\n",
       "      <td>Twitter Web App</td>\n",
       "    </tr>\n",
       "    <tr>\n",
       "      <th>4</th>\n",
       "      <td>spectranet</td>\n",
       "      <td>2021-11-27 11:17:04+00:00</td>\n",
       "      <td>@Rhanty - Lmao make I run the PlayStation plus...</td>\n",
       "      <td>None</td>\n",
       "      <td>None</td>\n",
       "      <td>Twitter for iPhone</td>\n",
       "    </tr>\n",
       "  </tbody>\n",
       "</table>\n",
       "</div>"
      ],
      "text/plain": [
       "     ISP_Name                      Time  \\\n",
       "0  spectranet 2021-11-27 14:41:14+00:00   \n",
       "1  spectranet 2021-11-27 13:59:19+00:00   \n",
       "2  spectranet 2021-11-27 11:54:37+00:00   \n",
       "3  spectranet 2021-11-27 11:53:48+00:00   \n",
       "4  spectranet 2021-11-27 11:17:04+00:00   \n",
       "\n",
       "                                                Text Coordinates Place  \\\n",
       "0  RT @iamrenike: The sexual tension between Spec...        None  None   \n",
       "1       Spectranet or Smile? Which is more reliable?        None  None   \n",
       "2  Spectranet, and Glo Dey cook me seriously for ...        None  None   \n",
       "3  Spectranet offer State-of-the-art dedicated li...        None  None   \n",
       "4  @Rhanty - Lmao make I run the PlayStation plus...        None  None   \n",
       "\n",
       "                Source  \n",
       "0  Twitter for Android  \n",
       "1   Twitter for iPhone  \n",
       "2   Twitter for iPhone  \n",
       "3      Twitter Web App  \n",
       "4   Twitter for iPhone  "
      ]
     },
     "execution_count": 72,
     "metadata": {},
     "output_type": "execute_result"
    }
   ],
   "source": [
    "nigerian_isp_df.head()"
   ]
  },
  {
   "cell_type": "markdown",
   "id": "2ade0a41-712f-4360-a1f8-cf05233b59b5",
   "metadata": {},
   "source": [
    "## Foreign ISPs"
   ]
  },
  {
   "cell_type": "markdown",
   "id": "496a3da6-73d6-4aad-a09d-60e7e59cd335",
   "metadata": {},
   "source": [
    "### a. Mediacom"
   ]
  },
  {
   "cell_type": "code",
   "execution_count": 53,
   "id": "0c891867-0a0d-4510-9e83-55e4a1053f6d",
   "metadata": {},
   "outputs": [],
   "source": [
    "#Extract tweets on US ISP Mediacom\n",
    "mediacom_query = \"\"\" mediacom -from:MediaComGlobal -from:MediaComUS -from:MediacomSupport \"\"\""
   ]
  },
  {
   "cell_type": "code",
   "execution_count": 29,
   "id": "0f049404-bfeb-4726-b0ac-d8df1543cc6f",
   "metadata": {},
   "outputs": [],
   "source": [
    "#Pull the tweets\n",
    "mediacom_tweets = api.search_30_day(dev_env, mediacom_query, fromDate = '202111130000')\n",
    "mediacom_tweets2 = api.search_30_day(dev_env, mediacom_query, fromDate = '202110300000', toDate = '202111132359')"
   ]
  },
  {
   "cell_type": "code",
   "execution_count": 45,
   "id": "e9c0783f-fccf-4b70-b352-6d985996b40c",
   "metadata": {},
   "outputs": [],
   "source": [
    "#Create pandas dataframe\n",
    "mediacom_df1 = tweets_to_df('mediacom',mediacom_tweets)\n",
    "\n",
    "#Create pandas dataframe\n",
    "mediacom_df2 = tweets_to_df('mediacom',mediacom_tweets2)"
   ]
  },
  {
   "cell_type": "markdown",
   "id": "65cf1bef-6b37-4452-a3be-67f3571b9ca0",
   "metadata": {},
   "source": [
    "#### Visualize the dataframes"
   ]
  },
  {
   "cell_type": "code",
   "execution_count": 48,
   "id": "39f52596-acb8-4855-9380-9240a3d87a3e",
   "metadata": {},
   "outputs": [
    {
     "data": {
      "text/html": [
       "<div>\n",
       "<style scoped>\n",
       "    .dataframe tbody tr th:only-of-type {\n",
       "        vertical-align: middle;\n",
       "    }\n",
       "\n",
       "    .dataframe tbody tr th {\n",
       "        vertical-align: top;\n",
       "    }\n",
       "\n",
       "    .dataframe thead th {\n",
       "        text-align: right;\n",
       "    }\n",
       "</style>\n",
       "<table border=\"1\" class=\"dataframe\">\n",
       "  <thead>\n",
       "    <tr style=\"text-align: right;\">\n",
       "      <th></th>\n",
       "      <th>ISP_Name</th>\n",
       "      <th>Time</th>\n",
       "      <th>Text</th>\n",
       "      <th>Coordinates</th>\n",
       "      <th>Place</th>\n",
       "      <th>Source</th>\n",
       "    </tr>\n",
       "  </thead>\n",
       "  <tbody>\n",
       "    <tr>\n",
       "      <th>0</th>\n",
       "      <td>mediacom</td>\n",
       "      <td>2021-11-27 16:35:17+00:00</td>\n",
       "      <td>RT @wciu: Don't miss out today on @fenwickfria...</td>\n",
       "      <td>None</td>\n",
       "      <td>None</td>\n",
       "      <td>Twitter for Android</td>\n",
       "    </tr>\n",
       "    <tr>\n",
       "      <th>1</th>\n",
       "      <td>mediacom</td>\n",
       "      <td>2021-11-27 16:23:13+00:00</td>\n",
       "      <td>@TroyBanning @MediacomCable We've had YouTube ...</td>\n",
       "      <td>None</td>\n",
       "      <td>None</td>\n",
       "      <td>Twitter for Android</td>\n",
       "    </tr>\n",
       "    <tr>\n",
       "      <th>2</th>\n",
       "      <td>mediacom</td>\n",
       "      <td>2021-11-27 15:50:00+00:00</td>\n",
       "      <td>Don't miss out today on @fenwickfriars vs. #Ka...</td>\n",
       "      <td>None</td>\n",
       "      <td>None</td>\n",
       "      <td>TweetDeck</td>\n",
       "    </tr>\n",
       "    <tr>\n",
       "      <th>3</th>\n",
       "      <td>mediacom</td>\n",
       "      <td>2021-11-27 15:45:33+00:00</td>\n",
       "      <td>So now instead of 8-9 apparently it’s closer t...</td>\n",
       "      <td>None</td>\n",
       "      <td>None</td>\n",
       "      <td>Twitter for iPhone</td>\n",
       "    </tr>\n",
       "    <tr>\n",
       "      <th>4</th>\n",
       "      <td>mediacom</td>\n",
       "      <td>2021-11-27 15:42:25+00:00</td>\n",
       "      <td>RT @wciu: Calling all #IHSA football fans! Don...</td>\n",
       "      <td>None</td>\n",
       "      <td>None</td>\n",
       "      <td>Twitter for iPhone</td>\n",
       "    </tr>\n",
       "  </tbody>\n",
       "</table>\n",
       "</div>"
      ],
      "text/plain": [
       "   ISP_Name                      Time  \\\n",
       "0  mediacom 2021-11-27 16:35:17+00:00   \n",
       "1  mediacom 2021-11-27 16:23:13+00:00   \n",
       "2  mediacom 2021-11-27 15:50:00+00:00   \n",
       "3  mediacom 2021-11-27 15:45:33+00:00   \n",
       "4  mediacom 2021-11-27 15:42:25+00:00   \n",
       "\n",
       "                                                Text Coordinates Place  \\\n",
       "0  RT @wciu: Don't miss out today on @fenwickfria...        None  None   \n",
       "1  @TroyBanning @MediacomCable We've had YouTube ...        None  None   \n",
       "2  Don't miss out today on @fenwickfriars vs. #Ka...        None  None   \n",
       "3  So now instead of 8-9 apparently it’s closer t...        None  None   \n",
       "4  RT @wciu: Calling all #IHSA football fans! Don...        None  None   \n",
       "\n",
       "                Source  \n",
       "0  Twitter for Android  \n",
       "1  Twitter for Android  \n",
       "2            TweetDeck  \n",
       "3   Twitter for iPhone  \n",
       "4   Twitter for iPhone  "
      ]
     },
     "execution_count": 48,
     "metadata": {},
     "output_type": "execute_result"
    }
   ],
   "source": [
    "mediacom_df1.head()"
   ]
  },
  {
   "cell_type": "code",
   "execution_count": 54,
   "id": "c3d4a96f-0b2c-4cc8-873b-c3a17e0cb5e5",
   "metadata": {},
   "outputs": [
    {
     "data": {
      "text/html": [
       "<div>\n",
       "<style scoped>\n",
       "    .dataframe tbody tr th:only-of-type {\n",
       "        vertical-align: middle;\n",
       "    }\n",
       "\n",
       "    .dataframe tbody tr th {\n",
       "        vertical-align: top;\n",
       "    }\n",
       "\n",
       "    .dataframe thead th {\n",
       "        text-align: right;\n",
       "    }\n",
       "</style>\n",
       "<table border=\"1\" class=\"dataframe\">\n",
       "  <thead>\n",
       "    <tr style=\"text-align: right;\">\n",
       "      <th></th>\n",
       "      <th>ISP_Name</th>\n",
       "      <th>Time</th>\n",
       "      <th>Text</th>\n",
       "      <th>Coordinates</th>\n",
       "      <th>Place</th>\n",
       "      <th>Source</th>\n",
       "    </tr>\n",
       "  </thead>\n",
       "  <tbody>\n",
       "    <tr>\n",
       "      <th>0</th>\n",
       "      <td>mediacom</td>\n",
       "      <td>2021-11-13 23:58:30+00:00</td>\n",
       "      <td>RT @brianneDMR: In a hypothetical 2024 rematch...</td>\n",
       "      <td>None</td>\n",
       "      <td>None</td>\n",
       "      <td>Twitter for iPad</td>\n",
       "    </tr>\n",
       "    <tr>\n",
       "      <th>1</th>\n",
       "      <td>mediacom</td>\n",
       "      <td>2021-11-13 23:57:32+00:00</td>\n",
       "      <td>RT @brianneDMR: In a hypothetical 2024 rematch...</td>\n",
       "      <td>None</td>\n",
       "      <td>None</td>\n",
       "      <td>Twitter for iPhone</td>\n",
       "    </tr>\n",
       "    <tr>\n",
       "      <th>2</th>\n",
       "      <td>mediacom</td>\n",
       "      <td>2021-11-13 23:56:33+00:00</td>\n",
       "      <td>RT @brianneDMR: In a hypothetical 2024 rematch...</td>\n",
       "      <td>None</td>\n",
       "      <td>None</td>\n",
       "      <td>Twitter Web App</td>\n",
       "    </tr>\n",
       "    <tr>\n",
       "      <th>3</th>\n",
       "      <td>mediacom</td>\n",
       "      <td>2021-11-13 23:55:23+00:00</td>\n",
       "      <td>RT @brianneDMR: In a hypothetical 2024 rematch...</td>\n",
       "      <td>None</td>\n",
       "      <td>None</td>\n",
       "      <td>Twitter Web App</td>\n",
       "    </tr>\n",
       "    <tr>\n",
       "      <th>4</th>\n",
       "      <td>mediacom</td>\n",
       "      <td>2021-11-13 23:54:37+00:00</td>\n",
       "      <td>RT @brianneDMR: In a hypothetical 2024 rematch...</td>\n",
       "      <td>None</td>\n",
       "      <td>None</td>\n",
       "      <td>Twitter Web App</td>\n",
       "    </tr>\n",
       "  </tbody>\n",
       "</table>\n",
       "</div>"
      ],
      "text/plain": [
       "   ISP_Name                      Time  \\\n",
       "0  mediacom 2021-11-13 23:58:30+00:00   \n",
       "1  mediacom 2021-11-13 23:57:32+00:00   \n",
       "2  mediacom 2021-11-13 23:56:33+00:00   \n",
       "3  mediacom 2021-11-13 23:55:23+00:00   \n",
       "4  mediacom 2021-11-13 23:54:37+00:00   \n",
       "\n",
       "                                                Text Coordinates Place  \\\n",
       "0  RT @brianneDMR: In a hypothetical 2024 rematch...        None  None   \n",
       "1  RT @brianneDMR: In a hypothetical 2024 rematch...        None  None   \n",
       "2  RT @brianneDMR: In a hypothetical 2024 rematch...        None  None   \n",
       "3  RT @brianneDMR: In a hypothetical 2024 rematch...        None  None   \n",
       "4  RT @brianneDMR: In a hypothetical 2024 rematch...        None  None   \n",
       "\n",
       "               Source  \n",
       "0    Twitter for iPad  \n",
       "1  Twitter for iPhone  \n",
       "2     Twitter Web App  \n",
       "3     Twitter Web App  \n",
       "4     Twitter Web App  "
      ]
     },
     "execution_count": 54,
     "metadata": {},
     "output_type": "execute_result"
    }
   ],
   "source": [
    "mediacom_df2.head()"
   ]
  },
  {
   "cell_type": "markdown",
   "id": "77656f49-2a7c-41aa-ba77-7a2f027c2788",
   "metadata": {},
   "source": [
    "#### Fuse the dataframes together and drop duplicates"
   ]
  },
  {
   "cell_type": "code",
   "execution_count": 55,
   "id": "32b369ac-2653-4b4f-817e-a32f46844a90",
   "metadata": {},
   "outputs": [],
   "source": [
    "mediacom_merged = pd.concat([mediacom_df1,mediacom_df2]).drop_duplicates(subset=['Text'])"
   ]
  },
  {
   "cell_type": "code",
   "execution_count": 56,
   "id": "f3f0198a-bfa0-47da-832d-b4957e88f1f8",
   "metadata": {},
   "outputs": [
    {
     "data": {
      "text/plain": [
       "(142, 6)"
      ]
     },
     "execution_count": 56,
     "metadata": {},
     "output_type": "execute_result"
    }
   ],
   "source": [
    "mediacom_merged.shape"
   ]
  },
  {
   "cell_type": "markdown",
   "id": "8d2892d6",
   "metadata": {},
   "source": [
    "---"
   ]
  },
  {
   "cell_type": "markdown",
   "id": "6b5a4334-1a59-49a3-b2f4-6f3427b30978",
   "metadata": {},
   "source": [
    "### b. HughesNet "
   ]
  },
  {
   "cell_type": "code",
   "execution_count": 59,
   "id": "2eebe6cd-aa95-40b3-84d5-7938d08ce77c",
   "metadata": {},
   "outputs": [],
   "source": [
    "#Extract tweets on US ISP Mediacom\n",
    "hughesnet_query = \"\"\" HughesNet -from:HughesNet -from:HughessNet -from:AskHughes \"\"\""
   ]
  },
  {
   "cell_type": "code",
   "execution_count": 60,
   "id": "9414304b-5c5f-4e30-8172-d5cd66b2aa63",
   "metadata": {},
   "outputs": [],
   "source": [
    "#Pull the tweets\n",
    "hughesnet_tweets = api.search_30_day(dev_env, hughesnet_query, fromDate = '202111130000')\n",
    "hughesnet_tweets2 = api.search_30_day(dev_env, hughesnet_query, fromDate = '202110300000', toDate = '202111132359')"
   ]
  },
  {
   "cell_type": "code",
   "execution_count": 63,
   "id": "a7f7f690-6d2e-4f42-95bf-2e2bd9542c74",
   "metadata": {},
   "outputs": [
    {
     "name": "stdout",
     "output_type": "stream",
     "text": [
      "Row count dropped from 200 to 198\n"
     ]
    }
   ],
   "source": [
    "#Create pandas dataframe\n",
    "hughesnet_df1 = tweets_to_df('hughesnet',hughesnet_tweets)\n",
    "\n",
    "#Create pandas dataframe\n",
    "hughesnet_df2 = tweets_to_df('mediacom',hughesnet_tweets2)\n",
    "\n",
    "#Merge and drop duplicates\n",
    "hughesnet_merged = pd.concat([hughesnet_df1,hughesnet_df2]).drop_duplicates(subset=['Text'])\n",
    "\n",
    "print(f\"Row count dropped from {len(hughesnet_df1)+len(hughesnet_df2)} to {hughesnet_merged.shape[0]}\")"
   ]
  },
  {
   "cell_type": "markdown",
   "id": "1aac4223-7354-4350-b355-3f85f2f24ac2",
   "metadata": {},
   "source": [
    "---"
   ]
  },
  {
   "cell_type": "markdown",
   "id": "02444e7f-661b-4d4c-a105-7ca3d7510d78",
   "metadata": {},
   "source": [
    "### b. HughesNet "
   ]
  },
  {
   "cell_type": "code",
   "execution_count": 73,
   "id": "22dc10a2-f83e-4202-bab8-a302735ec31e",
   "metadata": {},
   "outputs": [],
   "source": [
    "cox = ['cox internet', ['-from:coxbusiness','CarolCox']]\n",
    "spectrum = ['spectrum internet',['-from:Ask_Spectrum','GetSpectrum','SpectrumBiz']]\n",
    "suddenlink = ['suddenlink internet', ['-from:SuddenlinkHelp']]\n",
    "xfinity = ['xfinity internet',['-from:Xfinity']]\n",
    "rcn_internet = ['rcn internet', ['-from:RCNconnects','RCNBusiness']]\n",
    "verizon = ['verizon internet',['-from:VerizonSupport']]"
   ]
  },
  {
   "cell_type": "code",
   "execution_count": 75,
   "id": "d5cf615c-a598-4d67-b960-23e4494a7bf7",
   "metadata": {},
   "outputs": [],
   "source": [
    "us_internet_df = pd.DataFrame()\n",
    "\n",
    "for isp in [cox,spectrum,suddenlink, xfinity, rcn_internet, verizon]:\n",
    "    \n",
    "    #Get handles to exclude\n",
    "    excl_handles = ' -from:'.join(isp[1])\n",
    "    \n",
    "    #Define the query\n",
    "    api_query = f\"\"\" {isp[0]} {excl_handles} \"\"\"\n",
    "    \n",
    "    #Extract tweets\n",
    "    tweets1 = api.search_30_day(dev_env, api_query, fromDate = '202110300000', toDate = '202111062359')\n",
    "    tweets2 = api.search_30_day(dev_env, api_query, fromDate = '202111070000', toDate = '202111142359')\n",
    "    tweets3 = api.search_30_day(dev_env, api_query, fromDate = '202111150000', toDate = '202111222359')\n",
    "    tweets4 = api.search_30_day(dev_env, api_query, fromDate = '202111230000')\n",
    "    \n",
    "    \n",
    "    #Create pandas dataframes\n",
    "    df1 = tweets_to_df(isp[0],tweets1)\n",
    "    df2 = tweets_to_df(isp[0],tweets2)\n",
    "    df3 = tweets_to_df(isp[0],tweets3)\n",
    "    df4 = tweets_to_df(isp[0],tweets4)\n",
    "    \n",
    "    #Merge and remove duplicates\n",
    "    us_merged_df = pd.concat([df1,df2,df3,df4]).drop_duplicates(subset=['Text'])\n",
    "    \n",
    "    #Append dataframe to the dataframe containing all the Nigerian ISPs tweets\n",
    "    us_internet_df = us_internet_df.append(us_merged_df)\n",
    "    "
   ]
  },
  {
   "cell_type": "code",
   "execution_count": 77,
   "id": "0646a59f-850a-4c30-a135-f7627e5bdc8d",
   "metadata": {},
   "outputs": [
    {
     "data": {
      "text/html": [
       "<div>\n",
       "<style scoped>\n",
       "    .dataframe tbody tr th:only-of-type {\n",
       "        vertical-align: middle;\n",
       "    }\n",
       "\n",
       "    .dataframe tbody tr th {\n",
       "        vertical-align: top;\n",
       "    }\n",
       "\n",
       "    .dataframe thead th {\n",
       "        text-align: right;\n",
       "    }\n",
       "</style>\n",
       "<table border=\"1\" class=\"dataframe\">\n",
       "  <thead>\n",
       "    <tr style=\"text-align: right;\">\n",
       "      <th></th>\n",
       "      <th>ISP_Name</th>\n",
       "      <th>Time</th>\n",
       "      <th>Text</th>\n",
       "      <th>Coordinates</th>\n",
       "      <th>Place</th>\n",
       "      <th>Source</th>\n",
       "    </tr>\n",
       "  </thead>\n",
       "  <tbody>\n",
       "    <tr>\n",
       "      <th>0</th>\n",
       "      <td>cox internet</td>\n",
       "      <td>2021-11-06 23:19:40+00:00</td>\n",
       "      <td>Hey COX is internet down in the 89101 area?</td>\n",
       "      <td>None</td>\n",
       "      <td>None</td>\n",
       "      <td>Twitter for iPhone</td>\n",
       "    </tr>\n",
       "    <tr>\n",
       "      <th>1</th>\n",
       "      <td>cox internet</td>\n",
       "      <td>2021-11-06 22:50:08+00:00</td>\n",
       "      <td>#PartnersInAction: Cox Communications wants to...</td>\n",
       "      <td>None</td>\n",
       "      <td>None</td>\n",
       "      <td>Twitter Web App</td>\n",
       "    </tr>\n",
       "    <tr>\n",
       "      <th>2</th>\n",
       "      <td>cox internet</td>\n",
       "      <td>2021-11-06 21:46:03+00:00</td>\n",
       "      <td>@CTrevorNelson @Verizon @ATT I discovered the ...</td>\n",
       "      <td>None</td>\n",
       "      <td>None</td>\n",
       "      <td>Twitter Web App</td>\n",
       "    </tr>\n",
       "    <tr>\n",
       "      <th>3</th>\n",
       "      <td>cox internet</td>\n",
       "      <td>2021-11-06 21:41:24+00:00</td>\n",
       "      <td>Internet can't seem to keep it steady at all.....</td>\n",
       "      <td>None</td>\n",
       "      <td>None</td>\n",
       "      <td>Twitter for Android</td>\n",
       "    </tr>\n",
       "    <tr>\n",
       "      <th>4</th>\n",
       "      <td>cox internet</td>\n",
       "      <td>2021-11-06 20:22:22+00:00</td>\n",
       "      <td>@J21SportsFan @PigLouie Dumb question but it r...</td>\n",
       "      <td>None</td>\n",
       "      <td>None</td>\n",
       "      <td>Twitter for iPhone</td>\n",
       "    </tr>\n",
       "  </tbody>\n",
       "</table>\n",
       "</div>"
      ],
      "text/plain": [
       "       ISP_Name                      Time  \\\n",
       "0  cox internet 2021-11-06 23:19:40+00:00   \n",
       "1  cox internet 2021-11-06 22:50:08+00:00   \n",
       "2  cox internet 2021-11-06 21:46:03+00:00   \n",
       "3  cox internet 2021-11-06 21:41:24+00:00   \n",
       "4  cox internet 2021-11-06 20:22:22+00:00   \n",
       "\n",
       "                                                Text Coordinates Place  \\\n",
       "0        Hey COX is internet down in the 89101 area?        None  None   \n",
       "1  #PartnersInAction: Cox Communications wants to...        None  None   \n",
       "2  @CTrevorNelson @Verizon @ATT I discovered the ...        None  None   \n",
       "3  Internet can't seem to keep it steady at all.....        None  None   \n",
       "4  @J21SportsFan @PigLouie Dumb question but it r...        None  None   \n",
       "\n",
       "                Source  \n",
       "0   Twitter for iPhone  \n",
       "1      Twitter Web App  \n",
       "2      Twitter Web App  \n",
       "3  Twitter for Android  \n",
       "4   Twitter for iPhone  "
      ]
     },
     "execution_count": 77,
     "metadata": {},
     "output_type": "execute_result"
    }
   ],
   "source": [
    "us_internet_df.head()"
   ]
  },
  {
   "cell_type": "code",
   "execution_count": 79,
   "id": "02e9140c-073b-4246-92aa-9a06114075bc",
   "metadata": {},
   "outputs": [],
   "source": [
    "final_nov_27th_df = pd.concat([nigerian_isp_df, mediacom_merged, hughesnet_merged, us_internet_df])"
   ]
  },
  {
   "cell_type": "code",
   "execution_count": 82,
   "id": "ff25c08c-cc89-4a0c-a752-80ddb07bb787",
   "metadata": {},
   "outputs": [],
   "source": [
    "final_nov_27th_df.to_csv(\"../../data/analogous-data/analogous_tweets_nov_27.csv\",index=False)"
   ]
  },
  {
   "cell_type": "markdown",
   "id": "fdbfba05",
   "metadata": {},
   "source": [
    "---"
   ]
  },
  {
   "cell_type": "code",
   "execution_count": null,
   "id": "80ad0127-04d9-4df6-83d8-4dab8eecc77d",
   "metadata": {},
   "outputs": [],
   "source": []
  }
 ],
 "metadata": {
  "kernelspec": {
   "display_name": "Python 3 (ipykernel)",
   "language": "python",
   "name": "python3"
  },
  "language_info": {
   "codemirror_mode": {
    "name": "ipython",
    "version": 3
   },
   "file_extension": ".py",
   "mimetype": "text/x-python",
   "name": "python",
   "nbconvert_exporter": "python",
   "pygments_lexer": "ipython3",
   "version": "3.7.11"
  }
 },
 "nbformat": 4,
 "nbformat_minor": 5
}
