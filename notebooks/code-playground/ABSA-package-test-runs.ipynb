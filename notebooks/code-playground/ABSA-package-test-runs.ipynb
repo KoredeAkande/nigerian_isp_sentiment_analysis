{
 "cells": [
  {
   "cell_type": "markdown",
   "id": "27e5332d-4607-4eac-ac37-cbed905cbaa8",
   "metadata": {},
   "source": [
    "## Without Professor"
   ]
  },
  {
   "cell_type": "code",
   "execution_count": 1,
   "id": "5b073fe5-6be5-437b-9ede-f87a82c3dcf2",
   "metadata": {},
   "outputs": [
    {
     "name": "stderr",
     "output_type": "stream",
     "text": [
      "2021-12-07 11:08:04.855483: I tensorflow/core/platform/cpu_feature_guard.cc:142] This TensorFlow binary is optimized with oneAPI Deep Neural Network Library (oneDNN) to use the following CPU instructions in performance-critical operations:  AVX2 FMA\n",
      "To enable them in other operations, rebuild TensorFlow with the appropriate compiler flags.\n"
     ]
    }
   ],
   "source": [
    "import aspect_based_sentiment_analysis as absa"
   ]
  },
  {
   "cell_type": "code",
   "execution_count": 2,
   "id": "10afdeca-b2eb-4abd-97d1-8eaf3b73a956",
   "metadata": {},
   "outputs": [
    {
     "name": "stderr",
     "output_type": "stream",
     "text": [
      "Some layers from the model checkpoint at absa/classifier-rest-0.2 were not used when initializing BertABSClassifier: ['dropout_379']\n",
      "- This IS expected if you are initializing BertABSClassifier from the checkpoint of a model trained on another task or with another architecture (e.g. initializing a BertForSequenceClassification model from a BertForPreTraining model).\n",
      "- This IS NOT expected if you are initializing BertABSClassifier from the checkpoint of a model that you expect to be exactly identical (initializing a BertForSequenceClassification model from a BertForSequenceClassification model).\n",
      "Some layers of BertABSClassifier were not initialized from the model checkpoint at absa/classifier-rest-0.2 and are newly initialized: ['dropout_37']\n",
      "You should probably TRAIN this model on a down-stream task to be able to use it for predictions and inference.\n"
     ]
    }
   ],
   "source": [
    "nlp = absa.load()"
   ]
  },
  {
   "cell_type": "code",
   "execution_count": 3,
   "id": "63516d29-3a33-4c1e-b521-5b0fb099aec6",
   "metadata": {},
   "outputs": [],
   "source": [
    "sentiment = nlp('customer reps over the phone spectranetng usually hv helpful responses but today twas like both ladies i spoke with had awful meetings with their boss its funny how they end the call with thank you for choosing spectranet without even letting me finish mcustomerfirst' ,aspects = ['customer service'])"
   ]
  },
  {
   "cell_type": "code",
   "execution_count": 4,
   "id": "2db827e9-8e99-470f-b631-7da4e310063b",
   "metadata": {},
   "outputs": [
    {
     "data": {
      "text/plain": [
       "CompletedTask(text='customer reps over the phone spectranetng usually hv helpful responses but today twas like both ladies i spoke with had awful meetings with their boss its funny how they end the call with thank you for choosing spectranet without even letting me finish mcustomerfirst', aspects=['customer service'], subtasks=OrderedDict([('customer service', CompletedSubTask(text='customer reps over the phone spectranetng usually hv helpful responses but today twas like both ladies i spoke with had awful meetings with their boss its funny how they end the call with thank you for choosing spectranet without even letting me finish mcustomerfirst', aspect='customer service', examples=[PredictedExample(text='customer reps over the phone spectranetng usually hv helpful responses but today twas like both ladies i spoke with had awful meetings with their boss its funny how they end the call with thank you for choosing spectranet without even letting me finish mcustomerfirst', aspect='customer service', sentiment=<Sentiment.positive: 2>, text_tokens=['customer', 'reps', 'over', 'the', 'phone', 'spectranetng', 'usually', 'hv', 'helpful', 'responses', 'but', 'today', 'twas', 'like', 'both', 'ladies', 'i', 'spoke', 'with', 'had', 'awful', 'meetings', 'with', 'their', 'boss', 'its', 'funny', 'how', 'they', 'end', 'the', 'call', 'with', 'thank', 'you', 'for', 'choosing', 'spectranet', 'without', 'even', 'letting', 'me', 'finish', 'mcustomerfirst'], text_subtokens=['customer', 'rep', '##s', 'over', 'the', 'phone', 'spectra', '##net', '##ng', 'usually', 'h', '##v', 'helpful', 'responses', 'but', 'today', 't', '##was', 'like', 'both', 'ladies', 'i', 'spoke', 'with', 'had', 'awful', 'meetings', 'with', 'their', 'boss', 'its', 'funny', 'how', 'they', 'end', 'the', 'call', 'with', 'thank', 'you', 'for', 'choosing', 'spectra', '##net', 'without', 'even', 'letting', 'me', 'finish', 'mc', '##ust', '##ome', '##rf', '##irs', '##t'], aspect_tokens=['customer', 'service'], aspect_subtokens=['customer', 'service'], tokens=['[CLS]', 'customer', 'reps', 'over', 'the', 'phone', 'spectranetng', 'usually', 'hv', 'helpful', 'responses', 'but', 'today', 'twas', 'like', 'both', 'ladies', 'i', 'spoke', 'with', 'had', 'awful', 'meetings', 'with', 'their', 'boss', 'its', 'funny', 'how', 'they', 'end', 'the', 'call', 'with', 'thank', 'you', 'for', 'choosing', 'spectranet', 'without', 'even', 'letting', 'me', 'finish', 'mcustomerfirst', '[SEP]', 'customer', 'service', '[SEP]'], subtokens=['[CLS]', 'customer', 'rep', '##s', 'over', 'the', 'phone', 'spectra', '##net', '##ng', 'usually', 'h', '##v', 'helpful', 'responses', 'but', 'today', 't', '##was', 'like', 'both', 'ladies', 'i', 'spoke', 'with', 'had', 'awful', 'meetings', 'with', 'their', 'boss', 'its', 'funny', 'how', 'they', 'end', 'the', 'call', 'with', 'thank', 'you', 'for', 'choosing', 'spectra', '##net', 'without', 'even', 'letting', 'me', 'finish', 'mc', '##ust', '##ome', '##rf', '##irs', '##t', '[SEP]', 'customer', 'service', '[SEP]'], alignment=[[0], [1], [2, 3], [4], [5], [6], [7, 8, 9], [10], [11, 12], [13], [14], [15], [16], [17, 18], [19], [20], [21], [22], [23], [24], [25], [26], [27], [28], [29], [30], [31], [32], [33], [34], [35], [36], [37], [38], [39], [40], [41], [42], [43, 44], [45], [46], [47], [48], [49], [50, 51, 52, 53, 54, 55], [56], [57], [58], [59]], scores=[0.03522514, 0.2998758, 0.664899], review=Review(is_reference=None, patterns=None))], sentiment=<Sentiment.positive: 2>, scores=[0.035225146, 0.29987583, 0.66489905]))]))"
      ]
     },
     "execution_count": 4,
     "metadata": {},
     "output_type": "execute_result"
    }
   ],
   "source": [
    "sentiment"
   ]
  },
  {
   "cell_type": "code",
   "execution_count": 11,
   "id": "bbf761e7-81f9-4042-af8c-9bd9f36164d1",
   "metadata": {},
   "outputs": [
    {
     "name": "stdout",
     "output_type": "stream",
     "text": [
      "[0.03522509, 0.29987487, 0.66490006]\n"
     ]
    }
   ],
   "source": [
    "print(sentiment.subtasks['customer service'].examples[0].scores)"
   ]
  },
  {
   "cell_type": "code",
   "execution_count": 38,
   "id": "ffb1bfb0-95ae-4153-b5ca-867d26e70c4b",
   "metadata": {},
   "outputs": [
    {
     "data": {
      "text/plain": [
       "['Positive']"
      ]
     },
     "execution_count": 38,
     "metadata": {},
     "output_type": "execute_result"
    }
   ],
   "source": []
  },
  {
   "cell_type": "code",
   "execution_count": null,
   "id": "2f38a678-6091-4206-87f1-c55564ca376a",
   "metadata": {},
   "outputs": [
    {
     "data": {
      "text/plain": [
       "OrderedDict([('customer service',\n",
       "              CompletedSubTask(text='customer reps over the phone spectranetng usually hv helpful responses but today twas like both ladies i spoke with had awful meetings with their boss its funny how they end the call with thank you for choosing spectranet without even letting me finish mcustomerfirst', aspect='customer service', examples=[PredictedExample(text='customer reps over the phone spectranetng usually hv helpful responses but today twas like both ladies i spoke with had awful meetings with their boss its funny how they end the call with thank you for choosing spectranet without even letting me finish mcustomerfirst', aspect='customer service', sentiment=<Sentiment.positive: 2>, text_tokens=['customer', 'reps', 'over', 'the', 'phone', 'spectranetng', 'usually', 'hv', 'helpful', 'responses', 'but', 'today', 'twas', 'like', 'both', 'ladies', 'i', 'spoke', 'with', 'had', 'awful', 'meetings', 'with', 'their', 'boss', 'its', 'funny', 'how', 'they', 'end', 'the', 'call', 'with', 'thank', 'you', 'for', 'choosing', 'spectranet', 'without', 'even', 'letting', 'me', 'finish', 'mcustomerfirst'], text_subtokens=['customer', 'rep', '##s', 'over', 'the', 'phone', 'spectra', '##net', '##ng', 'usually', 'h', '##v', 'helpful', 'responses', 'but', 'today', 't', '##was', 'like', 'both', 'ladies', 'i', 'spoke', 'with', 'had', 'awful', 'meetings', 'with', 'their', 'boss', 'its', 'funny', 'how', 'they', 'end', 'the', 'call', 'with', 'thank', 'you', 'for', 'choosing', 'spectra', '##net', 'without', 'even', 'letting', 'me', 'finish', 'mc', '##ust', '##ome', '##rf', '##irs', '##t'], aspect_tokens=['customer', 'service'], aspect_subtokens=['customer', 'service'], tokens=['[CLS]', 'customer', 'reps', 'over', 'the', 'phone', 'spectranetng', 'usually', 'hv', 'helpful', 'responses', 'but', 'today', 'twas', 'like', 'both', 'ladies', 'i', 'spoke', 'with', 'had', 'awful', 'meetings', 'with', 'their', 'boss', 'its', 'funny', 'how', 'they', 'end', 'the', 'call', 'with', 'thank', 'you', 'for', 'choosing', 'spectranet', 'without', 'even', 'letting', 'me', 'finish', 'mcustomerfirst', '[SEP]', 'customer', 'service', '[SEP]'], subtokens=['[CLS]', 'customer', 'rep', '##s', 'over', 'the', 'phone', 'spectra', '##net', '##ng', 'usually', 'h', '##v', 'helpful', 'responses', 'but', 'today', 't', '##was', 'like', 'both', 'ladies', 'i', 'spoke', 'with', 'had', 'awful', 'meetings', 'with', 'their', 'boss', 'its', 'funny', 'how', 'they', 'end', 'the', 'call', 'with', 'thank', 'you', 'for', 'choosing', 'spectra', '##net', 'without', 'even', 'letting', 'me', 'finish', 'mc', '##ust', '##ome', '##rf', '##irs', '##t', '[SEP]', 'customer', 'service', '[SEP]'], alignment=[[0], [1], [2, 3], [4], [5], [6], [7, 8, 9], [10], [11, 12], [13], [14], [15], [16], [17, 18], [19], [20], [21], [22], [23], [24], [25], [26], [27], [28], [29], [30], [31], [32], [33], [34], [35], [36], [37], [38], [39], [40], [41], [42], [43, 44], [45], [46], [47], [48], [49], [50, 51, 52, 53, 54, 55], [56], [57], [58], [59]], scores=[0.03522509, 0.29987487, 0.66490006], review=Review(is_reference=None, patterns=None))], sentiment=<Sentiment.positive: 2>, scores=[0.03522509, 0.29987487, 0.66490006])),\n",
       "             ('price',\n",
       "              CompletedSubTask(text='customer reps over the phone spectranetng usually hv helpful responses but today twas like both ladies i spoke with had awful meetings with their boss its funny how they end the call with thank you for choosing spectranet without even letting me finish mcustomerfirst', aspect='price', examples=[PredictedExample(text='customer reps over the phone spectranetng usually hv helpful responses but today twas like both ladies i spoke with had awful meetings with their boss its funny how they end the call with thank you for choosing spectranet without even letting me finish mcustomerfirst', aspect='price', sentiment=<Sentiment.negative: 1>, text_tokens=['customer', 'reps', 'over', 'the', 'phone', 'spectranetng', 'usually', 'hv', 'helpful', 'responses', 'but', 'today', 'twas', 'like', 'both', 'ladies', 'i', 'spoke', 'with', 'had', 'awful', 'meetings', 'with', 'their', 'boss', 'its', 'funny', 'how', 'they', 'end', 'the', 'call', 'with', 'thank', 'you', 'for', 'choosing', 'spectranet', 'without', 'even', 'letting', 'me', 'finish', 'mcustomerfirst'], text_subtokens=['customer', 'rep', '##s', 'over', 'the', 'phone', 'spectra', '##net', '##ng', 'usually', 'h', '##v', 'helpful', 'responses', 'but', 'today', 't', '##was', 'like', 'both', 'ladies', 'i', 'spoke', 'with', 'had', 'awful', 'meetings', 'with', 'their', 'boss', 'its', 'funny', 'how', 'they', 'end', 'the', 'call', 'with', 'thank', 'you', 'for', 'choosing', 'spectra', '##net', 'without', 'even', 'letting', 'me', 'finish', 'mc', '##ust', '##ome', '##rf', '##irs', '##t'], aspect_tokens=['price'], aspect_subtokens=['price'], tokens=['[CLS]', 'customer', 'reps', 'over', 'the', 'phone', 'spectranetng', 'usually', 'hv', 'helpful', 'responses', 'but', 'today', 'twas', 'like', 'both', 'ladies', 'i', 'spoke', 'with', 'had', 'awful', 'meetings', 'with', 'their', 'boss', 'its', 'funny', 'how', 'they', 'end', 'the', 'call', 'with', 'thank', 'you', 'for', 'choosing', 'spectranet', 'without', 'even', 'letting', 'me', 'finish', 'mcustomerfirst', '[SEP]', 'price', '[SEP]'], subtokens=['[CLS]', 'customer', 'rep', '##s', 'over', 'the', 'phone', 'spectra', '##net', '##ng', 'usually', 'h', '##v', 'helpful', 'responses', 'but', 'today', 't', '##was', 'like', 'both', 'ladies', 'i', 'spoke', 'with', 'had', 'awful', 'meetings', 'with', 'their', 'boss', 'its', 'funny', 'how', 'they', 'end', 'the', 'call', 'with', 'thank', 'you', 'for', 'choosing', 'spectra', '##net', 'without', 'even', 'letting', 'me', 'finish', 'mc', '##ust', '##ome', '##rf', '##irs', '##t', '[SEP]', 'price', '[SEP]'], alignment=[[0], [1], [2, 3], [4], [5], [6], [7, 8, 9], [10], [11, 12], [13], [14], [15], [16], [17, 18], [19], [20], [21], [22], [23], [24], [25], [26], [27], [28], [29], [30], [31], [32], [33], [34], [35], [36], [37], [38], [39], [40], [41], [42], [43, 44], [45], [46], [47], [48], [49], [50, 51, 52, 53, 54, 55], [56], [57], [58]], scores=[0.07513453, 0.8896612, 0.035204284], review=Review(is_reference=None, patterns=None))], sentiment=<Sentiment.negative: 1>, scores=[0.07513453, 0.8896612, 0.035204284]))])"
      ]
     },
     "execution_count": 32,
     "metadata": {},
     "output_type": "execute_result"
    }
   ],
   "source": []
  },
  {
   "cell_type": "markdown",
   "id": "b4c40b35-7f37-42a7-81c3-68935dba23a9",
   "metadata": {},
   "source": [
    "---examples"
   ]
  },
  {
   "cell_type": "markdown",
   "id": "c31fbb2b-2871-416e-b135-a1ac11cbb3ce",
   "metadata": {},
   "source": [
    "## With Professor"
   ]
  },
  {
   "cell_type": "code",
   "execution_count": 17,
   "id": "2e8f9511-d7ac-4e9c-9f17-8310ef95e1f4",
   "metadata": {},
   "outputs": [],
   "source": [
    "pattern_recognizer = absa.aux_models.BasicPatternRecognizer()\n",
    "ref_recognizer = absa.aux_models.BasicReferenceRecognizer(weights=(-0.025, 44))"
   ]
  },
  {
   "cell_type": "code",
   "execution_count": 70,
   "id": "752616ca-872d-4db8-8cd3-98695523f4c8",
   "metadata": {},
   "outputs": [
    {
     "name": "stderr",
     "output_type": "stream",
     "text": [
      "You are using a model of type roberta to instantiate a model of type bert. This is not supported for all configurations of models and can yield errors.\n"
     ]
    },
    {
     "ename": "AttributeError",
     "evalue": "'BertConfig' object has no attribute 'num_polarities'",
     "output_type": "error",
     "traceback": [
      "\u001b[0;31m---------------------------------------------------------------------------\u001b[0m",
      "\u001b[0;31mAttributeError\u001b[0m                            Traceback (most recent call last)",
      "\u001b[0;32m/var/folders/j5/540q0bw12gx3g56qg4llbmlh0000gn/T/ipykernel_13895/1438206002.py\u001b[0m in \u001b[0;36m<module>\u001b[0;34m\u001b[0m\n\u001b[1;32m      2\u001b[0m \u001b[0;31m#name = 'absa/classifier-lapt-0.2'\u001b[0m\u001b[0;34m\u001b[0m\u001b[0;34m\u001b[0m\u001b[0;34m\u001b[0m\u001b[0m\n\u001b[1;32m      3\u001b[0m \u001b[0mname\u001b[0m \u001b[0;34m=\u001b[0m \u001b[0;34m\"finiteautomata/bertweet-base-sentiment-analysis\"\u001b[0m\u001b[0;34m\u001b[0m\u001b[0;34m\u001b[0m\u001b[0m\n\u001b[0;32m----> 4\u001b[0;31m \u001b[0mmodel\u001b[0m \u001b[0;34m=\u001b[0m \u001b[0mabsa\u001b[0m\u001b[0;34m.\u001b[0m\u001b[0mBertABSClassifier\u001b[0m\u001b[0;34m.\u001b[0m\u001b[0mfrom_pretrained\u001b[0m\u001b[0;34m(\u001b[0m\u001b[0;34m'../models/bertweet/checkpoint-100'\u001b[0m\u001b[0;34m,\u001b[0m \u001b[0mfrom_pt\u001b[0m \u001b[0;34m=\u001b[0m \u001b[0;32mTrue\u001b[0m\u001b[0;34m)\u001b[0m\u001b[0;34m\u001b[0m\u001b[0;34m\u001b[0m\u001b[0m\n\u001b[0m\u001b[1;32m      5\u001b[0m \u001b[0mtokenizer\u001b[0m \u001b[0;34m=\u001b[0m \u001b[0mAutoTokenizer\u001b[0m\u001b[0;34m.\u001b[0m\u001b[0mfrom_pretrained\u001b[0m\u001b[0;34m(\u001b[0m\u001b[0mname\u001b[0m\u001b[0;34m)\u001b[0m\u001b[0;34m\u001b[0m\u001b[0;34m\u001b[0m\u001b[0m\n\u001b[1;32m      6\u001b[0m professor = absa.Professor(reference_recognizer = ref_recognizer,\n",
      "\u001b[0;32m~/opt/anaconda3/envs/capstone/lib/python3.7/site-packages/transformers/modeling_tf_utils.py\u001b[0m in \u001b[0;36mfrom_pretrained\u001b[0;34m(cls, pretrained_model_name_or_path, *model_args, **kwargs)\u001b[0m\n\u001b[1;32m   1282\u001b[0m \u001b[0;34m\u001b[0m\u001b[0m\n\u001b[1;32m   1283\u001b[0m         \u001b[0;31m# Instantiate model.\u001b[0m\u001b[0;34m\u001b[0m\u001b[0;34m\u001b[0m\u001b[0;34m\u001b[0m\u001b[0m\n\u001b[0;32m-> 1284\u001b[0;31m         \u001b[0mmodel\u001b[0m \u001b[0;34m=\u001b[0m \u001b[0mcls\u001b[0m\u001b[0;34m(\u001b[0m\u001b[0mconfig\u001b[0m\u001b[0;34m,\u001b[0m \u001b[0;34m*\u001b[0m\u001b[0mmodel_args\u001b[0m\u001b[0;34m,\u001b[0m \u001b[0;34m**\u001b[0m\u001b[0mmodel_kwargs\u001b[0m\u001b[0;34m)\u001b[0m\u001b[0;34m\u001b[0m\u001b[0;34m\u001b[0m\u001b[0m\n\u001b[0m\u001b[1;32m   1285\u001b[0m \u001b[0;34m\u001b[0m\u001b[0m\n\u001b[1;32m   1286\u001b[0m         \u001b[0;32mif\u001b[0m \u001b[0mfrom_pt\u001b[0m\u001b[0;34m:\u001b[0m\u001b[0;34m\u001b[0m\u001b[0;34m\u001b[0m\u001b[0m\n",
      "\u001b[0;32m~/opt/anaconda3/envs/capstone/lib/python3.7/site-packages/aspect_based_sentiment_analysis/models.py\u001b[0m in \u001b[0;36m__init__\u001b[0;34m(self, config, **kwargs)\u001b[0m\n\u001b[1;32m    131\u001b[0m         \u001b[0mself\u001b[0m\u001b[0;34m.\u001b[0m\u001b[0mdropout\u001b[0m \u001b[0;34m=\u001b[0m \u001b[0mlayers\u001b[0m\u001b[0;34m.\u001b[0m\u001b[0mDropout\u001b[0m\u001b[0;34m(\u001b[0m\u001b[0mconfig\u001b[0m\u001b[0;34m.\u001b[0m\u001b[0mhidden_dropout_prob\u001b[0m\u001b[0;34m)\u001b[0m\u001b[0;34m\u001b[0m\u001b[0;34m\u001b[0m\u001b[0m\n\u001b[1;32m    132\u001b[0m         self.classifier = layers.Dense(\n\u001b[0;32m--> 133\u001b[0;31m             \u001b[0mconfig\u001b[0m\u001b[0;34m.\u001b[0m\u001b[0mnum_polarities\u001b[0m\u001b[0;34m,\u001b[0m\u001b[0;34m\u001b[0m\u001b[0;34m\u001b[0m\u001b[0m\n\u001b[0m\u001b[1;32m    134\u001b[0m             \u001b[0mkernel_initializer\u001b[0m\u001b[0;34m=\u001b[0m\u001b[0minitializer\u001b[0m\u001b[0;34m,\u001b[0m\u001b[0;34m\u001b[0m\u001b[0;34m\u001b[0m\u001b[0m\n\u001b[1;32m    135\u001b[0m             \u001b[0mname\u001b[0m\u001b[0;34m=\u001b[0m\u001b[0;34m'classifier'\u001b[0m\u001b[0;34m\u001b[0m\u001b[0;34m\u001b[0m\u001b[0m\n",
      "\u001b[0;31mAttributeError\u001b[0m: 'BertConfig' object has no attribute 'num_polarities'"
     ]
    }
   ],
   "source": [
    "from transformers import AutoTokenizer\n",
    "#name = 'absa/classifier-lapt-0.2'\n",
    "name = \"finiteautomata/bertweet-base-sentiment-analysis\"\n",
    "model = absa.BertABSClassifier.from_pretrained('../models/bertweet/checkpoint-100', from_pt = True)\n",
    "tokenizer = AutoTokenizer.from_pretrained(name)\n",
    "professor = absa.Professor(reference_recognizer = ref_recognizer,\n",
    "                           pattern_recognizer=pattern_recognizer)  "
   ]
  },
  {
   "cell_type": "code",
   "execution_count": 61,
   "id": "6b137592-026b-4b7d-8587-341d93411739",
   "metadata": {},
   "outputs": [],
   "source": [
    "text_splitter = absa.sentencizer()  # The English CNN model from SpaCy.\n",
    "nlp = absa.Pipeline(model, tokenizer, professor, text_splitter)\n",
    "task = nlp(text=\"Their customer service is rubbish.\", \n",
    "           aspects=['customer service','price','speed'])\n",
    "tokenized_examples = nlp.tokenize(task.examples)\n",
    "input_batch = nlp.encode(tokenized_examples)\n",
    "output_batch = nlp.predict(input_batch)\n",
    "predictions = nlp.review(tokenized_examples, output_batch)\n",
    "completed_task = nlp.postprocess(task, predictions)"
   ]
  },
  {
   "cell_type": "code",
   "execution_count": 63,
   "id": "65cb6dba-a319-48c0-bb1c-45da9f51aec4",
   "metadata": {},
   "outputs": [
    {
     "data": {
      "text/plain": [
       "PredictedExample(text='Their customer service is rubbish.', aspect='price', sentiment=<Sentiment.negative: 1>, text_tokens=['their', 'customer', 'service', 'is', 'rubbish', '.'], text_subtokens=['their', 'customer', 'service', 'is', 'rubbish', '.'], aspect_tokens=['price'], aspect_subtokens=['price'], tokens=['[CLS]', 'their', 'customer', 'service', 'is', 'rubbish', '.', '[SEP]', 'price', '[SEP]'], subtokens=['[CLS]', 'their', 'customer', 'service', 'is', 'rubbish', '.', '[SEP]', 'price', '[SEP]'], alignment=[[0], [1], [2], [3], [4], [5], [6], [7], [8], [9]], scores=[0.0013653693, 0.9974021, 0.0012326258], review=Review(is_reference=True, patterns=[Pattern(importance=1.0, tokens=['their', 'customer', 'service', 'is', 'rubbish', '.'], weights=[0.83, 0.85, 0.92, 0.98, 1.0, 0.75]), Pattern(importance=0.59, tokens=['their', 'customer', 'service', 'is', 'rubbish', '.'], weights=[0.59, 0.59, 0.53, 0.25, 0.5, 0.28]), Pattern(importance=0.55, tokens=['their', 'customer', 'service', 'is', 'rubbish', '.'], weights=[0.24, 0.55, 0.55, 0.17, 0.3, 0.1]), Pattern(importance=0.55, tokens=['their', 'customer', 'service', 'is', 'rubbish', '.'], weights=[0.33, 0.16, 0.15, 0.21, 0.55, 0.55]), Pattern(importance=0.49, tokens=['their', 'customer', 'service', 'is', 'rubbish', '.'], weights=[0.35, 0.49, 0.49, 0.11, 0.32, 0.12])]))"
      ]
     },
     "execution_count": 63,
     "metadata": {},
     "output_type": "execute_result"
    }
   ],
   "source": [
    "completed_task.examples[-2]"
   ]
  },
  {
   "cell_type": "code",
   "execution_count": 47,
   "id": "bf006df1-e25c-4ad4-a70c-c2638727cedd",
   "metadata": {},
   "outputs": [
    {
     "data": {
      "text/plain": [
       "<Sentiment.neutral: 0>"
      ]
     },
     "execution_count": 47,
     "metadata": {},
     "output_type": "execute_result"
    }
   ],
   "source": [
    "completed_task.examples[-1].sentiment"
   ]
  },
  {
   "cell_type": "code",
   "execution_count": 40,
   "id": "ce4a5278-1cae-41d7-bd61-65232b514870",
   "metadata": {},
   "outputs": [],
   "source": [
    "processor = completed_task.subtasks['processor']"
   ]
  },
  {
   "cell_type": "code",
   "execution_count": 41,
   "id": "4f5777e9-e36b-45e8-9e19-5468d9faff76",
   "metadata": {},
   "outputs": [
    {
     "data": {
      "text/plain": [
       "[0.0009443830162583486, 0.0008446105472296717, 0.998211006436512]"
      ]
     },
     "execution_count": 41,
     "metadata": {},
     "output_type": "execute_result"
    }
   ],
   "source": [
    "processor.scores"
   ]
  },
  {
   "cell_type": "code",
   "execution_count": null,
   "id": "9b4f5dc6-3711-4c67-a573-e724a850fbb0",
   "metadata": {},
   "outputs": [],
   "source": []
  },
  {
   "cell_type": "code",
   "execution_count": null,
   "id": "bcb1697e-6d2f-4bbb-bddb-88952bf6e790",
   "metadata": {},
   "outputs": [],
   "source": []
  },
  {
   "cell_type": "code",
   "execution_count": null,
   "id": "48346705-18e4-4a24-bd51-c1aa68ba1bc0",
   "metadata": {},
   "outputs": [],
   "source": [
    "import aspect_based_sentiment_analysis as absa\n",
    "\n",
    "recognizer = absa.aux_models.BasicPatternRecognizer()\n",
    "nlp = absa.load(pattern_recognizer=recognizer)\n",
    "completed_task = nlp(text=..., aspects=['slack', 'price'])\n",
    "slack, price = completed_task.examples\n",
    "\n",
    "absa.summary(slack)\n",
    "absa.display(slack.review)"
   ]
  },
  {
   "cell_type": "code",
   "execution_count": 80,
   "id": "6df15f3b-7f77-47f2-8734-6223bac5a1f7",
   "metadata": {},
   "outputs": [],
   "source": [
    "tweets_with_sentiment = df.query(\"(sentiment == 'Negative') or (sentiment == 'Positive')\")"
   ]
  },
  {
   "cell_type": "code",
   "execution_count": null,
   "id": "ce56a39b-b853-4f44-bb4e-a59c9ef963b9",
   "metadata": {},
   "outputs": [
    {
     "data": {
      "text/plain": [
       "'spectranetng dontusespectranet incredibly poor network coverage and connectivity coupled with swift cellular data drain and extremely rude customer service representatives earn this cruel joke of a network a subzero rating i definitely wouldnt recommend this excuse for a network to anyone probably is the product of professional scammers determined to separate people from their hardearned cash'"
      ]
     },
     "execution_count": 84,
     "metadata": {},
     "output_type": "execute_result"
    }
   ],
   "source": [
    "text"
   ]
  },
  {
   "cell_type": "code",
   "execution_count": null,
   "id": "86159a93-67b7-479f-a54f-fe26a60cad2e",
   "metadata": {},
   "outputs": [
    {
     "name": "stdout",
     "output_type": "stream",
     "text": [
      "Sentiment.negative for \"coverage\"\n",
      "Scores (neutral/negative/positive): [0.001 0.985 0.013]\n"
     ]
    },
    {
     "data": {
      "text/html": [
       "<span style=\"background-color:rgba(180,180,180,1.1111111111111112);\">Importance 1.00</span> <span style=\"background-color:rgba(135,206,250,0.15);\">spectranetng</span> <span style=\"background-color:rgba(135,206,250,0.675);\">dontusespectranet</span> <span style=\"background-color:rgba(135,206,250,0.5625);\">incredibly</span> <span style=\"background-color:rgba(135,206,250,1.25);\">poor</span> <span style=\"background-color:rgba(135,206,250,0.22499999999999998);\">network</span> <span style=\"background-color:rgba(135,206,250,1.25);\">coverage</span> <span style=\"background-color:rgba(135,206,250,0.2375);\">and</span> <span style=\"background-color:rgba(135,206,250,0.2375);\">connectivity</span> <span style=\"background-color:rgba(135,206,250,0.3);\">coupled</span> <span style=\"background-color:rgba(135,206,250,0.125);\">with</span> <span style=\"background-color:rgba(135,206,250,0.049999999999999996);\">swift</span> <span style=\"background-color:rgba(135,206,250,0.0375);\">cellular</span> <span style=\"background-color:rgba(135,206,250,0.0375);\">data</span> <span style=\"background-color:rgba(135,206,250,0.049999999999999996);\">drain</span> <span style=\"background-color:rgba(135,206,250,0.09999999999999999);\">and</span> <span style=\"background-color:rgba(135,206,250,0.09999999999999999);\">extremely</span> <span style=\"background-color:rgba(135,206,250,0.2375);\">rude</span> <span style=\"background-color:rgba(135,206,250,0.0375);\">customer</span> <span style=\"background-color:rgba(135,206,250,0.0375);\">service</span> <span style=\"background-color:rgba(135,206,250,0.049999999999999996);\">representatives</span> <span style=\"background-color:rgba(135,206,250,0.08750000000000001);\">earn</span> <span style=\"background-color:rgba(135,206,250,0.024999999999999998);\">this</span> <span style=\"background-color:rgba(135,206,250,0.0375);\">cruel</span> <span style=\"background-color:rgba(135,206,250,0.0375);\">joke</span> <span style=\"background-color:rgba(135,206,250,0.012499999999999999);\">of</span> <span style=\"background-color:rgba(135,206,250,0.024999999999999998);\">a</span> <span style=\"background-color:rgba(135,206,250,0.024999999999999998);\">network</span> <span style=\"background-color:rgba(135,206,250,0.012499999999999999);\">a</span> <span style=\"background-color:rgba(135,206,250,0.0375);\">subzero</span> <span style=\"background-color:rgba(135,206,250,0.0375);\">rating</span> <span style=\"background-color:rgba(135,206,250,0.075);\">i</span> <span style=\"background-color:rgba(135,206,250,0.024999999999999998);\">definitely</span> <span style=\"background-color:rgba(135,206,250,0.049999999999999996);\">wouldnt</span> <span style=\"background-color:rgba(135,206,250,0.0375);\">recommend</span> <span style=\"background-color:rgba(135,206,250,0.012499999999999999);\">this</span> <span style=\"background-color:rgba(135,206,250,0.049999999999999996);\">excuse</span> <span style=\"background-color:rgba(135,206,250,0.012499999999999999);\">for</span> <span style=\"background-color:rgba(135,206,250,0.012499999999999999);\">a</span> <span style=\"background-color:rgba(135,206,250,0.012499999999999999);\">network</span> <span style=\"background-color:rgba(135,206,250,0.012499999999999999);\">to</span> <span style=\"background-color:rgba(135,206,250,0.012499999999999999);\">anyone</span> <span style=\"background-color:rgba(135,206,250,0.012499999999999999);\">probably</span> <span style=\"background-color:rgba(135,206,250,0.012499999999999999);\">is</span> <span style=\"background-color:rgba(135,206,250,0.012499999999999999);\">the</span> <span style=\"background-color:rgba(135,206,250,0.012499999999999999);\">product</span> <span style=\"background-color:rgba(135,206,250,0.012499999999999999);\">of</span> <span style=\"background-color:rgba(135,206,250,0.0375);\">professional</span> <span style=\"background-color:rgba(135,206,250,0.0375);\">scammers</span> <span style=\"background-color:rgba(135,206,250,0.012499999999999999);\">determined</span> <span style=\"background-color:rgba(135,206,250,0.012499999999999999);\">to</span> <span style=\"background-color:rgba(135,206,250,0.012499999999999999);\">separate</span> <span style=\"background-color:rgba(135,206,250,0.012499999999999999);\">people</span> <span style=\"background-color:rgba(135,206,250,0.012499999999999999);\">from</span> <span style=\"background-color:rgba(135,206,250,0.012499999999999999);\">their</span> <span style=\"background-color:rgba(135,206,250,0.024999999999999998);\">hardearned</span> <span style=\"background-color:rgba(135,206,250,0.012499999999999999);\">cash</span><br> <span style=\"background-color:rgba(180,180,180,0.4222222222222222);\">Importance 0.38</span> <span style=\"background-color:rgba(135,206,250,0.075);\">spectranetng</span> <span style=\"background-color:rgba(135,206,250,0.4125);\">dontusespectranet</span> <span style=\"background-color:rgba(135,206,250,0.475);\">incredibly</span> <span style=\"background-color:rgba(135,206,250,0.475);\">poor</span> <span style=\"background-color:rgba(135,206,250,0.0625);\">network</span> <span style=\"background-color:rgba(135,206,250,0.3);\">coverage</span> <span style=\"background-color:rgba(135,206,250,0.075);\">and</span> <span style=\"background-color:rgba(135,206,250,0.049999999999999996);\">connectivity</span> <span style=\"background-color:rgba(135,206,250,0.0625);\">coupled</span> <span style=\"background-color:rgba(135,206,250,0.0375);\">with</span> <span style=\"background-color:rgba(135,206,250,0.024999999999999998);\">swift</span> <span style=\"background-color:rgba(135,206,250,0.012499999999999999);\">cellular</span> <span style=\"background-color:rgba(135,206,250,0.012499999999999999);\">data</span> <span style=\"background-color:rgba(135,206,250,0.012499999999999999);\">drain</span> <span style=\"background-color:rgba(135,206,250,0.024999999999999998);\">and</span> <span style=\"background-color:rgba(135,206,250,0.0375);\">extremely</span> <span style=\"background-color:rgba(135,206,250,0.049999999999999996);\">rude</span> <span style=\"background-color:rgba(135,206,250,0.012499999999999999);\">customer</span> <span style=\"background-color:rgba(135,206,250,0.012499999999999999);\">service</span> <span style=\"background-color:rgba(135,206,250,0.012499999999999999);\">representatives</span> <span style=\"background-color:rgba(135,206,250,0.0375);\">earn</span> <span style=\"background-color:rgba(135,206,250,0.012499999999999999);\">this</span> <span style=\"background-color:rgba(135,206,250,0.024999999999999998);\">cruel</span> <span style=\"background-color:rgba(135,206,250,0.012499999999999999);\">joke</span> <span style=\"background-color:rgba(135,206,250,0.012499999999999999);\">of</span> <span style=\"background-color:rgba(135,206,250,0.012499999999999999);\">a</span> <span style=\"background-color:rgba(135,206,250,0.012499999999999999);\">network</span> <span style=\"background-color:rgba(135,206,250,0.012499999999999999);\">a</span> <span style=\"background-color:rgba(135,206,250,0.024999999999999998);\">subzero</span> <span style=\"background-color:rgba(135,206,250,0.012499999999999999);\">rating</span> <span style=\"background-color:rgba(135,206,250,0.012499999999999999);\">i</span> <span style=\"background-color:rgba(135,206,250,0.012499999999999999);\">definitely</span> <span style=\"background-color:rgba(135,206,250,0.024999999999999998);\">wouldnt</span> <span style=\"background-color:rgba(135,206,250,0.012499999999999999);\">recommend</span> <span style=\"background-color:rgba(135,206,250,0.012499999999999999);\">this</span> <span style=\"background-color:rgba(135,206,250,0.012499999999999999);\">excuse</span> <span style=\"background-color:rgba(135,206,250,0.012499999999999999);\">for</span> <span style=\"background-color:rgba(135,206,250,0.0);\">a</span> <span style=\"background-color:rgba(135,206,250,0.012499999999999999);\">network</span> <span style=\"background-color:rgba(135,206,250,0.012499999999999999);\">to</span> <span style=\"background-color:rgba(135,206,250,0.0);\">anyone</span> <span style=\"background-color:rgba(135,206,250,0.012499999999999999);\">probably</span> <span style=\"background-color:rgba(135,206,250,0.0);\">is</span> <span style=\"background-color:rgba(135,206,250,0.012499999999999999);\">the</span> <span style=\"background-color:rgba(135,206,250,0.0);\">product</span> <span style=\"background-color:rgba(135,206,250,0.012499999999999999);\">of</span> <span style=\"background-color:rgba(135,206,250,0.012499999999999999);\">professional</span> <span style=\"background-color:rgba(135,206,250,0.012499999999999999);\">scammers</span> <span style=\"background-color:rgba(135,206,250,0.0);\">determined</span> <span style=\"background-color:rgba(135,206,250,0.012499999999999999);\">to</span> <span style=\"background-color:rgba(135,206,250,0.012499999999999999);\">separate</span> <span style=\"background-color:rgba(135,206,250,0.0);\">people</span> <span style=\"background-color:rgba(135,206,250,0.0);\">from</span> <span style=\"background-color:rgba(135,206,250,0.0);\">their</span> <span style=\"background-color:rgba(135,206,250,0.012499999999999999);\">hardearned</span> <span style=\"background-color:rgba(135,206,250,0.012499999999999999);\">cash</span><br> <span style=\"background-color:rgba(180,180,180,0.3666666666666667);\">Importance 0.33</span> <span style=\"background-color:rgba(135,206,250,0.08750000000000001);\">spectranetng</span> <span style=\"background-color:rgba(135,206,250,0.4125);\">dontusespectranet</span> <span style=\"background-color:rgba(135,206,250,0.0625);\">incredibly</span> <span style=\"background-color:rgba(135,206,250,0.0625);\">poor</span> <span style=\"background-color:rgba(135,206,250,0.012499999999999999);\">network</span> <span style=\"background-color:rgba(135,206,250,0.049999999999999996);\">coverage</span> <span style=\"background-color:rgba(135,206,250,0.024999999999999998);\">and</span> <span style=\"background-color:rgba(135,206,250,0.024999999999999998);\">connectivity</span> <span style=\"background-color:rgba(135,206,250,0.024999999999999998);\">coupled</span> <span style=\"background-color:rgba(135,206,250,0.012499999999999999);\">with</span> <span style=\"background-color:rgba(135,206,250,0.012499999999999999);\">swift</span> <span style=\"background-color:rgba(135,206,250,0.012499999999999999);\">cellular</span> <span style=\"background-color:rgba(135,206,250,0.012499999999999999);\">data</span> <span style=\"background-color:rgba(135,206,250,0.012499999999999999);\">drain</span> <span style=\"background-color:rgba(135,206,250,0.012499999999999999);\">and</span> <span style=\"background-color:rgba(135,206,250,0.012499999999999999);\">extremely</span> <span style=\"background-color:rgba(135,206,250,0.012499999999999999);\">rude</span> <span style=\"background-color:rgba(135,206,250,0.0);\">customer</span> <span style=\"background-color:rgba(135,206,250,0.0);\">service</span> <span style=\"background-color:rgba(135,206,250,0.0);\">representatives</span> <span style=\"background-color:rgba(135,206,250,0.012499999999999999);\">earn</span> <span style=\"background-color:rgba(135,206,250,0.0);\">this</span> <span style=\"background-color:rgba(135,206,250,0.012499999999999999);\">cruel</span> <span style=\"background-color:rgba(135,206,250,0.012499999999999999);\">joke</span> <span style=\"background-color:rgba(135,206,250,0.0);\">of</span> <span style=\"background-color:rgba(135,206,250,0.0);\">a</span> <span style=\"background-color:rgba(135,206,250,0.0);\">network</span> <span style=\"background-color:rgba(135,206,250,0.0);\">a</span> <span style=\"background-color:rgba(135,206,250,0.012499999999999999);\">subzero</span> <span style=\"background-color:rgba(135,206,250,0.0);\">rating</span> <span style=\"background-color:rgba(135,206,250,0.012499999999999999);\">i</span> <span style=\"background-color:rgba(135,206,250,0.0);\">definitely</span> <span style=\"background-color:rgba(135,206,250,0.012499999999999999);\">wouldnt</span> <span style=\"background-color:rgba(135,206,250,0.0);\">recommend</span> <span style=\"background-color:rgba(135,206,250,0.0);\">this</span> <span style=\"background-color:rgba(135,206,250,0.0);\">excuse</span> <span style=\"background-color:rgba(135,206,250,0.0);\">for</span> <span style=\"background-color:rgba(135,206,250,0.0);\">a</span> <span style=\"background-color:rgba(135,206,250,0.0);\">network</span> <span style=\"background-color:rgba(135,206,250,0.0);\">to</span> <span style=\"background-color:rgba(135,206,250,0.0);\">anyone</span> <span style=\"background-color:rgba(135,206,250,0.0);\">probably</span> <span style=\"background-color:rgba(135,206,250,0.0);\">is</span> <span style=\"background-color:rgba(135,206,250,0.0);\">the</span> <span style=\"background-color:rgba(135,206,250,0.0);\">product</span> <span style=\"background-color:rgba(135,206,250,0.0);\">of</span> <span style=\"background-color:rgba(135,206,250,0.0);\">professional</span> <span style=\"background-color:rgba(135,206,250,0.012499999999999999);\">scammers</span> <span style=\"background-color:rgba(135,206,250,0.0);\">determined</span> <span style=\"background-color:rgba(135,206,250,0.0);\">to</span> <span style=\"background-color:rgba(135,206,250,0.0);\">separate</span> <span style=\"background-color:rgba(135,206,250,0.0);\">people</span> <span style=\"background-color:rgba(135,206,250,0.0);\">from</span> <span style=\"background-color:rgba(135,206,250,0.0);\">their</span> <span style=\"background-color:rgba(135,206,250,0.012499999999999999);\">hardearned</span> <span style=\"background-color:rgba(135,206,250,0.0);\">cash</span><br> <span style=\"background-color:rgba(180,180,180,0.22222222222222224);\">Importance 0.20</span> <span style=\"background-color:rgba(135,206,250,0.25);\">spectranetng</span> <span style=\"background-color:rgba(135,206,250,0.15);\">dontusespectranet</span> <span style=\"background-color:rgba(135,206,250,0.024999999999999998);\">incredibly</span> <span style=\"background-color:rgba(135,206,250,0.0375);\">poor</span> <span style=\"background-color:rgba(135,206,250,0.024999999999999998);\">network</span> <span style=\"background-color:rgba(135,206,250,0.024999999999999998);\">coverage</span> <span style=\"background-color:rgba(135,206,250,0.012499999999999999);\">and</span> <span style=\"background-color:rgba(135,206,250,0.012499999999999999);\">connectivity</span> <span style=\"background-color:rgba(135,206,250,0.012499999999999999);\">coupled</span> <span style=\"background-color:rgba(135,206,250,0.012499999999999999);\">with</span> <span style=\"background-color:rgba(135,206,250,0.012499999999999999);\">swift</span> <span style=\"background-color:rgba(135,206,250,0.012499999999999999);\">cellular</span> <span style=\"background-color:rgba(135,206,250,0.012499999999999999);\">data</span> <span style=\"background-color:rgba(135,206,250,0.012499999999999999);\">drain</span> <span style=\"background-color:rgba(135,206,250,0.012499999999999999);\">and</span> <span style=\"background-color:rgba(135,206,250,0.0);\">extremely</span> <span style=\"background-color:rgba(135,206,250,0.012499999999999999);\">rude</span> <span style=\"background-color:rgba(135,206,250,0.0);\">customer</span> <span style=\"background-color:rgba(135,206,250,0.0);\">service</span> <span style=\"background-color:rgba(135,206,250,0.012499999999999999);\">representatives</span> <span style=\"background-color:rgba(135,206,250,0.012499999999999999);\">earn</span> <span style=\"background-color:rgba(135,206,250,0.0);\">this</span> <span style=\"background-color:rgba(135,206,250,0.012499999999999999);\">cruel</span> <span style=\"background-color:rgba(135,206,250,0.012499999999999999);\">joke</span> <span style=\"background-color:rgba(135,206,250,0.0);\">of</span> <span style=\"background-color:rgba(135,206,250,0.0);\">a</span> <span style=\"background-color:rgba(135,206,250,0.012499999999999999);\">network</span> <span style=\"background-color:rgba(135,206,250,0.0);\">a</span> <span style=\"background-color:rgba(135,206,250,0.012499999999999999);\">subzero</span> <span style=\"background-color:rgba(135,206,250,0.0);\">rating</span> <span style=\"background-color:rgba(135,206,250,0.0);\">i</span> <span style=\"background-color:rgba(135,206,250,0.0);\">definitely</span> <span style=\"background-color:rgba(135,206,250,0.012499999999999999);\">wouldnt</span> <span style=\"background-color:rgba(135,206,250,0.0);\">recommend</span> <span style=\"background-color:rgba(135,206,250,0.0);\">this</span> <span style=\"background-color:rgba(135,206,250,0.0);\">excuse</span> <span style=\"background-color:rgba(135,206,250,0.0);\">for</span> <span style=\"background-color:rgba(135,206,250,0.0);\">a</span> <span style=\"background-color:rgba(135,206,250,0.012499999999999999);\">network</span> <span style=\"background-color:rgba(135,206,250,0.0);\">to</span> <span style=\"background-color:rgba(135,206,250,0.0);\">anyone</span> <span style=\"background-color:rgba(135,206,250,0.0);\">probably</span> <span style=\"background-color:rgba(135,206,250,0.0);\">is</span> <span style=\"background-color:rgba(135,206,250,0.0);\">the</span> <span style=\"background-color:rgba(135,206,250,0.0);\">product</span> <span style=\"background-color:rgba(135,206,250,0.0);\">of</span> <span style=\"background-color:rgba(135,206,250,0.012499999999999999);\">professional</span> <span style=\"background-color:rgba(135,206,250,0.012499999999999999);\">scammers</span> <span style=\"background-color:rgba(135,206,250,0.0);\">determined</span> <span style=\"background-color:rgba(135,206,250,0.0);\">to</span> <span style=\"background-color:rgba(135,206,250,0.0);\">separate</span> <span style=\"background-color:rgba(135,206,250,0.0);\">people</span> <span style=\"background-color:rgba(135,206,250,0.0);\">from</span> <span style=\"background-color:rgba(135,206,250,0.0);\">their</span> <span style=\"background-color:rgba(135,206,250,0.012499999999999999);\">hardearned</span> <span style=\"background-color:rgba(135,206,250,0.012499999999999999);\">cash</span><br> <span style=\"background-color:rgba(180,180,180,0.22222222222222224);\">Importance 0.20</span> <span style=\"background-color:rgba(135,206,250,0.049999999999999996);\">spectranetng</span> <span style=\"background-color:rgba(135,206,250,0.11249999999999999);\">dontusespectranet</span> <span style=\"background-color:rgba(135,206,250,0.075);\">incredibly</span> <span style=\"background-color:rgba(135,206,250,0.25);\">poor</span> <span style=\"background-color:rgba(135,206,250,0.11249999999999999);\">network</span> <span style=\"background-color:rgba(135,206,250,0.2375);\">coverage</span> <span style=\"background-color:rgba(135,206,250,0.17500000000000002);\">and</span> <span style=\"background-color:rgba(135,206,250,0.25);\">connectivity</span> <span style=\"background-color:rgba(135,206,250,0.075);\">coupled</span> <span style=\"background-color:rgba(135,206,250,0.049999999999999996);\">with</span> <span style=\"background-color:rgba(135,206,250,0.024999999999999998);\">swift</span> <span style=\"background-color:rgba(135,206,250,0.049999999999999996);\">cellular</span> <span style=\"background-color:rgba(135,206,250,0.0625);\">data</span> <span style=\"background-color:rgba(135,206,250,0.024999999999999998);\">drain</span> <span style=\"background-color:rgba(135,206,250,0.012499999999999999);\">and</span> <span style=\"background-color:rgba(135,206,250,0.012499999999999999);\">extremely</span> <span style=\"background-color:rgba(135,206,250,0.0375);\">rude</span> <span style=\"background-color:rgba(135,206,250,0.012499999999999999);\">customer</span> <span style=\"background-color:rgba(135,206,250,0.012499999999999999);\">service</span> <span style=\"background-color:rgba(135,206,250,0.012499999999999999);\">representatives</span> <span style=\"background-color:rgba(135,206,250,0.012499999999999999);\">earn</span> <span style=\"background-color:rgba(135,206,250,0.0);\">this</span> <span style=\"background-color:rgba(135,206,250,0.012499999999999999);\">cruel</span> <span style=\"background-color:rgba(135,206,250,0.012499999999999999);\">joke</span> <span style=\"background-color:rgba(135,206,250,0.0);\">of</span> <span style=\"background-color:rgba(135,206,250,0.0);\">a</span> <span style=\"background-color:rgba(135,206,250,0.0375);\">network</span> <span style=\"background-color:rgba(135,206,250,0.0);\">a</span> <span style=\"background-color:rgba(135,206,250,0.012499999999999999);\">subzero</span> <span style=\"background-color:rgba(135,206,250,0.012499999999999999);\">rating</span> <span style=\"background-color:rgba(135,206,250,0.012499999999999999);\">i</span> <span style=\"background-color:rgba(135,206,250,0.0);\">definitely</span> <span style=\"background-color:rgba(135,206,250,0.012499999999999999);\">wouldnt</span> <span style=\"background-color:rgba(135,206,250,0.0);\">recommend</span> <span style=\"background-color:rgba(135,206,250,0.0);\">this</span> <span style=\"background-color:rgba(135,206,250,0.012499999999999999);\">excuse</span> <span style=\"background-color:rgba(135,206,250,0.0);\">for</span> <span style=\"background-color:rgba(135,206,250,0.0);\">a</span> <span style=\"background-color:rgba(135,206,250,0.0375);\">network</span> <span style=\"background-color:rgba(135,206,250,0.0);\">to</span> <span style=\"background-color:rgba(135,206,250,0.0);\">anyone</span> <span style=\"background-color:rgba(135,206,250,0.0);\">probably</span> <span style=\"background-color:rgba(135,206,250,0.0);\">is</span> <span style=\"background-color:rgba(135,206,250,0.0);\">the</span> <span style=\"background-color:rgba(135,206,250,0.012499999999999999);\">product</span> <span style=\"background-color:rgba(135,206,250,0.0);\">of</span> <span style=\"background-color:rgba(135,206,250,0.012499999999999999);\">professional</span> <span style=\"background-color:rgba(135,206,250,0.012499999999999999);\">scammers</span> <span style=\"background-color:rgba(135,206,250,0.0);\">determined</span> <span style=\"background-color:rgba(135,206,250,0.0);\">to</span> <span style=\"background-color:rgba(135,206,250,0.0);\">separate</span> <span style=\"background-color:rgba(135,206,250,0.012499999999999999);\">people</span> <span style=\"background-color:rgba(135,206,250,0.0);\">from</span> <span style=\"background-color:rgba(135,206,250,0.0);\">their</span> <span style=\"background-color:rgba(135,206,250,0.012499999999999999);\">hardearned</span> <span style=\"background-color:rgba(135,206,250,0.012499999999999999);\">cash</span><br>"
      ],
      "text/plain": [
       "<IPython.core.display.HTML object>"
      ]
     },
     "metadata": {},
     "output_type": "display_data"
    }
   ],
   "source": [
    "absa.summary(coverage)\n",
    "absa.display(coverage.review)"
   ]
  }
 ],
 "metadata": {
  "kernelspec": {
   "display_name": "Python 3 (ipykernel)",
   "language": "python",
   "name": "python3"
  },
  "language_info": {
   "codemirror_mode": {
    "name": "ipython",
    "version": 3
   },
   "file_extension": ".py",
   "mimetype": "text/x-python",
   "name": "python",
   "nbconvert_exporter": "python",
   "pygments_lexer": "ipython3",
   "version": "3.7.11"
  }
 },
 "nbformat": 4,
 "nbformat_minor": 5
}
