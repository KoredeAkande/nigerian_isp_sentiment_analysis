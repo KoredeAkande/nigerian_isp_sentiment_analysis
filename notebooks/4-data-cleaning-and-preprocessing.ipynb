{
 "cells": [
  {
   "cell_type": "markdown",
   "id": "7038c511-7573-46ed-86b3-4ef439d0e3ec",
   "metadata": {},
   "source": [
    "# Data Cleaning & Preprocessing\n",
    "\n",
    "**`Goal:`** Create interim and fully processed datasets for future analysis and modeling\n",
    "\n",
    "1. Merge (sentiment) annotated tweets with the rest of their attributes and clean the tweets\n",
    "2. Clean the full dataset of tweets\n",
    "\n",
    "Here, cleaning involves: case folding, stopword removal, punctuation removal, numbers removal, etc."
   ]
  },
  {
   "cell_type": "markdown",
   "id": "5fd6ef6a-8a60-4d2e-be4f-7b5cb09800cd",
   "metadata": {},
   "source": [
    "### 1. Library Importation"
   ]
  },
  {
   "cell_type": "code",
   "execution_count": 44,
   "id": "62ceff52-2750-402a-9945-7f2b931ec452",
   "metadata": {},
   "outputs": [
    {
     "name": "stderr",
     "output_type": "stream",
     "text": [
      "[nltk_data] Downloading package stopwords to\n",
      "[nltk_data]     /Users/koredeakande/nltk_data...\n",
      "[nltk_data]   Package stopwords is already up-to-date!\n"
     ]
    },
    {
     "data": {
      "text/plain": [
       "True"
      ]
     },
     "execution_count": 44,
     "metadata": {},
     "output_type": "execute_result"
    }
   ],
   "source": [
    "import pandas as pd\n",
    "import matplotlib.pyplot as plt\n",
    "import missingno\n",
    "from sklearn.model_selection import train_test_split\n",
    "\n",
    "#Packages for text cleaning\n",
    "from cleantext import clean\n",
    "import nltk\n",
    "nltk.download('stopwords') "
   ]
  },
  {
   "cell_type": "markdown",
   "id": "e9652bce-5f08-4ddb-a550-8b8d80a7ec68",
   "metadata": {},
   "source": [
    "### 2. Load Datasets"
   ]
  },
  {
   "cell_type": "code",
   "execution_count": 8,
   "id": "9f88df93-9aa7-46f3-afa5-d72971447203",
   "metadata": {},
   "outputs": [],
   "source": [
    "#Load the dataset containing the annotated tweets\n",
    "#- Note that not all tweets were\n",
    "annotated_text = pd.read_csv('../data/interim/annotated-sample-2021_10_28.csv')\n",
    "\n",
    "#Load the data sample from which the text was extracted from for annotation\n",
    "sample_for_annotation = pd.read_csv('../data/raw/sample.csv')\n",
    "\n",
    "#Load the full dataset of merged ISP tweets\n",
    "isp_tweets_df = pd.read_csv('../data/raw/merged.csv')"
   ]
  },
  {
   "cell_type": "markdown",
   "id": "e99858b5-6ebf-4487-b61e-ae0883d0df08",
   "metadata": {},
   "source": [
    "### 3. Preview the annotated dataframe\n",
    "Main column of interest is `sentiment`"
   ]
  },
  {
   "cell_type": "code",
   "execution_count": 9,
   "id": "24972970-0367-4ad6-abbc-c4ff18df1356",
   "metadata": {},
   "outputs": [
    {
     "data": {
      "text/html": [
       "<div>\n",
       "<style scoped>\n",
       "    .dataframe tbody tr th:only-of-type {\n",
       "        vertical-align: middle;\n",
       "    }\n",
       "\n",
       "    .dataframe tbody tr th {\n",
       "        vertical-align: top;\n",
       "    }\n",
       "\n",
       "    .dataframe thead th {\n",
       "        text-align: right;\n",
       "    }\n",
       "</style>\n",
       "<table border=\"1\" class=\"dataframe\">\n",
       "  <thead>\n",
       "    <tr style=\"text-align: right;\">\n",
       "      <th></th>\n",
       "      <th>text</th>\n",
       "      <th>id</th>\n",
       "      <th>sentiment</th>\n",
       "      <th>annotator</th>\n",
       "      <th>annotation_id</th>\n",
       "      <th>created_at</th>\n",
       "      <th>updated_at</th>\n",
       "      <th>lead_time</th>\n",
       "    </tr>\n",
       "  </thead>\n",
       "  <tbody>\n",
       "    <tr>\n",
       "      <th>0</th>\n",
       "      <td>50GB gone in one week, @Spectranet_NG na so? I...</td>\n",
       "      <td>1125</td>\n",
       "      <td>Negative</td>\n",
       "      <td>koredeakande@uni.minerva.edu</td>\n",
       "      <td>661</td>\n",
       "      <td>2021-10-28T13:15:28.998694Z</td>\n",
       "      <td>2021-10-28T13:15:28.998724Z</td>\n",
       "      <td>3.864</td>\n",
       "    </tr>\n",
       "    <tr>\n",
       "      <th>1</th>\n",
       "      <td>@TheFunkyDee @Spectranet_NG I’m giving \\n@Spec...</td>\n",
       "      <td>1122</td>\n",
       "      <td>Negative</td>\n",
       "      <td>koredeakande@uni.minerva.edu</td>\n",
       "      <td>658</td>\n",
       "      <td>2021-10-28T13:15:10.405765Z</td>\n",
       "      <td>2021-10-28T13:15:10.405796Z</td>\n",
       "      <td>14.504</td>\n",
       "    </tr>\n",
       "    <tr>\n",
       "      <th>2</th>\n",
       "      <td>@Spectranet_NG @FritztheJanitor Will they help...</td>\n",
       "      <td>1121</td>\n",
       "      <td>Neutral</td>\n",
       "      <td>koredeakande@uni.minerva.edu</td>\n",
       "      <td>657</td>\n",
       "      <td>2021-10-28T13:14:55.664030Z</td>\n",
       "      <td>2021-10-28T13:14:55.664062Z</td>\n",
       "      <td>6.356</td>\n",
       "    </tr>\n",
       "  </tbody>\n",
       "</table>\n",
       "</div>"
      ],
      "text/plain": [
       "                                                text    id sentiment  \\\n",
       "0  50GB gone in one week, @Spectranet_NG na so? I...  1125  Negative   \n",
       "1  @TheFunkyDee @Spectranet_NG I’m giving \\n@Spec...  1122  Negative   \n",
       "2  @Spectranet_NG @FritztheJanitor Will they help...  1121   Neutral   \n",
       "\n",
       "                      annotator  annotation_id                   created_at  \\\n",
       "0  koredeakande@uni.minerva.edu            661  2021-10-28T13:15:28.998694Z   \n",
       "1  koredeakande@uni.minerva.edu            658  2021-10-28T13:15:10.405765Z   \n",
       "2  koredeakande@uni.minerva.edu            657  2021-10-28T13:14:55.664030Z   \n",
       "\n",
       "                    updated_at  lead_time  \n",
       "0  2021-10-28T13:15:28.998724Z      3.864  \n",
       "1  2021-10-28T13:15:10.405796Z     14.504  \n",
       "2  2021-10-28T13:14:55.664062Z      6.356  "
      ]
     },
     "execution_count": 9,
     "metadata": {},
     "output_type": "execute_result"
    }
   ],
   "source": [
    "annotated_text.head(3)"
   ]
  },
  {
   "cell_type": "markdown",
   "id": "3f1746fa-1c70-4e8a-9858-70d4c1067257",
   "metadata": {},
   "source": [
    "### 3. Merge Annotations with tweet attributes"
   ]
  },
  {
   "cell_type": "code",
   "execution_count": 10,
   "id": "d2afbf94-4f2e-4a4d-b560-cd4f0c564c37",
   "metadata": {},
   "outputs": [
    {
     "data": {
      "text/html": [
       "<div>\n",
       "<style scoped>\n",
       "    .dataframe tbody tr th:only-of-type {\n",
       "        vertical-align: middle;\n",
       "    }\n",
       "\n",
       "    .dataframe tbody tr th {\n",
       "        vertical-align: top;\n",
       "    }\n",
       "\n",
       "    .dataframe thead th {\n",
       "        text-align: right;\n",
       "    }\n",
       "</style>\n",
       "<table border=\"1\" class=\"dataframe\">\n",
       "  <thead>\n",
       "    <tr style=\"text-align: right;\">\n",
       "      <th></th>\n",
       "      <th>ISP_Name</th>\n",
       "      <th>Time</th>\n",
       "      <th>Text</th>\n",
       "      <th>Source</th>\n",
       "      <th>sentiment</th>\n",
       "    </tr>\n",
       "  </thead>\n",
       "  <tbody>\n",
       "    <tr>\n",
       "      <th>0</th>\n",
       "      <td>sprectranet</td>\n",
       "      <td>2020-02-04 18:30:35+00:00</td>\n",
       "      <td>My family used my spectranet and they don't wa...</td>\n",
       "      <td>Twitter for Android</td>\n",
       "      <td>Neutral</td>\n",
       "    </tr>\n",
       "    <tr>\n",
       "      <th>1</th>\n",
       "      <td>sprectranet</td>\n",
       "      <td>2019-06-19 04:59:49</td>\n",
       "      <td>@Spectranet_NG How can I get the freedom mifi ...</td>\n",
       "      <td>Twitter for iPhone</td>\n",
       "      <td>Negative</td>\n",
       "    </tr>\n",
       "    <tr>\n",
       "      <th>2</th>\n",
       "      <td>sprectranet</td>\n",
       "      <td>2020-03-30 07:57:38+00:00</td>\n",
       "      <td>@DrOlufunmilayo @iconic_remi @Spectranet_NG</td>\n",
       "      <td>Twitter for iPhone</td>\n",
       "      <td>Neutral</td>\n",
       "    </tr>\n",
       "    <tr>\n",
       "      <th>3</th>\n",
       "      <td>sprectranet</td>\n",
       "      <td>2020-12-31 21:07:52+00:00</td>\n",
       "      <td>@Spectranet_NG Your response just proves how h...</td>\n",
       "      <td>Twitter for Android</td>\n",
       "      <td>Negative</td>\n",
       "    </tr>\n",
       "    <tr>\n",
       "      <th>4</th>\n",
       "      <td>sprectranet</td>\n",
       "      <td>2020-09-03 23:09:09+00:00</td>\n",
       "      <td>Spectranet is just the worse tbh, I can’t even...</td>\n",
       "      <td>Twitter for iPhone</td>\n",
       "      <td>Negative</td>\n",
       "    </tr>\n",
       "  </tbody>\n",
       "</table>\n",
       "</div>"
      ],
      "text/plain": [
       "      ISP_Name                       Time  \\\n",
       "0  sprectranet  2020-02-04 18:30:35+00:00   \n",
       "1  sprectranet        2019-06-19 04:59:49   \n",
       "2  sprectranet  2020-03-30 07:57:38+00:00   \n",
       "3  sprectranet  2020-12-31 21:07:52+00:00   \n",
       "4  sprectranet  2020-09-03 23:09:09+00:00   \n",
       "\n",
       "                                                Text               Source  \\\n",
       "0  My family used my spectranet and they don't wa...  Twitter for Android   \n",
       "1  @Spectranet_NG How can I get the freedom mifi ...   Twitter for iPhone   \n",
       "2        @DrOlufunmilayo @iconic_remi @Spectranet_NG   Twitter for iPhone   \n",
       "3  @Spectranet_NG Your response just proves how h...  Twitter for Android   \n",
       "4  Spectranet is just the worse tbh, I can’t even...   Twitter for iPhone   \n",
       "\n",
       "  sentiment  \n",
       "0   Neutral  \n",
       "1  Negative  \n",
       "2   Neutral  \n",
       "3  Negative  \n",
       "4  Negative  "
      ]
     },
     "execution_count": 10,
     "metadata": {},
     "output_type": "execute_result"
    }
   ],
   "source": [
    "#Drop irrelevant columns in both dataframes and merge on the tweet text\n",
    "tweet_sentiment_df = pd.merge(sample_for_annotation.drop(columns = ['Coordinates','Place']),\n",
    "                              annotated_text[['text','sentiment']],\n",
    "                              left_on='Text',\n",
    "                              right_on='text').drop(columns='text')\n",
    "\n",
    "tweet_sentiment_df.head()"
   ]
  },
  {
   "cell_type": "markdown",
   "id": "feee47f0-98f0-4140-9846-76d485130e54",
   "metadata": {},
   "source": [
    "### 4. Subset the full dataset with only relevant columns\n",
    "These are the same columns as shown above – except sentiment"
   ]
  },
  {
   "cell_type": "code",
   "execution_count": 11,
   "id": "969ba294-b3fc-40d4-aec5-94c94af2ae52",
   "metadata": {},
   "outputs": [
    {
     "data": {
      "text/html": [
       "<div>\n",
       "<style scoped>\n",
       "    .dataframe tbody tr th:only-of-type {\n",
       "        vertical-align: middle;\n",
       "    }\n",
       "\n",
       "    .dataframe tbody tr th {\n",
       "        vertical-align: top;\n",
       "    }\n",
       "\n",
       "    .dataframe thead th {\n",
       "        text-align: right;\n",
       "    }\n",
       "</style>\n",
       "<table border=\"1\" class=\"dataframe\">\n",
       "  <thead>\n",
       "    <tr style=\"text-align: right;\">\n",
       "      <th></th>\n",
       "      <th>ISP_Name</th>\n",
       "      <th>Time</th>\n",
       "      <th>Text</th>\n",
       "      <th>Source</th>\n",
       "    </tr>\n",
       "  </thead>\n",
       "  <tbody>\n",
       "    <tr>\n",
       "      <th>0</th>\n",
       "      <td>sprectranet</td>\n",
       "      <td>2019-05-13 09:30:03</td>\n",
       "      <td>It gives me joy seeing my spectranet turning g...</td>\n",
       "      <td>Twitter for iPhone</td>\n",
       "    </tr>\n",
       "    <tr>\n",
       "      <th>1</th>\n",
       "      <td>sprectranet</td>\n",
       "      <td>2020-04-21 06:11:55+00:00</td>\n",
       "      <td>@Spectranet_NG is this even fair? I won’t rene...</td>\n",
       "      <td>Twitter for iPhone</td>\n",
       "    </tr>\n",
       "    <tr>\n",
       "      <th>2</th>\n",
       "      <td>sprectranet</td>\n",
       "      <td>2020-02-04 18:30:35+00:00</td>\n",
       "      <td>My family used my spectranet and they don't wa...</td>\n",
       "      <td>Twitter for Android</td>\n",
       "    </tr>\n",
       "    <tr>\n",
       "      <th>3</th>\n",
       "      <td>sprectranet</td>\n",
       "      <td>2019-02-16 18:11:48</td>\n",
       "      <td>@Spectranet_NG Can I subscribe via @UBAGroup m...</td>\n",
       "      <td>Twitter for Android</td>\n",
       "    </tr>\n",
       "    <tr>\n",
       "      <th>4</th>\n",
       "      <td>sprectranet</td>\n",
       "      <td>2020-08-14 06:25:29+00:00</td>\n",
       "      <td>@EniolaShitta YouTube is where spectranet star...</td>\n",
       "      <td>Twitter for Android</td>\n",
       "    </tr>\n",
       "  </tbody>\n",
       "</table>\n",
       "</div>"
      ],
      "text/plain": [
       "      ISP_Name                       Time  \\\n",
       "0  sprectranet        2019-05-13 09:30:03   \n",
       "1  sprectranet  2020-04-21 06:11:55+00:00   \n",
       "2  sprectranet  2020-02-04 18:30:35+00:00   \n",
       "3  sprectranet        2019-02-16 18:11:48   \n",
       "4  sprectranet  2020-08-14 06:25:29+00:00   \n",
       "\n",
       "                                                Text               Source  \n",
       "0  It gives me joy seeing my spectranet turning g...   Twitter for iPhone  \n",
       "1  @Spectranet_NG is this even fair? I won’t rene...   Twitter for iPhone  \n",
       "2  My family used my spectranet and they don't wa...  Twitter for Android  \n",
       "3  @Spectranet_NG Can I subscribe via @UBAGroup m...  Twitter for Android  \n",
       "4  @EniolaShitta YouTube is where spectranet star...  Twitter for Android  "
      ]
     },
     "execution_count": 11,
     "metadata": {},
     "output_type": "execute_result"
    }
   ],
   "source": [
    "#Only get the relevant columns\n",
    "isp_tweets = isp_tweets_df[['ISP_Name','Time','Text','Source']]\n",
    "\n",
    "isp_tweets.head()"
   ]
  },
  {
   "cell_type": "markdown",
   "id": "1879b5e6-0dd4-418d-a9ff-60ab28cb40f7",
   "metadata": {},
   "source": [
    "### 5. Quick Preview of the Datasets"
   ]
  },
  {
   "cell_type": "code",
   "execution_count": 12,
   "id": "cf2dc59c-7cae-45d2-9217-7a5b732b8b73",
   "metadata": {},
   "outputs": [
    {
     "name": "stdout",
     "output_type": "stream",
     "text": [
      "<class 'pandas.core.frame.DataFrame'>\n",
      "Int64Index: 381 entries, 0 to 380\n",
      "Data columns (total 5 columns):\n",
      " #   Column     Non-Null Count  Dtype \n",
      "---  ------     --------------  ----- \n",
      " 0   ISP_Name   381 non-null    object\n",
      " 1   Time       381 non-null    object\n",
      " 2   Text       381 non-null    object\n",
      " 3   Source     381 non-null    object\n",
      " 4   sentiment  380 non-null    object\n",
      "dtypes: object(5)\n",
      "memory usage: 17.9+ KB\n"
     ]
    }
   ],
   "source": [
    "tweet_sentiment_df.info()"
   ]
  },
  {
   "cell_type": "code",
   "execution_count": 13,
   "id": "973535d6-89db-4581-9d7c-516824b42550",
   "metadata": {},
   "outputs": [
    {
     "name": "stdout",
     "output_type": "stream",
     "text": [
      "<class 'pandas.core.frame.DataFrame'>\n",
      "RangeIndex: 1646 entries, 0 to 1645\n",
      "Data columns (total 4 columns):\n",
      " #   Column    Non-Null Count  Dtype \n",
      "---  ------    --------------  ----- \n",
      " 0   ISP_Name  1646 non-null   object\n",
      " 1   Time      1646 non-null   object\n",
      " 2   Text      1646 non-null   object\n",
      " 3   Source    1646 non-null   object\n",
      "dtypes: object(4)\n",
      "memory usage: 51.6+ KB\n"
     ]
    }
   ],
   "source": [
    "isp_tweets.info()"
   ]
  },
  {
   "cell_type": "markdown",
   "id": "fad44f91-48d6-4bd4-bda5-fdb516eefac4",
   "metadata": {},
   "source": [
    "### 4. Data Cleaning and Reformatting"
   ]
  },
  {
   "cell_type": "markdown",
   "id": "63618708-5f7d-4833-ad7b-ab6fc7e418fe",
   "metadata": {},
   "source": [
    "#### a. Data Type Conversion\n",
    "\n",
    "From above, we see all the column types look good, except the Time column's. We convert this column to **`datetime`** in both dataframes"
   ]
  },
  {
   "cell_type": "code",
   "execution_count": 14,
   "id": "1875e08f-8961-4d0a-bb7b-9698951b77ac",
   "metadata": {},
   "outputs": [
    {
     "name": "stderr",
     "output_type": "stream",
     "text": [
      "/var/folders/j5/540q0bw12gx3g56qg4llbmlh0000gn/T/ipykernel_34298/1766779568.py:5: SettingWithCopyWarning: \n",
      "A value is trying to be set on a copy of a slice from a DataFrame.\n",
      "Try using .loc[row_indexer,col_indexer] = value instead\n",
      "\n",
      "See the caveats in the documentation: https://pandas.pydata.org/pandas-docs/stable/user_guide/indexing.html#returning-a-view-versus-a-copy\n",
      "  isp_tweets['Time'] = pd.to_datetime(isp_tweets['Time'])\n"
     ]
    }
   ],
   "source": [
    "#Annotated dataset merged with attributes\n",
    "tweet_sentiment_df['Time'] = pd.to_datetime(tweet_sentiment_df['Time'])\n",
    "\n",
    "#Full merged raw dataset\n",
    "isp_tweets['Time'] = pd.to_datetime(isp_tweets['Time'])"
   ]
  },
  {
   "cell_type": "markdown",
   "id": "d1c9bb4e-724e-48cf-8bce-a41d8f76a568",
   "metadata": {},
   "source": [
    "#### b. Exploring & Handling missing data\n"
   ]
  },
  {
   "cell_type": "code",
   "execution_count": 15,
   "id": "a1414f76-53bf-4dcf-83c0-3afb0cece310",
   "metadata": {},
   "outputs": [
    {
     "data": {
      "image/png": "[encoded data removed]",
      "text/plain": [
       "<Figure size 1800x720 with 6 Axes>"
      ]
     },
     "metadata": {
      "needs_background": "light"
     },
     "output_type": "display_data"
    }
   ],
   "source": [
    "plt.figure(figsize=(15,9))\n",
    "plt.subplots_adjust(hspace = 0.8)\n",
    "\n",
    "plt.subplot(2,1,1)\n",
    "plt.title('1. Dataset with sentiment annotation on a sample', fontsize=20)\n",
    "missingno.bar(tweet_sentiment_df)\n",
    "\n",
    "plt.subplot(2,1,2)\n",
    "plt.title('2. Full Dataset', fontsize=20)\n",
    "missingno.bar(isp_tweets)\n",
    "plt.show()"
   ]
  },
  {
   "cell_type": "markdown",
   "id": "2f819b44-e105-46c0-a4cf-5fb4397f3453",
   "metadata": {},
   "source": [
    "One sentiment value is missing in the annotated dataset. Given it is just a single row, I delete it. There are no missing values in the full dataset"
   ]
  },
  {
   "cell_type": "code",
   "execution_count": 16,
   "id": "f9812e8d-f5b3-4e9a-9b00-0aaad1dd9b9c",
   "metadata": {},
   "outputs": [
    {
     "data": {
      "text/plain": [
       "380"
      ]
     },
     "execution_count": 16,
     "metadata": {},
     "output_type": "execute_result"
    }
   ],
   "source": [
    "#Drop row with missing value\n",
    "tweet_sentiment_df = tweet_sentiment_df.dropna()\n",
    "len(tweet_sentiment_df)"
   ]
  },
  {
   "cell_type": "markdown",
   "id": "1c19f4ec-4b93-48ca-96a1-e211160c8f99",
   "metadata": {},
   "source": [
    "### c. Cleaning the tweets"
   ]
  },
  {
   "cell_type": "code",
   "execution_count": 33,
   "id": "9407643a-ad6e-4966-acac-5f621d718824",
   "metadata": {},
   "outputs": [],
   "source": [
    "def clean_text(text):\n",
    "    \n",
    "    \"\"\"\n",
    "    Function to clean a single tweet leveraging the clean text package\n",
    "    \n",
    "    Input:\n",
    "        - text (str): Uncleaned tweet\n",
    "        \n",
    "    Output:\n",
    "        - cleaned_text (str): Cleaned tweet\n",
    "    \"\"\"\n",
    "    \n",
    "    cleaned_text=clean(text,\n",
    "                       fix_unicode=True, # fix various unicode errors\n",
    "                       to_ascii=True,    # transliterate to closest ASCII representation\n",
    "                       lower=True,       # lowercase text\n",
    "                       no_line_breaks=True, # fully strip line breaks\n",
    "                       no_urls=True,      # replace all URLs with ''\n",
    "                       no_emails=True,   # replace all email addresses with ''\n",
    "                       no_phone_numbers=True, # replace all phone numbers with ''\n",
    "                       no_currency_symbols= True, # replace all currency symbols with ''\n",
    "                       no_numbers=False, # replace all numbers with ''\n",
    "                       no_digits=False,  # replace all digits with ''\n",
    "                       no_punct= False, # fully remove punctuation\n",
    "                       replace_with_url=\"\",\n",
    "                       replace_with_email=\"\",\n",
    "                       replace_with_phone_number=\"\",\n",
    "                       replace_with_number=\"\",\n",
    "                       replace_with_digit=\"\",\n",
    "                       replace_with_currency_symbol=\"\",\n",
    "                       lang=\"en\"\n",
    "                      )\n",
    "    \n",
    "    #Remove @ symbol\n",
    "    cleaned_text = cleaned_text.replace('@','')\n",
    "    \n",
    "    return cleaned_text"
   ]
  },
  {
   "cell_type": "code",
   "execution_count": 34,
   "id": "20c5ea7a-0327-4cb2-8e9e-e9b98d6bb53a",
   "metadata": {},
   "outputs": [],
   "source": [
    "#Make a copy of the annotated dataset and clean tweets\n",
    "cleaned_annotated = tweet_sentiment_df.copy()\n",
    "cleaned_annotated.Text = cleaned_annotated.Text.apply(clean_text)\n",
    "\n",
    "#Make a copy of the full merged dataset and clean\n",
    "cleaned_isp_tweets = isp_tweets.copy()\n",
    "cleaned_isp_tweets.Text = cleaned_isp_tweets.Text.apply(clean_text)"
   ]
  },
  {
   "cell_type": "markdown",
   "id": "187c51d1-50a5-4225-ae1e-d2defe606869",
   "metadata": {},
   "source": [
    "### d. Preview cleaned text"
   ]
  },
  {
   "cell_type": "markdown",
   "id": "ac13cda6-164e-4a7c-80d1-1c74a60caca6",
   "metadata": {},
   "source": [
    "**Annotated sample of the full dataset**"
   ]
  },
  {
   "cell_type": "code",
   "execution_count": 35,
   "id": "b58a48b5-3802-4f21-ba25-031344c501c5",
   "metadata": {},
   "outputs": [
    {
     "name": "stdout",
     "output_type": "stream",
     "text": [
      "1) my family used my spectranet and they don't want to help my ministry now it has finished. spectranet_ng abeg how will i change my password. \n",
      "\n",
      "2) spectranet_ng how can i get the freedom mifi in ajah today \n",
      "\n",
      "3) drolufunmilayo iconic_remi spectranet_ng \n",
      "\n",
      "4) spectranet_ng your response just proves how horrid your customer service is. rather than ask what my issue is to help resolve, you render an apology. apology accepted!. now can you actually proffer solution? i am really disappointed with your services and attitude to customers \n",
      "\n",
      "5) spectranet is just the worse tbh, i can't even watch a 5min video without serious lagging😫😫😫🤦🏽‍♂️ \n",
      "\n"
     ]
    }
   ],
   "source": [
    "for idx,tweet in enumerate(cleaned_annotated.Text[:5]):\n",
    "    print(str(idx+1)+')',tweet, '\\n')"
   ]
  },
  {
   "cell_type": "markdown",
   "id": "9faaa637-28b7-4413-939c-94af8f343a62",
   "metadata": {},
   "source": [
    "**Full dataset**"
   ]
  },
  {
   "cell_type": "code",
   "execution_count": 36,
   "id": "72d98111-edf0-460c-a8ab-d4f3a037978d",
   "metadata": {},
   "outputs": [
    {
     "name": "stdout",
     "output_type": "stream",
     "text": [
      "1) it gives me joy seeing my spectranet turning green and i get stream as i want with no buffering 💃💃 \n",
      "\n",
      "2) spectranet_ng is this even fair? i won't renew next month and you people should not even bother calling me. i will curse you! \n",
      "\n",
      "3) my family used my spectranet and they don't want to help my ministry now it has finished. spectranet_ng abeg how will i change my password. \n",
      "\n",
      "4) spectranet_ng can i subscribe via ubagroup mobile app and get the 100% bonus? \n",
      "\n",
      "5) eniolashitta youtube is where spectranet starts to smile cos data will disappear fast fast 😭😭 \n",
      "\n"
     ]
    }
   ],
   "source": [
    "for idx,tweet in enumerate(cleaned_isp_tweets.Text[:5]):\n",
    "    print(str(idx+1)+')',tweet, '\\n')"
   ]
  },
  {
   "cell_type": "markdown",
   "id": "42cc0b09-99f1-44b8-ad42-c79fb6fffd48",
   "metadata": {},
   "source": [
    "### 5. Encoding the sentiment groups"
   ]
  },
  {
   "cell_type": "code",
   "execution_count": 38,
   "id": "c0f4c3a7-1286-4f14-a850-8c48265ace1b",
   "metadata": {},
   "outputs": [
    {
     "data": {
      "text/plain": [
       "{'Neutral': 1, 'Negative': 2, 'Positive': 3, 'Positive/Negative': 4}"
      ]
     },
     "execution_count": 38,
     "metadata": {},
     "output_type": "execute_result"
    }
   ],
   "source": [
    "#Dictionary to store the encoding values/labels\n",
    "label_dict = {}\n",
    "\n",
    "#Assign labels from 1 to num of unique classes\n",
    "for idx, possible_label in enumerate(cleaned_annotated.sentiment.unique()):\n",
    "    label_dict[possible_label] = idx+1\n",
    "\n",
    "label_dict"
   ]
  },
  {
   "cell_type": "code",
   "execution_count": 43,
   "id": "ac48c9a5-db04-4d6c-aa32-25c471a80f86",
   "metadata": {},
   "outputs": [
    {
     "data": {
      "text/html": [
       "<div>\n",
       "<style scoped>\n",
       "    .dataframe tbody tr th:only-of-type {\n",
       "        vertical-align: middle;\n",
       "    }\n",
       "\n",
       "    .dataframe tbody tr th {\n",
       "        vertical-align: top;\n",
       "    }\n",
       "\n",
       "    .dataframe thead th {\n",
       "        text-align: right;\n",
       "    }\n",
       "</style>\n",
       "<table border=\"1\" class=\"dataframe\">\n",
       "  <thead>\n",
       "    <tr style=\"text-align: right;\">\n",
       "      <th></th>\n",
       "      <th>ISP_Name</th>\n",
       "      <th>Time</th>\n",
       "      <th>Text</th>\n",
       "      <th>Source</th>\n",
       "      <th>sentiment</th>\n",
       "      <th>label</th>\n",
       "    </tr>\n",
       "  </thead>\n",
       "  <tbody>\n",
       "    <tr>\n",
       "      <th>0</th>\n",
       "      <td>sprectranet</td>\n",
       "      <td>2020-02-04 18:30:35+00:00</td>\n",
       "      <td>my family used my spectranet and they don't wa...</td>\n",
       "      <td>Twitter for Android</td>\n",
       "      <td>Neutral</td>\n",
       "      <td>1</td>\n",
       "    </tr>\n",
       "    <tr>\n",
       "      <th>1</th>\n",
       "      <td>sprectranet</td>\n",
       "      <td>2019-06-19 04:59:49</td>\n",
       "      <td>spectranet_ng how can i get the freedom mifi i...</td>\n",
       "      <td>Twitter for iPhone</td>\n",
       "      <td>Negative</td>\n",
       "      <td>2</td>\n",
       "    </tr>\n",
       "    <tr>\n",
       "      <th>2</th>\n",
       "      <td>sprectranet</td>\n",
       "      <td>2020-03-30 07:57:38+00:00</td>\n",
       "      <td>drolufunmilayo iconic_remi spectranet_ng</td>\n",
       "      <td>Twitter for iPhone</td>\n",
       "      <td>Neutral</td>\n",
       "      <td>1</td>\n",
       "    </tr>\n",
       "    <tr>\n",
       "      <th>3</th>\n",
       "      <td>sprectranet</td>\n",
       "      <td>2020-12-31 21:07:52+00:00</td>\n",
       "      <td>spectranet_ng your response just proves how ho...</td>\n",
       "      <td>Twitter for Android</td>\n",
       "      <td>Negative</td>\n",
       "      <td>2</td>\n",
       "    </tr>\n",
       "    <tr>\n",
       "      <th>4</th>\n",
       "      <td>sprectranet</td>\n",
       "      <td>2020-09-03 23:09:09+00:00</td>\n",
       "      <td>spectranet is just the worse tbh, i can't even...</td>\n",
       "      <td>Twitter for iPhone</td>\n",
       "      <td>Negative</td>\n",
       "      <td>2</td>\n",
       "    </tr>\n",
       "  </tbody>\n",
       "</table>\n",
       "</div>"
      ],
      "text/plain": [
       "      ISP_Name                       Time  \\\n",
       "0  sprectranet  2020-02-04 18:30:35+00:00   \n",
       "1  sprectranet        2019-06-19 04:59:49   \n",
       "2  sprectranet  2020-03-30 07:57:38+00:00   \n",
       "3  sprectranet  2020-12-31 21:07:52+00:00   \n",
       "4  sprectranet  2020-09-03 23:09:09+00:00   \n",
       "\n",
       "                                                Text               Source  \\\n",
       "0  my family used my spectranet and they don't wa...  Twitter for Android   \n",
       "1  spectranet_ng how can i get the freedom mifi i...   Twitter for iPhone   \n",
       "2           drolufunmilayo iconic_remi spectranet_ng   Twitter for iPhone   \n",
       "3  spectranet_ng your response just proves how ho...  Twitter for Android   \n",
       "4  spectranet is just the worse tbh, i can't even...   Twitter for iPhone   \n",
       "\n",
       "  sentiment  label  \n",
       "0   Neutral      1  \n",
       "1  Negative      2  \n",
       "2   Neutral      1  \n",
       "3  Negative      2  \n",
       "4  Negative      2  "
      ]
     },
     "execution_count": 43,
     "metadata": {},
     "output_type": "execute_result"
    }
   ],
   "source": [
    "#Encode the values as a new variable: label\n",
    "cleaned_annotated['label'] = cleaned_annotated.sentiment.map(label_dict)\n",
    "\n",
    "cleaned_annotated.head()"
   ]
  },
  {
   "cell_type": "markdown",
   "id": "3e1466f1-0018-4346-bbbc-b135463bc9b6",
   "metadata": {},
   "source": [
    "### 6. Write Datasets to CSV Files"
   ]
  },
  {
   "cell_type": "code",
   "execution_count": 54,
   "id": "4325b8fe-bf60-46e8-ae7a-933da759477d",
   "metadata": {},
   "outputs": [],
   "source": [
    "#Datasets derived from annotated dataset\n",
    "tweet_sentiment_df.to_csv('../data/interim/sample_with_sentiment_uncleaned.csv')\n",
    "cleaned_annotated.iloc[:,:-1].to_csv('../data/interim/sample_with_sentiment_cleaned.csv')\n",
    "cleaned_annotated.to_csv('../data/processed/sample_encoded_and_cleaned.csv')\n",
    "\n",
    "#Datasets derived from fully merged dataset\n",
    "isp_tweets.to_csv('../data/interim/full_merge_uncleaned.csv')\n",
    "cleaned_isp_tweets.to_csv('../data/processed/full_merge_cleaned.csv')"
   ]
  }
 ],
 "metadata": {
  "kernelspec": {
   "display_name": "Python 3 (ipykernel)",
   "language": "python",
   "name": "python3"
  },
  "language_info": {
   "codemirror_mode": {
    "name": "ipython",
    "version": 3
   },
   "file_extension": ".py",
   "mimetype": "text/x-python",
   "name": "python",
   "nbconvert_exporter": "python",
   "pygments_lexer": "ipython3",
   "version": "3.9.7"
  }
 },
 "nbformat": 4,
 "nbformat_minor": 5
}
