{
 "cells": [
  {
   "cell_type": "markdown",
   "id": "d31b06bc-26ce-467c-adda-4125a539ebf8",
   "metadata": {},
   "source": [
    "# Modeling: Aspect-Based Sentiment Analysis (Aspect Extraction)\n",
    "## BerTweet \n",
    "*Building a multi-label classifier for ABSA using a BERTweet model*"
   ]
  },
  {
   "cell_type": "markdown",
   "id": "464ed8e4-6453-491f-9e0f-02943bf68160",
   "metadata": {},
   "source": [
    "**`Overview:`** \n",
    "\n",
    "As seen mentioned by [(Karimi et al., 2021)](https://arxiv.org/pdf/2001.11316.pdf), aspect-based sentiment analysis (ABSA) can be broken down into two subtasks of *aspect extraction (AE)* and *aspect sentiment classification (ASC)* (Hu and Liu, 2004). This notebook focuses on the first subtask of aspect extraction.\n",
    "\\\n",
    "\\\n",
    "Here ABSA is framed as a multi-label classification problem and a BERTweet model is fine-tuned to learn and predict the predetermined aspects (price, speed, coverage, customer service, and reliability) for our Nigerian Internet Service domain.\n",
    "\n",
    "**`Initial results:`** \n",
    "\n",
    "\n",
    "Initial results indicate poor extraction performance of the fine-tuned model. This might be as a result of limited data. I look towards a binary relevance approach (using a set of independent classifier which each predict a different aspect) for the same multi-label classification problem in 6.2.2"
   ]
  },
  {
   "cell_type": "markdown",
   "id": "ff71f66c-9e02-4e41-821e-1a9ba7e093ab",
   "metadata": {},
   "source": [
    "## 1. Library Importation"
   ]
  },
  {
   "cell_type": "code",
   "execution_count": 28,
   "id": "7bbdc167-98eb-41c3-a27e-b10f4d4c3f1a",
   "metadata": {},
   "outputs": [
    {
     "name": "stderr",
     "output_type": "stream",
     "text": [
      "Global seed set to 123\n"
     ]
    },
    {
     "data": {
      "text/plain": [
       "123"
      ]
     },
     "execution_count": 28,
     "metadata": {},
     "output_type": "execute_result"
    }
   ],
   "source": [
    "#Data manipulation and visualization packages\n",
    "import numpy as np\n",
    "import pandas as pd\n",
    "import seaborn as sns\n",
    "import matplotlib.pyplot as plt\n",
    "\n",
    "#Modeling packages\n",
    "import torch\n",
    "from tqdm.auto import tqdm\n",
    "import pytorch_lightning as pl\n",
    "from torchmetrics import Precision, Recall, FBeta, AUROC\n",
    "from torch.utils.data import Dataset, DataLoader\n",
    "from pytorch_lightning.loggers import TensorBoardLogger\n",
    "from pytorch_lightning.callbacks import ModelCheckpoint, EarlyStopping\n",
    "from transformers import AdamW, get_linear_schedule_with_warmup\n",
    "from transformers import AutoTokenizer, AutoModel\n",
    "\n",
    "#Model evaluation and metrics\n",
    "from sklearn.model_selection import train_test_split\n",
    "from sklearn.metrics import classification_report, multilabel_confusion_matrix\n",
    "\n",
    "#Set seed\n",
    "RANDOM_SEED = 123\n",
    "pl.seed_everything(RANDOM_SEED)"
   ]
  },
  {
   "cell_type": "markdown",
   "id": "fd8abc17-dfd1-49eb-be52-6ebf133ac93d",
   "metadata": {},
   "source": [
    "## 2. Loading the data"
   ]
  },
  {
   "cell_type": "code",
   "execution_count": 4,
   "id": "f297ac05-6d1a-42f3-8bde-6db8da3d2a09",
   "metadata": {},
   "outputs": [
    {
     "name": "stdout",
     "output_type": "stream",
     "text": [
      "aspect_df size: (377, 3)\n",
      "aspect_df2 size: (111, 4)\n"
     ]
    }
   ],
   "source": [
    "#Load the dataframe with punctuated tweets. \n",
    "aspect_df = pd.read_csv(\"../data/processed/absa_text_annotated_price.csv\")\n",
    "\n",
    "#Load the dataframe from the 2nd absa annotation phase\n",
    "#- Contains mostly tweets with aspect annotation (unlike the dataframe above)\n",
    "aspect_df2 = pd.read_csv(\"../data/processed/second_tweet_absa_annotated.csv\")\n",
    "\n",
    "print(f\"aspect_df size: {aspect_df.shape}\")\n",
    "print(f\"aspect_df2 size: {aspect_df2.shape}\")"
   ]
  },
  {
   "cell_type": "code",
   "execution_count": 5,
   "id": "3fe6095c-dbed-4917-b4e0-8780f06b356b",
   "metadata": {},
   "outputs": [
    {
     "name": "stdout",
     "output_type": "stream",
     "text": [
      "(488, 3)\n"
     ]
    },
    {
     "data": {
      "text/html": [
       "<div>\n",
       "<style scoped>\n",
       "    .dataframe tbody tr th:only-of-type {\n",
       "        vertical-align: middle;\n",
       "    }\n",
       "\n",
       "    .dataframe tbody tr th {\n",
       "        vertical-align: top;\n",
       "    }\n",
       "\n",
       "    .dataframe thead th {\n",
       "        text-align: right;\n",
       "    }\n",
       "</style>\n",
       "<table border=\"1\" class=\"dataframe\">\n",
       "  <thead>\n",
       "    <tr style=\"text-align: right;\">\n",
       "      <th></th>\n",
       "      <th>Text</th>\n",
       "      <th>Aspects</th>\n",
       "      <th>Sentiment</th>\n",
       "    </tr>\n",
       "  </thead>\n",
       "  <tbody>\n",
       "    <tr>\n",
       "      <th>0</th>\n",
       "      <td>my family used my spectranet and they don't wa...</td>\n",
       "      <td>NaN</td>\n",
       "      <td>NaN</td>\n",
       "    </tr>\n",
       "    <tr>\n",
       "      <th>1</th>\n",
       "      <td>spectranet_ng how can i get the freedom mifi i...</td>\n",
       "      <td>NaN</td>\n",
       "      <td>NaN</td>\n",
       "    </tr>\n",
       "    <tr>\n",
       "      <th>2</th>\n",
       "      <td>drolufunmilayo iconic_remi spectranet_ng</td>\n",
       "      <td>NaN</td>\n",
       "      <td>NaN</td>\n",
       "    </tr>\n",
       "    <tr>\n",
       "      <th>3</th>\n",
       "      <td>spectranet_ng your response just proves how ho...</td>\n",
       "      <td>['customer service']</td>\n",
       "      <td>['Negative']</td>\n",
       "    </tr>\n",
       "    <tr>\n",
       "      <th>4</th>\n",
       "      <td>spectranet is just the worse tbh, i can't even...</td>\n",
       "      <td>['speed']</td>\n",
       "      <td>['Negative']</td>\n",
       "    </tr>\n",
       "  </tbody>\n",
       "</table>\n",
       "</div>"
      ],
      "text/plain": [
       "                                                Text               Aspects  \\\n",
       "0  my family used my spectranet and they don't wa...                   NaN   \n",
       "1  spectranet_ng how can i get the freedom mifi i...                   NaN   \n",
       "2           drolufunmilayo iconic_remi spectranet_ng                   NaN   \n",
       "3  spectranet_ng your response just proves how ho...  ['customer service']   \n",
       "4  spectranet is just the worse tbh, i can't even...             ['speed']   \n",
       "\n",
       "      Sentiment  \n",
       "0           NaN  \n",
       "1           NaN  \n",
       "2           NaN  \n",
       "3  ['Negative']  \n",
       "4  ['Negative']  "
      ]
     },
     "execution_count": 5,
     "metadata": {},
     "output_type": "execute_result"
    }
   ],
   "source": [
    "#Merge both dataframes together\n",
    "merged_absa_df = pd.concat([aspect_df,aspect_df2.drop(columns = ['Cleaned tweets'])])\n",
    "print(merged_absa_df.shape)\n",
    "merged_absa_df.head()"
   ]
  },
  {
   "cell_type": "markdown",
   "id": "08327083-5c61-4513-97eb-9e999697c947",
   "metadata": {},
   "source": [
    "## 3. Reformat the data"
   ]
  },
  {
   "cell_type": "markdown",
   "id": "1854ba5e-2698-4bfc-b8d7-bdc799ce1e8b",
   "metadata": {},
   "source": [
    "### a. Convert lists from string format to list"
   ]
  },
  {
   "cell_type": "code",
   "execution_count": 6,
   "id": "b67f82c6-e184-409b-8e62-fa1ee6230160",
   "metadata": {},
   "outputs": [
    {
     "data": {
      "text/html": [
       "<div>\n",
       "<style scoped>\n",
       "    .dataframe tbody tr th:only-of-type {\n",
       "        vertical-align: middle;\n",
       "    }\n",
       "\n",
       "    .dataframe tbody tr th {\n",
       "        vertical-align: top;\n",
       "    }\n",
       "\n",
       "    .dataframe thead th {\n",
       "        text-align: right;\n",
       "    }\n",
       "</style>\n",
       "<table border=\"1\" class=\"dataframe\">\n",
       "  <thead>\n",
       "    <tr style=\"text-align: right;\">\n",
       "      <th></th>\n",
       "      <th>Text</th>\n",
       "      <th>Aspects</th>\n",
       "      <th>Sentiment</th>\n",
       "    </tr>\n",
       "  </thead>\n",
       "  <tbody>\n",
       "    <tr>\n",
       "      <th>0</th>\n",
       "      <td>my family used my spectranet and they don't wa...</td>\n",
       "      <td>NaN</td>\n",
       "      <td>NaN</td>\n",
       "    </tr>\n",
       "    <tr>\n",
       "      <th>1</th>\n",
       "      <td>spectranet_ng how can i get the freedom mifi i...</td>\n",
       "      <td>NaN</td>\n",
       "      <td>NaN</td>\n",
       "    </tr>\n",
       "    <tr>\n",
       "      <th>2</th>\n",
       "      <td>drolufunmilayo iconic_remi spectranet_ng</td>\n",
       "      <td>NaN</td>\n",
       "      <td>NaN</td>\n",
       "    </tr>\n",
       "    <tr>\n",
       "      <th>3</th>\n",
       "      <td>spectranet_ng your response just proves how ho...</td>\n",
       "      <td>[customer service]</td>\n",
       "      <td>[Negative]</td>\n",
       "    </tr>\n",
       "    <tr>\n",
       "      <th>4</th>\n",
       "      <td>spectranet is just the worse tbh, i can't even...</td>\n",
       "      <td>[speed]</td>\n",
       "      <td>[Negative]</td>\n",
       "    </tr>\n",
       "  </tbody>\n",
       "</table>\n",
       "</div>"
      ],
      "text/plain": [
       "                                                Text             Aspects  \\\n",
       "0  my family used my spectranet and they don't wa...                 NaN   \n",
       "1  spectranet_ng how can i get the freedom mifi i...                 NaN   \n",
       "2           drolufunmilayo iconic_remi spectranet_ng                 NaN   \n",
       "3  spectranet_ng your response just proves how ho...  [customer service]   \n",
       "4  spectranet is just the worse tbh, i can't even...             [speed]   \n",
       "\n",
       "    Sentiment  \n",
       "0         NaN  \n",
       "1         NaN  \n",
       "2         NaN  \n",
       "3  [Negative]  \n",
       "4  [Negative]  "
      ]
     },
     "execution_count": 6,
     "metadata": {},
     "output_type": "execute_result"
    }
   ],
   "source": [
    "#Convert Aspects column\n",
    "merged_absa_df.Aspects = merged_absa_df.Aspects.apply(lambda x: eval(x) if (pd.notnull(x)) else x)\n",
    "\n",
    "#Convert Sentiment column\n",
    "merged_absa_df.Sentiment = merged_absa_df.Sentiment.apply(lambda x: eval(x) if (pd.notnull(x)) else x)\n",
    "\n",
    "#Make a copy of the dataframe\n",
    "processed_aspect_df = merged_absa_df.copy()\n",
    "\n",
    "#Quick preview\n",
    "processed_aspect_df.head()"
   ]
  },
  {
   "cell_type": "markdown",
   "id": "b2b291fc-3f4a-4ba1-9395-dd315ecb22a3",
   "metadata": {},
   "source": [
    "### b. Fill NaNs with [None]"
   ]
  },
  {
   "cell_type": "code",
   "execution_count": 7,
   "id": "653b3b4e-105f-4039-b741-fcb1dddd3c74",
   "metadata": {},
   "outputs": [
    {
     "data": {
      "text/html": [
       "<div>\n",
       "<style scoped>\n",
       "    .dataframe tbody tr th:only-of-type {\n",
       "        vertical-align: middle;\n",
       "    }\n",
       "\n",
       "    .dataframe tbody tr th {\n",
       "        vertical-align: top;\n",
       "    }\n",
       "\n",
       "    .dataframe thead th {\n",
       "        text-align: right;\n",
       "    }\n",
       "</style>\n",
       "<table border=\"1\" class=\"dataframe\">\n",
       "  <thead>\n",
       "    <tr style=\"text-align: right;\">\n",
       "      <th></th>\n",
       "      <th>Text</th>\n",
       "      <th>Aspects</th>\n",
       "      <th>Sentiment</th>\n",
       "    </tr>\n",
       "  </thead>\n",
       "  <tbody>\n",
       "    <tr>\n",
       "      <th>0</th>\n",
       "      <td>my family used my spectranet and they don't wa...</td>\n",
       "      <td>[None]</td>\n",
       "      <td>[None]</td>\n",
       "    </tr>\n",
       "    <tr>\n",
       "      <th>1</th>\n",
       "      <td>spectranet_ng how can i get the freedom mifi i...</td>\n",
       "      <td>[None]</td>\n",
       "      <td>[None]</td>\n",
       "    </tr>\n",
       "    <tr>\n",
       "      <th>2</th>\n",
       "      <td>drolufunmilayo iconic_remi spectranet_ng</td>\n",
       "      <td>[None]</td>\n",
       "      <td>[None]</td>\n",
       "    </tr>\n",
       "    <tr>\n",
       "      <th>3</th>\n",
       "      <td>spectranet_ng your response just proves how ho...</td>\n",
       "      <td>[customer service]</td>\n",
       "      <td>[Negative]</td>\n",
       "    </tr>\n",
       "    <tr>\n",
       "      <th>4</th>\n",
       "      <td>spectranet is just the worse tbh, i can't even...</td>\n",
       "      <td>[speed]</td>\n",
       "      <td>[Negative]</td>\n",
       "    </tr>\n",
       "  </tbody>\n",
       "</table>\n",
       "</div>"
      ],
      "text/plain": [
       "                                                Text             Aspects  \\\n",
       "0  my family used my spectranet and they don't wa...              [None]   \n",
       "1  spectranet_ng how can i get the freedom mifi i...              [None]   \n",
       "2           drolufunmilayo iconic_remi spectranet_ng              [None]   \n",
       "3  spectranet_ng your response just proves how ho...  [customer service]   \n",
       "4  spectranet is just the worse tbh, i can't even...             [speed]   \n",
       "\n",
       "    Sentiment  \n",
       "0      [None]  \n",
       "1      [None]  \n",
       "2      [None]  \n",
       "3  [Negative]  \n",
       "4  [Negative]  "
      ]
     },
     "execution_count": 7,
     "metadata": {},
     "output_type": "execute_result"
    }
   ],
   "source": [
    "processed_aspect_df = processed_aspect_df.apply(lambda s: s.fillna({i: [None] for i in processed_aspect_df.index}))\n",
    "processed_aspect_df.head()"
   ]
  },
  {
   "cell_type": "markdown",
   "id": "6e799748-a992-49bc-b8fe-b6fd1bd1f210",
   "metadata": {},
   "source": [
    "### c. Binarizing the aspects"
   ]
  },
  {
   "cell_type": "code",
   "execution_count": 8,
   "id": "4b7f4fad-5ba6-48e8-ba08-27f77651c1a9",
   "metadata": {},
   "outputs": [
    {
     "data": {
      "text/html": [
       "<div>\n",
       "<style scoped>\n",
       "    .dataframe tbody tr th:only-of-type {\n",
       "        vertical-align: middle;\n",
       "    }\n",
       "\n",
       "    .dataframe tbody tr th {\n",
       "        vertical-align: top;\n",
       "    }\n",
       "\n",
       "    .dataframe thead th {\n",
       "        text-align: right;\n",
       "    }\n",
       "</style>\n",
       "<table border=\"1\" class=\"dataframe\">\n",
       "  <thead>\n",
       "    <tr style=\"text-align: right;\">\n",
       "      <th></th>\n",
       "      <th>Text</th>\n",
       "      <th>price</th>\n",
       "      <th>speed</th>\n",
       "      <th>reliability</th>\n",
       "      <th>coverage</th>\n",
       "      <th>customer service</th>\n",
       "      <th>Sentiment</th>\n",
       "    </tr>\n",
       "  </thead>\n",
       "  <tbody>\n",
       "    <tr>\n",
       "      <th>0</th>\n",
       "      <td>my family used my spectranet and they don't wa...</td>\n",
       "      <td>0</td>\n",
       "      <td>0</td>\n",
       "      <td>0</td>\n",
       "      <td>0</td>\n",
       "      <td>0</td>\n",
       "      <td>[None]</td>\n",
       "    </tr>\n",
       "    <tr>\n",
       "      <th>1</th>\n",
       "      <td>spectranet_ng how can i get the freedom mifi i...</td>\n",
       "      <td>0</td>\n",
       "      <td>0</td>\n",
       "      <td>0</td>\n",
       "      <td>0</td>\n",
       "      <td>0</td>\n",
       "      <td>[None]</td>\n",
       "    </tr>\n",
       "    <tr>\n",
       "      <th>2</th>\n",
       "      <td>drolufunmilayo iconic_remi spectranet_ng</td>\n",
       "      <td>0</td>\n",
       "      <td>0</td>\n",
       "      <td>0</td>\n",
       "      <td>0</td>\n",
       "      <td>0</td>\n",
       "      <td>[None]</td>\n",
       "    </tr>\n",
       "    <tr>\n",
       "      <th>3</th>\n",
       "      <td>spectranet_ng your response just proves how ho...</td>\n",
       "      <td>0</td>\n",
       "      <td>0</td>\n",
       "      <td>0</td>\n",
       "      <td>0</td>\n",
       "      <td>1</td>\n",
       "      <td>[Negative]</td>\n",
       "    </tr>\n",
       "    <tr>\n",
       "      <th>4</th>\n",
       "      <td>spectranet is just the worse tbh, i can't even...</td>\n",
       "      <td>0</td>\n",
       "      <td>1</td>\n",
       "      <td>0</td>\n",
       "      <td>0</td>\n",
       "      <td>0</td>\n",
       "      <td>[Negative]</td>\n",
       "    </tr>\n",
       "  </tbody>\n",
       "</table>\n",
       "</div>"
      ],
      "text/plain": [
       "                                                Text  price  speed  \\\n",
       "0  my family used my spectranet and they don't wa...      0      0   \n",
       "1  spectranet_ng how can i get the freedom mifi i...      0      0   \n",
       "2           drolufunmilayo iconic_remi spectranet_ng      0      0   \n",
       "3  spectranet_ng your response just proves how ho...      0      0   \n",
       "4  spectranet is just the worse tbh, i can't even...      0      1   \n",
       "\n",
       "   reliability  coverage  customer service   Sentiment  \n",
       "0            0         0                 0      [None]  \n",
       "1            0         0                 0      [None]  \n",
       "2            0         0                 0      [None]  \n",
       "3            0         0                 1  [Negative]  \n",
       "4            0         0                 0  [Negative]  "
      ]
     },
     "execution_count": 8,
     "metadata": {},
     "output_type": "execute_result"
    }
   ],
   "source": [
    "#List aspects determined during the annotation phase\n",
    "#Note: This might not be exhaustive! But it should cover most cases. It is also subjective!\n",
    "#Also using synonyms of these words will likely yield different results\n",
    "ASPECTS = ['price','speed','reliability','coverage', 'customer service']\n",
    "\n",
    "#Iterate through all the aspects and if the aspect is not in the tweet, record 0 else record 1\n",
    "for aspect in ASPECTS[::-1]:\n",
    "    processed_aspect_df.insert(1,aspect,processed_aspect_df.Aspects.apply(lambda x: 1 if aspect in x else 0))\n",
    "    \n",
    "#Drop the Aspects column\n",
    "processed_aspect_df.drop(columns=['Aspects'] , inplace=True)\n",
    "\n",
    "#Quick preview\n",
    "processed_aspect_df.head()"
   ]
  },
  {
   "cell_type": "code",
   "execution_count": 9,
   "id": "c79fc731-a968-4627-954e-90c57dd4bc48",
   "metadata": {},
   "outputs": [],
   "source": [
    "#Save the binarized dataframe\n",
    "processed_aspect_df.to_csv(\"../data/processed/absa_binarized.csv\",index=False)"
   ]
  },
  {
   "cell_type": "markdown",
   "id": "473f765a-36f5-4959-b16c-c422957e22c4",
   "metadata": {},
   "source": [
    "## 4. Quick EDA"
   ]
  },
  {
   "cell_type": "code",
   "execution_count": 10,
   "id": "7d603123-f706-4d2e-ab1c-023aed8776ad",
   "metadata": {},
   "outputs": [
    {
     "data": {
      "image/png": "[encoded data removed]",
      "text/plain": [
       "<Figure size 3600x2100 with 1 Axes>"
      ]
     },
     "metadata": {
      "needs_background": "light"
     },
     "output_type": "display_data"
    }
   ],
   "source": [
    "with plt.style.context(['notebook','no-latex','grid']):\n",
    "    plt.figure(figsize = (12,7), dpi=300)\n",
    "    processed_aspect_df[ASPECTS].sum().sort_values()\\\n",
    "                                            .plot(kind = \"barh\", color = 'cornflowerblue')\\\n",
    "                                            .set(xlabel = \"Number of times detected in tweets\",\n",
    "                                                ylabel = \"Aspect category\")\n",
    "                        \n",
    "    plt.show()"
   ]
  },
  {
   "cell_type": "markdown",
   "id": "740cf34b-a230-4f3f-80c6-0f1a0882a239",
   "metadata": {},
   "source": [
    "From the above, we see that the labels are quite imbalanced. Trustworthiness is especially important to point out. To account for this, we look into reweighting our loss function. However, before doing so, we look more broadly into aspects vs no aspects tweets distribution:"
   ]
  },
  {
   "cell_type": "code",
   "execution_count": 11,
   "id": "365105c3-37f0-4f74-81b0-de357d12bd3b",
   "metadata": {},
   "outputs": [
    {
     "data": {
      "image/png": "[encoded data removed]",
      "text/plain": [
       "<Figure size 3600x2100 with 1 Axes>"
      ]
     },
     "metadata": {
      "needs_background": "light"
     },
     "output_type": "display_data"
    }
   ],
   "source": [
    "#Get the rows with aspects tagged and no aspects tagged\n",
    "aspects_tagged = processed_aspect_df[processed_aspect_df[ASPECTS].sum(axis=1) > 0]\n",
    "no_aspects_tagged = processed_aspect_df[processed_aspect_df[ASPECTS].sum(axis=1) == 0]\n",
    "\n",
    "with plt.style.context(['notebook','no-latex','grid']):\n",
    "    plt.figure(figsize = (12,7), dpi=300)\n",
    "    plt.barh(['Aspect(s) tagged','No aspect tagged'],\n",
    "             [len(aspects_tagged),len(no_aspects_tagged)],color=['mediumslateblue','royalblue'])"
   ]
  },
  {
   "cell_type": "markdown",
   "id": "5c1ce05d-e7d1-4cbb-9a50-0e13a50050dc",
   "metadata": {},
   "source": [
    "Roughly balanced."
   ]
  },
  {
   "cell_type": "markdown",
   "id": "13923184-6d99-4cb3-b174-d0f3411987e5",
   "metadata": {},
   "source": [
    "## 5. Split data into training, validation and test set"
   ]
  },
  {
   "cell_type": "markdown",
   "id": "64db2048-6846-4f78-9b2b-b22dc72f1a79",
   "metadata": {},
   "source": [
    "### a. Split to training and test set"
   ]
  },
  {
   "cell_type": "code",
   "execution_count": 12,
   "id": "702599fc-424e-48ba-9c38-89423bbe612b",
   "metadata": {},
   "outputs": [
    {
     "name": "stdout",
     "output_type": "stream",
     "text": [
      "Train size: (390, 7) Test size: (98, 7)\n"
     ]
    }
   ],
   "source": [
    "#Split the data 80:20 (training and test)\n",
    "train_df, test_df = train_test_split(processed_aspect_df,test_size=0.20,\n",
    "                                    stratify = processed_aspect_df.coverage)\n",
    "print(f\"Train size: {train_df.shape}\", f\"Test size: {test_df.shape}\")"
   ]
  },
  {
   "cell_type": "markdown",
   "id": "3ff48601-a880-48bd-a24d-9510bc7fb7dc",
   "metadata": {},
   "source": [
    "### b. Split training set to training and validation set"
   ]
  },
  {
   "cell_type": "code",
   "execution_count": 13,
   "id": "290749ec-94cc-4a51-8eb0-425a14ce824f",
   "metadata": {},
   "outputs": [
    {
     "name": "stdout",
     "output_type": "stream",
     "text": [
      "Train size: (292, 7) Validation size: (98, 7)\n"
     ]
    }
   ],
   "source": [
    "train_df, val_df = train_test_split(train_df,test_size=0.25,\n",
    "                                    stratify = train_df.coverage)\n",
    "print(f\"Train size: {train_df.shape}\", f\"Validation size: {val_df.shape}\")"
   ]
  },
  {
   "cell_type": "markdown",
   "id": "28703c99-0bb6-4e8f-85b0-c37819015d55",
   "metadata": {},
   "source": [
    "### c. Check to see that all the sets have all the aspect categories"
   ]
  },
  {
   "cell_type": "code",
   "execution_count": 14,
   "id": "88176872-d09f-4e4d-bdf5-aec3cc5fcd72",
   "metadata": {},
   "outputs": [
    {
     "data": {
      "image/png": "[encoded data removed]",
      "text/plain": [
       "<Figure size 864x432 with 3 Axes>"
      ]
     },
     "metadata": {
      "needs_background": "light"
     },
     "output_type": "display_data"
    }
   ],
   "source": [
    "df_sets = [('Training',train_df),('Validation', val_df),('Test',test_df)]\n",
    "    \n",
    "plt.figure(figsize = (12,6))\n",
    "for idx,df in enumerate(df_sets):\n",
    "    \n",
    "    plt.subplot(1,3,idx+1)\n",
    "    plt.tight_layout()\n",
    "\n",
    "    with plt.style.context(['notebook','no-latex','grid']):\n",
    "        \n",
    "        plt.title(df[0])\n",
    "        df[1][ASPECTS].sum().plot(kind = \"bar\", color = 'cornflowerblue')\n",
    "        plt.xticks(rotation=90)\n",
    "        \n",
    "        if idx == 0:\n",
    "            plt.ylabel('Number of tags in the tweets', fontsize=16)\n",
    "        \n",
    "    \n",
    "plt.show()\n",
    "        "
   ]
  },
  {
   "cell_type": "markdown",
   "id": "49e0309d-06a5-441a-91dc-193162192293",
   "metadata": {},
   "source": [
    "## 6. Modeling - Aspect Extraction v1\n",
    "**`Default BCE Loss Function`**"
   ]
  },
  {
   "cell_type": "markdown",
   "id": "993719c6-741b-4274-b6c0-c71d8f499738",
   "metadata": {},
   "source": [
    "Dataset from above has been changed so the below section won't reproduce the results if reran!"
   ]
  },
  {
   "cell_type": "markdown",
   "id": "2626c04e-ad4a-42d4-bcec-b7a788ff76f9",
   "metadata": {},
   "source": [
    "### a. Load the tokenizer and the BERTweet model"
   ]
  },
  {
   "cell_type": "code",
   "execution_count": 15,
   "id": "5909bae8-abc2-41d5-81c4-34f4a6f8011d",
   "metadata": {},
   "outputs": [
    {
     "name": "stderr",
     "output_type": "stream",
     "text": [
      "Special tokens have been added in the vocabulary, make sure the associated word embeddings are fine-tuned or trained.\n",
      "2021-12-10 12:09:39.471568: I tensorflow/core/platform/cpu_feature_guard.cc:142] This TensorFlow binary is optimized with oneAPI Deep Neural Network Library (oneDNN) to use the following CPU instructions in performance-critical operations:  AVX2 FMA\n",
      "To enable them in other operations, rebuild TensorFlow with the appropriate compiler flags.\n",
      "All TF 2.0 model weights were used when initializing RobertaModel.\n",
      "\n",
      "All the weights of RobertaModel were initialized from the TF 2.0 model.\n",
      "If your task is similar to the task the model of the checkpoint was trained on, you can already use RobertaModel for predictions without further training.\n"
     ]
    }
   ],
   "source": [
    "#Load BerTweet tokenizer\n",
    "TOKENIZER = AutoTokenizer.from_pretrained(\"vinai/bertweet-base\", normalization=True)\n",
    "\n",
    "#Load the BERTweet model\n",
    "BERTWEET_MODEL = AutoModel.from_pretrained(\"vinai/bertweet-base\", from_tf = True, return_dict = True)"
   ]
  },
  {
   "cell_type": "markdown",
   "id": "6aa77f96-3283-4570-b490-df350f07ffe2",
   "metadata": {},
   "source": [
    "### b. Prepare the training, validation, and test sets"
   ]
  },
  {
   "cell_type": "code",
   "execution_count": 16,
   "id": "f39510c1-0685-4722-b064-6223622bc82b",
   "metadata": {},
   "outputs": [],
   "source": [
    "TRAIN_BATCH_SIZE = 32 #Increase batch size so the model has an increased chance of seeing as many aspects\n",
    "TEST_BATCH_SIZE = 8"
   ]
  },
  {
   "cell_type": "code",
   "execution_count": 17,
   "id": "28b1e9a4-494d-409e-b43f-d54c3d2647fa",
   "metadata": {},
   "outputs": [],
   "source": [
    "class Generate_PyTorch_Dataset(torch.utils.data.Dataset):\n",
    "\n",
    "    def __init__(self, dataframe, tokenizer):\n",
    "        self.dataframe  = dataframe\n",
    "        self.tokenizer  = tokenizer\n",
    "        self.max_len    = tokenizer.model_max_length\n",
    "  \n",
    "    def __len__(self):\n",
    "        return len(self.dataframe)\n",
    "  \n",
    "    def __getitem__(self, idx):\n",
    "        \n",
    "        #Get each row of the dataframe\n",
    "        data_row = self.dataframe.iloc[idx]\n",
    "        \n",
    "        #Get the tweet\n",
    "        text = str(data_row.Text)\n",
    "        \n",
    "        #Get the aspect labels\n",
    "        labels = data_row[ASPECTS]\n",
    "        \n",
    "        #Encode the tweet\n",
    "        encoded_text = self.tokenizer.encode_plus(\n",
    "            text,\n",
    "            add_special_tokens    = True,\n",
    "            truncation            = True,\n",
    "            return_attention_mask = True,\n",
    "            return_token_type_ids = False,\n",
    "            return_length         = True,\n",
    "            max_length            = self.max_len,\n",
    "            return_tensors        = 'pt',\n",
    "            padding               = \"max_length\"\n",
    "        )\n",
    "        \n",
    "        \n",
    "        return {\n",
    "            'input_ids': encoded_text['input_ids'].flatten(),\n",
    "            'attention_mask': encoded_text['attention_mask'].flatten(),\n",
    "            'labels': torch.tensor(labels, dtype=torch.float)\n",
    "        }\n",
    "    "
   ]
  },
  {
   "cell_type": "code",
   "execution_count": 18,
   "id": "c4ef8401-a823-448f-a612-635d734c7397",
   "metadata": {},
   "outputs": [],
   "source": [
    "class PyTorchDataModule(pl.LightningDataModule):\n",
    "    \n",
    "    def __init__(self, train_df, val_df, test_df, tokenizer, train_batch_size=16, test_batch_size=8):\n",
    "        \n",
    "        super().__init__()\n",
    "        self.train_df = train_df\n",
    "        self.val_df = train_df\n",
    "        self.test_df = test_df\n",
    "        self.tokenizer = tokenizer\n",
    "        self.train_batch_size = train_batch_size\n",
    "        self.test_batch_size = test_batch_size\n",
    "        self.max_len = self.tokenizer.model_max_length\n",
    "        \n",
    "    def setup(self):\n",
    "        \n",
    "        \"\"\"\n",
    "        Setup the training, validation and test sets by converting them to Pytorch datasets\n",
    "        \"\"\"\n",
    "        \n",
    "        self.train_dataset = Generate_PyTorch_Dataset(self.train_df,self.tokenizer)\n",
    "        self.val_dataset = Generate_PyTorch_Dataset(self.val_df,self.tokenizer)\n",
    "        self.test_dataset = Generate_PyTorch_Dataset(self.test_df,self.tokenizer)\n",
    "        \n",
    "        \n",
    "    def train_dataloader(self):\n",
    "        \n",
    "        \"\"\"\n",
    "        Training set dataloader\n",
    "        \"\"\"\n",
    "        \n",
    "        return DataLoader(self.train_dataset,\n",
    "                          batch_size  = self.train_batch_size,\n",
    "                          shuffle     = True, \n",
    "                          num_workers = 2)\n",
    "         \n",
    "    def val_dataloader(self):\n",
    "        \n",
    "        \"\"\"\n",
    "        Validation set dataloader\n",
    "        \"\"\"\n",
    "        \n",
    "        return DataLoader(self.val_dataset, batch_size = self.test_batch_size, num_workers=2)\n",
    "        \n",
    "    def test_dataloader(self):\n",
    "        \n",
    "        \"\"\"\n",
    "        Test set dataloader\n",
    "        \"\"\"\n",
    "        \n",
    "        return DataLoader(self.test_dataset, batch_size = self.test_batch_size, num_workers=2)\n",
    "        "
   ]
  },
  {
   "cell_type": "code",
   "execution_count": 19,
   "id": "e5ee7c0c-22bf-493b-a1a9-647eb40832a2",
   "metadata": {},
   "outputs": [],
   "source": [
    "#Instantiate and set up the data_module\n",
    "data_module = PyTorchDataModule(train_df,val_df,test_df,TOKENIZER, TRAIN_BATCH_SIZE, TEST_BATCH_SIZE)\n",
    "data_module.setup()"
   ]
  },
  {
   "cell_type": "code",
   "execution_count": 20,
   "id": "0437eb1a-cf69-4b29-90cf-5c1216c14248",
   "metadata": {},
   "outputs": [],
   "source": [
    "class ISP_TweetAspectClassifier(pl.LightningModule):\n",
    "    \n",
    "    \"\"\"\n",
    "    Adapted from Multi-label Text Classification with BERT and PyTorch Lightning. (2021). \n",
    "    Curiousily. https://curiousily.com/posts/multi-label-text-classification-with-bert-and-pytorch-lightning/\n",
    "    \"\"\"\n",
    "    \n",
    "    #Set the aspect classifier\n",
    "    def __init__(self, n_classes=5, n_training_steps=None, n_warmup_steps=None, lr=2e-5):\n",
    "        \n",
    "        super().__init__()\n",
    "        self.lr = lr\n",
    "        self.n_warmup_steps = n_warmup_steps\n",
    "        self.n_training_steps = n_training_steps\n",
    "        self.bert = BERTWEET_MODEL\n",
    "        self.classifier = torch.nn.Linear(self.bert.config.hidden_size, n_classes)\n",
    "        self.criterion = torch.nn.BCELoss()\n",
    "        \n",
    "    def forward(self, input_ids, attention_mask, labels = None):\n",
    "        output = self.bert(input_ids, attention_mask=attention_mask)\n",
    "        output = self.classifier(output.pooler_output)\n",
    "        output = torch.sigmoid(output)\n",
    "        \n",
    "        loss = 0\n",
    "        \n",
    "        if labels is not None:\n",
    "            loss = self.criterion(output, labels)\n",
    "            \n",
    "        return loss, output\n",
    "    \n",
    "    def training_step(self, batch, batch_idx):\n",
    "        \n",
    "        input_ids = batch[\"input_ids\"]\n",
    "        attention_mask = batch[\"attention_mask\"]\n",
    "        labels = batch[\"labels\"]\n",
    "        \n",
    "        loss, outputs = self(input_ids, attention_mask, labels)\n",
    "        self.log(\"train_loss\", loss, prog_bar=True, logger=True)\n",
    "        \n",
    "        return {\"loss\": loss, \"predictions\": outputs.detach(), \"labels\": labels}\n",
    "    \n",
    "    def validation_step(self, batch, batch_idx):\n",
    "        input_ids = batch[\"input_ids\"]\n",
    "        attention_mask = batch[\"attention_mask\"]\n",
    "        labels = batch[\"labels\"]\n",
    "        \n",
    "        loss, outputs = self(input_ids, attention_mask,labels)\n",
    "        self.log(\"val_loss\", loss, prog_bar=True, logger=True)\n",
    "        \n",
    "        return loss\n",
    "    \n",
    "    \n",
    "    def test_step(self, batch, batch_idx):\n",
    "        input_ids = batch[\"input_ids\"]\n",
    "        attention_mask = batch[\"attention_mask\"]\n",
    "        labels = batch[\"labels\"]\n",
    "        \n",
    "        loss, outputs = self(input_ids, attention_mask, labels)\n",
    "        self.log(\"test_loss\", loss, prog_bar=True, logger=True)\n",
    "        \n",
    "        return loss\n",
    "    \n",
    "    \n",
    "    def training_epoch_end(self, outputs):\n",
    "            \n",
    "        #List to store the true labels and the model's predictions\n",
    "        labels = []\n",
    "        predictions = []\n",
    "        \n",
    "        #Iterate through all the outputs and get the true vs. predicted label\n",
    "        for output in outputs:\n",
    "            \n",
    "            for label in output[\"labels\"].detach().cpu():\n",
    "                labels.append(label)\n",
    "            for pred in output[\"predictions\"].detach().cpu():\n",
    "                predictions.append(pred)\n",
    "        \n",
    "        #Stack the tensors\n",
    "        labels = torch.stack(labels).int()\n",
    "        predictions = torch.stack(predictions)\n",
    "        \n",
    "        #Record the AUROC for each aspect after each training epoch\n",
    "        for idx, name in enumerate(ASPECTS):\n",
    "            metric = AUROC()\n",
    "            class_roc_auc = metric(predictions[:,idx], labels[:,idx])\n",
    "            self.logger.experiment.add_scalar(f\"{name}_roc_auc/Train\", class_roc_auc, self.current_epoch)\n",
    "        \n",
    "        #Calculate the micro-F1\n",
    "        f1_metric = F1()\n",
    "        micro_f1 = f1_metric(predictions, labels)\n",
    "        self.logger.experiment.add_scalar(f\"micro_f1_score\", micro_f1, self.current_epoch)\n",
    "   \n",
    "    \n",
    "    def configure_optimizers(self):\n",
    "        \n",
    "        optimizer = AdamW(self.parameters(), lr = self.lr)\n",
    "        \n",
    "        scheduler = get_linear_schedule_with_warmup(\n",
    "            optimizer,\n",
    "            num_warmup_steps=self.n_warmup_steps,\n",
    "            num_training_steps=self.n_training_steps)\n",
    "        \n",
    "          \n",
    "        return {'optimizer': optimizer, 'lr_scheduler':{'scheduler':scheduler,'interval':'step'}}\n",
    "    "
   ]
  },
  {
   "cell_type": "code",
   "execution_count": 21,
   "id": "95109686-7416-4bc0-9ad9-933c21156a54",
   "metadata": {},
   "outputs": [],
   "source": [
    "#Define variables\n",
    "N_EPOCHS = 20\n",
    "STEPS_PER_EPOCH =len(train_df)//TRAIN_BATCH_SIZE\n",
    "TOTAL_TRAIN_STEPS = STEPS_PER_EPOCH * N_EPOCHS\n",
    "N_WARMUP_STEPS = TOTAL_TRAIN_STEPS // 4\n",
    "\n",
    "#Instantiate the classifier model\n",
    "model = ISP_TweetAspectClassifier(n_training_steps = TOTAL_TRAIN_STEPS,\n",
    "                                  n_warmup_steps   = N_WARMUP_STEPS)"
   ]
  },
  {
   "cell_type": "markdown",
   "id": "fcf20d44-10cd-4168-8ce5-11dd97fa0b3e",
   "metadata": {
    "tags": []
   },
   "source": [
    "### d. Training"
   ]
  },
  {
   "cell_type": "code",
   "execution_count": 33,
   "id": "83653900-9456-4b47-b823-67096edc4bf1",
   "metadata": {},
   "outputs": [],
   "source": [
    "#Setup callback to perform saves during training\n",
    "checkpoint_callback = ModelCheckpoint(\n",
    "  dirpath    = \"../models/absa-aspect-extraction/bertweet\",\n",
    "  filename   = \"ae-{epoch:02d}-{val_loss:.2f}\",\n",
    "  save_top_k = 3, #Save the top 3 models\n",
    "  verbose    = True,\n",
    "  monitor    = \"val_loss\",\n",
    "  mode       = \"min\" #Minimize val loss\n",
    ")\n",
    "\n",
    "#Log progress in Tensorboard\n",
    "logger = TensorBoardLogger(\"../models/absa-aspect-extraction/bertweet/lightning_logs\", name = \"isp-tweets\")"
   ]
  },
  {
   "cell_type": "code",
   "execution_count": 36,
   "id": "6234d25c-35c6-4b0c-ac6e-e60d53126550",
   "metadata": {},
   "outputs": [
    {
     "name": "stderr",
     "output_type": "stream",
     "text": [
      "GPU available: False, used: False\n",
      "TPU available: False, using: 0 TPU cores\n",
      "IPU available: False, using: 0 IPUs\n",
      "\n",
      "  | Name       | Type         | Params\n",
      "--------------------------------------------\n",
      "0 | bert       | RobertaModel | 134 M \n",
      "1 | classifier | Linear       | 3.8 K \n",
      "2 | criterion  | BCELoss      | 0     \n",
      "--------------------------------------------\n",
      "134 M     Trainable params\n",
      "0         Non-trainable params\n",
      "134 M     Total params\n",
      "539.615   Total estimated model params size (MB)\n"
     ]
    },
    {
     "data": {
      "application/vnd.jupyter.widget-view+json": {
       "model_id": "ffc3dbba65624eb2a3bb0e3ce363cd46",
       "version_major": 2,
       "version_minor": 0
      },
      "text/plain": [
       "Validation sanity check: 0it [00:00, ?it/s]"
      ]
     },
     "metadata": {},
     "output_type": "display_data"
    },
    {
     "name": "stderr",
     "output_type": "stream",
     "text": [
      "[W ParallelNative.cpp:214] Warning: Cannot set number of intraop threads after parallel work has started or after set_num_threads call when using native parallel backend (function set_num_threads)\n",
      "[W ParallelNative.cpp:214] Warning: Cannot set number of intraop threads after parallel work has started or after set_num_threads call when using native parallel backend (function set_num_threads)\n",
      "/Users/koredeakande/opt/anaconda3/envs/capstone/lib/python3.7/site-packages/pytorch_lightning/trainer/trainer.py:685: UserWarning: Detected KeyboardInterrupt, attempting graceful shutdown...\n",
      "  rank_zero_warn(\"Detected KeyboardInterrupt, attempting graceful shutdown...\")\n"
     ]
    }
   ],
   "source": [
    "trainer = pl.Trainer(\n",
    "    #gpus                       = 1,\n",
    "    logger                      = logger,\n",
    "    log_every_n_steps           = 10,\n",
    "    callbacks                   = [checkpoint_callback],\n",
    "    max_epochs                  =  N_EPOCHS,\n",
    "    progress_bar_refresh_rate   =  30\n",
    ")\n",
    "\n",
    "trainer.fit(model, data_module)"
   ]
  },
  {
   "cell_type": "code",
   "execution_count": null,
   "id": "69e74ae8-fbd1-49b9-870a-64d9bc54b48b",
   "metadata": {},
   "outputs": [],
   "source": []
  },
  {
   "cell_type": "markdown",
   "id": "b418c5dd-0de6-4c04-ae96-23bccaf26443",
   "metadata": {},
   "source": [
    "### e. Model Evaluation"
   ]
  },
  {
   "cell_type": "code",
   "execution_count": 37,
   "id": "76a164d0-2cd2-4cef-8e28-2df0e6e0525a",
   "metadata": {},
   "outputs": [
    {
     "name": "stderr",
     "output_type": "stream",
     "text": [
      "/Users/koredeakande/opt/anaconda3/envs/capstone/lib/python3.7/site-packages/pytorch_lightning/trainer/data_loading.py:111: UserWarning: The dataloader, test_dataloader 0, does not have many workers which may be a bottleneck. Consider increasing the value of the `num_workers` argument` (try 8 which is the number of cpus on this machine) in the `DataLoader` init to improve performance.\n",
      "  f\"The dataloader, {name}, does not have many workers which may be a bottleneck.\"\n"
     ]
    },
    {
     "data": {
      "application/vnd.jupyter.widget-view+json": {
       "model_id": "80f9e97900d5495a85c96ee6b41d5f11",
       "version_major": 2,
       "version_minor": 0
      },
      "text/plain": [
       "Testing: 0it [00:00, ?it/s]"
      ]
     },
     "metadata": {},
     "output_type": "display_data"
    },
    {
     "name": "stderr",
     "output_type": "stream",
     "text": [
      "[W ParallelNative.cpp:214] Warning: Cannot set number of intraop threads after parallel work has started or after set_num_threads call when using native parallel backend (function set_num_threads)\n",
      "[W ParallelNative.cpp:214] Warning: Cannot set number of intraop threads after parallel work has started or after set_num_threads call when using native parallel backend (function set_num_threads)\n"
     ]
    },
    {
     "name": "stdout",
     "output_type": "stream",
     "text": [
      "--------------------------------------------------------------------------------\n",
      "DATALOADER:0 TEST RESULTS\n",
      "{'test_loss': 0.3418032228946686}\n",
      "--------------------------------------------------------------------------------\n"
     ]
    },
    {
     "name": "stderr",
     "output_type": "stream",
     "text": [
      "Traceback (most recent call last):\n"
     ]
    },
    {
     "data": {
      "text/plain": [
       "[{'test_loss': 0.3418032228946686}]"
      ]
     },
     "execution_count": 37,
     "metadata": {},
     "output_type": "execute_result"
    },
    {
     "name": "stderr",
     "output_type": "stream",
     "text": [
      "  File \"/Users/koredeakande/opt/anaconda3/envs/capstone/lib/python3.7/multiprocessing/queues.py\", line 242, in _feed\n",
      "    send_bytes(obj)\n",
      "  File \"/Users/koredeakande/opt/anaconda3/envs/capstone/lib/python3.7/multiprocessing/connection.py\", line 200, in send_bytes\n",
      "    self._send_bytes(m[offset:offset + size])\n",
      "  File \"/Users/koredeakande/opt/anaconda3/envs/capstone/lib/python3.7/multiprocessing/connection.py\", line 404, in _send_bytes\n",
      "    self._send(header + buf)\n",
      "  File \"/Users/koredeakande/opt/anaconda3/envs/capstone/lib/python3.7/multiprocessing/connection.py\", line 368, in _send\n",
      "    n = write(self._handle, buf)\n",
      "BrokenPipeError: [Errno 32] Broken pipe\n",
      "Traceback (most recent call last):\n",
      "  File \"/Users/koredeakande/opt/anaconda3/envs/capstone/lib/python3.7/multiprocessing/queues.py\", line 242, in _feed\n",
      "    send_bytes(obj)\n",
      "  File \"/Users/koredeakande/opt/anaconda3/envs/capstone/lib/python3.7/multiprocessing/connection.py\", line 200, in send_bytes\n",
      "    self._send_bytes(m[offset:offset + size])\n",
      "  File \"/Users/koredeakande/opt/anaconda3/envs/capstone/lib/python3.7/multiprocessing/connection.py\", line 404, in _send_bytes\n",
      "    self._send(header + buf)\n",
      "  File \"/Users/koredeakande/opt/anaconda3/envs/capstone/lib/python3.7/multiprocessing/connection.py\", line 368, in _send\n",
      "    n = write(self._handle, buf)\n",
      "BrokenPipeError: [Errno 32] Broken pipe\n"
     ]
    }
   ],
   "source": [
    "#Evaluate the model's performance on the test dataset\n",
    "trainer.test(model,data_module)"
   ]
  },
  {
   "cell_type": "markdown",
   "id": "3cdfa1bc-21b1-476c-b804-fdbfcdc332d8",
   "metadata": {},
   "source": [
    "#### (i) Evaluate model performance on a generated example"
   ]
  },
  {
   "cell_type": "code",
   "execution_count": null,
   "id": "1f892889-23b3-40e0-8845-9428d759bb07",
   "metadata": {},
   "outputs": [],
   "source": [
    "#Load the best model based on validation loss\n",
    "trained_model = ISP_TweetAspectClassifier.load_from_checkpoint(\n",
    "    trainer.checkpoint_callback.best_model_path,\n",
    "    n_classes=len(ASPECTS)\n",
    ")"
   ]
  },
  {
   "cell_type": "code",
   "execution_count": 22,
   "id": "6c739490-835e-4fac-a9b5-22a11e2f2edc",
   "metadata": {},
   "outputs": [],
   "source": [
    "#Load the best model based on validation loss\n",
    "trained_model = ISP_TweetAspectClassifier.load_from_checkpoint(\n",
    "    \"../models/absa-aspect-extraction/bertweet/ae-epoch=19-val_loss=0.33.ckpt\",\n",
    "    n_classes=len(ASPECTS)\n",
    ")"
   ]
  },
  {
   "cell_type": "code",
   "execution_count": 23,
   "id": "c743d414-40c9-4c76-b24f-2f0dce620c1b",
   "metadata": {},
   "outputs": [],
   "source": [
    "#Put model into evaluation mode\n",
    "trained_model.eval()\n",
    "trained_model.freeze()"
   ]
  },
  {
   "cell_type": "code",
   "execution_count": 24,
   "id": "7bbf7568-8fda-45fd-adf1-238686bc09e8",
   "metadata": {},
   "outputs": [
    {
     "name": "stdout",
     "output_type": "stream",
     "text": [
      "price: 0.1331108808517456\n",
      "speed: 0.19577057659626007\n",
      "reliability: 0.15056845545768738\n",
      "coverage: 0.10842109471559525\n",
      "customer service: 0.09471900761127472\n"
     ]
    }
   ],
   "source": [
    "test_comment = \"The internet is so slow and it's so expensive\"\n",
    "\n",
    "encoding = TOKENIZER.encode_plus(\n",
    "  test_comment,\n",
    "  add_special_tokens=True,\n",
    "  max_length=TOKENIZER.model_max_length,\n",
    "  return_token_type_ids=False,\n",
    "  padding=\"max_length\",\n",
    "  return_attention_mask=True,\n",
    "  return_tensors='pt',\n",
    ")\n",
    "\n",
    "_, test_prediction = trained_model(encoding[\"input_ids\"], encoding[\"attention_mask\"])\n",
    "test_prediction = test_prediction.flatten().numpy()\n",
    "for label, prediction in zip(ASPECTS, test_prediction):\n",
    "    print(f\"{label}: {prediction}\")"
   ]
  },
  {
   "cell_type": "markdown",
   "id": "e653a2d5-2a40-4750-bb38-03b566390b9e",
   "metadata": {},
   "source": [
    "Doesn't seem to do a good job distinguishing the different aspects for this case."
   ]
  },
  {
   "cell_type": "markdown",
   "id": "2263542c-0de6-481f-be3f-22ed85261bbc",
   "metadata": {},
   "source": [
    "#### (ii) Evaluate model performance on the validation set"
   ]
  },
  {
   "cell_type": "code",
   "execution_count": 25,
   "id": "1ee5b28d-862b-45da-b49d-df846e33d481",
   "metadata": {},
   "outputs": [
    {
     "data": {
      "application/vnd.jupyter.widget-view+json": {
       "model_id": "f67b8b406bb349c3b59eb02c003daffa",
       "version_major": 2,
       "version_minor": 0
      },
      "text/plain": [
       "  0%|          | 0/98 [00:00<?, ?it/s]"
      ]
     },
     "metadata": {},
     "output_type": "display_data"
    }
   ],
   "source": [
    "device = torch.device('cuda' if torch.cuda.is_available() else 'cpu')\n",
    "\n",
    "trained_model = trained_model.to(device)\n",
    "\n",
    "#Prepare the validation set\n",
    "val_dataset = Generate_PyTorch_Dataset(\n",
    "    val_df,\n",
    "    TOKENIZER,\n",
    ")\n",
    "\n",
    "#Lists to store the model predictions and the true labels\n",
    "model_preds = []\n",
    "true_labels = []\n",
    "\n",
    "for item in tqdm(val_dataset):\n",
    "    _, pred = trained_model(\n",
    "        item[\"input_ids\"].unsqueeze(dim=0).to(device),\n",
    "        item[\"attention_mask\"].unsqueeze(dim=0).to(device)\n",
    "    )\n",
    "    model_preds.append(pred.flatten())\n",
    "    true_labels.append(item[\"labels\"].int())\n",
    "\n",
    "model_preds = torch.stack(model_preds).detach().cpu()\n",
    "true_labels = torch.stack(true_labels).detach().cpu()"
   ]
  },
  {
   "cell_type": "code",
   "execution_count": 29,
   "id": "6ced5bfc-6ad1-4afb-927e-32afea8efa12",
   "metadata": {},
   "outputs": [
    {
     "name": "stdout",
     "output_type": "stream",
     "text": [
      "AUROC per tag\n",
      "price: 0.7131783366203308\n",
      "speed: 0.5746606588363647\n",
      "reliability: 0.7471264004707336\n",
      "coverage: 0.6379525661468506\n",
      "customer service: 0.9108231663703918\n"
     ]
    },
    {
     "name": "stderr",
     "output_type": "stream",
     "text": [
      "/Users/koredeakande/opt/anaconda3/envs/capstone/lib/python3.7/site-packages/torchmetrics/utilities/prints.py:36: UserWarning: Metric `AUROC` will save all targets and predictions in buffer. For large datasets this may lead to large memory footprint.\n",
      "  warnings.warn(*args, **kwargs)\n"
     ]
    }
   ],
   "source": [
    "auroc_metric = AUROC(pos_label=1)\n",
    "print(\"AUROC per tag\")\n",
    "for i, name in enumerate(ASPECTS):\n",
    "    tag_auroc = auroc_metric(model_preds[:, i], true_labels[:, i])\n",
    "    print(f\"{name}: {tag_auroc}\")"
   ]
  },
  {
   "cell_type": "markdown",
   "id": "fc6c21f2-8e0f-4d85-a48f-4e39c986dafb",
   "metadata": {},
   "source": [
    "Price AUROC is extremely low"
   ]
  },
  {
   "cell_type": "markdown",
   "id": "dc193e52-948b-4f86-ad4b-dcfee8b3e108",
   "metadata": {},
   "source": [
    "### Classification Report"
   ]
  },
  {
   "cell_type": "code",
   "execution_count": 88,
   "id": "d8c8cba4-f10e-4255-9212-534139848bbb",
   "metadata": {},
   "outputs": [
    {
     "name": "stdout",
     "output_type": "stream",
     "text": [
      "                  precision    recall  f1-score   support\n",
      "\n",
      "           price       0.24      0.42      0.30        12\n",
      "           speed       0.33      0.31      0.32        13\n",
      "     reliability       0.12      0.18      0.15        11\n",
      "        coverage       0.33      0.11      0.17         9\n",
      "customer service       0.50      0.75      0.60        16\n",
      "\n",
      "       micro avg       0.32      0.39      0.35        61\n",
      "       macro avg       0.31      0.35      0.31        61\n",
      "    weighted avg       0.32      0.39      0.34        61\n",
      "     samples avg       0.08      0.16      0.10        61\n",
      "\n"
     ]
    }
   ],
   "source": [
    "y_pred = model_preds.numpy()\n",
    "y_true = true_labels.numpy()\n",
    "\n",
    "y_pred = np.where(y_pred > 0.3, 1, 0)\n",
    "\n",
    "print(classification_report(\n",
    "  y_true,\n",
    "  y_pred,\n",
    "  target_names=ASPECTS,\n",
    "  zero_division=0\n",
    "))"
   ]
  },
  {
   "cell_type": "markdown",
   "id": "afedd774-e27d-4ef2-82dc-25936b92c148",
   "metadata": {},
   "source": [
    "- Oops. It turns out the support for price is lower than expected. I might have made a mistake with the labelling – I did\n",
    "- Model seems to overfit on dominant classes. Reweighting the loss function might be a good thing to try."
   ]
  },
  {
   "cell_type": "markdown",
   "id": "58455d35-3c21-4670-8412-5fb955c9ed39",
   "metadata": {},
   "source": [
    "### Optimize the threshold"
   ]
  },
  {
   "cell_type": "code",
   "execution_count": 92,
   "id": "1a7bf200-f14b-42b6-8e34-5e53a25acc10",
   "metadata": {},
   "outputs": [
    {
     "data": {
      "text/plain": [
       "(0.3, tensor(0.3208))"
      ]
     },
     "execution_count": 92,
     "metadata": {},
     "output_type": "execute_result"
    }
   ],
   "source": [
    "#Get the true values and model probs\n",
    "y_pred = model_preds\n",
    "y_true = true_labels\n",
    "\n",
    "#Initialize a threshold and optimal F2 value\n",
    "optimal_thresh = (0,0)\n",
    "\n",
    "#Iterate through the different thresholds\n",
    "for threshold in np.arange(0.01,0.6,0.01):\n",
    "    \n",
    "    #Define the FBeta metric\n",
    "    f_beta = FBeta(num_classes=5, beta=0.5, average='weighted', threshold = threshold)\n",
    "    \n",
    "    #Compute the FBeta score\n",
    "    score = f_beta(y_pred,y_true)\n",
    "    \n",
    "    #If greater than current optimal FBeta score\n",
    "    if score > optimal_thresh[1]:\n",
    "        \n",
    "        #Replace the threshold\n",
    "        optimal_thresh = (threshold,score)\n",
    "        \n",
    "optimal_thresh"
   ]
  },
  {
   "cell_type": "markdown",
   "id": "f1e391a4-3ec6-45bb-bf54-7e638618f1fc",
   "metadata": {},
   "source": [
    "---"
   ]
  },
  {
   "cell_type": "markdown",
   "id": "19cac5dd-d241-4180-a9c8-c25010dff203",
   "metadata": {},
   "source": [
    "## 7. Modeling - Aspect Extraction v2\n",
    "**`Reweighting BCE Loss Function with ENS weighting`**"
   ]
  },
  {
   "cell_type": "markdown",
   "id": "1d2fca92-83be-4722-aa58-da0e516f9dcd",
   "metadata": {},
   "source": [
    "### Redefine the model"
   ]
  },
  {
   "cell_type": "code",
   "execution_count": 152,
   "id": "a7e40d6a-086b-4d7a-a64d-1a51a00cd5c3",
   "metadata": {},
   "outputs": [],
   "source": [
    "class ISP_TweetAspectClassifier(pl.LightningModule):\n",
    "    \n",
    "    #Set the aspect classifier\n",
    "    def __init__(self, \n",
    "                 n_classes=6, \n",
    "                 samples_per_cls = None,\n",
    "                 n_training_steps=None, \n",
    "                 n_warmup_steps=None, \n",
    "                 lr=2e-5):\n",
    "        \n",
    "        super().__init__()\n",
    "        \n",
    "        #Training parameters\n",
    "        self.lr = lr\n",
    "        self.n_warmup_steps = n_warmup_steps\n",
    "        self.n_training_steps = n_training_steps\n",
    "        \n",
    "        #Model and model layers\n",
    "        self.bert = BERTWEET_MODEL\n",
    "        self.classifier = torch.nn.Linear(self.bert.config.hidden_size, n_classes)\n",
    "        \n",
    "        #If other param for ENS provided, reweight loss function to account for imbalance\n",
    "        if samples_per_cls:\n",
    "            self.class_weights = self.get_ens_weights(n_classes, samples_per_cls)\n",
    "            self.criterion = torch.nn.BCELoss(weight = self.class_weights)\n",
    "        else:\n",
    "            self.criterion = torch.nn.BCELoss()\n",
    "        \n",
    "    def get_ens_weights(self, no_of_classes,samples_per_cls,beta=0.99):\n",
    "    \n",
    "        \"\"\"\n",
    "        Compute class weights using effective number of samples strategy\n",
    "        \"\"\"\n",
    "\n",
    "        effective_num = 1.0 - np.power(beta, samples_per_cls)\n",
    "        weights = (1.0 - beta) / np.array(effective_num)\n",
    "        weights = weights / np.sum(weights) * no_of_classes\n",
    "        weights = torch.tensor(weights.astype(np.float32))\n",
    "        \n",
    "        return weights\n",
    "    \n",
    "        \n",
    "    def forward(self, input_ids, attention_mask, labels = None):\n",
    "        output = self.bert(input_ids, attention_mask=attention_mask)\n",
    "        output = self.classifier(output.pooler_output)\n",
    "        output = torch.sigmoid(output)\n",
    "        \n",
    "        loss = 0\n",
    "        \n",
    "        if labels is not None:\n",
    "            loss = self.criterion(output, labels)\n",
    "            \n",
    "        return loss, output\n",
    "    \n",
    "    def training_step(self, batch, batch_idx):\n",
    "        \n",
    "        input_ids = batch[\"input_ids\"]\n",
    "        attention_mask = batch[\"attention_mask\"]\n",
    "        labels = batch[\"labels\"]\n",
    "        \n",
    "        loss, outputs = self(input_ids, attention_mask, labels)\n",
    "        self.log(\"train_loss\", loss, prog_bar=True, logger=True)\n",
    "        \n",
    "        return {\"loss\": loss, \"predictions\": outputs.detach(), \"labels\": labels}\n",
    "    \n",
    "    def validation_step(self, batch, batch_idx):\n",
    "        input_ids = batch[\"input_ids\"]\n",
    "        attention_mask = batch[\"attention_mask\"]\n",
    "        labels = batch[\"labels\"]\n",
    "        \n",
    "        loss, outputs = self(input_ids, attention_mask,labels)\n",
    "        self.log(\"val_loss\", loss, prog_bar=True, logger=True)\n",
    "        \n",
    "        return loss\n",
    "    \n",
    "    \n",
    "    def test_step(self, batch, batch_idx):\n",
    "        input_ids = batch[\"input_ids\"]\n",
    "        attention_mask = batch[\"attention_mask\"]\n",
    "        labels = batch[\"labels\"]\n",
    "        \n",
    "        loss, outputs = self(input_ids, attention_mask, labels)\n",
    "        self.log(\"test_loss\", loss, prog_bar=True, logger=True)\n",
    "        \n",
    "        return loss\n",
    "    \n",
    "    \n",
    "    def training_epoch_end(self, outputs):\n",
    "            \n",
    "        #List to store the true labels and the model's predictions\n",
    "        labels = []\n",
    "        predictions = []\n",
    "        \n",
    "        #Iterate through all the outputs and get the true vs. predicted label\n",
    "        for output in outputs:\n",
    "            \n",
    "            for label in output[\"labels\"].detach().cpu():\n",
    "                labels.append(label)\n",
    "            for pred in output[\"predictions\"].detach().cpu():\n",
    "                predictions.append(pred)\n",
    "        \n",
    "        #Stack the tensors\n",
    "        labels = torch.stack(labels).int()\n",
    "        predictions = torch.stack(predictions)\n",
    "        \n",
    "        #Record the AUROC for each aspect after each training epoch\n",
    "        for idx, name in enumerate(ASPECTS):\n",
    "            metric = AUROC()\n",
    "            class_roc_auc = metric(predictions[:,idx], labels[:,idx])\n",
    "            self.logger.experiment.add_scalar(f\"{name}_roc_auc/Train\", class_roc_auc, self.current_epoch)\n",
    "        \n",
    "        #Calculate the micro-F1\n",
    "        f1_metric = F1()\n",
    "        micro_f1 = f1_metric(predictions, labels)\n",
    "        self.logger.experiment.add_scalar(f\"micro_f1_score\", micro_f1, self.current_epoch)\n",
    "   \n",
    "    \n",
    "    def configure_optimizers(self):\n",
    "        \n",
    "        optimizer = AdamW(self.parameters(), lr = self.lr)\n",
    "        \n",
    "        scheduler = get_linear_schedule_with_warmup(\n",
    "            optimizer,\n",
    "            num_warmup_steps=self.n_warmup_steps,\n",
    "            num_training_steps=self.n_training_steps)\n",
    "        \n",
    "          \n",
    "        return {'optimizer': optimizer, 'lr_scheduler':{'scheduler':scheduler,'interval':'step'}}\n",
    "    "
   ]
  },
  {
   "cell_type": "code",
   "execution_count": 153,
   "id": "cc63bd81-e18b-4483-955b-b82280e9d7d0",
   "metadata": {},
   "outputs": [],
   "source": [
    "#Define variables\n",
    "N_EPOCHS = 30\n",
    "STEPS_PER_EPOCH =len(train_df)//TRAIN_BATCH_SIZE\n",
    "TOTAL_TRAIN_STEPS = STEPS_PER_EPOCH * N_EPOCHS\n",
    "N_WARMUP_STEPS = TOTAL_TRAIN_STEPS // 4\n",
    "SAMPLES_PER_LABEL = processed_aspect_df[ASPECTS].sum().tolist()\n",
    "\n",
    "#Instantiate the classifier model\n",
    "model = ISP_TweetAspectClassifier(samples_per_cls  = SAMPLES_PER_LABEL,\n",
    "                                  n_training_steps = TOTAL_TRAIN_STEPS,\n",
    "                                  n_warmup_steps   = N_WARMUP_STEPS)"
   ]
  },
  {
   "cell_type": "markdown",
   "id": "1869822a-c84a-41ca-be7c-431620660b6e",
   "metadata": {
    "tags": []
   },
   "source": [
    "### d. Training"
   ]
  },
  {
   "cell_type": "code",
   "execution_count": 155,
   "id": "5bf88615-5761-4f0f-b8a6-839c4284fbe3",
   "metadata": {},
   "outputs": [],
   "source": [
    "#Setup callback to perform saves during training\n",
    "checkpoint_callback = ModelCheckpoint(\n",
    "  dirpath    = \"../models/absa-aspect-extraction/bertweet\",\n",
    "  filename   = \"ae-{epoch:02d}-{val_loss:.2f}\",\n",
    "  save_top_k = 3, #Save the top 3 models\n",
    "  verbose    = True,\n",
    "  monitor    = \"val_loss\",\n",
    "  mode       = \"min\" #Minimize val loss\n",
    ")\n",
    "\n",
    "#Log progress in Tensorboard\n",
    "logger = TensorBoardLogger(\"../models/absa-aspect-extraction/bertweet/lightning_logs\", name = \"isp-tweets\")"
   ]
  },
  {
   "cell_type": "code",
   "execution_count": 156,
   "id": "be04c7c5-9c77-4b9d-bd78-ff4a9d272f85",
   "metadata": {},
   "outputs": [
    {
     "name": "stderr",
     "output_type": "stream",
     "text": [
      "GPU available: False, used: False\n",
      "TPU available: False, using: 0 TPU cores\n",
      "IPU available: False, using: 0 IPUs\n",
      "\n",
      "  | Name       | Type         | Params\n",
      "--------------------------------------------\n",
      "0 | bert       | RobertaModel | 134 M \n",
      "1 | classifier | Linear       | 4.6 K \n",
      "2 | criterion  | BCELoss      | 0     \n",
      "--------------------------------------------\n",
      "134 M     Trainable params\n",
      "0         Non-trainable params\n",
      "134 M     Total params\n",
      "539.618   Total estimated model params size (MB)\n"
     ]
    },
    {
     "data": {
      "application/vnd.jupyter.widget-view+json": {
       "model_id": "e03f10d045f9414c8d43a202af0fa9a1",
       "version_major": 2,
       "version_minor": 0
      },
      "text/plain": [
       "Validation sanity check: 0it [00:00, ?it/s]"
      ]
     },
     "metadata": {},
     "output_type": "display_data"
    },
    {
     "name": "stderr",
     "output_type": "stream",
     "text": [
      "[W ParallelNative.cpp:214] Warning: Cannot set number of intraop threads after parallel work has started or after set_num_threads call when using native parallel backend (function set_num_threads)\n",
      "[W ParallelNative.cpp:214] Warning: Cannot set number of intraop threads after parallel work has started or after set_num_threads call when using native parallel backend (function set_num_threads)\n",
      "Global seed set to 123\n"
     ]
    },
    {
     "data": {
      "application/vnd.jupyter.widget-view+json": {
       "model_id": "d261f77dba90443ebe46f7e6430fb96b",
       "version_major": 2,
       "version_minor": 0
      },
      "text/plain": [
       "Training: 0it [00:00, ?it/s]"
      ]
     },
     "metadata": {},
     "output_type": "display_data"
    },
    {
     "name": "stderr",
     "output_type": "stream",
     "text": [
      "[W ParallelNative.cpp:214] Warning: Cannot set number of intraop threads after parallel work has started or after set_num_threads call when using native parallel backend (function set_num_threads)\n",
      "[W ParallelNative.cpp:214] Warning: Cannot set number of intraop threads after parallel work has started or after set_num_threads call when using native parallel backend (function set_num_threads)\n"
     ]
    },
    {
     "data": {
      "application/vnd.jupyter.widget-view+json": {
       "model_id": "",
       "version_major": 2,
       "version_minor": 0
      },
      "text/plain": [
       "Validating: 0it [00:00, ?it/s]"
      ]
     },
     "metadata": {},
     "output_type": "display_data"
    },
    {
     "name": "stderr",
     "output_type": "stream",
     "text": [
      "[W ParallelNative.cpp:214] Warning: Cannot set number of intraop threads after parallel work has started or after set_num_threads call when using native parallel backend (function set_num_threads)\n",
      "[W ParallelNative.cpp:214] Warning: Cannot set number of intraop threads after parallel work has started or after set_num_threads call when using native parallel backend (function set_num_threads)\n",
      "Epoch 0, global step 9: val_loss reached 0.65788 (best 0.65788), saving model to \"/Users/koredeakande/Documents/Capstone/ISP Project/Coding/nigerian_isp_sentiment_analysis/models/absa-aspect-extraction/bertweet/ae-epoch=00-val_loss=0.66.ckpt\" as top 3\n",
      "[W ParallelNative.cpp:214] Warning: Cannot set number of intraop threads after parallel work has started or after set_num_threads call when using native parallel backend (function set_num_threads)\n",
      "[W ParallelNative.cpp:214] Warning: Cannot set number of intraop threads after parallel work has started or after set_num_threads call when using native parallel backend (function set_num_threads)\n"
     ]
    },
    {
     "data": {
      "application/vnd.jupyter.widget-view+json": {
       "model_id": "",
       "version_major": 2,
       "version_minor": 0
      },
      "text/plain": [
       "Validating: 0it [00:00, ?it/s]"
      ]
     },
     "metadata": {},
     "output_type": "display_data"
    },
    {
     "name": "stderr",
     "output_type": "stream",
     "text": [
      "[W ParallelNative.cpp:214] Warning: Cannot set number of intraop threads after parallel work has started or after set_num_threads call when using native parallel backend (function set_num_threads)\n",
      "[W ParallelNative.cpp:214] Warning: Cannot set number of intraop threads after parallel work has started or after set_num_threads call when using native parallel backend (function set_num_threads)\n",
      "Epoch 1, global step 19: val_loss reached 0.58671 (best 0.58671), saving model to \"/Users/koredeakande/Documents/Capstone/ISP Project/Coding/nigerian_isp_sentiment_analysis/models/absa-aspect-extraction/bertweet/ae-epoch=01-val_loss=0.59.ckpt\" as top 3\n",
      "[W ParallelNative.cpp:214] Warning: Cannot set number of intraop threads after parallel work has started or after set_num_threads call when using native parallel backend (function set_num_threads)\n",
      "[W ParallelNative.cpp:214] Warning: Cannot set number of intraop threads after parallel work has started or after set_num_threads call when using native parallel backend (function set_num_threads)\n"
     ]
    },
    {
     "data": {
      "application/vnd.jupyter.widget-view+json": {
       "model_id": "",
       "version_major": 2,
       "version_minor": 0
      },
      "text/plain": [
       "Validating: 0it [00:00, ?it/s]"
      ]
     },
     "metadata": {},
     "output_type": "display_data"
    },
    {
     "name": "stderr",
     "output_type": "stream",
     "text": [
      "[W ParallelNative.cpp:214] Warning: Cannot set number of intraop threads after parallel work has started or after set_num_threads call when using native parallel backend (function set_num_threads)\n",
      "[W ParallelNative.cpp:214] Warning: Cannot set number of intraop threads after parallel work has started or after set_num_threads call when using native parallel backend (function set_num_threads)\n",
      "Epoch 2, global step 29: val_loss reached 0.49623 (best 0.49623), saving model to \"/Users/koredeakande/Documents/Capstone/ISP Project/Coding/nigerian_isp_sentiment_analysis/models/absa-aspect-extraction/bertweet/ae-epoch=02-val_loss=0.50.ckpt\" as top 3\n",
      "[W ParallelNative.cpp:214] Warning: Cannot set number of intraop threads after parallel work has started or after set_num_threads call when using native parallel backend (function set_num_threads)\n",
      "[W ParallelNative.cpp:214] Warning: Cannot set number of intraop threads after parallel work has started or after set_num_threads call when using native parallel backend (function set_num_threads)\n"
     ]
    },
    {
     "data": {
      "application/vnd.jupyter.widget-view+json": {
       "model_id": "",
       "version_major": 2,
       "version_minor": 0
      },
      "text/plain": [
       "Validating: 0it [00:00, ?it/s]"
      ]
     },
     "metadata": {},
     "output_type": "display_data"
    },
    {
     "name": "stderr",
     "output_type": "stream",
     "text": [
      "[W ParallelNative.cpp:214] Warning: Cannot set number of intraop threads after parallel work has started or after set_num_threads call when using native parallel backend (function set_num_threads)\n",
      "[W ParallelNative.cpp:214] Warning: Cannot set number of intraop threads after parallel work has started or after set_num_threads call when using native parallel backend (function set_num_threads)\n",
      "Epoch 3, global step 39: val_loss reached 0.42020 (best 0.42020), saving model to \"/Users/koredeakande/Documents/Capstone/ISP Project/Coding/nigerian_isp_sentiment_analysis/models/absa-aspect-extraction/bertweet/ae-epoch=03-val_loss=0.42.ckpt\" as top 3\n",
      "[W ParallelNative.cpp:214] Warning: Cannot set number of intraop threads after parallel work has started or after set_num_threads call when using native parallel backend (function set_num_threads)\n",
      "[W ParallelNative.cpp:214] Warning: Cannot set number of intraop threads after parallel work has started or after set_num_threads call when using native parallel backend (function set_num_threads)\n"
     ]
    },
    {
     "data": {
      "application/vnd.jupyter.widget-view+json": {
       "model_id": "",
       "version_major": 2,
       "version_minor": 0
      },
      "text/plain": [
       "Validating: 0it [00:00, ?it/s]"
      ]
     },
     "metadata": {},
     "output_type": "display_data"
    },
    {
     "name": "stderr",
     "output_type": "stream",
     "text": [
      "[W ParallelNative.cpp:214] Warning: Cannot set number of intraop threads after parallel work has started or after set_num_threads call when using native parallel backend (function set_num_threads)\n",
      "[W ParallelNative.cpp:214] Warning: Cannot set number of intraop threads after parallel work has started or after set_num_threads call when using native parallel backend (function set_num_threads)\n",
      "Epoch 4, global step 49: val_loss reached 0.36566 (best 0.36566), saving model to \"/Users/koredeakande/Documents/Capstone/ISP Project/Coding/nigerian_isp_sentiment_analysis/models/absa-aspect-extraction/bertweet/ae-epoch=04-val_loss=0.37.ckpt\" as top 3\n",
      "[W ParallelNative.cpp:214] Warning: Cannot set number of intraop threads after parallel work has started or after set_num_threads call when using native parallel backend (function set_num_threads)\n",
      "[W ParallelNative.cpp:214] Warning: Cannot set number of intraop threads after parallel work has started or after set_num_threads call when using native parallel backend (function set_num_threads)\n"
     ]
    },
    {
     "data": {
      "application/vnd.jupyter.widget-view+json": {
       "model_id": "",
       "version_major": 2,
       "version_minor": 0
      },
      "text/plain": [
       "Validating: 0it [00:00, ?it/s]"
      ]
     },
     "metadata": {},
     "output_type": "display_data"
    },
    {
     "name": "stderr",
     "output_type": "stream",
     "text": [
      "[W ParallelNative.cpp:214] Warning: Cannot set number of intraop threads after parallel work has started or after set_num_threads call when using native parallel backend (function set_num_threads)\n",
      "[W ParallelNative.cpp:214] Warning: Cannot set number of intraop threads after parallel work has started or after set_num_threads call when using native parallel backend (function set_num_threads)\n",
      "Epoch 5, global step 59: val_loss reached 0.32977 (best 0.32977), saving model to \"/Users/koredeakande/Documents/Capstone/ISP Project/Coding/nigerian_isp_sentiment_analysis/models/absa-aspect-extraction/bertweet/ae-epoch=05-val_loss=0.33.ckpt\" as top 3\n",
      "[W ParallelNative.cpp:214] Warning: Cannot set number of intraop threads after parallel work has started or after set_num_threads call when using native parallel backend (function set_num_threads)\n",
      "[W ParallelNative.cpp:214] Warning: Cannot set number of intraop threads after parallel work has started or after set_num_threads call when using native parallel backend (function set_num_threads)\n"
     ]
    },
    {
     "data": {
      "application/vnd.jupyter.widget-view+json": {
       "model_id": "",
       "version_major": 2,
       "version_minor": 0
      },
      "text/plain": [
       "Validating: 0it [00:00, ?it/s]"
      ]
     },
     "metadata": {},
     "output_type": "display_data"
    },
    {
     "name": "stderr",
     "output_type": "stream",
     "text": [
      "[W ParallelNative.cpp:214] Warning: Cannot set number of intraop threads after parallel work has started or after set_num_threads call when using native parallel backend (function set_num_threads)\n",
      "[W ParallelNative.cpp:214] Warning: Cannot set number of intraop threads after parallel work has started or after set_num_threads call when using native parallel backend (function set_num_threads)\n",
      "Epoch 6, global step 69: val_loss reached 0.30584 (best 0.30584), saving model to \"/Users/koredeakande/Documents/Capstone/ISP Project/Coding/nigerian_isp_sentiment_analysis/models/absa-aspect-extraction/bertweet/ae-epoch=06-val_loss=0.31.ckpt\" as top 3\n",
      "[W ParallelNative.cpp:214] Warning: Cannot set number of intraop threads after parallel work has started or after set_num_threads call when using native parallel backend (function set_num_threads)\n",
      "[W ParallelNative.cpp:214] Warning: Cannot set number of intraop threads after parallel work has started or after set_num_threads call when using native parallel backend (function set_num_threads)\n"
     ]
    },
    {
     "data": {
      "application/vnd.jupyter.widget-view+json": {
       "model_id": "",
       "version_major": 2,
       "version_minor": 0
      },
      "text/plain": [
       "Validating: 0it [00:00, ?it/s]"
      ]
     },
     "metadata": {},
     "output_type": "display_data"
    },
    {
     "name": "stderr",
     "output_type": "stream",
     "text": [
      "[W ParallelNative.cpp:214] Warning: Cannot set number of intraop threads after parallel work has started or after set_num_threads call when using native parallel backend (function set_num_threads)\n",
      "[W ParallelNative.cpp:214] Warning: Cannot set number of intraop threads after parallel work has started or after set_num_threads call when using native parallel backend (function set_num_threads)\n",
      "Epoch 7, global step 79: val_loss reached 0.29108 (best 0.29108), saving model to \"/Users/koredeakande/Documents/Capstone/ISP Project/Coding/nigerian_isp_sentiment_analysis/models/absa-aspect-extraction/bertweet/ae-epoch=07-val_loss=0.29.ckpt\" as top 3\n",
      "[W ParallelNative.cpp:214] Warning: Cannot set number of intraop threads after parallel work has started or after set_num_threads call when using native parallel backend (function set_num_threads)\n",
      "[W ParallelNative.cpp:214] Warning: Cannot set number of intraop threads after parallel work has started or after set_num_threads call when using native parallel backend (function set_num_threads)\n"
     ]
    },
    {
     "data": {
      "application/vnd.jupyter.widget-view+json": {
       "model_id": "",
       "version_major": 2,
       "version_minor": 0
      },
      "text/plain": [
       "Validating: 0it [00:00, ?it/s]"
      ]
     },
     "metadata": {},
     "output_type": "display_data"
    },
    {
     "name": "stderr",
     "output_type": "stream",
     "text": [
      "[W ParallelNative.cpp:214] Warning: Cannot set number of intraop threads after parallel work has started or after set_num_threads call when using native parallel backend (function set_num_threads)\n",
      "[W ParallelNative.cpp:214] Warning: Cannot set number of intraop threads after parallel work has started or after set_num_threads call when using native parallel backend (function set_num_threads)\n",
      "Epoch 8, global step 89: val_loss reached 0.28196 (best 0.28196), saving model to \"/Users/koredeakande/Documents/Capstone/ISP Project/Coding/nigerian_isp_sentiment_analysis/models/absa-aspect-extraction/bertweet/ae-epoch=08-val_loss=0.28.ckpt\" as top 3\n",
      "[W ParallelNative.cpp:214] Warning: Cannot set number of intraop threads after parallel work has started or after set_num_threads call when using native parallel backend (function set_num_threads)\n",
      "[W ParallelNative.cpp:214] Warning: Cannot set number of intraop threads after parallel work has started or after set_num_threads call when using native parallel backend (function set_num_threads)\n"
     ]
    },
    {
     "data": {
      "application/vnd.jupyter.widget-view+json": {
       "model_id": "",
       "version_major": 2,
       "version_minor": 0
      },
      "text/plain": [
       "Validating: 0it [00:00, ?it/s]"
      ]
     },
     "metadata": {},
     "output_type": "display_data"
    },
    {
     "name": "stderr",
     "output_type": "stream",
     "text": [
      "[W ParallelNative.cpp:214] Warning: Cannot set number of intraop threads after parallel work has started or after set_num_threads call when using native parallel backend (function set_num_threads)\n",
      "[W ParallelNative.cpp:214] Warning: Cannot set number of intraop threads after parallel work has started or after set_num_threads call when using native parallel backend (function set_num_threads)\n",
      "Epoch 9, global step 99: val_loss reached 0.27567 (best 0.27567), saving model to \"/Users/koredeakande/Documents/Capstone/ISP Project/Coding/nigerian_isp_sentiment_analysis/models/absa-aspect-extraction/bertweet/ae-epoch=09-val_loss=0.28.ckpt\" as top 3\n",
      "[W ParallelNative.cpp:214] Warning: Cannot set number of intraop threads after parallel work has started or after set_num_threads call when using native parallel backend (function set_num_threads)\n",
      "[W ParallelNative.cpp:214] Warning: Cannot set number of intraop threads after parallel work has started or after set_num_threads call when using native parallel backend (function set_num_threads)\n"
     ]
    },
    {
     "data": {
      "application/vnd.jupyter.widget-view+json": {
       "model_id": "",
       "version_major": 2,
       "version_minor": 0
      },
      "text/plain": [
       "Validating: 0it [00:00, ?it/s]"
      ]
     },
     "metadata": {},
     "output_type": "display_data"
    },
    {
     "name": "stderr",
     "output_type": "stream",
     "text": [
      "[W ParallelNative.cpp:214] Warning: Cannot set number of intraop threads after parallel work has started or after set_num_threads call when using native parallel backend (function set_num_threads)\n",
      "[W ParallelNative.cpp:214] Warning: Cannot set number of intraop threads after parallel work has started or after set_num_threads call when using native parallel backend (function set_num_threads)\n",
      "Epoch 10, global step 109: val_loss reached 0.27060 (best 0.27060), saving model to \"/Users/koredeakande/Documents/Capstone/ISP Project/Coding/nigerian_isp_sentiment_analysis/models/absa-aspect-extraction/bertweet/ae-epoch=10-val_loss=0.27.ckpt\" as top 3\n",
      "[W ParallelNative.cpp:214] Warning: Cannot set number of intraop threads after parallel work has started or after set_num_threads call when using native parallel backend (function set_num_threads)\n",
      "[W ParallelNative.cpp:214] Warning: Cannot set number of intraop threads after parallel work has started or after set_num_threads call when using native parallel backend (function set_num_threads)\n"
     ]
    },
    {
     "data": {
      "application/vnd.jupyter.widget-view+json": {
       "model_id": "",
       "version_major": 2,
       "version_minor": 0
      },
      "text/plain": [
       "Validating: 0it [00:00, ?it/s]"
      ]
     },
     "metadata": {},
     "output_type": "display_data"
    },
    {
     "name": "stderr",
     "output_type": "stream",
     "text": [
      "[W ParallelNative.cpp:214] Warning: Cannot set number of intraop threads after parallel work has started or after set_num_threads call when using native parallel backend (function set_num_threads)\n",
      "[W ParallelNative.cpp:214] Warning: Cannot set number of intraop threads after parallel work has started or after set_num_threads call when using native parallel backend (function set_num_threads)\n",
      "Epoch 11, global step 119: val_loss reached 0.26582 (best 0.26582), saving model to \"/Users/koredeakande/Documents/Capstone/ISP Project/Coding/nigerian_isp_sentiment_analysis/models/absa-aspect-extraction/bertweet/ae-epoch=11-val_loss=0.27.ckpt\" as top 3\n",
      "[W ParallelNative.cpp:214] Warning: Cannot set number of intraop threads after parallel work has started or after set_num_threads call when using native parallel backend (function set_num_threads)\n",
      "[W ParallelNative.cpp:214] Warning: Cannot set number of intraop threads after parallel work has started or after set_num_threads call when using native parallel backend (function set_num_threads)\n"
     ]
    },
    {
     "data": {
      "application/vnd.jupyter.widget-view+json": {
       "model_id": "",
       "version_major": 2,
       "version_minor": 0
      },
      "text/plain": [
       "Validating: 0it [00:00, ?it/s]"
      ]
     },
     "metadata": {},
     "output_type": "display_data"
    },
    {
     "name": "stderr",
     "output_type": "stream",
     "text": [
      "[W ParallelNative.cpp:214] Warning: Cannot set number of intraop threads after parallel work has started or after set_num_threads call when using native parallel backend (function set_num_threads)\n",
      "[W ParallelNative.cpp:214] Warning: Cannot set number of intraop threads after parallel work has started or after set_num_threads call when using native parallel backend (function set_num_threads)\n",
      "Epoch 12, global step 129: val_loss reached 0.26160 (best 0.26160), saving model to \"/Users/koredeakande/Documents/Capstone/ISP Project/Coding/nigerian_isp_sentiment_analysis/models/absa-aspect-extraction/bertweet/ae-epoch=12-val_loss=0.26.ckpt\" as top 3\n",
      "[W ParallelNative.cpp:214] Warning: Cannot set number of intraop threads after parallel work has started or after set_num_threads call when using native parallel backend (function set_num_threads)\n",
      "[W ParallelNative.cpp:214] Warning: Cannot set number of intraop threads after parallel work has started or after set_num_threads call when using native parallel backend (function set_num_threads)\n"
     ]
    },
    {
     "data": {
      "application/vnd.jupyter.widget-view+json": {
       "model_id": "",
       "version_major": 2,
       "version_minor": 0
      },
      "text/plain": [
       "Validating: 0it [00:00, ?it/s]"
      ]
     },
     "metadata": {},
     "output_type": "display_data"
    },
    {
     "name": "stderr",
     "output_type": "stream",
     "text": [
      "[W ParallelNative.cpp:214] Warning: Cannot set number of intraop threads after parallel work has started or after set_num_threads call when using native parallel backend (function set_num_threads)\n",
      "[W ParallelNative.cpp:214] Warning: Cannot set number of intraop threads after parallel work has started or after set_num_threads call when using native parallel backend (function set_num_threads)\n",
      "Epoch 13, global step 139: val_loss reached 0.25806 (best 0.25806), saving model to \"/Users/koredeakande/Documents/Capstone/ISP Project/Coding/nigerian_isp_sentiment_analysis/models/absa-aspect-extraction/bertweet/ae-epoch=13-val_loss=0.26.ckpt\" as top 3\n",
      "[W ParallelNative.cpp:214] Warning: Cannot set number of intraop threads after parallel work has started or after set_num_threads call when using native parallel backend (function set_num_threads)\n",
      "[W ParallelNative.cpp:214] Warning: Cannot set number of intraop threads after parallel work has started or after set_num_threads call when using native parallel backend (function set_num_threads)\n"
     ]
    },
    {
     "data": {
      "application/vnd.jupyter.widget-view+json": {
       "model_id": "",
       "version_major": 2,
       "version_minor": 0
      },
      "text/plain": [
       "Validating: 0it [00:00, ?it/s]"
      ]
     },
     "metadata": {},
     "output_type": "display_data"
    },
    {
     "name": "stderr",
     "output_type": "stream",
     "text": [
      "[W ParallelNative.cpp:214] Warning: Cannot set number of intraop threads after parallel work has started or after set_num_threads call when using native parallel backend (function set_num_threads)\n",
      "[W ParallelNative.cpp:214] Warning: Cannot set number of intraop threads after parallel work has started or after set_num_threads call when using native parallel backend (function set_num_threads)\n",
      "Epoch 14, global step 149: val_loss reached 0.26482 (best 0.25806), saving model to \"/Users/koredeakande/Documents/Capstone/ISP Project/Coding/nigerian_isp_sentiment_analysis/models/absa-aspect-extraction/bertweet/ae-epoch=14-val_loss=0.26.ckpt\" as top 3\n",
      "[W ParallelNative.cpp:214] Warning: Cannot set number of intraop threads after parallel work has started or after set_num_threads call when using native parallel backend (function set_num_threads)\n",
      "[W ParallelNative.cpp:214] Warning: Cannot set number of intraop threads after parallel work has started or after set_num_threads call when using native parallel backend (function set_num_threads)\n"
     ]
    },
    {
     "data": {
      "application/vnd.jupyter.widget-view+json": {
       "model_id": "",
       "version_major": 2,
       "version_minor": 0
      },
      "text/plain": [
       "Validating: 0it [00:00, ?it/s]"
      ]
     },
     "metadata": {},
     "output_type": "display_data"
    },
    {
     "name": "stderr",
     "output_type": "stream",
     "text": [
      "[W ParallelNative.cpp:214] Warning: Cannot set number of intraop threads after parallel work has started or after set_num_threads call when using native parallel backend (function set_num_threads)\n",
      "[W ParallelNative.cpp:214] Warning: Cannot set number of intraop threads after parallel work has started or after set_num_threads call when using native parallel backend (function set_num_threads)\n",
      "Epoch 15, global step 159: val_loss reached 0.26282 (best 0.25806), saving model to \"/Users/koredeakande/Documents/Capstone/ISP Project/Coding/nigerian_isp_sentiment_analysis/models/absa-aspect-extraction/bertweet/ae-epoch=15-val_loss=0.26.ckpt\" as top 3\n",
      "[W ParallelNative.cpp:214] Warning: Cannot set number of intraop threads after parallel work has started or after set_num_threads call when using native parallel backend (function set_num_threads)\n",
      "[W ParallelNative.cpp:214] Warning: Cannot set number of intraop threads after parallel work has started or after set_num_threads call when using native parallel backend (function set_num_threads)\n"
     ]
    },
    {
     "data": {
      "application/vnd.jupyter.widget-view+json": {
       "model_id": "",
       "version_major": 2,
       "version_minor": 0
      },
      "text/plain": [
       "Validating: 0it [00:00, ?it/s]"
      ]
     },
     "metadata": {},
     "output_type": "display_data"
    },
    {
     "name": "stderr",
     "output_type": "stream",
     "text": [
      "[W ParallelNative.cpp:214] Warning: Cannot set number of intraop threads after parallel work has started or after set_num_threads call when using native parallel backend (function set_num_threads)\n",
      "[W ParallelNative.cpp:214] Warning: Cannot set number of intraop threads after parallel work has started or after set_num_threads call when using native parallel backend (function set_num_threads)\n",
      "Epoch 16, global step 169: val_loss reached 0.26136 (best 0.25806), saving model to \"/Users/koredeakande/Documents/Capstone/ISP Project/Coding/nigerian_isp_sentiment_analysis/models/absa-aspect-extraction/bertweet/ae-epoch=16-val_loss=0.26.ckpt\" as top 3\n",
      "[W ParallelNative.cpp:214] Warning: Cannot set number of intraop threads after parallel work has started or after set_num_threads call when using native parallel backend (function set_num_threads)\n",
      "[W ParallelNative.cpp:214] Warning: Cannot set number of intraop threads after parallel work has started or after set_num_threads call when using native parallel backend (function set_num_threads)\n"
     ]
    },
    {
     "data": {
      "application/vnd.jupyter.widget-view+json": {
       "model_id": "",
       "version_major": 2,
       "version_minor": 0
      },
      "text/plain": [
       "Validating: 0it [00:00, ?it/s]"
      ]
     },
     "metadata": {},
     "output_type": "display_data"
    },
    {
     "name": "stderr",
     "output_type": "stream",
     "text": [
      "[W ParallelNative.cpp:214] Warning: Cannot set number of intraop threads after parallel work has started or after set_num_threads call when using native parallel backend (function set_num_threads)\n",
      "[W ParallelNative.cpp:214] Warning: Cannot set number of intraop threads after parallel work has started or after set_num_threads call when using native parallel backend (function set_num_threads)\n",
      "Epoch 17, global step 179: val_loss reached 0.25905 (best 0.25806), saving model to \"/Users/koredeakande/Documents/Capstone/ISP Project/Coding/nigerian_isp_sentiment_analysis/models/absa-aspect-extraction/bertweet/ae-epoch=17-val_loss=0.26.ckpt\" as top 3\n",
      "[W ParallelNative.cpp:214] Warning: Cannot set number of intraop threads after parallel work has started or after set_num_threads call when using native parallel backend (function set_num_threads)\n",
      "[W ParallelNative.cpp:214] Warning: Cannot set number of intraop threads after parallel work has started or after set_num_threads call when using native parallel backend (function set_num_threads)\n"
     ]
    },
    {
     "data": {
      "application/vnd.jupyter.widget-view+json": {
       "model_id": "",
       "version_major": 2,
       "version_minor": 0
      },
      "text/plain": [
       "Validating: 0it [00:00, ?it/s]"
      ]
     },
     "metadata": {},
     "output_type": "display_data"
    },
    {
     "name": "stderr",
     "output_type": "stream",
     "text": [
      "[W ParallelNative.cpp:214] Warning: Cannot set number of intraop threads after parallel work has started or after set_num_threads call when using native parallel backend (function set_num_threads)\n",
      "[W ParallelNative.cpp:214] Warning: Cannot set number of intraop threads after parallel work has started or after set_num_threads call when using native parallel backend (function set_num_threads)\n",
      "Epoch 18, global step 189: val_loss reached 0.25526 (best 0.25526), saving model to \"/Users/koredeakande/Documents/Capstone/ISP Project/Coding/nigerian_isp_sentiment_analysis/models/absa-aspect-extraction/bertweet/ae-epoch=18-val_loss=0.26.ckpt\" as top 3\n",
      "[W ParallelNative.cpp:214] Warning: Cannot set number of intraop threads after parallel work has started or after set_num_threads call when using native parallel backend (function set_num_threads)\n",
      "[W ParallelNative.cpp:214] Warning: Cannot set number of intraop threads after parallel work has started or after set_num_threads call when using native parallel backend (function set_num_threads)\n"
     ]
    },
    {
     "data": {
      "application/vnd.jupyter.widget-view+json": {
       "model_id": "",
       "version_major": 2,
       "version_minor": 0
      },
      "text/plain": [
       "Validating: 0it [00:00, ?it/s]"
      ]
     },
     "metadata": {},
     "output_type": "display_data"
    },
    {
     "name": "stderr",
     "output_type": "stream",
     "text": [
      "[W ParallelNative.cpp:214] Warning: Cannot set number of intraop threads after parallel work has started or after set_num_threads call when using native parallel backend (function set_num_threads)\n",
      "[W ParallelNative.cpp:214] Warning: Cannot set number of intraop threads after parallel work has started or after set_num_threads call when using native parallel backend (function set_num_threads)\n",
      "Epoch 19, global step 199: val_loss reached 0.25156 (best 0.25156), saving model to \"/Users/koredeakande/Documents/Capstone/ISP Project/Coding/nigerian_isp_sentiment_analysis/models/absa-aspect-extraction/bertweet/ae-epoch=19-val_loss=0.25.ckpt\" as top 3\n",
      "[W ParallelNative.cpp:214] Warning: Cannot set number of intraop threads after parallel work has started or after set_num_threads call when using native parallel backend (function set_num_threads)\n",
      "[W ParallelNative.cpp:214] Warning: Cannot set number of intraop threads after parallel work has started or after set_num_threads call when using native parallel backend (function set_num_threads)\n"
     ]
    },
    {
     "data": {
      "application/vnd.jupyter.widget-view+json": {
       "model_id": "",
       "version_major": 2,
       "version_minor": 0
      },
      "text/plain": [
       "Validating: 0it [00:00, ?it/s]"
      ]
     },
     "metadata": {},
     "output_type": "display_data"
    },
    {
     "name": "stderr",
     "output_type": "stream",
     "text": [
      "[W ParallelNative.cpp:214] Warning: Cannot set number of intraop threads after parallel work has started or after set_num_threads call when using native parallel backend (function set_num_threads)\n",
      "[W ParallelNative.cpp:214] Warning: Cannot set number of intraop threads after parallel work has started or after set_num_threads call when using native parallel backend (function set_num_threads)\n",
      "Epoch 20, global step 209: val_loss reached 0.24714 (best 0.24714), saving model to \"/Users/koredeakande/Documents/Capstone/ISP Project/Coding/nigerian_isp_sentiment_analysis/models/absa-aspect-extraction/bertweet/ae-epoch=20-val_loss=0.25.ckpt\" as top 3\n",
      "[W ParallelNative.cpp:214] Warning: Cannot set number of intraop threads after parallel work has started or after set_num_threads call when using native parallel backend (function set_num_threads)\n",
      "[W ParallelNative.cpp:214] Warning: Cannot set number of intraop threads after parallel work has started or after set_num_threads call when using native parallel backend (function set_num_threads)\n"
     ]
    },
    {
     "data": {
      "application/vnd.jupyter.widget-view+json": {
       "model_id": "",
       "version_major": 2,
       "version_minor": 0
      },
      "text/plain": [
       "Validating: 0it [00:00, ?it/s]"
      ]
     },
     "metadata": {},
     "output_type": "display_data"
    },
    {
     "name": "stderr",
     "output_type": "stream",
     "text": [
      "[W ParallelNative.cpp:214] Warning: Cannot set number of intraop threads after parallel work has started or after set_num_threads call when using native parallel backend (function set_num_threads)\n",
      "[W ParallelNative.cpp:214] Warning: Cannot set number of intraop threads after parallel work has started or after set_num_threads call when using native parallel backend (function set_num_threads)\n",
      "Epoch 21, global step 219: val_loss reached 0.24536 (best 0.24536), saving model to \"/Users/koredeakande/Documents/Capstone/ISP Project/Coding/nigerian_isp_sentiment_analysis/models/absa-aspect-extraction/bertweet/ae-epoch=21-val_loss=0.25.ckpt\" as top 3\n",
      "[W ParallelNative.cpp:214] Warning: Cannot set number of intraop threads after parallel work has started or after set_num_threads call when using native parallel backend (function set_num_threads)\n",
      "[W ParallelNative.cpp:214] Warning: Cannot set number of intraop threads after parallel work has started or after set_num_threads call when using native parallel backend (function set_num_threads)\n"
     ]
    },
    {
     "data": {
      "application/vnd.jupyter.widget-view+json": {
       "model_id": "",
       "version_major": 2,
       "version_minor": 0
      },
      "text/plain": [
       "Validating: 0it [00:00, ?it/s]"
      ]
     },
     "metadata": {},
     "output_type": "display_data"
    },
    {
     "name": "stderr",
     "output_type": "stream",
     "text": [
      "[W ParallelNative.cpp:214] Warning: Cannot set number of intraop threads after parallel work has started or after set_num_threads call when using native parallel backend (function set_num_threads)\n",
      "[W ParallelNative.cpp:214] Warning: Cannot set number of intraop threads after parallel work has started or after set_num_threads call when using native parallel backend (function set_num_threads)\n",
      "Epoch 22, global step 229: val_loss reached 0.24308 (best 0.24308), saving model to \"/Users/koredeakande/Documents/Capstone/ISP Project/Coding/nigerian_isp_sentiment_analysis/models/absa-aspect-extraction/bertweet/ae-epoch=22-val_loss=0.24.ckpt\" as top 3\n",
      "[W ParallelNative.cpp:214] Warning: Cannot set number of intraop threads after parallel work has started or after set_num_threads call when using native parallel backend (function set_num_threads)\n",
      "[W ParallelNative.cpp:214] Warning: Cannot set number of intraop threads after parallel work has started or after set_num_threads call when using native parallel backend (function set_num_threads)\n"
     ]
    },
    {
     "data": {
      "application/vnd.jupyter.widget-view+json": {
       "model_id": "",
       "version_major": 2,
       "version_minor": 0
      },
      "text/plain": [
       "Validating: 0it [00:00, ?it/s]"
      ]
     },
     "metadata": {},
     "output_type": "display_data"
    },
    {
     "name": "stderr",
     "output_type": "stream",
     "text": [
      "[W ParallelNative.cpp:214] Warning: Cannot set number of intraop threads after parallel work has started or after set_num_threads call when using native parallel backend (function set_num_threads)\n",
      "[W ParallelNative.cpp:214] Warning: Cannot set number of intraop threads after parallel work has started or after set_num_threads call when using native parallel backend (function set_num_threads)\n",
      "Epoch 23, global step 239: val_loss reached 0.24133 (best 0.24133), saving model to \"/Users/koredeakande/Documents/Capstone/ISP Project/Coding/nigerian_isp_sentiment_analysis/models/absa-aspect-extraction/bertweet/ae-epoch=23-val_loss=0.24.ckpt\" as top 3\n",
      "[W ParallelNative.cpp:214] Warning: Cannot set number of intraop threads after parallel work has started or after set_num_threads call when using native parallel backend (function set_num_threads)\n",
      "[W ParallelNative.cpp:214] Warning: Cannot set number of intraop threads after parallel work has started or after set_num_threads call when using native parallel backend (function set_num_threads)\n"
     ]
    },
    {
     "data": {
      "application/vnd.jupyter.widget-view+json": {
       "model_id": "",
       "version_major": 2,
       "version_minor": 0
      },
      "text/plain": [
       "Validating: 0it [00:00, ?it/s]"
      ]
     },
     "metadata": {},
     "output_type": "display_data"
    },
    {
     "name": "stderr",
     "output_type": "stream",
     "text": [
      "[W ParallelNative.cpp:214] Warning: Cannot set number of intraop threads after parallel work has started or after set_num_threads call when using native parallel backend (function set_num_threads)\n",
      "[W ParallelNative.cpp:214] Warning: Cannot set number of intraop threads after parallel work has started or after set_num_threads call when using native parallel backend (function set_num_threads)\n",
      "Epoch 24, global step 249: val_loss reached 0.24027 (best 0.24027), saving model to \"/Users/koredeakande/Documents/Capstone/ISP Project/Coding/nigerian_isp_sentiment_analysis/models/absa-aspect-extraction/bertweet/ae-epoch=24-val_loss=0.24.ckpt\" as top 3\n",
      "[W ParallelNative.cpp:214] Warning: Cannot set number of intraop threads after parallel work has started or after set_num_threads call when using native parallel backend (function set_num_threads)\n",
      "[W ParallelNative.cpp:214] Warning: Cannot set number of intraop threads after parallel work has started or after set_num_threads call when using native parallel backend (function set_num_threads)\n"
     ]
    },
    {
     "data": {
      "application/vnd.jupyter.widget-view+json": {
       "model_id": "",
       "version_major": 2,
       "version_minor": 0
      },
      "text/plain": [
       "Validating: 0it [00:00, ?it/s]"
      ]
     },
     "metadata": {},
     "output_type": "display_data"
    },
    {
     "name": "stderr",
     "output_type": "stream",
     "text": [
      "[W ParallelNative.cpp:214] Warning: Cannot set number of intraop threads after parallel work has started or after set_num_threads call when using native parallel backend (function set_num_threads)\n",
      "[W ParallelNative.cpp:214] Warning: Cannot set number of intraop threads after parallel work has started or after set_num_threads call when using native parallel backend (function set_num_threads)\n",
      "Epoch 25, global step 259: val_loss reached 0.23999 (best 0.23999), saving model to \"/Users/koredeakande/Documents/Capstone/ISP Project/Coding/nigerian_isp_sentiment_analysis/models/absa-aspect-extraction/bertweet/ae-epoch=25-val_loss=0.24.ckpt\" as top 3\n",
      "[W ParallelNative.cpp:214] Warning: Cannot set number of intraop threads after parallel work has started or after set_num_threads call when using native parallel backend (function set_num_threads)\n",
      "[W ParallelNative.cpp:214] Warning: Cannot set number of intraop threads after parallel work has started or after set_num_threads call when using native parallel backend (function set_num_threads)\n"
     ]
    },
    {
     "data": {
      "application/vnd.jupyter.widget-view+json": {
       "model_id": "",
       "version_major": 2,
       "version_minor": 0
      },
      "text/plain": [
       "Validating: 0it [00:00, ?it/s]"
      ]
     },
     "metadata": {},
     "output_type": "display_data"
    },
    {
     "name": "stderr",
     "output_type": "stream",
     "text": [
      "[W ParallelNative.cpp:214] Warning: Cannot set number of intraop threads after parallel work has started or after set_num_threads call when using native parallel backend (function set_num_threads)\n",
      "[W ParallelNative.cpp:214] Warning: Cannot set number of intraop threads after parallel work has started or after set_num_threads call when using native parallel backend (function set_num_threads)\n",
      "Epoch 26, global step 269: val_loss reached 0.23936 (best 0.23936), saving model to \"/Users/koredeakande/Documents/Capstone/ISP Project/Coding/nigerian_isp_sentiment_analysis/models/absa-aspect-extraction/bertweet/ae-epoch=26-val_loss=0.24.ckpt\" as top 3\n",
      "[W ParallelNative.cpp:214] Warning: Cannot set number of intraop threads after parallel work has started or after set_num_threads call when using native parallel backend (function set_num_threads)\n",
      "[W ParallelNative.cpp:214] Warning: Cannot set number of intraop threads after parallel work has started or after set_num_threads call when using native parallel backend (function set_num_threads)\n"
     ]
    },
    {
     "data": {
      "application/vnd.jupyter.widget-view+json": {
       "model_id": "",
       "version_major": 2,
       "version_minor": 0
      },
      "text/plain": [
       "Validating: 0it [00:00, ?it/s]"
      ]
     },
     "metadata": {},
     "output_type": "display_data"
    },
    {
     "name": "stderr",
     "output_type": "stream",
     "text": [
      "[W ParallelNative.cpp:214] Warning: Cannot set number of intraop threads after parallel work has started or after set_num_threads call when using native parallel backend (function set_num_threads)\n",
      "[W ParallelNative.cpp:214] Warning: Cannot set number of intraop threads after parallel work has started or after set_num_threads call when using native parallel backend (function set_num_threads)\n",
      "Epoch 27, global step 279: val_loss reached 0.23936 (best 0.23936), saving model to \"/Users/koredeakande/Documents/Capstone/ISP Project/Coding/nigerian_isp_sentiment_analysis/models/absa-aspect-extraction/bertweet/ae-epoch=27-val_loss=0.24.ckpt\" as top 3\n",
      "[W ParallelNative.cpp:214] Warning: Cannot set number of intraop threads after parallel work has started or after set_num_threads call when using native parallel backend (function set_num_threads)\n",
      "[W ParallelNative.cpp:214] Warning: Cannot set number of intraop threads after parallel work has started or after set_num_threads call when using native parallel backend (function set_num_threads)\n"
     ]
    },
    {
     "data": {
      "application/vnd.jupyter.widget-view+json": {
       "model_id": "",
       "version_major": 2,
       "version_minor": 0
      },
      "text/plain": [
       "Validating: 0it [00:00, ?it/s]"
      ]
     },
     "metadata": {},
     "output_type": "display_data"
    },
    {
     "name": "stderr",
     "output_type": "stream",
     "text": [
      "[W ParallelNative.cpp:214] Warning: Cannot set number of intraop threads after parallel work has started or after set_num_threads call when using native parallel backend (function set_num_threads)\n",
      "[W ParallelNative.cpp:214] Warning: Cannot set number of intraop threads after parallel work has started or after set_num_threads call when using native parallel backend (function set_num_threads)\n",
      "Epoch 28, global step 289: val_loss reached 0.23936 (best 0.23936), saving model to \"/Users/koredeakande/Documents/Capstone/ISP Project/Coding/nigerian_isp_sentiment_analysis/models/absa-aspect-extraction/bertweet/ae-epoch=28-val_loss=0.24.ckpt\" as top 3\n",
      "[W ParallelNative.cpp:214] Warning: Cannot set number of intraop threads after parallel work has started or after set_num_threads call when using native parallel backend (function set_num_threads)\n",
      "[W ParallelNative.cpp:214] Warning: Cannot set number of intraop threads after parallel work has started or after set_num_threads call when using native parallel backend (function set_num_threads)\n"
     ]
    },
    {
     "data": {
      "application/vnd.jupyter.widget-view+json": {
       "model_id": "",
       "version_major": 2,
       "version_minor": 0
      },
      "text/plain": [
       "Validating: 0it [00:00, ?it/s]"
      ]
     },
     "metadata": {},
     "output_type": "display_data"
    },
    {
     "name": "stderr",
     "output_type": "stream",
     "text": [
      "[W ParallelNative.cpp:214] Warning: Cannot set number of intraop threads after parallel work has started or after set_num_threads call when using native parallel backend (function set_num_threads)\n",
      "[W ParallelNative.cpp:214] Warning: Cannot set number of intraop threads after parallel work has started or after set_num_threads call when using native parallel backend (function set_num_threads)\n",
      "Epoch 29, global step 299: val_loss was not in top 3\n"
     ]
    }
   ],
   "source": [
    "trainer = pl.Trainer(\n",
    "    #gpus                       = 1,\n",
    "    logger                      = logger,\n",
    "    log_every_n_steps           = 10,\n",
    "    callbacks                   = [checkpoint_callback],\n",
    "    max_epochs                  =  N_EPOCHS,\n",
    "    progress_bar_refresh_rate   =  30\n",
    ")\n",
    "\n",
    "trainer.fit(model, data_module)"
   ]
  },
  {
   "cell_type": "markdown",
   "id": "330b2bc7-6ad4-4830-9f6b-43398e9849e0",
   "metadata": {},
   "source": [
    "### e. Model Evaluation"
   ]
  },
  {
   "cell_type": "code",
   "execution_count": 157,
   "id": "61d0d21b-4524-49cf-81ef-392e51f8dcc4",
   "metadata": {},
   "outputs": [
    {
     "name": "stderr",
     "output_type": "stream",
     "text": [
      "/Users/koredeakande/opt/anaconda3/envs/capstone/lib/python3.7/site-packages/pytorch_lightning/trainer/data_loading.py:111: UserWarning: The dataloader, test_dataloader 0, does not have many workers which may be a bottleneck. Consider increasing the value of the `num_workers` argument` (try 8 which is the number of cpus on this machine) in the `DataLoader` init to improve performance.\n",
      "  f\"The dataloader, {name}, does not have many workers which may be a bottleneck.\"\n"
     ]
    },
    {
     "data": {
      "application/vnd.jupyter.widget-view+json": {
       "model_id": "f07574c382794109a2c9df89fb48fcc5",
       "version_major": 2,
       "version_minor": 0
      },
      "text/plain": [
       "Testing: 0it [00:00, ?it/s]"
      ]
     },
     "metadata": {},
     "output_type": "display_data"
    },
    {
     "name": "stderr",
     "output_type": "stream",
     "text": [
      "[W ParallelNative.cpp:214] Warning: Cannot set number of intraop threads after parallel work has started or after set_num_threads call when using native parallel backend (function set_num_threads)\n",
      "[W ParallelNative.cpp:214] Warning: Cannot set number of intraop threads after parallel work has started or after set_num_threads call when using native parallel backend (function set_num_threads)\n"
     ]
    },
    {
     "name": "stdout",
     "output_type": "stream",
     "text": [
      "--------------------------------------------------------------------------------\n",
      "DATALOADER:0 TEST RESULTS\n",
      "{'test_loss': 0.2669481039047241}\n",
      "--------------------------------------------------------------------------------\n"
     ]
    },
    {
     "data": {
      "text/plain": [
       "[{'test_loss': 0.2669481039047241}]"
      ]
     },
     "execution_count": 157,
     "metadata": {},
     "output_type": "execute_result"
    }
   ],
   "source": [
    "#Evaluate the model's performance on the test dataset\n",
    "trainer.test(model,data_module)"
   ]
  },
  {
   "cell_type": "code",
   "execution_count": 158,
   "id": "d14c7ba0-833f-4d73-a17f-8668f18fe34c",
   "metadata": {},
   "outputs": [
    {
     "name": "stdout",
     "output_type": "stream",
     "text": [
      "The tensorboard extension is already loaded. To reload it, use:\n",
      "  %reload_ext tensorboard\n"
     ]
    },
    {
     "data": {
      "text/html": [
       "\n",
       "      <iframe id=\"tensorboard-frame-44867db30d67b366\" width=\"100%\" height=\"800\" frameborder=\"0\">\n",
       "      </iframe>\n",
       "      <script>\n",
       "        (function() {\n",
       "          const frame = document.getElementById(\"tensorboard-frame-44867db30d67b366\");\n",
       "          const url = new URL(\"/\", window.location);\n",
       "          const port = 6007;\n",
       "          if (port) {\n",
       "            url.port = port;\n",
       "          }\n",
       "          frame.src = url;\n",
       "        })();\n",
       "      </script>\n",
       "    "
      ],
      "text/plain": [
       "<IPython.core.display.HTML object>"
      ]
     },
     "metadata": {},
     "output_type": "display_data"
    }
   ],
   "source": [
    "# Visualize the logs using tensorboard.\n",
    "%load_ext tensorboard\n",
    "%tensorboard --logdir ../models/absa-aspect-extraction/bertweet/lightning_logs/\n",
    "#%reload_ext tensorboard"
   ]
  },
  {
   "cell_type": "markdown",
   "id": "d6922943-c201-4d12-95ff-d375050ad508",
   "metadata": {},
   "source": [
    "Micro F1 is horrible, although this totally depends on the threshold"
   ]
  },
  {
   "cell_type": "markdown",
   "id": "77b34489-7d53-4873-871a-65a0d6b71c0d",
   "metadata": {},
   "source": [
    "#### (i) Evaluate model performance on a generated example"
   ]
  },
  {
   "cell_type": "code",
   "execution_count": 161,
   "id": "07b46acb-3632-477d-913d-c04f28ea34c2",
   "metadata": {},
   "outputs": [
    {
     "data": {
      "text/plain": [
       "ISP_TweetAspectClassifier(\n",
       "  (bert): RobertaModel(\n",
       "    (embeddings): RobertaEmbeddings(\n",
       "      (word_embeddings): Embedding(64001, 768, padding_idx=1)\n",
       "      (position_embeddings): Embedding(130, 768, padding_idx=1)\n",
       "      (token_type_embeddings): Embedding(1, 768)\n",
       "      (LayerNorm): LayerNorm((768,), eps=1e-05, elementwise_affine=True)\n",
       "      (dropout): Dropout(p=0.1, inplace=False)\n",
       "    )\n",
       "    (encoder): RobertaEncoder(\n",
       "      (layer): ModuleList(\n",
       "        (0): RobertaLayer(\n",
       "          (attention): RobertaAttention(\n",
       "            (self): RobertaSelfAttention(\n",
       "              (query): Linear(in_features=768, out_features=768, bias=True)\n",
       "              (key): Linear(in_features=768, out_features=768, bias=True)\n",
       "              (value): Linear(in_features=768, out_features=768, bias=True)\n",
       "              (dropout): Dropout(p=0.1, inplace=False)\n",
       "            )\n",
       "            (output): RobertaSelfOutput(\n",
       "              (dense): Linear(in_features=768, out_features=768, bias=True)\n",
       "              (LayerNorm): LayerNorm((768,), eps=1e-05, elementwise_affine=True)\n",
       "              (dropout): Dropout(p=0.1, inplace=False)\n",
       "            )\n",
       "          )\n",
       "          (intermediate): RobertaIntermediate(\n",
       "            (dense): Linear(in_features=768, out_features=3072, bias=True)\n",
       "          )\n",
       "          (output): RobertaOutput(\n",
       "            (dense): Linear(in_features=3072, out_features=768, bias=True)\n",
       "            (LayerNorm): LayerNorm((768,), eps=1e-05, elementwise_affine=True)\n",
       "            (dropout): Dropout(p=0.1, inplace=False)\n",
       "          )\n",
       "        )\n",
       "        (1): RobertaLayer(\n",
       "          (attention): RobertaAttention(\n",
       "            (self): RobertaSelfAttention(\n",
       "              (query): Linear(in_features=768, out_features=768, bias=True)\n",
       "              (key): Linear(in_features=768, out_features=768, bias=True)\n",
       "              (value): Linear(in_features=768, out_features=768, bias=True)\n",
       "              (dropout): Dropout(p=0.1, inplace=False)\n",
       "            )\n",
       "            (output): RobertaSelfOutput(\n",
       "              (dense): Linear(in_features=768, out_features=768, bias=True)\n",
       "              (LayerNorm): LayerNorm((768,), eps=1e-05, elementwise_affine=True)\n",
       "              (dropout): Dropout(p=0.1, inplace=False)\n",
       "            )\n",
       "          )\n",
       "          (intermediate): RobertaIntermediate(\n",
       "            (dense): Linear(in_features=768, out_features=3072, bias=True)\n",
       "          )\n",
       "          (output): RobertaOutput(\n",
       "            (dense): Linear(in_features=3072, out_features=768, bias=True)\n",
       "            (LayerNorm): LayerNorm((768,), eps=1e-05, elementwise_affine=True)\n",
       "            (dropout): Dropout(p=0.1, inplace=False)\n",
       "          )\n",
       "        )\n",
       "        (2): RobertaLayer(\n",
       "          (attention): RobertaAttention(\n",
       "            (self): RobertaSelfAttention(\n",
       "              (query): Linear(in_features=768, out_features=768, bias=True)\n",
       "              (key): Linear(in_features=768, out_features=768, bias=True)\n",
       "              (value): Linear(in_features=768, out_features=768, bias=True)\n",
       "              (dropout): Dropout(p=0.1, inplace=False)\n",
       "            )\n",
       "            (output): RobertaSelfOutput(\n",
       "              (dense): Linear(in_features=768, out_features=768, bias=True)\n",
       "              (LayerNorm): LayerNorm((768,), eps=1e-05, elementwise_affine=True)\n",
       "              (dropout): Dropout(p=0.1, inplace=False)\n",
       "            )\n",
       "          )\n",
       "          (intermediate): RobertaIntermediate(\n",
       "            (dense): Linear(in_features=768, out_features=3072, bias=True)\n",
       "          )\n",
       "          (output): RobertaOutput(\n",
       "            (dense): Linear(in_features=3072, out_features=768, bias=True)\n",
       "            (LayerNorm): LayerNorm((768,), eps=1e-05, elementwise_affine=True)\n",
       "            (dropout): Dropout(p=0.1, inplace=False)\n",
       "          )\n",
       "        )\n",
       "        (3): RobertaLayer(\n",
       "          (attention): RobertaAttention(\n",
       "            (self): RobertaSelfAttention(\n",
       "              (query): Linear(in_features=768, out_features=768, bias=True)\n",
       "              (key): Linear(in_features=768, out_features=768, bias=True)\n",
       "              (value): Linear(in_features=768, out_features=768, bias=True)\n",
       "              (dropout): Dropout(p=0.1, inplace=False)\n",
       "            )\n",
       "            (output): RobertaSelfOutput(\n",
       "              (dense): Linear(in_features=768, out_features=768, bias=True)\n",
       "              (LayerNorm): LayerNorm((768,), eps=1e-05, elementwise_affine=True)\n",
       "              (dropout): Dropout(p=0.1, inplace=False)\n",
       "            )\n",
       "          )\n",
       "          (intermediate): RobertaIntermediate(\n",
       "            (dense): Linear(in_features=768, out_features=3072, bias=True)\n",
       "          )\n",
       "          (output): RobertaOutput(\n",
       "            (dense): Linear(in_features=3072, out_features=768, bias=True)\n",
       "            (LayerNorm): LayerNorm((768,), eps=1e-05, elementwise_affine=True)\n",
       "            (dropout): Dropout(p=0.1, inplace=False)\n",
       "          )\n",
       "        )\n",
       "        (4): RobertaLayer(\n",
       "          (attention): RobertaAttention(\n",
       "            (self): RobertaSelfAttention(\n",
       "              (query): Linear(in_features=768, out_features=768, bias=True)\n",
       "              (key): Linear(in_features=768, out_features=768, bias=True)\n",
       "              (value): Linear(in_features=768, out_features=768, bias=True)\n",
       "              (dropout): Dropout(p=0.1, inplace=False)\n",
       "            )\n",
       "            (output): RobertaSelfOutput(\n",
       "              (dense): Linear(in_features=768, out_features=768, bias=True)\n",
       "              (LayerNorm): LayerNorm((768,), eps=1e-05, elementwise_affine=True)\n",
       "              (dropout): Dropout(p=0.1, inplace=False)\n",
       "            )\n",
       "          )\n",
       "          (intermediate): RobertaIntermediate(\n",
       "            (dense): Linear(in_features=768, out_features=3072, bias=True)\n",
       "          )\n",
       "          (output): RobertaOutput(\n",
       "            (dense): Linear(in_features=3072, out_features=768, bias=True)\n",
       "            (LayerNorm): LayerNorm((768,), eps=1e-05, elementwise_affine=True)\n",
       "            (dropout): Dropout(p=0.1, inplace=False)\n",
       "          )\n",
       "        )\n",
       "        (5): RobertaLayer(\n",
       "          (attention): RobertaAttention(\n",
       "            (self): RobertaSelfAttention(\n",
       "              (query): Linear(in_features=768, out_features=768, bias=True)\n",
       "              (key): Linear(in_features=768, out_features=768, bias=True)\n",
       "              (value): Linear(in_features=768, out_features=768, bias=True)\n",
       "              (dropout): Dropout(p=0.1, inplace=False)\n",
       "            )\n",
       "            (output): RobertaSelfOutput(\n",
       "              (dense): Linear(in_features=768, out_features=768, bias=True)\n",
       "              (LayerNorm): LayerNorm((768,), eps=1e-05, elementwise_affine=True)\n",
       "              (dropout): Dropout(p=0.1, inplace=False)\n",
       "            )\n",
       "          )\n",
       "          (intermediate): RobertaIntermediate(\n",
       "            (dense): Linear(in_features=768, out_features=3072, bias=True)\n",
       "          )\n",
       "          (output): RobertaOutput(\n",
       "            (dense): Linear(in_features=3072, out_features=768, bias=True)\n",
       "            (LayerNorm): LayerNorm((768,), eps=1e-05, elementwise_affine=True)\n",
       "            (dropout): Dropout(p=0.1, inplace=False)\n",
       "          )\n",
       "        )\n",
       "        (6): RobertaLayer(\n",
       "          (attention): RobertaAttention(\n",
       "            (self): RobertaSelfAttention(\n",
       "              (query): Linear(in_features=768, out_features=768, bias=True)\n",
       "              (key): Linear(in_features=768, out_features=768, bias=True)\n",
       "              (value): Linear(in_features=768, out_features=768, bias=True)\n",
       "              (dropout): Dropout(p=0.1, inplace=False)\n",
       "            )\n",
       "            (output): RobertaSelfOutput(\n",
       "              (dense): Linear(in_features=768, out_features=768, bias=True)\n",
       "              (LayerNorm): LayerNorm((768,), eps=1e-05, elementwise_affine=True)\n",
       "              (dropout): Dropout(p=0.1, inplace=False)\n",
       "            )\n",
       "          )\n",
       "          (intermediate): RobertaIntermediate(\n",
       "            (dense): Linear(in_features=768, out_features=3072, bias=True)\n",
       "          )\n",
       "          (output): RobertaOutput(\n",
       "            (dense): Linear(in_features=3072, out_features=768, bias=True)\n",
       "            (LayerNorm): LayerNorm((768,), eps=1e-05, elementwise_affine=True)\n",
       "            (dropout): Dropout(p=0.1, inplace=False)\n",
       "          )\n",
       "        )\n",
       "        (7): RobertaLayer(\n",
       "          (attention): RobertaAttention(\n",
       "            (self): RobertaSelfAttention(\n",
       "              (query): Linear(in_features=768, out_features=768, bias=True)\n",
       "              (key): Linear(in_features=768, out_features=768, bias=True)\n",
       "              (value): Linear(in_features=768, out_features=768, bias=True)\n",
       "              (dropout): Dropout(p=0.1, inplace=False)\n",
       "            )\n",
       "            (output): RobertaSelfOutput(\n",
       "              (dense): Linear(in_features=768, out_features=768, bias=True)\n",
       "              (LayerNorm): LayerNorm((768,), eps=1e-05, elementwise_affine=True)\n",
       "              (dropout): Dropout(p=0.1, inplace=False)\n",
       "            )\n",
       "          )\n",
       "          (intermediate): RobertaIntermediate(\n",
       "            (dense): Linear(in_features=768, out_features=3072, bias=True)\n",
       "          )\n",
       "          (output): RobertaOutput(\n",
       "            (dense): Linear(in_features=3072, out_features=768, bias=True)\n",
       "            (LayerNorm): LayerNorm((768,), eps=1e-05, elementwise_affine=True)\n",
       "            (dropout): Dropout(p=0.1, inplace=False)\n",
       "          )\n",
       "        )\n",
       "        (8): RobertaLayer(\n",
       "          (attention): RobertaAttention(\n",
       "            (self): RobertaSelfAttention(\n",
       "              (query): Linear(in_features=768, out_features=768, bias=True)\n",
       "              (key): Linear(in_features=768, out_features=768, bias=True)\n",
       "              (value): Linear(in_features=768, out_features=768, bias=True)\n",
       "              (dropout): Dropout(p=0.1, inplace=False)\n",
       "            )\n",
       "            (output): RobertaSelfOutput(\n",
       "              (dense): Linear(in_features=768, out_features=768, bias=True)\n",
       "              (LayerNorm): LayerNorm((768,), eps=1e-05, elementwise_affine=True)\n",
       "              (dropout): Dropout(p=0.1, inplace=False)\n",
       "            )\n",
       "          )\n",
       "          (intermediate): RobertaIntermediate(\n",
       "            (dense): Linear(in_features=768, out_features=3072, bias=True)\n",
       "          )\n",
       "          (output): RobertaOutput(\n",
       "            (dense): Linear(in_features=3072, out_features=768, bias=True)\n",
       "            (LayerNorm): LayerNorm((768,), eps=1e-05, elementwise_affine=True)\n",
       "            (dropout): Dropout(p=0.1, inplace=False)\n",
       "          )\n",
       "        )\n",
       "        (9): RobertaLayer(\n",
       "          (attention): RobertaAttention(\n",
       "            (self): RobertaSelfAttention(\n",
       "              (query): Linear(in_features=768, out_features=768, bias=True)\n",
       "              (key): Linear(in_features=768, out_features=768, bias=True)\n",
       "              (value): Linear(in_features=768, out_features=768, bias=True)\n",
       "              (dropout): Dropout(p=0.1, inplace=False)\n",
       "            )\n",
       "            (output): RobertaSelfOutput(\n",
       "              (dense): Linear(in_features=768, out_features=768, bias=True)\n",
       "              (LayerNorm): LayerNorm((768,), eps=1e-05, elementwise_affine=True)\n",
       "              (dropout): Dropout(p=0.1, inplace=False)\n",
       "            )\n",
       "          )\n",
       "          (intermediate): RobertaIntermediate(\n",
       "            (dense): Linear(in_features=768, out_features=3072, bias=True)\n",
       "          )\n",
       "          (output): RobertaOutput(\n",
       "            (dense): Linear(in_features=3072, out_features=768, bias=True)\n",
       "            (LayerNorm): LayerNorm((768,), eps=1e-05, elementwise_affine=True)\n",
       "            (dropout): Dropout(p=0.1, inplace=False)\n",
       "          )\n",
       "        )\n",
       "        (10): RobertaLayer(\n",
       "          (attention): RobertaAttention(\n",
       "            (self): RobertaSelfAttention(\n",
       "              (query): Linear(in_features=768, out_features=768, bias=True)\n",
       "              (key): Linear(in_features=768, out_features=768, bias=True)\n",
       "              (value): Linear(in_features=768, out_features=768, bias=True)\n",
       "              (dropout): Dropout(p=0.1, inplace=False)\n",
       "            )\n",
       "            (output): RobertaSelfOutput(\n",
       "              (dense): Linear(in_features=768, out_features=768, bias=True)\n",
       "              (LayerNorm): LayerNorm((768,), eps=1e-05, elementwise_affine=True)\n",
       "              (dropout): Dropout(p=0.1, inplace=False)\n",
       "            )\n",
       "          )\n",
       "          (intermediate): RobertaIntermediate(\n",
       "            (dense): Linear(in_features=768, out_features=3072, bias=True)\n",
       "          )\n",
       "          (output): RobertaOutput(\n",
       "            (dense): Linear(in_features=3072, out_features=768, bias=True)\n",
       "            (LayerNorm): LayerNorm((768,), eps=1e-05, elementwise_affine=True)\n",
       "            (dropout): Dropout(p=0.1, inplace=False)\n",
       "          )\n",
       "        )\n",
       "        (11): RobertaLayer(\n",
       "          (attention): RobertaAttention(\n",
       "            (self): RobertaSelfAttention(\n",
       "              (query): Linear(in_features=768, out_features=768, bias=True)\n",
       "              (key): Linear(in_features=768, out_features=768, bias=True)\n",
       "              (value): Linear(in_features=768, out_features=768, bias=True)\n",
       "              (dropout): Dropout(p=0.1, inplace=False)\n",
       "            )\n",
       "            (output): RobertaSelfOutput(\n",
       "              (dense): Linear(in_features=768, out_features=768, bias=True)\n",
       "              (LayerNorm): LayerNorm((768,), eps=1e-05, elementwise_affine=True)\n",
       "              (dropout): Dropout(p=0.1, inplace=False)\n",
       "            )\n",
       "          )\n",
       "          (intermediate): RobertaIntermediate(\n",
       "            (dense): Linear(in_features=768, out_features=3072, bias=True)\n",
       "          )\n",
       "          (output): RobertaOutput(\n",
       "            (dense): Linear(in_features=3072, out_features=768, bias=True)\n",
       "            (LayerNorm): LayerNorm((768,), eps=1e-05, elementwise_affine=True)\n",
       "            (dropout): Dropout(p=0.1, inplace=False)\n",
       "          )\n",
       "        )\n",
       "      )\n",
       "    )\n",
       "    (pooler): RobertaPooler(\n",
       "      (dense): Linear(in_features=768, out_features=768, bias=True)\n",
       "      (activation): Tanh()\n",
       "    )\n",
       "  )\n",
       "  (classifier): Linear(in_features=768, out_features=6, bias=True)\n",
       "  (criterion): BCELoss()\n",
       ")"
      ]
     },
     "execution_count": 161,
     "metadata": {},
     "output_type": "execute_result"
    }
   ],
   "source": [
    "#Load the best model based on validation loss\n",
    "trained_model = ISP_TweetAspectClassifier.load_from_checkpoint(\n",
    "    trainer.checkpoint_callback.best_model_path,\n",
    "    n_classes=len(ASPECTS),\n",
    "    samples_per_cls=SAMPLES_PER_LABEL\n",
    "    \n",
    ")\n",
    "\n",
    "trained_model"
   ]
  },
  {
   "cell_type": "code",
   "execution_count": 162,
   "id": "ce5596c3-1d9a-42b1-a3fb-2fb9f68becc6",
   "metadata": {},
   "outputs": [],
   "source": [
    "#Put model into evaluation mode\n",
    "trained_model.eval()\n",
    "trained_model.freeze()"
   ]
  },
  {
   "cell_type": "code",
   "execution_count": 163,
   "id": "48545f5f-4e76-48fc-a384-81c1f9cd8d7e",
   "metadata": {},
   "outputs": [
    {
     "name": "stdout",
     "output_type": "stream",
     "text": [
      "price: 0.10340679436922073\n",
      "speed: 0.21158915758132935\n",
      "reliability: 0.16090767085552216\n",
      "coverage: 0.11477973312139511\n",
      "customer service: 0.18621541559696198\n",
      "trustworthiness: 0.04301103204488754\n"
     ]
    }
   ],
   "source": [
    "test_comment = \"The internet is so slow and it's so expensive\"\n",
    "\n",
    "encoding = TOKENIZER.encode_plus(\n",
    "  test_comment,\n",
    "  add_special_tokens=True,\n",
    "  max_length=TOKENIZER.model_max_length,\n",
    "  return_token_type_ids=False,\n",
    "  padding=\"max_length\",\n",
    "  return_attention_mask=True,\n",
    "  return_tensors='pt',\n",
    ")\n",
    "\n",
    "_, test_prediction = trained_model(encoding[\"input_ids\"], encoding[\"attention_mask\"])\n",
    "test_prediction = test_prediction.flatten().numpy()\n",
    "for label, prediction in zip(ASPECTS, test_prediction):\n",
    "    print(f\"{label}: {prediction}\")"
   ]
  },
  {
   "cell_type": "markdown",
   "id": "9388b2fe-21b7-46c6-af1a-b64ee71ff041",
   "metadata": {},
   "source": [
    "Doesn't seem to do a good job distinguishing the different aspects for this case."
   ]
  },
  {
   "cell_type": "markdown",
   "id": "93707686-1784-4ce5-a631-3067cdf08ba2",
   "metadata": {},
   "source": [
    "#### (ii) Evaluate model performance on the validation set"
   ]
  },
  {
   "cell_type": "code",
   "execution_count": 164,
   "id": "07ac0125-c0b6-4441-839d-9b4e08fdc833",
   "metadata": {},
   "outputs": [
    {
     "data": {
      "application/vnd.jupyter.widget-view+json": {
       "model_id": "efef0dbc6dbf4df5b5f5fe047709db85",
       "version_major": 2,
       "version_minor": 0
      },
      "text/plain": [
       "  0%|          | 0/101 [00:00<?, ?it/s]"
      ]
     },
     "metadata": {},
     "output_type": "display_data"
    }
   ],
   "source": [
    "device = torch.device('cuda' if torch.cuda.is_available() else 'cpu')\n",
    "\n",
    "trained_model = trained_model.to(device)\n",
    "\n",
    "#Prepare the validation set\n",
    "val_dataset = Generate_PyTorch_Dataset(\n",
    "    val_df,\n",
    "    TOKENIZER,\n",
    ")\n",
    "\n",
    "#Lists to store the model predictions and the true labels\n",
    "model_preds = []\n",
    "true_labels = []\n",
    "\n",
    "for item in tqdm(val_dataset):\n",
    "    _, pred = trained_model(\n",
    "        item[\"input_ids\"].unsqueeze(dim=0).to(device),\n",
    "        item[\"attention_mask\"].unsqueeze(dim=0).to(device)\n",
    "    )\n",
    "    model_preds.append(pred.flatten())\n",
    "    true_labels.append(item[\"labels\"].int())\n",
    "\n",
    "model_preds = torch.stack(model_preds).detach().cpu()\n",
    "true_labels = torch.stack(true_labels).detach().cpu()"
   ]
  },
  {
   "cell_type": "code",
   "execution_count": 208,
   "id": "27bbc8c5-c357-4ef3-ad9f-f2750c90c3d7",
   "metadata": {},
   "outputs": [
    {
     "data": {
      "text/plain": [
       "tensor(0.9059)"
      ]
     },
     "execution_count": 208,
     "metadata": {},
     "output_type": "execute_result"
    }
   ],
   "source": [
    "#Compute the accuracy on the validation set\n",
    "acc_metric = Accuracy()\n",
    "acc_metric(model_preds, true_labels)"
   ]
  },
  {
   "cell_type": "markdown",
   "id": "4041e939-c180-49b4-ba12-42f3e4e13f10",
   "metadata": {},
   "source": [
    "We get a fairly high accuracy on the validation set. However, we note that the dataset is quite imbalanced. So it would be important to also check the model's performance on the different aspects (remember: trustworthiness had very few samples)"
   ]
  },
  {
   "cell_type": "code",
   "execution_count": 166,
   "id": "cb851389-71ae-4302-9f68-0967d941b8fd",
   "metadata": {},
   "outputs": [
    {
     "name": "stdout",
     "output_type": "stream",
     "text": [
      "AUROC per tag\n",
      "price: 0.619623601436615\n",
      "speed: 0.6294116973876953\n",
      "reliability: 0.7241379618644714\n",
      "coverage: 0.7284946441650391\n",
      "customer service: 0.8817204236984253\n",
      "trustworthiness: 0.47278910875320435\n"
     ]
    },
    {
     "name": "stderr",
     "output_type": "stream",
     "text": [
      "/Users/koredeakande/opt/anaconda3/envs/capstone/lib/python3.7/site-packages/torchmetrics/utilities/prints.py:36: UserWarning: Metric `AUROC` will save all targets and predictions in buffer. For large datasets this may lead to large memory footprint.\n",
      "  warnings.warn(*args, **kwargs)\n"
     ]
    }
   ],
   "source": [
    "auroc_metric = AUROC(pos_label=1)\n",
    "print(\"AUROC per tag\")\n",
    "for i, name in enumerate(ASPECTS):\n",
    "    tag_auroc = auroc_metric(model_preds[:, i], true_labels[:, i])\n",
    "    print(f\"{name}: {tag_auroc}\")"
   ]
  },
  {
   "cell_type": "markdown",
   "id": "086c223f-56f0-4b38-bf02-af625e1ab949",
   "metadata": {},
   "source": [
    "### Classification Report"
   ]
  },
  {
   "cell_type": "code",
   "execution_count": 232,
   "id": "462f0647-83fd-46d8-a2b6-7a7f884cda34",
   "metadata": {},
   "outputs": [
    {
     "name": "stdout",
     "output_type": "stream",
     "text": [
      "                  precision    recall  f1-score   support\n",
      "\n",
      "           price       0.05      0.12      0.07         8\n",
      "           speed       0.23      0.94      0.38        16\n",
      "     reliability       0.28      0.50      0.36        14\n",
      "        coverage       0.13      0.25      0.17         8\n",
      "customer service       0.22      0.88      0.35         8\n",
      " trustworthiness       0.00      0.00      0.00         3\n",
      "\n",
      "       micro avg       0.20      0.56      0.29        57\n",
      "       macro avg       0.15      0.45      0.22        57\n",
      "    weighted avg       0.19      0.56      0.28        57\n",
      "     samples avg       0.15      0.30      0.17        57\n",
      "\n"
     ]
    }
   ],
   "source": [
    "y_pred = model_preds.numpy()\n",
    "y_true = true_labels.numpy()\n",
    "\n",
    "y_pred = np.where(y_pred > 0.15, 1, 0)\n",
    "\n",
    "print(classification_report(\n",
    "  y_true,\n",
    "  y_pred,\n",
    "  target_names=ASPECTS,\n",
    "  zero_division=0\n",
    "))"
   ]
  },
  {
   "cell_type": "code",
   "execution_count": 220,
   "id": "16c3ffc4-be9d-4360-bedc-66687949559e",
   "metadata": {},
   "outputs": [
    {
     "data": {
      "text/plain": [
       "['price',\n",
       " 'speed',\n",
       " 'reliability',\n",
       " 'coverage',\n",
       " 'customer service',\n",
       " 'trustworthiness']"
      ]
     },
     "execution_count": 220,
     "metadata": {},
     "output_type": "execute_result"
    }
   ],
   "source": [
    "ASPECTS"
   ]
  },
  {
   "cell_type": "code",
   "execution_count": 226,
   "id": "74b62c66-5fd7-431a-8cb2-5bc1e55f2456",
   "metadata": {},
   "outputs": [
    {
     "name": "stdout",
     "output_type": "stream",
     "text": [
      "ngcomcommission consumersncc spectranet_ng waiting, responded that i should call back. my question is how did 8gb got exhausted without heavy downloads or streaming? i demand an answer, this was the same reason i stopped using my spectranet account since august last year.\n",
      "[0.14580019 0.21396242 0.14961557 0.11340807 0.24158876 0.04609388]\n",
      "[0 0 0 0 0 1]\n"
     ]
    }
   ],
   "source": [
    "x = 11\n",
    "print(val_df.iloc[x,:].Text)\n",
    "print(model_preds.numpy()[x])\n",
    "print(y_true[x])"
   ]
  },
  {
   "cell_type": "markdown",
   "id": "80aee290-3db5-4da3-a34c-4857fccca890",
   "metadata": {},
   "source": [
    "Still predicting dominant classes significantly more. Next we try oversampling the minority classes"
   ]
  },
  {
   "cell_type": "markdown",
   "id": "01cbd398-236d-4ac8-8ba3-9c2c5ffcad16",
   "metadata": {},
   "source": [
    "---"
   ]
  },
  {
   "cell_type": "markdown",
   "id": "0b61fa42-4807-4b5c-871a-ca8fcf16c331",
   "metadata": {},
   "source": [
    "## 7. Modeling - Aspect Extraction v3\n",
    "**`Oversampling minority classes`**"
   ]
  },
  {
   "cell_type": "code",
   "execution_count": 241,
   "id": "8754809d-c920-4975-8a74-60d92d201909",
   "metadata": {},
   "outputs": [
    {
     "data": {
      "image/png": "[encoded data removed]",
      "text/plain": [
       "<Figure size 864x432 with 3 Axes>"
      ]
     },
     "metadata": {
      "needs_background": "light"
     },
     "output_type": "display_data"
    }
   ],
   "source": [
    "df_sets = [('Training',train_df),('Validation', val_df),('Test',test_df)]\n",
    "    \n",
    "plt.figure(figsize = (12,6))\n",
    "for idx,df in enumerate(df_sets):\n",
    "    \n",
    "    plt.subplot(1,3,idx+1)\n",
    "    plt.tight_layout()\n",
    "\n",
    "    with plt.style.context(['notebook','no-latex','grid']):\n",
    "        \n",
    "        plt.title(df[0])\n",
    "        df[1][ASPECTS].sum().plot(kind = \"bar\", color = 'cornflowerblue')\n",
    "        plt.xticks(rotation=90)\n",
    "        \n",
    "        if idx == 0:\n",
    "            plt.ylabel('Number of tags in the tweets', fontsize=16)\n",
    "        \n",
    "    \n",
    "plt.show()"
   ]
  },
  {
   "cell_type": "code",
   "execution_count": 262,
   "id": "7c971730-682f-4b87-bf30-7cc1b8283f27",
   "metadata": {},
   "outputs": [],
   "source": [
    "#Make a copy of the training set for oversampling\n",
    "train_oversampled = train_df.copy()"
   ]
  },
  {
   "cell_type": "markdown",
   "id": "908e6d13-a019-4b6d-9eae-32619425a0ed",
   "metadata": {},
   "source": [
    "### a. Oversample minority classes\n",
    "**Note:** I had individually run it and know how the distributions turn out. The function below was done to condense the oversampling and save space in the notebook"
   ]
  },
  {
   "cell_type": "code",
   "execution_count": 263,
   "id": "605cdd5a-cc5f-4cf1-8a19-dcf0d8669ffd",
   "metadata": {},
   "outputs": [
    {
     "data": {
      "image/png": "[encoded data removed]",
      "text/plain": [
       "<Figure size 432x288 with 1 Axes>"
      ]
     },
     "metadata": {
      "needs_background": "light"
     },
     "output_type": "display_data"
    }
   ],
   "source": [
    "for aspect in ['trustworthiness', 'price', 'coverage', 'reliability']:\n",
    "    \n",
    "    not_aspect = train_oversampled.query(f\" {aspect} == 0 \")\n",
    "    aspect_tweets = train_oversampled.query(f\" {aspect} == 1 \")\n",
    "\n",
    "    #Oversample aspect tweets to size of class with maximum number of observations\n",
    "    #and create new training dataset\n",
    "    train_oversampled = pd.concat([\n",
    "      not_aspect,\n",
    "      aspect_tweets .sample(max(train_df[ASPECTS].sum().tolist()), replace=True)\n",
    "    ])\n",
    "    \n",
    "#Plot new distribution\n",
    "train_oversampled[ASPECTS].sum().plot(kind = \"bar\", color = 'cornflowerblue')\n",
    "plt.show()"
   ]
  },
  {
   "cell_type": "markdown",
   "id": "434e42c9-ae21-4d0a-b0b4-0d2294267123",
   "metadata": {},
   "source": [
    "### b. Oversample tweets with no aspects"
   ]
  },
  {
   "cell_type": "code",
   "execution_count": 292,
   "id": "d5de957a-9a01-4661-8d86-e7e47c713e96",
   "metadata": {},
   "outputs": [
    {
     "name": "stdout",
     "output_type": "stream",
     "text": [
      "No aspects count: 242. Aspects count: 242\n",
      "Train size: (484, 8)\n"
     ]
    }
   ],
   "source": [
    "#Get rows with atleast one aspect tagged and rows with no aspect tagged\n",
    "oversampled_aspects_tagged = train_oversampled[train_oversampled[ASPECTS].sum(axis=1) > 0]\n",
    "oversampled_no_aspects = train_oversampled[train_oversampled[ASPECTS].sum(axis=1) == 0]\n",
    "\n",
    "#Oversample the rows with no tagged aspects and then shuffle the dataframe\n",
    "train_oversampled = pd.concat([\n",
    "  oversampled_aspects_tagged,\n",
    "  oversampled_no_aspects.sample(len(oversampled_aspects_tagged), replace=True)\n",
    "]).sample(frac=1)\n",
    "\n",
    "#Check that the counts are balanced now\n",
    "print(f\"No aspects count: {len(train_oversampled[train_oversampled[ASPECTS].sum(axis=1) == 0])}.\",\n",
    "      f\"Aspects count: {len(train_oversampled[train_oversampled[ASPECTS].sum(axis=1) > 0])}\")\n",
    "\n",
    "print(f\"Train size: {train_oversampled.shape}\")"
   ]
  },
  {
   "cell_type": "markdown",
   "id": "b08d608b-a354-4feb-b960-13ecfd204688",
   "metadata": {},
   "source": [
    "### d. Setup the data module with the oversample training set"
   ]
  },
  {
   "cell_type": "code",
   "execution_count": 293,
   "id": "e6fce170-015a-4627-b513-6a99487b03a4",
   "metadata": {},
   "outputs": [],
   "source": [
    "#Instantiate and set up the data_module\n",
    "data_module2 = PyTorchDataModule(train_oversampled,val_df,test_df,TOKENIZER, TRAIN_BATCH_SIZE, TEST_BATCH_SIZE)\n",
    "data_module2.setup()"
   ]
  },
  {
   "cell_type": "markdown",
   "id": "499e456e-dbf3-40bd-8ed5-a2a5fc1502ae",
   "metadata": {},
   "source": [
    "### e. Define the model"
   ]
  },
  {
   "cell_type": "code",
   "execution_count": 298,
   "id": "3ac5e929-ecd3-4e80-903a-2e8b4e91efee",
   "metadata": {},
   "outputs": [],
   "source": [
    "class ISP_TweetAspectClassifier3(pl.LightningModule):\n",
    "    \n",
    "    #Set the aspect classifier\n",
    "    def __init__(self, n_classes=6, n_training_steps=None, n_warmup_steps=None, lr=2e-5):\n",
    "        \n",
    "        super().__init__()\n",
    "        self.lr = lr\n",
    "        self.n_classes = n_classes\n",
    "        self.n_warmup_steps = n_warmup_steps\n",
    "        self.n_training_steps = n_training_steps\n",
    "        self.bert = BERTWEET_MODEL\n",
    "        self.classifier = torch.nn.Linear(self.bert.config.hidden_size, n_classes)\n",
    "        self.criterion = torch.nn.BCELoss()\n",
    "        \n",
    "    def forward(self, input_ids, attention_mask, labels = None):\n",
    "        output = self.bert(input_ids, attention_mask=attention_mask)\n",
    "        output = self.classifier(output.pooler_output)\n",
    "        output = torch.sigmoid(output)\n",
    "        \n",
    "        loss = 0\n",
    "        \n",
    "        if labels is not None:\n",
    "            loss = self.criterion(output, labels)\n",
    "            \n",
    "        return loss, output\n",
    "    \n",
    "    def training_step(self, batch, batch_idx):\n",
    "        \n",
    "        input_ids = batch[\"input_ids\"]\n",
    "        attention_mask = batch[\"attention_mask\"]\n",
    "        labels = batch[\"labels\"]\n",
    "        \n",
    "        loss, outputs = self(input_ids, attention_mask, labels)\n",
    "        self.log(\"train_loss\", loss, prog_bar=True, logger=True)\n",
    "        \n",
    "        return {\"loss\": loss, \"predictions\": outputs.detach(), \"labels\": labels}\n",
    "    \n",
    "    def validation_step(self, batch, batch_idx):\n",
    "        input_ids = batch[\"input_ids\"]\n",
    "        attention_mask = batch[\"attention_mask\"]\n",
    "        labels = batch[\"labels\"]\n",
    "        \n",
    "        loss, outputs = self(input_ids, attention_mask,labels)\n",
    "        self.log(\"val_loss\", loss, prog_bar=True, logger=True)\n",
    "        \n",
    "        return loss\n",
    "    \n",
    "    \n",
    "    def test_step(self, batch, batch_idx):\n",
    "        input_ids = batch[\"input_ids\"]\n",
    "        attention_mask = batch[\"attention_mask\"]\n",
    "        labels = batch[\"labels\"]\n",
    "        \n",
    "        loss, outputs = self(input_ids, attention_mask, labels)\n",
    "        self.log(\"test_loss\", loss, prog_bar=True, logger=True)\n",
    "        \n",
    "        return loss\n",
    "    \n",
    "    \n",
    "    def training_epoch_end(self, outputs):\n",
    "            \n",
    "        #List to store the true labels and the model's predictions\n",
    "        labels = []\n",
    "        predictions = []\n",
    "        \n",
    "        #Iterate through all the outputs and get the true vs. predicted label\n",
    "        for output in outputs:\n",
    "            \n",
    "            for label in output[\"labels\"].detach().cpu():\n",
    "                labels.append(label)\n",
    "            for pred in output[\"predictions\"].detach().cpu():\n",
    "                predictions.append(pred)\n",
    "        \n",
    "        #Stack the tensors\n",
    "        labels = torch.stack(labels).int()\n",
    "        predictions = torch.stack(predictions)\n",
    "        \n",
    "        #Record the AUROC for each aspect after each training epoch\n",
    "        for idx, name in enumerate(ASPECTS):\n",
    "            metric = AUROC()\n",
    "            class_roc_auc = metric(predictions[:,idx], labels[:,idx])\n",
    "            self.logger.experiment.add_scalar(f\"{name}_roc_auc/Train\", class_roc_auc, self.current_epoch)\n",
    "        \n",
    "        #Calculate the overall AUROC - not sure about this computation\n",
    "        micro_auroc_setup = AUROC(num_classes = self.n_classes, pos_label = 1, average='micro')\n",
    "        micro_auroc = micro_auroc_setup(predictions, labels)\n",
    "        self.logger.experiment.add_scalar(f\"micro_auroc\", micro_auroc, self.current_epoch)\n",
    "   \n",
    "    \n",
    "    def configure_optimizers(self):\n",
    "        \n",
    "        optimizer = AdamW(self.parameters(), lr = self.lr)\n",
    "        \n",
    "        scheduler = get_linear_schedule_with_warmup(\n",
    "            optimizer,\n",
    "            num_warmup_steps=self.n_warmup_steps,\n",
    "            num_training_steps=self.n_training_steps)\n",
    "        \n",
    "          \n",
    "        return {'optimizer': optimizer, 'lr_scheduler':{'scheduler':scheduler,'interval':'step'}}\n",
    "    "
   ]
  },
  {
   "cell_type": "code",
   "execution_count": 299,
   "id": "10ada7e0-182f-413f-96a7-f9203c52ee03",
   "metadata": {},
   "outputs": [],
   "source": [
    "#Define variables\n",
    "N_EPOCHS = 20\n",
    "STEPS_PER_EPOCH =len(train_df)//TRAIN_BATCH_SIZE\n",
    "TOTAL_TRAIN_STEPS = STEPS_PER_EPOCH * N_EPOCHS\n",
    "N_WARMUP_STEPS = TOTAL_TRAIN_STEPS // 4\n",
    "\n",
    "#Instantiate the classifier model\n",
    "model3 = ISP_TweetAspectClassifier3(n_training_steps = TOTAL_TRAIN_STEPS,\n",
    "                                   n_warmup_steps   = N_WARMUP_STEPS)"
   ]
  },
  {
   "cell_type": "markdown",
   "id": "2d80d21b-c459-4233-80b4-0cb51343666c",
   "metadata": {
    "tags": []
   },
   "source": [
    "### d. Training"
   ]
  },
  {
   "cell_type": "code",
   "execution_count": 300,
   "id": "35888a71-44b4-4da2-9940-ee860f4302b1",
   "metadata": {},
   "outputs": [],
   "source": [
    "#Setup callback to perform saves during training\n",
    "checkpoint_callback3 = ModelCheckpoint(\n",
    "  dirpath    = \"../models/absa-aspect-extraction/bertweet_oversampled\",\n",
    "  filename   = \"ae-{epoch:02d}-{val_loss:.2f}\",\n",
    "  save_top_k = 3, #Save the top 3 models\n",
    "  verbose    = True,\n",
    "  monitor    = \"val_loss\",\n",
    "  mode       = \"min\" #Minimize val loss\n",
    ")\n",
    "\n",
    "#Log progress in Tensorboard\n",
    "logger3 = TensorBoardLogger(\"../models/absa-aspect-extraction/bertweet_oversampled/lightning_logs\", name = \"isp-tweets\")"
   ]
  },
  {
   "cell_type": "code",
   "execution_count": 301,
   "id": "335b4cef-c6de-43b6-9057-2d526c16306f",
   "metadata": {},
   "outputs": [
    {
     "name": "stderr",
     "output_type": "stream",
     "text": [
      "GPU available: False, used: False\n",
      "TPU available: False, using: 0 TPU cores\n",
      "IPU available: False, using: 0 IPUs\n",
      "\n",
      "  | Name       | Type         | Params\n",
      "--------------------------------------------\n",
      "0 | bert       | RobertaModel | 134 M \n",
      "1 | classifier | Linear       | 4.6 K \n",
      "2 | criterion  | BCELoss      | 0     \n",
      "--------------------------------------------\n",
      "4.6 K     Trainable params\n",
      "134 M     Non-trainable params\n",
      "134 M     Total params\n",
      "539.618   Total estimated model params size (MB)\n"
     ]
    },
    {
     "data": {
      "application/vnd.jupyter.widget-view+json": {
       "model_id": "b5cea5dd9d9b48d9a88164f8d8d926db",
       "version_major": 2,
       "version_minor": 0
      },
      "text/plain": [
       "Validation sanity check: 0it [00:00, ?it/s]"
      ]
     },
     "metadata": {},
     "output_type": "display_data"
    },
    {
     "name": "stderr",
     "output_type": "stream",
     "text": [
      "[W ParallelNative.cpp:214] Warning: Cannot set number of intraop threads after parallel work has started or after set_num_threads call when using native parallel backend (function set_num_threads)\n",
      "[W ParallelNative.cpp:214] Warning: Cannot set number of intraop threads after parallel work has started or after set_num_threads call when using native parallel backend (function set_num_threads)\n",
      "Global seed set to 123\n"
     ]
    },
    {
     "data": {
      "application/vnd.jupyter.widget-view+json": {
       "model_id": "d499227423d643af89455716bc81e5c3",
       "version_major": 2,
       "version_minor": 0
      },
      "text/plain": [
       "Training: 0it [00:00, ?it/s]"
      ]
     },
     "metadata": {},
     "output_type": "display_data"
    },
    {
     "name": "stderr",
     "output_type": "stream",
     "text": [
      "[W ParallelNative.cpp:214] Warning: Cannot set number of intraop threads after parallel work has started or after set_num_threads call when using native parallel backend (function set_num_threads)\n",
      "[W ParallelNative.cpp:214] Warning: Cannot set number of intraop threads after parallel work has started or after set_num_threads call when using native parallel backend (function set_num_threads)\n"
     ]
    },
    {
     "data": {
      "application/vnd.jupyter.widget-view+json": {
       "model_id": "",
       "version_major": 2,
       "version_minor": 0
      },
      "text/plain": [
       "Validating: 0it [00:00, ?it/s]"
      ]
     },
     "metadata": {},
     "output_type": "display_data"
    },
    {
     "name": "stderr",
     "output_type": "stream",
     "text": [
      "[W ParallelNative.cpp:214] Warning: Cannot set number of intraop threads after parallel work has started or after set_num_threads call when using native parallel backend (function set_num_threads)\n",
      "[W ParallelNative.cpp:214] Warning: Cannot set number of intraop threads after parallel work has started or after set_num_threads call when using native parallel backend (function set_num_threads)\n",
      "Epoch 0, global step 15: val_loss reached 0.69919 (best 0.69919), saving model to \"/Users/koredeakande/Documents/Capstone/ISP Project/Coding/nigerian_isp_sentiment_analysis/models/absa-aspect-extraction/bertweet_oversampled/ae-epoch=00-val_loss=0.70.ckpt\" as top 3\n",
      "[W ParallelNative.cpp:214] Warning: Cannot set number of intraop threads after parallel work has started or after set_num_threads call when using native parallel backend (function set_num_threads)\n",
      "[W ParallelNative.cpp:214] Warning: Cannot set number of intraop threads after parallel work has started or after set_num_threads call when using native parallel backend (function set_num_threads)\n"
     ]
    },
    {
     "data": {
      "application/vnd.jupyter.widget-view+json": {
       "model_id": "",
       "version_major": 2,
       "version_minor": 0
      },
      "text/plain": [
       "Validating: 0it [00:00, ?it/s]"
      ]
     },
     "metadata": {},
     "output_type": "display_data"
    },
    {
     "name": "stderr",
     "output_type": "stream",
     "text": [
      "[W ParallelNative.cpp:214] Warning: Cannot set number of intraop threads after parallel work has started or after set_num_threads call when using native parallel backend (function set_num_threads)\n",
      "[W ParallelNative.cpp:214] Warning: Cannot set number of intraop threads after parallel work has started or after set_num_threads call when using native parallel backend (function set_num_threads)\n",
      "Epoch 1, global step 31: val_loss reached 0.68419 (best 0.68419), saving model to \"/Users/koredeakande/Documents/Capstone/ISP Project/Coding/nigerian_isp_sentiment_analysis/models/absa-aspect-extraction/bertweet_oversampled/ae-epoch=01-val_loss=0.68.ckpt\" as top 3\n",
      "[W ParallelNative.cpp:214] Warning: Cannot set number of intraop threads after parallel work has started or after set_num_threads call when using native parallel backend (function set_num_threads)\n",
      "[W ParallelNative.cpp:214] Warning: Cannot set number of intraop threads after parallel work has started or after set_num_threads call when using native parallel backend (function set_num_threads)\n"
     ]
    },
    {
     "data": {
      "application/vnd.jupyter.widget-view+json": {
       "model_id": "",
       "version_major": 2,
       "version_minor": 0
      },
      "text/plain": [
       "Validating: 0it [00:00, ?it/s]"
      ]
     },
     "metadata": {},
     "output_type": "display_data"
    },
    {
     "name": "stderr",
     "output_type": "stream",
     "text": [
      "[W ParallelNative.cpp:214] Warning: Cannot set number of intraop threads after parallel work has started or after set_num_threads call when using native parallel backend (function set_num_threads)\n",
      "[W ParallelNative.cpp:214] Warning: Cannot set number of intraop threads after parallel work has started or after set_num_threads call when using native parallel backend (function set_num_threads)\n",
      "Epoch 2, global step 47: val_loss reached 0.66056 (best 0.66056), saving model to \"/Users/koredeakande/Documents/Capstone/ISP Project/Coding/nigerian_isp_sentiment_analysis/models/absa-aspect-extraction/bertweet_oversampled/ae-epoch=02-val_loss=0.66.ckpt\" as top 3\n",
      "[W ParallelNative.cpp:214] Warning: Cannot set number of intraop threads after parallel work has started or after set_num_threads call when using native parallel backend (function set_num_threads)\n",
      "[W ParallelNative.cpp:214] Warning: Cannot set number of intraop threads after parallel work has started or after set_num_threads call when using native parallel backend (function set_num_threads)\n"
     ]
    },
    {
     "data": {
      "application/vnd.jupyter.widget-view+json": {
       "model_id": "",
       "version_major": 2,
       "version_minor": 0
      },
      "text/plain": [
       "Validating: 0it [00:00, ?it/s]"
      ]
     },
     "metadata": {},
     "output_type": "display_data"
    },
    {
     "name": "stderr",
     "output_type": "stream",
     "text": [
      "[W ParallelNative.cpp:214] Warning: Cannot set number of intraop threads after parallel work has started or after set_num_threads call when using native parallel backend (function set_num_threads)\n",
      "[W ParallelNative.cpp:214] Warning: Cannot set number of intraop threads after parallel work has started or after set_num_threads call when using native parallel backend (function set_num_threads)\n",
      "Epoch 3, global step 63: val_loss reached 0.63692 (best 0.63692), saving model to \"/Users/koredeakande/Documents/Capstone/ISP Project/Coding/nigerian_isp_sentiment_analysis/models/absa-aspect-extraction/bertweet_oversampled/ae-epoch=03-val_loss=0.64.ckpt\" as top 3\n",
      "[W ParallelNative.cpp:214] Warning: Cannot set number of intraop threads after parallel work has started or after set_num_threads call when using native parallel backend (function set_num_threads)\n",
      "[W ParallelNative.cpp:214] Warning: Cannot set number of intraop threads after parallel work has started or after set_num_threads call when using native parallel backend (function set_num_threads)\n"
     ]
    },
    {
     "data": {
      "application/vnd.jupyter.widget-view+json": {
       "model_id": "",
       "version_major": 2,
       "version_minor": 0
      },
      "text/plain": [
       "Validating: 0it [00:00, ?it/s]"
      ]
     },
     "metadata": {},
     "output_type": "display_data"
    },
    {
     "name": "stderr",
     "output_type": "stream",
     "text": [
      "[W ParallelNative.cpp:214] Warning: Cannot set number of intraop threads after parallel work has started or after set_num_threads call when using native parallel backend (function set_num_threads)\n",
      "[W ParallelNative.cpp:214] Warning: Cannot set number of intraop threads after parallel work has started or after set_num_threads call when using native parallel backend (function set_num_threads)\n",
      "Epoch 4, global step 79: val_loss reached 0.61751 (best 0.61751), saving model to \"/Users/koredeakande/Documents/Capstone/ISP Project/Coding/nigerian_isp_sentiment_analysis/models/absa-aspect-extraction/bertweet_oversampled/ae-epoch=04-val_loss=0.62.ckpt\" as top 3\n",
      "[W ParallelNative.cpp:214] Warning: Cannot set number of intraop threads after parallel work has started or after set_num_threads call when using native parallel backend (function set_num_threads)\n",
      "[W ParallelNative.cpp:214] Warning: Cannot set number of intraop threads after parallel work has started or after set_num_threads call when using native parallel backend (function set_num_threads)\n"
     ]
    },
    {
     "data": {
      "application/vnd.jupyter.widget-view+json": {
       "model_id": "",
       "version_major": 2,
       "version_minor": 0
      },
      "text/plain": [
       "Validating: 0it [00:00, ?it/s]"
      ]
     },
     "metadata": {},
     "output_type": "display_data"
    },
    {
     "name": "stderr",
     "output_type": "stream",
     "text": [
      "[W ParallelNative.cpp:214] Warning: Cannot set number of intraop threads after parallel work has started or after set_num_threads call when using native parallel backend (function set_num_threads)\n",
      "[W ParallelNative.cpp:214] Warning: Cannot set number of intraop threads after parallel work has started or after set_num_threads call when using native parallel backend (function set_num_threads)\n",
      "Epoch 5, global step 95: val_loss reached 0.60191 (best 0.60191), saving model to \"/Users/koredeakande/Documents/Capstone/ISP Project/Coding/nigerian_isp_sentiment_analysis/models/absa-aspect-extraction/bertweet_oversampled/ae-epoch=05-val_loss=0.60.ckpt\" as top 3\n",
      "[W ParallelNative.cpp:214] Warning: Cannot set number of intraop threads after parallel work has started or after set_num_threads call when using native parallel backend (function set_num_threads)\n",
      "[W ParallelNative.cpp:214] Warning: Cannot set number of intraop threads after parallel work has started or after set_num_threads call when using native parallel backend (function set_num_threads)\n"
     ]
    },
    {
     "data": {
      "application/vnd.jupyter.widget-view+json": {
       "model_id": "",
       "version_major": 2,
       "version_minor": 0
      },
      "text/plain": [
       "Validating: 0it [00:00, ?it/s]"
      ]
     },
     "metadata": {},
     "output_type": "display_data"
    },
    {
     "name": "stderr",
     "output_type": "stream",
     "text": [
      "[W ParallelNative.cpp:214] Warning: Cannot set number of intraop threads after parallel work has started or after set_num_threads call when using native parallel backend (function set_num_threads)\n",
      "[W ParallelNative.cpp:214] Warning: Cannot set number of intraop threads after parallel work has started or after set_num_threads call when using native parallel backend (function set_num_threads)\n",
      "Epoch 6, global step 111: val_loss reached 0.58949 (best 0.58949), saving model to \"/Users/koredeakande/Documents/Capstone/ISP Project/Coding/nigerian_isp_sentiment_analysis/models/absa-aspect-extraction/bertweet_oversampled/ae-epoch=06-val_loss=0.59.ckpt\" as top 3\n",
      "[W ParallelNative.cpp:214] Warning: Cannot set number of intraop threads after parallel work has started or after set_num_threads call when using native parallel backend (function set_num_threads)\n",
      "[W ParallelNative.cpp:214] Warning: Cannot set number of intraop threads after parallel work has started or after set_num_threads call when using native parallel backend (function set_num_threads)\n"
     ]
    },
    {
     "data": {
      "application/vnd.jupyter.widget-view+json": {
       "model_id": "",
       "version_major": 2,
       "version_minor": 0
      },
      "text/plain": [
       "Validating: 0it [00:00, ?it/s]"
      ]
     },
     "metadata": {},
     "output_type": "display_data"
    },
    {
     "name": "stderr",
     "output_type": "stream",
     "text": [
      "[W ParallelNative.cpp:214] Warning: Cannot set number of intraop threads after parallel work has started or after set_num_threads call when using native parallel backend (function set_num_threads)\n",
      "[W ParallelNative.cpp:214] Warning: Cannot set number of intraop threads after parallel work has started or after set_num_threads call when using native parallel backend (function set_num_threads)\n",
      "Epoch 7, global step 127: val_loss reached 0.58010 (best 0.58010), saving model to \"/Users/koredeakande/Documents/Capstone/ISP Project/Coding/nigerian_isp_sentiment_analysis/models/absa-aspect-extraction/bertweet_oversampled/ae-epoch=07-val_loss=0.58.ckpt\" as top 3\n",
      "[W ParallelNative.cpp:214] Warning: Cannot set number of intraop threads after parallel work has started or after set_num_threads call when using native parallel backend (function set_num_threads)\n",
      "[W ParallelNative.cpp:214] Warning: Cannot set number of intraop threads after parallel work has started or after set_num_threads call when using native parallel backend (function set_num_threads)\n"
     ]
    },
    {
     "data": {
      "application/vnd.jupyter.widget-view+json": {
       "model_id": "",
       "version_major": 2,
       "version_minor": 0
      },
      "text/plain": [
       "Validating: 0it [00:00, ?it/s]"
      ]
     },
     "metadata": {},
     "output_type": "display_data"
    },
    {
     "name": "stderr",
     "output_type": "stream",
     "text": [
      "[W ParallelNative.cpp:214] Warning: Cannot set number of intraop threads after parallel work has started or after set_num_threads call when using native parallel backend (function set_num_threads)\n",
      "[W ParallelNative.cpp:214] Warning: Cannot set number of intraop threads after parallel work has started or after set_num_threads call when using native parallel backend (function set_num_threads)\n",
      "Epoch 8, global step 143: val_loss reached 0.57337 (best 0.57337), saving model to \"/Users/koredeakande/Documents/Capstone/ISP Project/Coding/nigerian_isp_sentiment_analysis/models/absa-aspect-extraction/bertweet_oversampled/ae-epoch=08-val_loss=0.57.ckpt\" as top 3\n",
      "[W ParallelNative.cpp:214] Warning: Cannot set number of intraop threads after parallel work has started or after set_num_threads call when using native parallel backend (function set_num_threads)\n",
      "[W ParallelNative.cpp:214] Warning: Cannot set number of intraop threads after parallel work has started or after set_num_threads call when using native parallel backend (function set_num_threads)\n"
     ]
    },
    {
     "data": {
      "application/vnd.jupyter.widget-view+json": {
       "model_id": "",
       "version_major": 2,
       "version_minor": 0
      },
      "text/plain": [
       "Validating: 0it [00:00, ?it/s]"
      ]
     },
     "metadata": {},
     "output_type": "display_data"
    },
    {
     "name": "stderr",
     "output_type": "stream",
     "text": [
      "[W ParallelNative.cpp:214] Warning: Cannot set number of intraop threads after parallel work has started or after set_num_threads call when using native parallel backend (function set_num_threads)\n",
      "[W ParallelNative.cpp:214] Warning: Cannot set number of intraop threads after parallel work has started or after set_num_threads call when using native parallel backend (function set_num_threads)\n",
      "Epoch 9, global step 159: val_loss reached 0.56911 (best 0.56911), saving model to \"/Users/koredeakande/Documents/Capstone/ISP Project/Coding/nigerian_isp_sentiment_analysis/models/absa-aspect-extraction/bertweet_oversampled/ae-epoch=09-val_loss=0.57.ckpt\" as top 3\n",
      "[W ParallelNative.cpp:214] Warning: Cannot set number of intraop threads after parallel work has started or after set_num_threads call when using native parallel backend (function set_num_threads)\n",
      "[W ParallelNative.cpp:214] Warning: Cannot set number of intraop threads after parallel work has started or after set_num_threads call when using native parallel backend (function set_num_threads)\n"
     ]
    },
    {
     "data": {
      "application/vnd.jupyter.widget-view+json": {
       "model_id": "",
       "version_major": 2,
       "version_minor": 0
      },
      "text/plain": [
       "Validating: 0it [00:00, ?it/s]"
      ]
     },
     "metadata": {},
     "output_type": "display_data"
    },
    {
     "name": "stderr",
     "output_type": "stream",
     "text": [
      "[W ParallelNative.cpp:214] Warning: Cannot set number of intraop threads after parallel work has started or after set_num_threads call when using native parallel backend (function set_num_threads)\n",
      "[W ParallelNative.cpp:214] Warning: Cannot set number of intraop threads after parallel work has started or after set_num_threads call when using native parallel backend (function set_num_threads)\n",
      "Epoch 10, global step 175: val_loss reached 0.56726 (best 0.56726), saving model to \"/Users/koredeakande/Documents/Capstone/ISP Project/Coding/nigerian_isp_sentiment_analysis/models/absa-aspect-extraction/bertweet_oversampled/ae-epoch=10-val_loss=0.57.ckpt\" as top 3\n",
      "[W ParallelNative.cpp:214] Warning: Cannot set number of intraop threads after parallel work has started or after set_num_threads call when using native parallel backend (function set_num_threads)\n",
      "[W ParallelNative.cpp:214] Warning: Cannot set number of intraop threads after parallel work has started or after set_num_threads call when using native parallel backend (function set_num_threads)\n"
     ]
    },
    {
     "data": {
      "application/vnd.jupyter.widget-view+json": {
       "model_id": "",
       "version_major": 2,
       "version_minor": 0
      },
      "text/plain": [
       "Validating: 0it [00:00, ?it/s]"
      ]
     },
     "metadata": {},
     "output_type": "display_data"
    },
    {
     "name": "stderr",
     "output_type": "stream",
     "text": [
      "[W ParallelNative.cpp:214] Warning: Cannot set number of intraop threads after parallel work has started or after set_num_threads call when using native parallel backend (function set_num_threads)\n",
      "[W ParallelNative.cpp:214] Warning: Cannot set number of intraop threads after parallel work has started or after set_num_threads call when using native parallel backend (function set_num_threads)\n",
      "Epoch 11, global step 191: val_loss reached 0.56717 (best 0.56717), saving model to \"/Users/koredeakande/Documents/Capstone/ISP Project/Coding/nigerian_isp_sentiment_analysis/models/absa-aspect-extraction/bertweet_oversampled/ae-epoch=11-val_loss=0.57.ckpt\" as top 3\n",
      "[W ParallelNative.cpp:214] Warning: Cannot set number of intraop threads after parallel work has started or after set_num_threads call when using native parallel backend (function set_num_threads)\n",
      "[W ParallelNative.cpp:214] Warning: Cannot set number of intraop threads after parallel work has started or after set_num_threads call when using native parallel backend (function set_num_threads)\n"
     ]
    },
    {
     "data": {
      "application/vnd.jupyter.widget-view+json": {
       "model_id": "",
       "version_major": 2,
       "version_minor": 0
      },
      "text/plain": [
       "Validating: 0it [00:00, ?it/s]"
      ]
     },
     "metadata": {},
     "output_type": "display_data"
    },
    {
     "name": "stderr",
     "output_type": "stream",
     "text": [
      "[W ParallelNative.cpp:214] Warning: Cannot set number of intraop threads after parallel work has started or after set_num_threads call when using native parallel backend (function set_num_threads)\n",
      "[W ParallelNative.cpp:214] Warning: Cannot set number of intraop threads after parallel work has started or after set_num_threads call when using native parallel backend (function set_num_threads)\n",
      "Epoch 12, global step 207: val_loss reached 0.56717 (best 0.56717), saving model to \"/Users/koredeakande/Documents/Capstone/ISP Project/Coding/nigerian_isp_sentiment_analysis/models/absa-aspect-extraction/bertweet_oversampled/ae-epoch=12-val_loss=0.57.ckpt\" as top 3\n",
      "[W ParallelNative.cpp:214] Warning: Cannot set number of intraop threads after parallel work has started or after set_num_threads call when using native parallel backend (function set_num_threads)\n",
      "[W ParallelNative.cpp:214] Warning: Cannot set number of intraop threads after parallel work has started or after set_num_threads call when using native parallel backend (function set_num_threads)\n"
     ]
    },
    {
     "data": {
      "application/vnd.jupyter.widget-view+json": {
       "model_id": "",
       "version_major": 2,
       "version_minor": 0
      },
      "text/plain": [
       "Validating: 0it [00:00, ?it/s]"
      ]
     },
     "metadata": {},
     "output_type": "display_data"
    },
    {
     "name": "stderr",
     "output_type": "stream",
     "text": [
      "[W ParallelNative.cpp:214] Warning: Cannot set number of intraop threads after parallel work has started or after set_num_threads call when using native parallel backend (function set_num_threads)\n",
      "[W ParallelNative.cpp:214] Warning: Cannot set number of intraop threads after parallel work has started or after set_num_threads call when using native parallel backend (function set_num_threads)\n",
      "Epoch 13, global step 223: val_loss reached 0.56717 (best 0.56717), saving model to \"/Users/koredeakande/Documents/Capstone/ISP Project/Coding/nigerian_isp_sentiment_analysis/models/absa-aspect-extraction/bertweet_oversampled/ae-epoch=13-val_loss=0.57.ckpt\" as top 3\n",
      "[W ParallelNative.cpp:214] Warning: Cannot set number of intraop threads after parallel work has started or after set_num_threads call when using native parallel backend (function set_num_threads)\n",
      "[W ParallelNative.cpp:214] Warning: Cannot set number of intraop threads after parallel work has started or after set_num_threads call when using native parallel backend (function set_num_threads)\n"
     ]
    },
    {
     "data": {
      "application/vnd.jupyter.widget-view+json": {
       "model_id": "",
       "version_major": 2,
       "version_minor": 0
      },
      "text/plain": [
       "Validating: 0it [00:00, ?it/s]"
      ]
     },
     "metadata": {},
     "output_type": "display_data"
    },
    {
     "name": "stderr",
     "output_type": "stream",
     "text": [
      "[W ParallelNative.cpp:214] Warning: Cannot set number of intraop threads after parallel work has started or after set_num_threads call when using native parallel backend (function set_num_threads)\n",
      "[W ParallelNative.cpp:214] Warning: Cannot set number of intraop threads after parallel work has started or after set_num_threads call when using native parallel backend (function set_num_threads)\n",
      "Epoch 14, global step 239: val_loss was not in top 3\n",
      "[W ParallelNative.cpp:214] Warning: Cannot set number of intraop threads after parallel work has started or after set_num_threads call when using native parallel backend (function set_num_threads)\n",
      "[W ParallelNative.cpp:214] Warning: Cannot set number of intraop threads after parallel work has started or after set_num_threads call when using native parallel backend (function set_num_threads)\n"
     ]
    },
    {
     "data": {
      "application/vnd.jupyter.widget-view+json": {
       "model_id": "",
       "version_major": 2,
       "version_minor": 0
      },
      "text/plain": [
       "Validating: 0it [00:00, ?it/s]"
      ]
     },
     "metadata": {},
     "output_type": "display_data"
    },
    {
     "name": "stderr",
     "output_type": "stream",
     "text": [
      "[W ParallelNative.cpp:214] Warning: Cannot set number of intraop threads after parallel work has started or after set_num_threads call when using native parallel backend (function set_num_threads)\n",
      "[W ParallelNative.cpp:214] Warning: Cannot set number of intraop threads after parallel work has started or after set_num_threads call when using native parallel backend (function set_num_threads)\n",
      "Epoch 15, global step 255: val_loss was not in top 3\n",
      "[W ParallelNative.cpp:214] Warning: Cannot set number of intraop threads after parallel work has started or after set_num_threads call when using native parallel backend (function set_num_threads)\n",
      "[W ParallelNative.cpp:214] Warning: Cannot set number of intraop threads after parallel work has started or after set_num_threads call when using native parallel backend (function set_num_threads)\n"
     ]
    },
    {
     "data": {
      "application/vnd.jupyter.widget-view+json": {
       "model_id": "",
       "version_major": 2,
       "version_minor": 0
      },
      "text/plain": [
       "Validating: 0it [00:00, ?it/s]"
      ]
     },
     "metadata": {},
     "output_type": "display_data"
    },
    {
     "name": "stderr",
     "output_type": "stream",
     "text": [
      "[W ParallelNative.cpp:214] Warning: Cannot set number of intraop threads after parallel work has started or after set_num_threads call when using native parallel backend (function set_num_threads)\n",
      "[W ParallelNative.cpp:214] Warning: Cannot set number of intraop threads after parallel work has started or after set_num_threads call when using native parallel backend (function set_num_threads)\n",
      "Epoch 16, global step 271: val_loss was not in top 3\n",
      "[W ParallelNative.cpp:214] Warning: Cannot set number of intraop threads after parallel work has started or after set_num_threads call when using native parallel backend (function set_num_threads)\n",
      "[W ParallelNative.cpp:214] Warning: Cannot set number of intraop threads after parallel work has started or after set_num_threads call when using native parallel backend (function set_num_threads)\n"
     ]
    },
    {
     "data": {
      "application/vnd.jupyter.widget-view+json": {
       "model_id": "",
       "version_major": 2,
       "version_minor": 0
      },
      "text/plain": [
       "Validating: 0it [00:00, ?it/s]"
      ]
     },
     "metadata": {},
     "output_type": "display_data"
    },
    {
     "name": "stderr",
     "output_type": "stream",
     "text": [
      "[W ParallelNative.cpp:214] Warning: Cannot set number of intraop threads after parallel work has started or after set_num_threads call when using native parallel backend (function set_num_threads)\n",
      "[W ParallelNative.cpp:214] Warning: Cannot set number of intraop threads after parallel work has started or after set_num_threads call when using native parallel backend (function set_num_threads)\n",
      "Epoch 17, global step 287: val_loss was not in top 3\n",
      "[W ParallelNative.cpp:214] Warning: Cannot set number of intraop threads after parallel work has started or after set_num_threads call when using native parallel backend (function set_num_threads)\n",
      "[W ParallelNative.cpp:214] Warning: Cannot set number of intraop threads after parallel work has started or after set_num_threads call when using native parallel backend (function set_num_threads)\n"
     ]
    },
    {
     "data": {
      "application/vnd.jupyter.widget-view+json": {
       "model_id": "",
       "version_major": 2,
       "version_minor": 0
      },
      "text/plain": [
       "Validating: 0it [00:00, ?it/s]"
      ]
     },
     "metadata": {},
     "output_type": "display_data"
    },
    {
     "name": "stderr",
     "output_type": "stream",
     "text": [
      "[W ParallelNative.cpp:214] Warning: Cannot set number of intraop threads after parallel work has started or after set_num_threads call when using native parallel backend (function set_num_threads)\n",
      "[W ParallelNative.cpp:214] Warning: Cannot set number of intraop threads after parallel work has started or after set_num_threads call when using native parallel backend (function set_num_threads)\n",
      "Epoch 18, global step 303: val_loss was not in top 3\n",
      "[W ParallelNative.cpp:214] Warning: Cannot set number of intraop threads after parallel work has started or after set_num_threads call when using native parallel backend (function set_num_threads)\n",
      "[W ParallelNative.cpp:214] Warning: Cannot set number of intraop threads after parallel work has started or after set_num_threads call when using native parallel backend (function set_num_threads)\n"
     ]
    },
    {
     "data": {
      "application/vnd.jupyter.widget-view+json": {
       "model_id": "",
       "version_major": 2,
       "version_minor": 0
      },
      "text/plain": [
       "Validating: 0it [00:00, ?it/s]"
      ]
     },
     "metadata": {},
     "output_type": "display_data"
    },
    {
     "name": "stderr",
     "output_type": "stream",
     "text": [
      "[W ParallelNative.cpp:214] Warning: Cannot set number of intraop threads after parallel work has started or after set_num_threads call when using native parallel backend (function set_num_threads)\n",
      "[W ParallelNative.cpp:214] Warning: Cannot set number of intraop threads after parallel work has started or after set_num_threads call when using native parallel backend (function set_num_threads)\n",
      "Epoch 19, global step 319: val_loss was not in top 3\n"
     ]
    }
   ],
   "source": [
    "trainer3 = pl.Trainer(\n",
    "    #gpus                       = 1,\n",
    "    logger                      = logger3,\n",
    "    log_every_n_steps           = 10,\n",
    "    callbacks                   = [checkpoint_callback3],\n",
    "    max_epochs                  =  N_EPOCHS,\n",
    "    progress_bar_refresh_rate   =  30\n",
    ")\n",
    "\n",
    "trainer3.fit(model3, data_module2)"
   ]
  },
  {
   "cell_type": "markdown",
   "id": "6bf159b1-c64c-4df4-946b-61d2317e98ce",
   "metadata": {},
   "source": [
    "Already very skeptical about this model since the loss did not decrease significantly"
   ]
  },
  {
   "cell_type": "markdown",
   "id": "1967388f-6eba-433c-b7a8-f287bd1944ac",
   "metadata": {},
   "source": [
    "### e. Model Evaluation"
   ]
  },
  {
   "cell_type": "code",
   "execution_count": 302,
   "id": "4fa8219f-4f19-41a3-9db7-7077d32dacdb",
   "metadata": {},
   "outputs": [
    {
     "name": "stderr",
     "output_type": "stream",
     "text": [
      "/Users/koredeakande/opt/anaconda3/envs/capstone/lib/python3.7/site-packages/pytorch_lightning/trainer/data_loading.py:111: UserWarning: The dataloader, test_dataloader 0, does not have many workers which may be a bottleneck. Consider increasing the value of the `num_workers` argument` (try 8 which is the number of cpus on this machine) in the `DataLoader` init to improve performance.\n",
      "  f\"The dataloader, {name}, does not have many workers which may be a bottleneck.\"\n"
     ]
    },
    {
     "data": {
      "application/vnd.jupyter.widget-view+json": {
       "model_id": "79b02f1740924b6db3ef57cf1b704af7",
       "version_major": 2,
       "version_minor": 0
      },
      "text/plain": [
       "Testing: 0it [00:00, ?it/s]"
      ]
     },
     "metadata": {},
     "output_type": "display_data"
    },
    {
     "name": "stderr",
     "output_type": "stream",
     "text": [
      "[W ParallelNative.cpp:214] Warning: Cannot set number of intraop threads after parallel work has started or after set_num_threads call when using native parallel backend (function set_num_threads)\n",
      "[W ParallelNative.cpp:214] Warning: Cannot set number of intraop threads after parallel work has started or after set_num_threads call when using native parallel backend (function set_num_threads)\n"
     ]
    },
    {
     "name": "stdout",
     "output_type": "stream",
     "text": [
      "--------------------------------------------------------------------------------\n",
      "DATALOADER:0 TEST RESULTS\n",
      "{'test_loss': 0.5572946667671204}\n",
      "--------------------------------------------------------------------------------\n"
     ]
    },
    {
     "data": {
      "text/plain": [
       "[{'test_loss': 0.5572946667671204}]"
      ]
     },
     "execution_count": 302,
     "metadata": {},
     "output_type": "execute_result"
    }
   ],
   "source": [
    "#Evaluate the model's performance on the test dataset\n",
    "trainer3.test(model3,data_module2)"
   ]
  },
  {
   "cell_type": "code",
   "execution_count": 304,
   "id": "b8ffe769-f960-4192-a0d8-6457b0393d53",
   "metadata": {},
   "outputs": [
    {
     "name": "stdout",
     "output_type": "stream",
     "text": [
      "The tensorboard extension is already loaded. To reload it, use:\n",
      "  %reload_ext tensorboard\n"
     ]
    },
    {
     "data": {
      "text/plain": [
       "Reusing TensorBoard on port 6007 (pid 53019), started 0:00:22 ago. (Use '!kill 53019' to kill it.)"
      ]
     },
     "metadata": {},
     "output_type": "display_data"
    },
    {
     "data": {
      "text/html": [
       "\n",
       "      <iframe id=\"tensorboard-frame-c4da537c1651ddae\" width=\"100%\" height=\"800\" frameborder=\"0\">\n",
       "      </iframe>\n",
       "      <script>\n",
       "        (function() {\n",
       "          const frame = document.getElementById(\"tensorboard-frame-c4da537c1651ddae\");\n",
       "          const url = new URL(\"/\", window.location);\n",
       "          const port = 6007;\n",
       "          if (port) {\n",
       "            url.port = port;\n",
       "          }\n",
       "          frame.src = url;\n",
       "        })();\n",
       "      </script>\n",
       "    "
      ],
      "text/plain": [
       "<IPython.core.display.HTML object>"
      ]
     },
     "metadata": {},
     "output_type": "display_data"
    }
   ],
   "source": [
    "# Visualize the logs using tensorboard.\n",
    "%load_ext tensorboard\n",
    "%tensorboard --logdir ../models/absa-aspect-extraction/bertweet_oversampled/lightning_logs/\n",
    "#%reload_ext tensorboard"
   ]
  },
  {
   "cell_type": "markdown",
   "id": "fbc23eb3-c6f2-42d6-9dc6-2098971b505e",
   "metadata": {},
   "source": [
    "Micro AUROC (around 0.5) is bad. Suggests random guessing at best – i.e. poor classifier"
   ]
  },
  {
   "cell_type": "markdown",
   "id": "0ab3f344-92c3-4aa6-b2c2-d60d48c46d88",
   "metadata": {},
   "source": [
    "#### (i) Evaluate model performance on a generated example"
   ]
  },
  {
   "cell_type": "code",
   "execution_count": 305,
   "id": "5f991e5d-4a8b-43e6-b4ce-8c87cc85d769",
   "metadata": {},
   "outputs": [],
   "source": [
    "#Load the best model based on validation loss\n",
    "trained_model3 = ISP_TweetAspectClassifier3.load_from_checkpoint(\n",
    "    trainer3.checkpoint_callback.best_model_path,\n",
    "    n_classes=len(ASPECTS),\n",
    "    \n",
    ")"
   ]
  },
  {
   "cell_type": "code",
   "execution_count": 306,
   "id": "cb0c3ca3-6ce4-42e7-8876-c0c35f101e62",
   "metadata": {},
   "outputs": [],
   "source": [
    "#Put model into evaluation mode\n",
    "trained_model3.eval()\n",
    "trained_model3.freeze()"
   ]
  },
  {
   "cell_type": "code",
   "execution_count": 307,
   "id": "ec8c7347-c9b3-466e-92eb-b0ce71817239",
   "metadata": {},
   "outputs": [
    {
     "name": "stdout",
     "output_type": "stream",
     "text": [
      "price: 0.4770582616329193\n",
      "speed: 0.4313480257987976\n",
      "reliability: 0.41877180337905884\n",
      "coverage: 0.36569344997406006\n",
      "customer service: 0.41532450914382935\n",
      "trustworthiness: 0.34830161929130554\n"
     ]
    }
   ],
   "source": [
    "test_comment = \"The internet is so slow and it's so expensive\"\n",
    "\n",
    "encoding = TOKENIZER.encode_plus(\n",
    "  test_comment,\n",
    "  add_special_tokens=True,\n",
    "  max_length=TOKENIZER.model_max_length,\n",
    "  return_token_type_ids=False,\n",
    "  padding=\"max_length\",\n",
    "  return_attention_mask=True,\n",
    "  return_tensors='pt',\n",
    ")\n",
    "\n",
    "_, test_prediction = trained_model3(encoding[\"input_ids\"], encoding[\"attention_mask\"])\n",
    "test_prediction = test_prediction.flatten().numpy()\n",
    "for label, prediction in zip(ASPECTS, test_prediction):\n",
    "    print(f\"{label}: {prediction}\")"
   ]
  },
  {
   "cell_type": "markdown",
   "id": "d0c62c9b-ec3f-4097-95e3-e47743a03290",
   "metadata": {},
   "source": [
    "Doesn't seem to do a good job distinguishing the different aspects for this case. Although the values are finally higher! Real difference seems to have been increased training sample size. Or increased samples for the different labels"
   ]
  },
  {
   "cell_type": "markdown",
   "id": "bcb0a373-48a5-4eef-b132-9095f7476045",
   "metadata": {},
   "source": [
    "#### (ii) Evaluate model performance on the validation set"
   ]
  },
  {
   "cell_type": "code",
   "execution_count": 308,
   "id": "eb08456b-0c6e-4b18-87ba-7f6985e49514",
   "metadata": {},
   "outputs": [
    {
     "data": {
      "application/vnd.jupyter.widget-view+json": {
       "model_id": "053881254a374d00817c06c6cc8cbfb8",
       "version_major": 2,
       "version_minor": 0
      },
      "text/plain": [
       "  0%|          | 0/101 [00:00<?, ?it/s]"
      ]
     },
     "metadata": {},
     "output_type": "display_data"
    }
   ],
   "source": [
    "device = torch.device('cuda' if torch.cuda.is_available() else 'cpu')\n",
    "\n",
    "trained_model3 = trained_model3.to(device)\n",
    "\n",
    "#Prepare the validation set\n",
    "val_dataset = Generate_PyTorch_Dataset(\n",
    "    val_df,\n",
    "    TOKENIZER,\n",
    ")\n",
    "\n",
    "#Lists to store the model predictions and the true labels\n",
    "model_preds = []\n",
    "true_labels = []\n",
    "\n",
    "for item in tqdm(val_dataset):\n",
    "    _, pred = trained_model3(\n",
    "        item[\"input_ids\"].unsqueeze(dim=0).to(device),\n",
    "        item[\"attention_mask\"].unsqueeze(dim=0).to(device)\n",
    "    )\n",
    "    model_preds.append(pred.flatten())\n",
    "    true_labels.append(item[\"labels\"].int())\n",
    "\n",
    "model_preds = torch.stack(model_preds).detach().cpu()\n",
    "true_labels = torch.stack(true_labels).detach().cpu()"
   ]
  },
  {
   "cell_type": "code",
   "execution_count": 319,
   "id": "e52d0ac5-9775-488d-8287-d737844986fd",
   "metadata": {},
   "outputs": [
    {
     "data": {
      "text/plain": [
       "tensor(0.9026)"
      ]
     },
     "execution_count": 319,
     "metadata": {},
     "output_type": "execute_result"
    }
   ],
   "source": [
    "#Compute the accuracy on the validation set\n",
    "acc_metric = Accuracy()\n",
    "acc_metric(model_preds, true_labels)"
   ]
  },
  {
   "cell_type": "markdown",
   "id": "84662a1d-7dbc-4737-b461-08e851870aa9",
   "metadata": {},
   "source": [
    "We get a fairly high accuracy on the validation set. However, we note that the dataset is quite imbalanced. So it would be important to also check the model's performance on the different aspects (remember: trustworthiness had very few samples)"
   ]
  },
  {
   "cell_type": "code",
   "execution_count": 310,
   "id": "f272d04e-a559-4f0e-b9d4-2b2b2967874c",
   "metadata": {},
   "outputs": [
    {
     "name": "stdout",
     "output_type": "stream",
     "text": [
      "AUROC per tag\n",
      "price: 0.6263440847396851\n",
      "speed: 0.5874999165534973\n",
      "reliability: 0.47454842925071716\n",
      "coverage: 0.4448924958705902\n",
      "customer service: 0.8682795763015747\n",
      "trustworthiness: 0.5748299956321716\n"
     ]
    },
    {
     "name": "stderr",
     "output_type": "stream",
     "text": [
      "/Users/koredeakande/opt/anaconda3/envs/capstone/lib/python3.7/site-packages/torchmetrics/utilities/prints.py:36: UserWarning: Metric `AUROC` will save all targets and predictions in buffer. For large datasets this may lead to large memory footprint.\n",
      "  warnings.warn(*args, **kwargs)\n"
     ]
    }
   ],
   "source": [
    "auroc_metric = AUROC(pos_label=1)\n",
    "print(\"AUROC per tag\")\n",
    "for i, name in enumerate(ASPECTS):\n",
    "    tag_auroc = auroc_metric(model_preds[:, i], true_labels[:, i])\n",
    "    print(f\"{name}: {tag_auroc}\")"
   ]
  },
  {
   "cell_type": "markdown",
   "id": "ba9030f2-ba86-4883-acc0-02eddc5ab409",
   "metadata": {},
   "source": [
    "### Classification Report"
   ]
  },
  {
   "cell_type": "code",
   "execution_count": 326,
   "id": "7bbb3903-0355-41dc-a9d9-f3bac6680fc1",
   "metadata": {},
   "outputs": [
    {
     "name": "stdout",
     "output_type": "stream",
     "text": [
      "                  precision    recall  f1-score   support\n",
      "\n",
      "           price       0.08      1.00      0.15         8\n",
      "           speed       0.13      0.19      0.15        16\n",
      "     reliability       0.11      0.14      0.12        14\n",
      "        coverage       0.09      0.12      0.11         8\n",
      "customer service       0.36      0.62      0.45         8\n",
      " trustworthiness       0.00      0.00      0.00         3\n",
      "\n",
      "       micro avg       0.11      0.33      0.17        57\n",
      "       macro avg       0.13      0.35      0.16        57\n",
      "    weighted avg       0.14      0.33      0.17        57\n",
      "     samples avg       0.08      0.17      0.10        57\n",
      "\n"
     ]
    }
   ],
   "source": [
    "y_pred = model_preds.numpy()\n",
    "y_true = true_labels.numpy()\n",
    "\n",
    "y_pred = np.where(y_pred > 0.43, 1, 0)\n",
    "\n",
    "print(classification_report(\n",
    "  y_true,\n",
    "  y_pred,\n",
    "  target_names=ASPECTS,\n",
    "  zero_division=0\n",
    "))"
   ]
  },
  {
   "cell_type": "markdown",
   "id": "78fc03e3-8ba6-4f84-8f56-26eaa3248048",
   "metadata": {},
   "source": [
    "Still not good enough. I think we need a lot more data to start seeing promising results"
   ]
  }
 ],
 "metadata": {
  "kernelspec": {
   "display_name": "Python 3 (ipykernel)",
   "language": "python",
   "name": "python3"
  },
  "language_info": {
   "codemirror_mode": {
    "name": "ipython",
    "version": 3
   },
   "file_extension": ".py",
   "mimetype": "text/x-python",
   "name": "python",
   "nbconvert_exporter": "python",
   "pygments_lexer": "ipython3",
   "version": "3.7.11"
  }
 },
 "nbformat": 4,
 "nbformat_minor": 5
}
