{
 "cells": [
  {
   "cell_type": "markdown",
   "id": "2d5cb306-d351-46cb-8843-1153eb1a9f55",
   "metadata": {},
   "source": [
    "# Modeling: Multilingual Twitter XLM-roBERTa-base For Sentiment Analysis\n",
    "*Fine-tuning an XLM-roBERTa model for ISP Sentiment Prediction*\n",
    "\n",
    "**`Goal:`** Compare the performance of three different models (BERTweet, XLM-roBERTa, and M-BERT) for sentiment analysis. Here, macro-F1 score serves as the key metric of interest\n",
    "\n",
    "\n",
    "**`Justification:`** Following findings from my [initial sentiment analysis implementation](https://github.com/KoredeAkande/nigerian_isp_sentiment_analysis/tree/main/notebooks/test-version) suggesting that Pidign English might be useful to account for, I look into multilingual models as potential solutions. In particular I select a Twitter XLM-roBERTa model because in addition to incorporating multilingualism, it is also close to the problem domain of Twitter."
   ]
  },
  {
   "cell_type": "markdown",
   "id": "0455f045-6b06-45b1-8ce6-7d1be8bf9098",
   "metadata": {},
   "source": [
    "### 1. Library Importation"
   ]
  },
  {
   "cell_type": "code",
   "execution_count": 1,
   "id": "20d13a43-c94b-47e3-a9d6-09edb2aae52a",
   "metadata": {},
   "outputs": [],
   "source": [
    "#Visualization packages\n",
    "import pandas as pd\n",
    "import numpy as np\n",
    "import seaborn as sns\n",
    "#sns.set()\n",
    "import matplotlib.pyplot as plt\n",
    "\n",
    "#Modeling and evaluation packages\n",
    "import torch\n",
    "from transformers import AutoTokenizer, AutoModelForSequenceClassification, Trainer, TrainingArguments\n",
    "from sklearn.metrics import accuracy_score, precision_recall_fscore_support,classification_report, confusion_matrix, ConfusionMatrixDisplay\n",
    "from sklearn.model_selection import train_test_split"
   ]
  },
  {
   "cell_type": "markdown",
   "id": "a22b394c-6489-4367-a86d-6269547f412b",
   "metadata": {},
   "source": [
    "### 2. Loading the data"
   ]
  },
  {
   "cell_type": "code",
   "execution_count": 2,
   "id": "c9f04655-bbc0-4e77-b73f-70ee37acdad5",
   "metadata": {},
   "outputs": [],
   "source": [
    "df = pd.read_csv('../data/processed/sample_encoded_and_cleaned.csv')"
   ]
  },
  {
   "cell_type": "code",
   "execution_count": 3,
   "id": "31fec72a-43ed-4738-a329-55b79dd829a0",
   "metadata": {},
   "outputs": [
    {
     "data": {
      "text/html": [
       "<div>\n",
       "<style scoped>\n",
       "    .dataframe tbody tr th:only-of-type {\n",
       "        vertical-align: middle;\n",
       "    }\n",
       "\n",
       "    .dataframe tbody tr th {\n",
       "        vertical-align: top;\n",
       "    }\n",
       "\n",
       "    .dataframe thead th {\n",
       "        text-align: right;\n",
       "    }\n",
       "</style>\n",
       "<table border=\"1\" class=\"dataframe\">\n",
       "  <thead>\n",
       "    <tr style=\"text-align: right;\">\n",
       "      <th></th>\n",
       "      <th>ISP_Name</th>\n",
       "      <th>Time</th>\n",
       "      <th>Text</th>\n",
       "      <th>Source</th>\n",
       "      <th>sentiment</th>\n",
       "      <th>label</th>\n",
       "    </tr>\n",
       "  </thead>\n",
       "  <tbody>\n",
       "    <tr>\n",
       "      <th>0</th>\n",
       "      <td>sprectranet</td>\n",
       "      <td>2020-02-04 18:30:35+00:00</td>\n",
       "      <td>my family used my spectranet and they don't wa...</td>\n",
       "      <td>Twitter for Android</td>\n",
       "      <td>Neutral</td>\n",
       "      <td>1</td>\n",
       "    </tr>\n",
       "    <tr>\n",
       "      <th>1</th>\n",
       "      <td>sprectranet</td>\n",
       "      <td>2019-06-19 04:59:49</td>\n",
       "      <td>spectranet_ng how can i get the freedom mifi i...</td>\n",
       "      <td>Twitter for iPhone</td>\n",
       "      <td>Neutral</td>\n",
       "      <td>1</td>\n",
       "    </tr>\n",
       "    <tr>\n",
       "      <th>2</th>\n",
       "      <td>sprectranet</td>\n",
       "      <td>2020-03-30 07:57:38+00:00</td>\n",
       "      <td>drolufunmilayo iconic_remi spectranet_ng</td>\n",
       "      <td>Twitter for iPhone</td>\n",
       "      <td>Neutral</td>\n",
       "      <td>1</td>\n",
       "    </tr>\n",
       "    <tr>\n",
       "      <th>3</th>\n",
       "      <td>sprectranet</td>\n",
       "      <td>2020-12-31 21:07:52+00:00</td>\n",
       "      <td>spectranet_ng your response just proves how ho...</td>\n",
       "      <td>Twitter for Android</td>\n",
       "      <td>Negative</td>\n",
       "      <td>0</td>\n",
       "    </tr>\n",
       "    <tr>\n",
       "      <th>4</th>\n",
       "      <td>sprectranet</td>\n",
       "      <td>2020-09-03 23:09:09+00:00</td>\n",
       "      <td>spectranet is just the worse tbh, i can't even...</td>\n",
       "      <td>Twitter for iPhone</td>\n",
       "      <td>Negative</td>\n",
       "      <td>0</td>\n",
       "    </tr>\n",
       "    <tr>\n",
       "      <th>...</th>\n",
       "      <td>...</td>\n",
       "      <td>...</td>\n",
       "      <td>...</td>\n",
       "      <td>...</td>\n",
       "      <td>...</td>\n",
       "      <td>...</td>\n",
       "    </tr>\n",
       "    <tr>\n",
       "      <th>372</th>\n",
       "      <td>sprectranet</td>\n",
       "      <td>2019-01-04 14:44:03</td>\n",
       "      <td>spectranet unlimited. value for money</td>\n",
       "      <td>Twitter for iPhone</td>\n",
       "      <td>Positive</td>\n",
       "      <td>2</td>\n",
       "    </tr>\n",
       "    <tr>\n",
       "      <th>373</th>\n",
       "      <td>sprectranet</td>\n",
       "      <td>2020-06-17 13:32:28+00:00</td>\n",
       "      <td>from 30th may to date mtn mifi - 10k spectrane...</td>\n",
       "      <td>Twitter for iPhone</td>\n",
       "      <td>Negative</td>\n",
       "      <td>0</td>\n",
       "    </tr>\n",
       "    <tr>\n",
       "      <th>374</th>\n",
       "      <td>sprectranet</td>\n",
       "      <td>2020-05-12 16:51:44+00:00</td>\n",
       "      <td>spectranet_ng fritzthejanitor will they help m...</td>\n",
       "      <td>Twitter for iPhone</td>\n",
       "      <td>Neutral</td>\n",
       "      <td>1</td>\n",
       "    </tr>\n",
       "    <tr>\n",
       "      <th>375</th>\n",
       "      <td>sprectranet</td>\n",
       "      <td>2019-02-27 18:59:31</td>\n",
       "      <td>thefunkydee spectranet_ng i'm giving spectrane...</td>\n",
       "      <td>Twitter for iPhone</td>\n",
       "      <td>Negative</td>\n",
       "      <td>0</td>\n",
       "    </tr>\n",
       "    <tr>\n",
       "      <th>376</th>\n",
       "      <td>sprectranet</td>\n",
       "      <td>2020-04-03 12:55:27+00:00</td>\n",
       "      <td>50gb gone in one week, spectranet_ng na so? i ...</td>\n",
       "      <td>Twitter for Android</td>\n",
       "      <td>Negative</td>\n",
       "      <td>0</td>\n",
       "    </tr>\n",
       "  </tbody>\n",
       "</table>\n",
       "<p>377 rows × 6 columns</p>\n",
       "</div>"
      ],
      "text/plain": [
       "        ISP_Name                       Time  \\\n",
       "0    sprectranet  2020-02-04 18:30:35+00:00   \n",
       "1    sprectranet        2019-06-19 04:59:49   \n",
       "2    sprectranet  2020-03-30 07:57:38+00:00   \n",
       "3    sprectranet  2020-12-31 21:07:52+00:00   \n",
       "4    sprectranet  2020-09-03 23:09:09+00:00   \n",
       "..           ...                        ...   \n",
       "372  sprectranet        2019-01-04 14:44:03   \n",
       "373  sprectranet  2020-06-17 13:32:28+00:00   \n",
       "374  sprectranet  2020-05-12 16:51:44+00:00   \n",
       "375  sprectranet        2019-02-27 18:59:31   \n",
       "376  sprectranet  2020-04-03 12:55:27+00:00   \n",
       "\n",
       "                                                  Text               Source  \\\n",
       "0    my family used my spectranet and they don't wa...  Twitter for Android   \n",
       "1    spectranet_ng how can i get the freedom mifi i...   Twitter for iPhone   \n",
       "2             drolufunmilayo iconic_remi spectranet_ng   Twitter for iPhone   \n",
       "3    spectranet_ng your response just proves how ho...  Twitter for Android   \n",
       "4    spectranet is just the worse tbh, i can't even...   Twitter for iPhone   \n",
       "..                                                 ...                  ...   \n",
       "372              spectranet unlimited. value for money   Twitter for iPhone   \n",
       "373  from 30th may to date mtn mifi - 10k spectrane...   Twitter for iPhone   \n",
       "374  spectranet_ng fritzthejanitor will they help m...   Twitter for iPhone   \n",
       "375  thefunkydee spectranet_ng i'm giving spectrane...   Twitter for iPhone   \n",
       "376  50gb gone in one week, spectranet_ng na so? i ...  Twitter for Android   \n",
       "\n",
       "    sentiment  label  \n",
       "0     Neutral      1  \n",
       "1     Neutral      1  \n",
       "2     Neutral      1  \n",
       "3    Negative      0  \n",
       "4    Negative      0  \n",
       "..        ...    ...  \n",
       "372  Positive      2  \n",
       "373  Negative      0  \n",
       "374   Neutral      1  \n",
       "375  Negative      0  \n",
       "376  Negative      0  \n",
       "\n",
       "[377 rows x 6 columns]"
      ]
     },
     "execution_count": 3,
     "metadata": {},
     "output_type": "execute_result"
    }
   ],
   "source": [
    "df"
   ]
  },
  {
   "cell_type": "markdown",
   "id": "bf6a719f-17f7-4274-bafa-10dfb1b30028",
   "metadata": {},
   "source": [
    "### 3. Split data into training & test set"
   ]
  },
  {
   "cell_type": "markdown",
   "id": "55142912-e3e6-4b3f-a2f6-5bf68f9a7518",
   "metadata": {},
   "source": [
    "**Observing the true distribution of the data**"
   ]
  },
  {
   "cell_type": "code",
   "execution_count": 4,
   "id": "63b0d4b5-9d55-4de4-babc-a7b498e42775",
   "metadata": {},
   "outputs": [
    {
     "data": {
      "text/plain": [
       "0    0.572944\n",
       "1    0.347480\n",
       "2    0.079576\n",
       "Name: label, dtype: float64"
      ]
     },
     "execution_count": 4,
     "metadata": {},
     "output_type": "execute_result"
    }
   ],
   "source": [
    "df.label.value_counts(normalize=True)"
   ]
  },
  {
   "cell_type": "markdown",
   "id": "84c09a05-6f32-4c75-a22e-59c138e81c0f",
   "metadata": {},
   "source": [
    "Seeing as the dataset is highly imbalanced, I perform a **stratified train-test split**:"
   ]
  },
  {
   "cell_type": "code",
   "execution_count": 5,
   "id": "c7230e82-7f6c-47f0-beac-1c91da47ba8d",
   "metadata": {},
   "outputs": [],
   "source": [
    "#Split the data 80:20 and ensure same proportion of classes as original data \n",
    "#Note: The below gets the indices of the tweets for the training and test set\n",
    "X_train, X_test, y_train, y_test = train_test_split(df.index.values, \n",
    "                                                    df.label.values, \n",
    "                                                    test_size=0.2, \n",
    "                                                    random_state=42, \n",
    "                                                    stratify=df.label.values)"
   ]
  },
  {
   "cell_type": "code",
   "execution_count": 6,
   "id": "0b92cd70-941e-4c1d-8a91-842ef4d4f1ca",
   "metadata": {},
   "outputs": [],
   "source": [
    "#Note which tweets were split into the training and test sets so we can see the division\n",
    "df.loc[X_train, 'split_group'] = 'training_set'\n",
    "df.loc[X_test, 'split_group'] = 'test_set'"
   ]
  },
  {
   "cell_type": "code",
   "execution_count": 7,
   "id": "559d7a0e-b32a-48e7-9f67-2b467679470b",
   "metadata": {},
   "outputs": [
    {
     "data": {
      "text/html": [
       "<div>\n",
       "<style scoped>\n",
       "    .dataframe tbody tr th:only-of-type {\n",
       "        vertical-align: middle;\n",
       "    }\n",
       "\n",
       "    .dataframe tbody tr th {\n",
       "        vertical-align: top;\n",
       "    }\n",
       "\n",
       "    .dataframe thead th {\n",
       "        text-align: right;\n",
       "    }\n",
       "</style>\n",
       "<table border=\"1\" class=\"dataframe\">\n",
       "  <thead>\n",
       "    <tr style=\"text-align: right;\">\n",
       "      <th></th>\n",
       "      <th></th>\n",
       "      <th></th>\n",
       "      <th>Text</th>\n",
       "    </tr>\n",
       "    <tr>\n",
       "      <th>sentiment</th>\n",
       "      <th>label</th>\n",
       "      <th>split_group</th>\n",
       "      <th></th>\n",
       "    </tr>\n",
       "  </thead>\n",
       "  <tbody>\n",
       "    <tr>\n",
       "      <th rowspan=\"2\" valign=\"top\">Negative</th>\n",
       "      <th rowspan=\"2\" valign=\"top\">0</th>\n",
       "      <th>test_set</th>\n",
       "      <td>44</td>\n",
       "    </tr>\n",
       "    <tr>\n",
       "      <th>training_set</th>\n",
       "      <td>172</td>\n",
       "    </tr>\n",
       "    <tr>\n",
       "      <th rowspan=\"2\" valign=\"top\">Neutral</th>\n",
       "      <th rowspan=\"2\" valign=\"top\">1</th>\n",
       "      <th>test_set</th>\n",
       "      <td>26</td>\n",
       "    </tr>\n",
       "    <tr>\n",
       "      <th>training_set</th>\n",
       "      <td>105</td>\n",
       "    </tr>\n",
       "    <tr>\n",
       "      <th rowspan=\"2\" valign=\"top\">Positive</th>\n",
       "      <th rowspan=\"2\" valign=\"top\">2</th>\n",
       "      <th>test_set</th>\n",
       "      <td>6</td>\n",
       "    </tr>\n",
       "    <tr>\n",
       "      <th>training_set</th>\n",
       "      <td>24</td>\n",
       "    </tr>\n",
       "  </tbody>\n",
       "</table>\n",
       "</div>"
      ],
      "text/plain": [
       "                              Text\n",
       "sentiment label split_group       \n",
       "Negative  0     test_set        44\n",
       "                training_set   172\n",
       "Neutral   1     test_set        26\n",
       "                training_set   105\n",
       "Positive  2     test_set         6\n",
       "                training_set    24"
      ]
     },
     "execution_count": 7,
     "metadata": {},
     "output_type": "execute_result"
    }
   ],
   "source": [
    "df.groupby(['sentiment', 'label', 'split_group'])[['Text']].count().sort_values('label')"
   ]
  },
  {
   "cell_type": "code",
   "execution_count": 8,
   "id": "7ca98aad-a93d-4773-9f1a-e3716667c069",
   "metadata": {},
   "outputs": [
    {
     "data": {
      "image/png": "[encoded data removed]",
      "text/plain": [
       "<Figure size 576x432 with 1 Axes>"
      ]
     },
     "metadata": {
      "needs_background": "light"
     },
     "output_type": "display_data"
    }
   ],
   "source": [
    "#Plot the proportion of each sentiment class in the training and test sets\n",
    "#-to confirm the distribution is the same in both sets\n",
    "with plt.style.context(['notebook','no-latex']):\n",
    "    sns.barplot(x='split_group', \n",
    "                y='percent', \n",
    "                hue='sentiment', \n",
    "                palette = ['tab:red','moccasin','tab:green'],\n",
    "                data=df.groupby(['split_group'])['sentiment'].value_counts(normalize=True).\\\n",
    "                                                                         rename('percent').\\\n",
    "                                                                         reset_index())\n",
    "    plt.show()"
   ]
  },
  {
   "cell_type": "markdown",
   "id": "8e529780-7636-4163-8c83-ca1ba3669430",
   "metadata": {},
   "source": [
    "### 4. Split training set into training set and validation set"
   ]
  },
  {
   "cell_type": "code",
   "execution_count": 9,
   "id": "5af10822-2ca3-4d99-b778-d8492594f0dc",
   "metadata": {},
   "outputs": [],
   "source": [
    "#Split the training set 75:25 using stratified sampling \n",
    "#Note: The below gets the indices of the tweets for the training and validation set\n",
    "X_train, X_val, y_train, y_val = train_test_split(X_train, \n",
    "                                                  y_train, \n",
    "                                                  test_size=0.25, \n",
    "                                                  random_state=1, \n",
    "                                                  stratify=y_train)"
   ]
  },
  {
   "cell_type": "code",
   "execution_count": 10,
   "id": "bd7183b4-31a6-469f-bb69-91530b6d5d45",
   "metadata": {},
   "outputs": [],
   "source": [
    "#Note which tweets were split into the training and validation sets so we can see the division\n",
    "df.loc[X_train, 'split_group'] = 'training_set'\n",
    "df.loc[X_val, 'split_group'] = 'validation_set'"
   ]
  },
  {
   "cell_type": "code",
   "execution_count": 11,
   "id": "e8c1ba10-85b5-4180-ab5d-2518064ebd28",
   "metadata": {},
   "outputs": [
    {
     "data": {
      "text/html": [
       "<div>\n",
       "<style scoped>\n",
       "    .dataframe tbody tr th:only-of-type {\n",
       "        vertical-align: middle;\n",
       "    }\n",
       "\n",
       "    .dataframe tbody tr th {\n",
       "        vertical-align: top;\n",
       "    }\n",
       "\n",
       "    .dataframe thead th {\n",
       "        text-align: right;\n",
       "    }\n",
       "</style>\n",
       "<table border=\"1\" class=\"dataframe\">\n",
       "  <thead>\n",
       "    <tr style=\"text-align: right;\">\n",
       "      <th></th>\n",
       "      <th></th>\n",
       "      <th></th>\n",
       "      <th>Text</th>\n",
       "    </tr>\n",
       "    <tr>\n",
       "      <th>sentiment</th>\n",
       "      <th>label</th>\n",
       "      <th>split_group</th>\n",
       "      <th></th>\n",
       "    </tr>\n",
       "  </thead>\n",
       "  <tbody>\n",
       "    <tr>\n",
       "      <th rowspan=\"3\" valign=\"top\">Negative</th>\n",
       "      <th rowspan=\"3\" valign=\"top\">0</th>\n",
       "      <th>test_set</th>\n",
       "      <td>44</td>\n",
       "    </tr>\n",
       "    <tr>\n",
       "      <th>training_set</th>\n",
       "      <td>129</td>\n",
       "    </tr>\n",
       "    <tr>\n",
       "      <th>validation_set</th>\n",
       "      <td>43</td>\n",
       "    </tr>\n",
       "    <tr>\n",
       "      <th rowspan=\"3\" valign=\"top\">Neutral</th>\n",
       "      <th rowspan=\"3\" valign=\"top\">1</th>\n",
       "      <th>test_set</th>\n",
       "      <td>26</td>\n",
       "    </tr>\n",
       "    <tr>\n",
       "      <th>training_set</th>\n",
       "      <td>78</td>\n",
       "    </tr>\n",
       "    <tr>\n",
       "      <th>validation_set</th>\n",
       "      <td>27</td>\n",
       "    </tr>\n",
       "    <tr>\n",
       "      <th rowspan=\"3\" valign=\"top\">Positive</th>\n",
       "      <th rowspan=\"3\" valign=\"top\">2</th>\n",
       "      <th>test_set</th>\n",
       "      <td>6</td>\n",
       "    </tr>\n",
       "    <tr>\n",
       "      <th>training_set</th>\n",
       "      <td>18</td>\n",
       "    </tr>\n",
       "    <tr>\n",
       "      <th>validation_set</th>\n",
       "      <td>6</td>\n",
       "    </tr>\n",
       "  </tbody>\n",
       "</table>\n",
       "</div>"
      ],
      "text/plain": [
       "                                Text\n",
       "sentiment label split_group         \n",
       "Negative  0     test_set          44\n",
       "                training_set     129\n",
       "                validation_set    43\n",
       "Neutral   1     test_set          26\n",
       "                training_set      78\n",
       "                validation_set    27\n",
       "Positive  2     test_set           6\n",
       "                training_set      18\n",
       "                validation_set     6"
      ]
     },
     "execution_count": 11,
     "metadata": {},
     "output_type": "execute_result"
    }
   ],
   "source": [
    "df.groupby(['sentiment', 'label', 'split_group'])[['Text']].count().sort_values('label')"
   ]
  },
  {
   "cell_type": "code",
   "execution_count": 12,
   "id": "99e6f3a3-bd4a-408f-adbc-75ce839b2e9a",
   "metadata": {},
   "outputs": [
    {
     "data": {
      "image/png": "[encoded data removed]",
      "text/plain": [
       "<Figure size 576x432 with 1 Axes>"
      ]
     },
     "metadata": {
      "needs_background": "light"
     },
     "output_type": "display_data"
    }
   ],
   "source": [
    "#Plot the proportion of each sentiment class in the training and test sets\n",
    "#-to confirm the distribution is the same in both sets\n",
    "with plt.style.context(['notebook','no-latex']):\n",
    "    sns.barplot(x='split_group', \n",
    "                y='percent', \n",
    "                hue='sentiment', \n",
    "                palette = ['tab:red','moccasin','tab:green'],\n",
    "                data=df.groupby(['split_group'])['sentiment'].value_counts(normalize=True).\\\n",
    "                                                                         rename('percent').\\\n",
    "                                                                         reset_index())\n",
    "    plt.show()"
   ]
  },
  {
   "cell_type": "code",
   "execution_count": 13,
   "id": "d923354b-881f-41b4-986f-aa458bf71908",
   "metadata": {},
   "outputs": [
    {
     "data": {
      "text/plain": [
       "split_group\n",
       "test_set           76\n",
       "training_set      225\n",
       "validation_set     76\n",
       "Name: Text, dtype: int64"
      ]
     },
     "execution_count": 13,
     "metadata": {},
     "output_type": "execute_result"
    }
   ],
   "source": [
    "df.groupby('split_group')['Text'].count()"
   ]
  },
  {
   "cell_type": "markdown",
   "id": "c5bd8143-533b-4e19-a54d-5beddaaec841",
   "metadata": {},
   "source": [
    "### 5. Modeling: XLM roBERTa"
   ]
  },
  {
   "cell_type": "code",
   "execution_count": 14,
   "id": "298172c3-6ba2-43bc-8f4c-2616eb200aff",
   "metadata": {},
   "outputs": [],
   "source": [
    "#Load the XLMR-roberta tokenizer\n",
    "tokenizer = AutoTokenizer.from_pretrained(\"cardiffnlp/twitter-xlm-roberta-base-sentiment\")\n",
    "\n",
    "class Generate_PyTorch_Dataset(torch.utils.data.Dataset):\n",
    "    \n",
    "    \"\"\"\n",
    "    \n",
    "    Class to encode a dataset for modeling using the model's corresponding tokenizer\n",
    "    \n",
    "    Inputs:\n",
    "        - texts (pandas series): The text/tweets to be encoded\n",
    "        - labels (pandas series): The (encoded) sentiment labels\n",
    "        - tokenizer: The tokenizer to be applied for encoding\n",
    "    \n",
    "    Output:\n",
    "        - Dictionary of elements from encoded representation\n",
    "    \n",
    "    ---------\n",
    "    Code adapted from NLPiation. (2021). \n",
    "    Is it possible to do Sentiment Analysis on unlabeled data using BERT? (Feat. Vader) [Experiment]. \n",
    "    https://nlpiation.medium.com/is-it-possible-to-do-sentiment-analysis-on-unlabeled-data-using-bert-feat-vader-experiment-357bba53768c\n",
    "    ---------\n",
    "    \n",
    "    \n",
    "    \"\"\"\n",
    "\n",
    "    def __init__(self, texts, labels, tokenizer):\n",
    "        self.texts    = texts\n",
    "        self.labels = labels\n",
    "        self.tokenizer  = tokenizer\n",
    "        self.max_len    = 128 #tokenizer.model_max_length\n",
    "  \n",
    "    def __len__(self):\n",
    "        return len(self.texts)\n",
    "  \n",
    "    def __getitem__(self, idx):\n",
    "        text = str(self.texts[idx])\n",
    "        labels = self.labels[idx]\n",
    "\n",
    "        encoded_text = self.tokenizer.encode_plus(\n",
    "            text,\n",
    "            add_special_tokens    = True,\n",
    "            truncation            = True,\n",
    "            return_attention_mask = True,\n",
    "            return_token_type_ids = False,\n",
    "            max_length            = self.max_len,\n",
    "            return_tensors        = 'pt',\n",
    "            padding               = \"max_length\"\n",
    "        )\n",
    "\n",
    "        return {\n",
    "            'input_ids': encoded_text['input_ids'][0],\n",
    "            'attention_mask': encoded_text['attention_mask'][0],\n",
    "            'labels': torch.tensor(labels, dtype=torch.long)\n",
    "        }\n",
    " \n",
    "\n",
    "def compute_metrics(eval_pred):\n",
    "    \n",
    "    \"\"\"\n",
    "    Function to compute accuracy metrics\n",
    "    \n",
    "    Input:\n",
    "        - eval_pred (tuple): Tuple containing the model predictions and targets to be matched \n",
    "                             in the form: (predictions,targets)]\n",
    "                             \n",
    "    Output:\n",
    "        - (dict): Dictionary containing different accuracy-related metrics\n",
    "    \n",
    "    \"\"\"\n",
    "    \n",
    "    #Get the predicted labels and the true labels\n",
    "    logits, labels = eval_pred\n",
    "    predictions = np.argmax(logits, axis=-1)\n",
    "    \n",
    "    #Compute, precision, recall, f1 and accuracy score\n",
    "    #We use macro so we can better see the effect of the class imbalance i.e. treat all classes as equal\n",
    "    precision, recall, f1, _ = precision_recall_fscore_support(labels, predictions, average='macro')\n",
    "    accuracy = accuracy_score(labels, predictions)\n",
    "    \n",
    "    return {\n",
    "        'f1': f1,\n",
    "        'precision': precision,\n",
    "        'recall': recall,\n",
    "        'accuracy': accuracy,}\n",
    "\n"
   ]
  },
  {
   "cell_type": "markdown",
   "id": "56686777-ed69-49f7-86af-70cfd5b7c4ef",
   "metadata": {},
   "source": [
    "#### a. Encode the training and validation sets"
   ]
  },
  {
   "cell_type": "code",
   "execution_count": 15,
   "id": "e276435b-69ac-48e8-89da-858f8e3c57ad",
   "metadata": {},
   "outputs": [],
   "source": [
    "#Prepare the Training and validation sets\n",
    "train_set_dataset = Generate_PyTorch_Dataset(\n",
    "    texts    = df.query(\"split_group == 'training_set' \").Text.tolist(),\n",
    "    labels = df.query(\"split_group == 'training_set' \").label.tolist(),\n",
    "    tokenizer  = tokenizer\n",
    ")\n",
    "\n",
    "val_set_dataset = Generate_PyTorch_Dataset(\n",
    "    texts    = df.query(\"split_group == 'validation_set' \").Text.tolist(),\n",
    "    labels = df.query(\"split_group == 'validation_set' \").label.tolist(),\n",
    "    tokenizer  = tokenizer\n",
    ")"
   ]
  },
  {
   "cell_type": "markdown",
   "id": "a2e95dd3-e884-49c8-960e-8052bd2e7c19",
   "metadata": {},
   "source": [
    "#### b. Load the pretrained XLM roBERTa model"
   ]
  },
  {
   "cell_type": "markdown",
   "id": "9c8eadfd-95b9-4a8f-b00e-6cd3dd6e5972",
   "metadata": {},
   "source": [
    "**Load the RoBERTa model**"
   ]
  },
  {
   "cell_type": "code",
   "execution_count": 16,
   "id": "76699c90-e517-4778-a12a-9d47bb0c9fe1",
   "metadata": {},
   "outputs": [],
   "source": [
    "#Load the XLMR-roberta model\n",
    "xlmr_model = AutoModelForSequenceClassification.from_pretrained(\"cardiffnlp/twitter-xlm-roberta-base-sentiment\")"
   ]
  },
  {
   "cell_type": "markdown",
   "id": "8472a3bb-106b-4780-a895-a037770fdc5e",
   "metadata": {},
   "source": [
    "#### c. Evaluating the pretrained model: How well does it classify tweets?"
   ]
  },
  {
   "cell_type": "markdown",
   "id": "0ea96740-f9ea-4c47-907e-7581eba39d07",
   "metadata": {},
   "source": [
    "**Training set (Note: The model was never exposed to these tweets!)**"
   ]
  },
  {
   "cell_type": "code",
   "execution_count": null,
   "id": "e157d2c1-2ee2-46fa-923f-31bb3997cf92",
   "metadata": {},
   "outputs": [
    {
     "name": "stderr",
     "output_type": "stream",
     "text": [
      "PyTorch: setting up devices\n",
      "The default value for the training argument `--report_to` will change in v5 (from all installed integrations to none). In v5, you will need to use `--report_to all` to get the same behavior as now. You should start updating your code and make this info disappear :-).\n",
      "***** Running Prediction *****\n",
      "  Num examples = 225\n",
      "  Batch size = 8\n"
     ]
    },
    {
     "data": {
      "text/html": [
       "\n",
       "    <div>\n",
       "      \n",
       "      <progress value='39' max='29' style='width:300px; height:20px; vertical-align: middle;'></progress>\n",
       "      [29/29 01:20]\n",
       "    </div>\n",
       "    "
      ],
      "text/plain": [
       "<IPython.core.display.HTML object>"
      ]
     },
     "metadata": {},
     "output_type": "display_data"
    }
   ],
   "source": [
    "xlmr_training_args = TrainingArguments(\n",
    "    output_dir = \"../model_predictions\",\n",
    "    do_predict = True\n",
    ")\n",
    "\n",
    "xlmr_trainer = Trainer(\n",
    "    model           = xlmr_model,\n",
    "    args            = xlmr_training_args,\n",
    "    compute_metrics = compute_metrics,\n",
    ")\n",
    "\n",
    "xlmr_train_preds = xlmr_trainer.predict(train_set_dataset, metric_key_prefix='train')"
   ]
  },
  {
   "cell_type": "code",
   "execution_count": null,
   "id": "7a8cb76f-8bc6-4ce0-87d8-53aedd42294a",
   "metadata": {},
   "outputs": [
    {
     "data": {
      "text/html": [
       "<div>\n",
       "<style scoped>\n",
       "    .dataframe tbody tr th:only-of-type {\n",
       "        vertical-align: middle;\n",
       "    }\n",
       "\n",
       "    .dataframe tbody tr th {\n",
       "        vertical-align: top;\n",
       "    }\n",
       "\n",
       "    .dataframe thead th {\n",
       "        text-align: right;\n",
       "    }\n",
       "</style>\n",
       "<table border=\"1\" class=\"dataframe\">\n",
       "  <thead>\n",
       "    <tr style=\"text-align: right;\">\n",
       "      <th></th>\n",
       "      <th>train_loss</th>\n",
       "      <th>train_f1</th>\n",
       "      <th>train_precision</th>\n",
       "      <th>train_recall</th>\n",
       "      <th>train_accuracy</th>\n",
       "      <th>train_runtime</th>\n",
       "      <th>train_samples_per_second</th>\n",
       "      <th>train_steps_per_second</th>\n",
       "    </tr>\n",
       "  </thead>\n",
       "  <tbody>\n",
       "    <tr>\n",
       "      <th>0</th>\n",
       "      <td>0.58935</td>\n",
       "      <td>0.698938</td>\n",
       "      <td>0.689209</td>\n",
       "      <td>0.710959</td>\n",
       "      <td>0.764444</td>\n",
       "      <td>61.5466</td>\n",
       "      <td>3.656</td>\n",
       "      <td>0.471</td>\n",
       "    </tr>\n",
       "  </tbody>\n",
       "</table>\n",
       "</div>"
      ],
      "text/plain": [
       "   train_loss  train_f1  train_precision  train_recall  train_accuracy  \\\n",
       "0     0.58935  0.698938         0.689209      0.710959        0.764444   \n",
       "\n",
       "   train_runtime  train_samples_per_second  train_steps_per_second  \n",
       "0        61.5466                     3.656                   0.471  "
      ]
     },
     "execution_count": 38,
     "metadata": {},
     "output_type": "execute_result"
    }
   ],
   "source": [
    "pd.DataFrame([xlmr_train_preds[-1]])"
   ]
  },
  {
   "cell_type": "markdown",
   "id": "790550e4-b30a-42d0-9b75-cfdf4e321740",
   "metadata": {},
   "source": [
    "**Validation set (Note: The model was never exposed to these tweets!)**"
   ]
  },
  {
   "cell_type": "code",
   "execution_count": null,
   "id": "9fe3681a-745f-4200-930b-d75119bb4ee7",
   "metadata": {},
   "outputs": [
    {
     "name": "stderr",
     "output_type": "stream",
     "text": [
      "***** Running Prediction *****\n",
      "  Num examples = 76\n",
      "  Batch size = 8\n"
     ]
    },
    {
     "data": {
      "text/html": [
       "<div>\n",
       "<style scoped>\n",
       "    .dataframe tbody tr th:only-of-type {\n",
       "        vertical-align: middle;\n",
       "    }\n",
       "\n",
       "    .dataframe tbody tr th {\n",
       "        vertical-align: top;\n",
       "    }\n",
       "\n",
       "    .dataframe thead th {\n",
       "        text-align: right;\n",
       "    }\n",
       "</style>\n",
       "<table border=\"1\" class=\"dataframe\">\n",
       "  <thead>\n",
       "    <tr style=\"text-align: right;\">\n",
       "      <th></th>\n",
       "      <th>validation_loss</th>\n",
       "      <th>validation_f1</th>\n",
       "      <th>validation_precision</th>\n",
       "      <th>validation_recall</th>\n",
       "      <th>validation_accuracy</th>\n",
       "      <th>validation_runtime</th>\n",
       "      <th>validation_samples_per_second</th>\n",
       "      <th>validation_steps_per_second</th>\n",
       "    </tr>\n",
       "  </thead>\n",
       "  <tbody>\n",
       "    <tr>\n",
       "      <th>0</th>\n",
       "      <td>0.552696</td>\n",
       "      <td>0.721598</td>\n",
       "      <td>0.726449</td>\n",
       "      <td>0.71892</td>\n",
       "      <td>0.763158</td>\n",
       "      <td>20.8673</td>\n",
       "      <td>3.642</td>\n",
       "      <td>0.479</td>\n",
       "    </tr>\n",
       "  </tbody>\n",
       "</table>\n",
       "</div>"
      ],
      "text/plain": [
       "   validation_loss  validation_f1  validation_precision  validation_recall  \\\n",
       "0         0.552696       0.721598              0.726449            0.71892   \n",
       "\n",
       "   validation_accuracy  validation_runtime  validation_samples_per_second  \\\n",
       "0             0.763158             20.8673                          3.642   \n",
       "\n",
       "   validation_steps_per_second  \n",
       "0                        0.479  "
      ]
     },
     "execution_count": 39,
     "metadata": {},
     "output_type": "execute_result"
    }
   ],
   "source": [
    "xlmr_val_preds = xlmr_trainer.predict(val_set_dataset, metric_key_prefix='validation')\n",
    "pd.DataFrame([xlmr_val_preds[-1]])"
   ]
  },
  {
   "cell_type": "markdown",
   "id": "385eacf3-8cce-46b0-aac1-4fd2ea8f4a0a",
   "metadata": {},
   "source": [
    "#### d. Fine-tune the pretrained model using Huggingface Trainer\n",
    "**`Baseline model` | `Default training configuration`**"
   ]
  },
  {
   "cell_type": "markdown",
   "id": "2d58a32f-2c7e-49df-a2a9-32dbf96277a8",
   "metadata": {},
   "source": [
    "**Setup Trainer and train**"
   ]
  },
  {
   "cell_type": "code",
   "execution_count": 40,
   "id": "d8d0b390-2802-4361-90fe-e18735fcc556",
   "metadata": {},
   "outputs": [
    {
     "name": "stderr",
     "output_type": "stream",
     "text": [
      "PyTorch: setting up devices\n",
      "The default value for the training argument `--report_to` will change in v5 (from all installed integrations to none). In v5, you will need to use `--report_to all` to get the same behavior as now. You should start updating your code and make this info disappear :-).\n",
      "***** Running training *****\n",
      "  Num examples = 225\n",
      "  Num Epochs = 10\n",
      "  Instantaneous batch size per device = 8\n",
      "  Total train batch size (w. parallel, distributed & accumulation) = 8\n",
      "  Gradient Accumulation steps = 1\n",
      "  Total optimization steps = 290\n"
     ]
    },
    {
     "data": {
      "text/html": [
       "\n",
       "    <div>\n",
       "      \n",
       "      <progress value='146' max='290' style='width:300px; height:20px; vertical-align: middle;'></progress>\n",
       "      [146/290 33:42 < 33:42, 0.07 it/s, Epoch 5/10]\n",
       "    </div>\n",
       "    <table border=\"1\" class=\"dataframe\">\n",
       "  <thead>\n",
       "    <tr style=\"text-align: left;\">\n",
       "      <th>Epoch</th>\n",
       "      <th>Training Loss</th>\n",
       "      <th>Validation Loss</th>\n",
       "      <th>F1</th>\n",
       "      <th>Precision</th>\n",
       "      <th>Recall</th>\n",
       "      <th>Accuracy</th>\n",
       "    </tr>\n",
       "  </thead>\n",
       "  <tbody>\n",
       "    <tr>\n",
       "      <td>1</td>\n",
       "      <td>0.731400</td>\n",
       "      <td>0.584165</td>\n",
       "      <td>0.524136</td>\n",
       "      <td>0.506353</td>\n",
       "      <td>0.555268</td>\n",
       "      <td>0.763158</td>\n",
       "    </tr>\n",
       "    <tr>\n",
       "      <td>2</td>\n",
       "      <td>0.377600</td>\n",
       "      <td>1.014708</td>\n",
       "      <td>0.577986</td>\n",
       "      <td>0.843475</td>\n",
       "      <td>0.546225</td>\n",
       "      <td>0.736842</td>\n",
       "    </tr>\n",
       "    <tr>\n",
       "      <td>3</td>\n",
       "      <td>0.166500</td>\n",
       "      <td>1.108933</td>\n",
       "      <td>0.589080</td>\n",
       "      <td>0.658081</td>\n",
       "      <td>0.576945</td>\n",
       "      <td>0.750000</td>\n",
       "    </tr>\n",
       "    <tr>\n",
       "      <td>4</td>\n",
       "      <td>0.088500</td>\n",
       "      <td>1.257645</td>\n",
       "      <td>0.691191</td>\n",
       "      <td>0.705260</td>\n",
       "      <td>0.680304</td>\n",
       "      <td>0.763158</td>\n",
       "    </tr>\n",
       "    <tr>\n",
       "      <td>5</td>\n",
       "      <td>0.011000</td>\n",
       "      <td>1.169710</td>\n",
       "      <td>0.690918</td>\n",
       "      <td>0.769459</td>\n",
       "      <td>0.658915</td>\n",
       "      <td>0.815789</td>\n",
       "    </tr>\n",
       "  </tbody>\n",
       "</table><p>"
      ],
      "text/plain": [
       "<IPython.core.display.HTML object>"
      ]
     },
     "metadata": {},
     "output_type": "display_data"
    },
    {
     "name": "stderr",
     "output_type": "stream",
     "text": [
      "***** Running Evaluation *****\n",
      "  Num examples = 76\n",
      "  Batch size = 8\n",
      "/Users/koredeakande/opt/anaconda3/envs/capstone/lib/python3.7/site-packages/sklearn/metrics/_classification.py:1308: UndefinedMetricWarning: Precision and F-score are ill-defined and being set to 0.0 in labels with no predicted samples. Use `zero_division` parameter to control this behavior.\n",
      "  _warn_prf(average, modifier, msg_start, len(result))\n",
      "Saving model checkpoint to ../models/checkpoint-29\n",
      "Configuration saved in ../models/checkpoint-29/config.json\n",
      "Model weights saved in ../models/checkpoint-29/pytorch_model.bin\n",
      "***** Running Evaluation *****\n",
      "  Num examples = 76\n",
      "  Batch size = 8\n",
      "Saving model checkpoint to ../models/checkpoint-58\n",
      "Configuration saved in ../models/checkpoint-58/config.json\n",
      "Model weights saved in ../models/checkpoint-58/pytorch_model.bin\n",
      "***** Running Evaluation *****\n",
      "  Num examples = 76\n",
      "  Batch size = 8\n",
      "Saving model checkpoint to ../models/checkpoint-87\n",
      "Configuration saved in ../models/checkpoint-87/config.json\n",
      "Model weights saved in ../models/checkpoint-87/pytorch_model.bin\n",
      "***** Running Evaluation *****\n",
      "  Num examples = 76\n",
      "  Batch size = 8\n",
      "Saving model checkpoint to ../models/checkpoint-116\n",
      "Configuration saved in ../models/checkpoint-116/config.json\n",
      "Model weights saved in ../models/checkpoint-116/pytorch_model.bin\n",
      "***** Running Evaluation *****\n",
      "  Num examples = 76\n",
      "  Batch size = 8\n",
      "Saving model checkpoint to ../models/checkpoint-145\n",
      "Configuration saved in ../models/checkpoint-145/config.json\n",
      "Model weights saved in ../models/checkpoint-145/pytorch_model.bin\n"
     ]
    },
    {
     "ename": "RuntimeError",
     "evalue": "[enforce fail at inline_container.cc:300] . unexpected pos 34752 vs 34702",
     "output_type": "error",
     "traceback": [
      "\u001b[0;31m---------------------------------------------------------------------------\u001b[0m",
      "\u001b[0;31mOSError\u001b[0m                                   Traceback (most recent call last)",
      "\u001b[0;32m~/opt/anaconda3/envs/capstone/lib/python3.7/site-packages/torch/serialization.py\u001b[0m in \u001b[0;36msave\u001b[0;34m(obj, f, pickle_module, pickle_protocol, _use_new_zipfile_serialization)\u001b[0m\n\u001b[1;32m    378\u001b[0m             \u001b[0;32mwith\u001b[0m \u001b[0m_open_zipfile_writer\u001b[0m\u001b[0;34m(\u001b[0m\u001b[0mopened_file\u001b[0m\u001b[0;34m)\u001b[0m \u001b[0;32mas\u001b[0m \u001b[0mopened_zipfile\u001b[0m\u001b[0;34m:\u001b[0m\u001b[0;34m\u001b[0m\u001b[0;34m\u001b[0m\u001b[0m\n\u001b[0;32m--> 379\u001b[0;31m                 \u001b[0m_save\u001b[0m\u001b[0;34m(\u001b[0m\u001b[0mobj\u001b[0m\u001b[0;34m,\u001b[0m \u001b[0mopened_zipfile\u001b[0m\u001b[0;34m,\u001b[0m \u001b[0mpickle_module\u001b[0m\u001b[0;34m,\u001b[0m \u001b[0mpickle_protocol\u001b[0m\u001b[0;34m)\u001b[0m\u001b[0;34m\u001b[0m\u001b[0;34m\u001b[0m\u001b[0m\n\u001b[0m\u001b[1;32m    380\u001b[0m                 \u001b[0;32mreturn\u001b[0m\u001b[0;34m\u001b[0m\u001b[0;34m\u001b[0m\u001b[0m\n",
      "\u001b[0;32m~/opt/anaconda3/envs/capstone/lib/python3.7/site-packages/torch/serialization.py\u001b[0m in \u001b[0;36m_save\u001b[0;34m(obj, zip_file, pickle_module, pickle_protocol)\u001b[0m\n\u001b[1;32m    498\u001b[0m         \u001b[0mnum_bytes\u001b[0m \u001b[0;34m=\u001b[0m \u001b[0mstorage\u001b[0m\u001b[0;34m.\u001b[0m\u001b[0msize\u001b[0m\u001b[0;34m(\u001b[0m\u001b[0;34m)\u001b[0m \u001b[0;34m*\u001b[0m \u001b[0mstorage\u001b[0m\u001b[0;34m.\u001b[0m\u001b[0melement_size\u001b[0m\u001b[0;34m(\u001b[0m\u001b[0;34m)\u001b[0m\u001b[0;34m\u001b[0m\u001b[0;34m\u001b[0m\u001b[0m\n\u001b[0;32m--> 499\u001b[0;31m         \u001b[0mzip_file\u001b[0m\u001b[0;34m.\u001b[0m\u001b[0mwrite_record\u001b[0m\u001b[0;34m(\u001b[0m\u001b[0mname\u001b[0m\u001b[0;34m,\u001b[0m \u001b[0mstorage\u001b[0m\u001b[0;34m.\u001b[0m\u001b[0mdata_ptr\u001b[0m\u001b[0;34m(\u001b[0m\u001b[0;34m)\u001b[0m\u001b[0;34m,\u001b[0m \u001b[0mnum_bytes\u001b[0m\u001b[0;34m)\u001b[0m\u001b[0;34m\u001b[0m\u001b[0;34m\u001b[0m\u001b[0m\n\u001b[0m\u001b[1;32m    500\u001b[0m \u001b[0;34m\u001b[0m\u001b[0m\n",
      "\u001b[0;31mOSError\u001b[0m: [Errno 28] No space left on device",
      "\nDuring handling of the above exception, another exception occurred:\n",
      "\u001b[0;31mRuntimeError\u001b[0m                              Traceback (most recent call last)",
      "\u001b[0;32m/var/folders/j5/540q0bw12gx3g56qg4llbmlh0000gn/T/ipykernel_49589/3347766774.py\u001b[0m in \u001b[0;36m<module>\u001b[0;34m\u001b[0m\n\u001b[1;32m     17\u001b[0m )\n\u001b[1;32m     18\u001b[0m \u001b[0;34m\u001b[0m\u001b[0m\n\u001b[0;32m---> 19\u001b[0;31m \u001b[0mxlmr_trainer\u001b[0m\u001b[0;34m.\u001b[0m\u001b[0mtrain\u001b[0m\u001b[0;34m(\u001b[0m\u001b[0;34m)\u001b[0m\u001b[0;34m\u001b[0m\u001b[0;34m\u001b[0m\u001b[0m\n\u001b[0m",
      "\u001b[0;32m~/opt/anaconda3/envs/capstone/lib/python3.7/site-packages/transformers/trainer.py\u001b[0m in \u001b[0;36mtrain\u001b[0;34m(self, resume_from_checkpoint, trial, **kwargs)\u001b[0m\n\u001b[1;32m   1329\u001b[0m \u001b[0;34m\u001b[0m\u001b[0m\n\u001b[1;32m   1330\u001b[0m             \u001b[0mself\u001b[0m\u001b[0;34m.\u001b[0m\u001b[0mcontrol\u001b[0m \u001b[0;34m=\u001b[0m \u001b[0mself\u001b[0m\u001b[0;34m.\u001b[0m\u001b[0mcallback_handler\u001b[0m\u001b[0;34m.\u001b[0m\u001b[0mon_epoch_end\u001b[0m\u001b[0;34m(\u001b[0m\u001b[0margs\u001b[0m\u001b[0;34m,\u001b[0m \u001b[0mself\u001b[0m\u001b[0;34m.\u001b[0m\u001b[0mstate\u001b[0m\u001b[0;34m,\u001b[0m \u001b[0mself\u001b[0m\u001b[0;34m.\u001b[0m\u001b[0mcontrol\u001b[0m\u001b[0;34m)\u001b[0m\u001b[0;34m\u001b[0m\u001b[0;34m\u001b[0m\u001b[0m\n\u001b[0;32m-> 1331\u001b[0;31m             \u001b[0mself\u001b[0m\u001b[0;34m.\u001b[0m\u001b[0m_maybe_log_save_evaluate\u001b[0m\u001b[0;34m(\u001b[0m\u001b[0mtr_loss\u001b[0m\u001b[0;34m,\u001b[0m \u001b[0mmodel\u001b[0m\u001b[0;34m,\u001b[0m \u001b[0mtrial\u001b[0m\u001b[0;34m,\u001b[0m \u001b[0mepoch\u001b[0m\u001b[0;34m)\u001b[0m\u001b[0;34m\u001b[0m\u001b[0;34m\u001b[0m\u001b[0m\n\u001b[0m\u001b[1;32m   1332\u001b[0m \u001b[0;34m\u001b[0m\u001b[0m\n\u001b[1;32m   1333\u001b[0m             \u001b[0;32mif\u001b[0m \u001b[0mDebugOption\u001b[0m\u001b[0;34m.\u001b[0m\u001b[0mTPU_METRICS_DEBUG\u001b[0m \u001b[0;32min\u001b[0m \u001b[0mself\u001b[0m\u001b[0;34m.\u001b[0m\u001b[0margs\u001b[0m\u001b[0;34m.\u001b[0m\u001b[0mdebug\u001b[0m\u001b[0;34m:\u001b[0m\u001b[0;34m\u001b[0m\u001b[0;34m\u001b[0m\u001b[0m\n",
      "\u001b[0;32m~/opt/anaconda3/envs/capstone/lib/python3.7/site-packages/transformers/trainer.py\u001b[0m in \u001b[0;36m_maybe_log_save_evaluate\u001b[0;34m(self, tr_loss, model, trial, epoch)\u001b[0m\n\u001b[1;32m   1420\u001b[0m \u001b[0;34m\u001b[0m\u001b[0m\n\u001b[1;32m   1421\u001b[0m         \u001b[0;32mif\u001b[0m \u001b[0mself\u001b[0m\u001b[0;34m.\u001b[0m\u001b[0mcontrol\u001b[0m\u001b[0;34m.\u001b[0m\u001b[0mshould_save\u001b[0m\u001b[0;34m:\u001b[0m\u001b[0;34m\u001b[0m\u001b[0;34m\u001b[0m\u001b[0m\n\u001b[0;32m-> 1422\u001b[0;31m             \u001b[0mself\u001b[0m\u001b[0;34m.\u001b[0m\u001b[0m_save_checkpoint\u001b[0m\u001b[0;34m(\u001b[0m\u001b[0mmodel\u001b[0m\u001b[0;34m,\u001b[0m \u001b[0mtrial\u001b[0m\u001b[0;34m,\u001b[0m \u001b[0mmetrics\u001b[0m\u001b[0;34m=\u001b[0m\u001b[0mmetrics\u001b[0m\u001b[0;34m)\u001b[0m\u001b[0;34m\u001b[0m\u001b[0;34m\u001b[0m\u001b[0m\n\u001b[0m\u001b[1;32m   1423\u001b[0m             \u001b[0mself\u001b[0m\u001b[0;34m.\u001b[0m\u001b[0mcontrol\u001b[0m \u001b[0;34m=\u001b[0m \u001b[0mself\u001b[0m\u001b[0;34m.\u001b[0m\u001b[0mcallback_handler\u001b[0m\u001b[0;34m.\u001b[0m\u001b[0mon_save\u001b[0m\u001b[0;34m(\u001b[0m\u001b[0mself\u001b[0m\u001b[0;34m.\u001b[0m\u001b[0margs\u001b[0m\u001b[0;34m,\u001b[0m \u001b[0mself\u001b[0m\u001b[0;34m.\u001b[0m\u001b[0mstate\u001b[0m\u001b[0;34m,\u001b[0m \u001b[0mself\u001b[0m\u001b[0;34m.\u001b[0m\u001b[0mcontrol\u001b[0m\u001b[0;34m)\u001b[0m\u001b[0;34m\u001b[0m\u001b[0;34m\u001b[0m\u001b[0m\n\u001b[1;32m   1424\u001b[0m \u001b[0;34m\u001b[0m\u001b[0m\n",
      "\u001b[0;32m~/opt/anaconda3/envs/capstone/lib/python3.7/site-packages/transformers/trainer.py\u001b[0m in \u001b[0;36m_save_checkpoint\u001b[0;34m(self, model, trial, metrics)\u001b[0m\n\u001b[1;32m   1510\u001b[0m         \u001b[0;32melif\u001b[0m \u001b[0mself\u001b[0m\u001b[0;34m.\u001b[0m\u001b[0mis_world_process_zero\u001b[0m\u001b[0;34m(\u001b[0m\u001b[0;34m)\u001b[0m \u001b[0;32mand\u001b[0m \u001b[0;32mnot\u001b[0m \u001b[0mself\u001b[0m\u001b[0;34m.\u001b[0m\u001b[0mdeepspeed\u001b[0m\u001b[0;34m:\u001b[0m\u001b[0;34m\u001b[0m\u001b[0;34m\u001b[0m\u001b[0m\n\u001b[1;32m   1511\u001b[0m             \u001b[0;31m# deepspeed.save_checkpoint above saves model/optim/sched\u001b[0m\u001b[0;34m\u001b[0m\u001b[0;34m\u001b[0m\u001b[0;34m\u001b[0m\u001b[0m\n\u001b[0;32m-> 1512\u001b[0;31m             \u001b[0mtorch\u001b[0m\u001b[0;34m.\u001b[0m\u001b[0msave\u001b[0m\u001b[0;34m(\u001b[0m\u001b[0mself\u001b[0m\u001b[0;34m.\u001b[0m\u001b[0moptimizer\u001b[0m\u001b[0;34m.\u001b[0m\u001b[0mstate_dict\u001b[0m\u001b[0;34m(\u001b[0m\u001b[0;34m)\u001b[0m\u001b[0;34m,\u001b[0m \u001b[0mos\u001b[0m\u001b[0;34m.\u001b[0m\u001b[0mpath\u001b[0m\u001b[0;34m.\u001b[0m\u001b[0mjoin\u001b[0m\u001b[0;34m(\u001b[0m\u001b[0moutput_dir\u001b[0m\u001b[0;34m,\u001b[0m \u001b[0;34m\"optimizer.pt\"\u001b[0m\u001b[0;34m)\u001b[0m\u001b[0;34m)\u001b[0m\u001b[0;34m\u001b[0m\u001b[0;34m\u001b[0m\u001b[0m\n\u001b[0m\u001b[1;32m   1513\u001b[0m             \u001b[0;32mwith\u001b[0m \u001b[0mwarnings\u001b[0m\u001b[0;34m.\u001b[0m\u001b[0mcatch_warnings\u001b[0m\u001b[0;34m(\u001b[0m\u001b[0mrecord\u001b[0m\u001b[0;34m=\u001b[0m\u001b[0;32mTrue\u001b[0m\u001b[0;34m)\u001b[0m \u001b[0;32mas\u001b[0m \u001b[0mcaught_warnings\u001b[0m\u001b[0;34m:\u001b[0m\u001b[0;34m\u001b[0m\u001b[0;34m\u001b[0m\u001b[0m\n\u001b[1;32m   1514\u001b[0m                 \u001b[0mtorch\u001b[0m\u001b[0;34m.\u001b[0m\u001b[0msave\u001b[0m\u001b[0;34m(\u001b[0m\u001b[0mself\u001b[0m\u001b[0;34m.\u001b[0m\u001b[0mlr_scheduler\u001b[0m\u001b[0;34m.\u001b[0m\u001b[0mstate_dict\u001b[0m\u001b[0;34m(\u001b[0m\u001b[0;34m)\u001b[0m\u001b[0;34m,\u001b[0m \u001b[0mos\u001b[0m\u001b[0;34m.\u001b[0m\u001b[0mpath\u001b[0m\u001b[0;34m.\u001b[0m\u001b[0mjoin\u001b[0m\u001b[0;34m(\u001b[0m\u001b[0moutput_dir\u001b[0m\u001b[0;34m,\u001b[0m \u001b[0;34m\"scheduler.pt\"\u001b[0m\u001b[0;34m)\u001b[0m\u001b[0;34m)\u001b[0m\u001b[0;34m\u001b[0m\u001b[0;34m\u001b[0m\u001b[0m\n",
      "\u001b[0;32m~/opt/anaconda3/envs/capstone/lib/python3.7/site-packages/torch/serialization.py\u001b[0m in \u001b[0;36msave\u001b[0;34m(obj, f, pickle_module, pickle_protocol, _use_new_zipfile_serialization)\u001b[0m\n\u001b[1;32m    378\u001b[0m             \u001b[0;32mwith\u001b[0m \u001b[0m_open_zipfile_writer\u001b[0m\u001b[0;34m(\u001b[0m\u001b[0mopened_file\u001b[0m\u001b[0;34m)\u001b[0m \u001b[0;32mas\u001b[0m \u001b[0mopened_zipfile\u001b[0m\u001b[0;34m:\u001b[0m\u001b[0;34m\u001b[0m\u001b[0;34m\u001b[0m\u001b[0m\n\u001b[1;32m    379\u001b[0m                 \u001b[0m_save\u001b[0m\u001b[0;34m(\u001b[0m\u001b[0mobj\u001b[0m\u001b[0;34m,\u001b[0m \u001b[0mopened_zipfile\u001b[0m\u001b[0;34m,\u001b[0m \u001b[0mpickle_module\u001b[0m\u001b[0;34m,\u001b[0m \u001b[0mpickle_protocol\u001b[0m\u001b[0;34m)\u001b[0m\u001b[0;34m\u001b[0m\u001b[0;34m\u001b[0m\u001b[0m\n\u001b[0;32m--> 380\u001b[0;31m                 \u001b[0;32mreturn\u001b[0m\u001b[0;34m\u001b[0m\u001b[0;34m\u001b[0m\u001b[0m\n\u001b[0m\u001b[1;32m    381\u001b[0m         \u001b[0m_legacy_save\u001b[0m\u001b[0;34m(\u001b[0m\u001b[0mobj\u001b[0m\u001b[0;34m,\u001b[0m \u001b[0mopened_file\u001b[0m\u001b[0;34m,\u001b[0m \u001b[0mpickle_module\u001b[0m\u001b[0;34m,\u001b[0m \u001b[0mpickle_protocol\u001b[0m\u001b[0;34m)\u001b[0m\u001b[0;34m\u001b[0m\u001b[0;34m\u001b[0m\u001b[0m\n\u001b[1;32m    382\u001b[0m \u001b[0;34m\u001b[0m\u001b[0m\n",
      "\u001b[0;32m~/opt/anaconda3/envs/capstone/lib/python3.7/site-packages/torch/serialization.py\u001b[0m in \u001b[0;36m__exit__\u001b[0;34m(self, *args)\u001b[0m\n\u001b[1;32m    257\u001b[0m \u001b[0;34m\u001b[0m\u001b[0m\n\u001b[1;32m    258\u001b[0m     \u001b[0;32mdef\u001b[0m \u001b[0m__exit__\u001b[0m\u001b[0;34m(\u001b[0m\u001b[0mself\u001b[0m\u001b[0;34m,\u001b[0m \u001b[0;34m*\u001b[0m\u001b[0margs\u001b[0m\u001b[0;34m)\u001b[0m \u001b[0;34m->\u001b[0m \u001b[0;32mNone\u001b[0m\u001b[0;34m:\u001b[0m\u001b[0;34m\u001b[0m\u001b[0;34m\u001b[0m\u001b[0m\n\u001b[0;32m--> 259\u001b[0;31m         \u001b[0mself\u001b[0m\u001b[0;34m.\u001b[0m\u001b[0mfile_like\u001b[0m\u001b[0;34m.\u001b[0m\u001b[0mwrite_end_of_file\u001b[0m\u001b[0;34m(\u001b[0m\u001b[0;34m)\u001b[0m\u001b[0;34m\u001b[0m\u001b[0;34m\u001b[0m\u001b[0m\n\u001b[0m\u001b[1;32m    260\u001b[0m         \u001b[0mself\u001b[0m\u001b[0;34m.\u001b[0m\u001b[0mbuffer\u001b[0m\u001b[0;34m.\u001b[0m\u001b[0mflush\u001b[0m\u001b[0;34m(\u001b[0m\u001b[0;34m)\u001b[0m\u001b[0;34m\u001b[0m\u001b[0;34m\u001b[0m\u001b[0m\n\u001b[1;32m    261\u001b[0m \u001b[0;34m\u001b[0m\u001b[0m\n",
      "\u001b[0;31mRuntimeError\u001b[0m: [enforce fail at inline_container.cc:300] . unexpected pos 34752 vs 34702"
     ]
    }
   ],
   "source": [
    "#Define the training parameters\n",
    "xlmr_training_args = TrainingArguments(\n",
    "    output_dir                  = \"../models\",\n",
    "    num_train_epochs            = 10,\n",
    "    save_strategy               = \"epoch\",\n",
    "    logging_strategy            = \"epoch\",\n",
    "    evaluation_strategy         = \"epoch\"\n",
    ")\n",
    "\n",
    "#Define Trainer object\n",
    "xlmr_trainer = Trainer(\n",
    "    model           = xlmr_model,\n",
    "    args            = xlmr_training_args,\n",
    "    train_dataset   = train_set_dataset,\n",
    "    eval_dataset    = val_set_dataset,\n",
    "    compute_metrics = compute_metrics\n",
    ")\n",
    "\n",
    "xlmr_trainer.train()"
   ]
  },
  {
   "cell_type": "code",
   "execution_count": 41,
   "id": "afda9ce2-c6c4-4c94-872d-1f7d3b40a6ca",
   "metadata": {},
   "outputs": [
    {
     "name": "stderr",
     "output_type": "stream",
     "text": [
      "Loading model from ../models/checkpoint-145).\n",
      "***** Running training *****\n",
      "  Num examples = 225\n",
      "  Num Epochs = 10\n",
      "  Instantaneous batch size per device = 8\n",
      "  Total train batch size (w. parallel, distributed & accumulation) = 8\n",
      "  Gradient Accumulation steps = 1\n",
      "  Total optimization steps = 290\n"
     ]
    },
    {
     "data": {
      "text/html": [
       "\n",
       "    <div>\n",
       "      \n",
       "      <progress value='290' max='290' style='width:300px; height:20px; vertical-align: middle;'></progress>\n",
       "      [290/290 1:14:03, Epoch 10/10]\n",
       "    </div>\n",
       "    <table border=\"1\" class=\"dataframe\">\n",
       "  <thead>\n",
       "    <tr style=\"text-align: left;\">\n",
       "      <th>Epoch</th>\n",
       "      <th>Training Loss</th>\n",
       "      <th>Validation Loss</th>\n",
       "      <th>F1</th>\n",
       "      <th>Precision</th>\n",
       "      <th>Recall</th>\n",
       "      <th>Accuracy</th>\n",
       "    </tr>\n",
       "  </thead>\n",
       "  <tbody>\n",
       "    <tr>\n",
       "      <td>1</td>\n",
       "      <td>0.001000</td>\n",
       "      <td>1.202486</td>\n",
       "      <td>0.693616</td>\n",
       "      <td>0.765023</td>\n",
       "      <td>0.663508</td>\n",
       "      <td>0.815789</td>\n",
       "    </tr>\n",
       "    <tr>\n",
       "      <td>2</td>\n",
       "      <td>0.000900</td>\n",
       "      <td>1.262526</td>\n",
       "      <td>0.770091</td>\n",
       "      <td>0.873432</td>\n",
       "      <td>0.723658</td>\n",
       "      <td>0.828947</td>\n",
       "    </tr>\n",
       "    <tr>\n",
       "      <td>3</td>\n",
       "      <td>0.000600</td>\n",
       "      <td>1.353332</td>\n",
       "      <td>0.752525</td>\n",
       "      <td>0.852910</td>\n",
       "      <td>0.708154</td>\n",
       "      <td>0.802632</td>\n",
       "    </tr>\n",
       "    <tr>\n",
       "      <td>4</td>\n",
       "      <td>0.000500</td>\n",
       "      <td>1.322164</td>\n",
       "      <td>0.770091</td>\n",
       "      <td>0.873432</td>\n",
       "      <td>0.723658</td>\n",
       "      <td>0.828947</td>\n",
       "    </tr>\n",
       "    <tr>\n",
       "      <td>5</td>\n",
       "      <td>0.000500</td>\n",
       "      <td>1.324350</td>\n",
       "      <td>0.770091</td>\n",
       "      <td>0.873432</td>\n",
       "      <td>0.723658</td>\n",
       "      <td>0.828947</td>\n",
       "    </tr>\n",
       "    <tr>\n",
       "      <td>6</td>\n",
       "      <td>0.000500</td>\n",
       "      <td>1.324350</td>\n",
       "      <td>0.770091</td>\n",
       "      <td>0.873432</td>\n",
       "      <td>0.723658</td>\n",
       "      <td>0.828947</td>\n",
       "    </tr>\n",
       "    <tr>\n",
       "      <td>7</td>\n",
       "      <td>0.000500</td>\n",
       "      <td>1.324350</td>\n",
       "      <td>0.770091</td>\n",
       "      <td>0.873432</td>\n",
       "      <td>0.723658</td>\n",
       "      <td>0.828947</td>\n",
       "    </tr>\n",
       "    <tr>\n",
       "      <td>8</td>\n",
       "      <td>0.000500</td>\n",
       "      <td>1.324350</td>\n",
       "      <td>0.770091</td>\n",
       "      <td>0.873432</td>\n",
       "      <td>0.723658</td>\n",
       "      <td>0.828947</td>\n",
       "    </tr>\n",
       "    <tr>\n",
       "      <td>9</td>\n",
       "      <td>0.000500</td>\n",
       "      <td>1.324350</td>\n",
       "      <td>0.770091</td>\n",
       "      <td>0.873432</td>\n",
       "      <td>0.723658</td>\n",
       "      <td>0.828947</td>\n",
       "    </tr>\n",
       "    <tr>\n",
       "      <td>10</td>\n",
       "      <td>0.000500</td>\n",
       "      <td>1.324350</td>\n",
       "      <td>0.770091</td>\n",
       "      <td>0.873432</td>\n",
       "      <td>0.723658</td>\n",
       "      <td>0.828947</td>\n",
       "    </tr>\n",
       "  </tbody>\n",
       "</table><p>"
      ],
      "text/plain": [
       "<IPython.core.display.HTML object>"
      ]
     },
     "metadata": {},
     "output_type": "display_data"
    },
    {
     "name": "stderr",
     "output_type": "stream",
     "text": [
      "***** Running Evaluation *****\n",
      "  Num examples = 76\n",
      "  Batch size = 8\n",
      "Saving model checkpoint to ../models/checkpoint-29\n",
      "Configuration saved in ../models/checkpoint-29/config.json\n",
      "Model weights saved in ../models/checkpoint-29/pytorch_model.bin\n",
      "***** Running Evaluation *****\n",
      "  Num examples = 76\n",
      "  Batch size = 8\n",
      "Saving model checkpoint to ../models/checkpoint-58\n",
      "Configuration saved in ../models/checkpoint-58/config.json\n",
      "Model weights saved in ../models/checkpoint-58/pytorch_model.bin\n",
      "***** Running Evaluation *****\n",
      "  Num examples = 76\n",
      "  Batch size = 8\n",
      "Saving model checkpoint to ../models/checkpoint-87\n",
      "Configuration saved in ../models/checkpoint-87/config.json\n",
      "Model weights saved in ../models/checkpoint-87/pytorch_model.bin\n",
      "***** Running Evaluation *****\n",
      "  Num examples = 76\n",
      "  Batch size = 8\n",
      "Saving model checkpoint to ../models/checkpoint-116\n",
      "Configuration saved in ../models/checkpoint-116/config.json\n",
      "Model weights saved in ../models/checkpoint-116/pytorch_model.bin\n",
      "***** Running Evaluation *****\n",
      "  Num examples = 76\n",
      "  Batch size = 8\n",
      "Saving model checkpoint to ../models/checkpoint-145\n",
      "Configuration saved in ../models/checkpoint-145/config.json\n",
      "Model weights saved in ../models/checkpoint-145/pytorch_model.bin\n",
      "***** Running Evaluation *****\n",
      "  Num examples = 76\n",
      "  Batch size = 8\n",
      "Saving model checkpoint to ../models/checkpoint-174\n",
      "Configuration saved in ../models/checkpoint-174/config.json\n",
      "Model weights saved in ../models/checkpoint-174/pytorch_model.bin\n",
      "***** Running Evaluation *****\n",
      "  Num examples = 76\n",
      "  Batch size = 8\n",
      "Saving model checkpoint to ../models/checkpoint-203\n",
      "Configuration saved in ../models/checkpoint-203/config.json\n",
      "Model weights saved in ../models/checkpoint-203/pytorch_model.bin\n",
      "***** Running Evaluation *****\n",
      "  Num examples = 76\n",
      "  Batch size = 8\n",
      "Saving model checkpoint to ../models/checkpoint-232\n",
      "Configuration saved in ../models/checkpoint-232/config.json\n",
      "Model weights saved in ../models/checkpoint-232/pytorch_model.bin\n",
      "***** Running Evaluation *****\n",
      "  Num examples = 76\n",
      "  Batch size = 8\n",
      "Saving model checkpoint to ../models/checkpoint-261\n",
      "Configuration saved in ../models/checkpoint-261/config.json\n",
      "Model weights saved in ../models/checkpoint-261/pytorch_model.bin\n",
      "***** Running Evaluation *****\n",
      "  Num examples = 76\n",
      "  Batch size = 8\n",
      "Saving model checkpoint to ../models/checkpoint-290\n",
      "Configuration saved in ../models/checkpoint-290/config.json\n",
      "Model weights saved in ../models/checkpoint-290/pytorch_model.bin\n",
      "\n",
      "\n",
      "Training completed. Do not forget to share your model on huggingface.co/models =)\n",
      "\n",
      "\n"
     ]
    },
    {
     "data": {
      "text/plain": [
       "TrainOutput(global_step=290, training_loss=0.0006039278774425901, metrics={'train_runtime': 4474.3565, 'train_samples_per_second': 0.503, 'train_steps_per_second': 0.065, 'total_flos': 480463410240000.0, 'train_loss': 0.0006039278774425901, 'epoch': 10.0})"
      ]
     },
     "execution_count": 41,
     "metadata": {},
     "output_type": "execute_result"
    }
   ],
   "source": [
    "xlmr_trainer.train(\"../models/checkpoint-145\")"
   ]
  },
  {
   "cell_type": "markdown",
   "id": "200a55ac-66f2-48b2-ae14-d624dbacbe9c",
   "metadata": {},
   "source": [
    "#### • Plot train and validation metrics"
   ]
  },
  {
   "cell_type": "code",
   "execution_count": 43,
   "id": "938e6cd0-f69c-4eaf-950d-ea471fc59540",
   "metadata": {},
   "outputs": [],
   "source": [
    "#Get the baseline bertweet's training logs\n",
    "xlmr_history = pd.DataFrame(xlmr_trainer.state.log_history)\n",
    "xlmr_history.to_csv(\"../models/logs/xlmr_logs.csv\",index=False)\n",
    "xlmr_history = xlmr_history.fillna(method='bfill', limit=1).drop_duplicates(subset=['epoch','eval_loss'])"
   ]
  },
  {
   "cell_type": "code",
   "execution_count": 44,
   "id": "4b24ea5c-77e9-44eb-8f99-9c2215c8fd14",
   "metadata": {},
   "outputs": [
    {
     "data": {
      "image/png": "[encoded data removed]",
      "text/plain": [
       "<Figure size 1080x648 with 6 Axes>"
      ]
     },
     "metadata": {
      "needs_background": "light"
     },
     "output_type": "display_data"
    }
   ],
   "source": [
    "plt.figure(figsize=(15,9))\n",
    "plt.tight_layout()\n",
    "\n",
    "metrics = ['eval_loss','eval_f1','eval_precision','eval_recall','eval_accuracy','eval_runtime']\n",
    "\n",
    "for idx, metric in enumerate(metrics):\n",
    "    with plt.style.context(['grid']):\n",
    "        ax = plt.subplot(2,3,idx+1).plot(xlmr_history['epoch'],\n",
    "                                    xlmr_history[metric],\n",
    "                                    label='validation')\n",
    "\n",
    "        #Also plot training loss when plotting validation loss\n",
    "        if metric == 'eval_loss':\n",
    "            ax = plt.subplot(2,3,idx+1).plot(xlmr_history['epoch'],\n",
    "                                             xlmr_history['loss'],\n",
    "                                             color = ax[0].get_color(),\n",
    "                                             linestyle= \"--\",\n",
    "                                             label='training')\n",
    "\n",
    "\n",
    "\n",
    "        plt.xlabel('Epoch')\n",
    "        plt.ylabel(metric.replace('eval_','').capitalize())\n",
    "        plt.legend()"
   ]
  },
  {
   "cell_type": "markdown",
   "id": "28c3d173-9795-42a6-a985-a9fbc65fbde2",
   "metadata": {},
   "source": [
    "- Validation loss is really high compared to the trianing loss, suggesting the model is overfitting on the training data. \n",
    "- We see improvement on the metrics compared to original pretrained model, although it's not really huge (5% increase) "
   ]
  },
  {
   "cell_type": "markdown",
   "id": "b642e3a3-4f68-462f-aadd-d9c0e57fd220",
   "metadata": {},
   "source": [
    "#### Validation Results Discussion\n",
    "\n",
    "We see that the best model is the model from epoch 2 above (checkpoint-58), because of its better performance on the validation loss: \n",
    "- **Validation Loss:** 1.262526\n",
    "- **F1:** 0.770091\n",
    "- **Precision:** 0.873432\n",
    "- **Recall:** 0.723658\n",
    "- **Accuracy:** 0.828947\n",
    "\n",
    "We load the model and predict on the test to diagnose what areas it is flawed in:"
   ]
  },
  {
   "cell_type": "markdown",
   "id": "ebd880a7-8375-4bb2-9532-b94343bdcdaf",
   "metadata": {},
   "source": [
    "### 6. Test set Prediction with the Fine-tuned Baseline XLMR-roBERTa"
   ]
  },
  {
   "cell_type": "code",
   "execution_count": 17,
   "id": "7abcbeb3-544c-418e-84d2-906a136d47ac",
   "metadata": {},
   "outputs": [
    {
     "name": "stderr",
     "output_type": "stream",
     "text": [
      "***** Running Prediction *****\n",
      "  Num examples = 76\n",
      "  Batch size = 8\n"
     ]
    },
    {
     "data": {
      "text/html": [
       "\n",
       "    <div>\n",
       "      \n",
       "      <progress value='10' max='10' style='width:300px; height:20px; vertical-align: middle;'></progress>\n",
       "      [10/10 00:17]\n",
       "    </div>\n",
       "    "
      ],
      "text/plain": [
       "<IPython.core.display.HTML object>"
      ]
     },
     "metadata": {},
     "output_type": "display_data"
    }
   ],
   "source": [
    "#Load the best checkpoint\n",
    "baseline_xlmr = AutoModelForSequenceClassification.from_pretrained(\"../models/xlmr-roberta/checkpoint-58\")\n",
    "\n",
    "# Make the test set ready\n",
    "test_set_dataset = Generate_PyTorch_Dataset(\n",
    "    texts    = df.query(\"split_group == 'test_set' \").Text.tolist(),\n",
    "    labels = df.query(\"split_group == 'test_set' \").label.tolist(),\n",
    "    tokenizer  = tokenizer\n",
    ")\n",
    "\n",
    "training_args = TrainingArguments(\n",
    "    output_dir = \"../model_predictions\",\n",
    "    do_predict = True\n",
    ")\n",
    "\n",
    "trainer = Trainer(\n",
    "    model           = baseline_xlmr,\n",
    "    args            = training_args,\n",
    "    compute_metrics = compute_metrics,\n",
    ")\n",
    "\n",
    "bxlmr_test_preds = trainer.predict(test_set_dataset)"
   ]
  },
  {
   "cell_type": "markdown",
   "id": "c4ad4e1d-ae42-411b-ab43-2b5016a7db1f",
   "metadata": {},
   "source": [
    "### 7. Evaluating the model: How well does it classify tweets?"
   ]
  },
  {
   "cell_type": "code",
   "execution_count": 18,
   "id": "33e99eb7-e1de-4834-8e5e-edf812a874d6",
   "metadata": {},
   "outputs": [
    {
     "data": {
      "text/html": [
       "<div>\n",
       "<style scoped>\n",
       "    .dataframe tbody tr th:only-of-type {\n",
       "        vertical-align: middle;\n",
       "    }\n",
       "\n",
       "    .dataframe tbody tr th {\n",
       "        vertical-align: top;\n",
       "    }\n",
       "\n",
       "    .dataframe thead th {\n",
       "        text-align: right;\n",
       "    }\n",
       "</style>\n",
       "<table border=\"1\" class=\"dataframe\">\n",
       "  <thead>\n",
       "    <tr style=\"text-align: right;\">\n",
       "      <th></th>\n",
       "      <th>test_loss</th>\n",
       "      <th>test_f1</th>\n",
       "      <th>test_precision</th>\n",
       "      <th>test_recall</th>\n",
       "      <th>test_accuracy</th>\n",
       "      <th>test_runtime</th>\n",
       "      <th>test_samples_per_second</th>\n",
       "      <th>test_steps_per_second</th>\n",
       "    </tr>\n",
       "  </thead>\n",
       "  <tbody>\n",
       "    <tr>\n",
       "      <th>0</th>\n",
       "      <td>1.596158</td>\n",
       "      <td>0.67707</td>\n",
       "      <td>0.738889</td>\n",
       "      <td>0.653069</td>\n",
       "      <td>0.776316</td>\n",
       "      <td>19.8694</td>\n",
       "      <td>3.825</td>\n",
       "      <td>0.503</td>\n",
       "    </tr>\n",
       "  </tbody>\n",
       "</table>\n",
       "</div>"
      ],
      "text/plain": [
       "   test_loss  test_f1  test_precision  test_recall  test_accuracy  \\\n",
       "0   1.596158  0.67707        0.738889     0.653069       0.776316   \n",
       "\n",
       "   test_runtime  test_samples_per_second  test_steps_per_second  \n",
       "0       19.8694                    3.825                  0.503  "
      ]
     },
     "execution_count": 18,
     "metadata": {},
     "output_type": "execute_result"
    }
   ],
   "source": [
    "pd.DataFrame([bxlmr_test_preds[-1]])"
   ]
  },
  {
   "cell_type": "code",
   "execution_count": 19,
   "id": "b5ca4246-74eb-4a8b-9245-6048cbdf2925",
   "metadata": {},
   "outputs": [
    {
     "name": "stdout",
     "output_type": "stream",
     "text": [
      "              precision    recall  f1-score   support\n",
      "\n",
      "           0       0.80      0.82      0.81        44\n",
      "           1       0.75      0.81      0.78        26\n",
      "           2       0.67      0.33      0.44         6\n",
      "\n",
      "    accuracy                           0.78        76\n",
      "   macro avg       0.74      0.65      0.68        76\n",
      "weighted avg       0.77      0.78      0.77        76\n",
      "\n"
     ]
    }
   ],
   "source": [
    "y_true = df.query(\"split_group == 'test_set' \").label.tolist()\n",
    "bxlmr_preds = np.argmax(bxlmr_test_preds[0], axis=1).flatten()\n",
    "\n",
    "print(classification_report(y_true, bxlmr_preds))"
   ]
  },
  {
   "cell_type": "code",
   "execution_count": 21,
   "id": "bde0bf56-2806-4182-a952-6687ad825cb1",
   "metadata": {},
   "outputs": [],
   "source": [
    "bxlmr_cm = confusion_matrix(y_true, bxlmr_preds)\n",
    "bxlmr_disp = ConfusionMatrixDisplay(confusion_matrix=bxlmr_cm, \n",
    "                                    display_labels = ['Negative', 'Neutral', 'Positive'])"
   ]
  },
  {
   "cell_type": "code",
   "execution_count": 22,
   "id": "074f1b69-2e23-4532-b49a-4cba348af55e",
   "metadata": {},
   "outputs": [
    {
     "data": {
      "image/png": "[encoded data removed]",
      "text/plain": [
       "<Figure size 576x432 with 2 Axes>"
      ]
     },
     "metadata": {
      "needs_background": "light"
     },
     "output_type": "display_data"
    }
   ],
   "source": [
    "with plt.style.context(['notebook','no-latex']):\n",
    "    bxlmr_disp.plot(cmap='Blues',ax=None)\n",
    "    plt.grid(False)\n",
    "    plt.show()"
   ]
  },
  {
   "cell_type": "markdown",
   "id": "ee0d16cf-2790-42f9-8ce8-b2a979096618",
   "metadata": {},
   "source": [
    "#### Pros\n",
    "- Does pretty well identifying negative and neutral predictions\n",
    "- Fairly well on positive samples\n",
    "\n",
    "#### Cons\n",
    "- Over-predicts negative\n",
    "- Overfits on the training data"
   ]
  },
  {
   "cell_type": "markdown",
   "id": "ed121f27-3d13-44cd-92c0-ad00da2b52cd",
   "metadata": {},
   "source": [
    "---"
   ]
  },
  {
   "cell_type": "markdown",
   "id": "216bc3c2-717f-4103-8420-4329fd3c9b41",
   "metadata": {},
   "source": [
    "### 6. XLMR-roBERTa-base\n",
    "**`Increased batch size` | `Loss function class reweighting`**"
   ]
  },
  {
   "cell_type": "markdown",
   "id": "f5271900-39d9-4501-ba92-858954bd0f6f",
   "metadata": {},
   "source": [
    "**Load the XLMR model and fine-tune using Huggingface Trainer**"
   ]
  },
  {
   "cell_type": "markdown",
   "id": "8fdbebf3-9d26-40fb-b500-9ab6d340ec9f",
   "metadata": {},
   "source": [
    "**Setup Trainer and train**"
   ]
  },
  {
   "cell_type": "code",
   "execution_count": 23,
   "id": "df630ee7-22e9-48a7-99f0-720b6d8918de",
   "metadata": {},
   "outputs": [
    {
     "name": "stderr",
     "output_type": "stream",
     "text": [
      "PyTorch: setting up devices\n",
      "The default value for the training argument `--report_to` will change in v5 (from all installed integrations to none). In v5, you will need to use `--report_to all` to get the same behavior as now. You should start updating your code and make this info disappear :-).\n",
      "***** Running training *****\n",
      "  Num examples = 225\n",
      "  Num Epochs = 15\n",
      "  Instantaneous batch size per device = 32\n",
      "  Total train batch size (w. parallel, distributed & accumulation) = 32\n",
      "  Gradient Accumulation steps = 1\n",
      "  Total optimization steps = 120\n"
     ]
    },
    {
     "data": {
      "text/html": [
       "\n",
       "    <div>\n",
       "      \n",
       "      <progress value='120' max='120' style='width:300px; height:20px; vertical-align: middle;'></progress>\n",
       "      [120/120 1:26:44, Epoch 15/15]\n",
       "    </div>\n",
       "    <table border=\"1\" class=\"dataframe\">\n",
       "  <thead>\n",
       "    <tr style=\"text-align: left;\">\n",
       "      <th>Epoch</th>\n",
       "      <th>Training Loss</th>\n",
       "      <th>Validation Loss</th>\n",
       "      <th>F1</th>\n",
       "      <th>Precision</th>\n",
       "      <th>Recall</th>\n",
       "      <th>Accuracy</th>\n",
       "    </tr>\n",
       "  </thead>\n",
       "  <tbody>\n",
       "    <tr>\n",
       "      <td>1</td>\n",
       "      <td>0.611800</td>\n",
       "      <td>0.572164</td>\n",
       "      <td>0.721598</td>\n",
       "      <td>0.726449</td>\n",
       "      <td>0.718920</td>\n",
       "      <td>0.763158</td>\n",
       "    </tr>\n",
       "    <tr>\n",
       "      <td>2</td>\n",
       "      <td>0.598700</td>\n",
       "      <td>0.566294</td>\n",
       "      <td>0.709630</td>\n",
       "      <td>0.716518</td>\n",
       "      <td>0.706575</td>\n",
       "      <td>0.750000</td>\n",
       "    </tr>\n",
       "    <tr>\n",
       "      <td>3</td>\n",
       "      <td>0.597600</td>\n",
       "      <td>0.562052</td>\n",
       "      <td>0.709630</td>\n",
       "      <td>0.716518</td>\n",
       "      <td>0.706575</td>\n",
       "      <td>0.750000</td>\n",
       "    </tr>\n",
       "    <tr>\n",
       "      <td>4</td>\n",
       "      <td>0.589400</td>\n",
       "      <td>0.562147</td>\n",
       "      <td>0.718298</td>\n",
       "      <td>0.728535</td>\n",
       "      <td>0.714327</td>\n",
       "      <td>0.763158</td>\n",
       "    </tr>\n",
       "    <tr>\n",
       "      <td>5</td>\n",
       "      <td>0.611200</td>\n",
       "      <td>0.556739</td>\n",
       "      <td>0.718298</td>\n",
       "      <td>0.728535</td>\n",
       "      <td>0.714327</td>\n",
       "      <td>0.763158</td>\n",
       "    </tr>\n",
       "    <tr>\n",
       "      <td>6</td>\n",
       "      <td>0.680200</td>\n",
       "      <td>0.552175</td>\n",
       "      <td>0.721598</td>\n",
       "      <td>0.726449</td>\n",
       "      <td>0.718920</td>\n",
       "      <td>0.763158</td>\n",
       "    </tr>\n",
       "    <tr>\n",
       "      <td>7</td>\n",
       "      <td>0.414900</td>\n",
       "      <td>0.552034</td>\n",
       "      <td>0.721598</td>\n",
       "      <td>0.726449</td>\n",
       "      <td>0.718920</td>\n",
       "      <td>0.763158</td>\n",
       "    </tr>\n",
       "    <tr>\n",
       "      <td>8</td>\n",
       "      <td>0.367300</td>\n",
       "      <td>0.540717</td>\n",
       "      <td>0.737527</td>\n",
       "      <td>0.761449</td>\n",
       "      <td>0.718920</td>\n",
       "      <td>0.763158</td>\n",
       "    </tr>\n",
       "    <tr>\n",
       "      <td>9</td>\n",
       "      <td>0.365700</td>\n",
       "      <td>0.534294</td>\n",
       "      <td>0.721598</td>\n",
       "      <td>0.726449</td>\n",
       "      <td>0.718920</td>\n",
       "      <td>0.763158</td>\n",
       "    </tr>\n",
       "    <tr>\n",
       "      <td>10</td>\n",
       "      <td>0.271800</td>\n",
       "      <td>0.559085</td>\n",
       "      <td>0.746128</td>\n",
       "      <td>0.772281</td>\n",
       "      <td>0.726672</td>\n",
       "      <td>0.776316</td>\n",
       "    </tr>\n",
       "    <tr>\n",
       "      <td>11</td>\n",
       "      <td>0.218900</td>\n",
       "      <td>0.645946</td>\n",
       "      <td>0.721598</td>\n",
       "      <td>0.823671</td>\n",
       "      <td>0.675711</td>\n",
       "      <td>0.763158</td>\n",
       "    </tr>\n",
       "    <tr>\n",
       "      <td>12</td>\n",
       "      <td>0.197500</td>\n",
       "      <td>0.676263</td>\n",
       "      <td>0.730119</td>\n",
       "      <td>0.833606</td>\n",
       "      <td>0.683463</td>\n",
       "      <td>0.776316</td>\n",
       "    </tr>\n",
       "    <tr>\n",
       "      <td>13</td>\n",
       "      <td>0.136600</td>\n",
       "      <td>0.634980</td>\n",
       "      <td>0.746128</td>\n",
       "      <td>0.772281</td>\n",
       "      <td>0.726672</td>\n",
       "      <td>0.776316</td>\n",
       "    </tr>\n",
       "    <tr>\n",
       "      <td>14</td>\n",
       "      <td>0.102000</td>\n",
       "      <td>0.707790</td>\n",
       "      <td>0.730119</td>\n",
       "      <td>0.833606</td>\n",
       "      <td>0.683463</td>\n",
       "      <td>0.776316</td>\n",
       "    </tr>\n",
       "    <tr>\n",
       "      <td>15</td>\n",
       "      <td>0.057700</td>\n",
       "      <td>0.767770</td>\n",
       "      <td>0.735627</td>\n",
       "      <td>0.846377</td>\n",
       "      <td>0.686621</td>\n",
       "      <td>0.789474</td>\n",
       "    </tr>\n",
       "  </tbody>\n",
       "</table><p>"
      ],
      "text/plain": [
       "<IPython.core.display.HTML object>"
      ]
     },
     "metadata": {},
     "output_type": "display_data"
    },
    {
     "name": "stderr",
     "output_type": "stream",
     "text": [
      "***** Running Evaluation *****\n",
      "  Num examples = 76\n",
      "  Batch size = 8\n",
      "Saving model checkpoint to ../models/xlmr-roberta/checkpoint-8\n",
      "Configuration saved in ../models/xlmr-roberta/checkpoint-8/config.json\n",
      "Model weights saved in ../models/xlmr-roberta/checkpoint-8/pytorch_model.bin\n",
      "***** Running Evaluation *****\n",
      "  Num examples = 76\n",
      "  Batch size = 8\n",
      "Saving model checkpoint to ../models/xlmr-roberta/checkpoint-16\n",
      "Configuration saved in ../models/xlmr-roberta/checkpoint-16/config.json\n",
      "Model weights saved in ../models/xlmr-roberta/checkpoint-16/pytorch_model.bin\n",
      "Deleting older checkpoint [../models/xlmr-roberta/checkpoint-58] due to args.save_total_limit\n",
      "***** Running Evaluation *****\n",
      "  Num examples = 76\n",
      "  Batch size = 8\n",
      "Saving model checkpoint to ../models/xlmr-roberta/checkpoint-24\n",
      "Configuration saved in ../models/xlmr-roberta/checkpoint-24/config.json\n",
      "Model weights saved in ../models/xlmr-roberta/checkpoint-24/pytorch_model.bin\n",
      "Deleting older checkpoint [../models/xlmr-roberta/checkpoint-16] due to args.save_total_limit\n",
      "***** Running Evaluation *****\n",
      "  Num examples = 76\n",
      "  Batch size = 8\n",
      "Saving model checkpoint to ../models/xlmr-roberta/checkpoint-32\n",
      "Configuration saved in ../models/xlmr-roberta/checkpoint-32/config.json\n",
      "Model weights saved in ../models/xlmr-roberta/checkpoint-32/pytorch_model.bin\n",
      "Deleting older checkpoint [../models/xlmr-roberta/checkpoint-24] due to args.save_total_limit\n",
      "***** Running Evaluation *****\n",
      "  Num examples = 76\n",
      "  Batch size = 8\n",
      "Saving model checkpoint to ../models/xlmr-roberta/checkpoint-40\n",
      "Configuration saved in ../models/xlmr-roberta/checkpoint-40/config.json\n",
      "Model weights saved in ../models/xlmr-roberta/checkpoint-40/pytorch_model.bin\n",
      "Deleting older checkpoint [../models/xlmr-roberta/checkpoint-32] due to args.save_total_limit\n",
      "***** Running Evaluation *****\n",
      "  Num examples = 76\n",
      "  Batch size = 8\n",
      "Saving model checkpoint to ../models/xlmr-roberta/checkpoint-48\n",
      "Configuration saved in ../models/xlmr-roberta/checkpoint-48/config.json\n",
      "Model weights saved in ../models/xlmr-roberta/checkpoint-48/pytorch_model.bin\n",
      "Deleting older checkpoint [../models/xlmr-roberta/checkpoint-40] due to args.save_total_limit\n",
      "***** Running Evaluation *****\n",
      "  Num examples = 76\n",
      "  Batch size = 8\n",
      "Saving model checkpoint to ../models/xlmr-roberta/checkpoint-56\n",
      "Configuration saved in ../models/xlmr-roberta/checkpoint-56/config.json\n",
      "Model weights saved in ../models/xlmr-roberta/checkpoint-56/pytorch_model.bin\n",
      "Deleting older checkpoint [../models/xlmr-roberta/checkpoint-48] due to args.save_total_limit\n",
      "***** Running Evaluation *****\n",
      "  Num examples = 76\n",
      "  Batch size = 8\n",
      "Saving model checkpoint to ../models/xlmr-roberta/checkpoint-64\n",
      "Configuration saved in ../models/xlmr-roberta/checkpoint-64/config.json\n",
      "Model weights saved in ../models/xlmr-roberta/checkpoint-64/pytorch_model.bin\n",
      "Deleting older checkpoint [../models/xlmr-roberta/checkpoint-8] due to args.save_total_limit\n",
      "***** Running Evaluation *****\n",
      "  Num examples = 76\n",
      "  Batch size = 8\n",
      "Saving model checkpoint to ../models/xlmr-roberta/checkpoint-72\n",
      "Configuration saved in ../models/xlmr-roberta/checkpoint-72/config.json\n",
      "Model weights saved in ../models/xlmr-roberta/checkpoint-72/pytorch_model.bin\n",
      "Deleting older checkpoint [../models/xlmr-roberta/checkpoint-56] due to args.save_total_limit\n",
      "***** Running Evaluation *****\n",
      "  Num examples = 76\n",
      "  Batch size = 8\n",
      "Saving model checkpoint to ../models/xlmr-roberta/checkpoint-80\n",
      "Configuration saved in ../models/xlmr-roberta/checkpoint-80/config.json\n",
      "Model weights saved in ../models/xlmr-roberta/checkpoint-80/pytorch_model.bin\n",
      "Deleting older checkpoint [../models/xlmr-roberta/checkpoint-64] due to args.save_total_limit\n",
      "***** Running Evaluation *****\n",
      "  Num examples = 76\n",
      "  Batch size = 8\n",
      "Saving model checkpoint to ../models/xlmr-roberta/checkpoint-88\n",
      "Configuration saved in ../models/xlmr-roberta/checkpoint-88/config.json\n",
      "Model weights saved in ../models/xlmr-roberta/checkpoint-88/pytorch_model.bin\n",
      "Deleting older checkpoint [../models/xlmr-roberta/checkpoint-72] due to args.save_total_limit\n",
      "***** Running Evaluation *****\n",
      "  Num examples = 76\n",
      "  Batch size = 8\n",
      "Saving model checkpoint to ../models/xlmr-roberta/checkpoint-96\n",
      "Configuration saved in ../models/xlmr-roberta/checkpoint-96/config.json\n",
      "Model weights saved in ../models/xlmr-roberta/checkpoint-96/pytorch_model.bin\n",
      "Deleting older checkpoint [../models/xlmr-roberta/checkpoint-88] due to args.save_total_limit\n",
      "***** Running Evaluation *****\n",
      "  Num examples = 76\n",
      "  Batch size = 8\n",
      "Saving model checkpoint to ../models/xlmr-roberta/checkpoint-104\n",
      "Configuration saved in ../models/xlmr-roberta/checkpoint-104/config.json\n",
      "Model weights saved in ../models/xlmr-roberta/checkpoint-104/pytorch_model.bin\n",
      "Deleting older checkpoint [../models/xlmr-roberta/checkpoint-96] due to args.save_total_limit\n",
      "***** Running Evaluation *****\n",
      "  Num examples = 76\n",
      "  Batch size = 8\n",
      "Saving model checkpoint to ../models/xlmr-roberta/checkpoint-112\n",
      "Configuration saved in ../models/xlmr-roberta/checkpoint-112/config.json\n",
      "Model weights saved in ../models/xlmr-roberta/checkpoint-112/pytorch_model.bin\n",
      "Deleting older checkpoint [../models/xlmr-roberta/checkpoint-104] due to args.save_total_limit\n",
      "***** Running Evaluation *****\n",
      "  Num examples = 76\n",
      "  Batch size = 8\n",
      "Saving model checkpoint to ../models/xlmr-roberta/checkpoint-120\n",
      "Configuration saved in ../models/xlmr-roberta/checkpoint-120/config.json\n",
      "Model weights saved in ../models/xlmr-roberta/checkpoint-120/pytorch_model.bin\n",
      "Deleting older checkpoint [../models/xlmr-roberta/checkpoint-112] due to args.save_total_limit\n",
      "\n",
      "\n",
      "Training completed. Do not forget to share your model on huggingface.co/models =)\n",
      "\n",
      "\n",
      "Loading best model from ../models/xlmr-roberta/checkpoint-80 (score: 0.7461279461279461).\n"
     ]
    },
    {
     "data": {
      "text/plain": [
       "TrainOutput(global_step=120, training_loss=0.3881006288031737, metrics={'train_runtime': 5238.2437, 'train_samples_per_second': 0.644, 'train_steps_per_second': 0.023, 'total_flos': 720695115360000.0, 'train_loss': 0.3881006288031737, 'epoch': 15.0})"
      ]
     },
     "execution_count": 23,
     "metadata": {},
     "output_type": "execute_result"
    }
   ],
   "source": [
    "class CustomTrainer(Trainer):\n",
    "    \n",
    "    \"\"\"\n",
    "    Class weighted trainer to account for imbalance\n",
    "    \"\"\"\n",
    "    \n",
    "    def __init__(self, no_of_classes, samples_per_cls, *args, **kwargs):\n",
    "        super().__init__(*args, **kwargs)\n",
    "        self.class_weights = self.get_ens_weights(no_of_classes, samples_per_cls)\n",
    "        \n",
    "    def get_ens_weights(self, no_of_classes,samples_per_cls,beta=0.99):\n",
    "    \n",
    "        \"\"\"\n",
    "        Compute class weights using effective number of samples strategy\n",
    "        \"\"\"\n",
    "\n",
    "        effective_num = 1.0 - np.power(beta, samples_per_cls)\n",
    "        weights = (1.0 - beta) / np.array(effective_num)\n",
    "        weights = weights / np.sum(weights) * no_of_classes\n",
    "        weights = torch.tensor(weights.astype(np.float32))\n",
    "        \n",
    "        return weights\n",
    "    \n",
    "    def compute_loss(self, model, inputs, return_outputs=False):\n",
    "        \n",
    "        labels = inputs.get(\"labels\")\n",
    "        #Forward pass\n",
    "        outputs = model(**inputs)\n",
    "        logits = outputs.get('logits')\n",
    "        #Compute custom loss\n",
    "        loss_fct = torch.nn.CrossEntropyLoss(weight= self.class_weights)\n",
    "        loss = loss_fct(logits.view(-1, self.model.config.num_labels), labels.view(-1))\n",
    "        return (loss, outputs) if return_outputs else loss\n",
    "\n",
    "#Define the training parameters\n",
    "lr_training_args = TrainingArguments(\n",
    "    output_dir                  = \"../models/xlmr-roberta/\",\n",
    "    num_train_epochs            = 15,\n",
    "    seed                        = 22,\n",
    "    per_device_train_batch_size = 32, #Increase training batch size to ensure that each batch has a decent chance of containing a few positive samples.\n",
    "    warmup_steps                = 500, #Add warmup steps since this is an entirely new problem domain for this pretrained model\n",
    "    save_total_limit            = 2,\n",
    "    load_best_model_at_end      = True,\n",
    "    metric_for_best_model       = 'f1',    \n",
    "    save_strategy               = \"epoch\",\n",
    "    logging_strategy            = \"epoch\",\n",
    "    evaluation_strategy         = \"epoch\"\n",
    ")\n",
    "\n",
    "#Define Trainer object\n",
    "lr_trainer = CustomTrainer(\n",
    "    no_of_classes   = len(df.label.unique()),\n",
    "    samples_per_cls = df.label.value_counts(sort=False).to_list(),\n",
    "    model           = xlmr_model,\n",
    "    args            = lr_training_args,\n",
    "    train_dataset   = train_set_dataset,\n",
    "    eval_dataset    = val_set_dataset,\n",
    "    compute_metrics = compute_metrics\n",
    ")\n",
    "\n",
    "\n",
    "#Start pre-training!\n",
    "lr_trainer.train()"
   ]
  },
  {
   "cell_type": "markdown",
   "id": "2d62d600-8b33-4cd6-977c-e352eb0f6d0a",
   "metadata": {},
   "source": [
    "#### Validation Results Discussion\n",
    "\n",
    "No real improvement in performance despite increasing batch size and reweighting the loss function. Best model doesn't perform as well as the other approach, although has a much lower validation loss."
   ]
  },
  {
   "cell_type": "markdown",
   "id": "4aca897a-0a03-417e-b1e3-3dcccc6650d9",
   "metadata": {},
   "source": [
    "### 10. Conclusion"
   ]
  },
  {
   "cell_type": "markdown",
   "id": "730e4200-d322-4872-b969-e80d1b100599",
   "metadata": {},
   "source": [
    "Comparing this to the M-BERT models and BerTweet models, we see that the BerTweet models perform significantly better despite being a monolingual model (i.e. trained on English tweets). This might make sense because pidgin English represents a relatively small proportion of the Nigerian tweets and even the pidgin English tweets involved very light use of pidgin – hence, the tweets closely mirrored English tweets.\n",
    "\n",
    "Based on this, I choose to continue my modeling efforts with the BerTweet model."
   ]
  }
 ],
 "metadata": {
  "kernelspec": {
   "display_name": "Python 3 (ipykernel)",
   "language": "python",
   "name": "python3"
  },
  "language_info": {
   "codemirror_mode": {
    "name": "ipython",
    "version": 3
   },
   "file_extension": ".py",
   "mimetype": "text/x-python",
   "name": "python",
   "nbconvert_exporter": "python",
   "pygments_lexer": "ipython3",
   "version": "3.7.11"
  }
 },
 "nbformat": 4,
 "nbformat_minor": 5
}
