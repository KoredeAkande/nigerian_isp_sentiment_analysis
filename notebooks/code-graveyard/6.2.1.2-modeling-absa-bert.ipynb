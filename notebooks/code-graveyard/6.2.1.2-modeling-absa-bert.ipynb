{
 "cells": [
  {
   "cell_type": "markdown",
   "id": "d31b06bc-26ce-467c-adda-4125a539ebf8",
   "metadata": {},
   "source": [
    "# Modeling: Aspect-Based Sentiment Analysis\n",
    "## BerTweet "
   ]
  },
  {
   "cell_type": "markdown",
   "id": "ac208857-2e63-423a-92ab-12d29b90ad0f",
   "metadata": {},
   "source": [
    "Oversampling as a solution to the imabalance still wasn't enough to raise the model's performance significantly. This was especially the case because the validation and test sets were very small and still imbalanced (plus, we can't resample these!). Thus, my next step is to gather more data by sampling tweets I had not previously annotated, annotating this new sample and ONLY retaining tweets that have aspects – as we have enough tweets without aspects already!"
   ]
  },
  {
   "cell_type": "markdown",
   "id": "ff71f66c-9e02-4e41-821e-1a9ba7e093ab",
   "metadata": {},
   "source": [
    "## 1. Library Importation"
   ]
  },
  {
   "cell_type": "code",
   "execution_count": 16,
   "id": "7bbdc167-98eb-41c3-a27e-b10f4d4c3f1a",
   "metadata": {},
   "outputs": [
    {
     "name": "stderr",
     "output_type": "stream",
     "text": [
      "Global seed set to 123\n"
     ]
    },
    {
     "data": {
      "text/plain": [
       "123"
      ]
     },
     "execution_count": 16,
     "metadata": {},
     "output_type": "execute_result"
    }
   ],
   "source": [
    "#Data manipulation and visualization packages\n",
    "import numpy as np\n",
    "import pandas as pd\n",
    "import seaborn as sns\n",
    "import matplotlib.pyplot as plt\n",
    "\n",
    "#Modeling packages\n",
    "import torch\n",
    "from tqdm.auto import tqdm\n",
    "import pytorch_lightning as pl\n",
    "from torchmetrics import Accuracy, F1, AUROC\n",
    "from torch.utils.data import Dataset, DataLoader\n",
    "from pytorch_lightning.loggers import TensorBoardLogger\n",
    "from pytorch_lightning.callbacks import ModelCheckpoint, EarlyStopping\n",
    "from transformers import AdamW, get_linear_schedule_with_warmup\n",
    "from transformers import AutoTokenizer, AutoModel\n",
    "\n",
    "#Model evaluation and metrics\n",
    "from sklearn.model_selection import train_test_split\n",
    "from sklearn.metrics import classification_report, multilabel_confusion_matrix\n",
    "\n",
    "#Set seed\n",
    "RANDOM_SEED = 123\n",
    "pl.seed_everything(RANDOM_SEED)"
   ]
  },
  {
   "cell_type": "markdown",
   "id": "fd8abc17-dfd1-49eb-be52-6ebf133ac93d",
   "metadata": {},
   "source": [
    "## 2. Loading the data"
   ]
  },
  {
   "cell_type": "code",
   "execution_count": 2,
   "id": "f297ac05-6d1a-42f3-8bde-6db8da3d2a09",
   "metadata": {},
   "outputs": [
    {
     "name": "stdout",
     "output_type": "stream",
     "text": [
      "(377, 6)\n"
     ]
    },
    {
     "data": {
      "text/html": [
       "<div>\n",
       "<style scoped>\n",
       "    .dataframe tbody tr th:only-of-type {\n",
       "        vertical-align: middle;\n",
       "    }\n",
       "\n",
       "    .dataframe tbody tr th {\n",
       "        vertical-align: top;\n",
       "    }\n",
       "\n",
       "    .dataframe thead th {\n",
       "        text-align: right;\n",
       "    }\n",
       "</style>\n",
       "<table border=\"1\" class=\"dataframe\">\n",
       "  <thead>\n",
       "    <tr style=\"text-align: right;\">\n",
       "      <th></th>\n",
       "      <th>ISP_Name</th>\n",
       "      <th>Time</th>\n",
       "      <th>Text</th>\n",
       "      <th>Source</th>\n",
       "      <th>sentiment</th>\n",
       "      <th>label</th>\n",
       "    </tr>\n",
       "  </thead>\n",
       "  <tbody>\n",
       "    <tr>\n",
       "      <th>0</th>\n",
       "      <td>sprectranet</td>\n",
       "      <td>2020-02-04 18:30:35+00:00</td>\n",
       "      <td>my family used my spectranet and they don't wa...</td>\n",
       "      <td>Twitter for Android</td>\n",
       "      <td>Neutral</td>\n",
       "      <td>1</td>\n",
       "    </tr>\n",
       "    <tr>\n",
       "      <th>1</th>\n",
       "      <td>sprectranet</td>\n",
       "      <td>2019-06-19 04:59:49</td>\n",
       "      <td>spectranet_ng how can i get the freedom mifi i...</td>\n",
       "      <td>Twitter for iPhone</td>\n",
       "      <td>Neutral</td>\n",
       "      <td>1</td>\n",
       "    </tr>\n",
       "    <tr>\n",
       "      <th>2</th>\n",
       "      <td>sprectranet</td>\n",
       "      <td>2020-03-30 07:57:38+00:00</td>\n",
       "      <td>drolufunmilayo iconic_remi spectranet_ng</td>\n",
       "      <td>Twitter for iPhone</td>\n",
       "      <td>Neutral</td>\n",
       "      <td>1</td>\n",
       "    </tr>\n",
       "    <tr>\n",
       "      <th>3</th>\n",
       "      <td>sprectranet</td>\n",
       "      <td>2020-12-31 21:07:52+00:00</td>\n",
       "      <td>spectranet_ng your response just proves how ho...</td>\n",
       "      <td>Twitter for Android</td>\n",
       "      <td>Negative</td>\n",
       "      <td>0</td>\n",
       "    </tr>\n",
       "    <tr>\n",
       "      <th>4</th>\n",
       "      <td>sprectranet</td>\n",
       "      <td>2020-09-03 23:09:09+00:00</td>\n",
       "      <td>spectranet is just the worse tbh, i can't even...</td>\n",
       "      <td>Twitter for iPhone</td>\n",
       "      <td>Negative</td>\n",
       "      <td>0</td>\n",
       "    </tr>\n",
       "  </tbody>\n",
       "</table>\n",
       "</div>"
      ],
      "text/plain": [
       "      ISP_Name                       Time  \\\n",
       "0  sprectranet  2020-02-04 18:30:35+00:00   \n",
       "1  sprectranet        2019-06-19 04:59:49   \n",
       "2  sprectranet  2020-03-30 07:57:38+00:00   \n",
       "3  sprectranet  2020-12-31 21:07:52+00:00   \n",
       "4  sprectranet  2020-09-03 23:09:09+00:00   \n",
       "\n",
       "                                                Text               Source  \\\n",
       "0  my family used my spectranet and they don't wa...  Twitter for Android   \n",
       "1  spectranet_ng how can i get the freedom mifi i...   Twitter for iPhone   \n",
       "2           drolufunmilayo iconic_remi spectranet_ng   Twitter for iPhone   \n",
       "3  spectranet_ng your response just proves how ho...  Twitter for Android   \n",
       "4  spectranet is just the worse tbh, i can't even...   Twitter for iPhone   \n",
       "\n",
       "  sentiment  label  \n",
       "0   Neutral      1  \n",
       "1   Neutral      1  \n",
       "2   Neutral      1  \n",
       "3  Negative      0  \n",
       "4  Negative      0  "
      ]
     },
     "execution_count": 2,
     "metadata": {},
     "output_type": "execute_result"
    }
   ],
   "source": [
    "#Load the dataframe with punctuated tweets. We will replace the tweets in the dataset below with this\n",
    "df_with_punct = pd.read_csv(\"../data/processed/sample_encoded_and_cleaned.csv\")\n",
    "print(df_with_punct.shape)\n",
    "df_with_punct.head()"
   ]
  },
  {
   "cell_type": "code",
   "execution_count": 3,
   "id": "3fe6095c-dbed-4917-b4e0-8780f06b356b",
   "metadata": {},
   "outputs": [
    {
     "name": "stdout",
     "output_type": "stream",
     "text": [
      "(377, 3)\n"
     ]
    },
    {
     "data": {
      "text/html": [
       "<div>\n",
       "<style scoped>\n",
       "    .dataframe tbody tr th:only-of-type {\n",
       "        vertical-align: middle;\n",
       "    }\n",
       "\n",
       "    .dataframe tbody tr th {\n",
       "        vertical-align: top;\n",
       "    }\n",
       "\n",
       "    .dataframe thead th {\n",
       "        text-align: right;\n",
       "    }\n",
       "</style>\n",
       "<table border=\"1\" class=\"dataframe\">\n",
       "  <thead>\n",
       "    <tr style=\"text-align: right;\">\n",
       "      <th></th>\n",
       "      <th>Tweets</th>\n",
       "      <th>Aspects</th>\n",
       "      <th>Sentiment</th>\n",
       "    </tr>\n",
       "  </thead>\n",
       "  <tbody>\n",
       "    <tr>\n",
       "      <th>0</th>\n",
       "      <td>my family used my spectranet and they dont wan...</td>\n",
       "      <td>NaN</td>\n",
       "      <td>NaN</td>\n",
       "    </tr>\n",
       "    <tr>\n",
       "      <th>1</th>\n",
       "      <td>spectranetng how can i get the freedom mifi in...</td>\n",
       "      <td>NaN</td>\n",
       "      <td>NaN</td>\n",
       "    </tr>\n",
       "    <tr>\n",
       "      <th>2</th>\n",
       "      <td>drolufunmilayo iconicremi spectranetng</td>\n",
       "      <td>NaN</td>\n",
       "      <td>NaN</td>\n",
       "    </tr>\n",
       "    <tr>\n",
       "      <th>3</th>\n",
       "      <td>spectranetng your response just proves how hor...</td>\n",
       "      <td>['customer service']</td>\n",
       "      <td>['Negative']</td>\n",
       "    </tr>\n",
       "    <tr>\n",
       "      <th>4</th>\n",
       "      <td>spectranet is just the worse tbh i cant even w...</td>\n",
       "      <td>['speed']</td>\n",
       "      <td>['Negative']</td>\n",
       "    </tr>\n",
       "  </tbody>\n",
       "</table>\n",
       "</div>"
      ],
      "text/plain": [
       "                                              Tweets               Aspects  \\\n",
       "0  my family used my spectranet and they dont wan...                   NaN   \n",
       "1  spectranetng how can i get the freedom mifi in...                   NaN   \n",
       "2             drolufunmilayo iconicremi spectranetng                   NaN   \n",
       "3  spectranetng your response just proves how hor...  ['customer service']   \n",
       "4  spectranet is just the worse tbh i cant even w...             ['speed']   \n",
       "\n",
       "      Sentiment  \n",
       "0           NaN  \n",
       "1           NaN  \n",
       "2           NaN  \n",
       "3  ['Negative']  \n",
       "4  ['Negative']  "
      ]
     },
     "execution_count": 3,
     "metadata": {},
     "output_type": "execute_result"
    }
   ],
   "source": [
    "#Load the corresponding aspect annotated data with the text cleaned with punctuation removal\n",
    "df = pd.read_csv(\"../data/processed/absa_labelled.csv\")\n",
    "print(df.shape)\n",
    "df.head()"
   ]
  },
  {
   "cell_type": "code",
   "execution_count": 4,
   "id": "2a247391-13bf-4e6c-959f-2beb7ef60718",
   "metadata": {},
   "outputs": [
    {
     "data": {
      "text/html": [
       "<div>\n",
       "<style scoped>\n",
       "    .dataframe tbody tr th:only-of-type {\n",
       "        vertical-align: middle;\n",
       "    }\n",
       "\n",
       "    .dataframe tbody tr th {\n",
       "        vertical-align: top;\n",
       "    }\n",
       "\n",
       "    .dataframe thead th {\n",
       "        text-align: right;\n",
       "    }\n",
       "</style>\n",
       "<table border=\"1\" class=\"dataframe\">\n",
       "  <thead>\n",
       "    <tr style=\"text-align: right;\">\n",
       "      <th></th>\n",
       "      <th>Text</th>\n",
       "      <th>Aspects</th>\n",
       "      <th>Sentiment</th>\n",
       "    </tr>\n",
       "  </thead>\n",
       "  <tbody>\n",
       "    <tr>\n",
       "      <th>0</th>\n",
       "      <td>my family used my spectranet and they don't wa...</td>\n",
       "      <td>NaN</td>\n",
       "      <td>NaN</td>\n",
       "    </tr>\n",
       "    <tr>\n",
       "      <th>1</th>\n",
       "      <td>spectranet_ng how can i get the freedom mifi i...</td>\n",
       "      <td>NaN</td>\n",
       "      <td>NaN</td>\n",
       "    </tr>\n",
       "    <tr>\n",
       "      <th>2</th>\n",
       "      <td>drolufunmilayo iconic_remi spectranet_ng</td>\n",
       "      <td>NaN</td>\n",
       "      <td>NaN</td>\n",
       "    </tr>\n",
       "    <tr>\n",
       "      <th>3</th>\n",
       "      <td>spectranet_ng your response just proves how ho...</td>\n",
       "      <td>['customer service']</td>\n",
       "      <td>['Negative']</td>\n",
       "    </tr>\n",
       "    <tr>\n",
       "      <th>4</th>\n",
       "      <td>spectranet is just the worse tbh, i can't even...</td>\n",
       "      <td>['speed']</td>\n",
       "      <td>['Negative']</td>\n",
       "    </tr>\n",
       "  </tbody>\n",
       "</table>\n",
       "</div>"
      ],
      "text/plain": [
       "                                                Text               Aspects  \\\n",
       "0  my family used my spectranet and they don't wa...                   NaN   \n",
       "1  spectranet_ng how can i get the freedom mifi i...                   NaN   \n",
       "2           drolufunmilayo iconic_remi spectranet_ng                   NaN   \n",
       "3  spectranet_ng your response just proves how ho...  ['customer service']   \n",
       "4  spectranet is just the worse tbh, i can't even...             ['speed']   \n",
       "\n",
       "      Sentiment  \n",
       "0           NaN  \n",
       "1           NaN  \n",
       "2           NaN  \n",
       "3  ['Negative']  \n",
       "4  ['Negative']  "
      ]
     },
     "execution_count": 4,
     "metadata": {},
     "output_type": "execute_result"
    }
   ],
   "source": [
    "#Create new dataset with the punctuated tweets and the aspects annotated\n",
    "aspect_df = pd.concat([df_with_punct[['Text']],\n",
    "                       df[['Aspects','Sentiment']]],axis=1)\n",
    "aspect_df.head()"
   ]
  },
  {
   "cell_type": "code",
   "execution_count": 5,
   "id": "b6d1b3a1-4382-4d0c-af76-731b2da9b433",
   "metadata": {},
   "outputs": [],
   "source": [
    "#Save the new dataframe for future reference\n",
    "aspect_df.to_csv(\"../data/processed/absa_text_with_punct.csv\", index=False)"
   ]
  },
  {
   "cell_type": "markdown",
   "id": "08327083-5c61-4513-97eb-9e999697c947",
   "metadata": {},
   "source": [
    "## 3. Reformat the data"
   ]
  },
  {
   "cell_type": "markdown",
   "id": "1854ba5e-2698-4bfc-b8d7-bdc799ce1e8b",
   "metadata": {},
   "source": [
    "### a. Convert lists from string format to list"
   ]
  },
  {
   "cell_type": "code",
   "execution_count": 6,
   "id": "b67f82c6-e184-409b-8e62-fa1ee6230160",
   "metadata": {},
   "outputs": [
    {
     "data": {
      "text/html": [
       "<div>\n",
       "<style scoped>\n",
       "    .dataframe tbody tr th:only-of-type {\n",
       "        vertical-align: middle;\n",
       "    }\n",
       "\n",
       "    .dataframe tbody tr th {\n",
       "        vertical-align: top;\n",
       "    }\n",
       "\n",
       "    .dataframe thead th {\n",
       "        text-align: right;\n",
       "    }\n",
       "</style>\n",
       "<table border=\"1\" class=\"dataframe\">\n",
       "  <thead>\n",
       "    <tr style=\"text-align: right;\">\n",
       "      <th></th>\n",
       "      <th>Text</th>\n",
       "      <th>Aspects</th>\n",
       "      <th>Sentiment</th>\n",
       "    </tr>\n",
       "  </thead>\n",
       "  <tbody>\n",
       "    <tr>\n",
       "      <th>0</th>\n",
       "      <td>my family used my spectranet and they don't wa...</td>\n",
       "      <td>NaN</td>\n",
       "      <td>NaN</td>\n",
       "    </tr>\n",
       "    <tr>\n",
       "      <th>1</th>\n",
       "      <td>spectranet_ng how can i get the freedom mifi i...</td>\n",
       "      <td>NaN</td>\n",
       "      <td>NaN</td>\n",
       "    </tr>\n",
       "    <tr>\n",
       "      <th>2</th>\n",
       "      <td>drolufunmilayo iconic_remi spectranet_ng</td>\n",
       "      <td>NaN</td>\n",
       "      <td>NaN</td>\n",
       "    </tr>\n",
       "    <tr>\n",
       "      <th>3</th>\n",
       "      <td>spectranet_ng your response just proves how ho...</td>\n",
       "      <td>[customer service]</td>\n",
       "      <td>[Negative]</td>\n",
       "    </tr>\n",
       "    <tr>\n",
       "      <th>4</th>\n",
       "      <td>spectranet is just the worse tbh, i can't even...</td>\n",
       "      <td>[speed]</td>\n",
       "      <td>[Negative]</td>\n",
       "    </tr>\n",
       "  </tbody>\n",
       "</table>\n",
       "</div>"
      ],
      "text/plain": [
       "                                                Text             Aspects  \\\n",
       "0  my family used my spectranet and they don't wa...                 NaN   \n",
       "1  spectranet_ng how can i get the freedom mifi i...                 NaN   \n",
       "2           drolufunmilayo iconic_remi spectranet_ng                 NaN   \n",
       "3  spectranet_ng your response just proves how ho...  [customer service]   \n",
       "4  spectranet is just the worse tbh, i can't even...             [speed]   \n",
       "\n",
       "    Sentiment  \n",
       "0         NaN  \n",
       "1         NaN  \n",
       "2         NaN  \n",
       "3  [Negative]  \n",
       "4  [Negative]  "
      ]
     },
     "execution_count": 6,
     "metadata": {},
     "output_type": "execute_result"
    }
   ],
   "source": [
    "#Convert Aspects column\n",
    "aspect_df.Aspects = aspect_df.Aspects.apply(lambda x: eval(x) if (pd.notnull(x)) else x)\n",
    "\n",
    "#Convert Sentiment column\n",
    "aspect_df.Sentiment = aspect_df.Sentiment.apply(lambda x: eval(x) if (pd.notnull(x)) else x)\n",
    "\n",
    "#Make a copy of the dataframe\n",
    "processed_aspect_df = aspect_df.copy()\n",
    "\n",
    "#Quick preview\n",
    "processed_aspect_df.head()"
   ]
  },
  {
   "cell_type": "markdown",
   "id": "b2b291fc-3f4a-4ba1-9395-dd315ecb22a3",
   "metadata": {},
   "source": [
    "### b. Fill NaNs with [None]"
   ]
  },
  {
   "cell_type": "code",
   "execution_count": 7,
   "id": "653b3b4e-105f-4039-b741-fcb1dddd3c74",
   "metadata": {},
   "outputs": [
    {
     "data": {
      "text/html": [
       "<div>\n",
       "<style scoped>\n",
       "    .dataframe tbody tr th:only-of-type {\n",
       "        vertical-align: middle;\n",
       "    }\n",
       "\n",
       "    .dataframe tbody tr th {\n",
       "        vertical-align: top;\n",
       "    }\n",
       "\n",
       "    .dataframe thead th {\n",
       "        text-align: right;\n",
       "    }\n",
       "</style>\n",
       "<table border=\"1\" class=\"dataframe\">\n",
       "  <thead>\n",
       "    <tr style=\"text-align: right;\">\n",
       "      <th></th>\n",
       "      <th>Text</th>\n",
       "      <th>Aspects</th>\n",
       "      <th>Sentiment</th>\n",
       "    </tr>\n",
       "  </thead>\n",
       "  <tbody>\n",
       "    <tr>\n",
       "      <th>0</th>\n",
       "      <td>my family used my spectranet and they don't wa...</td>\n",
       "      <td>[None]</td>\n",
       "      <td>[None]</td>\n",
       "    </tr>\n",
       "    <tr>\n",
       "      <th>1</th>\n",
       "      <td>spectranet_ng how can i get the freedom mifi i...</td>\n",
       "      <td>[None]</td>\n",
       "      <td>[None]</td>\n",
       "    </tr>\n",
       "    <tr>\n",
       "      <th>2</th>\n",
       "      <td>drolufunmilayo iconic_remi spectranet_ng</td>\n",
       "      <td>[None]</td>\n",
       "      <td>[None]</td>\n",
       "    </tr>\n",
       "    <tr>\n",
       "      <th>3</th>\n",
       "      <td>spectranet_ng your response just proves how ho...</td>\n",
       "      <td>[customer service]</td>\n",
       "      <td>[Negative]</td>\n",
       "    </tr>\n",
       "    <tr>\n",
       "      <th>4</th>\n",
       "      <td>spectranet is just the worse tbh, i can't even...</td>\n",
       "      <td>[speed]</td>\n",
       "      <td>[Negative]</td>\n",
       "    </tr>\n",
       "  </tbody>\n",
       "</table>\n",
       "</div>"
      ],
      "text/plain": [
       "                                                Text             Aspects  \\\n",
       "0  my family used my spectranet and they don't wa...              [None]   \n",
       "1  spectranet_ng how can i get the freedom mifi i...              [None]   \n",
       "2           drolufunmilayo iconic_remi spectranet_ng              [None]   \n",
       "3  spectranet_ng your response just proves how ho...  [customer service]   \n",
       "4  spectranet is just the worse tbh, i can't even...             [speed]   \n",
       "\n",
       "    Sentiment  \n",
       "0      [None]  \n",
       "1      [None]  \n",
       "2      [None]  \n",
       "3  [Negative]  \n",
       "4  [Negative]  "
      ]
     },
     "execution_count": 7,
     "metadata": {},
     "output_type": "execute_result"
    }
   ],
   "source": [
    "processed_aspect_df = processed_aspect_df.apply(lambda s: s.fillna({i: [None] for i in df.index}))\n",
    "processed_aspect_df.head()"
   ]
  },
  {
   "cell_type": "markdown",
   "id": "6e799748-a992-49bc-b8fe-b6fd1bd1f210",
   "metadata": {},
   "source": [
    "### b. Binarizing the aspects"
   ]
  },
  {
   "cell_type": "code",
   "execution_count": 8,
   "id": "4b7f4fad-5ba6-48e8-ba08-27f77651c1a9",
   "metadata": {},
   "outputs": [
    {
     "data": {
      "text/html": [
       "<div>\n",
       "<style scoped>\n",
       "    .dataframe tbody tr th:only-of-type {\n",
       "        vertical-align: middle;\n",
       "    }\n",
       "\n",
       "    .dataframe tbody tr th {\n",
       "        vertical-align: top;\n",
       "    }\n",
       "\n",
       "    .dataframe thead th {\n",
       "        text-align: right;\n",
       "    }\n",
       "</style>\n",
       "<table border=\"1\" class=\"dataframe\">\n",
       "  <thead>\n",
       "    <tr style=\"text-align: right;\">\n",
       "      <th></th>\n",
       "      <th>Text</th>\n",
       "      <th>cost</th>\n",
       "      <th>speed</th>\n",
       "      <th>reliability</th>\n",
       "      <th>coverage</th>\n",
       "      <th>customer service</th>\n",
       "      <th>trustworthiness</th>\n",
       "      <th>Sentiment</th>\n",
       "    </tr>\n",
       "  </thead>\n",
       "  <tbody>\n",
       "    <tr>\n",
       "      <th>0</th>\n",
       "      <td>my family used my spectranet and they don't wa...</td>\n",
       "      <td>0</td>\n",
       "      <td>0</td>\n",
       "      <td>0</td>\n",
       "      <td>0</td>\n",
       "      <td>0</td>\n",
       "      <td>0</td>\n",
       "      <td>[None]</td>\n",
       "    </tr>\n",
       "    <tr>\n",
       "      <th>1</th>\n",
       "      <td>spectranet_ng how can i get the freedom mifi i...</td>\n",
       "      <td>0</td>\n",
       "      <td>0</td>\n",
       "      <td>0</td>\n",
       "      <td>0</td>\n",
       "      <td>0</td>\n",
       "      <td>0</td>\n",
       "      <td>[None]</td>\n",
       "    </tr>\n",
       "    <tr>\n",
       "      <th>2</th>\n",
       "      <td>drolufunmilayo iconic_remi spectranet_ng</td>\n",
       "      <td>0</td>\n",
       "      <td>0</td>\n",
       "      <td>0</td>\n",
       "      <td>0</td>\n",
       "      <td>0</td>\n",
       "      <td>0</td>\n",
       "      <td>[None]</td>\n",
       "    </tr>\n",
       "    <tr>\n",
       "      <th>3</th>\n",
       "      <td>spectranet_ng your response just proves how ho...</td>\n",
       "      <td>0</td>\n",
       "      <td>0</td>\n",
       "      <td>0</td>\n",
       "      <td>0</td>\n",
       "      <td>1</td>\n",
       "      <td>0</td>\n",
       "      <td>[Negative]</td>\n",
       "    </tr>\n",
       "    <tr>\n",
       "      <th>4</th>\n",
       "      <td>spectranet is just the worse tbh, i can't even...</td>\n",
       "      <td>0</td>\n",
       "      <td>1</td>\n",
       "      <td>0</td>\n",
       "      <td>0</td>\n",
       "      <td>0</td>\n",
       "      <td>0</td>\n",
       "      <td>[Negative]</td>\n",
       "    </tr>\n",
       "  </tbody>\n",
       "</table>\n",
       "</div>"
      ],
      "text/plain": [
       "                                                Text  cost  speed  \\\n",
       "0  my family used my spectranet and they don't wa...     0      0   \n",
       "1  spectranet_ng how can i get the freedom mifi i...     0      0   \n",
       "2           drolufunmilayo iconic_remi spectranet_ng     0      0   \n",
       "3  spectranet_ng your response just proves how ho...     0      0   \n",
       "4  spectranet is just the worse tbh, i can't even...     0      1   \n",
       "\n",
       "   reliability  coverage  customer service  trustworthiness   Sentiment  \n",
       "0            0         0                 0                0      [None]  \n",
       "1            0         0                 0                0      [None]  \n",
       "2            0         0                 0                0      [None]  \n",
       "3            0         0                 1                0  [Negative]  \n",
       "4            0         0                 0                0  [Negative]  "
      ]
     },
     "execution_count": 8,
     "metadata": {},
     "output_type": "execute_result"
    }
   ],
   "source": [
    "#List aspects determined during the annotation phase\n",
    "#Note: This might not be exhaustive! But it should cover most cases. It is also subjective!\n",
    "#Also using synonyms of these words will likely yield different results\n",
    "ASPECTS = ['cost','speed','reliability','coverage', 'customer service', 'trustworthiness']\n",
    "\n",
    "#Iterate through all the aspects and if the aspect is not in the tweet, record 0 else record 1\n",
    "for aspect in ASPECTS[::-1]:\n",
    "    processed_aspect_df.insert(1,aspect,processed_aspect_df.Aspects.apply(lambda x: 1 if aspect in x else 0))\n",
    "    \n",
    "#Drop the Aspects column\n",
    "processed_aspect_df.drop(columns=['Aspects'] , inplace=True)\n",
    "\n",
    "#Quick preview\n",
    "processed_aspect_df.head()"
   ]
  },
  {
   "cell_type": "code",
   "execution_count": 9,
   "id": "c79fc731-a968-4627-954e-90c57dd4bc48",
   "metadata": {},
   "outputs": [],
   "source": [
    "#Save the binarized dataframe\n",
    "processed_aspect_df.to_csv(\"../data/processed/absa_binarized.csv\",index=False)"
   ]
  },
  {
   "cell_type": "markdown",
   "id": "473f765a-36f5-4959-b16c-c422957e22c4",
   "metadata": {},
   "source": [
    "## 4. Quick EDA"
   ]
  },
  {
   "cell_type": "code",
   "execution_count": 10,
   "id": "7d603123-f706-4d2e-ab1c-023aed8776ad",
   "metadata": {},
   "outputs": [
    {
     "data": {
      "image/png": "[encoded data removed]",
      "text/plain": [
       "<Figure size 3600x2100 with 1 Axes>"
      ]
     },
     "metadata": {
      "needs_background": "light"
     },
     "output_type": "display_data"
    }
   ],
   "source": [
    "with plt.style.context(['notebook','no-latex','grid']):\n",
    "    plt.figure(figsize = (12,7), dpi=300)\n",
    "    processed_aspect_df[ASPECTS].sum().sort_values()\\\n",
    "                                            .plot(kind = \"barh\", color = 'cornflowerblue')\\\n",
    "                                            .set(xlabel = \"Number of times detected in tweets\",\n",
    "                                                ylabel = \"Aspect category\")\n",
    "                        \n",
    "    plt.show()"
   ]
  },
  {
   "cell_type": "markdown",
   "id": "740cf34b-a230-4f3f-80c6-0f1a0882a239",
   "metadata": {},
   "source": [
    "From the above, we see that the data is quite imbalanced. Trustworthiness is especially important to point out. As there are very few tweets tagged with trustworthiness, we might need to oversample the label."
   ]
  },
  {
   "cell_type": "markdown",
   "id": "13923184-6d99-4cb3-b174-d0f3411987e5",
   "metadata": {},
   "source": [
    "## 5. Split data into training, validation and test set"
   ]
  },
  {
   "cell_type": "markdown",
   "id": "64db2048-6846-4f78-9b2b-b22dc72f1a79",
   "metadata": {},
   "source": [
    "### a. Split to training and test set"
   ]
  },
  {
   "cell_type": "code",
   "execution_count": 11,
   "id": "702599fc-424e-48ba-9c38-89423bbe612b",
   "metadata": {},
   "outputs": [
    {
     "name": "stdout",
     "output_type": "stream",
     "text": [
      "Train size: (301, 8) Test size: (76, 8)\n"
     ]
    }
   ],
   "source": [
    "#Split the data 80:20 (training and test)\n",
    "train_df, test_df = train_test_split(processed_aspect_df,test_size=0.20, \n",
    "                                     stratify = processed_aspect_df[['trustworthiness','customer service']])\n",
    "print(f\"Train size: {train_df.shape}\", f\"Test size: {test_df.shape}\")"
   ]
  },
  {
   "cell_type": "markdown",
   "id": "3ff48601-a880-48bd-a24d-9510bc7fb7dc",
   "metadata": {},
   "source": [
    "### b. Split training set to training and validation set"
   ]
  },
  {
   "cell_type": "code",
   "execution_count": 12,
   "id": "290749ec-94cc-4a51-8eb0-425a14ce824f",
   "metadata": {},
   "outputs": [
    {
     "name": "stdout",
     "output_type": "stream",
     "text": [
      "Train size: (225, 8) Validation size: (76, 8)\n"
     ]
    }
   ],
   "source": [
    "train_df, val_df = train_test_split(train_df,test_size=0.25,\n",
    "                                    stratify = train_df[['trustworthiness','customer service']])\n",
    "print(f\"Train size: {train_df.shape}\", f\"Validation size: {val_df.shape}\")"
   ]
  },
  {
   "cell_type": "markdown",
   "id": "3e45a523-59df-42e2-93b4-37cf4cbc488c",
   "metadata": {},
   "source": [
    "### c. Check to see that all the sets have all the aspect categories"
   ]
  },
  {
   "cell_type": "code",
   "execution_count": 13,
   "id": "4f4ebcae-d36a-40a6-9be1-217a741ea3e8",
   "metadata": {},
   "outputs": [
    {
     "data": {
      "image/png": "[encoded data removed]",
      "text/plain": [
       "<Figure size 3600x1800 with 3 Axes>"
      ]
     },
     "metadata": {
      "needs_background": "light"
     },
     "output_type": "display_data"
    }
   ],
   "source": [
    "df_sets = [('Training',train_df),('Validation', val_df),('Test',test_df)]\n",
    "    \n",
    "plt.figure(figsize = (12,6), dpi=300)\n",
    "for idx,df in enumerate(df_sets):\n",
    "    \n",
    "    plt.subplot(1,3,idx+1)\n",
    "    plt.tight_layout()\n",
    "\n",
    "    with plt.style.context(['notebook','no-latex','grid']):\n",
    "        \n",
    "        plt.title(df[0])\n",
    "        df[1][ASPECTS].sum().plot(kind = \"bar\", color = 'cornflowerblue')\n",
    "        plt.xticks(rotation=90)\n",
    "        \n",
    "        if idx == 0:\n",
    "            plt.ylabel('Number of tags in the tweets', fontsize=16)\n",
    "        \n",
    "    \n",
    "plt.show()\n",
    "        "
   ]
  },
  {
   "cell_type": "markdown",
   "id": "49e0309d-06a5-441a-91dc-193162192293",
   "metadata": {},
   "source": [
    "## 6. Modeling - Aspect Extraction"
   ]
  },
  {
   "cell_type": "markdown",
   "id": "2626c04e-ad4a-42d4-bcec-b7a788ff76f9",
   "metadata": {},
   "source": [
    "### a. Load the tokenizer and the BERT model"
   ]
  },
  {
   "cell_type": "code",
   "execution_count": 17,
   "id": "0bfc7e41-766a-4ba9-817f-2c1b9fc8edbe",
   "metadata": {},
   "outputs": [],
   "source": [
    "from transformers import BertTokenizerFast as BertTokenizer, BertModel, AdamW, get_linear_schedule_with_warmup\n",
    "BERT_MODEL_NAME = 'bert-base-cased'"
   ]
  },
  {
   "cell_type": "code",
   "execution_count": 18,
   "id": "5909bae8-abc2-41d5-81c4-34f4a6f8011d",
   "metadata": {},
   "outputs": [
    {
     "name": "stderr",
     "output_type": "stream",
     "text": [
      "2021-11-26 09:34:01.699303: I tensorflow/core/platform/cpu_feature_guard.cc:142] This TensorFlow binary is optimized with oneAPI Deep Neural Network Library (oneDNN) to use the following CPU instructions in performance-critical operations:  AVX2 FMA\n",
      "To enable them in other operations, rebuild TensorFlow with the appropriate compiler flags.\n",
      "All TF 2.0 model weights were used when initializing BertModel.\n",
      "\n",
      "All the weights of BertModel were initialized from the TF 2.0 model.\n",
      "If your task is similar to the task the model of the checkpoint was trained on, you can already use BertModel for predictions without further training.\n"
     ]
    }
   ],
   "source": [
    "#Load BerTweet tokenizer\n",
    "TOKENIZER = BertTokenizer.from_pretrained(BERT_MODEL_NAME)\n",
    "\n",
    "#Load the BERTweet model\n",
    "BERT_MODEL = BertModel.from_pretrained(BERT_MODEL_NAME, from_tf = True, return_dict=True)"
   ]
  },
  {
   "cell_type": "markdown",
   "id": "6aa77f96-3283-4570-b490-df350f07ffe2",
   "metadata": {},
   "source": [
    "### b. Prepare the training, validation, and test sets"
   ]
  },
  {
   "cell_type": "code",
   "execution_count": 41,
   "id": "f39510c1-0685-4722-b064-6223622bc82b",
   "metadata": {},
   "outputs": [],
   "source": [
    "TRAIN_BATCH_SIZE = 16\n",
    "TEST_BATCH_SIZE = 8"
   ]
  },
  {
   "cell_type": "code",
   "execution_count": 42,
   "id": "28b1e9a4-494d-409e-b43f-d54c3d2647fa",
   "metadata": {},
   "outputs": [],
   "source": [
    "class Generate_PyTorch_Dataset(torch.utils.data.Dataset):\n",
    "\n",
    "    def __init__(self, dataframe, tokenizer):\n",
    "        self.dataframe  = dataframe\n",
    "        self.tokenizer  = tokenizer\n",
    "        self.max_len    = tokenizer.model_max_length\n",
    "  \n",
    "    def __len__(self):\n",
    "        return len(self.dataframe)\n",
    "  \n",
    "    def __getitem__(self, idx):\n",
    "        \n",
    "        #Get each row of the dataframe\n",
    "        data_row = self.dataframe.iloc[idx]\n",
    "        \n",
    "        #Get the tweet\n",
    "        text = str(data_row.Text)\n",
    "        \n",
    "        #Get the aspect labels\n",
    "        labels = data_row[ASPECTS]\n",
    "        \n",
    "        #Encode the tweet\n",
    "        encoded_text = self.tokenizer.encode_plus(\n",
    "            text,\n",
    "            add_special_tokens    = True,\n",
    "            truncation            = True,\n",
    "            return_attention_mask = True,\n",
    "            return_token_type_ids = False,\n",
    "            return_length         = True,\n",
    "            max_length            = self.max_len,\n",
    "            return_tensors        = 'pt',\n",
    "            padding               = \"max_length\"\n",
    "        )\n",
    "        \n",
    "        \n",
    "        return {\n",
    "            'input_ids': encoded_text['input_ids'].flatten(),\n",
    "            'attention_mask': encoded_text['attention_mask'].flatten(),\n",
    "            'labels': torch.tensor(labels, dtype=torch.float)\n",
    "        }\n",
    "    "
   ]
  },
  {
   "cell_type": "code",
   "execution_count": 43,
   "id": "c4ef8401-a823-448f-a612-635d734c7397",
   "metadata": {},
   "outputs": [],
   "source": [
    "class PyTorchDataModule(pl.LightningDataModule):\n",
    "    \n",
    "    def __init__(self, train_df, val_df, test_df, tokenizer, train_batch_size=16, test_batch_size=8):\n",
    "        \n",
    "        super().__init__()\n",
    "        self.train_df = train_df\n",
    "        self.val_df = train_df\n",
    "        self.test_df = test_df\n",
    "        self.tokenizer = tokenizer\n",
    "        self.train_batch_size = train_batch_size\n",
    "        self.test_batch_size = test_batch_size\n",
    "        self.max_len = self.tokenizer.model_max_length\n",
    "        \n",
    "    def setup(self):\n",
    "        \n",
    "        \"\"\"\n",
    "        Setup the training, validation and test sets by converting them to Pytorch datasets\n",
    "        \"\"\"\n",
    "        \n",
    "        self.train_dataset = Generate_PyTorch_Dataset(self.train_df,self.tokenizer)\n",
    "        self.val_dataset = Generate_PyTorch_Dataset(self.val_df,self.tokenizer)\n",
    "        self.test_dataset = Generate_PyTorch_Dataset(self.test_df,self.tokenizer)\n",
    "        \n",
    "        \n",
    "    def train_dataloader(self):\n",
    "        \n",
    "        \"\"\"\n",
    "        Training set dataloader\n",
    "        \"\"\"\n",
    "        \n",
    "        return DataLoader(self.train_dataset,\n",
    "                          batch_size  = self.train_batch_size,\n",
    "                          shuffle     = True, \n",
    "                          num_workers = 2)\n",
    "         \n",
    "    def val_dataloader(self):\n",
    "        \n",
    "        \"\"\"\n",
    "        Validation set dataloader\n",
    "        \"\"\"\n",
    "        \n",
    "        return DataLoader(self.val_dataset, batch_size = self.test_batch_size, num_workers=2)\n",
    "        \n",
    "    def test_dataloader(self):\n",
    "        \n",
    "        \"\"\"\n",
    "        Test set dataloader\n",
    "        \"\"\"\n",
    "        \n",
    "        return DataLoader(self.test_dataset, batch_size = self.test_batch_size, num_workers=2)\n",
    "        "
   ]
  },
  {
   "cell_type": "code",
   "execution_count": 47,
   "id": "e5ee7c0c-22bf-493b-a1a9-647eb40832a2",
   "metadata": {},
   "outputs": [],
   "source": [
    "#Instantiate and set up the data_module\n",
    "data_module = PyTorchDataModule(train_df,val_df,test_df,TOKENIZER, TRAIN_BATCH_SIZE, TEST_BATCH_SIZE)\n",
    "data_module.setup()"
   ]
  },
  {
   "cell_type": "markdown",
   "id": "1d2fca92-83be-4722-aa58-da0e516f9dcd",
   "metadata": {},
   "source": [
    "### c. Define the model"
   ]
  },
  {
   "cell_type": "code",
   "execution_count": 52,
   "id": "324c192d-8eb9-4b35-8aa2-1b09bccb4320",
   "metadata": {},
   "outputs": [],
   "source": [
    "class ISP_TweetAspectClassifier(pl.LightningModule):\n",
    "    \n",
    "    #Set the aspect classifier\n",
    "    def __init__(self, n_classes=6, n_training_steps=None, n_warmup_steps=None, lr=2e-5):\n",
    "        super().__init__()\n",
    "        self.bert = BERT_MODEL\n",
    "        self.classifier = torch.nn.Linear(self.bert.config.hidden_size, n_classes)\n",
    "        self.n_training_steps = n_training_steps\n",
    "        self.n_warmup_steps = n_warmup_steps\n",
    "        self.lr = lr\n",
    "        self.criterion = torch.nn.BCELoss()\n",
    "        \n",
    "    def forward(self, input_ids, attention_mask, labels = None):\n",
    "        output = self.bert(input_ids, attention_mask=attention_mask)\n",
    "        output = self.classifier(output.pooler_output)\n",
    "        output = torch.sigmoid(output)\n",
    "        \n",
    "        loss = 0\n",
    "        \n",
    "        if labels is not None:\n",
    "            loss = self.criterion(output, labels)\n",
    "            \n",
    "        return loss, output\n",
    "    \n",
    "    def training_step(self, batch, batch_idx):\n",
    "        \n",
    "        input_ids = batch[\"input_ids\"]\n",
    "        attention_mask = batch[\"attention_mask\"]\n",
    "        labels = batch[\"labels\"]\n",
    "        \n",
    "        loss, outputs = self(input_ids, attention_mask, labels)\n",
    "        self.log(\"train_loss\", loss, prog_bar=True, logger=True)\n",
    "        \n",
    "        return {\"loss\": loss, \"predictions\": outputs.detach(), \"labels\": labels}\n",
    "    \n",
    "    def validation_step(self, batch, batch_idx):\n",
    "        input_ids = batch[\"input_ids\"]\n",
    "        attention_mask = batch[\"attention_mask\"]\n",
    "        labels = batch[\"labels\"]\n",
    "        \n",
    "        loss, outputs = self(input_ids, attention_mask,labels)\n",
    "        self.log(\"val_loss\", loss, prog_bar=True, logger=True)\n",
    "        \n",
    "        return loss\n",
    "    \n",
    "    \n",
    "    def test_step(self, batch, batch_idx):\n",
    "        input_ids = batch[\"input_ids\"]\n",
    "        attention_mask = batch[\"attention_mask\"]\n",
    "        labels = batch[\"labels\"]\n",
    "        \n",
    "        loss, outputs = self(input_ids, attention_mask, labels)\n",
    "        self.log(\"test_loss\", loss, prog_bar=True, logger=True)\n",
    "        \n",
    "        return loss\n",
    "    \n",
    "    \n",
    "    def training_epoch_end(self, outputs):\n",
    "        \n",
    "        #List to store the true labels and the model's predictions\n",
    "        labels = []\n",
    "        predictions = []\n",
    "        \n",
    "        #Iterate through all the outputs and get the true vs. predicted label\n",
    "        for output in outputs:\n",
    "            \n",
    "            for label in output[\"labels\"].detach().cpu():\n",
    "                labels.append(label)\n",
    "            for pred in output[\"predictions\"].detach().cpu():\n",
    "                predictions.append(pred)\n",
    "        \n",
    "        #Stack the tensors\n",
    "        labels = torch.stack(labels).int()\n",
    "        predictions = torch.stack(predictions)\n",
    "        \n",
    "        #Record the AUROC for each aspect after each training epoch\n",
    "        for idx, name in enumerate(ASPECTS):\n",
    "            metric = AUROC()\n",
    "            class_roc_auc = metric(predictions[:,idx], labels[:,idx])\n",
    "            self.logger.experiment.add_scalar(f\"{name}_roc_auc/Train\", class_roc_auc, self.current_epoch)\n",
    "   \n",
    "    \n",
    "    def configure_optimizers(self):\n",
    "        \n",
    "        optimizer = AdamW(self.parameters(), lr = self.lr)\n",
    "        \n",
    "        scheduler = get_linear_schedule_with_warmup(\n",
    "            optimizer,\n",
    "            num_warmup_steps=self.n_warmup_steps,\n",
    "            num_training_steps=self.n_training_steps)\n",
    "        \n",
    "          \n",
    "        return {'optimizer': optimizer, 'lr_scheduler':{'scheduler':scheduler,'interval':'step'}}\n",
    "    "
   ]
  },
  {
   "cell_type": "markdown",
   "id": "937b750a-66a3-49a4-a0a8-f86917b28183",
   "metadata": {},
   "source": [
    "class ISP_TweetAspectClassifier(pl.LightningModule):\n",
    "    \n",
    "    #Set the aspect classifier\n",
    "    def __init__(self, n_classes=6, n_training_steps=None, n_warmup_steps=None, lr=2e-5):\n",
    "        super().__init__()\n",
    "        self.bertweet = BERTWEET_MODEL\n",
    "        self.classifier = torch.nn.Linear(self.bertweet.config.hidden_size, n_classes)\n",
    "        self.n_training_steps = n_training_steps\n",
    "        self.n_warmup_steps = n_warmup_steps\n",
    "        self.lr = lr\n",
    "        self.criterion = torch.nn.BCEWithLogitsLoss()\n",
    "        \n",
    "    def forward(self, input_ids, attention_mask):\n",
    "        output = self.bertweet(input_ids, attention_mask=attention_mask)\n",
    "        output = self.classifier(output.pooler_output)\n",
    "        output = torch.sigmoid(output)\n",
    "            \n",
    "        return output\n",
    "    \n",
    "    def training_step(self, batch, batch_idx):\n",
    "        input_ids = batch[\"input_ids\"]\n",
    "        attention_mask = batch[\"attention_mask\"]\n",
    "        labels = batch[\"labels\"]\n",
    "        \n",
    "        outputs = self(input_ids, attention_mask)\n",
    "        loss = self.criterion(outputs, labels)\n",
    "        self.log(\"train_loss\", loss, prog_bar=True, logger=True)\n",
    "        \n",
    "        return {\"loss\": loss, \"predictions\": outputs.detach(), \"labels\": labels}\n",
    "    \n",
    "    def validation_step(self, batch, batch_idx):\n",
    "        input_ids = batch[\"input_ids\"]\n",
    "        attention_mask = batch[\"attention_mask\"]\n",
    "        labels = batch[\"labels\"]\n",
    "        \n",
    "        outputs = self(input_ids, attention_mask)\n",
    "        loss = self.criterion(outputs, labels)\n",
    "        self.log(\"val_loss\", loss, prog_bar=True, logger=True)\n",
    "        \n",
    "        return loss\n",
    "    \n",
    "    \n",
    "    def test_step(self, batch, batch_idx):\n",
    "        input_ids = batch[\"input_ids\"]\n",
    "        attention_mask = batch[\"attention_mask\"]\n",
    "        labels = batch[\"labels\"]\n",
    "        \n",
    "        outputs = self(input_ids, attention_mask)\n",
    "        loss = self.criterion(outputs, labels)\n",
    "        self.log(\"test_loss\", loss, prog_bar=True, logger=True)\n",
    "        \n",
    "        return loss\n",
    "    \n",
    "    \n",
    "    def training_epoch_end(self, outputs):\n",
    "        \n",
    "        #List to store the true labels and the model's predictions\n",
    "        labels = []\n",
    "        predictions = []\n",
    "        \n",
    "        #Iterate through all the outputs and get the true vs. predicted label\n",
    "        for output in outputs:\n",
    "            \n",
    "            for label in output[\"labels\"].detach().cpu():\n",
    "                labels.append(label)\n",
    "            for pred in output[\"predictions\"].detach().cpu():\n",
    "                predictions.append(pred)\n",
    "        \n",
    "        #Stack the tensors\n",
    "        labels = torch.stack(labels).int()\n",
    "        predictions = torch.stack(predictions)\n",
    "        \n",
    "        #Record the AUROC for each aspect after each training epoch\n",
    "        for idx, name in enumerate(ASPECTS):\n",
    "            metric = AUROC()\n",
    "            class_roc_auc = metric(predictions[:,idx], labels[:,idx])\n",
    "            self.logger.experiment.add_scalar(f\"{name}_roc_auc/Train\", class_roc_auc, self.current_epoch)\n",
    "   \n",
    "    \n",
    "    def configure_optimizers(self):\n",
    "        \n",
    "        optimizer = AdamW(self.parameters(), lr = self.lr)\n",
    "        \n",
    "        scheduler = get_linear_schedule_with_warmup(\n",
    "            optimizer,\n",
    "            num_warmup_steps=self.n_warmup_steps,\n",
    "            num_training_steps=self.n_training_steps)\n",
    "        \n",
    "          \n",
    "        return {'optimizer': optimizer, 'lr_scheduler':{'scheduler':scheduler,'interval':'step'}}\n",
    "    "
   ]
  },
  {
   "cell_type": "code",
   "execution_count": 53,
   "id": "cc63bd81-e18b-4483-955b-b82280e9d7d0",
   "metadata": {},
   "outputs": [],
   "source": [
    "#Define variables\n",
    "N_EPOCHS = 20\n",
    "STEPS_PER_EPOCH =len(train_df)//TRAIN_BATCH_SIZE\n",
    "TOTAL_TRAIN_STEPS = STEPS_PER_EPOCH * N_EPOCHS\n",
    "N_WARMUP_STEPS = TOTAL_TRAIN_STEPS // 4\n",
    "\n",
    "#Instantiate the classifier model\n",
    "model = ISP_TweetAspectClassifier(n_training_steps = TOTAL_TRAIN_STEPS,\n",
    "                                  n_warmup_steps = N_WARMUP_STEPS)"
   ]
  },
  {
   "cell_type": "markdown",
   "id": "1869822a-c84a-41ca-be7c-431620660b6e",
   "metadata": {},
   "source": [
    "### d. Training"
   ]
  },
  {
   "cell_type": "code",
   "execution_count": 54,
   "id": "5bf88615-5761-4f0f-b8a6-839c4284fbe3",
   "metadata": {},
   "outputs": [],
   "source": [
    "#Setup callback to perform saves during training\n",
    "checkpoint_callback = ModelCheckpoint(\n",
    "  dirpath    = \"../models/absa-aspect-extraction/bert\",\n",
    "  filename   = \"ae-{epoch:02d}-{val_loss:.2f}\",\n",
    "  save_top_k = 3, #Save the top 3 models\n",
    "  verbose    = True,\n",
    "  monitor    = \"val_loss\",\n",
    "  mode       = \"min\" #Minimize val loss\n",
    ")\n",
    "\n",
    "#Log progress in Tensorboard\n",
    "logger = TensorBoardLogger(\"../models/absa-aspect-extraction/bert/lightning_logs\", name = \"isp-tweets\")"
   ]
  },
  {
   "cell_type": "code",
   "execution_count": 55,
   "id": "be04c7c5-9c77-4b9d-bd78-ff4a9d272f85",
   "metadata": {},
   "outputs": [
    {
     "name": "stderr",
     "output_type": "stream",
     "text": [
      "GPU available: False, used: False\n",
      "TPU available: False, using: 0 TPU cores\n",
      "IPU available: False, using: 0 IPUs\n",
      "\n",
      "  | Name       | Type      | Params\n",
      "-----------------------------------------\n",
      "0 | bert       | BertModel | 108 M \n",
      "1 | classifier | Linear    | 4.6 K \n",
      "2 | criterion  | BCELoss   | 0     \n",
      "-----------------------------------------\n",
      "108 M     Trainable params\n",
      "0         Non-trainable params\n",
      "108 M     Total params\n",
      "433.260   Total estimated model params size (MB)\n"
     ]
    },
    {
     "data": {
      "application/vnd.jupyter.widget-view+json": {
       "model_id": "e173a1b5d5e1405f9fc752689c504176",
       "version_major": 2,
       "version_minor": 0
      },
      "text/plain": [
       "Validation sanity check: 0it [00:00, ?it/s]"
      ]
     },
     "metadata": {},
     "output_type": "display_data"
    },
    {
     "name": "stderr",
     "output_type": "stream",
     "text": [
      "[W ParallelNative.cpp:214] Warning: Cannot set number of intraop threads after parallel work has started or after set_num_threads call when using native parallel backend (function set_num_threads)\n",
      "[W ParallelNative.cpp:214] Warning: Cannot set number of intraop threads after parallel work has started or after set_num_threads call when using native parallel backend (function set_num_threads)\n",
      "Global seed set to 123\n"
     ]
    },
    {
     "data": {
      "application/vnd.jupyter.widget-view+json": {
       "model_id": "5347793402bf4dbfa3ba6bb03db5fa9c",
       "version_major": 2,
       "version_minor": 0
      },
      "text/plain": [
       "Training: 0it [00:00, ?it/s]"
      ]
     },
     "metadata": {},
     "output_type": "display_data"
    },
    {
     "name": "stderr",
     "output_type": "stream",
     "text": [
      "[W ParallelNative.cpp:214] Warning: Cannot set number of intraop threads after parallel work has started or after set_num_threads call when using native parallel backend (function set_num_threads)\n",
      "[W ParallelNative.cpp:214] Warning: Cannot set number of intraop threads after parallel work has started or after set_num_threads call when using native parallel backend (function set_num_threads)\n"
     ]
    },
    {
     "data": {
      "application/vnd.jupyter.widget-view+json": {
       "model_id": "",
       "version_major": 2,
       "version_minor": 0
      },
      "text/plain": [
       "Validating: 0it [00:00, ?it/s]"
      ]
     },
     "metadata": {},
     "output_type": "display_data"
    },
    {
     "name": "stderr",
     "output_type": "stream",
     "text": [
      "[W ParallelNative.cpp:214] Warning: Cannot set number of intraop threads after parallel work has started or after set_num_threads call when using native parallel backend (function set_num_threads)\n",
      "[W ParallelNative.cpp:214] Warning: Cannot set number of intraop threads after parallel work has started or after set_num_threads call when using native parallel backend (function set_num_threads)\n",
      "Epoch 0, global step 14: val_loss reached 0.66135 (best 0.66135), saving model to \"/Users/koredeakande/Documents/Capstone/ISP Project/Coding/nigerian_isp_sentiment_analysis/models/absa-aspect-extraction/bert/ae-epoch=00-val_loss=0.66.ckpt\" as top 3\n",
      "[W ParallelNative.cpp:214] Warning: Cannot set number of intraop threads after parallel work has started or after set_num_threads call when using native parallel backend (function set_num_threads)\n",
      "[W ParallelNative.cpp:214] Warning: Cannot set number of intraop threads after parallel work has started or after set_num_threads call when using native parallel backend (function set_num_threads)\n"
     ]
    },
    {
     "data": {
      "application/vnd.jupyter.widget-view+json": {
       "model_id": "",
       "version_major": 2,
       "version_minor": 0
      },
      "text/plain": [
       "Validating: 0it [00:00, ?it/s]"
      ]
     },
     "metadata": {},
     "output_type": "display_data"
    },
    {
     "name": "stderr",
     "output_type": "stream",
     "text": [
      "[W ParallelNative.cpp:214] Warning: Cannot set number of intraop threads after parallel work has started or after set_num_threads call when using native parallel backend (function set_num_threads)\n",
      "[W ParallelNative.cpp:214] Warning: Cannot set number of intraop threads after parallel work has started or after set_num_threads call when using native parallel backend (function set_num_threads)\n",
      "Epoch 1, global step 29: val_loss reached 0.47169 (best 0.47169), saving model to \"/Users/koredeakande/Documents/Capstone/ISP Project/Coding/nigerian_isp_sentiment_analysis/models/absa-aspect-extraction/bert/ae-epoch=01-val_loss=0.47.ckpt\" as top 3\n",
      "[W ParallelNative.cpp:214] Warning: Cannot set number of intraop threads after parallel work has started or after set_num_threads call when using native parallel backend (function set_num_threads)\n",
      "[W ParallelNative.cpp:214] Warning: Cannot set number of intraop threads after parallel work has started or after set_num_threads call when using native parallel backend (function set_num_threads)\n"
     ]
    },
    {
     "data": {
      "application/vnd.jupyter.widget-view+json": {
       "model_id": "",
       "version_major": 2,
       "version_minor": 0
      },
      "text/plain": [
       "Validating: 0it [00:00, ?it/s]"
      ]
     },
     "metadata": {},
     "output_type": "display_data"
    },
    {
     "name": "stderr",
     "output_type": "stream",
     "text": [
      "[W ParallelNative.cpp:214] Warning: Cannot set number of intraop threads after parallel work has started or after set_num_threads call when using native parallel backend (function set_num_threads)\n",
      "[W ParallelNative.cpp:214] Warning: Cannot set number of intraop threads after parallel work has started or after set_num_threads call when using native parallel backend (function set_num_threads)\n",
      "Epoch 2, global step 44: val_loss reached 0.36309 (best 0.36309), saving model to \"/Users/koredeakande/Documents/Capstone/ISP Project/Coding/nigerian_isp_sentiment_analysis/models/absa-aspect-extraction/bert/ae-epoch=02-val_loss=0.36.ckpt\" as top 3\n",
      "[W ParallelNative.cpp:214] Warning: Cannot set number of intraop threads after parallel work has started or after set_num_threads call when using native parallel backend (function set_num_threads)\n",
      "[W ParallelNative.cpp:214] Warning: Cannot set number of intraop threads after parallel work has started or after set_num_threads call when using native parallel backend (function set_num_threads)\n"
     ]
    },
    {
     "data": {
      "application/vnd.jupyter.widget-view+json": {
       "model_id": "",
       "version_major": 2,
       "version_minor": 0
      },
      "text/plain": [
       "Validating: 0it [00:00, ?it/s]"
      ]
     },
     "metadata": {},
     "output_type": "display_data"
    },
    {
     "name": "stderr",
     "output_type": "stream",
     "text": [
      "[W ParallelNative.cpp:214] Warning: Cannot set number of intraop threads after parallel work has started or after set_num_threads call when using native parallel backend (function set_num_threads)\n",
      "[W ParallelNative.cpp:214] Warning: Cannot set number of intraop threads after parallel work has started or after set_num_threads call when using native parallel backend (function set_num_threads)\n",
      "Epoch 3, global step 59: val_loss reached 0.29583 (best 0.29583), saving model to \"/Users/koredeakande/Documents/Capstone/ISP Project/Coding/nigerian_isp_sentiment_analysis/models/absa-aspect-extraction/bert/ae-epoch=03-val_loss=0.30.ckpt\" as top 3\n",
      "[W ParallelNative.cpp:214] Warning: Cannot set number of intraop threads after parallel work has started or after set_num_threads call when using native parallel backend (function set_num_threads)\n",
      "[W ParallelNative.cpp:214] Warning: Cannot set number of intraop threads after parallel work has started or after set_num_threads call when using native parallel backend (function set_num_threads)\n"
     ]
    },
    {
     "data": {
      "application/vnd.jupyter.widget-view+json": {
       "model_id": "",
       "version_major": 2,
       "version_minor": 0
      },
      "text/plain": [
       "Validating: 0it [00:00, ?it/s]"
      ]
     },
     "metadata": {},
     "output_type": "display_data"
    },
    {
     "name": "stderr",
     "output_type": "stream",
     "text": [
      "[W ParallelNative.cpp:214] Warning: Cannot set number of intraop threads after parallel work has started or after set_num_threads call when using native parallel backend (function set_num_threads)\n",
      "[W ParallelNative.cpp:214] Warning: Cannot set number of intraop threads after parallel work has started or after set_num_threads call when using native parallel backend (function set_num_threads)\n",
      "Epoch 4, global step 74: val_loss reached 0.24834 (best 0.24834), saving model to \"/Users/koredeakande/Documents/Capstone/ISP Project/Coding/nigerian_isp_sentiment_analysis/models/absa-aspect-extraction/bert/ae-epoch=04-val_loss=0.25.ckpt\" as top 3\n",
      "[W ParallelNative.cpp:214] Warning: Cannot set number of intraop threads after parallel work has started or after set_num_threads call when using native parallel backend (function set_num_threads)\n",
      "[W ParallelNative.cpp:214] Warning: Cannot set number of intraop threads after parallel work has started or after set_num_threads call when using native parallel backend (function set_num_threads)\n"
     ]
    },
    {
     "data": {
      "application/vnd.jupyter.widget-view+json": {
       "model_id": "",
       "version_major": 2,
       "version_minor": 0
      },
      "text/plain": [
       "Validating: 0it [00:00, ?it/s]"
      ]
     },
     "metadata": {},
     "output_type": "display_data"
    },
    {
     "name": "stderr",
     "output_type": "stream",
     "text": [
      "[W ParallelNative.cpp:214] Warning: Cannot set number of intraop threads after parallel work has started or after set_num_threads call when using native parallel backend (function set_num_threads)\n",
      "[W ParallelNative.cpp:214] Warning: Cannot set number of intraop threads after parallel work has started or after set_num_threads call when using native parallel backend (function set_num_threads)\n",
      "Epoch 5, global step 89: val_loss reached 0.22998 (best 0.22998), saving model to \"/Users/koredeakande/Documents/Capstone/ISP Project/Coding/nigerian_isp_sentiment_analysis/models/absa-aspect-extraction/bert/ae-epoch=05-val_loss=0.23.ckpt\" as top 3\n",
      "[W ParallelNative.cpp:214] Warning: Cannot set number of intraop threads after parallel work has started or after set_num_threads call when using native parallel backend (function set_num_threads)\n",
      "[W ParallelNative.cpp:214] Warning: Cannot set number of intraop threads after parallel work has started or after set_num_threads call when using native parallel backend (function set_num_threads)\n"
     ]
    },
    {
     "data": {
      "application/vnd.jupyter.widget-view+json": {
       "model_id": "",
       "version_major": 2,
       "version_minor": 0
      },
      "text/plain": [
       "Validating: 0it [00:00, ?it/s]"
      ]
     },
     "metadata": {},
     "output_type": "display_data"
    },
    {
     "name": "stderr",
     "output_type": "stream",
     "text": [
      "[W ParallelNative.cpp:214] Warning: Cannot set number of intraop threads after parallel work has started or after set_num_threads call when using native parallel backend (function set_num_threads)\n",
      "[W ParallelNative.cpp:214] Warning: Cannot set number of intraop threads after parallel work has started or after set_num_threads call when using native parallel backend (function set_num_threads)\n",
      "Epoch 6, global step 104: val_loss reached 0.22718 (best 0.22718), saving model to \"/Users/koredeakande/Documents/Capstone/ISP Project/Coding/nigerian_isp_sentiment_analysis/models/absa-aspect-extraction/bert/ae-epoch=06-val_loss=0.23.ckpt\" as top 3\n",
      "[W ParallelNative.cpp:214] Warning: Cannot set number of intraop threads after parallel work has started or after set_num_threads call when using native parallel backend (function set_num_threads)\n",
      "[W ParallelNative.cpp:214] Warning: Cannot set number of intraop threads after parallel work has started or after set_num_threads call when using native parallel backend (function set_num_threads)\n"
     ]
    },
    {
     "data": {
      "application/vnd.jupyter.widget-view+json": {
       "model_id": "",
       "version_major": 2,
       "version_minor": 0
      },
      "text/plain": [
       "Validating: 0it [00:00, ?it/s]"
      ]
     },
     "metadata": {},
     "output_type": "display_data"
    },
    {
     "name": "stderr",
     "output_type": "stream",
     "text": [
      "[W ParallelNative.cpp:214] Warning: Cannot set number of intraop threads after parallel work has started or after set_num_threads call when using native parallel backend (function set_num_threads)\n",
      "[W ParallelNative.cpp:214] Warning: Cannot set number of intraop threads after parallel work has started or after set_num_threads call when using native parallel backend (function set_num_threads)\n",
      "Epoch 7, global step 119: val_loss reached 0.22309 (best 0.22309), saving model to \"/Users/koredeakande/Documents/Capstone/ISP Project/Coding/nigerian_isp_sentiment_analysis/models/absa-aspect-extraction/bert/ae-epoch=07-val_loss=0.22.ckpt\" as top 3\n",
      "[W ParallelNative.cpp:214] Warning: Cannot set number of intraop threads after parallel work has started or after set_num_threads call when using native parallel backend (function set_num_threads)\n",
      "[W ParallelNative.cpp:214] Warning: Cannot set number of intraop threads after parallel work has started or after set_num_threads call when using native parallel backend (function set_num_threads)\n"
     ]
    },
    {
     "data": {
      "application/vnd.jupyter.widget-view+json": {
       "model_id": "",
       "version_major": 2,
       "version_minor": 0
      },
      "text/plain": [
       "Validating: 0it [00:00, ?it/s]"
      ]
     },
     "metadata": {},
     "output_type": "display_data"
    },
    {
     "name": "stderr",
     "output_type": "stream",
     "text": [
      "[W ParallelNative.cpp:214] Warning: Cannot set number of intraop threads after parallel work has started or after set_num_threads call when using native parallel backend (function set_num_threads)\n",
      "[W ParallelNative.cpp:214] Warning: Cannot set number of intraop threads after parallel work has started or after set_num_threads call when using native parallel backend (function set_num_threads)\n",
      "Epoch 8, global step 134: val_loss reached 0.21890 (best 0.21890), saving model to \"/Users/koredeakande/Documents/Capstone/ISP Project/Coding/nigerian_isp_sentiment_analysis/models/absa-aspect-extraction/bert/ae-epoch=08-val_loss=0.22.ckpt\" as top 3\n",
      "[W ParallelNative.cpp:214] Warning: Cannot set number of intraop threads after parallel work has started or after set_num_threads call when using native parallel backend (function set_num_threads)\n",
      "[W ParallelNative.cpp:214] Warning: Cannot set number of intraop threads after parallel work has started or after set_num_threads call when using native parallel backend (function set_num_threads)\n"
     ]
    },
    {
     "data": {
      "application/vnd.jupyter.widget-view+json": {
       "model_id": "",
       "version_major": 2,
       "version_minor": 0
      },
      "text/plain": [
       "Validating: 0it [00:00, ?it/s]"
      ]
     },
     "metadata": {},
     "output_type": "display_data"
    },
    {
     "name": "stderr",
     "output_type": "stream",
     "text": [
      "[W ParallelNative.cpp:214] Warning: Cannot set number of intraop threads after parallel work has started or after set_num_threads call when using native parallel backend (function set_num_threads)\n",
      "[W ParallelNative.cpp:214] Warning: Cannot set number of intraop threads after parallel work has started or after set_num_threads call when using native parallel backend (function set_num_threads)\n",
      "Epoch 9, global step 149: val_loss reached 0.21224 (best 0.21224), saving model to \"/Users/koredeakande/Documents/Capstone/ISP Project/Coding/nigerian_isp_sentiment_analysis/models/absa-aspect-extraction/bert/ae-epoch=09-val_loss=0.21.ckpt\" as top 3\n",
      "[W ParallelNative.cpp:214] Warning: Cannot set number of intraop threads after parallel work has started or after set_num_threads call when using native parallel backend (function set_num_threads)\n",
      "[W ParallelNative.cpp:214] Warning: Cannot set number of intraop threads after parallel work has started or after set_num_threads call when using native parallel backend (function set_num_threads)\n"
     ]
    },
    {
     "data": {
      "application/vnd.jupyter.widget-view+json": {
       "model_id": "",
       "version_major": 2,
       "version_minor": 0
      },
      "text/plain": [
       "Validating: 0it [00:00, ?it/s]"
      ]
     },
     "metadata": {},
     "output_type": "display_data"
    },
    {
     "name": "stderr",
     "output_type": "stream",
     "text": [
      "[W ParallelNative.cpp:214] Warning: Cannot set number of intraop threads after parallel work has started or after set_num_threads call when using native parallel backend (function set_num_threads)\n",
      "[W ParallelNative.cpp:214] Warning: Cannot set number of intraop threads after parallel work has started or after set_num_threads call when using native parallel backend (function set_num_threads)\n",
      "Epoch 10, global step 164: val_loss reached 0.20746 (best 0.20746), saving model to \"/Users/koredeakande/Documents/Capstone/ISP Project/Coding/nigerian_isp_sentiment_analysis/models/absa-aspect-extraction/bert/ae-epoch=10-val_loss=0.21.ckpt\" as top 3\n",
      "[W ParallelNative.cpp:214] Warning: Cannot set number of intraop threads after parallel work has started or after set_num_threads call when using native parallel backend (function set_num_threads)\n",
      "[W ParallelNative.cpp:214] Warning: Cannot set number of intraop threads after parallel work has started or after set_num_threads call when using native parallel backend (function set_num_threads)\n"
     ]
    },
    {
     "data": {
      "application/vnd.jupyter.widget-view+json": {
       "model_id": "",
       "version_major": 2,
       "version_minor": 0
      },
      "text/plain": [
       "Validating: 0it [00:00, ?it/s]"
      ]
     },
     "metadata": {},
     "output_type": "display_data"
    },
    {
     "name": "stderr",
     "output_type": "stream",
     "text": [
      "[W ParallelNative.cpp:214] Warning: Cannot set number of intraop threads after parallel work has started or after set_num_threads call when using native parallel backend (function set_num_threads)\n",
      "[W ParallelNative.cpp:214] Warning: Cannot set number of intraop threads after parallel work has started or after set_num_threads call when using native parallel backend (function set_num_threads)\n",
      "Epoch 11, global step 179: val_loss reached 0.20022 (best 0.20022), saving model to \"/Users/koredeakande/Documents/Capstone/ISP Project/Coding/nigerian_isp_sentiment_analysis/models/absa-aspect-extraction/bert/ae-epoch=11-val_loss=0.20.ckpt\" as top 3\n",
      "[W ParallelNative.cpp:214] Warning: Cannot set number of intraop threads after parallel work has started or after set_num_threads call when using native parallel backend (function set_num_threads)\n",
      "[W ParallelNative.cpp:214] Warning: Cannot set number of intraop threads after parallel work has started or after set_num_threads call when using native parallel backend (function set_num_threads)\n"
     ]
    },
    {
     "data": {
      "application/vnd.jupyter.widget-view+json": {
       "model_id": "",
       "version_major": 2,
       "version_minor": 0
      },
      "text/plain": [
       "Validating: 0it [00:00, ?it/s]"
      ]
     },
     "metadata": {},
     "output_type": "display_data"
    },
    {
     "name": "stderr",
     "output_type": "stream",
     "text": [
      "[W ParallelNative.cpp:214] Warning: Cannot set number of intraop threads after parallel work has started or after set_num_threads call when using native parallel backend (function set_num_threads)\n",
      "[W ParallelNative.cpp:214] Warning: Cannot set number of intraop threads after parallel work has started or after set_num_threads call when using native parallel backend (function set_num_threads)\n",
      "Epoch 12, global step 194: val_loss reached 0.19551 (best 0.19551), saving model to \"/Users/koredeakande/Documents/Capstone/ISP Project/Coding/nigerian_isp_sentiment_analysis/models/absa-aspect-extraction/bert/ae-epoch=12-val_loss=0.20.ckpt\" as top 3\n",
      "[W ParallelNative.cpp:214] Warning: Cannot set number of intraop threads after parallel work has started or after set_num_threads call when using native parallel backend (function set_num_threads)\n",
      "[W ParallelNative.cpp:214] Warning: Cannot set number of intraop threads after parallel work has started or after set_num_threads call when using native parallel backend (function set_num_threads)\n"
     ]
    },
    {
     "data": {
      "application/vnd.jupyter.widget-view+json": {
       "model_id": "",
       "version_major": 2,
       "version_minor": 0
      },
      "text/plain": [
       "Validating: 0it [00:00, ?it/s]"
      ]
     },
     "metadata": {},
     "output_type": "display_data"
    },
    {
     "name": "stderr",
     "output_type": "stream",
     "text": [
      "[W ParallelNative.cpp:214] Warning: Cannot set number of intraop threads after parallel work has started or after set_num_threads call when using native parallel backend (function set_num_threads)\n",
      "[W ParallelNative.cpp:214] Warning: Cannot set number of intraop threads after parallel work has started or after set_num_threads call when using native parallel backend (function set_num_threads)\n",
      "Epoch 13, global step 209: val_loss reached 0.18953 (best 0.18953), saving model to \"/Users/koredeakande/Documents/Capstone/ISP Project/Coding/nigerian_isp_sentiment_analysis/models/absa-aspect-extraction/bert/ae-epoch=13-val_loss=0.19.ckpt\" as top 3\n",
      "[W ParallelNative.cpp:214] Warning: Cannot set number of intraop threads after parallel work has started or after set_num_threads call when using native parallel backend (function set_num_threads)\n",
      "[W ParallelNative.cpp:214] Warning: Cannot set number of intraop threads after parallel work has started or after set_num_threads call when using native parallel backend (function set_num_threads)\n"
     ]
    },
    {
     "data": {
      "application/vnd.jupyter.widget-view+json": {
       "model_id": "",
       "version_major": 2,
       "version_minor": 0
      },
      "text/plain": [
       "Validating: 0it [00:00, ?it/s]"
      ]
     },
     "metadata": {},
     "output_type": "display_data"
    },
    {
     "name": "stderr",
     "output_type": "stream",
     "text": [
      "[W ParallelNative.cpp:214] Warning: Cannot set number of intraop threads after parallel work has started or after set_num_threads call when using native parallel backend (function set_num_threads)\n",
      "[W ParallelNative.cpp:214] Warning: Cannot set number of intraop threads after parallel work has started or after set_num_threads call when using native parallel backend (function set_num_threads)\n",
      "Epoch 14, global step 224: val_loss reached 0.18479 (best 0.18479), saving model to \"/Users/koredeakande/Documents/Capstone/ISP Project/Coding/nigerian_isp_sentiment_analysis/models/absa-aspect-extraction/bert/ae-epoch=14-val_loss=0.18.ckpt\" as top 3\n",
      "[W ParallelNative.cpp:214] Warning: Cannot set number of intraop threads after parallel work has started or after set_num_threads call when using native parallel backend (function set_num_threads)\n",
      "[W ParallelNative.cpp:214] Warning: Cannot set number of intraop threads after parallel work has started or after set_num_threads call when using native parallel backend (function set_num_threads)\n"
     ]
    },
    {
     "data": {
      "application/vnd.jupyter.widget-view+json": {
       "model_id": "",
       "version_major": 2,
       "version_minor": 0
      },
      "text/plain": [
       "Validating: 0it [00:00, ?it/s]"
      ]
     },
     "metadata": {},
     "output_type": "display_data"
    },
    {
     "name": "stderr",
     "output_type": "stream",
     "text": [
      "[W ParallelNative.cpp:214] Warning: Cannot set number of intraop threads after parallel work has started or after set_num_threads call when using native parallel backend (function set_num_threads)\n",
      "[W ParallelNative.cpp:214] Warning: Cannot set number of intraop threads after parallel work has started or after set_num_threads call when using native parallel backend (function set_num_threads)\n",
      "Epoch 15, global step 239: val_loss reached 0.18553 (best 0.18479), saving model to \"/Users/koredeakande/Documents/Capstone/ISP Project/Coding/nigerian_isp_sentiment_analysis/models/absa-aspect-extraction/bert/ae-epoch=15-val_loss=0.19.ckpt\" as top 3\n",
      "[W ParallelNative.cpp:214] Warning: Cannot set number of intraop threads after parallel work has started or after set_num_threads call when using native parallel backend (function set_num_threads)\n",
      "[W ParallelNative.cpp:214] Warning: Cannot set number of intraop threads after parallel work has started or after set_num_threads call when using native parallel backend (function set_num_threads)\n"
     ]
    },
    {
     "data": {
      "application/vnd.jupyter.widget-view+json": {
       "model_id": "",
       "version_major": 2,
       "version_minor": 0
      },
      "text/plain": [
       "Validating: 0it [00:00, ?it/s]"
      ]
     },
     "metadata": {},
     "output_type": "display_data"
    },
    {
     "name": "stderr",
     "output_type": "stream",
     "text": [
      "[W ParallelNative.cpp:214] Warning: Cannot set number of intraop threads after parallel work has started or after set_num_threads call when using native parallel backend (function set_num_threads)\n",
      "[W ParallelNative.cpp:214] Warning: Cannot set number of intraop threads after parallel work has started or after set_num_threads call when using native parallel backend (function set_num_threads)\n",
      "Epoch 16, global step 254: val_loss reached 0.18021 (best 0.18021), saving model to \"/Users/koredeakande/Documents/Capstone/ISP Project/Coding/nigerian_isp_sentiment_analysis/models/absa-aspect-extraction/bert/ae-epoch=16-val_loss=0.18.ckpt\" as top 3\n",
      "[W ParallelNative.cpp:214] Warning: Cannot set number of intraop threads after parallel work has started or after set_num_threads call when using native parallel backend (function set_num_threads)\n",
      "[W ParallelNative.cpp:214] Warning: Cannot set number of intraop threads after parallel work has started or after set_num_threads call when using native parallel backend (function set_num_threads)\n"
     ]
    },
    {
     "data": {
      "application/vnd.jupyter.widget-view+json": {
       "model_id": "",
       "version_major": 2,
       "version_minor": 0
      },
      "text/plain": [
       "Validating: 0it [00:00, ?it/s]"
      ]
     },
     "metadata": {},
     "output_type": "display_data"
    },
    {
     "name": "stderr",
     "output_type": "stream",
     "text": [
      "[W ParallelNative.cpp:214] Warning: Cannot set number of intraop threads after parallel work has started or after set_num_threads call when using native parallel backend (function set_num_threads)\n",
      "[W ParallelNative.cpp:214] Warning: Cannot set number of intraop threads after parallel work has started or after set_num_threads call when using native parallel backend (function set_num_threads)\n",
      "Epoch 17, global step 269: val_loss reached 0.17827 (best 0.17827), saving model to \"/Users/koredeakande/Documents/Capstone/ISP Project/Coding/nigerian_isp_sentiment_analysis/models/absa-aspect-extraction/bert/ae-epoch=17-val_loss=0.18.ckpt\" as top 3\n",
      "[W ParallelNative.cpp:214] Warning: Cannot set number of intraop threads after parallel work has started or after set_num_threads call when using native parallel backend (function set_num_threads)\n",
      "[W ParallelNative.cpp:214] Warning: Cannot set number of intraop threads after parallel work has started or after set_num_threads call when using native parallel backend (function set_num_threads)\n"
     ]
    },
    {
     "data": {
      "application/vnd.jupyter.widget-view+json": {
       "model_id": "",
       "version_major": 2,
       "version_minor": 0
      },
      "text/plain": [
       "Validating: 0it [00:00, ?it/s]"
      ]
     },
     "metadata": {},
     "output_type": "display_data"
    },
    {
     "name": "stderr",
     "output_type": "stream",
     "text": [
      "[W ParallelNative.cpp:214] Warning: Cannot set number of intraop threads after parallel work has started or after set_num_threads call when using native parallel backend (function set_num_threads)\n",
      "[W ParallelNative.cpp:214] Warning: Cannot set number of intraop threads after parallel work has started or after set_num_threads call when using native parallel backend (function set_num_threads)\n",
      "Epoch 18, global step 284: val_loss reached 0.17833 (best 0.17827), saving model to \"/Users/koredeakande/Documents/Capstone/ISP Project/Coding/nigerian_isp_sentiment_analysis/models/absa-aspect-extraction/bert/ae-epoch=18-val_loss=0.18.ckpt\" as top 3\n",
      "[W ParallelNative.cpp:214] Warning: Cannot set number of intraop threads after parallel work has started or after set_num_threads call when using native parallel backend (function set_num_threads)\n",
      "[W ParallelNative.cpp:214] Warning: Cannot set number of intraop threads after parallel work has started or after set_num_threads call when using native parallel backend (function set_num_threads)\n"
     ]
    },
    {
     "data": {
      "application/vnd.jupyter.widget-view+json": {
       "model_id": "",
       "version_major": 2,
       "version_minor": 0
      },
      "text/plain": [
       "Validating: 0it [00:00, ?it/s]"
      ]
     },
     "metadata": {},
     "output_type": "display_data"
    },
    {
     "name": "stderr",
     "output_type": "stream",
     "text": [
      "[W ParallelNative.cpp:214] Warning: Cannot set number of intraop threads after parallel work has started or after set_num_threads call when using native parallel backend (function set_num_threads)\n",
      "[W ParallelNative.cpp:214] Warning: Cannot set number of intraop threads after parallel work has started or after set_num_threads call when using native parallel backend (function set_num_threads)\n",
      "Epoch 19, global step 299: val_loss reached 0.17833 (best 0.17827), saving model to \"/Users/koredeakande/Documents/Capstone/ISP Project/Coding/nigerian_isp_sentiment_analysis/models/absa-aspect-extraction/bert/ae-epoch=19-val_loss=0.18.ckpt\" as top 3\n"
     ]
    }
   ],
   "source": [
    "trainer = pl.Trainer(\n",
    "    #gpus                       = 1,\n",
    "    logger                      = logger,\n",
    "    log_every_n_steps           = 15,\n",
    "    callbacks                   = [checkpoint_callback],\n",
    "    max_epochs                  =  N_EPOCHS,\n",
    "    progress_bar_refresh_rate   =  30\n",
    ")\n",
    "\n",
    "trainer.fit(model, data_module)"
   ]
  },
  {
   "cell_type": "markdown",
   "id": "330b2bc7-6ad4-4830-9f6b-43398e9849e0",
   "metadata": {},
   "source": [
    "### e. Model Evaluation"
   ]
  },
  {
   "cell_type": "code",
   "execution_count": 56,
   "id": "61d0d21b-4524-49cf-81ef-392e51f8dcc4",
   "metadata": {},
   "outputs": [
    {
     "name": "stderr",
     "output_type": "stream",
     "text": [
      "/Users/koredeakande/opt/anaconda3/envs/capstone/lib/python3.7/site-packages/pytorch_lightning/trainer/data_loading.py:111: UserWarning: The dataloader, test_dataloader 0, does not have many workers which may be a bottleneck. Consider increasing the value of the `num_workers` argument` (try 8 which is the number of cpus on this machine) in the `DataLoader` init to improve performance.\n",
      "  f\"The dataloader, {name}, does not have many workers which may be a bottleneck.\"\n"
     ]
    },
    {
     "data": {
      "application/vnd.jupyter.widget-view+json": {
       "model_id": "0788968496b74d19b886c0a87dfe0db1",
       "version_major": 2,
       "version_minor": 0
      },
      "text/plain": [
       "Testing: 0it [00:00, ?it/s]"
      ]
     },
     "metadata": {},
     "output_type": "display_data"
    },
    {
     "name": "stderr",
     "output_type": "stream",
     "text": [
      "[W ParallelNative.cpp:214] Warning: Cannot set number of intraop threads after parallel work has started or after set_num_threads call when using native parallel backend (function set_num_threads)\n",
      "[W ParallelNative.cpp:214] Warning: Cannot set number of intraop threads after parallel work has started or after set_num_threads call when using native parallel backend (function set_num_threads)\n"
     ]
    },
    {
     "name": "stdout",
     "output_type": "stream",
     "text": [
      "--------------------------------------------------------------------------------\n",
      "DATALOADER:0 TEST RESULTS\n",
      "{'test_loss': 0.20326657593250275}\n",
      "--------------------------------------------------------------------------------\n"
     ]
    },
    {
     "data": {
      "text/plain": [
       "[{'test_loss': 0.20326657593250275}]"
      ]
     },
     "execution_count": 56,
     "metadata": {},
     "output_type": "execute_result"
    }
   ],
   "source": [
    "#Evaluate the model's performance on the test dataset\n",
    "trainer.test(model,data_module)"
   ]
  },
  {
   "cell_type": "code",
   "execution_count": 82,
   "id": "d14c7ba0-833f-4d73-a17f-8668f18fe34c",
   "metadata": {
    "tags": []
   },
   "outputs": [
    {
     "name": "stdout",
     "output_type": "stream",
     "text": [
      "The tensorboard extension is already loaded. To reload it, use:\n",
      "  %reload_ext tensorboard\n"
     ]
    },
    {
     "data": {
      "text/plain": [
       "Reusing TensorBoard on port 6007 (pid 18673), started 1:27:02 ago. (Use '!kill 18673' to kill it.)"
      ]
     },
     "metadata": {},
     "output_type": "display_data"
    },
    {
     "data": {
      "text/html": [
       "\n",
       "      <iframe id=\"tensorboard-frame-443cdef36840ff07\" width=\"100%\" height=\"800\" frameborder=\"0\">\n",
       "      </iframe>\n",
       "      <script>\n",
       "        (function() {\n",
       "          const frame = document.getElementById(\"tensorboard-frame-443cdef36840ff07\");\n",
       "          const url = new URL(\"/\", window.location);\n",
       "          const port = 6007;\n",
       "          if (port) {\n",
       "            url.port = port;\n",
       "          }\n",
       "          frame.src = url;\n",
       "        })();\n",
       "      </script>\n",
       "    "
      ],
      "text/plain": [
       "<IPython.core.display.HTML object>"
      ]
     },
     "metadata": {},
     "output_type": "display_data"
    }
   ],
   "source": [
    "# Visualize the logs using tensorboard.\n",
    "%load_ext tensorboard\n",
    "%tensorboard --logdir ../models/absa-aspect-extraction/bert/lightning_logs/\n",
    "#%reload_ext tensorboard"
   ]
  },
  {
   "cell_type": "markdown",
   "id": "77b34489-7d53-4873-871a-65a0d6b71c0d",
   "metadata": {},
   "source": [
    "#### (i) Evaluate model performance on a generated example"
   ]
  },
  {
   "cell_type": "code",
   "execution_count": 64,
   "id": "a83df404-08db-4a45-9060-ac1bc11e1a3a",
   "metadata": {},
   "outputs": [
    {
     "data": {
      "text/plain": [
       "'/Users/koredeakande/Documents/Capstone/ISP Project/Coding/nigerian_isp_sentiment_analysis/models/absa-aspect-extraction/bert/ae-epoch=17-val_loss=0.18.ckpt'"
      ]
     },
     "execution_count": 64,
     "metadata": {},
     "output_type": "execute_result"
    }
   ],
   "source": [
    "trainer.checkpoint_callback.best_model_path"
   ]
  },
  {
   "cell_type": "code",
   "execution_count": 59,
   "id": "07b46acb-3632-477d-913d-c04f28ea34c2",
   "metadata": {},
   "outputs": [
    {
     "data": {
      "text/plain": [
       "ISP_TweetAspectClassifier(\n",
       "  (bert): BertModel(\n",
       "    (embeddings): BertEmbeddings(\n",
       "      (word_embeddings): Embedding(28996, 768, padding_idx=0)\n",
       "      (position_embeddings): Embedding(512, 768)\n",
       "      (token_type_embeddings): Embedding(2, 768)\n",
       "      (LayerNorm): LayerNorm((768,), eps=1e-12, elementwise_affine=True)\n",
       "      (dropout): Dropout(p=0.1, inplace=False)\n",
       "    )\n",
       "    (encoder): BertEncoder(\n",
       "      (layer): ModuleList(\n",
       "        (0): BertLayer(\n",
       "          (attention): BertAttention(\n",
       "            (self): BertSelfAttention(\n",
       "              (query): Linear(in_features=768, out_features=768, bias=True)\n",
       "              (key): Linear(in_features=768, out_features=768, bias=True)\n",
       "              (value): Linear(in_features=768, out_features=768, bias=True)\n",
       "              (dropout): Dropout(p=0.1, inplace=False)\n",
       "            )\n",
       "            (output): BertSelfOutput(\n",
       "              (dense): Linear(in_features=768, out_features=768, bias=True)\n",
       "              (LayerNorm): LayerNorm((768,), eps=1e-12, elementwise_affine=True)\n",
       "              (dropout): Dropout(p=0.1, inplace=False)\n",
       "            )\n",
       "          )\n",
       "          (intermediate): BertIntermediate(\n",
       "            (dense): Linear(in_features=768, out_features=3072, bias=True)\n",
       "          )\n",
       "          (output): BertOutput(\n",
       "            (dense): Linear(in_features=3072, out_features=768, bias=True)\n",
       "            (LayerNorm): LayerNorm((768,), eps=1e-12, elementwise_affine=True)\n",
       "            (dropout): Dropout(p=0.1, inplace=False)\n",
       "          )\n",
       "        )\n",
       "        (1): BertLayer(\n",
       "          (attention): BertAttention(\n",
       "            (self): BertSelfAttention(\n",
       "              (query): Linear(in_features=768, out_features=768, bias=True)\n",
       "              (key): Linear(in_features=768, out_features=768, bias=True)\n",
       "              (value): Linear(in_features=768, out_features=768, bias=True)\n",
       "              (dropout): Dropout(p=0.1, inplace=False)\n",
       "            )\n",
       "            (output): BertSelfOutput(\n",
       "              (dense): Linear(in_features=768, out_features=768, bias=True)\n",
       "              (LayerNorm): LayerNorm((768,), eps=1e-12, elementwise_affine=True)\n",
       "              (dropout): Dropout(p=0.1, inplace=False)\n",
       "            )\n",
       "          )\n",
       "          (intermediate): BertIntermediate(\n",
       "            (dense): Linear(in_features=768, out_features=3072, bias=True)\n",
       "          )\n",
       "          (output): BertOutput(\n",
       "            (dense): Linear(in_features=3072, out_features=768, bias=True)\n",
       "            (LayerNorm): LayerNorm((768,), eps=1e-12, elementwise_affine=True)\n",
       "            (dropout): Dropout(p=0.1, inplace=False)\n",
       "          )\n",
       "        )\n",
       "        (2): BertLayer(\n",
       "          (attention): BertAttention(\n",
       "            (self): BertSelfAttention(\n",
       "              (query): Linear(in_features=768, out_features=768, bias=True)\n",
       "              (key): Linear(in_features=768, out_features=768, bias=True)\n",
       "              (value): Linear(in_features=768, out_features=768, bias=True)\n",
       "              (dropout): Dropout(p=0.1, inplace=False)\n",
       "            )\n",
       "            (output): BertSelfOutput(\n",
       "              (dense): Linear(in_features=768, out_features=768, bias=True)\n",
       "              (LayerNorm): LayerNorm((768,), eps=1e-12, elementwise_affine=True)\n",
       "              (dropout): Dropout(p=0.1, inplace=False)\n",
       "            )\n",
       "          )\n",
       "          (intermediate): BertIntermediate(\n",
       "            (dense): Linear(in_features=768, out_features=3072, bias=True)\n",
       "          )\n",
       "          (output): BertOutput(\n",
       "            (dense): Linear(in_features=3072, out_features=768, bias=True)\n",
       "            (LayerNorm): LayerNorm((768,), eps=1e-12, elementwise_affine=True)\n",
       "            (dropout): Dropout(p=0.1, inplace=False)\n",
       "          )\n",
       "        )\n",
       "        (3): BertLayer(\n",
       "          (attention): BertAttention(\n",
       "            (self): BertSelfAttention(\n",
       "              (query): Linear(in_features=768, out_features=768, bias=True)\n",
       "              (key): Linear(in_features=768, out_features=768, bias=True)\n",
       "              (value): Linear(in_features=768, out_features=768, bias=True)\n",
       "              (dropout): Dropout(p=0.1, inplace=False)\n",
       "            )\n",
       "            (output): BertSelfOutput(\n",
       "              (dense): Linear(in_features=768, out_features=768, bias=True)\n",
       "              (LayerNorm): LayerNorm((768,), eps=1e-12, elementwise_affine=True)\n",
       "              (dropout): Dropout(p=0.1, inplace=False)\n",
       "            )\n",
       "          )\n",
       "          (intermediate): BertIntermediate(\n",
       "            (dense): Linear(in_features=768, out_features=3072, bias=True)\n",
       "          )\n",
       "          (output): BertOutput(\n",
       "            (dense): Linear(in_features=3072, out_features=768, bias=True)\n",
       "            (LayerNorm): LayerNorm((768,), eps=1e-12, elementwise_affine=True)\n",
       "            (dropout): Dropout(p=0.1, inplace=False)\n",
       "          )\n",
       "        )\n",
       "        (4): BertLayer(\n",
       "          (attention): BertAttention(\n",
       "            (self): BertSelfAttention(\n",
       "              (query): Linear(in_features=768, out_features=768, bias=True)\n",
       "              (key): Linear(in_features=768, out_features=768, bias=True)\n",
       "              (value): Linear(in_features=768, out_features=768, bias=True)\n",
       "              (dropout): Dropout(p=0.1, inplace=False)\n",
       "            )\n",
       "            (output): BertSelfOutput(\n",
       "              (dense): Linear(in_features=768, out_features=768, bias=True)\n",
       "              (LayerNorm): LayerNorm((768,), eps=1e-12, elementwise_affine=True)\n",
       "              (dropout): Dropout(p=0.1, inplace=False)\n",
       "            )\n",
       "          )\n",
       "          (intermediate): BertIntermediate(\n",
       "            (dense): Linear(in_features=768, out_features=3072, bias=True)\n",
       "          )\n",
       "          (output): BertOutput(\n",
       "            (dense): Linear(in_features=3072, out_features=768, bias=True)\n",
       "            (LayerNorm): LayerNorm((768,), eps=1e-12, elementwise_affine=True)\n",
       "            (dropout): Dropout(p=0.1, inplace=False)\n",
       "          )\n",
       "        )\n",
       "        (5): BertLayer(\n",
       "          (attention): BertAttention(\n",
       "            (self): BertSelfAttention(\n",
       "              (query): Linear(in_features=768, out_features=768, bias=True)\n",
       "              (key): Linear(in_features=768, out_features=768, bias=True)\n",
       "              (value): Linear(in_features=768, out_features=768, bias=True)\n",
       "              (dropout): Dropout(p=0.1, inplace=False)\n",
       "            )\n",
       "            (output): BertSelfOutput(\n",
       "              (dense): Linear(in_features=768, out_features=768, bias=True)\n",
       "              (LayerNorm): LayerNorm((768,), eps=1e-12, elementwise_affine=True)\n",
       "              (dropout): Dropout(p=0.1, inplace=False)\n",
       "            )\n",
       "          )\n",
       "          (intermediate): BertIntermediate(\n",
       "            (dense): Linear(in_features=768, out_features=3072, bias=True)\n",
       "          )\n",
       "          (output): BertOutput(\n",
       "            (dense): Linear(in_features=3072, out_features=768, bias=True)\n",
       "            (LayerNorm): LayerNorm((768,), eps=1e-12, elementwise_affine=True)\n",
       "            (dropout): Dropout(p=0.1, inplace=False)\n",
       "          )\n",
       "        )\n",
       "        (6): BertLayer(\n",
       "          (attention): BertAttention(\n",
       "            (self): BertSelfAttention(\n",
       "              (query): Linear(in_features=768, out_features=768, bias=True)\n",
       "              (key): Linear(in_features=768, out_features=768, bias=True)\n",
       "              (value): Linear(in_features=768, out_features=768, bias=True)\n",
       "              (dropout): Dropout(p=0.1, inplace=False)\n",
       "            )\n",
       "            (output): BertSelfOutput(\n",
       "              (dense): Linear(in_features=768, out_features=768, bias=True)\n",
       "              (LayerNorm): LayerNorm((768,), eps=1e-12, elementwise_affine=True)\n",
       "              (dropout): Dropout(p=0.1, inplace=False)\n",
       "            )\n",
       "          )\n",
       "          (intermediate): BertIntermediate(\n",
       "            (dense): Linear(in_features=768, out_features=3072, bias=True)\n",
       "          )\n",
       "          (output): BertOutput(\n",
       "            (dense): Linear(in_features=3072, out_features=768, bias=True)\n",
       "            (LayerNorm): LayerNorm((768,), eps=1e-12, elementwise_affine=True)\n",
       "            (dropout): Dropout(p=0.1, inplace=False)\n",
       "          )\n",
       "        )\n",
       "        (7): BertLayer(\n",
       "          (attention): BertAttention(\n",
       "            (self): BertSelfAttention(\n",
       "              (query): Linear(in_features=768, out_features=768, bias=True)\n",
       "              (key): Linear(in_features=768, out_features=768, bias=True)\n",
       "              (value): Linear(in_features=768, out_features=768, bias=True)\n",
       "              (dropout): Dropout(p=0.1, inplace=False)\n",
       "            )\n",
       "            (output): BertSelfOutput(\n",
       "              (dense): Linear(in_features=768, out_features=768, bias=True)\n",
       "              (LayerNorm): LayerNorm((768,), eps=1e-12, elementwise_affine=True)\n",
       "              (dropout): Dropout(p=0.1, inplace=False)\n",
       "            )\n",
       "          )\n",
       "          (intermediate): BertIntermediate(\n",
       "            (dense): Linear(in_features=768, out_features=3072, bias=True)\n",
       "          )\n",
       "          (output): BertOutput(\n",
       "            (dense): Linear(in_features=3072, out_features=768, bias=True)\n",
       "            (LayerNorm): LayerNorm((768,), eps=1e-12, elementwise_affine=True)\n",
       "            (dropout): Dropout(p=0.1, inplace=False)\n",
       "          )\n",
       "        )\n",
       "        (8): BertLayer(\n",
       "          (attention): BertAttention(\n",
       "            (self): BertSelfAttention(\n",
       "              (query): Linear(in_features=768, out_features=768, bias=True)\n",
       "              (key): Linear(in_features=768, out_features=768, bias=True)\n",
       "              (value): Linear(in_features=768, out_features=768, bias=True)\n",
       "              (dropout): Dropout(p=0.1, inplace=False)\n",
       "            )\n",
       "            (output): BertSelfOutput(\n",
       "              (dense): Linear(in_features=768, out_features=768, bias=True)\n",
       "              (LayerNorm): LayerNorm((768,), eps=1e-12, elementwise_affine=True)\n",
       "              (dropout): Dropout(p=0.1, inplace=False)\n",
       "            )\n",
       "          )\n",
       "          (intermediate): BertIntermediate(\n",
       "            (dense): Linear(in_features=768, out_features=3072, bias=True)\n",
       "          )\n",
       "          (output): BertOutput(\n",
       "            (dense): Linear(in_features=3072, out_features=768, bias=True)\n",
       "            (LayerNorm): LayerNorm((768,), eps=1e-12, elementwise_affine=True)\n",
       "            (dropout): Dropout(p=0.1, inplace=False)\n",
       "          )\n",
       "        )\n",
       "        (9): BertLayer(\n",
       "          (attention): BertAttention(\n",
       "            (self): BertSelfAttention(\n",
       "              (query): Linear(in_features=768, out_features=768, bias=True)\n",
       "              (key): Linear(in_features=768, out_features=768, bias=True)\n",
       "              (value): Linear(in_features=768, out_features=768, bias=True)\n",
       "              (dropout): Dropout(p=0.1, inplace=False)\n",
       "            )\n",
       "            (output): BertSelfOutput(\n",
       "              (dense): Linear(in_features=768, out_features=768, bias=True)\n",
       "              (LayerNorm): LayerNorm((768,), eps=1e-12, elementwise_affine=True)\n",
       "              (dropout): Dropout(p=0.1, inplace=False)\n",
       "            )\n",
       "          )\n",
       "          (intermediate): BertIntermediate(\n",
       "            (dense): Linear(in_features=768, out_features=3072, bias=True)\n",
       "          )\n",
       "          (output): BertOutput(\n",
       "            (dense): Linear(in_features=3072, out_features=768, bias=True)\n",
       "            (LayerNorm): LayerNorm((768,), eps=1e-12, elementwise_affine=True)\n",
       "            (dropout): Dropout(p=0.1, inplace=False)\n",
       "          )\n",
       "        )\n",
       "        (10): BertLayer(\n",
       "          (attention): BertAttention(\n",
       "            (self): BertSelfAttention(\n",
       "              (query): Linear(in_features=768, out_features=768, bias=True)\n",
       "              (key): Linear(in_features=768, out_features=768, bias=True)\n",
       "              (value): Linear(in_features=768, out_features=768, bias=True)\n",
       "              (dropout): Dropout(p=0.1, inplace=False)\n",
       "            )\n",
       "            (output): BertSelfOutput(\n",
       "              (dense): Linear(in_features=768, out_features=768, bias=True)\n",
       "              (LayerNorm): LayerNorm((768,), eps=1e-12, elementwise_affine=True)\n",
       "              (dropout): Dropout(p=0.1, inplace=False)\n",
       "            )\n",
       "          )\n",
       "          (intermediate): BertIntermediate(\n",
       "            (dense): Linear(in_features=768, out_features=3072, bias=True)\n",
       "          )\n",
       "          (output): BertOutput(\n",
       "            (dense): Linear(in_features=3072, out_features=768, bias=True)\n",
       "            (LayerNorm): LayerNorm((768,), eps=1e-12, elementwise_affine=True)\n",
       "            (dropout): Dropout(p=0.1, inplace=False)\n",
       "          )\n",
       "        )\n",
       "        (11): BertLayer(\n",
       "          (attention): BertAttention(\n",
       "            (self): BertSelfAttention(\n",
       "              (query): Linear(in_features=768, out_features=768, bias=True)\n",
       "              (key): Linear(in_features=768, out_features=768, bias=True)\n",
       "              (value): Linear(in_features=768, out_features=768, bias=True)\n",
       "              (dropout): Dropout(p=0.1, inplace=False)\n",
       "            )\n",
       "            (output): BertSelfOutput(\n",
       "              (dense): Linear(in_features=768, out_features=768, bias=True)\n",
       "              (LayerNorm): LayerNorm((768,), eps=1e-12, elementwise_affine=True)\n",
       "              (dropout): Dropout(p=0.1, inplace=False)\n",
       "            )\n",
       "          )\n",
       "          (intermediate): BertIntermediate(\n",
       "            (dense): Linear(in_features=768, out_features=3072, bias=True)\n",
       "          )\n",
       "          (output): BertOutput(\n",
       "            (dense): Linear(in_features=3072, out_features=768, bias=True)\n",
       "            (LayerNorm): LayerNorm((768,), eps=1e-12, elementwise_affine=True)\n",
       "            (dropout): Dropout(p=0.1, inplace=False)\n",
       "          )\n",
       "        )\n",
       "      )\n",
       "    )\n",
       "    (pooler): BertPooler(\n",
       "      (dense): Linear(in_features=768, out_features=768, bias=True)\n",
       "      (activation): Tanh()\n",
       "    )\n",
       "  )\n",
       "  (classifier): Linear(in_features=768, out_features=6, bias=True)\n",
       "  (criterion): BCELoss()\n",
       ")"
      ]
     },
     "execution_count": 59,
     "metadata": {},
     "output_type": "execute_result"
    }
   ],
   "source": [
    "#Load the best model based on validation loss\n",
    "trained_model = ISP_TweetAspectClassifier.load_from_checkpoint(\n",
    "    trainer.checkpoint_callback.best_model_path,\n",
    "    n_classes=len(ASPECTS)\n",
    ")\n",
    "\n",
    "trained_model"
   ]
  },
  {
   "cell_type": "code",
   "execution_count": 60,
   "id": "ce5596c3-1d9a-42b1-a3fb-2fb9f68becc6",
   "metadata": {},
   "outputs": [],
   "source": [
    "#Put model into evaluation mode\n",
    "trained_model.eval()\n",
    "trained_model.freeze()"
   ]
  },
  {
   "cell_type": "code",
   "execution_count": 65,
   "id": "48545f5f-4e76-48fc-a384-81c1f9cd8d7e",
   "metadata": {},
   "outputs": [
    {
     "name": "stdout",
     "output_type": "stream",
     "text": [
      "cost: 0.1138223260641098\n",
      "speed: 0.18508286774158478\n",
      "reliability: 0.1815706491470337\n",
      "coverage: 0.17521558701992035\n",
      "customer service: 0.16000589728355408\n",
      "trustworthiness: 0.056724175810813904\n"
     ]
    }
   ],
   "source": [
    "test_comment = \"The internet is so slow and it's so expensive\"\n",
    "\n",
    "encoding = TOKENIZER.encode_plus(\n",
    "  test_comment,\n",
    "  add_special_tokens=True,\n",
    "  max_length=TOKENIZER.model_max_length,\n",
    "  return_token_type_ids=False,\n",
    "  padding=\"max_length\",\n",
    "  return_attention_mask=True,\n",
    "  return_tensors='pt',\n",
    ")\n",
    "\n",
    "_, test_prediction = trained_model(encoding[\"input_ids\"], encoding[\"attention_mask\"])\n",
    "test_prediction = test_prediction.flatten().numpy()\n",
    "for label, prediction in zip(ASPECTS, test_prediction):\n",
    "    print(f\"{label}: {prediction}\")"
   ]
  },
  {
   "cell_type": "markdown",
   "id": "9388b2fe-21b7-46c6-af1a-b64ee71ff041",
   "metadata": {},
   "source": [
    "Doesn't seem to do a good job distinguishing the different aspects for this case."
   ]
  },
  {
   "cell_type": "markdown",
   "id": "93707686-1784-4ce5-a631-3067cdf08ba2",
   "metadata": {},
   "source": [
    "#### (ii) Evaluate model performance on the validation set"
   ]
  },
  {
   "cell_type": "code",
   "execution_count": 66,
   "id": "07ac0125-c0b6-4441-839d-9b4e08fdc833",
   "metadata": {},
   "outputs": [
    {
     "data": {
      "application/vnd.jupyter.widget-view+json": {
       "model_id": "b92c3d374aac4063ab7806e78d25213c",
       "version_major": 2,
       "version_minor": 0
      },
      "text/plain": [
       "  0%|          | 0/76 [00:00<?, ?it/s]"
      ]
     },
     "metadata": {},
     "output_type": "display_data"
    }
   ],
   "source": [
    "device = torch.device('cuda' if torch.cuda.is_available() else 'cpu')\n",
    "\n",
    "trained_model = trained_model.to(device)\n",
    "\n",
    "#Prepare the validation set\n",
    "val_dataset = Generate_PyTorch_Dataset(\n",
    "    val_df,\n",
    "    TOKENIZER,\n",
    ")\n",
    "\n",
    "#Lists to store the model predictions and the true labels\n",
    "model_preds = []\n",
    "true_labels = []\n",
    "\n",
    "for item in tqdm(val_dataset):\n",
    "    _, pred = trained_model(\n",
    "        item[\"input_ids\"].unsqueeze(dim=0).to(device),\n",
    "        item[\"attention_mask\"].unsqueeze(dim=0).to(device)\n",
    "    )\n",
    "    model_preds.append(pred.flatten())\n",
    "    true_labels.append(item[\"labels\"].int())\n",
    "\n",
    "model_preds = torch.stack(model_preds).detach().cpu()\n",
    "true_labels = torch.stack(true_labels).detach().cpu()"
   ]
  },
  {
   "cell_type": "code",
   "execution_count": 67,
   "id": "27bbc8c5-c357-4ef3-ad9f-f2750c90c3d7",
   "metadata": {},
   "outputs": [
    {
     "data": {
      "text/plain": [
       "tensor(0.9320)"
      ]
     },
     "execution_count": 67,
     "metadata": {},
     "output_type": "execute_result"
    }
   ],
   "source": [
    "#Compute the accuracy on the validation set\n",
    "acc_metric = Accuracy()\n",
    "acc_metric(model_preds, true_labels)"
   ]
  },
  {
   "cell_type": "markdown",
   "id": "4041e939-c180-49b4-ba12-42f3e4e13f10",
   "metadata": {},
   "source": [
    "We get a fairly high accuracy on the validation set. However, we note that the dataset is quite imbalanced. So it would be important to also check the model's performance on the different aspects (remember: trustworthiness had very few samples)"
   ]
  },
  {
   "cell_type": "code",
   "execution_count": 68,
   "id": "cb851389-71ae-4302-9f68-0967d941b8fd",
   "metadata": {},
   "outputs": [
    {
     "name": "stdout",
     "output_type": "stream",
     "text": [
      "AUROC per tag\n",
      "cost: 0.7031509280204773\n",
      "speed: 0.6428571343421936\n",
      "reliability: 0.7494823336601257\n",
      "coverage: 0.7260274291038513\n",
      "customer service: 0.8985915780067444\n",
      "trustworthiness: 0.13333332538604736\n"
     ]
    },
    {
     "name": "stderr",
     "output_type": "stream",
     "text": [
      "/Users/koredeakande/opt/anaconda3/envs/capstone/lib/python3.7/site-packages/torchmetrics/utilities/prints.py:36: UserWarning: Metric `AUROC` will save all targets and predictions in buffer. For large datasets this may lead to large memory footprint.\n",
      "  warnings.warn(*args, **kwargs)\n"
     ]
    }
   ],
   "source": [
    "auroc_metric = AUROC(pos_label=1)\n",
    "print(\"AUROC per tag\")\n",
    "for i, name in enumerate(ASPECTS):\n",
    "    tag_auroc = auroc_metric(model_preds[:, i], true_labels[:, i])\n",
    "    print(f\"{name}: {tag_auroc}\")"
   ]
  },
  {
   "cell_type": "code",
   "execution_count": 78,
   "id": "0489b171-afe7-40e1-92d1-52c3302be2d1",
   "metadata": {},
   "outputs": [
    {
     "data": {
      "text/plain": [
       "tensor([[0, 1, 1, 0, 1, 0],\n",
       "        [0, 1, 0, 0, 0, 0],\n",
       "        [0, 0, 1, 0, 0, 0],\n",
       "        [0, 0, 0, 0, 0, 0],\n",
       "        [0, 0, 0, 0, 0, 0],\n",
       "        [1, 0, 0, 0, 0, 0],\n",
       "        [0, 0, 0, 0, 0, 0],\n",
       "        [0, 0, 0, 0, 1, 0],\n",
       "        [0, 0, 0, 0, 0, 0],\n",
       "        [0, 0, 0, 0, 0, 0],\n",
       "        [1, 0, 0, 1, 1, 0],\n",
       "        [0, 0, 1, 0, 0, 0],\n",
       "        [0, 0, 0, 0, 0, 0],\n",
       "        [0, 0, 0, 0, 1, 0],\n",
       "        [0, 0, 0, 0, 0, 0],\n",
       "        [0, 0, 0, 0, 0, 0],\n",
       "        [0, 0, 0, 0, 0, 0],\n",
       "        [0, 0, 1, 0, 1, 0],\n",
       "        [1, 1, 0, 1, 0, 0],\n",
       "        [1, 0, 0, 0, 0, 0],\n",
       "        [0, 0, 0, 0, 0, 0],\n",
       "        [0, 0, 0, 0, 0, 0],\n",
       "        [0, 0, 0, 0, 0, 0],\n",
       "        [0, 0, 0, 0, 0, 0],\n",
       "        [0, 0, 1, 0, 0, 0],\n",
       "        [0, 0, 0, 0, 0, 0],\n",
       "        [0, 0, 0, 0, 0, 0],\n",
       "        [0, 0, 1, 0, 0, 0],\n",
       "        [1, 0, 0, 0, 0, 0],\n",
       "        [0, 0, 0, 0, 0, 0],\n",
       "        [0, 0, 0, 0, 0, 0],\n",
       "        [0, 0, 0, 0, 0, 0],\n",
       "        [0, 0, 0, 0, 0, 0],\n",
       "        [0, 0, 0, 0, 0, 0],\n",
       "        [0, 0, 0, 0, 0, 0],\n",
       "        [1, 0, 0, 0, 0, 0],\n",
       "        [0, 0, 0, 0, 0, 0],\n",
       "        [0, 1, 0, 0, 0, 0],\n",
       "        [1, 0, 0, 0, 0, 0],\n",
       "        [0, 0, 0, 0, 0, 0],\n",
       "        [1, 0, 0, 0, 0, 0],\n",
       "        [0, 0, 0, 0, 0, 0],\n",
       "        [0, 0, 0, 0, 0, 0],\n",
       "        [0, 0, 0, 0, 0, 0],\n",
       "        [0, 0, 0, 0, 0, 0],\n",
       "        [0, 0, 0, 0, 0, 0],\n",
       "        [0, 0, 0, 0, 0, 0],\n",
       "        [0, 0, 0, 0, 0, 0],\n",
       "        [0, 0, 0, 0, 0, 0],\n",
       "        [0, 0, 0, 0, 0, 0],\n",
       "        [0, 0, 0, 0, 0, 0],\n",
       "        [0, 0, 0, 0, 0, 0],\n",
       "        [0, 0, 0, 0, 0, 0],\n",
       "        [0, 1, 1, 0, 0, 0],\n",
       "        [0, 0, 0, 0, 0, 0],\n",
       "        [0, 0, 0, 0, 0, 0],\n",
       "        [0, 0, 0, 0, 0, 0],\n",
       "        [0, 0, 0, 0, 0, 0],\n",
       "        [0, 0, 0, 0, 0, 0],\n",
       "        [0, 0, 0, 0, 0, 0],\n",
       "        [0, 0, 0, 0, 0, 0],\n",
       "        [0, 1, 0, 0, 0, 0],\n",
       "        [0, 0, 0, 0, 0, 0],\n",
       "        [0, 0, 0, 0, 0, 0],\n",
       "        [0, 0, 0, 0, 0, 1],\n",
       "        [0, 0, 0, 0, 0, 0],\n",
       "        [0, 0, 0, 0, 0, 0],\n",
       "        [0, 0, 0, 0, 0, 0],\n",
       "        [0, 0, 0, 0, 0, 0],\n",
       "        [0, 0, 0, 1, 0, 0],\n",
       "        [0, 0, 0, 0, 0, 0],\n",
       "        [0, 0, 0, 0, 0, 0],\n",
       "        [0, 0, 0, 0, 0, 0],\n",
       "        [0, 0, 0, 0, 0, 0],\n",
       "        [1, 0, 0, 0, 0, 0],\n",
       "        [0, 0, 0, 0, 0, 0]], dtype=torch.int32)"
      ]
     },
     "execution_count": 78,
     "metadata": {},
     "output_type": "execute_result"
    }
   ],
   "source": [
    "true_labels"
   ]
  },
  {
   "cell_type": "code",
   "execution_count": 77,
   "id": "7b722eb9-bba9-4b9e-a307-baf4a78af2d8",
   "metadata": {},
   "outputs": [
    {
     "data": {
      "text/plain": [
       "tensor([[0.0615, 0.0859, 0.0743, 0.0556, 0.0628, 0.0292],\n",
       "        [0.0574, 0.0485, 0.0401, 0.0291, 0.0410, 0.0400],\n",
       "        [0.0541, 0.0782, 0.0616, 0.0445, 0.0538, 0.0279],\n",
       "        [0.0783, 0.0516, 0.0483, 0.0304, 0.0471, 0.0504],\n",
       "        [0.0705, 0.1100, 0.0808, 0.0638, 0.0875, 0.0315],\n",
       "        [0.0628, 0.0499, 0.0439, 0.0301, 0.0378, 0.0452],\n",
       "        [0.1110, 0.2098, 0.1861, 0.1354, 0.1417, 0.0544],\n",
       "        [0.1024, 0.2108, 0.1753, 0.1548, 0.1504, 0.0632],\n",
       "        [0.1089, 0.2123, 0.1669, 0.1284, 0.1574, 0.0535],\n",
       "        [0.0895, 0.0543, 0.0624, 0.0352, 0.0563, 0.0762],\n",
       "        [0.1190, 0.2194, 0.1871, 0.1721, 0.1800, 0.0610],\n",
       "        [0.1266, 0.2190, 0.2174, 0.1871, 0.1676, 0.0682],\n",
       "        [0.0509, 0.0539, 0.0395, 0.0340, 0.0375, 0.0428],\n",
       "        [0.1411, 0.2746, 0.2200, 0.2201, 0.2052, 0.0892],\n",
       "        [0.0538, 0.0466, 0.0407, 0.0303, 0.0391, 0.0436],\n",
       "        [0.0538, 0.0480, 0.0386, 0.0316, 0.0401, 0.0450],\n",
       "        [0.1105, 0.2075, 0.1870, 0.1573, 0.1520, 0.0584],\n",
       "        [0.1416, 0.2636, 0.2330, 0.2081, 0.1927, 0.0815],\n",
       "        [0.1193, 0.2363, 0.1997, 0.1576, 0.1469, 0.0659],\n",
       "        [0.0583, 0.0558, 0.0417, 0.0316, 0.0387, 0.0349],\n",
       "        [0.0973, 0.1570, 0.1220, 0.0917, 0.1211, 0.0342],\n",
       "        [0.0542, 0.0592, 0.0453, 0.0333, 0.0396, 0.0309],\n",
       "        [0.0687, 0.0536, 0.0435, 0.0295, 0.0457, 0.0464],\n",
       "        [0.0723, 0.1243, 0.1085, 0.0746, 0.0756, 0.0337],\n",
       "        [0.0850, 0.0851, 0.0631, 0.0377, 0.0724, 0.0307],\n",
       "        [0.0573, 0.0567, 0.0403, 0.0334, 0.0460, 0.0332],\n",
       "        [0.0496, 0.0513, 0.0424, 0.0347, 0.0354, 0.0426],\n",
       "        [0.0555, 0.0677, 0.0627, 0.0579, 0.0823, 0.0327],\n",
       "        [0.1289, 0.2325, 0.2107, 0.1933, 0.1887, 0.0671],\n",
       "        [0.0592, 0.1117, 0.1059, 0.0822, 0.0604, 0.0437],\n",
       "        [0.0555, 0.0871, 0.0639, 0.0488, 0.0497, 0.0288],\n",
       "        [0.0633, 0.0907, 0.1042, 0.0760, 0.0655, 0.0316],\n",
       "        [0.0484, 0.0503, 0.0420, 0.0362, 0.0366, 0.0430],\n",
       "        [0.0489, 0.0590, 0.0504, 0.0389, 0.0365, 0.0347],\n",
       "        [0.0548, 0.0505, 0.0388, 0.0315, 0.0395, 0.0367],\n",
       "        [0.0704, 0.1134, 0.0643, 0.0476, 0.0533, 0.0343],\n",
       "        [0.0597, 0.0467, 0.0423, 0.0300, 0.0428, 0.0430],\n",
       "        [0.0675, 0.0913, 0.0694, 0.0439, 0.0446, 0.0294],\n",
       "        [0.0822, 0.1264, 0.0698, 0.0504, 0.0851, 0.0317],\n",
       "        [0.0586, 0.0957, 0.0769, 0.0500, 0.0455, 0.0300],\n",
       "        [0.0859, 0.1008, 0.0657, 0.0434, 0.0633, 0.0299],\n",
       "        [0.0566, 0.0609, 0.0448, 0.0336, 0.0474, 0.0296],\n",
       "        [0.0801, 0.1307, 0.0923, 0.0791, 0.1039, 0.0403],\n",
       "        [0.0528, 0.0537, 0.0475, 0.0342, 0.0314, 0.0406],\n",
       "        [0.0564, 0.0471, 0.0380, 0.0312, 0.0472, 0.0449],\n",
       "        [0.0544, 0.0528, 0.0401, 0.0303, 0.0373, 0.0387],\n",
       "        [0.0522, 0.0502, 0.0418, 0.0348, 0.0357, 0.0393],\n",
       "        [0.0499, 0.0684, 0.0571, 0.0436, 0.0435, 0.0306],\n",
       "        [0.0487, 0.0538, 0.0421, 0.0371, 0.0333, 0.0428],\n",
       "        [0.0894, 0.0520, 0.0483, 0.0310, 0.0546, 0.0605],\n",
       "        [0.0619, 0.0450, 0.0459, 0.0299, 0.0378, 0.0463],\n",
       "        [0.0721, 0.1341, 0.0865, 0.0605, 0.0618, 0.0334],\n",
       "        [0.0544, 0.0485, 0.0380, 0.0297, 0.0423, 0.0408],\n",
       "        [0.1679, 0.3126, 0.2644, 0.2468, 0.2095, 0.1105],\n",
       "        [0.0876, 0.1733, 0.1462, 0.1335, 0.1344, 0.0526],\n",
       "        [0.0684, 0.0903, 0.0625, 0.0423, 0.0406, 0.0320],\n",
       "        [0.1301, 0.2380, 0.2187, 0.1866, 0.1692, 0.0690],\n",
       "        [0.0545, 0.0485, 0.0407, 0.0318, 0.0361, 0.0445],\n",
       "        [0.0524, 0.0515, 0.0425, 0.0338, 0.0448, 0.0320],\n",
       "        [0.0592, 0.0485, 0.0454, 0.0301, 0.0360, 0.0420],\n",
       "        [0.0704, 0.0499, 0.0420, 0.0301, 0.0579, 0.0511],\n",
       "        [0.0683, 0.1095, 0.0709, 0.0582, 0.0772, 0.0320],\n",
       "        [0.0526, 0.0527, 0.0405, 0.0354, 0.0333, 0.0461],\n",
       "        [0.0737, 0.1254, 0.0974, 0.0728, 0.0946, 0.0330],\n",
       "        [0.0632, 0.1000, 0.0660, 0.0527, 0.0660, 0.0307],\n",
       "        [0.0675, 0.0947, 0.0663, 0.0464, 0.0438, 0.0323],\n",
       "        [0.0958, 0.1798, 0.1480, 0.0952, 0.1068, 0.0396],\n",
       "        [0.0479, 0.0778, 0.0622, 0.0560, 0.0436, 0.0381],\n",
       "        [0.0940, 0.1666, 0.1082, 0.0608, 0.0727, 0.0330],\n",
       "        [0.0542, 0.0616, 0.0472, 0.0343, 0.0393, 0.0318],\n",
       "        [0.0956, 0.1814, 0.1752, 0.1402, 0.1233, 0.0569],\n",
       "        [0.0972, 0.1844, 0.1495, 0.0982, 0.1141, 0.0431],\n",
       "        [0.0643, 0.0805, 0.0531, 0.0430, 0.0693, 0.0273],\n",
       "        [0.0588, 0.0656, 0.0500, 0.0378, 0.0547, 0.0293],\n",
       "        [0.0624, 0.0505, 0.0428, 0.0301, 0.0387, 0.0437],\n",
       "        [0.0579, 0.0478, 0.0396, 0.0299, 0.0403, 0.0448]])"
      ]
     },
     "execution_count": 77,
     "metadata": {},
     "output_type": "execute_result"
    }
   ],
   "source": [
    "model_preds"
   ]
  },
  {
   "cell_type": "markdown",
   "id": "086c223f-56f0-4b38-bf02-af625e1ab949",
   "metadata": {},
   "source": [
    "### Classification Report"
   ]
  },
  {
   "cell_type": "code",
   "execution_count": 76,
   "id": "462f0647-83fd-46d8-a2b6-7a7f884cda34",
   "metadata": {},
   "outputs": [
    {
     "name": "stdout",
     "output_type": "stream",
     "text": [
      "                  precision    recall  f1-score   support\n",
      "\n",
      "            cost       0.00      0.00      0.00         9\n",
      "           speed       0.17      0.33      0.22         6\n",
      "     reliability       0.50      0.43      0.46         7\n",
      "        coverage       0.00      0.00      0.00         3\n",
      "customer service       0.50      0.20      0.29         5\n",
      " trustworthiness       0.00      0.00      0.00         1\n",
      "\n",
      "       micro avg       0.26      0.19      0.22        31\n",
      "       macro avg       0.19      0.16      0.16        31\n",
      "    weighted avg       0.23      0.19      0.19        31\n",
      "     samples avg       0.03      0.05      0.03        31\n",
      "\n"
     ]
    }
   ],
   "source": [
    "y_pred = model_preds.numpy()\n",
    "y_true = true_labels.numpy()\n",
    "\n",
    "y_pred = np.where(y_pred > 0.2, 1, 0)\n",
    "\n",
    "print(classification_report(\n",
    "  y_true,\n",
    "  y_pred,\n",
    "  target_names=ASPECTS,\n",
    "  zero_division=0\n",
    "))"
   ]
  },
  {
   "cell_type": "code",
   "execution_count": null,
   "id": "b0327e7b-b05c-4124-9953-9bd6df403e40",
   "metadata": {},
   "outputs": [],
   "source": []
  }
 ],
 "metadata": {
  "kernelspec": {
   "display_name": "Python 3 (ipykernel)",
   "language": "python",
   "name": "python3"
  },
  "language_info": {
   "codemirror_mode": {
    "name": "ipython",
    "version": 3
   },
   "file_extension": ".py",
   "mimetype": "text/x-python",
   "name": "python",
   "nbconvert_exporter": "python",
   "pygments_lexer": "ipython3",
   "version": "3.7.11"
  }
 },
 "nbformat": 4,
 "nbformat_minor": 5
}
