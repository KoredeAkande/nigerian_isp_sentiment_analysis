{
 "cells": [
  {
   "cell_type": "markdown",
   "id": "a2ae5dfb-e5a4-4e5d-9631-e0eb35ef0f27",
   "metadata": {},
   "source": [
    "## Q1: What proportion of tweets are actually in Pidgin English?\n",
    "**`Goal:`** Determine how important it is to account for Pidgin English in the dataset"
   ]
  },
  {
   "cell_type": "markdown",
   "id": "5ba0f6a2-29f7-465e-9100-c2042bfdcb09",
   "metadata": {},
   "source": [
    "### 1. Import Packages"
   ]
  },
  {
   "cell_type": "code",
   "execution_count": 7,
   "id": "346db06c-6036-498a-83c5-047c0533e0ff",
   "metadata": {},
   "outputs": [],
   "source": [
    "import pandas as pd"
   ]
  },
  {
   "cell_type": "markdown",
   "id": "ad35f44a-ecbf-48ab-a5a0-5a70ce6557ce",
   "metadata": {},
   "source": [
    "### 2. Import annotated dataset"
   ]
  },
  {
   "cell_type": "code",
   "execution_count": 8,
   "id": "a2f9fb31-717a-4e6b-a583-f5647937f2ab",
   "metadata": {},
   "outputs": [
    {
     "data": {
      "text/html": [
       "<div>\n",
       "<style scoped>\n",
       "    .dataframe tbody tr th:only-of-type {\n",
       "        vertical-align: middle;\n",
       "    }\n",
       "\n",
       "    .dataframe tbody tr th {\n",
       "        vertical-align: top;\n",
       "    }\n",
       "\n",
       "    .dataframe thead th {\n",
       "        text-align: right;\n",
       "    }\n",
       "</style>\n",
       "<table border=\"1\" class=\"dataframe\">\n",
       "  <thead>\n",
       "    <tr style=\"text-align: right;\">\n",
       "      <th></th>\n",
       "      <th>text</th>\n",
       "      <th>language</th>\n",
       "    </tr>\n",
       "  </thead>\n",
       "  <tbody>\n",
       "    <tr>\n",
       "      <th>0</th>\n",
       "      <td>Please who is using https://t.co/LfA6GHacrA i ...</td>\n",
       "      <td>eng</td>\n",
       "    </tr>\n",
       "    <tr>\n",
       "      <th>1</th>\n",
       "      <td>@Adeorgomez @Clan_Clueless 4G... Now this is 3...</td>\n",
       "      <td>eng</td>\n",
       "    </tr>\n",
       "    <tr>\n",
       "      <th>2</th>\n",
       "      <td>@GucciJ9 @IgbokweKo @Eshenicy @DrJoeAbah @Spec...</td>\n",
       "      <td>eng</td>\n",
       "    </tr>\n",
       "    <tr>\n",
       "      <th>3</th>\n",
       "      <td>@Spectranet_NG what’s going on with your netwo...</td>\n",
       "      <td>eng</td>\n",
       "    </tr>\n",
       "    <tr>\n",
       "      <th>4</th>\n",
       "      <td>Shame on you @ntelng @ntelcare you guys promis...</td>\n",
       "      <td>eng</td>\n",
       "    </tr>\n",
       "  </tbody>\n",
       "</table>\n",
       "</div>"
      ],
      "text/plain": [
       "                                                text language\n",
       "0  Please who is using https://t.co/LfA6GHacrA i ...      eng\n",
       "1  @Adeorgomez @Clan_Clueless 4G... Now this is 3...      eng\n",
       "2  @GucciJ9 @IgbokweKo @Eshenicy @DrJoeAbah @Spec...      eng\n",
       "3  @Spectranet_NG what’s going on with your netwo...      eng\n",
       "4  Shame on you @ntelng @ntelcare you guys promis...      eng"
      ]
     },
     "execution_count": 8,
     "metadata": {},
     "output_type": "execute_result"
    }
   ],
   "source": [
    "lang_labelled = pd.read_csv('../../data/interim/lang_sample_labelled.csv')\n",
    "lang_labelled.head()"
   ]
  },
  {
   "cell_type": "code",
   "execution_count": 9,
   "id": "ee018c85-dbba-43db-be3c-f7166900ad86",
   "metadata": {},
   "outputs": [
    {
     "name": "stdout",
     "output_type": "stream",
     "text": [
      "There are 78 tweets in the dataset\n"
     ]
    }
   ],
   "source": [
    "print(f\"There are {len(lang_labelled)} tweets in the dataset\")"
   ]
  },
  {
   "cell_type": "markdown",
   "id": "5bc50c25-2843-41ec-93c2-2b62ef2f6bdf",
   "metadata": {},
   "source": [
    "### 3. Compute proportion of tweets that are in Pidgin English"
   ]
  },
  {
   "cell_type": "code",
   "execution_count": 10,
   "id": "d4bb6476-f0c9-4ff4-acf7-347a1831d421",
   "metadata": {},
   "outputs": [
    {
     "data": {
      "text/plain": [
       "eng    66\n",
       "pdg    12\n",
       "Name: language, dtype: int64"
      ]
     },
     "execution_count": 10,
     "metadata": {},
     "output_type": "execute_result"
    }
   ],
   "source": [
    "lang_labelled.language.value_counts()"
   ]
  },
  {
   "cell_type": "code",
   "execution_count": 11,
   "id": "fb66d946-388f-4899-bc0a-7dc5dbead2c9",
   "metadata": {},
   "outputs": [
    {
     "data": {
      "text/plain": [
       "eng    0.846154\n",
       "pdg    0.153846\n",
       "Name: language, dtype: float64"
      ]
     },
     "execution_count": 11,
     "metadata": {},
     "output_type": "execute_result"
    }
   ],
   "source": [
    "lang_labelled.language.value_counts(normalize=True)"
   ]
  },
  {
   "cell_type": "markdown",
   "id": "375994fc-ec4d-400d-a0bf-57848c2b6c9b",
   "metadata": {},
   "source": [
    "Only 15% (12 tweets) of the 78 labelled tweets were in Pidgin English. Based on my labelling experience, most of these tweets were also in light Pidgin English (i.e. still featured a major portion of the sentence in grammatically correct plain English). This is explored below:"
   ]
  },
  {
   "cell_type": "markdown",
   "id": "c04cf0a5-f331-4284-a848-45e65e25cfe6",
   "metadata": {},
   "source": [
    "### 4. Exploring tweets containing Pidgin English"
   ]
  },
  {
   "cell_type": "code",
   "execution_count": 18,
   "id": "4c61d0c3-f344-467c-b76a-0ea812c64ba8",
   "metadata": {},
   "outputs": [
    {
     "name": "stdout",
     "output_type": "stream",
     "text": [
      "1) Let me just transfer money for my next subscription to my Spectranet purse before story will enter... \n",
      "\n",
      "2) @fimiletoks @mickey2ya @graffiti06 Tizeti is not scam o!They are the most gigantic scam. Dey show me fefe. \n",
      "\n",
      "3) @Spectranet_NG what's up with your speeds na? \n",
      "\n",
      "4) @eronmose1e @moyesparkle @whittyyumees @Spectranet_NG My brother all na scam but you see that spectranet ehn na sinzu them be, they Dey scam die! Internet speed self has been horrible 🤦🏽‍♂️ \n",
      "\n",
      "5) @bols_bols1 @Spectranet_NG You are special na \n",
      "\n",
      "6) @Tukooldegreat Baba spectranet na scam, the 100gb finishes in 1 week, not as if I use the data to watch porn 😔 \n",
      "\n",
      "7) @aboyowa_e @Spectranet_NG Lmaoo! Na so, turn up!! \n",
      "\n",
      "8) @Spectranet_NG , see no make me swear for you! Fix your wacky internet connection around Yaba! \n",
      "\n",
      "9) MTNN @MTNNG  and spectranet if you guys are not going to dash us data atleast come correct on your services.We can't be wasting money in these glorious times. \n",
      "\n",
      "10) @rakspd You no see as I dey complain of @Spectranet_NG since \n",
      "\n",
      "11) @amarachimex @Spectranet_NG You mind dem?? No network all evening. This is unacceptable!! @NgComCommission do something. \n",
      "\n",
      "12) @lawaleto @Spectranet_NG I dey bro, you get fast internet ? \n",
      "\n"
     ]
    }
   ],
   "source": [
    "for idx, pdg_tweet in enumerate(lang_labelled.query(\" language == 'pdg' \")['text']):\n",
    "    \n",
    "    #Remove new line character\n",
    "    pdg_tweet = pdg_tweet.replace('\\n',\"\")\n",
    "    \n",
    "    #Print tweet\n",
    "    print(str(idx+1)+')', pdg_tweet, '\\n')"
   ]
  },
  {
   "cell_type": "markdown",
   "id": "ceb152d7-8190-47b4-b541-4a3717f22735",
   "metadata": {},
   "source": [
    "As show above, a lot of the tweets still contain a significant proportion of the sentence in grammatically correct English. Hence, accounting for Pidgin English might not be very important given a monolingual model should still be able to predict sentiment accurately.\n",
    "\n",
    "**Note for generalizability of the above analysis:** The labelled sample was quite small. However, the tweets were randomly selected to increase the likelihood of representativeness"
   ]
  }
 ],
 "metadata": {
  "kernelspec": {
   "display_name": "Python 3 (ipykernel)",
   "language": "python",
   "name": "python3"
  },
  "language_info": {
   "codemirror_mode": {
    "name": "ipython",
    "version": 3
   },
   "file_extension": ".py",
   "mimetype": "text/x-python",
   "name": "python",
   "nbconvert_exporter": "python",
   "pygments_lexer": "ipython3",
   "version": "3.7.11"
  }
 },
 "nbformat": 4,
 "nbformat_minor": 5
}
