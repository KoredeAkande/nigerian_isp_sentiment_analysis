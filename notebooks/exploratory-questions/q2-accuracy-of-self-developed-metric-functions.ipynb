{
 "cells": [
  {
   "cell_type": "markdown",
   "id": "163fdacd-39eb-4ac0-89ae-5c68bde72400",
   "metadata": {},
   "source": [
    "## Testing the accuracy of my self-developed functions for ABSA metrics\n",
    "\n",
    "**`Goal:`** I found out late that I could apply sklearn and other packages to compute the f-score and accuracy metrics with my unique dataset. Hence, I created functions adapted to my dataset which compute these metrics. In this notebook, I test the accuracy of my developed functions in computing the relevant metrics against sklearn\n",
    "\n",
    "For this notebook, I only use the POS tagger for obtaining predictions to prevent unnecesarry overhead. If the metrics align with this single model's predictions they are likely to align with the other models (e.g. binary relevance, MLC classifier,etc.)"
   ]
  },
  {
   "cell_type": "markdown",
   "id": "a21f2a1e-f1d4-422a-a37c-5624484d900e",
   "metadata": {},
   "source": [
    "### 1. Load packages/libraries"
   ]
  },
  {
   "cell_type": "code",
   "execution_count": 4,
   "id": "e83acc93-5cfc-42a6-8bdb-1974a7133d50",
   "metadata": {},
   "outputs": [],
   "source": [
    "import sys\n",
    "sys.path.append(\"/Users/koredeakande/Documents/Capstone/ISP Project/Coding/nigerian_isp_sentiment_analysis/py_scripts\")\n",
    "import pandas as pd\n",
    "import clean_tweets\n",
    "\n",
    "#Load scipy and sklearn necessary for the multi-label classification computation\n",
    "from scipy.sparse import lil_matrix\n",
    "from sklearn.metrics import fbeta_score, accuracy_score\n",
    "\n",
    "#Note: The module below was personally designed to compute the metrics given the dataset structure\n",
    "from absa_metrics import weighted_binary_precision_recall_fscore, aspect_sentiment_accuracy"
   ]
  },
  {
   "cell_type": "markdown",
   "id": "e3722727-171b-4c29-9a80-87ca8a21797d",
   "metadata": {},
   "source": [
    "### 2. Load the data"
   ]
  },
  {
   "cell_type": "code",
   "execution_count": 5,
   "id": "863a2ba0-cf75-4f17-8a8c-83bd6e9bba36",
   "metadata": {},
   "outputs": [
    {
     "data": {
      "text/html": [
       "<div>\n",
       "<style scoped>\n",
       "    .dataframe tbody tr th:only-of-type {\n",
       "        vertical-align: middle;\n",
       "    }\n",
       "\n",
       "    .dataframe tbody tr th {\n",
       "        vertical-align: top;\n",
       "    }\n",
       "\n",
       "    .dataframe thead th {\n",
       "        text-align: right;\n",
       "    }\n",
       "</style>\n",
       "<table border=\"1\" class=\"dataframe\">\n",
       "  <thead>\n",
       "    <tr style=\"text-align: right;\">\n",
       "      <th></th>\n",
       "      <th>Text</th>\n",
       "      <th>price</th>\n",
       "      <th>speed</th>\n",
       "      <th>reliability</th>\n",
       "      <th>coverage</th>\n",
       "      <th>customer service</th>\n",
       "      <th>Aspects</th>\n",
       "      <th>Sentiment</th>\n",
       "    </tr>\n",
       "  </thead>\n",
       "  <tbody>\n",
       "    <tr>\n",
       "      <th>0</th>\n",
       "      <td>officialkome_ spectranet_ng this people don fr...</td>\n",
       "      <td>0</td>\n",
       "      <td>0</td>\n",
       "      <td>0</td>\n",
       "      <td>0</td>\n",
       "      <td>0</td>\n",
       "      <td>[None]</td>\n",
       "      <td>[None]</td>\n",
       "    </tr>\n",
       "    <tr>\n",
       "      <th>1</th>\n",
       "      <td>ayomikun_o_ yoruba_dev spectranet_ng i'm.yet t...</td>\n",
       "      <td>0</td>\n",
       "      <td>0</td>\n",
       "      <td>0</td>\n",
       "      <td>0</td>\n",
       "      <td>0</td>\n",
       "      <td>[None]</td>\n",
       "      <td>[None]</td>\n",
       "    </tr>\n",
       "    <tr>\n",
       "      <th>2</th>\n",
       "      <td>spectranet !!!!! 🤬🤬🤬🤬🤬🤬</td>\n",
       "      <td>0</td>\n",
       "      <td>0</td>\n",
       "      <td>0</td>\n",
       "      <td>0</td>\n",
       "      <td>0</td>\n",
       "      <td>[None]</td>\n",
       "      <td>[None]</td>\n",
       "    </tr>\n",
       "    <tr>\n",
       "      <th>3</th>\n",
       "      <td>after buying data see airtel telling me \"now t...</td>\n",
       "      <td>0</td>\n",
       "      <td>0</td>\n",
       "      <td>0</td>\n",
       "      <td>0</td>\n",
       "      <td>0</td>\n",
       "      <td>[None]</td>\n",
       "      <td>[None]</td>\n",
       "    </tr>\n",
       "    <tr>\n",
       "      <th>4</th>\n",
       "      <td>spectranet ooooo</td>\n",
       "      <td>0</td>\n",
       "      <td>0</td>\n",
       "      <td>0</td>\n",
       "      <td>0</td>\n",
       "      <td>0</td>\n",
       "      <td>[None]</td>\n",
       "      <td>[None]</td>\n",
       "    </tr>\n",
       "  </tbody>\n",
       "</table>\n",
       "</div>"
      ],
      "text/plain": [
       "                                                Text  price  speed  \\\n",
       "0  officialkome_ spectranet_ng this people don fr...      0      0   \n",
       "1  ayomikun_o_ yoruba_dev spectranet_ng i'm.yet t...      0      0   \n",
       "2                            spectranet !!!!! 🤬🤬🤬🤬🤬🤬      0      0   \n",
       "3  after buying data see airtel telling me \"now t...      0      0   \n",
       "4                                   spectranet ooooo      0      0   \n",
       "\n",
       "   reliability  coverage  customer service Aspects Sentiment  \n",
       "0            0         0                 0  [None]    [None]  \n",
       "1            0         0                 0  [None]    [None]  \n",
       "2            0         0                 0  [None]    [None]  \n",
       "3            0         0                 0  [None]    [None]  \n",
       "4            0         0                 0  [None]    [None]  "
      ]
     },
     "execution_count": 5,
     "metadata": {},
     "output_type": "execute_result"
    }
   ],
   "source": [
    "eval_val_df = pd.read_csv(\"../data/model-evaluation/validation_dataset.csv\")\n",
    "eval_val_df.head()"
   ]
  },
  {
   "cell_type": "code",
   "execution_count": 3,
   "id": "eaf2a7e1-1cf5-437e-85d6-5fb96d35876a",
   "metadata": {},
   "outputs": [],
   "source": [
    "true_preds = ['price','speed'], ['reliability'], ['customer service','coverage']\n",
    "\n",
    "model_preds = ['price'], ['coverage'], ['customer service','coverage']"
   ]
  },
  {
   "cell_type": "code",
   "execution_count": null,
   "id": "134b8b25-4739-4061-8070-142e916349ee",
   "metadata": {},
   "outputs": [],
   "source": [
    "pri"
   ]
  },
  {
   "cell_type": "code",
   "execution_count": 7,
   "id": "746786c8-73dc-468d-b7a8-37750b555fab",
   "metadata": {},
   "outputs": [],
   "source": []
  },
  {
   "cell_type": "code",
   "execution_count": 15,
   "id": "a06464b7-e43d-49ff-b470-780a74a62ac9",
   "metadata": {},
   "outputs": [],
   "source": [
    "y_true = [[1,2],[1,0],[]]\n",
    "y_preds = [[1,3],[2,1],[1]]"
   ]
  },
  {
   "cell_type": "code",
   "execution_count": 16,
   "id": "1287b9ad-ecfe-48b0-b87e-0a82a71ce89e",
   "metadata": {},
   "outputs": [],
   "source": [
    "def label_to_sm(labels, n_classes):\n",
    "    sm = lil_matrix((len(labels), n_classes))\n",
    "    for i, label in enumerate(labels):\n",
    "        sm[i, label] = 1\n",
    "    return sm"
   ]
  },
  {
   "cell_type": "code",
   "execution_count": 17,
   "id": "fd5303fd-54c1-4613-b5b6-6f29a8da5db0",
   "metadata": {},
   "outputs": [
    {
     "data": {
      "text/plain": [
       "array([[0., 1., 1., 0.],\n",
       "       [1., 1., 0., 0.],\n",
       "       [0., 0., 0., 0.]])"
      ]
     },
     "execution_count": 17,
     "metadata": {},
     "output_type": "execute_result"
    }
   ],
   "source": [
    "y_true_sm = label_to_sm(labels=y_true, n_classes=4)\n",
    "y_true_sm.toarray()"
   ]
  },
  {
   "cell_type": "code",
   "execution_count": 10,
   "id": "ba597d4d-d92f-4bc6-a807-df7c42796111",
   "metadata": {},
   "outputs": [
    {
     "data": {
      "text/plain": [
       "array([[0., 1., 0., 1.],\n",
       "       [0., 1., 1., 0.],\n",
       "       [0., 1., 0., 0.]])"
      ]
     },
     "execution_count": 18,
     "metadata": {},
     "output_type": "execute_result"
    }
   ],
   "source": [
    "y_pred_sm = label_to_sm(labels=y_preds, n_classes=4)\n",
    "y_pred_sm.toarray()"
   ]
  },
  {
   "cell_type": "code",
   "execution_count": 19,
   "id": "fc5bf53d-af43-44b9-9634-6200695ad592",
   "metadata": {},
   "outputs": [
    {
     "data": {
      "text/plain": [
       "0.17857142857142855"
      ]
     },
     "execution_count": 19,
     "metadata": {},
     "output_type": "execute_result"
    }
   ],
   "source": [
    "fbeta_score(y_true_sm,y_pred_sm, average='macro', beta=0.5)"
   ]
  },
  {
   "cell_type": "code",
   "execution_count": 24,
   "id": "9a83e67b-1666-47b0-9208-c7bbfad7919e",
   "metadata": {},
   "outputs": [
    {
     "data": {
      "text/html": [
       "<div>\n",
       "<style scoped>\n",
       "    .dataframe tbody tr th:only-of-type {\n",
       "        vertical-align: middle;\n",
       "    }\n",
       "\n",
       "    .dataframe tbody tr th {\n",
       "        vertical-align: top;\n",
       "    }\n",
       "\n",
       "    .dataframe thead th {\n",
       "        text-align: right;\n",
       "    }\n",
       "</style>\n",
       "<table border=\"1\" class=\"dataframe\">\n",
       "  <thead>\n",
       "    <tr style=\"text-align: right;\">\n",
       "      <th></th>\n",
       "      <th>Text</th>\n",
       "      <th>price</th>\n",
       "      <th>speed</th>\n",
       "      <th>reliability</th>\n",
       "      <th>coverage</th>\n",
       "      <th>customer service</th>\n",
       "      <th>Aspects</th>\n",
       "      <th>Sentiment</th>\n",
       "    </tr>\n",
       "  </thead>\n",
       "  <tbody>\n",
       "    <tr>\n",
       "      <th>0</th>\n",
       "      <td>officialkome_ spectranet_ng this people don fr...</td>\n",
       "      <td>0</td>\n",
       "      <td>0</td>\n",
       "      <td>0</td>\n",
       "      <td>0</td>\n",
       "      <td>0</td>\n",
       "      <td>[None]</td>\n",
       "      <td>[None]</td>\n",
       "    </tr>\n",
       "    <tr>\n",
       "      <th>1</th>\n",
       "      <td>ayomikun_o_ yoruba_dev spectranet_ng i'm.yet t...</td>\n",
       "      <td>0</td>\n",
       "      <td>0</td>\n",
       "      <td>0</td>\n",
       "      <td>0</td>\n",
       "      <td>0</td>\n",
       "      <td>[None]</td>\n",
       "      <td>[None]</td>\n",
       "    </tr>\n",
       "    <tr>\n",
       "      <th>2</th>\n",
       "      <td>spectranet !!!!! 🤬🤬🤬🤬🤬🤬</td>\n",
       "      <td>0</td>\n",
       "      <td>0</td>\n",
       "      <td>0</td>\n",
       "      <td>0</td>\n",
       "      <td>0</td>\n",
       "      <td>[None]</td>\n",
       "      <td>[None]</td>\n",
       "    </tr>\n",
       "    <tr>\n",
       "      <th>3</th>\n",
       "      <td>after buying data see airtel telling me \"now t...</td>\n",
       "      <td>0</td>\n",
       "      <td>0</td>\n",
       "      <td>0</td>\n",
       "      <td>0</td>\n",
       "      <td>0</td>\n",
       "      <td>[None]</td>\n",
       "      <td>[None]</td>\n",
       "    </tr>\n",
       "    <tr>\n",
       "      <th>4</th>\n",
       "      <td>spectranet ooooo</td>\n",
       "      <td>0</td>\n",
       "      <td>0</td>\n",
       "      <td>0</td>\n",
       "      <td>0</td>\n",
       "      <td>0</td>\n",
       "      <td>[None]</td>\n",
       "      <td>[None]</td>\n",
       "    </tr>\n",
       "  </tbody>\n",
       "</table>\n",
       "</div>"
      ],
      "text/plain": [
       "                                                Text  price  speed  \\\n",
       "0  officialkome_ spectranet_ng this people don fr...      0      0   \n",
       "1  ayomikun_o_ yoruba_dev spectranet_ng i'm.yet t...      0      0   \n",
       "2                            spectranet !!!!! 🤬🤬🤬🤬🤬🤬      0      0   \n",
       "3  after buying data see airtel telling me \"now t...      0      0   \n",
       "4                                   spectranet ooooo      0      0   \n",
       "\n",
       "   reliability  coverage  customer service Aspects Sentiment  \n",
       "0            0         0                 0  [None]    [None]  \n",
       "1            0         0                 0  [None]    [None]  \n",
       "2            0         0                 0  [None]    [None]  \n",
       "3            0         0                 0  [None]    [None]  \n",
       "4            0         0                 0  [None]    [None]  "
      ]
     },
     "execution_count": 24,
     "metadata": {},
     "output_type": "execute_result"
    }
   ],
   "source": [
    "eval_val_df = pd.read_csv(\"../data/model-evaluation/validation_dataset.csv\")\n",
    "eval_val_df.head()"
   ]
  },
  {
   "cell_type": "code",
   "execution_count": 33,
   "id": "a8d506bd-b925-4f97-be5d-4e864375659b",
   "metadata": {},
   "outputs": [],
   "source": [
    "true_aspects = eval_val_df.Aspects.apply(eval).to_list()"
   ]
  },
  {
   "cell_type": "markdown",
   "id": "ad8b4f1d-9fad-4126-b0fb-e16ef234849a",
   "metadata": {},
   "source": [
    "---"
   ]
  },
  {
   "cell_type": "markdown",
   "id": "bc26188d-277f-48ab-a5a0-58814efba43c",
   "metadata": {},
   "source": [
    "### 3. Load binary relevance model"
   ]
  },
  {
   "cell_type": "code",
   "execution_count": 6,
   "id": "681fa31a-f77d-404f-b892-91c93c62bb84",
   "metadata": {},
   "outputs": [
    {
     "name": "stderr",
     "output_type": "stream",
     "text": [
      "2022-04-01 19:45:37.887995: I tensorflow/core/platform/cpu_feature_guard.cc:142] This TensorFlow binary is optimized with oneAPI Deep Neural Network Library (oneDNN) to use the following CPU instructions in performance-critical operations:  AVX2 FMA\n",
      "To enable them in other operations, rebuild TensorFlow with the appropriate compiler flags.\n",
      "Special tokens have been added in the vocabulary, make sure the associated word embeddings are fine-tuned or trained.\n",
      "Special tokens have been added in the vocabulary, make sure the associated word embeddings are fine-tuned or trained.\n",
      "Some layers from the model checkpoint at absa/classifier-rest-0.2 were not used when initializing BertABSClassifier: ['dropout_379']\n",
      "- This IS expected if you are initializing BertABSClassifier from the checkpoint of a model trained on another task or with another architecture (e.g. initializing a BertForSequenceClassification model from a BertForPreTraining model).\n",
      "- This IS NOT expected if you are initializing BertABSClassifier from the checkpoint of a model that you expect to be exactly identical (initializing a BertForSequenceClassification model from a BertForSequenceClassification model).\n",
      "Some layers of BertABSClassifier were not initialized from the model checkpoint at absa/classifier-rest-0.2 and are newly initialized: ['dropout_37']\n",
      "You should probably TRAIN this model on a down-stream task to be able to use it for predictions and inference.\n"
     ]
    }
   ],
   "source": [
    "sys.path.append(\"../models/full_absa_models\")\n",
    "import binary_relevance_model"
   ]
  },
  {
   "cell_type": "markdown",
   "id": "62060d4a-9a06-498b-afc8-377ec3183a6c",
   "metadata": {},
   "source": [
    "#### (i) Perform slight cleaning of the tweets"
   ]
  },
  {
   "cell_type": "code",
   "execution_count": 7,
   "id": "a07c3c99-c291-4cac-a336-64a7dd1114d0",
   "metadata": {},
   "outputs": [
    {
     "data": {
      "text/html": [
       "<div>\n",
       "<style scoped>\n",
       "    .dataframe tbody tr th:only-of-type {\n",
       "        vertical-align: middle;\n",
       "    }\n",
       "\n",
       "    .dataframe tbody tr th {\n",
       "        vertical-align: top;\n",
       "    }\n",
       "\n",
       "    .dataframe thead th {\n",
       "        text-align: right;\n",
       "    }\n",
       "</style>\n",
       "<table border=\"1\" class=\"dataframe\">\n",
       "  <thead>\n",
       "    <tr style=\"text-align: right;\">\n",
       "      <th></th>\n",
       "      <th>Text</th>\n",
       "      <th>price</th>\n",
       "      <th>speed</th>\n",
       "      <th>reliability</th>\n",
       "      <th>coverage</th>\n",
       "      <th>customer service</th>\n",
       "      <th>Aspects</th>\n",
       "      <th>Sentiment</th>\n",
       "    </tr>\n",
       "  </thead>\n",
       "  <tbody>\n",
       "    <tr>\n",
       "      <th>0</th>\n",
       "      <td>officialkome spectranetng this people don frus...</td>\n",
       "      <td>0</td>\n",
       "      <td>0</td>\n",
       "      <td>0</td>\n",
       "      <td>0</td>\n",
       "      <td>0</td>\n",
       "      <td>[None]</td>\n",
       "      <td>[None]</td>\n",
       "    </tr>\n",
       "    <tr>\n",
       "      <th>1</th>\n",
       "      <td>ayomikuno yorubadev spectranetng imyet to turn...</td>\n",
       "      <td>0</td>\n",
       "      <td>0</td>\n",
       "      <td>0</td>\n",
       "      <td>0</td>\n",
       "      <td>0</td>\n",
       "      <td>[None]</td>\n",
       "      <td>[None]</td>\n",
       "    </tr>\n",
       "    <tr>\n",
       "      <th>2</th>\n",
       "      <td>spectranet</td>\n",
       "      <td>0</td>\n",
       "      <td>0</td>\n",
       "      <td>0</td>\n",
       "      <td>0</td>\n",
       "      <td>0</td>\n",
       "      <td>[None]</td>\n",
       "      <td>[None]</td>\n",
       "    </tr>\n",
       "    <tr>\n",
       "      <th>3</th>\n",
       "      <td>after buying data see airtel telling me now th...</td>\n",
       "      <td>0</td>\n",
       "      <td>0</td>\n",
       "      <td>0</td>\n",
       "      <td>0</td>\n",
       "      <td>0</td>\n",
       "      <td>[None]</td>\n",
       "      <td>[None]</td>\n",
       "    </tr>\n",
       "    <tr>\n",
       "      <th>4</th>\n",
       "      <td>spectranet ooooo</td>\n",
       "      <td>0</td>\n",
       "      <td>0</td>\n",
       "      <td>0</td>\n",
       "      <td>0</td>\n",
       "      <td>0</td>\n",
       "      <td>[None]</td>\n",
       "      <td>[None]</td>\n",
       "    </tr>\n",
       "  </tbody>\n",
       "</table>\n",
       "</div>"
      ],
      "text/plain": [
       "                                                Text  price  speed  \\\n",
       "0  officialkome spectranetng this people don frus...      0      0   \n",
       "1  ayomikuno yorubadev spectranetng imyet to turn...      0      0   \n",
       "2                                        spectranet       0      0   \n",
       "3  after buying data see airtel telling me now th...      0      0   \n",
       "4                                   spectranet ooooo      0      0   \n",
       "\n",
       "   reliability  coverage  customer service Aspects Sentiment  \n",
       "0            0         0                 0  [None]    [None]  \n",
       "1            0         0                 0  [None]    [None]  \n",
       "2            0         0                 0  [None]    [None]  \n",
       "3            0         0                 0  [None]    [None]  \n",
       "4            0         0                 0  [None]    [None]  "
      ]
     },
     "execution_count": 7,
     "metadata": {},
     "output_type": "execute_result"
    }
   ],
   "source": [
    "#Clean the validation set tweets\n",
    "model_1_cleaned_val = clean_tweets.run_cleaner(eval_val_df,'Text',no_punc=True,\n",
    "                                               no_emoji=True, no_isp_name=True)\n",
    "\n",
    "model_1_cleaned_val.head()"
   ]
  },
  {
   "cell_type": "markdown",
   "id": "7e03da48-e0ec-49b8-9047-6bfa1f442985",
   "metadata": {},
   "source": [
    "#### (ii) Run ABSA model on the tweets\n",
    "*Takes a couple of seconds to run*"
   ]
  },
  {
   "cell_type": "code",
   "execution_count": 8,
   "id": "ae3109d7-d381-4560-bc0a-f989e0b79350",
   "metadata": {},
   "outputs": [],
   "source": [
    "binary_relevance_absa = binary_relevance_model.run(eval_val_df, 'Text')"
   ]
  },
  {
   "cell_type": "markdown",
   "id": "dd40d73f-dffd-40d5-b3a8-7a8e636b698f",
   "metadata": {},
   "source": [
    "#### (iii) Merge true annotations on the model's predictions"
   ]
  },
  {
   "cell_type": "code",
   "execution_count": 9,
   "id": "c0226c24-c343-4466-88b7-44bd80e990e4",
   "metadata": {},
   "outputs": [
    {
     "data": {
      "text/html": [
       "<div>\n",
       "<style scoped>\n",
       "    .dataframe tbody tr th:only-of-type {\n",
       "        vertical-align: middle;\n",
       "    }\n",
       "\n",
       "    .dataframe tbody tr th {\n",
       "        vertical-align: top;\n",
       "    }\n",
       "\n",
       "    .dataframe thead th {\n",
       "        text-align: right;\n",
       "    }\n",
       "</style>\n",
       "<table border=\"1\" class=\"dataframe\">\n",
       "  <thead>\n",
       "    <tr style=\"text-align: right;\">\n",
       "      <th></th>\n",
       "      <th>Text</th>\n",
       "      <th>Detected aspects</th>\n",
       "      <th>Predicted sentiment</th>\n",
       "      <th>Aspects</th>\n",
       "      <th>Sentiment</th>\n",
       "    </tr>\n",
       "  </thead>\n",
       "  <tbody>\n",
       "    <tr>\n",
       "      <th>0</th>\n",
       "      <td>officialkome spectranetng this people don frus...</td>\n",
       "      <td>[None]</td>\n",
       "      <td>[None]</td>\n",
       "      <td>[None]</td>\n",
       "      <td>[None]</td>\n",
       "    </tr>\n",
       "    <tr>\n",
       "      <th>1</th>\n",
       "      <td>ayomikuno yorubadev spectranetng imyet to turn...</td>\n",
       "      <td>[None]</td>\n",
       "      <td>[None]</td>\n",
       "      <td>[None]</td>\n",
       "      <td>[None]</td>\n",
       "    </tr>\n",
       "    <tr>\n",
       "      <th>2</th>\n",
       "      <td>spectranet</td>\n",
       "      <td>[None]</td>\n",
       "      <td>[None]</td>\n",
       "      <td>[None]</td>\n",
       "      <td>[None]</td>\n",
       "    </tr>\n",
       "    <tr>\n",
       "      <th>3</th>\n",
       "      <td>after buying data see airtel telling me now th...</td>\n",
       "      <td>[None]</td>\n",
       "      <td>[None]</td>\n",
       "      <td>[None]</td>\n",
       "      <td>[None]</td>\n",
       "    </tr>\n",
       "    <tr>\n",
       "      <th>4</th>\n",
       "      <td>spectranet ooooo</td>\n",
       "      <td>[None]</td>\n",
       "      <td>[None]</td>\n",
       "      <td>[None]</td>\n",
       "      <td>[None]</td>\n",
       "    </tr>\n",
       "  </tbody>\n",
       "</table>\n",
       "</div>"
      ],
      "text/plain": [
       "                                                Text Detected aspects  \\\n",
       "0  officialkome spectranetng this people don frus...           [None]   \n",
       "1  ayomikuno yorubadev spectranetng imyet to turn...           [None]   \n",
       "2                                        spectranet            [None]   \n",
       "3  after buying data see airtel telling me now th...           [None]   \n",
       "4                                   spectranet ooooo           [None]   \n",
       "\n",
       "  Predicted sentiment Aspects Sentiment  \n",
       "0              [None]  [None]    [None]  \n",
       "1              [None]  [None]    [None]  \n",
       "2              [None]  [None]    [None]  \n",
       "3              [None]  [None]    [None]  \n",
       "4              [None]  [None]    [None]  "
      ]
     },
     "execution_count": 9,
     "metadata": {},
     "output_type": "execute_result"
    }
   ],
   "source": [
    "binary_relevance_absa[['Aspects', 'Sentiment']] = model_1_cleaned_val[['Aspects', 'Sentiment']]\n",
    "binary_relevance_absa.head()"
   ]
  },
  {
   "cell_type": "markdown",
   "id": "75c87c59-8d58-4aab-b16a-44d3403aadcb",
   "metadata": {},
   "source": [
    "#### (iv) Aspect extraction evaluation"
   ]
  },
  {
   "cell_type": "code",
   "execution_count": 11,
   "id": "c99beba6-0439-4a9e-a323-5ff7a72e85fe",
   "metadata": {},
   "outputs": [
    {
     "name": "stdout",
     "output_type": "stream",
     "text": [
      "Precision: 0.828  Recall: 0.770 F-0.5: 0.812\n"
     ]
    }
   ],
   "source": [
    "#Calculate precision, recall and f-0.5\n",
    "md1_class_metrics, md1_precision, md1_recall, md1_fscore = weighted_binary_precision_recall_fscore(\n",
    "    binary_relevance_absa['Aspects'],\n",
    "    binary_relevance_absa['Detected aspects'], \n",
    "    beta = 0.5)\n",
    "\n",
    "print(f\"Precision: {md1_precision:.3f}  Recall: {md1_recall:.3f} F-0.5: {md1_fscore:.3f}\")"
   ]
  },
  {
   "cell_type": "code",
   "execution_count": 12,
   "id": "991ac5a5-bf59-411a-8336-19cffa21b7dc",
   "metadata": {},
   "outputs": [
    {
     "data": {
      "text/html": [
       "<div>\n",
       "<style scoped>\n",
       "    .dataframe tbody tr th:only-of-type {\n",
       "        vertical-align: middle;\n",
       "    }\n",
       "\n",
       "    .dataframe tbody tr th {\n",
       "        vertical-align: top;\n",
       "    }\n",
       "\n",
       "    .dataframe thead th {\n",
       "        text-align: right;\n",
       "    }\n",
       "</style>\n",
       "<table border=\"1\" class=\"dataframe\">\n",
       "  <thead>\n",
       "    <tr style=\"text-align: right;\">\n",
       "      <th></th>\n",
       "      <th>Support</th>\n",
       "      <th>Precision</th>\n",
       "      <th>Recall</th>\n",
       "      <th>F-0.5</th>\n",
       "    </tr>\n",
       "  </thead>\n",
       "  <tbody>\n",
       "    <tr>\n",
       "      <th>price</th>\n",
       "      <td>12.0</td>\n",
       "      <td>0.818182</td>\n",
       "      <td>0.750000</td>\n",
       "      <td>0.803571</td>\n",
       "    </tr>\n",
       "    <tr>\n",
       "      <th>speed</th>\n",
       "      <td>13.0</td>\n",
       "      <td>0.846154</td>\n",
       "      <td>0.846154</td>\n",
       "      <td>0.846154</td>\n",
       "    </tr>\n",
       "    <tr>\n",
       "      <th>reliability</th>\n",
       "      <td>11.0</td>\n",
       "      <td>0.769231</td>\n",
       "      <td>0.909091</td>\n",
       "      <td>0.793651</td>\n",
       "    </tr>\n",
       "    <tr>\n",
       "      <th>coverage</th>\n",
       "      <td>9.0</td>\n",
       "      <td>0.833333</td>\n",
       "      <td>0.555556</td>\n",
       "      <td>0.757576</td>\n",
       "    </tr>\n",
       "    <tr>\n",
       "      <th>customer service</th>\n",
       "      <td>16.0</td>\n",
       "      <td>0.857143</td>\n",
       "      <td>0.750000</td>\n",
       "      <td>0.833333</td>\n",
       "    </tr>\n",
       "  </tbody>\n",
       "</table>\n",
       "</div>"
      ],
      "text/plain": [
       "                  Support  Precision    Recall     F-0.5\n",
       "price                12.0   0.818182  0.750000  0.803571\n",
       "speed                13.0   0.846154  0.846154  0.846154\n",
       "reliability          11.0   0.769231  0.909091  0.793651\n",
       "coverage              9.0   0.833333  0.555556  0.757576\n",
       "customer service     16.0   0.857143  0.750000  0.833333"
      ]
     },
     "execution_count": 12,
     "metadata": {},
     "output_type": "execute_result"
    }
   ],
   "source": [
    "md1_df = pd.DataFrame(md1_class_metrics)\n",
    "(md1_df.T).iloc[:,-4:]"
   ]
  },
  {
   "cell_type": "markdown",
   "id": "5a56f6ab-f668-4032-a362-267da744d013",
   "metadata": {},
   "source": [
    "#### (v) Aspect sentiment prediction evaluation"
   ]
  },
  {
   "cell_type": "code",
   "execution_count": 13,
   "id": "ea1dda10-b1a9-4d2a-815a-2506d78d3160",
   "metadata": {},
   "outputs": [
    {
     "name": "stdout",
     "output_type": "stream",
     "text": [
      " Correct extractions:{'price': 9, 'speed': 11, 'reliability': 10, 'coverage': 5, 'customer service': 12} \n",
      " Micro accuracy:0.766   Macro accuracy:0.772\n"
     ]
    }
   ],
   "source": [
    "md1_accuracies,md1_micro_accuracy,md1_macro_accuracy, md1_extraction_support = aspect_sentiment_accuracy(binary_relevance_absa['Aspects'],\n",
    "                                                                          binary_relevance_absa['Detected aspects'],\n",
    "                                                                          binary_relevance_absa['Sentiment'],\n",
    "                                                                          binary_relevance_absa['Predicted sentiment'])\n",
    "\n",
    "print(f\" Correct extractions:{md1_extraction_support} \\n Micro accuracy:{md1_micro_accuracy:.3f}   Macro accuracy:{md1_macro_accuracy:.3f}\")"
   ]
  },
  {
   "cell_type": "code",
   "execution_count": 14,
   "id": "b65874dd-5720-4c3a-bec6-c6d883fd0d00",
   "metadata": {},
   "outputs": [
    {
     "data": {
      "text/html": [
       "<div>\n",
       "<style scoped>\n",
       "    .dataframe tbody tr th:only-of-type {\n",
       "        vertical-align: middle;\n",
       "    }\n",
       "\n",
       "    .dataframe tbody tr th {\n",
       "        vertical-align: top;\n",
       "    }\n",
       "\n",
       "    .dataframe thead th {\n",
       "        text-align: right;\n",
       "    }\n",
       "</style>\n",
       "<table border=\"1\" class=\"dataframe\">\n",
       "  <thead>\n",
       "    <tr style=\"text-align: right;\">\n",
       "      <th></th>\n",
       "      <th>Accuracy</th>\n",
       "    </tr>\n",
       "  </thead>\n",
       "  <tbody>\n",
       "    <tr>\n",
       "      <th>price</th>\n",
       "      <td>0.222222</td>\n",
       "    </tr>\n",
       "    <tr>\n",
       "      <th>speed</th>\n",
       "      <td>0.636364</td>\n",
       "    </tr>\n",
       "    <tr>\n",
       "      <th>reliability</th>\n",
       "      <td>1.000000</td>\n",
       "    </tr>\n",
       "    <tr>\n",
       "      <th>coverage</th>\n",
       "      <td>1.000000</td>\n",
       "    </tr>\n",
       "    <tr>\n",
       "      <th>customer service</th>\n",
       "      <td>1.000000</td>\n",
       "    </tr>\n",
       "  </tbody>\n",
       "</table>\n",
       "</div>"
      ],
      "text/plain": [
       "                  Accuracy\n",
       "price             0.222222\n",
       "speed             0.636364\n",
       "reliability       1.000000\n",
       "coverage          1.000000\n",
       "customer service  1.000000"
      ]
     },
     "execution_count": 14,
     "metadata": {},
     "output_type": "execute_result"
    }
   ],
   "source": [
    "(pd.DataFrame([md1_accuracies]).T).rename(columns={0:'Accuracy'})"
   ]
  },
  {
   "cell_type": "markdown",
   "id": "729011b2-d39f-435d-9e7d-d45943eab130",
   "metadata": {},
   "source": [
    "---"
   ]
  },
  {
   "cell_type": "markdown",
   "id": "b4011ec3-5ab5-4350-8d9b-69a2b0f24d2f",
   "metadata": {},
   "source": [
    "### 4. Sklearn evaluation"
   ]
  },
  {
   "cell_type": "markdown",
   "id": "b1f0bdf9-55a0-4b16-8d6c-355e6a525c31",
   "metadata": {},
   "source": [
    "#### a. Define function to encode the aspects contained in a list of lists"
   ]
  },
  {
   "cell_type": "code",
   "execution_count": 15,
   "id": "c6ac9247-9183-42fd-89f6-9cc97634778d",
   "metadata": {},
   "outputs": [],
   "source": [
    "def encode_detected_aspects(multi_label_aspects):\n",
    "    \n",
    "    \"\"\"\n",
    "    Function to encode a list of lists representing the detected aspects as integers\n",
    "    \"\"\"\n",
    "    \n",
    "    final_list = []\n",
    "\n",
    "    aspect_map = {'price':0,'speed':1,'reliability':2,'coverage':3, 'customer service':4}\n",
    "\n",
    "    for aspect_list in multi_label_aspects:\n",
    "\n",
    "        #If None reformat to empty string\n",
    "        if aspect_list == [None]:\n",
    "            final_list.append([])\n",
    "\n",
    "        #If just a single aspect\n",
    "        elif len(aspect_list) == 1:\n",
    "\n",
    "            #Encode and add to list as a list\n",
    "            final_list.append([aspect_map[aspect_list[0]]])\n",
    "\n",
    "        #If more than one aspect\n",
    "        else:\n",
    "\n",
    "            #List to store the encoding of all the aspects\n",
    "            encoded_list = []\n",
    "\n",
    "            #Iterate through each aspect\n",
    "            for aspect in aspect_list:\n",
    "\n",
    "                #Encode and add to encoding list\n",
    "                encoded_list.append(aspect_map[aspect])\n",
    "\n",
    "            final_list.append(encoded_list)\n",
    "    \n",
    "    return final_list"
   ]
  },
  {
   "cell_type": "markdown",
   "id": "8d44d9ab-5723-4f43-8add-a23f979a6a36",
   "metadata": {},
   "source": [
    "#### b. Define function to convert list of lists to sparse matrix for evaluation using sklearn"
   ]
  },
  {
   "cell_type": "code",
   "execution_count": 16,
   "id": "2a364fe2-2f4c-4f43-84a6-140f62ba365c",
   "metadata": {},
   "outputs": [],
   "source": [
    "def label_to_sm(labels, n_classes):\n",
    "    sm = lil_matrix((len(labels), n_classes))\n",
    "    for i, label in enumerate(labels):\n",
    "        sm[i, label] = 1\n",
    "    return sm"
   ]
  },
  {
   "cell_type": "markdown",
   "id": "07d183c7-849d-4272-a09b-6e308b8b06bb",
   "metadata": {},
   "source": [
    "#### c. Encode true aspects and predicted aspects"
   ]
  },
  {
   "cell_type": "markdown",
   "id": "bad8960a-b413-4e1c-8507-c7f3d559382b",
   "metadata": {},
   "source": [
    "**True aspects**"
   ]
  },
  {
   "cell_type": "code",
   "execution_count": 17,
   "id": "20bec3b5-3278-4b28-a284-3d5bdcf7af45",
   "metadata": {},
   "outputs": [],
   "source": [
    "y_true = eval_val_df.Aspects.apply(eval).to_list()\n",
    "encoded_y_true = encode_detected_aspects(y_true)"
   ]
  },
  {
   "cell_type": "markdown",
   "id": "39f9fa43-92b9-4df5-9df5-22b36cd455f4",
   "metadata": {},
   "source": [
    "**Predicted aspects**"
   ]
  },
  {
   "cell_type": "code",
   "execution_count": 19,
   "id": "1ef8047a-cc4e-4410-ad6a-48e57a624491",
   "metadata": {},
   "outputs": [],
   "source": [
    "y_pred = binary_relevance_absa['Detected aspects'].to_list()\n",
    "encoded_y_pred = encode_detected_aspects(y_pred)"
   ]
  },
  {
   "cell_type": "markdown",
   "id": "7cd5610c-97af-405c-9216-22a27a444ca2",
   "metadata": {},
   "source": [
    "#### d. Convert list of lists into sparse matrix"
   ]
  },
  {
   "cell_type": "code",
   "execution_count": 20,
   "id": "d9e39b91-92b7-4238-bcb3-229d7514e60c",
   "metadata": {},
   "outputs": [],
   "source": [
    "#True aspects\n",
    "y_true_sm = label_to_sm(labels=encoded_y_true, n_classes=5)\n",
    "\n",
    "#Predicted aspects\n",
    "y_pred_sm = label_to_sm(labels=encoded_y_pred, n_classes=5)"
   ]
  },
  {
   "cell_type": "markdown",
   "id": "46233b5e-8180-4ee6-ad5b-09624fe35dfe",
   "metadata": {},
   "source": [
    "#### e. COMPUTE F-0.5 SCORE WITH SKLEARN & COMPARE WITH SELF-DEVELOPED MODEL"
   ]
  },
  {
   "cell_type": "markdown",
   "id": "6b6eb7e7-ce6f-4346-a6ca-c5411c081304",
   "metadata": {},
   "source": [
    "**Weighted F-0.5 score**"
   ]
  },
  {
   "cell_type": "code",
   "execution_count": 24,
   "id": "a16487ba-3a81-4f21-a701-da63aace4589",
   "metadata": {},
   "outputs": [
    {
     "data": {
      "text/plain": [
       "True"
      ]
     },
     "execution_count": 24,
     "metadata": {},
     "output_type": "execute_result"
    }
   ],
   "source": [
    "round(md1_fscore,4) == round(fbeta_score(y_true_sm,y_pred_sm, average='weighted', beta=0.5),4)"
   ]
  },
  {
   "cell_type": "markdown",
   "id": "10186dd9-56d9-478d-b20e-33290bb76426",
   "metadata": {},
   "source": [
    "**Class-level F-0.5 scores**"
   ]
  },
  {
   "cell_type": "code",
   "execution_count": 25,
   "id": "c760235f-b08b-4334-b3c9-4d344de04efe",
   "metadata": {},
   "outputs": [
    {
     "data": {
      "text/plain": [
       "array([ True,  True,  True,  True,  True])"
      ]
     },
     "execution_count": 25,
     "metadata": {},
     "output_type": "execute_result"
    }
   ],
   "source": [
    "my_func_class_metrics = [md1_class_metrics[key]['F-0.5'] for key in md1_class_metrics.keys()]\n",
    "sklearn_class_metrics = fbeta_score(y_true_sm,y_pred_sm, average=None, beta=0.5)\n",
    "\n",
    "my_func_class_metrics == sklearn_class_metrics"
   ]
  },
  {
   "cell_type": "markdown",
   "id": "6fce886c-28f6-4404-805b-66c3c2ef36ab",
   "metadata": {},
   "source": [
    "#### e. COMPUTE ACCURACIES WITH SKLEARN & COMPARE WITH SELF-DEVELOPED MODEL\n",
    "`METRIC RESULTS WILL DIFFER BELOW`\n",
    "\n",
    "Sklearn computes subset accuracy (the set of labels predicted for a sample must exactly match the corresponding set of labels in y_true) which is slightly different from what I designed for computation. In my case, the labels predicted for a sample must not exactly match the corresponding set of labels in y_true. As long as an aspect is correctly detected (i.e. it is both in the predicted labels and true labels, it contributes to the accuracy score"
   ]
  },
  {
   "cell_type": "code",
   "execution_count": 28,
   "id": "aa168157-87e7-4b02-b584-cb4df5fb2bc7",
   "metadata": {},
   "outputs": [
    {
     "data": {
      "text/plain": [
       "0.7857142857142857"
      ]
     },
     "execution_count": 28,
     "metadata": {},
     "output_type": "execute_result"
    }
   ],
   "source": [
    "sklearn_accuracy = accuracy_score(y_true_sm,y_pred_sm)\n",
    "sklearn_accuracy"
   ]
  },
  {
   "cell_type": "code",
   "execution_count": 34,
   "id": "5674e393-f60a-407b-ba3d-836769307f59",
   "metadata": {},
   "outputs": [
    {
     "data": {
      "text/plain": [
       "0.7717171717171717"
      ]
     },
     "execution_count": 34,
     "metadata": {},
     "output_type": "execute_result"
    }
   ],
   "source": [
    "md1_macro_accuracy"
   ]
  },
  {
   "cell_type": "code",
   "execution_count": 35,
   "id": "8a2b37e1-8dee-4271-9434-d7572393e9cb",
   "metadata": {},
   "outputs": [
    {
     "data": {
      "text/plain": [
       "0.7659574468085106"
      ]
     },
     "execution_count": 35,
     "metadata": {},
     "output_type": "execute_result"
    }
   ],
   "source": [
    "md1_micro_accuracy"
   ]
  }
 ],
 "metadata": {
  "kernelspec": {
   "display_name": "Python 3 (ipykernel)",
   "language": "python",
   "name": "python3"
  },
  "language_info": {
   "codemirror_mode": {
    "name": "ipython",
    "version": 3
   },
   "file_extension": ".py",
   "mimetype": "text/x-python",
   "name": "python",
   "nbconvert_exporter": "python",
   "pygments_lexer": "ipython3",
   "version": "3.7.11"
  }
 },
 "nbformat": 4,
 "nbformat_minor": 5
}
