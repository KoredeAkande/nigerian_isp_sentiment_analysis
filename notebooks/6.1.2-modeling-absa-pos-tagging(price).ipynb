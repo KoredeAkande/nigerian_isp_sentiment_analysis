{
 "cells": [
  {
   "cell_type": "markdown",
   "id": "400f47d4",
   "metadata": {},
   "source": [
    "# Modeling: Aspect-Based Sentiment Analysis Annotation[Price]\n",
    "\n",
    "**`Goal:`** \n",
    "\n",
    "Conduct ABSA using word relatedness and out-of-the-box [ABSA package by ScalaConsultants](https://github.com/ScalaConsultants/Aspect-Based-Sentiment-Analysis). This notebook is meant to serve as a start for tweet aspect annotation by getting as much of the aspects indicated and their corresponding sentiments. Results will be crosschecked during the annotation phase!\n",
    "\n",
    "**`Process:`** \n",
    "1. List aspects (e.g. speed, price, reliability) determined from earlier data annotation phase\n",
    "2. Get nouns, adjectives and adverbs from the tweets as these will likely be the parts of speech making meaningful reference to aspects\n",
    "3. Check if each of the words from step 2 is very similar to any of the aspects (e.g. speed [aspect] and fast [word in tweet]) by computing relatedness score (via word embedding)\n",
    "4. If relatedness score is past a set thresholdhood, we assume the aspect was referenced in the tweet. Hence, note down that the aspect category was referenced in that given tweet and also note down the word (herein called aspect term) that implied the aspect\n",
    "6. Conduct ABSA using the ABSA package with the tweet and with the aspect term and note sentiment (positive, negative or neutral) towards the main aspect (price, speed, etc.)\n",
    "7. If multiple words make reference to a single aspect, find the average of their sentiments and use to assign a single sentiment \n",
    "\n",
    "**Note:** This notebook experiments with using **`price`** as an aspect rather than **`cost`**. See 6.1.1 for **`cost`** experiment\n",
    "\n",
    "\n",
    "\n",
    "**`Conclusion:`**\n",
    "After experimenting with using price vs. cost as an aspect, **price** was found to produce better results for both extraction and sentiment prediction. Hence, I proceed with using **price** as an aspect rather than **cost**"
   ]
  },
  {
   "cell_type": "code",
   "execution_count": 1,
   "id": "167a6593",
   "metadata": {},
   "outputs": [],
   "source": [
    "# python -m spacy download en_core_web_md\n",
    "# python -m spacy download en_core_web_lg"
   ]
  },
  {
   "cell_type": "markdown",
   "id": "062563f4",
   "metadata": {},
   "source": [
    "### 1. Library Importation"
   ]
  },
  {
   "cell_type": "code",
   "execution_count": 2,
   "id": "0b3e42aa",
   "metadata": {},
   "outputs": [
    {
     "name": "stderr",
     "output_type": "stream",
     "text": [
      "2021-11-25 21:59:15.631180: I tensorflow/core/platform/cpu_feature_guard.cc:142] This TensorFlow binary is optimized with oneAPI Deep Neural Network Library (oneDNN) to use the following CPU instructions in performance-critical operations:  AVX2 FMA\n",
      "To enable them in other operations, rebuild TensorFlow with the appropriate compiler flags.\n"
     ]
    }
   ],
   "source": [
    "import pandas as pd\n",
    "import numpy as np\n",
    "import re\n",
    "import aspect_based_sentiment_analysis as absa\n",
    "import nltk\n",
    "from nltk import pos_tag, RegexpParser\n",
    "\n",
    "#Packages for word relatedness computation\n",
    "import spacy\n",
    "spacy_nlp = spacy.load('en_core_web_lg')\n",
    "\n",
    "from itertools import product\n",
    "from cleantext import clean"
   ]
  },
  {
   "cell_type": "markdown",
   "id": "68175589",
   "metadata": {},
   "source": [
    "### 2. Loading the data"
   ]
  },
  {
   "cell_type": "code",
   "execution_count": 3,
   "id": "b36626bd",
   "metadata": {},
   "outputs": [],
   "source": [
    "df = pd.read_csv('../data/processed/sample_encoded_and_cleaned_no_punct.csv')"
   ]
  },
  {
   "cell_type": "code",
   "execution_count": 4,
   "id": "e228c5aa",
   "metadata": {},
   "outputs": [
    {
     "data": {
      "text/html": [
       "<div>\n",
       "<style scoped>\n",
       "    .dataframe tbody tr th:only-of-type {\n",
       "        vertical-align: middle;\n",
       "    }\n",
       "\n",
       "    .dataframe tbody tr th {\n",
       "        vertical-align: top;\n",
       "    }\n",
       "\n",
       "    .dataframe thead th {\n",
       "        text-align: right;\n",
       "    }\n",
       "</style>\n",
       "<table border=\"1\" class=\"dataframe\">\n",
       "  <thead>\n",
       "    <tr style=\"text-align: right;\">\n",
       "      <th></th>\n",
       "      <th>ISP_Name</th>\n",
       "      <th>Time</th>\n",
       "      <th>Text</th>\n",
       "      <th>Source</th>\n",
       "      <th>sentiment</th>\n",
       "      <th>label</th>\n",
       "    </tr>\n",
       "  </thead>\n",
       "  <tbody>\n",
       "    <tr>\n",
       "      <th>0</th>\n",
       "      <td>sprectranet</td>\n",
       "      <td>2020-02-04 18:30:35+00:00</td>\n",
       "      <td>my family used my spectranet and they dont wan...</td>\n",
       "      <td>Twitter for Android</td>\n",
       "      <td>Neutral</td>\n",
       "      <td>1</td>\n",
       "    </tr>\n",
       "    <tr>\n",
       "      <th>1</th>\n",
       "      <td>sprectranet</td>\n",
       "      <td>2019-06-19 04:59:49</td>\n",
       "      <td>spectranetng how can i get the freedom mifi in...</td>\n",
       "      <td>Twitter for iPhone</td>\n",
       "      <td>Neutral</td>\n",
       "      <td>1</td>\n",
       "    </tr>\n",
       "    <tr>\n",
       "      <th>2</th>\n",
       "      <td>sprectranet</td>\n",
       "      <td>2020-03-30 07:57:38+00:00</td>\n",
       "      <td>drolufunmilayo iconicremi spectranetng</td>\n",
       "      <td>Twitter for iPhone</td>\n",
       "      <td>Neutral</td>\n",
       "      <td>1</td>\n",
       "    </tr>\n",
       "    <tr>\n",
       "      <th>3</th>\n",
       "      <td>sprectranet</td>\n",
       "      <td>2020-12-31 21:07:52+00:00</td>\n",
       "      <td>spectranetng your response just proves how hor...</td>\n",
       "      <td>Twitter for Android</td>\n",
       "      <td>Negative</td>\n",
       "      <td>0</td>\n",
       "    </tr>\n",
       "    <tr>\n",
       "      <th>4</th>\n",
       "      <td>sprectranet</td>\n",
       "      <td>2020-09-03 23:09:09+00:00</td>\n",
       "      <td>spectranet is just the worse tbh i cant even w...</td>\n",
       "      <td>Twitter for iPhone</td>\n",
       "      <td>Negative</td>\n",
       "      <td>0</td>\n",
       "    </tr>\n",
       "  </tbody>\n",
       "</table>\n",
       "</div>"
      ],
      "text/plain": [
       "      ISP_Name                       Time  \\\n",
       "0  sprectranet  2020-02-04 18:30:35+00:00   \n",
       "1  sprectranet        2019-06-19 04:59:49   \n",
       "2  sprectranet  2020-03-30 07:57:38+00:00   \n",
       "3  sprectranet  2020-12-31 21:07:52+00:00   \n",
       "4  sprectranet  2020-09-03 23:09:09+00:00   \n",
       "\n",
       "                                                Text               Source  \\\n",
       "0  my family used my spectranet and they dont wan...  Twitter for Android   \n",
       "1  spectranetng how can i get the freedom mifi in...   Twitter for iPhone   \n",
       "2             drolufunmilayo iconicremi spectranetng   Twitter for iPhone   \n",
       "3  spectranetng your response just proves how hor...  Twitter for Android   \n",
       "4  spectranet is just the worse tbh i cant even w...   Twitter for iPhone   \n",
       "\n",
       "  sentiment  label  \n",
       "0   Neutral      1  \n",
       "1   Neutral      1  \n",
       "2   Neutral      1  \n",
       "3  Negative      0  \n",
       "4  Negative      0  "
      ]
     },
     "execution_count": 4,
     "metadata": {},
     "output_type": "execute_result"
    }
   ],
   "source": [
    "df.head()"
   ]
  },
  {
   "cell_type": "code",
   "execution_count": 5,
   "id": "4ca36aed",
   "metadata": {},
   "outputs": [
    {
     "data": {
      "text/plain": [
       "Negative    216\n",
       "Neutral     131\n",
       "Positive     30\n",
       "Name: sentiment, dtype: int64"
      ]
     },
     "execution_count": 5,
     "metadata": {},
     "output_type": "execute_result"
    }
   ],
   "source": [
    "df.sentiment.value_counts()"
   ]
  },
  {
   "cell_type": "markdown",
   "id": "11b6e735",
   "metadata": {},
   "source": [
    "### 3. Loading the model"
   ]
  },
  {
   "cell_type": "code",
   "execution_count": 6,
   "id": "eeb0fdc6",
   "metadata": {},
   "outputs": [
    {
     "name": "stderr",
     "output_type": "stream",
     "text": [
      "Some layers from the model checkpoint at absa/classifier-rest-0.2 were not used when initializing BertABSClassifier: ['dropout_379']\n",
      "- This IS expected if you are initializing BertABSClassifier from the checkpoint of a model trained on another task or with another architecture (e.g. initializing a BertForSequenceClassification model from a BertForPreTraining model).\n",
      "- This IS NOT expected if you are initializing BertABSClassifier from the checkpoint of a model that you expect to be exactly identical (initializing a BertForSequenceClassification model from a BertForSequenceClassification model).\n",
      "Some layers of BertABSClassifier were not initialized from the model checkpoint at absa/classifier-rest-0.2 and are newly initialized: ['dropout_37']\n",
      "You should probably TRAIN this model on a down-stream task to be able to use it for predictions and inference.\n"
     ]
    }
   ],
   "source": [
    "#Load the model for ABSA modeling\n",
    "nlp = absa.load()"
   ]
  },
  {
   "cell_type": "markdown",
   "id": "31d34568",
   "metadata": {},
   "source": [
    "### 4. Modeling"
   ]
  },
  {
   "cell_type": "code",
   "execution_count": 7,
   "id": "841e5e4f",
   "metadata": {},
   "outputs": [
    {
     "data": {
      "text/plain": [
       "[('price', price),\n",
       " ('speed', speed),\n",
       " ('reliability', reliability),\n",
       " ('coverage', coverage),\n",
       " ('customer service', customer service),\n",
       " ('trustworthiness', trustworthiness)]"
      ]
     },
     "execution_count": 7,
     "metadata": {},
     "output_type": "execute_result"
    }
   ],
   "source": [
    "#1. List aspects determined during the annotation phase\n",
    "    #Note: This might not be exhaustive! But it should cover most cases. It is also subjective!\n",
    "    #Also using synonyms of these words will likely yield different results\n",
    "aspects = ['price','speed','reliability','coverage', 'customer service', 'trustworthiness']\n",
    "\n",
    "#2. Pair aspects with their tokenized form to avoid recomputation in the ABSA phase below\n",
    "aspects_with_token = [] #List to store the pairing\n",
    "\n",
    "#Iterate through the aspects and compute their word vector using spacy\n",
    "for aspect in aspects:\n",
    "    aspects_with_token.append((aspect,spacy_nlp(aspect)))\n",
    "    \n",
    "aspects_with_token"
   ]
  },
  {
   "cell_type": "code",
   "execution_count": 8,
   "id": "1db11dd8",
   "metadata": {
    "tags": []
   },
   "outputs": [
    {
     "name": "stderr",
     "output_type": "stream",
     "text": [
      "/Users/koredeakande/opt/anaconda3/envs/capstone/lib/python3.7/site-packages/ipykernel_launcher.py:111: UserWarning: [W008] Evaluating Doc.similarity based on empty vectors.\n"
     ]
    }
   ],
   "source": [
    "#Set to store all seen words\n",
    "seen_words = set()\n",
    "\n",
    "#Set to store all aspect implying words found – to avoid recomputing similarity scores\n",
    "aspect_implying_words_glob = set()\n",
    "\n",
    "#Dictionary categorizing all aspect-implying words into their relevant aspects\n",
    "aspects_with_implying_words = {'price':set(),'speed':set(),'reliability':set(),'coverage':set(), \n",
    "                               'customer service':set(),'trustworthiness':set()}\n",
    "\n",
    "#List to store detected aspects and their sentiments\n",
    "df_list = []\n",
    "\n",
    "#Similarity threshold\n",
    "sim_thresh = 0.6\n",
    "\n",
    "#Chunk tags to match – i.e. parts of speech to extract\n",
    "CHUNK_TAG = \"\"\"\n",
    "MATCH: {<NN>+|<NN.*>+}\n",
    "{<JJ.*>?}\n",
    "{<RB.*>?}\n",
    "\"\"\"\n",
    "\n",
    "#Initialize chunk tag parser\n",
    "cp = nltk.RegexpParser(CHUNK_TAG)\n",
    "\n",
    "#Iterate through all the tweets\n",
    "for tweet in df.Text:\n",
    "    \n",
    "    #Set to store the detected aspects at the sentence level\n",
    "    # detected_aspects = set()\n",
    "    \n",
    "    #Dictionary to store the sentiment value for each seen aspect\n",
    "    sentence_lvl_aspect_sentiment = {'price':[],'speed':[],'reliability':[],'coverage':[], \n",
    "                                     'customer service':[], 'trustworthiness':[]}\n",
    "        \n",
    "    #Split the tweet into words\n",
    "    text = tweet.split()\n",
    "\n",
    "    #Tag the words with their part of speech\n",
    "    tokens_tag = pos_tag(text)\n",
    "    \n",
    "    #Get the words with relevant POS (noun, adverbs, adjectives)\n",
    "    chunk_result = cp.parse(tokens_tag)\n",
    "    \n",
    "    #Extract chunk results from tree into list \n",
    "    chunk_items = [list(n) for n in chunk_result if isinstance(n, nltk.tree.Tree)]\n",
    "    \n",
    "    #Finally fuse/extract chunked words to get (noun) phrases, nouns, adverbs, adjectives\n",
    "    #1. List to store the words\n",
    "    matched_words = []\n",
    "    \n",
    "    #2. Iterate through the chunked words lists and get the relevant words\n",
    "    for item in chunk_items:\n",
    "        if len(item) > 1:\n",
    "            full_string = []\n",
    "\n",
    "            for word in item:\n",
    "                full_string.append(word[0])\n",
    "\n",
    "            matched_words.append(' '.join(full_string))\n",
    "\n",
    "        else:\n",
    "            matched_words.append(item[0][0])\n",
    "        \n",
    "    #Iterate through all the words\n",
    "    for word_in_focus in matched_words:\n",
    "        \n",
    "        #If the word has been seen before\n",
    "        if word_in_focus in seen_words:\n",
    "            \n",
    "            #Check if the word is an aspect-implying word\n",
    "            if word_in_focus in aspect_implying_words_glob:\n",
    "                \n",
    "                #List to store all the aspects found to related to the certain word/token\n",
    "                aspects_implied = []\n",
    "            \n",
    "                #If it is an aspect-implying word, iterate through all the aspects\n",
    "                for aspect in aspects_with_implying_words.keys():\n",
    "                    \n",
    "                    #Check if the word_in_focus was noted as a word implying the aspect\n",
    "                    if word_in_focus in aspects_with_implying_words[aspect]:\n",
    "                        \n",
    "                        #Get all the aspects the word_in_focus implies\n",
    "                        aspects_implied.append(aspect)\n",
    "                        \n",
    "            \n",
    "            else:\n",
    "                continue\n",
    "                    \n",
    "         \n",
    "        #If the word hasn't been seen before\n",
    "        else:\n",
    "            \n",
    "            #Mark the word as seen now\n",
    "            seen_words.add(word_in_focus)\n",
    "                \n",
    "            #List to store all the aspects found to related to the certain word/token\n",
    "            #Ideally a given word won't imply multiple of the aspects as they are fairly independent\n",
    "            #-but just in case \n",
    "            aspects_implied = []\n",
    "\n",
    "            #Iterate through all the aspects\n",
    "            for aspect,asp_token in aspects_with_token:\n",
    "\n",
    "                #Translate word_in_focus to word vector\n",
    "                spacy_token = spacy_nlp(word_in_focus)\n",
    "\n",
    "                #Compute the similarity between the two word vectors (i.e. the two words)\n",
    "                #Round up to 1 d.p.\n",
    "                similarity_score = round(asp_token.similarity(spacy_token),1)\n",
    "\n",
    "                #If the max similarity score seen is greater than the threshold\n",
    "                if similarity_score >= sim_thresh:\n",
    "\n",
    "                    #Add the word to the set of all aspect-implying words seen\n",
    "                    aspect_implying_words_glob.add(word_in_focus)\n",
    "\n",
    "                    #Add the word to the dictionary of the relevant aspect word\n",
    "                    aspects_with_implying_words[aspect].add(word_in_focus)\n",
    "\n",
    "                    #Note that the aspect has been found in this particular sentence\n",
    "                    # detected_aspects.add(aspect)\n",
    "\n",
    "                    #Add the aspect to the list of aspects that the word_in_focus implies\n",
    "                    aspects_implied.append(aspect)\n",
    "\n",
    "\n",
    "                #If the word is not an aspect implying word, continue to next word\n",
    "                else:\n",
    "\n",
    "                    continue\n",
    "                \n",
    "        #Calculate the sentiment scores for the aspect_implying word in the current sentence\n",
    "        sentiment = nlp(tweet ,aspects = [word_in_focus])\n",
    "        sentiment_scores = sentiment.subtasks[word_in_focus].examples[0].scores\n",
    "\n",
    "        #Note down the scores for all the implied aspects\n",
    "        for aspect in aspects_implied:\n",
    "            sentence_lvl_aspect_sentiment[aspect].append(sentiment_scores)\n",
    "    \n",
    "    #List to store the detected aspects from the sentence\n",
    "    detected_aspects = []\n",
    "    \n",
    "    #List to store the determined sentiments of the detected aspects\n",
    "    detected_sentiments = []\n",
    "    \n",
    "    #Iterate through all the aspects\n",
    "    for aspect in sentence_lvl_aspect_sentiment.keys():\n",
    "        \n",
    "        #If the aspect was detected in the sentence\n",
    "        if sentence_lvl_aspect_sentiment[aspect]:\n",
    "            \n",
    "            #Record this\n",
    "            detected_aspects.append(aspect)\n",
    "            \n",
    "            #Calculate the average sentiment scores across the different terms\n",
    "            avg_senti_score = np.array(sentence_lvl_aspect_sentiment[aspect]).mean(axis=0)\n",
    "            \n",
    "            #Get the sentiment category (neutral,negative,positive) with the largest probability\n",
    "            max_idx = np.argmax(avg_senti_score)\n",
    "\n",
    "            if max_idx == 2:\n",
    "\n",
    "                detected_sentiments.append(\"Positive\")\n",
    "\n",
    "            elif max_idx == 1:\n",
    "\n",
    "                detected_sentiments.append(\"Negative\")\n",
    "\n",
    "            else:\n",
    "\n",
    "                detected_sentiments.append(\"Neutral\")\n",
    "    \n",
    "    #Add the detected aspects and sentiments from the sentence to the list\n",
    "    if detected_aspects:\n",
    "        df_list.append([tweet,detected_aspects,detected_sentiments])\n",
    "    else:\n",
    "        df_list.append([tweet,None,None])\n",
    "\n",
    "            "
   ]
  },
  {
   "cell_type": "code",
   "execution_count": 9,
   "id": "5ab2b573",
   "metadata": {},
   "outputs": [],
   "source": [
    "absa_df = pd.DataFrame(df_list, \n",
    "                       columns=['Tweets','Detected aspects','Corresponding sentiment'])"
   ]
  },
  {
   "cell_type": "code",
   "execution_count": 10,
   "id": "6c5e52b8",
   "metadata": {},
   "outputs": [
    {
     "data": {
      "text/html": [
       "<div>\n",
       "<style scoped>\n",
       "    .dataframe tbody tr th:only-of-type {\n",
       "        vertical-align: middle;\n",
       "    }\n",
       "\n",
       "    .dataframe tbody tr th {\n",
       "        vertical-align: top;\n",
       "    }\n",
       "\n",
       "    .dataframe thead th {\n",
       "        text-align: right;\n",
       "    }\n",
       "</style>\n",
       "<table border=\"1\" class=\"dataframe\">\n",
       "  <thead>\n",
       "    <tr style=\"text-align: right;\">\n",
       "      <th></th>\n",
       "      <th>Tweets</th>\n",
       "      <th>Detected aspects</th>\n",
       "      <th>Corresponding sentiment</th>\n",
       "    </tr>\n",
       "  </thead>\n",
       "  <tbody>\n",
       "    <tr>\n",
       "      <th>0</th>\n",
       "      <td>my family used my spectranet and they dont want to help my ministry now it has finished spectranetng abeg how will i change my password</td>\n",
       "      <td>None</td>\n",
       "      <td>None</td>\n",
       "    </tr>\n",
       "    <tr>\n",
       "      <th>1</th>\n",
       "      <td>spectranetng how can i get the freedom mifi in ajah today</td>\n",
       "      <td>None</td>\n",
       "      <td>None</td>\n",
       "    </tr>\n",
       "    <tr>\n",
       "      <th>2</th>\n",
       "      <td>drolufunmilayo iconicremi spectranetng</td>\n",
       "      <td>None</td>\n",
       "      <td>None</td>\n",
       "    </tr>\n",
       "    <tr>\n",
       "      <th>3</th>\n",
       "      <td>spectranetng your response just proves how horrid your customer service is rather than ask what my issue is to help resolve you render an apology apology accepted now can you actually proffer solution i am really disappointed with your services and attitude to customers</td>\n",
       "      <td>[customer service]</td>\n",
       "      <td>[Negative]</td>\n",
       "    </tr>\n",
       "    <tr>\n",
       "      <th>4</th>\n",
       "      <td>spectranet is just the worse tbh i cant even watch a 5min video without serious lagging</td>\n",
       "      <td>None</td>\n",
       "      <td>None</td>\n",
       "    </tr>\n",
       "    <tr>\n",
       "      <th>...</th>\n",
       "      <td>...</td>\n",
       "      <td>...</td>\n",
       "      <td>...</td>\n",
       "    </tr>\n",
       "    <tr>\n",
       "      <th>372</th>\n",
       "      <td>spectranet unlimited value for money</td>\n",
       "      <td>[price]</td>\n",
       "      <td>[Positive]</td>\n",
       "    </tr>\n",
       "    <tr>\n",
       "      <th>373</th>\n",
       "      <td>from 30th may to date mtn mifi 10k spectranet 10250 smile 24000 mtn mobile data roughly 57k both mtn 14k and smile mifi14500 were bought within the last one month spectranet deceived me  isps have frustrated me</td>\n",
       "      <td>None</td>\n",
       "      <td>None</td>\n",
       "    </tr>\n",
       "    <tr>\n",
       "      <th>374</th>\n",
       "      <td>spectranetng fritzthejanitor will they help me attend to other issues as well</td>\n",
       "      <td>None</td>\n",
       "      <td>None</td>\n",
       "    </tr>\n",
       "    <tr>\n",
       "      <th>375</th>\n",
       "      <td>thefunkydee spectranetng im giving spectranetng a second thoughts with this im this thinking of switching from smile to spectranetng and this doesnt looks good what would you advise me to do</td>\n",
       "      <td>None</td>\n",
       "      <td>None</td>\n",
       "    </tr>\n",
       "    <tr>\n",
       "      <th>376</th>\n",
       "      <td>50gb gone in one week spectranetng na so i am just tired</td>\n",
       "      <td>None</td>\n",
       "      <td>None</td>\n",
       "    </tr>\n",
       "  </tbody>\n",
       "</table>\n",
       "<p>377 rows × 3 columns</p>\n",
       "</div>"
      ],
      "text/plain": [
       "                                                                                                                                                                                                                                                                             Tweets  \\\n",
       "0                                                                                                                                           my family used my spectranet and they dont want to help my ministry now it has finished spectranetng abeg how will i change my password   \n",
       "1                                                                                                                                                                                                                         spectranetng how can i get the freedom mifi in ajah today   \n",
       "2                                                                                                                                                                                                                                            drolufunmilayo iconicremi spectranetng   \n",
       "3    spectranetng your response just proves how horrid your customer service is rather than ask what my issue is to help resolve you render an apology apology accepted now can you actually proffer solution i am really disappointed with your services and attitude to customers   \n",
       "4                                                                                                                                                                                           spectranet is just the worse tbh i cant even watch a 5min video without serious lagging   \n",
       "..                                                                                                                                                                                                                                                                              ...   \n",
       "372                                                                                                                                                                                                                                            spectranet unlimited value for money   \n",
       "373                                                              from 30th may to date mtn mifi 10k spectranet 10250 smile 24000 mtn mobile data roughly 57k both mtn 14k and smile mifi14500 were bought within the last one month spectranet deceived me  isps have frustrated me   \n",
       "374                                                                                                                                                                                                   spectranetng fritzthejanitor will they help me attend to other issues as well   \n",
       "375                                                                                  thefunkydee spectranetng im giving spectranetng a second thoughts with this im this thinking of switching from smile to spectranetng and this doesnt looks good what would you advise me to do   \n",
       "376                                                                                                                                                                                                                        50gb gone in one week spectranetng na so i am just tired   \n",
       "\n",
       "       Detected aspects Corresponding sentiment  \n",
       "0                  None                    None  \n",
       "1                  None                    None  \n",
       "2                  None                    None  \n",
       "3    [customer service]              [Negative]  \n",
       "4                  None                    None  \n",
       "..                  ...                     ...  \n",
       "372             [price]              [Positive]  \n",
       "373                None                    None  \n",
       "374                None                    None  \n",
       "375                None                    None  \n",
       "376                None                    None  \n",
       "\n",
       "[377 rows x 3 columns]"
      ]
     },
     "metadata": {},
     "output_type": "display_data"
    }
   ],
   "source": [
    "with pd.option_context('display.max_colwidth', None):\n",
    "    display(absa_df)"
   ]
  },
  {
   "cell_type": "code",
   "execution_count": 11,
   "id": "924d68a1",
   "metadata": {},
   "outputs": [
    {
     "data": {
      "text/plain": [
       "{'price': {'buy spectranetng',\n",
       "  'price',\n",
       "  'purchase',\n",
       "  'value',\n",
       "  'value spectranet'},\n",
       " 'speed': {'download speed',\n",
       "  'fast',\n",
       "  'internet speed',\n",
       "  'slow',\n",
       "  'slower',\n",
       "  'snail speed',\n",
       "  'speed',\n",
       "  'speed abeg',\n",
       "  'speeds'},\n",
       " 'reliability': {'network quality', 'reliable', 'usefulness'},\n",
       " 'coverage': {'coverage', 'insurance claim', 'network coverage'},\n",
       " 'customer service': {'business',\n",
       "  'company',\n",
       "  'customer',\n",
       "  'customer care',\n",
       "  'customer care line isnt',\n",
       "  'customer service',\n",
       "  'customer service experience',\n",
       "  'customers',\n",
       "  'disgusting customer service',\n",
       "  'ifes business',\n",
       "  'internet connection',\n",
       "  'internet service',\n",
       "  'internet service provider',\n",
       "  'isp business',\n",
       "  'network provider',\n",
       "  'network quality',\n",
       "  'network reception',\n",
       "  'network service',\n",
       "  'provider i',\n",
       "  'providers',\n",
       "  'reliable',\n",
       "  'service',\n",
       "  'service i',\n",
       "  'service provider',\n",
       "  'service subscription failure',\n",
       "  'services',\n",
       "  'services i',\n",
       "  'spectranet ltd internet subscription n18525',\n",
       "  'teleport service',\n",
       "  'ticket number internet',\n",
       "  'tizeti internet service provider'},\n",
       " 'trustworthiness': {'usefulness'}}"
      ]
     },
     "execution_count": 11,
     "metadata": {},
     "output_type": "execute_result"
    }
   ],
   "source": [
    "aspects_with_implying_words"
   ]
  },
  {
   "cell_type": "code",
   "execution_count": 12,
   "id": "82a432c6",
   "metadata": {},
   "outputs": [
    {
     "ename": "TypeError",
     "evalue": "unhashable type: 'list'",
     "output_type": "error",
     "traceback": [
      "\u001b[0;31m---------------------------------------------------------------------------\u001b[0m",
      "\u001b[0;31mTypeError\u001b[0m                                 Traceback (most recent call last)",
      "\u001b[0;32mpandas/_libs/hashtable_class_helper.pxi\u001b[0m in \u001b[0;36mpandas._libs.hashtable.PyObjectHashTable.map_locations\u001b[0;34m()\u001b[0m\n",
      "\u001b[0;31mTypeError\u001b[0m: unhashable type: 'list'"
     ]
    },
    {
     "name": "stderr",
     "output_type": "stream",
     "text": [
      "Exception ignored in: 'pandas._libs.index.IndexEngine._call_map_locations'\n",
      "Traceback (most recent call last):\n",
      "  File \"pandas/_libs/hashtable_class_helper.pxi\", line 5231, in pandas._libs.hashtable.PyObjectHashTable.map_locations\n",
      "TypeError: unhashable type: 'list'\n"
     ]
    },
    {
     "data": {
      "text/plain": [
       "[Negative]                        40\n",
       "[Positive]                        18\n",
       "[Neutral]                         11\n",
       "[Negative, Negative]               5\n",
       "[Negative, Neutral]                1\n",
       "[Positive, Positive, Positive]     1\n",
       "Name: Corresponding sentiment, dtype: int64"
      ]
     },
     "execution_count": 12,
     "metadata": {},
     "output_type": "execute_result"
    }
   ],
   "source": [
    "absa_df[absa_df['Detected aspects'].notnull()]['Corresponding sentiment'].value_counts()"
   ]
  },
  {
   "cell_type": "code",
   "execution_count": 13,
   "id": "7632ddf1",
   "metadata": {},
   "outputs": [],
   "source": [
    "absa_df.to_csv('../data/model-generated/tweet_absa_price_not_cost.csv',index=False)"
   ]
  },
  {
   "cell_type": "markdown",
   "id": "2e63bca9",
   "metadata": {},
   "source": [
    "### 5. Model Evaluation"
   ]
  },
  {
   "cell_type": "markdown",
   "id": "2f83779c",
   "metadata": {},
   "source": [
    "#### a. Load the true aspect and their sentiment predictions"
   ]
  },
  {
   "cell_type": "code",
   "execution_count": 15,
   "id": "714ea7fb",
   "metadata": {},
   "outputs": [
    {
     "data": {
      "text/html": [
       "<div>\n",
       "<style scoped>\n",
       "    .dataframe tbody tr th:only-of-type {\n",
       "        vertical-align: middle;\n",
       "    }\n",
       "\n",
       "    .dataframe tbody tr th {\n",
       "        vertical-align: top;\n",
       "    }\n",
       "\n",
       "    .dataframe thead th {\n",
       "        text-align: right;\n",
       "    }\n",
       "</style>\n",
       "<table border=\"1\" class=\"dataframe\">\n",
       "  <thead>\n",
       "    <tr style=\"text-align: right;\">\n",
       "      <th></th>\n",
       "      <th>Tweets</th>\n",
       "      <th>Aspects</th>\n",
       "      <th>Sentiment</th>\n",
       "    </tr>\n",
       "  </thead>\n",
       "  <tbody>\n",
       "    <tr>\n",
       "      <th>0</th>\n",
       "      <td>my family used my spectranet and they dont wan...</td>\n",
       "      <td>NaN</td>\n",
       "      <td>NaN</td>\n",
       "    </tr>\n",
       "    <tr>\n",
       "      <th>1</th>\n",
       "      <td>spectranetng how can i get the freedom mifi in...</td>\n",
       "      <td>NaN</td>\n",
       "      <td>NaN</td>\n",
       "    </tr>\n",
       "    <tr>\n",
       "      <th>2</th>\n",
       "      <td>drolufunmilayo iconicremi spectranetng</td>\n",
       "      <td>NaN</td>\n",
       "      <td>NaN</td>\n",
       "    </tr>\n",
       "    <tr>\n",
       "      <th>3</th>\n",
       "      <td>spectranetng your response just proves how hor...</td>\n",
       "      <td>['customer service']</td>\n",
       "      <td>['Negative']</td>\n",
       "    </tr>\n",
       "    <tr>\n",
       "      <th>4</th>\n",
       "      <td>spectranet is just the worse tbh i cant even w...</td>\n",
       "      <td>['speed']</td>\n",
       "      <td>['Negative']</td>\n",
       "    </tr>\n",
       "  </tbody>\n",
       "</table>\n",
       "</div>"
      ],
      "text/plain": [
       "                                              Tweets               Aspects  \\\n",
       "0  my family used my spectranet and they dont wan...                   NaN   \n",
       "1  spectranetng how can i get the freedom mifi in...                   NaN   \n",
       "2             drolufunmilayo iconicremi spectranetng                   NaN   \n",
       "3  spectranetng your response just proves how hor...  ['customer service']   \n",
       "4  spectranet is just the worse tbh i cant even w...             ['speed']   \n",
       "\n",
       "      Sentiment  \n",
       "0           NaN  \n",
       "1           NaN  \n",
       "2           NaN  \n",
       "3  ['Negative']  \n",
       "4  ['Negative']  "
      ]
     },
     "execution_count": 15,
     "metadata": {},
     "output_type": "execute_result"
    }
   ],
   "source": [
    "true_aspects_df = pd.read_csv(\"../data/processed/absa_labelled_price.csv\")\n",
    "true_aspects_df.head()"
   ]
  },
  {
   "cell_type": "code",
   "execution_count": 16,
   "id": "4f1d1b0f",
   "metadata": {},
   "outputs": [
    {
     "data": {
      "text/plain": [
       "\"['customer service']\""
      ]
     },
     "execution_count": 16,
     "metadata": {},
     "output_type": "execute_result"
    }
   ],
   "source": [
    "true_aspects_df.Aspects[3]"
   ]
  },
  {
   "cell_type": "markdown",
   "id": "f85caf40",
   "metadata": {},
   "source": [
    "#### b. Reformat from string format to list"
   ]
  },
  {
   "cell_type": "code",
   "execution_count": 17,
   "id": "50dc2a54",
   "metadata": {},
   "outputs": [],
   "source": [
    "#Carry out conversion for Aspects column\n",
    "true_aspects_df.Aspects = true_aspects_df.Aspects.apply(lambda x: eval(x) if (pd.notnull(x)) else x)\n",
    "\n",
    "#Carry out conversion for Sentiment column\n",
    "true_aspects_df.Sentiment = true_aspects_df.Sentiment.apply(lambda x: eval(x) if (pd.notnull(x)) else x)"
   ]
  },
  {
   "cell_type": "markdown",
   "id": "e70c7c38",
   "metadata": {},
   "source": [
    "#### c. Merge the true predictions and the model's predictions"
   ]
  },
  {
   "cell_type": "code",
   "execution_count": 18,
   "id": "79f47283",
   "metadata": {},
   "outputs": [
    {
     "data": {
      "text/html": [
       "<div>\n",
       "<style scoped>\n",
       "    .dataframe tbody tr th:only-of-type {\n",
       "        vertical-align: middle;\n",
       "    }\n",
       "\n",
       "    .dataframe tbody tr th {\n",
       "        vertical-align: top;\n",
       "    }\n",
       "\n",
       "    .dataframe thead th {\n",
       "        text-align: right;\n",
       "    }\n",
       "</style>\n",
       "<table border=\"1\" class=\"dataframe\">\n",
       "  <thead>\n",
       "    <tr style=\"text-align: right;\">\n",
       "      <th></th>\n",
       "      <th>Tweets</th>\n",
       "      <th>Detected aspects</th>\n",
       "      <th>Corresponding sentiment</th>\n",
       "      <th>True Aspects</th>\n",
       "      <th>True Sentiment</th>\n",
       "    </tr>\n",
       "  </thead>\n",
       "  <tbody>\n",
       "    <tr>\n",
       "      <th>0</th>\n",
       "      <td>my family used my spectranet and they dont wan...</td>\n",
       "      <td>None</td>\n",
       "      <td>None</td>\n",
       "      <td>NaN</td>\n",
       "      <td>NaN</td>\n",
       "    </tr>\n",
       "    <tr>\n",
       "      <th>1</th>\n",
       "      <td>spectranetng how can i get the freedom mifi in...</td>\n",
       "      <td>None</td>\n",
       "      <td>None</td>\n",
       "      <td>NaN</td>\n",
       "      <td>NaN</td>\n",
       "    </tr>\n",
       "    <tr>\n",
       "      <th>2</th>\n",
       "      <td>drolufunmilayo iconicremi spectranetng</td>\n",
       "      <td>None</td>\n",
       "      <td>None</td>\n",
       "      <td>NaN</td>\n",
       "      <td>NaN</td>\n",
       "    </tr>\n",
       "    <tr>\n",
       "      <th>3</th>\n",
       "      <td>spectranetng your response just proves how hor...</td>\n",
       "      <td>[customer service]</td>\n",
       "      <td>[Negative]</td>\n",
       "      <td>[customer service]</td>\n",
       "      <td>[Negative]</td>\n",
       "    </tr>\n",
       "    <tr>\n",
       "      <th>4</th>\n",
       "      <td>spectranet is just the worse tbh i cant even w...</td>\n",
       "      <td>None</td>\n",
       "      <td>None</td>\n",
       "      <td>[speed]</td>\n",
       "      <td>[Negative]</td>\n",
       "    </tr>\n",
       "  </tbody>\n",
       "</table>\n",
       "</div>"
      ],
      "text/plain": [
       "                                              Tweets    Detected aspects  \\\n",
       "0  my family used my spectranet and they dont wan...                None   \n",
       "1  spectranetng how can i get the freedom mifi in...                None   \n",
       "2             drolufunmilayo iconicremi spectranetng                None   \n",
       "3  spectranetng your response just proves how hor...  [customer service]   \n",
       "4  spectranet is just the worse tbh i cant even w...                None   \n",
       "\n",
       "  Corresponding sentiment        True Aspects True Sentiment  \n",
       "0                    None                 NaN            NaN  \n",
       "1                    None                 NaN            NaN  \n",
       "2                    None                 NaN            NaN  \n",
       "3              [Negative]  [customer service]     [Negative]  \n",
       "4                    None             [speed]     [Negative]  "
      ]
     },
     "execution_count": 18,
     "metadata": {},
     "output_type": "execute_result"
    }
   ],
   "source": [
    "merged_df = absa_df.copy()\n",
    "merged_df[['True Aspects','True Sentiment']] = true_aspects_df[['Aspects','Sentiment']]\n",
    "merged_df.head()"
   ]
  },
  {
   "cell_type": "markdown",
   "id": "a61c131a",
   "metadata": {},
   "source": [
    "#### d. Fill Nones and NaNs with [None]"
   ]
  },
  {
   "cell_type": "code",
   "execution_count": 19,
   "id": "9427c8dd",
   "metadata": {},
   "outputs": [
    {
     "data": {
      "text/html": [
       "<div>\n",
       "<style scoped>\n",
       "    .dataframe tbody tr th:only-of-type {\n",
       "        vertical-align: middle;\n",
       "    }\n",
       "\n",
       "    .dataframe tbody tr th {\n",
       "        vertical-align: top;\n",
       "    }\n",
       "\n",
       "    .dataframe thead th {\n",
       "        text-align: right;\n",
       "    }\n",
       "</style>\n",
       "<table border=\"1\" class=\"dataframe\">\n",
       "  <thead>\n",
       "    <tr style=\"text-align: right;\">\n",
       "      <th></th>\n",
       "      <th>Tweets</th>\n",
       "      <th>Detected aspects</th>\n",
       "      <th>Corresponding sentiment</th>\n",
       "      <th>True Aspects</th>\n",
       "      <th>True Sentiment</th>\n",
       "    </tr>\n",
       "  </thead>\n",
       "  <tbody>\n",
       "    <tr>\n",
       "      <th>0</th>\n",
       "      <td>my family used my spectranet and they dont wan...</td>\n",
       "      <td>[None]</td>\n",
       "      <td>[None]</td>\n",
       "      <td>[None]</td>\n",
       "      <td>[None]</td>\n",
       "    </tr>\n",
       "    <tr>\n",
       "      <th>1</th>\n",
       "      <td>spectranetng how can i get the freedom mifi in...</td>\n",
       "      <td>[None]</td>\n",
       "      <td>[None]</td>\n",
       "      <td>[None]</td>\n",
       "      <td>[None]</td>\n",
       "    </tr>\n",
       "    <tr>\n",
       "      <th>2</th>\n",
       "      <td>drolufunmilayo iconicremi spectranetng</td>\n",
       "      <td>[None]</td>\n",
       "      <td>[None]</td>\n",
       "      <td>[None]</td>\n",
       "      <td>[None]</td>\n",
       "    </tr>\n",
       "    <tr>\n",
       "      <th>3</th>\n",
       "      <td>spectranetng your response just proves how hor...</td>\n",
       "      <td>[customer service]</td>\n",
       "      <td>[Negative]</td>\n",
       "      <td>[customer service]</td>\n",
       "      <td>[Negative]</td>\n",
       "    </tr>\n",
       "    <tr>\n",
       "      <th>4</th>\n",
       "      <td>spectranet is just the worse tbh i cant even w...</td>\n",
       "      <td>[None]</td>\n",
       "      <td>[None]</td>\n",
       "      <td>[speed]</td>\n",
       "      <td>[Negative]</td>\n",
       "    </tr>\n",
       "  </tbody>\n",
       "</table>\n",
       "</div>"
      ],
      "text/plain": [
       "                                              Tweets    Detected aspects  \\\n",
       "0  my family used my spectranet and they dont wan...              [None]   \n",
       "1  spectranetng how can i get the freedom mifi in...              [None]   \n",
       "2             drolufunmilayo iconicremi spectranetng              [None]   \n",
       "3  spectranetng your response just proves how hor...  [customer service]   \n",
       "4  spectranet is just the worse tbh i cant even w...              [None]   \n",
       "\n",
       "  Corresponding sentiment        True Aspects True Sentiment  \n",
       "0                  [None]              [None]         [None]  \n",
       "1                  [None]              [None]         [None]  \n",
       "2                  [None]              [None]         [None]  \n",
       "3              [Negative]  [customer service]     [Negative]  \n",
       "4                  [None]             [speed]     [Negative]  "
      ]
     },
     "execution_count": 19,
     "metadata": {},
     "output_type": "execute_result"
    }
   ],
   "source": [
    "merged_df = merged_df.apply(lambda s: s.fillna({i: [None] for i in df.index}))\n",
    "merged_df.head()"
   ]
  },
  {
   "cell_type": "markdown",
   "id": "b4c0ac34",
   "metadata": {},
   "source": [
    "### 6. Aspect Extraction Evaluation"
   ]
  },
  {
   "cell_type": "code",
   "execution_count": 20,
   "id": "729f0197",
   "metadata": {},
   "outputs": [],
   "source": [
    "def micro_precision_recall_f1_score(true_aspects,aspect_preds):\n",
    "    \n",
    "    \"\"\"\n",
    "    Function to compute the micro-averaged precision, recall and f1 score based on the model's predicitions\n",
    "    \n",
    "    Formulas guided by:\n",
    "    \n",
    "        - MICRO-PRECISION:\n",
    "          Micro-precision on the Peltarion Platform. (2021). Micro-precision on the Peltarion Platform.\n",
    "          Retrieved from https://peltarion.com/knowledge-center/documentation/evaluation-view/classification-loss-metrics/micro-precision\n",
    "        \n",
    "        - MICRO-RECALL:\n",
    "          Micro-recall on the Peltarion Platform. (2021). Micro-recall on the Peltarion Platform.\n",
    "          Retrieved from https://peltarion.com/knowledge-center/documentation/evaluation-view/classification-loss-metrics/micro-recall\n",
    "          \n",
    "        - MICRO-F1:\n",
    "          Micro F1-score on the Peltarion Platform. (2021). Micro F1-score on the Peltarion Platform. \n",
    "          Retrieved from https://peltarion.com/knowledge-center/documentation/evaluation-view/classification-loss-metrics/micro-f1-score\n",
    "  \n",
    "    Inputs:\n",
    "        - true_aspects (pandas Series): True aspects for each tweet\n",
    "        - aspect_preds (pandas Series): Model's predicted aspects for each tweet\n",
    "        \n",
    "    Outputs:\n",
    "        - class metrics (dict): Dictionary of class-level metrics: false positive, true positive and precision\n",
    "        - micro_precision (float): Micro-averaged precision\n",
    "        - micro_recall (float): Micro-averaged recall\n",
    "        - micro_f1 (float): Micro-averaged f1 score\n",
    "    \"\"\"\n",
    "    \n",
    "    #Dictionary to note the number of true positives, false positives and false negatives \n",
    "    #for the different classes\n",
    "    class_metrics = {}\n",
    "    \n",
    "    #Iterate through all the aspects\n",
    "    for aspect in aspects:\n",
    "        \n",
    "        #Initialize counters for true positives, false positives and false negatives\n",
    "        TP, FP, FN, TN = 0, 0, 0, 0\n",
    "        \n",
    "        #Iterate through all the tweets\n",
    "        for idx in range(len(aspect_preds)):\n",
    "            \n",
    "            #If the predicted aspect is truly in the tweet\n",
    "            if (aspect in aspect_preds[idx]) and (aspect in true_aspects[idx]):\n",
    "                \n",
    "                #Note a true positive\n",
    "                TP += 1\n",
    "            \n",
    "            #If the aspect is in the tweet but the model does not recognize it\n",
    "            if (aspect not in aspect_preds[idx]) and (aspect in true_aspects[idx]):\n",
    "                \n",
    "                #Note false negative\n",
    "                FN += 1\n",
    "                \n",
    "            #If the predicted aspect is not truly in the tweet\n",
    "            if (aspect in aspect_preds[idx]) and (aspect not in true_aspects[idx]):\n",
    "\n",
    "                #Record false positive\n",
    "                FP += 1\n",
    "                \n",
    "            #If the aspect was correctly left out of the tweet\n",
    "            if (aspect not in aspect_preds[idx]) and (aspect not in true_aspects[idx]):\n",
    "\n",
    "                #Record false positive\n",
    "                TN += 1\n",
    "        \n",
    "        #Calculate class level precision and recall\n",
    "        precision = float(TP/(TP+FP))\n",
    "        recall = float(TP/(TP+FN))\n",
    "        \n",
    "        #Calculate class level f1 score\n",
    "        try:\n",
    "            f1_score = 2*((precision*recall)/(precision+recall))\n",
    "        except ZeroDivisionError:\n",
    "            f1_score = 0\n",
    "\n",
    "        #Note down the final class-level metrics\n",
    "        class_metrics[aspect] = {'TP':TP, 'FP':FP, \n",
    "                                 'FN': FN, 'TN':TN,\n",
    "                                 'Precision': precision, \n",
    "                                 'Recall': recall,\n",
    "                                 'F1': f1_score}\n",
    "                \n",
    "        \n",
    "    #COMPUTE MICRO-AVERAGED PRECISION, RECALL AND F1\n",
    "    \n",
    "    #Counters to track class aggregated metrics\n",
    "    TP_sum, FP_sum, FN_sum = 0, 0, 0\n",
    "     \n",
    "    #Iterate through all the classes\n",
    "    for aspect_key in class_metrics.keys():\n",
    "        \n",
    "        #Get the TP\n",
    "        TP_sum += class_metrics[aspect_key]['TP']\n",
    "        \n",
    "        #Get the FP\n",
    "        FP_sum += class_metrics[aspect_key]['FP']\n",
    "        \n",
    "        #Get the FN\n",
    "        FN_sum += class_metrics[aspect_key]['FN']\n",
    "        \n",
    "    #Micro-precision\n",
    "    micro_precision = TP_sum/(TP_sum + FP_sum)\n",
    "    \n",
    "    #Micro recall\n",
    "    micro_recall = TP_sum/(TP_sum + FN_sum)\n",
    "    \n",
    "    #Micro F1\n",
    "    micro_f1 = 2*((micro_precision * micro_recall)/(micro_precision + micro_recall))\n",
    "    \n",
    "    #Return class level metrics, micro-precision, micro-recall and micro-f1\n",
    "    return class_metrics, micro_precision, micro_recall, micro_f1\n",
    "    \n",
    "#Run evaluation\n",
    "class_metrics, micro_precision, micro_recall, micro_f1 = micro_precision_recall_f1_score(merged_df['True Aspects'],merged_df['Detected aspects'])"
   ]
  },
  {
   "cell_type": "markdown",
   "id": "d666ba4c",
   "metadata": {},
   "source": [
    "#### a. Class-level Evaluation"
   ]
  },
  {
   "cell_type": "code",
   "execution_count": 21,
   "id": "bd75338a",
   "metadata": {},
   "outputs": [
    {
     "data": {
      "text/html": [
       "<div>\n",
       "<style scoped>\n",
       "    .dataframe tbody tr th:only-of-type {\n",
       "        vertical-align: middle;\n",
       "    }\n",
       "\n",
       "    .dataframe tbody tr th {\n",
       "        vertical-align: top;\n",
       "    }\n",
       "\n",
       "    .dataframe thead th {\n",
       "        text-align: right;\n",
       "    }\n",
       "</style>\n",
       "<table border=\"1\" class=\"dataframe\">\n",
       "  <thead>\n",
       "    <tr style=\"text-align: right;\">\n",
       "      <th></th>\n",
       "      <th>TP</th>\n",
       "      <th>FP</th>\n",
       "      <th>FN</th>\n",
       "      <th>TN</th>\n",
       "      <th>Precision</th>\n",
       "      <th>Recall</th>\n",
       "      <th>F1</th>\n",
       "    </tr>\n",
       "  </thead>\n",
       "  <tbody>\n",
       "    <tr>\n",
       "      <th>price</th>\n",
       "      <td>6</td>\n",
       "      <td>0</td>\n",
       "      <td>22</td>\n",
       "      <td>349</td>\n",
       "      <td>1.000000</td>\n",
       "      <td>0.214286</td>\n",
       "      <td>0.352941</td>\n",
       "    </tr>\n",
       "    <tr>\n",
       "      <th>speed</th>\n",
       "      <td>15</td>\n",
       "      <td>1</td>\n",
       "      <td>18</td>\n",
       "      <td>343</td>\n",
       "      <td>0.937500</td>\n",
       "      <td>0.454545</td>\n",
       "      <td>0.612245</td>\n",
       "    </tr>\n",
       "    <tr>\n",
       "      <th>reliability</th>\n",
       "      <td>4</td>\n",
       "      <td>0</td>\n",
       "      <td>28</td>\n",
       "      <td>345</td>\n",
       "      <td>1.000000</td>\n",
       "      <td>0.125000</td>\n",
       "      <td>0.222222</td>\n",
       "    </tr>\n",
       "    <tr>\n",
       "      <th>coverage</th>\n",
       "      <td>3</td>\n",
       "      <td>1</td>\n",
       "      <td>14</td>\n",
       "      <td>359</td>\n",
       "      <td>0.750000</td>\n",
       "      <td>0.176471</td>\n",
       "      <td>0.285714</td>\n",
       "    </tr>\n",
       "    <tr>\n",
       "      <th>customer service</th>\n",
       "      <td>20</td>\n",
       "      <td>33</td>\n",
       "      <td>5</td>\n",
       "      <td>319</td>\n",
       "      <td>0.377358</td>\n",
       "      <td>0.800000</td>\n",
       "      <td>0.512821</td>\n",
       "    </tr>\n",
       "    <tr>\n",
       "      <th>trustworthiness</th>\n",
       "      <td>0</td>\n",
       "      <td>1</td>\n",
       "      <td>6</td>\n",
       "      <td>370</td>\n",
       "      <td>0.000000</td>\n",
       "      <td>0.000000</td>\n",
       "      <td>0.000000</td>\n",
       "    </tr>\n",
       "  </tbody>\n",
       "</table>\n",
       "</div>"
      ],
      "text/plain": [
       "                  TP  FP  FN   TN  Precision    Recall        F1\n",
       "price              6   0  22  349   1.000000  0.214286  0.352941\n",
       "speed             15   1  18  343   0.937500  0.454545  0.612245\n",
       "reliability        4   0  28  345   1.000000  0.125000  0.222222\n",
       "coverage           3   1  14  359   0.750000  0.176471  0.285714\n",
       "customer service  20  33   5  319   0.377358  0.800000  0.512821\n",
       "trustworthiness    0   1   6  370   0.000000  0.000000  0.000000"
      ]
     },
     "execution_count": 21,
     "metadata": {},
     "output_type": "execute_result"
    }
   ],
   "source": [
    "pd.DataFrame(class_metrics).T.astype({'TP': 'int32','FP': 'int32','FN': 'int32','TN': 'int32'})"
   ]
  },
  {
   "cell_type": "markdown",
   "id": "53cb72c4",
   "metadata": {},
   "source": [
    "**DISCUSSION:**\n",
    "- Model does poorly retrieving all the different aspects\n",
    "- When the model does predict speed and reliability, it is correct most of the time. This does not hold up for the other aspects\n",
    "- As evidenced by the micro-averaged F1, the current model is not sufficient for our predictive task and could do with significant refinement or replacement altogether."
   ]
  },
  {
   "cell_type": "markdown",
   "id": "28491fb1",
   "metadata": {},
   "source": [
    "#### b. Global-level Evaluation"
   ]
  },
  {
   "cell_type": "code",
   "execution_count": 22,
   "id": "47b7e058",
   "metadata": {},
   "outputs": [
    {
     "name": "stdout",
     "output_type": "stream",
     "text": [
      "Micro-averaged precision: 0.571\n",
      "Micro-averaged recall: 0.34\n",
      "Micro-averaged F1 score: 0.427\n"
     ]
    }
   ],
   "source": [
    "print(f\"Micro-averaged precision: {round(micro_precision,3)}\")\n",
    "print(f\"Micro-averaged recall: {round(micro_recall,3)}\")\n",
    "print(f\"Micro-averaged F1 score: {round(micro_f1,3)}\")"
   ]
  },
  {
   "cell_type": "markdown",
   "id": "707effc5",
   "metadata": {},
   "source": [
    "There are certainly parameters that can be tweaked around/optimized (e.g. similarity score threshold, aspect category names, etc.) through a grid search, but I don't expect the improvement to be extremely significant, especially given my findings from the annotation phase (see section below). Even still, tinkering with these to improve performance doesn't make the model very robust"
   ]
  },
  {
   "cell_type": "markdown",
   "id": "abd8c6cd",
   "metadata": {},
   "source": [
    "### 7. Aspect Extraction Evaluation\n",
    "\n",
    "We only consider the sentiment predicted for the aspects the model determined correctly"
   ]
  },
  {
   "cell_type": "code",
   "execution_count": 23,
   "id": "2665f363",
   "metadata": {},
   "outputs": [],
   "source": [
    "def aspect_sentiment_accuracy(true_aspects,aspect_preds,true_sentiment,sentiment_preds):\n",
    "    \n",
    "    \"\"\"\n",
    "    Compute the micro and macro accuracy for the aspect sentiment predictions\n",
    "    \"\"\"\n",
    "    \n",
    "    #Dictionary to note the sentiment prediction accuracy for the different aspects\n",
    "    aspect_accuracy = {}\n",
    "    \n",
    "    #Track the number of correct preds and total preds across all the classes\n",
    "    global_correct_preds, global_total_preds = 0, 0\n",
    "    \n",
    "    #Iterate through all the aspects\n",
    "    for aspect in aspects:\n",
    "        \n",
    "        #Initialize counters for number of correct predictions and number of total predictions\n",
    "        correct_preds, total_preds = 0, 0\n",
    "        \n",
    "        #Iterate through all the tweets\n",
    "        for idx in range(len(aspect_preds)):\n",
    "            \n",
    "            #If the predicted aspect is truly in the tweet\n",
    "            if (aspect in aspect_preds[idx]) and (aspect in true_aspects[idx]):\n",
    "                \n",
    "                #Format the predicted list to a numpy array\n",
    "                model_preds = np.array(aspect_preds[idx]) #Model preds\n",
    "                \n",
    "                true_preds = np.array(true_aspects[idx]) #True preds\n",
    "                \n",
    "                #Find the corresponding sentiment of the correctly predicted aspect\n",
    "                #1. In model preds\n",
    "                sentiment_pred = sentiment_preds[idx][np.argwhere(model_preds == aspect)[0][0]]\n",
    "                \n",
    "                #1. In true preds\n",
    "                true_sentiment_pred = true_sentiment[idx][np.argwhere(true_preds == aspect)[0][0]]\n",
    "                \n",
    "                #If the predicted sentiment for the aspect is equal to the true sentiment\n",
    "                if sentiment_pred == true_sentiment_pred:\n",
    "                    \n",
    "                    #Record as correct prediction\n",
    "                    correct_preds += 1\n",
    "                    global_correct_preds += 1 #Global case\n",
    "                    \n",
    "                \n",
    "                #Record a prediction regardless of if correct or not\n",
    "                total_preds += 1\n",
    "                global_total_preds += 1 #Global case\n",
    "                \n",
    "                \n",
    "        #Note down the final class-level accuracy\n",
    "        try:\n",
    "            aspect_accuracy[aspect] = correct_preds/total_preds\n",
    "        except ZeroDivisionError:\n",
    "            aspect_accuracy[aspect] = 'No correct aspect detection for this aspect'\n",
    "            \n",
    "                \n",
    "    #Compute the global/micro accuracy (across all aspects)\n",
    "    micro_accuracy = global_correct_preds/global_total_preds\n",
    "    \n",
    "    #Compute the macro accuracy (unweighted average from all the classes)\n",
    "    macro_accuracy = np.mean([aspect_accuracy[aspect] for aspect in aspect_accuracy.keys() if isinstance(aspect_accuracy[aspect],float)])\n",
    "    \n",
    "    #Return class level metrics, micro-accuracy, and macro accuracy\n",
    "    return aspect_accuracy, micro_accuracy, macro_accuracy\n",
    "    \n",
    "#Run evaluation\n",
    "class_metrics, micro_accuracy, macro_accuracy = aspect_sentiment_accuracy(merged_df['True Aspects'],\n",
    "                                                                          merged_df['Detected aspects'],\n",
    "                                                                          merged_df['True Sentiment'],\n",
    "                                                                          merged_df['Corresponding sentiment'])"
   ]
  },
  {
   "cell_type": "code",
   "execution_count": 24,
   "id": "2f536807",
   "metadata": {},
   "outputs": [
    {
     "data": {
      "text/plain": [
       "{'price': 0.8333333333333334,\n",
       " 'speed': 0.7333333333333333,\n",
       " 'reliability': 1.0,\n",
       " 'coverage': 0.6666666666666666,\n",
       " 'customer service': 0.8,\n",
       " 'trustworthiness': 'No correct aspect detection for this aspect'}"
      ]
     },
     "execution_count": 24,
     "metadata": {},
     "output_type": "execute_result"
    }
   ],
   "source": [
    "#Class-level accuracy\n",
    "class_metrics"
   ]
  },
  {
   "cell_type": "code",
   "execution_count": 25,
   "id": "c1950f4b",
   "metadata": {},
   "outputs": [
    {
     "data": {
      "text/plain": [
       "0.7916666666666666"
      ]
     },
     "execution_count": 25,
     "metadata": {},
     "output_type": "execute_result"
    }
   ],
   "source": [
    "micro_accuracy"
   ]
  },
  {
   "cell_type": "code",
   "execution_count": 26,
   "id": "ca93731f",
   "metadata": {},
   "outputs": [
    {
     "data": {
      "text/plain": [
       "0.8066666666666666"
      ]
     },
     "execution_count": 26,
     "metadata": {},
     "output_type": "execute_result"
    }
   ],
   "source": [
    "macro_accuracy"
   ]
  },
  {
   "cell_type": "markdown",
   "id": "b7e8189d",
   "metadata": {},
   "source": [
    "The model does pretty well determining the sentiment when the aspect is actually correctly determined. We see micro and macro accuracy scores at about 80%. We note however that the model performs poorly predicting the sentiment for coverage. It predicts perfectly for reliability.\n",
    "\n",
    "Also we note that after switching 'cost' in the previous implementation with 'price,' the model does much better on both extraction and sentiment category prediction. Hence I proceed with using **price**\n",
    "\n",
    "**Note:** This part of the model was implemented using the ABSA package by ScalaConsultants"
   ]
  },
  {
   "cell_type": "code",
   "execution_count": null,
   "id": "7b0437df-3234-468b-aa41-2ac403e17f57",
   "metadata": {},
   "outputs": [],
   "source": []
  }
 ],
 "metadata": {
  "kernelspec": {
   "display_name": "Python 3 (ipykernel)",
   "language": "python",
   "name": "python3"
  },
  "language_info": {
   "codemirror_mode": {
    "name": "ipython",
    "version": 3
   },
   "file_extension": ".py",
   "mimetype": "text/x-python",
   "name": "python",
   "nbconvert_exporter": "python",
   "pygments_lexer": "ipython3",
   "version": "3.7.11"
  }
 },
 "nbformat": 4,
 "nbformat_minor": 5
}
