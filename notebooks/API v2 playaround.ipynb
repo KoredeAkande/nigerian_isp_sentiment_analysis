{
 "cells": [
  {
   "cell_type": "markdown",
   "metadata": {},
   "source": [
    "Struggle to get extended tweets. Whoops"
   ]
  },
  {
   "cell_type": "code",
   "execution_count": 1,
   "metadata": {},
   "outputs": [],
   "source": [
    "import tweepy"
   ]
  },
  {
   "cell_type": "code",
   "execution_count": 2,
   "metadata": {},
   "outputs": [],
   "source": [
    "%run ../src/credentials/twitter_credentials"
   ]
  },
  {
   "cell_type": "code",
   "execution_count": 10,
   "metadata": {},
   "outputs": [],
   "source": [
    "bt = \"AAAAAAAAAAAAAAAAAAAAADbjQgEAAAAAaRrZH0iE16vv%2B0%2B7eSK5uKt7Or0%3D6LVdGG2GROhyz2OUVdwDSucPsI0mJ5fLrpyhdNbvI62r4f5quj\"\n",
    "client = tweepy.Client(bearer_token = bt, \n",
    "                       consumer_key = api_key,\n",
    "                       consumer_secret = api_secret_key,\n",
    "                       access_token = access_token,\n",
    "                       access_token_secret = access_token_secret)"
   ]
  },
  {
   "cell_type": "code",
   "execution_count": 36,
   "metadata": {},
   "outputs": [
    {
     "ename": "BadRequest",
     "evalue": "400 Bad Request\nThe `tweet.fields` query parameter value [truncated] is not one of [attachments,author_id,context_annotations,conversation_id,created_at,entities,geo,id,in_reply_to_user_id,lang,non_public_metrics,organic_metrics,possibly_sensitive,promoted_metrics,public_metrics,referenced_tweets,reply_settings,source,text,withheld]",
     "output_type": "error",
     "traceback": [
      "\u001b[0;31m---------------------------------------------------------------------------\u001b[0m",
      "\u001b[0;31mBadRequest\u001b[0m                                Traceback (most recent call last)",
      "\u001b[0;32m<ipython-input-36-a63ce9e9edcc>\u001b[0m in \u001b[0;36m<module>\u001b[0;34m\u001b[0m\n\u001b[1;32m      1\u001b[0m k = client.search_recent_tweets(\"\"\" spectranet -from:spectranet_NG -from:Spectr_net -is:retweet \"\"\",\n\u001b[0;32m----> 2\u001b[0;31m                                tweet_fields = ['text','truncated'])\n\u001b[0m",
      "\u001b[0;32m~/opt/anaconda3/lib/python3.7/site-packages/tweepy/client.py\u001b[0m in \u001b[0;36msearch_recent_tweets\u001b[0;34m(self, query, user_auth, **params)\u001b[0m\n\u001b[1;32m    650\u001b[0m                 \u001b[0;34m\"since_id\"\u001b[0m\u001b[0;34m,\u001b[0m \u001b[0;34m\"start_time\"\u001b[0m\u001b[0;34m,\u001b[0m \u001b[0;34m\"tweet.fields\"\u001b[0m\u001b[0;34m,\u001b[0m \u001b[0;34m\"until_id\"\u001b[0m\u001b[0;34m,\u001b[0m\u001b[0;34m\u001b[0m\u001b[0;34m\u001b[0m\u001b[0m\n\u001b[1;32m    651\u001b[0m                 \u001b[0;34m\"user.fields\"\u001b[0m\u001b[0;34m\u001b[0m\u001b[0;34m\u001b[0m\u001b[0m\n\u001b[0;32m--> 652\u001b[0;31m             ), data_type=Tweet, user_auth=user_auth\n\u001b[0m\u001b[1;32m    653\u001b[0m         )\n\u001b[1;32m    654\u001b[0m \u001b[0;34m\u001b[0m\u001b[0m\n",
      "\u001b[0;32m~/opt/anaconda3/lib/python3.7/site-packages/tweepy/client.py\u001b[0m in \u001b[0;36m_make_request\u001b[0;34m(self, method, route, params, endpoint_parameters, json, data_type, user_auth)\u001b[0m\n\u001b[1;32m    156\u001b[0m \u001b[0;34m\u001b[0m\u001b[0m\n\u001b[1;32m    157\u001b[0m         response = self.request(method, route, params=request_params,\n\u001b[0;32m--> 158\u001b[0;31m                                 json=json, user_auth=user_auth)\n\u001b[0m\u001b[1;32m    159\u001b[0m \u001b[0;34m\u001b[0m\u001b[0m\n\u001b[1;32m    160\u001b[0m         \u001b[0;32mif\u001b[0m \u001b[0mself\u001b[0m\u001b[0;34m.\u001b[0m\u001b[0mreturn_type\u001b[0m \u001b[0;32mis\u001b[0m \u001b[0mrequests\u001b[0m\u001b[0;34m.\u001b[0m\u001b[0mResponse\u001b[0m\u001b[0;34m:\u001b[0m\u001b[0;34m\u001b[0m\u001b[0;34m\u001b[0m\u001b[0m\n",
      "\u001b[0;32m~/opt/anaconda3/lib/python3.7/site-packages/tweepy/client.py\u001b[0m in \u001b[0;36mrequest\u001b[0;34m(self, method, route, params, json, user_auth)\u001b[0m\n\u001b[1;32m    110\u001b[0m             )\n\u001b[1;32m    111\u001b[0m             \u001b[0;32mif\u001b[0m \u001b[0mresponse\u001b[0m\u001b[0;34m.\u001b[0m\u001b[0mstatus_code\u001b[0m \u001b[0;34m==\u001b[0m \u001b[0;36m400\u001b[0m\u001b[0;34m:\u001b[0m\u001b[0;34m\u001b[0m\u001b[0;34m\u001b[0m\u001b[0m\n\u001b[0;32m--> 112\u001b[0;31m                 \u001b[0;32mraise\u001b[0m \u001b[0mBadRequest\u001b[0m\u001b[0;34m(\u001b[0m\u001b[0mresponse\u001b[0m\u001b[0;34m)\u001b[0m\u001b[0;34m\u001b[0m\u001b[0;34m\u001b[0m\u001b[0m\n\u001b[0m\u001b[1;32m    113\u001b[0m             \u001b[0;32mif\u001b[0m \u001b[0mresponse\u001b[0m\u001b[0;34m.\u001b[0m\u001b[0mstatus_code\u001b[0m \u001b[0;34m==\u001b[0m \u001b[0;36m401\u001b[0m\u001b[0;34m:\u001b[0m\u001b[0;34m\u001b[0m\u001b[0;34m\u001b[0m\u001b[0m\n\u001b[1;32m    114\u001b[0m                 \u001b[0;32mraise\u001b[0m \u001b[0mUnauthorized\u001b[0m\u001b[0;34m(\u001b[0m\u001b[0mresponse\u001b[0m\u001b[0;34m)\u001b[0m\u001b[0;34m\u001b[0m\u001b[0;34m\u001b[0m\u001b[0m\n",
      "\u001b[0;31mBadRequest\u001b[0m: 400 Bad Request\nThe `tweet.fields` query parameter value [truncated] is not one of [attachments,author_id,context_annotations,conversation_id,created_at,entities,geo,id,in_reply_to_user_id,lang,non_public_metrics,organic_metrics,possibly_sensitive,promoted_metrics,public_metrics,referenced_tweets,reply_settings,source,text,withheld]"
     ]
    }
   ],
   "source": [
    "k = client.search_recent_tweets(\"\"\" spectranet -from:spectranet_NG -from:Spectr_net -is:retweet \"\"\",\n",
    "                               tweet_fields = ['text','truncated'])"
   ]
  },
  {
   "cell_type": "code",
   "execution_count": 35,
   "metadata": {},
   "outputs": [],
   "source": [
    "?client.search_recent_tweets"
   ]
  },
  {
   "cell_type": "code",
   "execution_count": null,
   "metadata": {},
   "outputs": [],
   "source": []
  },
  {
   "cell_type": "code",
   "execution_count": 33,
   "metadata": {},
   "outputs": [
    {
     "data": {
      "text/plain": [
       "[<Tweet id=1450410578980311040 text=My biggest regret recently is renewing my Spectranet subscription on Sunday, two days before the expiry date despite having almost 15GB left. \n",
       " I should have just let it expired so I wouldn’t have to deal with their bullshit of the past 2 days>,\n",
       " <Tweet id=1450408394234470403 text=You're the worst thing to ever happen to me. Ever. @Spectranet_NG>,\n",
       " <Tweet id=1450401209039429633 text=Spectranet has been working hard to frustrate me since yesterday…\n",
       " God abeg.>,\n",
       " <Tweet id=1450400717794066433 text=How much is spectranet?>,\n",
       " <Tweet id=1450397253156356097 text=you people are crazy @Spectranet_NG , can't get any work done ffs.>,\n",
       " <Tweet id=1450396842831798276 text=Spectranet still hasn’t fixed their network after 24 hours>,\n",
       " <Tweet id=1450394789078310912 text=Spectranet has been calling me non stop to subscribe 🤣🤣🤣🤣 they got a shitty service and no customers…>,\n",
       " <Tweet id=1450389059172450306 text=Spectranet still hasn’t fixed their network>,\n",
       " <Tweet id=1450388662118649858 text=@senorita_sasha Spectranet is dealing with me. I’m back on>,\n",
       " <Tweet id=1450374275748204547 text=@zaynaboflagos @Spectranet_NG 🙄🙄🙄>]"
      ]
     },
     "execution_count": 33,
     "metadata": {},
     "output_type": "execute_result"
    }
   ],
   "source": [
    "k[0]"
   ]
  },
  {
   "cell_type": "code",
   "execution_count": 23,
   "metadata": {},
   "outputs": [
    {
     "ename": "AttributeError",
     "evalue": "",
     "output_type": "error",
     "traceback": [
      "\u001b[0;31m---------------------------------------------------------------------------\u001b[0m",
      "\u001b[0;31mAttributeError\u001b[0m                            Traceback (most recent call last)",
      "\u001b[0;32m<ipython-input-23-a30d0b55386c>\u001b[0m in \u001b[0;36m<module>\u001b[0;34m\u001b[0m\n\u001b[1;32m      1\u001b[0m \u001b[0;32mfor\u001b[0m \u001b[0mtweet\u001b[0m \u001b[0;32min\u001b[0m \u001b[0mk\u001b[0m\u001b[0;34m[\u001b[0m\u001b[0;36m0\u001b[0m\u001b[0;34m]\u001b[0m\u001b[0;34m:\u001b[0m\u001b[0;34m\u001b[0m\u001b[0;34m\u001b[0m\u001b[0m\n\u001b[0;32m----> 2\u001b[0;31m     \u001b[0;32mif\u001b[0m \u001b[0mtweet\u001b[0m\u001b[0;34m.\u001b[0m\u001b[0mtruncated\u001b[0m\u001b[0;34m:\u001b[0m\u001b[0;34m\u001b[0m\u001b[0;34m\u001b[0m\u001b[0m\n\u001b[0m\u001b[1;32m      3\u001b[0m         \u001b[0mprint\u001b[0m\u001b[0;34m(\u001b[0m\u001b[0mtweet\u001b[0m\u001b[0;34m.\u001b[0m\u001b[0mextended_tweet\u001b[0m\u001b[0;34m[\u001b[0m\u001b[0;34m'full_text'\u001b[0m\u001b[0;34m]\u001b[0m\u001b[0;34m)\u001b[0m\u001b[0;34m\u001b[0m\u001b[0;34m\u001b[0m\u001b[0m\n\u001b[1;32m      4\u001b[0m     \u001b[0;32melse\u001b[0m\u001b[0;34m:\u001b[0m\u001b[0;34m\u001b[0m\u001b[0;34m\u001b[0m\u001b[0m\n\u001b[1;32m      5\u001b[0m         \u001b[0mprint\u001b[0m\u001b[0;34m(\u001b[0m\u001b[0mtweet\u001b[0m\u001b[0;34m.\u001b[0m\u001b[0mtext\u001b[0m\u001b[0;34m)\u001b[0m\u001b[0;34m\u001b[0m\u001b[0;34m\u001b[0m\u001b[0m\n",
      "\u001b[0;32m~/opt/anaconda3/lib/python3.7/site-packages/tweepy/mixins.py\u001b[0m in \u001b[0;36m__getattr__\u001b[0;34m(self, name)\u001b[0m\n\u001b[1;32m     30\u001b[0m             \u001b[0;32mreturn\u001b[0m \u001b[0mself\u001b[0m\u001b[0;34m.\u001b[0m\u001b[0mdata\u001b[0m\u001b[0;34m[\u001b[0m\u001b[0mname\u001b[0m\u001b[0;34m]\u001b[0m\u001b[0;34m\u001b[0m\u001b[0;34m\u001b[0m\u001b[0m\n\u001b[1;32m     31\u001b[0m         \u001b[0;32mexcept\u001b[0m \u001b[0mKeyError\u001b[0m\u001b[0;34m:\u001b[0m\u001b[0;34m\u001b[0m\u001b[0;34m\u001b[0m\u001b[0m\n\u001b[0;32m---> 32\u001b[0;31m             \u001b[0;32mraise\u001b[0m \u001b[0mAttributeError\u001b[0m \u001b[0;32mfrom\u001b[0m \u001b[0;32mNone\u001b[0m\u001b[0;34m\u001b[0m\u001b[0;34m\u001b[0m\u001b[0m\n\u001b[0m\u001b[1;32m     33\u001b[0m \u001b[0;34m\u001b[0m\u001b[0m\n\u001b[1;32m     34\u001b[0m     \u001b[0;32mdef\u001b[0m \u001b[0m__getitem__\u001b[0m\u001b[0;34m(\u001b[0m\u001b[0mself\u001b[0m\u001b[0;34m,\u001b[0m \u001b[0mkey\u001b[0m\u001b[0;34m)\u001b[0m\u001b[0;34m:\u001b[0m\u001b[0;34m\u001b[0m\u001b[0;34m\u001b[0m\u001b[0m\n",
      "\u001b[0;31mAttributeError\u001b[0m: "
     ]
    }
   ],
   "source": [
    "for tweet in k[0]:\n",
    "    if tweet.truncated:\n",
    "        print(tweet.extended_tweet['full_text'])\n",
    "    else:\n",
    "        print(tweet.text)"
   ]
  },
  {
   "cell_type": "code",
   "execution_count": 24,
   "metadata": {},
   "outputs": [],
   "source": [
    "tweet1 = k[0][0]"
   ]
  },
  {
   "cell_type": "code",
   "execution_count": 31,
   "metadata": {},
   "outputs": [],
   "source": [
    "tweet1.created_at"
   ]
  },
  {
   "cell_type": "code",
   "execution_count": 16,
   "metadata": {},
   "outputs": [
    {
     "data": {
      "text/plain": [
       "<Tweet id=1450410578980311040 text=My biggest regret recently is renewing my Spectranet subscription on Sunday, two days before the expiry date despite having almost 15GB left. \n",
       "I should have just let it expired so I wouldn’t have to deal with their bullshit of the past 2 days>"
      ]
     },
     "execution_count": 16,
     "metadata": {},
     "output_type": "execute_result"
    }
   ],
   "source": [
    "for tweet in k[0]:\n",
    "    "
   ]
  },
  {
   "cell_type": "code",
   "execution_count": 3,
   "metadata": {},
   "outputs": [],
   "source": [
    "?tweepy.Client"
   ]
  },
  {
   "cell_type": "code",
   "execution_count": null,
   "metadata": {},
   "outputs": [],
   "source": [
    "api_key = \"orHJw0dL8ich4VNoMtyZn0cAN\"\n",
    "api_secret_key = \"xknoJaXNR9b15Q9h5ijaDJNIOFW7CvQL9cgKY64pZcnPSHucSc\"\n",
    "access_token = \"1956659575-cUcCeQHUYycW15I1eDlWzxPUcaQiDaSXl26VaAQ\"\n",
    "access_token_secret = \"vfI7Ke6DyTGd4XlZBshgx0lkj789Di2rxzY5GT0dzXucv\""
   ]
  },
  {
   "cell_type": "code",
   "execution_count": 1,
   "metadata": {},
   "outputs": [
    {
     "name": "stdout",
     "output_type": "stream",
     "text": [
      "Collecting nodejs\n",
      "  Using cached nodejs-0.1.1.tar.gz (2.3 kB)\n",
      "Collecting optional-django==0.1.0\n",
      "  Using cached optional-django-0.1.0.tar.gz (9.5 kB)\n",
      "Building wheels for collected packages: nodejs, optional-django\n",
      "  Building wheel for nodejs (setup.py) ... \u001b[?25ldone\n",
      "\u001b[?25h  Created wheel for nodejs: filename=nodejs-0.1.1-py3-none-any.whl size=3492 sha256=f2a5da6bb835663b8680372db01969e9668ceee0fda6acdf191c65c7bdfb2882\n",
      "  Stored in directory: /Users/koredeakande/Library/Caches/pip/wheels/33/6c/3e/c7c4e543b09f8fc396bb9d2bb0ee2c73d248c49201593c901e\n",
      "  Building wheel for optional-django (setup.py) ... \u001b[?25ldone\n",
      "\u001b[?25h  Created wheel for optional-django: filename=optional_django-0.1.0-py3-none-any.whl size=9978 sha256=7d817a298e6ff8d449252b0e5d315e23e8681c6954a0d06e1ddd607fc64d586b\n",
      "  Stored in directory: /Users/koredeakande/Library/Caches/pip/wheels/02/8b/80/98951377d9c707978a3798a23f2b260e00bcfc724073556cf4\n",
      "Successfully built nodejs optional-django\n",
      "Installing collected packages: optional-django, nodejs\n",
      "Successfully installed nodejs-0.1.1 optional-django-0.1.0\n"
     ]
    }
   ],
   "source": [
    "!pip install nodejs"
   ]
  },
  {
   "cell_type": "code",
   "execution_count": 2,
   "metadata": {},
   "outputs": [
    {
     "name": "stdout",
     "output_type": "stream",
     "text": [
      "Collecting npm\n",
      "  Using cached npm-0.1.1.tar.gz (2.5 kB)\n",
      "Requirement already satisfied: optional-django==0.1.0 in /Users/koredeakande/opt/anaconda3/envs/jupyterlab/lib/python3.9/site-packages (from npm) (0.1.0)\n",
      "Building wheels for collected packages: npm\n",
      "  Building wheel for npm (setup.py) ... \u001b[?25ldone\n",
      "\u001b[?25h  Created wheel for npm: filename=npm-0.1.1-py3-none-any.whl size=3706 sha256=e3236b1a79fdf13374d4916510a5236ec7aa8299b621461b76e927e7ba645b5d\n",
      "  Stored in directory: /Users/koredeakande/Library/Caches/pip/wheels/a8/3d/20/136a3e3f50d4772622e0745143a716ecdbf6412f4d3f137a09\n",
      "Successfully built npm\n",
      "Installing collected packages: npm\n",
      "Successfully installed npm-0.1.1\n"
     ]
    }
   ],
   "source": [
    "!pip install npm"
   ]
  },
  {
   "cell_type": "code",
   "execution_count": 3,
   "metadata": {},
   "outputs": [
    {
     "name": "stdout",
     "output_type": "stream",
     "text": [
      "Collecting jupyterlab_git\n",
      "  Downloading jupyterlab_git-0.33.0-py3-none-any.whl (517 kB)\n",
      "\u001b[K     |████████████████████████████████| 517 kB 3.0 MB/s eta 0:00:01\n",
      "\u001b[?25hRequirement already satisfied: nbformat in /Users/koredeakande/opt/anaconda3/envs/jupyterlab/lib/python3.9/site-packages (from jupyterlab_git) (5.1.3)\n",
      "Collecting nbdime~=3.1\n",
      "  Using cached nbdime-3.1.0-py2.py3-none-any.whl (5.1 MB)\n",
      "Requirement already satisfied: packaging in /Users/koredeakande/opt/anaconda3/envs/jupyterlab/lib/python3.9/site-packages (from jupyterlab_git) (21.0)\n",
      "Requirement already satisfied: pexpect in /Users/koredeakande/opt/anaconda3/envs/jupyterlab/lib/python3.9/site-packages (from jupyterlab_git) (4.8.0)\n",
      "Requirement already satisfied: jupyter-server in /Users/koredeakande/opt/anaconda3/envs/jupyterlab/lib/python3.9/site-packages (from jupyterlab_git) (1.4.1)\n",
      "Collecting jupyter-server-mathjax>=0.2.2\n",
      "  Using cached jupyter_server_mathjax-0.2.3-py3-none-any.whl (3.1 MB)\n",
      "Requirement already satisfied: tornado in /Users/koredeakande/opt/anaconda3/envs/jupyterlab/lib/python3.9/site-packages (from nbdime~=3.1->jupyterlab_git) (6.1)\n",
      "Requirement already satisfied: pygments in /Users/koredeakande/opt/anaconda3/envs/jupyterlab/lib/python3.9/site-packages (from nbdime~=3.1->jupyterlab_git) (2.10.0)\n",
      "Requirement already satisfied: jinja2>=2.9 in /Users/koredeakande/opt/anaconda3/envs/jupyterlab/lib/python3.9/site-packages (from nbdime~=3.1->jupyterlab_git) (3.0.1)\n",
      "Collecting GitPython!=2.1.4,!=2.1.5,!=2.1.6\n",
      "  Downloading GitPython-3.1.24-py3-none-any.whl (180 kB)\n",
      "\u001b[K     |████████████████████████████████| 180 kB 25.2 MB/s eta 0:00:01\n",
      "\u001b[?25hCollecting colorama\n",
      "  Downloading colorama-0.4.4-py2.py3-none-any.whl (16 kB)\n",
      "Requirement already satisfied: requests in /Users/koredeakande/opt/anaconda3/envs/jupyterlab/lib/python3.9/site-packages (from nbdime~=3.1->jupyterlab_git) (2.26.0)\n",
      "Collecting gitdb<5,>=4.0.1\n",
      "  Downloading gitdb-4.0.7-py3-none-any.whl (63 kB)\n",
      "\u001b[K     |████████████████████████████████| 63 kB 7.4 MB/s  eta 0:00:01\n",
      "\u001b[?25hCollecting typing-extensions>=3.7.4.3\n",
      "  Downloading typing_extensions-3.10.0.2-py3-none-any.whl (26 kB)\n",
      "Collecting smmap<5,>=3.0.1\n",
      "  Downloading smmap-4.0.0-py2.py3-none-any.whl (24 kB)\n",
      "Requirement already satisfied: MarkupSafe>=2.0 in /Users/koredeakande/opt/anaconda3/envs/jupyterlab/lib/python3.9/site-packages (from jinja2>=2.9->nbdime~=3.1->jupyterlab_git) (2.0.1)\n",
      "Requirement already satisfied: nbconvert in /Users/koredeakande/opt/anaconda3/envs/jupyterlab/lib/python3.9/site-packages (from jupyter-server->jupyterlab_git) (6.1.0)\n",
      "Requirement already satisfied: pyzmq>=17 in /Users/koredeakande/opt/anaconda3/envs/jupyterlab/lib/python3.9/site-packages (from jupyter-server->jupyterlab_git) (22.2.1)\n",
      "Requirement already satisfied: traitlets>=4.2.1 in /Users/koredeakande/opt/anaconda3/envs/jupyterlab/lib/python3.9/site-packages (from jupyter-server->jupyterlab_git) (5.1.0)\n",
      "Requirement already satisfied: terminado>=0.8.3 in /Users/koredeakande/opt/anaconda3/envs/jupyterlab/lib/python3.9/site-packages (from jupyter-server->jupyterlab_git) (0.9.4)\n",
      "Requirement already satisfied: anyio>=2.0.2 in /Users/koredeakande/opt/anaconda3/envs/jupyterlab/lib/python3.9/site-packages (from jupyter-server->jupyterlab_git) (2.2.0)\n",
      "Requirement already satisfied: jupyter-client>=6.1.1 in /Users/koredeakande/opt/anaconda3/envs/jupyterlab/lib/python3.9/site-packages (from jupyter-server->jupyterlab_git) (7.0.1)\n",
      "Requirement already satisfied: ipython-genutils in /Users/koredeakande/opt/anaconda3/envs/jupyterlab/lib/python3.9/site-packages (from jupyter-server->jupyterlab_git) (0.2.0)\n",
      "Requirement already satisfied: Send2Trash in /Users/koredeakande/opt/anaconda3/envs/jupyterlab/lib/python3.9/site-packages (from jupyter-server->jupyterlab_git) (1.8.0)\n",
      "Requirement already satisfied: jupyter-core>=4.4.0 in /Users/koredeakande/opt/anaconda3/envs/jupyterlab/lib/python3.9/site-packages (from jupyter-server->jupyterlab_git) (4.8.1)\n",
      "Requirement already satisfied: prometheus-client in /Users/koredeakande/opt/anaconda3/envs/jupyterlab/lib/python3.9/site-packages (from jupyter-server->jupyterlab_git) (0.11.0)\n",
      "Requirement already satisfied: sniffio>=1.1 in /Users/koredeakande/opt/anaconda3/envs/jupyterlab/lib/python3.9/site-packages (from anyio>=2.0.2->jupyter-server->jupyterlab_git) (1.2.0)\n",
      "Requirement already satisfied: idna>=2.8 in /Users/koredeakande/opt/anaconda3/envs/jupyterlab/lib/python3.9/site-packages (from anyio>=2.0.2->jupyter-server->jupyterlab_git) (3.2)\n",
      "Requirement already satisfied: entrypoints in /Users/koredeakande/opt/anaconda3/envs/jupyterlab/lib/python3.9/site-packages (from jupyter-client>=6.1.1->jupyter-server->jupyterlab_git) (0.3)\n",
      "Requirement already satisfied: python-dateutil>=2.1 in /Users/koredeakande/opt/anaconda3/envs/jupyterlab/lib/python3.9/site-packages (from jupyter-client>=6.1.1->jupyter-server->jupyterlab_git) (2.8.2)\n",
      "Requirement already satisfied: nest-asyncio>=1.5 in /Users/koredeakande/opt/anaconda3/envs/jupyterlab/lib/python3.9/site-packages (from jupyter-client>=6.1.1->jupyter-server->jupyterlab_git) (1.5.1)\n",
      "Requirement already satisfied: six>=1.5 in /Users/koredeakande/opt/anaconda3/envs/jupyterlab/lib/python3.9/site-packages (from python-dateutil>=2.1->jupyter-client>=6.1.1->jupyter-server->jupyterlab_git) (1.16.0)\n",
      "Requirement already satisfied: ptyprocess in /Users/koredeakande/opt/anaconda3/envs/jupyterlab/lib/python3.9/site-packages (from terminado>=0.8.3->jupyter-server->jupyterlab_git) (0.7.0)\n",
      "Requirement already satisfied: bleach in /Users/koredeakande/opt/anaconda3/envs/jupyterlab/lib/python3.9/site-packages (from nbconvert->jupyter-server->jupyterlab_git) (4.0.0)\n",
      "Requirement already satisfied: pandocfilters>=1.4.1 in /Users/koredeakande/opt/anaconda3/envs/jupyterlab/lib/python3.9/site-packages (from nbconvert->jupyter-server->jupyterlab_git) (1.4.3)\n",
      "Requirement already satisfied: testpath in /Users/koredeakande/opt/anaconda3/envs/jupyterlab/lib/python3.9/site-packages (from nbconvert->jupyter-server->jupyterlab_git) (0.5.0)\n",
      "Requirement already satisfied: mistune<2,>=0.8.1 in /Users/koredeakande/opt/anaconda3/envs/jupyterlab/lib/python3.9/site-packages (from nbconvert->jupyter-server->jupyterlab_git) (0.8.4)\n",
      "Requirement already satisfied: defusedxml in /Users/koredeakande/opt/anaconda3/envs/jupyterlab/lib/python3.9/site-packages (from nbconvert->jupyter-server->jupyterlab_git) (0.7.1)\n",
      "Requirement already satisfied: nbclient<0.6.0,>=0.5.0 in /Users/koredeakande/opt/anaconda3/envs/jupyterlab/lib/python3.9/site-packages (from nbconvert->jupyter-server->jupyterlab_git) (0.5.3)\n",
      "Requirement already satisfied: jupyterlab-pygments in /Users/koredeakande/opt/anaconda3/envs/jupyterlab/lib/python3.9/site-packages (from nbconvert->jupyter-server->jupyterlab_git) (0.1.2)\n",
      "Requirement already satisfied: async-generator in /Users/koredeakande/opt/anaconda3/envs/jupyterlab/lib/python3.9/site-packages (from nbclient<0.6.0,>=0.5.0->nbconvert->jupyter-server->jupyterlab_git) (1.10)\n",
      "Requirement already satisfied: jsonschema!=2.5.0,>=2.4 in /Users/koredeakande/opt/anaconda3/envs/jupyterlab/lib/python3.9/site-packages (from nbformat->jupyterlab_git) (3.2.0)\n",
      "Requirement already satisfied: pyrsistent>=0.14.0 in /Users/koredeakande/opt/anaconda3/envs/jupyterlab/lib/python3.9/site-packages (from jsonschema!=2.5.0,>=2.4->nbformat->jupyterlab_git) (0.18.0)\n",
      "Requirement already satisfied: setuptools in /Users/koredeakande/opt/anaconda3/envs/jupyterlab/lib/python3.9/site-packages (from jsonschema!=2.5.0,>=2.4->nbformat->jupyterlab_git) (58.0.4)\n",
      "Requirement already satisfied: attrs>=17.4.0 in /Users/koredeakande/opt/anaconda3/envs/jupyterlab/lib/python3.9/site-packages (from jsonschema!=2.5.0,>=2.4->nbformat->jupyterlab_git) (21.2.0)\n",
      "Requirement already satisfied: webencodings in /Users/koredeakande/opt/anaconda3/envs/jupyterlab/lib/python3.9/site-packages (from bleach->nbconvert->jupyter-server->jupyterlab_git) (0.5.1)\n",
      "Requirement already satisfied: pyparsing>=2.0.2 in /Users/koredeakande/opt/anaconda3/envs/jupyterlab/lib/python3.9/site-packages (from packaging->jupyterlab_git) (2.4.7)\n",
      "Requirement already satisfied: charset-normalizer~=2.0.0 in /Users/koredeakande/opt/anaconda3/envs/jupyterlab/lib/python3.9/site-packages (from requests->nbdime~=3.1->jupyterlab_git) (2.0.4)\n",
      "Requirement already satisfied: urllib3<1.27,>=1.21.1 in /Users/koredeakande/opt/anaconda3/envs/jupyterlab/lib/python3.9/site-packages (from requests->nbdime~=3.1->jupyterlab_git) (1.26.7)\n",
      "Requirement already satisfied: certifi>=2017.4.17 in /Users/koredeakande/opt/anaconda3/envs/jupyterlab/lib/python3.9/site-packages (from requests->nbdime~=3.1->jupyterlab_git) (2021.10.8)\n",
      "Installing collected packages: smmap, typing-extensions, gitdb, jupyter-server-mathjax, GitPython, colorama, nbdime, jupyterlab-git\n",
      "Successfully installed GitPython-3.1.24 colorama-0.4.4 gitdb-4.0.7 jupyter-server-mathjax-0.2.3 jupyterlab-git-0.33.0 nbdime-3.1.0 smmap-4.0.0 typing-extensions-3.10.0.2\n"
     ]
    }
   ],
   "source": [
    "!pip install jupyterlab_git"
   ]
  },
  {
   "cell_type": "code",
   "execution_count": null,
   "metadata": {},
   "outputs": [],
   "source": []
  }
 ],
 "metadata": {
  "kernelspec": {
   "display_name": "Python 3",
   "language": "python",
   "name": "python3"
  },
  "language_info": {
   "codemirror_mode": {
    "name": "ipython",
    "version": 3
   },
   "file_extension": ".py",
   "mimetype": "text/x-python",
   "name": "python",
   "nbconvert_exporter": "python",
   "pygments_lexer": "ipython3",
   "version": "3.7.11"
  }
 },
 "nbformat": 4,
 "nbformat_minor": 4
}
