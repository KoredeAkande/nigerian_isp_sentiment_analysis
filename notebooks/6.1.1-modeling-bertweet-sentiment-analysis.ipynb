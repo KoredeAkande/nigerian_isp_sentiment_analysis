{
 "cells": [
  {
   "cell_type": "markdown",
   "id": "2d5cb306-d351-46cb-8843-1153eb1a9f55",
   "metadata": {},
   "source": [
    "# Modeling: (Monolingual) BERTweet For Sentiment Analysis\n",
    "Fine-tuning a BerTweet model for ISP Tweet Sentiment Prediction\n",
    "\n",
    "**`Brief Discussion:`** \n",
    "\n",
    "Despite the model in my initial [sentiment analysis implementation](https://github.com/KoredeAkande/nigerian_isp_sentiment_analysis/tree/main/notebooks/test-version) struggling with a number of tweets containing pidgin English, I found that tweets in Pidgin English constituted a minority (about 15%) in a randomly extracted sample from our dataset (SEE HERE). Moreover, the tweets featuring Pidgin English used the language very lightly (i.e. a huge proportion of the tweet was still in grammatically correct English). Thus, I hypothesize that a monolingual English model should not have issues predicting sentiment even on Pidgin English. \n",
    "\n",
    "\n",
    "In this notebook, I finetune a BERTweet model pretrained on 40k tweets. Specifically, a BERTweet model is selected for finetuning over other models (e.g. BERT model trained on wikipedia) as it gets us closer to our problem domain of tweets, especially English tweets. Thus the model should have learned all the informalities of Twitter and the learn curve should be less steep (as in the case of say, a BERT model).\n",
    "\n",
    "\n",
    "\n",
    "**`Process:`**\n",
    "- Load pretrained BERTweet model from transformers package\n",
    "- Train on an annotated training set of tweets on Nigerian ISPs\n",
    "- Fine tune on an annotated validation set of tweets on Nigerian ISPs\n",
    "- Predict unseen tweets in a test set\n",
    "    \n",
    "**`Next steps:`**"
   ]
  },
  {
   "cell_type": "markdown",
   "id": "0455f045-6b06-45b1-8ce6-7d1be8bf9098",
   "metadata": {},
   "source": [
    "## 1. Library Importation"
   ]
  },
  {
   "cell_type": "code",
   "execution_count": 2,
   "id": "20d13a43-c94b-47e3-a9d6-09edb2aae52a",
   "metadata": {},
   "outputs": [],
   "source": [
    "#Visualization packages\n",
    "import pandas as pd\n",
    "import numpy as np\n",
    "import seaborn as sns\n",
    "#sns.set()\n",
    "import matplotlib.pyplot as plt\n",
    "\n",
    "#Modeling and evaluation packages\n",
    "import torch\n",
    "from transformers import BertForSequenceClassification, BertTokenizer, Trainer, TrainingArguments\n",
    "from transformers import AutoTokenizer, AutoModelForSequenceClassification\n",
    "from sklearn.metrics import accuracy_score, precision_recall_fscore_support,classification_report\n",
    "from sklearn.metrics import confusion_matrix, ConfusionMatrixDisplay, roc_auc_score\n",
    "from sklearn.model_selection import train_test_split"
   ]
  },
  {
   "cell_type": "markdown",
   "id": "a22b394c-6489-4367-a86d-6269547f412b",
   "metadata": {},
   "source": [
    "## 2. Loading the data"
   ]
  },
  {
   "cell_type": "code",
   "execution_count": 3,
   "id": "c9f04655-bbc0-4e77-b73f-70ee37acdad5",
   "metadata": {},
   "outputs": [],
   "source": [
    "df = pd.read_csv('../data/processed/sample_encoded_and_cleaned.csv')"
   ]
  },
  {
   "cell_type": "code",
   "execution_count": 4,
   "id": "31fec72a-43ed-4738-a329-55b79dd829a0",
   "metadata": {},
   "outputs": [
    {
     "data": {
      "text/html": [
       "<div>\n",
       "<style scoped>\n",
       "    .dataframe tbody tr th:only-of-type {\n",
       "        vertical-align: middle;\n",
       "    }\n",
       "\n",
       "    .dataframe tbody tr th {\n",
       "        vertical-align: top;\n",
       "    }\n",
       "\n",
       "    .dataframe thead th {\n",
       "        text-align: right;\n",
       "    }\n",
       "</style>\n",
       "<table border=\"1\" class=\"dataframe\">\n",
       "  <thead>\n",
       "    <tr style=\"text-align: right;\">\n",
       "      <th></th>\n",
       "      <th>ISP_Name</th>\n",
       "      <th>Time</th>\n",
       "      <th>Text</th>\n",
       "      <th>Source</th>\n",
       "      <th>sentiment</th>\n",
       "      <th>label</th>\n",
       "    </tr>\n",
       "  </thead>\n",
       "  <tbody>\n",
       "    <tr>\n",
       "      <th>0</th>\n",
       "      <td>sprectranet</td>\n",
       "      <td>2020-02-04 18:30:35+00:00</td>\n",
       "      <td>my family used my spectranet and they don't wa...</td>\n",
       "      <td>Twitter for Android</td>\n",
       "      <td>Neutral</td>\n",
       "      <td>1</td>\n",
       "    </tr>\n",
       "    <tr>\n",
       "      <th>1</th>\n",
       "      <td>sprectranet</td>\n",
       "      <td>2019-06-19 04:59:49</td>\n",
       "      <td>spectranet_ng how can i get the freedom mifi i...</td>\n",
       "      <td>Twitter for iPhone</td>\n",
       "      <td>Neutral</td>\n",
       "      <td>1</td>\n",
       "    </tr>\n",
       "    <tr>\n",
       "      <th>2</th>\n",
       "      <td>sprectranet</td>\n",
       "      <td>2020-03-30 07:57:38+00:00</td>\n",
       "      <td>drolufunmilayo iconic_remi spectranet_ng</td>\n",
       "      <td>Twitter for iPhone</td>\n",
       "      <td>Neutral</td>\n",
       "      <td>1</td>\n",
       "    </tr>\n",
       "    <tr>\n",
       "      <th>3</th>\n",
       "      <td>sprectranet</td>\n",
       "      <td>2020-12-31 21:07:52+00:00</td>\n",
       "      <td>spectranet_ng your response just proves how ho...</td>\n",
       "      <td>Twitter for Android</td>\n",
       "      <td>Negative</td>\n",
       "      <td>0</td>\n",
       "    </tr>\n",
       "    <tr>\n",
       "      <th>4</th>\n",
       "      <td>sprectranet</td>\n",
       "      <td>2020-09-03 23:09:09+00:00</td>\n",
       "      <td>spectranet is just the worse tbh, i can't even...</td>\n",
       "      <td>Twitter for iPhone</td>\n",
       "      <td>Negative</td>\n",
       "      <td>0</td>\n",
       "    </tr>\n",
       "    <tr>\n",
       "      <th>...</th>\n",
       "      <td>...</td>\n",
       "      <td>...</td>\n",
       "      <td>...</td>\n",
       "      <td>...</td>\n",
       "      <td>...</td>\n",
       "      <td>...</td>\n",
       "    </tr>\n",
       "    <tr>\n",
       "      <th>372</th>\n",
       "      <td>sprectranet</td>\n",
       "      <td>2019-01-04 14:44:03</td>\n",
       "      <td>spectranet unlimited. value for money</td>\n",
       "      <td>Twitter for iPhone</td>\n",
       "      <td>Positive</td>\n",
       "      <td>2</td>\n",
       "    </tr>\n",
       "    <tr>\n",
       "      <th>373</th>\n",
       "      <td>sprectranet</td>\n",
       "      <td>2020-06-17 13:32:28+00:00</td>\n",
       "      <td>from 30th may to date mtn mifi - 10k spectrane...</td>\n",
       "      <td>Twitter for iPhone</td>\n",
       "      <td>Negative</td>\n",
       "      <td>0</td>\n",
       "    </tr>\n",
       "    <tr>\n",
       "      <th>374</th>\n",
       "      <td>sprectranet</td>\n",
       "      <td>2020-05-12 16:51:44+00:00</td>\n",
       "      <td>spectranet_ng fritzthejanitor will they help m...</td>\n",
       "      <td>Twitter for iPhone</td>\n",
       "      <td>Neutral</td>\n",
       "      <td>1</td>\n",
       "    </tr>\n",
       "    <tr>\n",
       "      <th>375</th>\n",
       "      <td>sprectranet</td>\n",
       "      <td>2019-02-27 18:59:31</td>\n",
       "      <td>thefunkydee spectranet_ng i'm giving spectrane...</td>\n",
       "      <td>Twitter for iPhone</td>\n",
       "      <td>Negative</td>\n",
       "      <td>0</td>\n",
       "    </tr>\n",
       "    <tr>\n",
       "      <th>376</th>\n",
       "      <td>sprectranet</td>\n",
       "      <td>2020-04-03 12:55:27+00:00</td>\n",
       "      <td>50gb gone in one week, spectranet_ng na so? i ...</td>\n",
       "      <td>Twitter for Android</td>\n",
       "      <td>Negative</td>\n",
       "      <td>0</td>\n",
       "    </tr>\n",
       "  </tbody>\n",
       "</table>\n",
       "<p>377 rows × 6 columns</p>\n",
       "</div>"
      ],
      "text/plain": [
       "        ISP_Name                       Time  \\\n",
       "0    sprectranet  2020-02-04 18:30:35+00:00   \n",
       "1    sprectranet        2019-06-19 04:59:49   \n",
       "2    sprectranet  2020-03-30 07:57:38+00:00   \n",
       "3    sprectranet  2020-12-31 21:07:52+00:00   \n",
       "4    sprectranet  2020-09-03 23:09:09+00:00   \n",
       "..           ...                        ...   \n",
       "372  sprectranet        2019-01-04 14:44:03   \n",
       "373  sprectranet  2020-06-17 13:32:28+00:00   \n",
       "374  sprectranet  2020-05-12 16:51:44+00:00   \n",
       "375  sprectranet        2019-02-27 18:59:31   \n",
       "376  sprectranet  2020-04-03 12:55:27+00:00   \n",
       "\n",
       "                                                  Text               Source  \\\n",
       "0    my family used my spectranet and they don't wa...  Twitter for Android   \n",
       "1    spectranet_ng how can i get the freedom mifi i...   Twitter for iPhone   \n",
       "2             drolufunmilayo iconic_remi spectranet_ng   Twitter for iPhone   \n",
       "3    spectranet_ng your response just proves how ho...  Twitter for Android   \n",
       "4    spectranet is just the worse tbh, i can't even...   Twitter for iPhone   \n",
       "..                                                 ...                  ...   \n",
       "372              spectranet unlimited. value for money   Twitter for iPhone   \n",
       "373  from 30th may to date mtn mifi - 10k spectrane...   Twitter for iPhone   \n",
       "374  spectranet_ng fritzthejanitor will they help m...   Twitter for iPhone   \n",
       "375  thefunkydee spectranet_ng i'm giving spectrane...   Twitter for iPhone   \n",
       "376  50gb gone in one week, spectranet_ng na so? i ...  Twitter for Android   \n",
       "\n",
       "    sentiment  label  \n",
       "0     Neutral      1  \n",
       "1     Neutral      1  \n",
       "2     Neutral      1  \n",
       "3    Negative      0  \n",
       "4    Negative      0  \n",
       "..        ...    ...  \n",
       "372  Positive      2  \n",
       "373  Negative      0  \n",
       "374   Neutral      1  \n",
       "375  Negative      0  \n",
       "376  Negative      0  \n",
       "\n",
       "[377 rows x 6 columns]"
      ]
     },
     "execution_count": 4,
     "metadata": {},
     "output_type": "execute_result"
    }
   ],
   "source": [
    "df"
   ]
  },
  {
   "cell_type": "markdown",
   "id": "bf6a719f-17f7-4274-bafa-10dfb1b30028",
   "metadata": {},
   "source": [
    "## 3. Split data into training & test set"
   ]
  },
  {
   "cell_type": "markdown",
   "id": "55142912-e3e6-4b3f-a2f6-5bf68f9a7518",
   "metadata": {},
   "source": [
    "**Observing the true distribution of the data**"
   ]
  },
  {
   "cell_type": "code",
   "execution_count": 5,
   "id": "63b0d4b5-9d55-4de4-babc-a7b498e42775",
   "metadata": {},
   "outputs": [
    {
     "data": {
      "text/plain": [
       "0    0.572944\n",
       "1    0.347480\n",
       "2    0.079576\n",
       "Name: label, dtype: float64"
      ]
     },
     "execution_count": 5,
     "metadata": {},
     "output_type": "execute_result"
    }
   ],
   "source": [
    "df.label.value_counts(normalize=True)"
   ]
  },
  {
   "cell_type": "markdown",
   "id": "84c09a05-6f32-4c75-a22e-59c138e81c0f",
   "metadata": {},
   "source": [
    "Seeing as the dataset is highly imbalanced, I perform a **stratified train-test split**:"
   ]
  },
  {
   "cell_type": "code",
   "execution_count": 6,
   "id": "c7230e82-7f6c-47f0-beac-1c91da47ba8d",
   "metadata": {},
   "outputs": [],
   "source": [
    "#Split the data 80:20 and ensure same proportion of classes as original data \n",
    "#Note: The below gets the indices of the tweets for the training and test set\n",
    "X_train, X_test, y_train, y_test = train_test_split(df.index.values, \n",
    "                                                    df.label.values, \n",
    "                                                    test_size=0.2, \n",
    "                                                    random_state=42, \n",
    "                                                    stratify=df.label.values)"
   ]
  },
  {
   "cell_type": "code",
   "execution_count": 7,
   "id": "0b92cd70-941e-4c1d-8a91-842ef4d4f1ca",
   "metadata": {},
   "outputs": [],
   "source": [
    "#Note which tweets were split into the training and test sets so we can see the division\n",
    "df.loc[X_train, 'split_group'] = 'training_set'\n",
    "df.loc[X_test, 'split_group'] = 'test_set'"
   ]
  },
  {
   "cell_type": "code",
   "execution_count": 8,
   "id": "559d7a0e-b32a-48e7-9f67-2b467679470b",
   "metadata": {},
   "outputs": [
    {
     "data": {
      "text/html": [
       "<div>\n",
       "<style scoped>\n",
       "    .dataframe tbody tr th:only-of-type {\n",
       "        vertical-align: middle;\n",
       "    }\n",
       "\n",
       "    .dataframe tbody tr th {\n",
       "        vertical-align: top;\n",
       "    }\n",
       "\n",
       "    .dataframe thead th {\n",
       "        text-align: right;\n",
       "    }\n",
       "</style>\n",
       "<table border=\"1\" class=\"dataframe\">\n",
       "  <thead>\n",
       "    <tr style=\"text-align: right;\">\n",
       "      <th></th>\n",
       "      <th></th>\n",
       "      <th></th>\n",
       "      <th>Text</th>\n",
       "    </tr>\n",
       "    <tr>\n",
       "      <th>sentiment</th>\n",
       "      <th>label</th>\n",
       "      <th>split_group</th>\n",
       "      <th></th>\n",
       "    </tr>\n",
       "  </thead>\n",
       "  <tbody>\n",
       "    <tr>\n",
       "      <th rowspan=\"2\" valign=\"top\">Negative</th>\n",
       "      <th rowspan=\"2\" valign=\"top\">0</th>\n",
       "      <th>test_set</th>\n",
       "      <td>44</td>\n",
       "    </tr>\n",
       "    <tr>\n",
       "      <th>training_set</th>\n",
       "      <td>172</td>\n",
       "    </tr>\n",
       "    <tr>\n",
       "      <th rowspan=\"2\" valign=\"top\">Neutral</th>\n",
       "      <th rowspan=\"2\" valign=\"top\">1</th>\n",
       "      <th>test_set</th>\n",
       "      <td>26</td>\n",
       "    </tr>\n",
       "    <tr>\n",
       "      <th>training_set</th>\n",
       "      <td>105</td>\n",
       "    </tr>\n",
       "    <tr>\n",
       "      <th rowspan=\"2\" valign=\"top\">Positive</th>\n",
       "      <th rowspan=\"2\" valign=\"top\">2</th>\n",
       "      <th>test_set</th>\n",
       "      <td>6</td>\n",
       "    </tr>\n",
       "    <tr>\n",
       "      <th>training_set</th>\n",
       "      <td>24</td>\n",
       "    </tr>\n",
       "  </tbody>\n",
       "</table>\n",
       "</div>"
      ],
      "text/plain": [
       "                              Text\n",
       "sentiment label split_group       \n",
       "Negative  0     test_set        44\n",
       "                training_set   172\n",
       "Neutral   1     test_set        26\n",
       "                training_set   105\n",
       "Positive  2     test_set         6\n",
       "                training_set    24"
      ]
     },
     "execution_count": 8,
     "metadata": {},
     "output_type": "execute_result"
    }
   ],
   "source": [
    "df.groupby(['sentiment', 'label', 'split_group'])[['Text']].count().sort_values('label')"
   ]
  },
  {
   "cell_type": "code",
   "execution_count": 9,
   "id": "7ca98aad-a93d-4773-9f1a-e3716667c069",
   "metadata": {},
   "outputs": [
    {
     "data": {
      "image/png": "[encoded data removed]",
      "text/plain": [
       "<Figure size 576x432 with 1 Axes>"
      ]
     },
     "metadata": {
      "needs_background": "light"
     },
     "output_type": "display_data"
    }
   ],
   "source": [
    "#Plot the proportion of each sentiment class in the training and test sets\n",
    "#-to confirm the distribution is the same in both sets\n",
    "with plt.style.context(['notebook','no-latex']):\n",
    "    sns.barplot(x='split_group', \n",
    "                y='percent', \n",
    "                hue='sentiment',\n",
    "                palette = ['tab:red','moccasin','tab:green'],\n",
    "                data=df.groupby(['split_group'])['sentiment'].value_counts(normalize=True).\\\n",
    "                                                                           rename('percent').\\\n",
    "                                                                           reset_index())\n",
    "    plt.show()"
   ]
  },
  {
   "cell_type": "markdown",
   "id": "8e529780-7636-4163-8c83-ca1ba3669430",
   "metadata": {},
   "source": [
    "## 4. Split training set into training set and validation set"
   ]
  },
  {
   "cell_type": "code",
   "execution_count": 10,
   "id": "5af10822-2ca3-4d99-b778-d8492594f0dc",
   "metadata": {},
   "outputs": [],
   "source": [
    "#Split the training set 75:25 using stratified sampling \n",
    "#Note: The below gets the indices of the tweets for the training and validation set\n",
    "X_train, X_val, y_train, y_val = train_test_split(X_train, \n",
    "                                                  y_train, \n",
    "                                                  test_size=0.25, \n",
    "                                                  random_state=1, \n",
    "                                                  stratify=y_train)"
   ]
  },
  {
   "cell_type": "code",
   "execution_count": 11,
   "id": "bd7183b4-31a6-469f-bb69-91530b6d5d45",
   "metadata": {},
   "outputs": [],
   "source": [
    "#Note which tweets were split into the training and validation sets so we can see the division\n",
    "df.loc[X_train, 'split_group'] = 'training_set'\n",
    "df.loc[X_val, 'split_group'] = 'validation_set'"
   ]
  },
  {
   "cell_type": "code",
   "execution_count": 12,
   "id": "e8c1ba10-85b5-4180-ab5d-2518064ebd28",
   "metadata": {},
   "outputs": [
    {
     "data": {
      "text/html": [
       "<div>\n",
       "<style scoped>\n",
       "    .dataframe tbody tr th:only-of-type {\n",
       "        vertical-align: middle;\n",
       "    }\n",
       "\n",
       "    .dataframe tbody tr th {\n",
       "        vertical-align: top;\n",
       "    }\n",
       "\n",
       "    .dataframe thead th {\n",
       "        text-align: right;\n",
       "    }\n",
       "</style>\n",
       "<table border=\"1\" class=\"dataframe\">\n",
       "  <thead>\n",
       "    <tr style=\"text-align: right;\">\n",
       "      <th></th>\n",
       "      <th></th>\n",
       "      <th></th>\n",
       "      <th>Text</th>\n",
       "    </tr>\n",
       "    <tr>\n",
       "      <th>sentiment</th>\n",
       "      <th>label</th>\n",
       "      <th>split_group</th>\n",
       "      <th></th>\n",
       "    </tr>\n",
       "  </thead>\n",
       "  <tbody>\n",
       "    <tr>\n",
       "      <th rowspan=\"3\" valign=\"top\">Negative</th>\n",
       "      <th rowspan=\"3\" valign=\"top\">0</th>\n",
       "      <th>test_set</th>\n",
       "      <td>44</td>\n",
       "    </tr>\n",
       "    <tr>\n",
       "      <th>training_set</th>\n",
       "      <td>129</td>\n",
       "    </tr>\n",
       "    <tr>\n",
       "      <th>validation_set</th>\n",
       "      <td>43</td>\n",
       "    </tr>\n",
       "    <tr>\n",
       "      <th rowspan=\"3\" valign=\"top\">Neutral</th>\n",
       "      <th rowspan=\"3\" valign=\"top\">1</th>\n",
       "      <th>test_set</th>\n",
       "      <td>26</td>\n",
       "    </tr>\n",
       "    <tr>\n",
       "      <th>training_set</th>\n",
       "      <td>78</td>\n",
       "    </tr>\n",
       "    <tr>\n",
       "      <th>validation_set</th>\n",
       "      <td>27</td>\n",
       "    </tr>\n",
       "    <tr>\n",
       "      <th rowspan=\"3\" valign=\"top\">Positive</th>\n",
       "      <th rowspan=\"3\" valign=\"top\">2</th>\n",
       "      <th>test_set</th>\n",
       "      <td>6</td>\n",
       "    </tr>\n",
       "    <tr>\n",
       "      <th>training_set</th>\n",
       "      <td>18</td>\n",
       "    </tr>\n",
       "    <tr>\n",
       "      <th>validation_set</th>\n",
       "      <td>6</td>\n",
       "    </tr>\n",
       "  </tbody>\n",
       "</table>\n",
       "</div>"
      ],
      "text/plain": [
       "                                Text\n",
       "sentiment label split_group         \n",
       "Negative  0     test_set          44\n",
       "                training_set     129\n",
       "                validation_set    43\n",
       "Neutral   1     test_set          26\n",
       "                training_set      78\n",
       "                validation_set    27\n",
       "Positive  2     test_set           6\n",
       "                training_set      18\n",
       "                validation_set     6"
      ]
     },
     "execution_count": 12,
     "metadata": {},
     "output_type": "execute_result"
    }
   ],
   "source": [
    "df.groupby(['sentiment', 'label', 'split_group'])[['Text']].count().sort_values('label')"
   ]
  },
  {
   "cell_type": "code",
   "execution_count": 13,
   "id": "99e6f3a3-bd4a-408f-adbc-75ce839b2e9a",
   "metadata": {},
   "outputs": [
    {
     "data": {
      "image/png": "[encoded data removed]",
      "text/plain": [
       "<Figure size 576x432 with 1 Axes>"
      ]
     },
     "metadata": {
      "needs_background": "light"
     },
     "output_type": "display_data"
    }
   ],
   "source": [
    "#Plot the proportion of each sentiment class in the training and test sets\n",
    "#-to confirm the distribution is the same in both sets\n",
    "with plt.style.context(['notebook','no-latex']):\n",
    "    sns.barplot(x='split_group', \n",
    "                y='percent', \n",
    "                hue='sentiment', \n",
    "                palette = ['tab:red','moccasin','tab:green'],\n",
    "                data=df.groupby(['split_group'])['sentiment'].value_counts(normalize=True).\\\n",
    "                                                                         rename('percent').\\\n",
    "                                                                         reset_index())\n",
    "    plt.show()"
   ]
  },
  {
   "cell_type": "code",
   "execution_count": 14,
   "id": "1e27ddc7-4b64-47d2-a5e8-f88b8a74595f",
   "metadata": {},
   "outputs": [
    {
     "data": {
      "text/plain": [
       "split_group\n",
       "test_set           76\n",
       "training_set      225\n",
       "validation_set     76\n",
       "Name: Text, dtype: int64"
      ]
     },
     "execution_count": 14,
     "metadata": {},
     "output_type": "execute_result"
    }
   ],
   "source": [
    "df.groupby('split_group')['Text'].count()"
   ]
  },
  {
   "cell_type": "markdown",
   "id": "c5bd8143-533b-4e19-a54d-5beddaaec841",
   "metadata": {},
   "source": [
    "## 5. Modeling & Evaluation – BerTweet"
   ]
  },
  {
   "cell_type": "code",
   "execution_count": 15,
   "id": "298172c3-6ba2-43bc-8f4c-2616eb200aff",
   "metadata": {},
   "outputs": [],
   "source": [
    "#Load BerTweet tokenizer\n",
    "tokenizer = AutoTokenizer.from_pretrained(\"finiteautomata/bertweet-base-sentiment-analysis\", normalization=True)\n",
    "\n",
    "class Generate_PyTorch_Dataset(torch.utils.data.Dataset):\n",
    "    \n",
    "    \"\"\"\n",
    "    Code adapted from NLPiation. (2021). \n",
    "    Is it possible to do Sentiment Analysis on unlabeled data using BERT? (Feat. Vader) [Experiment]. \n",
    "    https://nlpiation.medium.com/is-it-possible-to-do-sentiment-analysis-on-unlabeled-data-using-bert-feat-vader-experiment-357bba53768c\n",
    "\n",
    "    \"\"\"\n",
    "\n",
    "    def __init__(self, texts, labels, tokenizer):\n",
    "        self.texts    = texts\n",
    "        self.labels = labels\n",
    "        self.tokenizer  = tokenizer\n",
    "        self.max_len    = tokenizer.model_max_length\n",
    "  \n",
    "    def __len__(self):\n",
    "        return len(self.texts)\n",
    "  \n",
    "    def __getitem__(self, idx):\n",
    "        text = str(self.texts[idx])\n",
    "        labels = self.labels[idx]\n",
    "\n",
    "        encoded_text = self.tokenizer.encode_plus(\n",
    "            text,\n",
    "            add_special_tokens    = True,\n",
    "            truncation            = True,\n",
    "            return_attention_mask = True,\n",
    "            return_token_type_ids = False,\n",
    "            max_length            = self.max_len,\n",
    "            return_tensors        = 'pt',\n",
    "            padding               = \"max_length\"\n",
    "        )\n",
    "\n",
    "        return {\n",
    "            'input_ids': encoded_text['input_ids'][0],\n",
    "            'attention_mask': encoded_text['attention_mask'][0],\n",
    "            'labels': torch.tensor(labels, dtype=torch.long)\n",
    "        }\n",
    " \n",
    "\n",
    "def compute_metrics(eval_pred):\n",
    "    \n",
    "    \"\"\"\n",
    "    Function to compute accuracy metrics\n",
    "    \n",
    "    Input:\n",
    "        - eval_pred (tuple): Tuple containing the model predictions and targets to be matched \n",
    "                             in the form: (predictions,targets)]\n",
    "                             \n",
    "    Output:\n",
    "        - (dict): Dictionary containing different accuracy-related metrics\n",
    "    \n",
    "    \"\"\"\n",
    "    \n",
    "    #Get the predicted labels and the true labels\n",
    "    logits, labels = eval_pred\n",
    "    predictions = np.argmax(logits, axis=-1)\n",
    "    \n",
    "    #Compute, precision, recall, f1 and accuracy score\n",
    "    #We use macro so we can better see the effect of the class imbalance i.e. treat all classes as equal\n",
    "    precision, recall, f1, _ = precision_recall_fscore_support(labels, predictions, average='macro')\n",
    "    accuracy = accuracy_score(labels, predictions)\n",
    "    \n",
    "    return {\n",
    "        'f1': f1,\n",
    "        'precision': precision,\n",
    "        'recall': recall,\n",
    "        'accuracy': accuracy}\n",
    "\n"
   ]
  },
  {
   "cell_type": "markdown",
   "id": "56686777-ed69-49f7-86af-70cfd5b7c4ef",
   "metadata": {},
   "source": [
    "### a. Encode the training and validation sets"
   ]
  },
  {
   "cell_type": "code",
   "execution_count": 16,
   "id": "e276435b-69ac-48e8-89da-858f8e3c57ad",
   "metadata": {},
   "outputs": [],
   "source": [
    "#Prepare the Training and validation sets\n",
    "train_set_dataset = Generate_PyTorch_Dataset(\n",
    "    texts    = df.query(\"split_group == 'training_set' \").Text.tolist(),\n",
    "    labels = df.query(\"split_group == 'training_set' \").label.tolist(),\n",
    "    tokenizer  = tokenizer\n",
    ")\n",
    "\n",
    "val_set_dataset = Generate_PyTorch_Dataset(\n",
    "    texts    = df.query(\"split_group == 'validation_set' \").Text.tolist(),\n",
    "    labels = df.query(\"split_group == 'validation_set' \").label.tolist(),\n",
    "    tokenizer  = tokenizer\n",
    ")"
   ]
  },
  {
   "cell_type": "markdown",
   "id": "fea55817-f997-4ef0-88a1-078c9fdf8068",
   "metadata": {
    "tags": []
   },
   "source": [
    "### b. Load Original Pretrained BERTweet model"
   ]
  },
  {
   "cell_type": "code",
   "execution_count": 17,
   "id": "9493f891-dcb5-4ba3-851b-5d28b520abf5",
   "metadata": {},
   "outputs": [],
   "source": [
    "#Load the original pretrained BERTweet model\n",
    "bt_model = AutoModelForSequenceClassification.from_pretrained(\"finiteautomata/bertweet-base-sentiment-analysis\")"
   ]
  },
  {
   "cell_type": "markdown",
   "id": "56117fd6-0959-4f0f-bd2c-b45ceee37135",
   "metadata": {},
   "source": [
    "#### • Evaluating the model: How well does it classify tweets?"
   ]
  },
  {
   "cell_type": "markdown",
   "id": "9849fbec-7bb2-4359-a8fb-795c3988cd57",
   "metadata": {},
   "source": [
    "**Training set (Note: The model was never exposed to these tweets!)**"
   ]
  },
  {
   "cell_type": "code",
   "execution_count": 23,
   "id": "f8211fb7-a472-4e81-b174-3a91b2ec5991",
   "metadata": {},
   "outputs": [
    {
     "name": "stderr",
     "output_type": "stream",
     "text": [
      "PyTorch: setting up devices\n",
      "The default value for the training argument `--report_to` will change in v5 (from all installed integrations to none). In v5, you will need to use `--report_to all` to get the same behavior as now. You should start updating your code and make this info disappear :-).\n",
      "***** Running Prediction *****\n",
      "  Num examples = 225\n",
      "  Batch size = 8\n"
     ]
    },
    {
     "data": {
      "text/html": [
       "\n",
       "    <div>\n",
       "      \n",
       "      <progress value='29' max='29' style='width:300px; height:20px; vertical-align: middle;'></progress>\n",
       "      [29/29 00:55]\n",
       "    </div>\n",
       "    "
      ],
      "text/plain": [
       "<IPython.core.display.HTML object>"
      ]
     },
     "metadata": {},
     "output_type": "display_data"
    }
   ],
   "source": [
    "bt_training_args = TrainingArguments(\n",
    "    output_dir = \"../model_predictions\",\n",
    "    do_predict = True\n",
    ")\n",
    "\n",
    "bt_trainer = Trainer(\n",
    "    model           = bt_model,\n",
    "    args            = bt_training_args,\n",
    "    compute_metrics = compute_metrics,\n",
    ")\n",
    "\n",
    "bt_train_preds = bt_trainer.predict(train_set_dataset, metric_key_prefix='train')"
   ]
  },
  {
   "cell_type": "code",
   "execution_count": 24,
   "id": "5d281781-fabe-4ca4-91ec-f40ffa18af99",
   "metadata": {},
   "outputs": [
    {
     "data": {
      "text/html": [
       "<div>\n",
       "<style scoped>\n",
       "    .dataframe tbody tr th:only-of-type {\n",
       "        vertical-align: middle;\n",
       "    }\n",
       "\n",
       "    .dataframe tbody tr th {\n",
       "        vertical-align: top;\n",
       "    }\n",
       "\n",
       "    .dataframe thead th {\n",
       "        text-align: right;\n",
       "    }\n",
       "</style>\n",
       "<table border=\"1\" class=\"dataframe\">\n",
       "  <thead>\n",
       "    <tr style=\"text-align: right;\">\n",
       "      <th></th>\n",
       "      <th>train_loss</th>\n",
       "      <th>train_f1</th>\n",
       "      <th>train_precision</th>\n",
       "      <th>train_recall</th>\n",
       "      <th>train_accuracy</th>\n",
       "      <th>train_runtime</th>\n",
       "      <th>train_samples_per_second</th>\n",
       "      <th>train_steps_per_second</th>\n",
       "    </tr>\n",
       "  </thead>\n",
       "  <tbody>\n",
       "    <tr>\n",
       "      <th>0</th>\n",
       "      <td>0.624887</td>\n",
       "      <td>0.808889</td>\n",
       "      <td>0.808889</td>\n",
       "      <td>0.808889</td>\n",
       "      <td>0.808889</td>\n",
       "      <td>58.2964</td>\n",
       "      <td>3.86</td>\n",
       "      <td>0.497</td>\n",
       "    </tr>\n",
       "  </tbody>\n",
       "</table>\n",
       "</div>"
      ],
      "text/plain": [
       "   train_loss  train_f1  train_precision  train_recall  train_accuracy  \\\n",
       "0    0.624887  0.808889         0.808889      0.808889        0.808889   \n",
       "\n",
       "   train_runtime  train_samples_per_second  train_steps_per_second  \n",
       "0        58.2964                      3.86                   0.497  "
      ]
     },
     "execution_count": 24,
     "metadata": {},
     "output_type": "execute_result"
    }
   ],
   "source": [
    "pd.DataFrame([bt_train_preds[-1]])"
   ]
  },
  {
   "cell_type": "markdown",
   "id": "9b8e13a5-9b52-4a65-8723-c6637cc8f012",
   "metadata": {},
   "source": [
    "**Validation set (Note: The model was never exposed to these tweets!)**"
   ]
  },
  {
   "cell_type": "code",
   "execution_count": 21,
   "id": "97e61413-0f21-4588-a781-2a2dbaa525de",
   "metadata": {},
   "outputs": [
    {
     "data": {
      "text/html": [
       "<div>\n",
       "<style scoped>\n",
       "    .dataframe tbody tr th:only-of-type {\n",
       "        vertical-align: middle;\n",
       "    }\n",
       "\n",
       "    .dataframe tbody tr th {\n",
       "        vertical-align: top;\n",
       "    }\n",
       "\n",
       "    .dataframe thead th {\n",
       "        text-align: right;\n",
       "    }\n",
       "</style>\n",
       "<table border=\"1\" class=\"dataframe\">\n",
       "  <thead>\n",
       "    <tr style=\"text-align: right;\">\n",
       "      <th></th>\n",
       "      <th>validation_loss</th>\n",
       "      <th>validation_f1</th>\n",
       "      <th>validation_precision</th>\n",
       "      <th>validation_recall</th>\n",
       "      <th>validation_accuracy</th>\n",
       "      <th>validation_runtime</th>\n",
       "      <th>validation_samples_per_second</th>\n",
       "      <th>validation_steps_per_second</th>\n",
       "    </tr>\n",
       "  </thead>\n",
       "  <tbody>\n",
       "    <tr>\n",
       "      <th>0</th>\n",
       "      <td>0.58261</td>\n",
       "      <td>0.802632</td>\n",
       "      <td>0.802632</td>\n",
       "      <td>0.802632</td>\n",
       "      <td>0.802632</td>\n",
       "      <td>20.3704</td>\n",
       "      <td>3.731</td>\n",
       "      <td>0.491</td>\n",
       "    </tr>\n",
       "  </tbody>\n",
       "</table>\n",
       "</div>"
      ],
      "text/plain": [
       "   validation_loss  validation_f1  validation_precision  validation_recall  \\\n",
       "0          0.58261       0.802632              0.802632           0.802632   \n",
       "\n",
       "   validation_accuracy  validation_runtime  validation_samples_per_second  \\\n",
       "0             0.802632             20.3704                          3.731   \n",
       "\n",
       "   validation_steps_per_second  \n",
       "0                        0.491  "
      ]
     },
     "execution_count": 21,
     "metadata": {},
     "output_type": "execute_result"
    }
   ],
   "source": [
    "bt_val_preds = bt_trainer.predict(val_set_dataset, metric_key_prefix='validation')\n",
    "pd.DataFrame([bt_val_preds[-1]])"
   ]
  },
  {
   "cell_type": "markdown",
   "id": "d73ac3cb-ceef-4d13-9b5b-5f24be574e85",
   "metadata": {},
   "source": [
    "Comparing the pretrained BerTweet to the M-BERT model (ADD LINK), we see that it already starts out predicting our the training and validation sets better than the M-Bert was able to achieve even after training (above metrics around 65%). This indicates that our decision to finetune a pretrained model closer to the problem domain (Twitter tweets) was beneficial despite the model being monolingual (again, this is also helped by the fact that the tweets on Nigerian ISPs were pretty much in English).\n",
    "\n",
    "\n",
    "The model does great right out of the box. Can we do even better by fine-tuning?"
   ]
  },
  {
   "cell_type": "markdown",
   "id": "9e58303f-6559-436e-aa12-4c5769c6eff5",
   "metadata": {},
   "source": [
    "### c. Fine-tuning pretrained BERTweet using Huggingface Trainer"
   ]
  },
  {
   "cell_type": "markdown",
   "id": "7a9e6caf-eb91-4e6d-8fba-6720ad0636df",
   "metadata": {
    "tags": []
   },
   "source": [
    "### 5(i) Baseline BerTweet\n",
    "`Default Huggingface training configuration`"
   ]
  },
  {
   "cell_type": "code",
   "execution_count": 37,
   "id": "dd2f7749-3245-40c9-aa9c-f70759564999",
   "metadata": {},
   "outputs": [
    {
     "name": "stderr",
     "output_type": "stream",
     "text": [
      "***** Running training *****\n",
      "  Num examples = 225\n",
      "  Num Epochs = 10\n",
      "  Instantaneous batch size per device = 8\n",
      "  Total train batch size (w. parallel, distributed & accumulation) = 8\n",
      "  Gradient Accumulation steps = 1\n",
      "  Total optimization steps = 290\n"
     ]
    },
    {
     "data": {
      "text/html": [
       "\n",
       "    <div>\n",
       "      \n",
       "      <progress value='290' max='290' style='width:300px; height:20px; vertical-align: middle;'></progress>\n",
       "      [290/290 48:06, Epoch 10/10]\n",
       "    </div>\n",
       "    <table border=\"1\" class=\"dataframe\">\n",
       "  <thead>\n",
       "    <tr style=\"text-align: left;\">\n",
       "      <th>Epoch</th>\n",
       "      <th>Training Loss</th>\n",
       "      <th>Validation Loss</th>\n",
       "      <th>F1</th>\n",
       "      <th>Precision</th>\n",
       "      <th>Recall</th>\n",
       "      <th>Accuracy</th>\n",
       "    </tr>\n",
       "  </thead>\n",
       "  <tbody>\n",
       "    <tr>\n",
       "      <td>1</td>\n",
       "      <td>0.757500</td>\n",
       "      <td>0.630531</td>\n",
       "      <td>0.715362</td>\n",
       "      <td>0.769373</td>\n",
       "      <td>0.683463</td>\n",
       "      <td>0.776316</td>\n",
       "    </tr>\n",
       "    <tr>\n",
       "      <td>2</td>\n",
       "      <td>0.279200</td>\n",
       "      <td>0.956919</td>\n",
       "      <td>0.739035</td>\n",
       "      <td>0.859585</td>\n",
       "      <td>0.686621</td>\n",
       "      <td>0.789474</td>\n",
       "    </tr>\n",
       "    <tr>\n",
       "      <td>3</td>\n",
       "      <td>0.148500</td>\n",
       "      <td>1.061731</td>\n",
       "      <td>0.700635</td>\n",
       "      <td>0.766667</td>\n",
       "      <td>0.666523</td>\n",
       "      <td>0.763158</td>\n",
       "    </tr>\n",
       "    <tr>\n",
       "      <td>4</td>\n",
       "      <td>0.076100</td>\n",
       "      <td>0.983990</td>\n",
       "      <td>0.751526</td>\n",
       "      <td>0.857500</td>\n",
       "      <td>0.703560</td>\n",
       "      <td>0.802632</td>\n",
       "    </tr>\n",
       "    <tr>\n",
       "      <td>5</td>\n",
       "      <td>0.039000</td>\n",
       "      <td>0.953094</td>\n",
       "      <td>0.821995</td>\n",
       "      <td>0.836490</td>\n",
       "      <td>0.814671</td>\n",
       "      <td>0.828947</td>\n",
       "    </tr>\n",
       "    <tr>\n",
       "      <td>6</td>\n",
       "      <td>0.026400</td>\n",
       "      <td>0.902199</td>\n",
       "      <td>0.798151</td>\n",
       "      <td>0.789947</td>\n",
       "      <td>0.811513</td>\n",
       "      <td>0.815789</td>\n",
       "    </tr>\n",
       "    <tr>\n",
       "      <td>7</td>\n",
       "      <td>0.006800</td>\n",
       "      <td>0.810084</td>\n",
       "      <td>0.829649</td>\n",
       "      <td>0.819307</td>\n",
       "      <td>0.843956</td>\n",
       "      <td>0.855263</td>\n",
       "    </tr>\n",
       "    <tr>\n",
       "      <td>8</td>\n",
       "      <td>0.002700</td>\n",
       "      <td>0.869829</td>\n",
       "      <td>0.818799</td>\n",
       "      <td>0.811243</td>\n",
       "      <td>0.831611</td>\n",
       "      <td>0.842105</td>\n",
       "    </tr>\n",
       "    <tr>\n",
       "      <td>9</td>\n",
       "      <td>0.002400</td>\n",
       "      <td>0.901564</td>\n",
       "      <td>0.807721</td>\n",
       "      <td>0.803313</td>\n",
       "      <td>0.819265</td>\n",
       "      <td>0.828947</td>\n",
       "    </tr>\n",
       "    <tr>\n",
       "      <td>10</td>\n",
       "      <td>0.002200</td>\n",
       "      <td>0.910789</td>\n",
       "      <td>0.807721</td>\n",
       "      <td>0.803313</td>\n",
       "      <td>0.819265</td>\n",
       "      <td>0.828947</td>\n",
       "    </tr>\n",
       "  </tbody>\n",
       "</table><p>"
      ],
      "text/plain": [
       "<IPython.core.display.HTML object>"
      ]
     },
     "metadata": {},
     "output_type": "display_data"
    },
    {
     "name": "stderr",
     "output_type": "stream",
     "text": [
      "***** Running Evaluation *****\n",
      "  Num examples = 76\n",
      "  Batch size = 8\n",
      "Saving model checkpoint to ../models/bertweet/baseline-bertweet/checkpoint-29\n",
      "Configuration saved in ../models/bertweet/baseline-bertweet/checkpoint-29/config.json\n",
      "Model weights saved in ../models/bertweet/baseline-bertweet/checkpoint-29/pytorch_model.bin\n",
      "***** Running Evaluation *****\n",
      "  Num examples = 76\n",
      "  Batch size = 8\n",
      "Saving model checkpoint to ../models/bertweet/baseline-bertweet/checkpoint-58\n",
      "Configuration saved in ../models/bertweet/baseline-bertweet/checkpoint-58/config.json\n",
      "Model weights saved in ../models/bertweet/baseline-bertweet/checkpoint-58/pytorch_model.bin\n",
      "***** Running Evaluation *****\n",
      "  Num examples = 76\n",
      "  Batch size = 8\n",
      "Saving model checkpoint to ../models/bertweet/baseline-bertweet/checkpoint-87\n",
      "Configuration saved in ../models/bertweet/baseline-bertweet/checkpoint-87/config.json\n",
      "Model weights saved in ../models/bertweet/baseline-bertweet/checkpoint-87/pytorch_model.bin\n",
      "***** Running Evaluation *****\n",
      "  Num examples = 76\n",
      "  Batch size = 8\n",
      "Saving model checkpoint to ../models/bertweet/baseline-bertweet/checkpoint-116\n",
      "Configuration saved in ../models/bertweet/baseline-bertweet/checkpoint-116/config.json\n",
      "Model weights saved in ../models/bertweet/baseline-bertweet/checkpoint-116/pytorch_model.bin\n",
      "***** Running Evaluation *****\n",
      "  Num examples = 76\n",
      "  Batch size = 8\n",
      "Saving model checkpoint to ../models/bertweet/baseline-bertweet/checkpoint-145\n",
      "Configuration saved in ../models/bertweet/baseline-bertweet/checkpoint-145/config.json\n",
      "Model weights saved in ../models/bertweet/baseline-bertweet/checkpoint-145/pytorch_model.bin\n",
      "***** Running Evaluation *****\n",
      "  Num examples = 76\n",
      "  Batch size = 8\n",
      "Saving model checkpoint to ../models/bertweet/baseline-bertweet/checkpoint-174\n",
      "Configuration saved in ../models/bertweet/baseline-bertweet/checkpoint-174/config.json\n",
      "Model weights saved in ../models/bertweet/baseline-bertweet/checkpoint-174/pytorch_model.bin\n",
      "***** Running Evaluation *****\n",
      "  Num examples = 76\n",
      "  Batch size = 8\n",
      "Saving model checkpoint to ../models/bertweet/baseline-bertweet/checkpoint-203\n",
      "Configuration saved in ../models/bertweet/baseline-bertweet/checkpoint-203/config.json\n",
      "Model weights saved in ../models/bertweet/baseline-bertweet/checkpoint-203/pytorch_model.bin\n",
      "***** Running Evaluation *****\n",
      "  Num examples = 76\n",
      "  Batch size = 8\n",
      "Saving model checkpoint to ../models/bertweet/baseline-bertweet/checkpoint-232\n",
      "Configuration saved in ../models/bertweet/baseline-bertweet/checkpoint-232/config.json\n",
      "Model weights saved in ../models/bertweet/baseline-bertweet/checkpoint-232/pytorch_model.bin\n",
      "***** Running Evaluation *****\n",
      "  Num examples = 76\n",
      "  Batch size = 8\n",
      "Saving model checkpoint to ../models/bertweet/baseline-bertweet/checkpoint-261\n",
      "Configuration saved in ../models/bertweet/baseline-bertweet/checkpoint-261/config.json\n",
      "Model weights saved in ../models/bertweet/baseline-bertweet/checkpoint-261/pytorch_model.bin\n",
      "***** Running Evaluation *****\n",
      "  Num examples = 76\n",
      "  Batch size = 8\n",
      "Saving model checkpoint to ../models/bertweet/baseline-bertweet/checkpoint-290\n",
      "Configuration saved in ../models/bertweet/baseline-bertweet/checkpoint-290/config.json\n",
      "Model weights saved in ../models/bertweet/baseline-bertweet/checkpoint-290/pytorch_model.bin\n",
      "\n",
      "\n",
      "Training completed. Do not forget to share your model on huggingface.co/models =)\n",
      "\n",
      "\n"
     ]
    },
    {
     "data": {
      "text/plain": [
       "TrainOutput(global_step=290, training_loss=0.1340926980150157, metrics={'train_runtime': 2896.1579, 'train_samples_per_second': 0.777, 'train_steps_per_second': 0.1, 'total_flos': 233111131200000.0, 'train_loss': 0.1340926980150157, 'epoch': 10.0})"
      ]
     },
     "execution_count": 37,
     "metadata": {},
     "output_type": "execute_result"
    }
   ],
   "source": [
    "#Load the model\n",
    "bbt_model = AutoModelForSequenceClassification.from_pretrained(\"finiteautomata/bertweet-base-sentiment-analysis\")\n",
    "\n",
    "#Define the training parameters\n",
    "bbt_training_args = TrainingArguments(\n",
    "    output_dir                  = \"../models/bertweet/baseline-bertweet\",\n",
    "    num_train_epochs            = 10,\n",
    "    save_strategy               = \"epoch\",\n",
    "    logging_strategy            = \"epoch\",\n",
    "    evaluation_strategy         = \"epoch\"\n",
    ")\n",
    "\n",
    "#Define Trainer object\n",
    "bbt_trainer = Trainer(\n",
    "    model           = bbt_model,\n",
    "    args            = bbt_training_args,\n",
    "    train_dataset   = train_set_dataset,\n",
    "    eval_dataset    = val_set_dataset,\n",
    "    compute_metrics = compute_metrics\n",
    ")\n",
    "\n",
    "bbt_trainer.train()"
   ]
  },
  {
   "cell_type": "markdown",
   "id": "308e3aad-7861-4198-a128-08d421727336",
   "metadata": {},
   "source": [
    "#### • Plot train and validation metrics"
   ]
  },
  {
   "cell_type": "code",
   "execution_count": 38,
   "id": "4a353d13-09da-4429-b21b-28a7bb71b0c0",
   "metadata": {},
   "outputs": [],
   "source": [
    "#Get the baseline bertweet's training logs\n",
    "bbt_history = pd.DataFrame(bbt_trainer.state.log_history)\n",
    "bbt_history.to_csv(\"../models/logs/baseline_bertweet_logs.csv\",index=False)\n",
    "bbt_history = bbt_history.fillna(method='bfill', limit=1).drop_duplicates(subset=['epoch','eval_loss'])"
   ]
  },
  {
   "cell_type": "code",
   "execution_count": 47,
   "id": "9e4734de-9ddb-4046-835e-9a7ddc4b1e32",
   "metadata": {},
   "outputs": [
    {
     "data": {
      "image/png": "[encoded data removed]",
      "text/plain": [
       "<Figure size 1080x648 with 6 Axes>"
      ]
     },
     "metadata": {
      "needs_background": "light"
     },
     "output_type": "display_data"
    }
   ],
   "source": [
    "plt.figure(figsize=(15,9))\n",
    "plt.tight_layout()\n",
    "\n",
    "metrics = ['eval_loss','eval_f1','eval_precision','eval_recall','eval_accuracy','eval_runtime']\n",
    "\n",
    "for idx, metric in enumerate(metrics):\n",
    "    with plt.style.context(['grid']):\n",
    "        ax = plt.subplot(2,3,idx+1).plot(bbt_history['epoch'],\n",
    "                                    bbt_history[metric],\n",
    "                                    label='validation')\n",
    "\n",
    "        #Also plot training loss when plotting validation loss\n",
    "        if metric == 'eval_loss':\n",
    "            ax = plt.subplot(2,3,idx+1).plot(bbt_history['epoch'],\n",
    "                                             bbt_history['loss'],\n",
    "                                             color = ax[0].get_color(),\n",
    "                                             linestyle= \"--\",\n",
    "                                             label='training')\n",
    "\n",
    "\n",
    "\n",
    "        plt.xlabel('Epoch')\n",
    "        plt.ylabel(metric.replace('eval_','').capitalize())\n",
    "        plt.legend()"
   ]
  },
  {
   "cell_type": "markdown",
   "id": "f436fc42-bc46-4d4b-8950-bc81d22073a1",
   "metadata": {},
   "source": [
    "#### • Validation Results Discussion\n",
    "\n",
    "Comparing the baseline BerTweet to the M-BERT model (ADD LINK), we see that it already starts out predicting our samples better (metrics around 69%) than the M-Bert was able to achieve even after training (above metrics around 65%). This confirms that our decision to finetune a pretrained model closer to the problem domain (Twitter tweets) was beneficial despite the model being monolingual (again, this is also helped by the fact that the tweets on Nigerian ISPs were pretty much in English).\n",
    "\n",
    "The best model, corresponding to that from epoch 7 (**checkpoint-203**) had the following validation set results:\n",
    "\n",
    "- **Validation Loss:** 0.810084\n",
    "- **F1:** 0.829649\n",
    "- **Precision:** 0.819307\n",
    "- **Recall:** 0.843956\n",
    "- **Accuracy:** 0.855263\n",
    "\n",
    "The validation loss not really dropping while the training loss does might indicate that the model is overfitting the data. We contrast both the training and validation performanc below and also plot a confusion matrix and classification report to get more context into the model's performance:"
   ]
  },
  {
   "cell_type": "markdown",
   "id": "dfc2cffe-66ef-4539-837f-18cc64124a68",
   "metadata": {},
   "source": [
    "#### • [TRAIN] Evaluating training set performance – baseline BERTweet"
   ]
  },
  {
   "cell_type": "code",
   "execution_count": 48,
   "id": "a7be3fd3-48b4-4bc1-8e86-f3b1ea60be56",
   "metadata": {},
   "outputs": [
    {
     "name": "stderr",
     "output_type": "stream",
     "text": [
      "loading configuration file ../models/bertweet/baseline-bertweet/checkpoint-203/config.json\n",
      "Model config RobertaConfig {\n",
      "  \"_name_or_path\": \"finiteautomata/bertweet-base-sentiment-analysis\",\n",
      "  \"architectures\": [\n",
      "    \"RobertaForSequenceClassification\"\n",
      "  ],\n",
      "  \"attention_probs_dropout_prob\": 0.1,\n",
      "  \"bos_token_id\": 0,\n",
      "  \"eos_token_id\": 2,\n",
      "  \"gradient_checkpointing\": false,\n",
      "  \"hidden_act\": \"gelu\",\n",
      "  \"hidden_dropout_prob\": 0.1,\n",
      "  \"hidden_size\": 768,\n",
      "  \"id2label\": {\n",
      "    \"0\": \"NEG\",\n",
      "    \"1\": \"NEU\",\n",
      "    \"2\": \"POS\"\n",
      "  },\n",
      "  \"initializer_range\": 0.02,\n",
      "  \"intermediate_size\": 3072,\n",
      "  \"label2id\": {\n",
      "    \"NEG\": 0,\n",
      "    \"NEU\": 1,\n",
      "    \"POS\": 2\n",
      "  },\n",
      "  \"layer_norm_eps\": 1e-05,\n",
      "  \"max_position_embeddings\": 130,\n",
      "  \"model_type\": \"roberta\",\n",
      "  \"num_attention_heads\": 12,\n",
      "  \"num_hidden_layers\": 12,\n",
      "  \"pad_token_id\": 1,\n",
      "  \"position_embedding_type\": \"absolute\",\n",
      "  \"problem_type\": \"single_label_classification\",\n",
      "  \"tokenizer_class\": \"BertweetTokenizer\",\n",
      "  \"transformers_version\": \"4.8.0\",\n",
      "  \"type_vocab_size\": 1,\n",
      "  \"use_cache\": true,\n",
      "  \"vocab_size\": 64001\n",
      "}\n",
      "\n",
      "loading weights file ../models/bertweet/baseline-bertweet/checkpoint-203/pytorch_model.bin\n",
      "All model checkpoint weights were used when initializing RobertaForSequenceClassification.\n",
      "\n",
      "All the weights of RobertaForSequenceClassification were initialized from the model checkpoint at ../models/bertweet/baseline-bertweet/checkpoint-203.\n",
      "If your task is similar to the task the model of the checkpoint was trained on, you can already use RobertaForSequenceClassification for predictions without further training.\n",
      "PyTorch: setting up devices\n",
      "The default value for the training argument `--report_to` will change in v5 (from all installed integrations to none). In v5, you will need to use `--report_to all` to get the same behavior as now. You should start updating your code and make this info disappear :-).\n",
      "***** Running Prediction *****\n",
      "  Num examples = 225\n",
      "  Batch size = 8\n"
     ]
    },
    {
     "data": {
      "text/html": [
       "\n",
       "    <div>\n",
       "      \n",
       "      <progress value='39' max='29' style='width:300px; height:20px; vertical-align: middle;'></progress>\n",
       "      [29/29 01:15]\n",
       "    </div>\n",
       "    "
      ],
      "text/plain": [
       "<IPython.core.display.HTML object>"
      ]
     },
     "metadata": {},
     "output_type": "display_data"
    }
   ],
   "source": [
    "#Load the best baseline bertweet model\n",
    "bbt_model = AutoModelForSequenceClassification.from_pretrained(\"../models/bertweet/baseline-bertweet/checkpoint-203\")\n",
    "\n",
    "bbt_training_args = TrainingArguments(\n",
    "    output_dir = \"../model_predictions\",\n",
    "    do_predict = True\n",
    ")\n",
    "\n",
    "bbt_trainer = Trainer(\n",
    "    model           = bbt_model,\n",
    "    args            = bbt_training_args,\n",
    "    compute_metrics = compute_metrics,\n",
    ")\n",
    "\n",
    "\n",
    "bbt_train = bbt_trainer.predict(train_set_dataset, metric_key_prefix= 'train')"
   ]
  },
  {
   "cell_type": "code",
   "execution_count": 49,
   "id": "b707a5fb-3dc8-49c1-bb99-7435e9028d06",
   "metadata": {},
   "outputs": [
    {
     "data": {
      "text/html": [
       "<div>\n",
       "<style scoped>\n",
       "    .dataframe tbody tr th:only-of-type {\n",
       "        vertical-align: middle;\n",
       "    }\n",
       "\n",
       "    .dataframe tbody tr th {\n",
       "        vertical-align: top;\n",
       "    }\n",
       "\n",
       "    .dataframe thead th {\n",
       "        text-align: right;\n",
       "    }\n",
       "</style>\n",
       "<table border=\"1\" class=\"dataframe\">\n",
       "  <thead>\n",
       "    <tr style=\"text-align: right;\">\n",
       "      <th></th>\n",
       "      <th>train_loss</th>\n",
       "      <th>train_f1</th>\n",
       "      <th>train_precision</th>\n",
       "      <th>train_recall</th>\n",
       "      <th>train_accuracy</th>\n",
       "      <th>train_runtime</th>\n",
       "      <th>train_samples_per_second</th>\n",
       "      <th>train_steps_per_second</th>\n",
       "    </tr>\n",
       "  </thead>\n",
       "  <tbody>\n",
       "    <tr>\n",
       "      <th>0</th>\n",
       "      <td>0.001986</td>\n",
       "      <td>1.0</td>\n",
       "      <td>1.0</td>\n",
       "      <td>1.0</td>\n",
       "      <td>1.0</td>\n",
       "      <td>58.3605</td>\n",
       "      <td>3.855</td>\n",
       "      <td>0.497</td>\n",
       "    </tr>\n",
       "  </tbody>\n",
       "</table>\n",
       "</div>"
      ],
      "text/plain": [
       "   train_loss  train_f1  train_precision  train_recall  train_accuracy  \\\n",
       "0    0.001986       1.0              1.0           1.0             1.0   \n",
       "\n",
       "   train_runtime  train_samples_per_second  train_steps_per_second  \n",
       "0        58.3605                     3.855                   0.497  "
      ]
     },
     "execution_count": 49,
     "metadata": {},
     "output_type": "execute_result"
    }
   ],
   "source": [
    "pd.DataFrame([bbt_train[-1]])"
   ]
  },
  {
   "cell_type": "markdown",
   "id": "9e352eea-e1c9-4174-b58c-ee99eb45b990",
   "metadata": {},
   "source": [
    "#### • [VALIDATION] Evaluating validation set performance – baseline BERTweet"
   ]
  },
  {
   "cell_type": "code",
   "execution_count": 50,
   "id": "fc4d8257-f037-43ae-a9ed-7147467adbbc",
   "metadata": {},
   "outputs": [
    {
     "name": "stderr",
     "output_type": "stream",
     "text": [
      "***** Running Prediction *****\n",
      "  Num examples = 76\n",
      "  Batch size = 8\n"
     ]
    }
   ],
   "source": [
    "bbt_validation = bbt_trainer.predict(val_set_dataset)"
   ]
  },
  {
   "cell_type": "code",
   "execution_count": 51,
   "id": "99c6a51f-6cf1-4009-ab51-ab8643e1466c",
   "metadata": {},
   "outputs": [
    {
     "data": {
      "text/html": [
       "<div>\n",
       "<style scoped>\n",
       "    .dataframe tbody tr th:only-of-type {\n",
       "        vertical-align: middle;\n",
       "    }\n",
       "\n",
       "    .dataframe tbody tr th {\n",
       "        vertical-align: top;\n",
       "    }\n",
       "\n",
       "    .dataframe thead th {\n",
       "        text-align: right;\n",
       "    }\n",
       "</style>\n",
       "<table border=\"1\" class=\"dataframe\">\n",
       "  <thead>\n",
       "    <tr style=\"text-align: right;\">\n",
       "      <th></th>\n",
       "      <th>test_loss</th>\n",
       "      <th>test_f1</th>\n",
       "      <th>test_precision</th>\n",
       "      <th>test_recall</th>\n",
       "      <th>test_accuracy</th>\n",
       "      <th>test_runtime</th>\n",
       "      <th>test_samples_per_second</th>\n",
       "      <th>test_steps_per_second</th>\n",
       "    </tr>\n",
       "  </thead>\n",
       "  <tbody>\n",
       "    <tr>\n",
       "      <th>0</th>\n",
       "      <td>0.810084</td>\n",
       "      <td>0.829649</td>\n",
       "      <td>0.819307</td>\n",
       "      <td>0.843956</td>\n",
       "      <td>0.855263</td>\n",
       "      <td>19.328</td>\n",
       "      <td>3.932</td>\n",
       "      <td>0.517</td>\n",
       "    </tr>\n",
       "  </tbody>\n",
       "</table>\n",
       "</div>"
      ],
      "text/plain": [
       "   test_loss   test_f1  test_precision  test_recall  test_accuracy  \\\n",
       "0   0.810084  0.829649        0.819307     0.843956       0.855263   \n",
       "\n",
       "   test_runtime  test_samples_per_second  test_steps_per_second  \n",
       "0        19.328                    3.932                  0.517  "
      ]
     },
     "execution_count": 51,
     "metadata": {},
     "output_type": "execute_result"
    }
   ],
   "source": [
    "pd.DataFrame([bbt_validation[-1]])"
   ]
  },
  {
   "cell_type": "code",
   "execution_count": 52,
   "id": "46799270-aa13-41e2-b34a-fc3435bb4a53",
   "metadata": {},
   "outputs": [
    {
     "name": "stdout",
     "output_type": "stream",
     "text": [
      "              precision    recall  f1-score   support\n",
      "\n",
      "           0       0.86      0.88      0.87        43\n",
      "           1       0.88      0.81      0.85        27\n",
      "           2       0.71      0.83      0.77         6\n",
      "\n",
      "    accuracy                           0.86        76\n",
      "   macro avg       0.82      0.84      0.83        76\n",
      "weighted avg       0.86      0.86      0.86        76\n",
      "\n"
     ]
    }
   ],
   "source": [
    "y_true_val = df.query(\"split_group == 'validation_set' \").label.tolist()\n",
    "bbt_val_preds = np.argmax(bbt_validation[0], axis=1).flatten()\n",
    "\n",
    "print(classification_report(y_true_val, bbt_val_preds))"
   ]
  },
  {
   "cell_type": "code",
   "execution_count": 54,
   "id": "b97aea33-ec4b-4172-8852-bf2105b9f2a5",
   "metadata": {},
   "outputs": [
    {
     "data": {
      "image/png": "[encoded data removed]",
      "text/plain": [
       "<Figure size 576x432 with 2 Axes>"
      ]
     },
     "metadata": {
      "needs_background": "light"
     },
     "output_type": "display_data"
    }
   ],
   "source": [
    "#Generate the confusion matrix\n",
    "bbt_cm = confusion_matrix(y_true_val, bbt_val_preds)\n",
    "bbt_disp = ConfusionMatrixDisplay(confusion_matrix=bbt_cm, display_labels = ['Negative', 'Neutral', 'Positive'])\n",
    "\n",
    "#Plot the confusion matrix\n",
    "with plt.style.context(['notebook','no-latex']):\n",
    "    bbt_disp.plot(cmap='Blues',ax=None)\n",
    "    plt.grid(False)\n",
    "    plt.show()"
   ]
  },
  {
   "cell_type": "markdown",
   "id": "428934ea-3c74-4ce7-9d4f-48f17955faca",
   "metadata": {},
   "source": [
    "#### • View misclassified tweets"
   ]
  },
  {
   "cell_type": "code",
   "execution_count": 56,
   "id": "9260b486-5574-4b29-9452-e7c4964fc893",
   "metadata": {},
   "outputs": [
    {
     "name": "stderr",
     "output_type": "stream",
     "text": [
      "/Users/koredeakande/opt/anaconda3/envs/capstone/lib/python3.7/site-packages/ipykernel_launcher.py:2: SettingWithCopyWarning: \n",
      "A value is trying to be set on a copy of a slice from a DataFrame.\n",
      "Try using .loc[row_indexer,col_indexer] = value instead\n",
      "\n",
      "See the caveats in the documentation: https://pandas.pydata.org/pandas-docs/stable/user_guide/indexing.html#returning-a-view-versus-a-copy\n",
      "  \n"
     ]
    },
    {
     "data": {
      "text/html": [
       "<div>\n",
       "<style scoped>\n",
       "    .dataframe tbody tr th:only-of-type {\n",
       "        vertical-align: middle;\n",
       "    }\n",
       "\n",
       "    .dataframe tbody tr th {\n",
       "        vertical-align: top;\n",
       "    }\n",
       "\n",
       "    .dataframe thead th {\n",
       "        text-align: right;\n",
       "    }\n",
       "</style>\n",
       "<table border=\"1\" class=\"dataframe\">\n",
       "  <thead>\n",
       "    <tr style=\"text-align: right;\">\n",
       "      <th></th>\n",
       "      <th>Text</th>\n",
       "      <th>sentiment</th>\n",
       "      <th>model_preds</th>\n",
       "    </tr>\n",
       "  </thead>\n",
       "  <tbody>\n",
       "    <tr>\n",
       "      <th>61</th>\n",
       "      <td>oluwadamilolaog femi_martinsog you are cheating on your darling spectranet again.</td>\n",
       "      <td>Neutral</td>\n",
       "      <td>Negative</td>\n",
       "    </tr>\n",
       "    <tr>\n",
       "      <th>78</th>\n",
       "      <td>spectranet expecting me to subscribe without sending double data offer. jokers i want double data plus rollover so till then we wait.</td>\n",
       "      <td>Neutral</td>\n",
       "      <td>Negative</td>\n",
       "    </tr>\n",
       "    <tr>\n",
       "      <th>94</th>\n",
       "      <td>the_cocoreidh spectranet. for optimized speed tests, i get like 200ms ping</td>\n",
       "      <td>Neutral</td>\n",
       "      <td>Negative</td>\n",
       "    </tr>\n",
       "    <tr>\n",
       "      <th>108</th>\n",
       "      <td>chenaonuorah please don't buy spectranet ... i beg you in the name of god!</td>\n",
       "      <td>Negative</td>\n",
       "      <td>Positive</td>\n",
       "    </tr>\n",
       "    <tr>\n",
       "      <th>113</th>\n",
       "      <td>iyawothickabody one time spectranet called, i refused to pick because i didn't have money to subscribe so i just ignored it like 4 times. the fifth time, true caller showed union bank, i picked thinking i have passed interview o only to hear 'your spectranet...😂😂😂 they got me😂</td>\n",
       "      <td>Neutral</td>\n",
       "      <td>Negative</td>\n",
       "    </tr>\n",
       "    <tr>\n",
       "      <th>155</th>\n",
       "      <td>trying to enjoy my movie but tizeti out here like</td>\n",
       "      <td>Negative</td>\n",
       "      <td>Positive</td>\n",
       "    </tr>\n",
       "    <tr>\n",
       "      <th>222</th>\n",
       "      <td>specy spectranet_ng warris all dis na! la ta aro!</td>\n",
       "      <td>Negative</td>\n",
       "      <td>Neutral</td>\n",
       "    </tr>\n",
       "    <tr>\n",
       "      <th>261</th>\n",
       "      <td>na gprs una dey run me no lie spectranet_ng</td>\n",
       "      <td>Negative</td>\n",
       "      <td>Neutral</td>\n",
       "    </tr>\n",
       "    <tr>\n",
       "      <th>348</th>\n",
       "      <td>is there any internet service provider in nigeria that offers unlimited data for a month with no cap ? asides tizeti please</td>\n",
       "      <td>Negative</td>\n",
       "      <td>Neutral</td>\n",
       "    </tr>\n",
       "    <tr>\n",
       "      <th>360</th>\n",
       "      <td>funmiistic tizeti internet service provider.</td>\n",
       "      <td>Neutral</td>\n",
       "      <td>Negative</td>\n",
       "    </tr>\n",
       "    <tr>\n",
       "      <th>372</th>\n",
       "      <td>spectranet unlimited. value for money</td>\n",
       "      <td>Positive</td>\n",
       "      <td>Negative</td>\n",
       "    </tr>\n",
       "  </tbody>\n",
       "</table>\n",
       "</div>"
      ],
      "text/plain": [
       "                                                                                                                                                                                                                                                                                      Text  \\\n",
       "61                                                                                                                                                                                                       oluwadamilolaog femi_martinsog you are cheating on your darling spectranet again.   \n",
       "78                                                                                                                                                   spectranet expecting me to subscribe without sending double data offer. jokers i want double data plus rollover so till then we wait.   \n",
       "94                                                                                                                                                                                                              the_cocoreidh spectranet. for optimized speed tests, i get like 200ms ping   \n",
       "108                                                                                                                                                                                                             chenaonuorah please don't buy spectranet ... i beg you in the name of god!   \n",
       "113  iyawothickabody one time spectranet called, i refused to pick because i didn't have money to subscribe so i just ignored it like 4 times. the fifth time, true caller showed union bank, i picked thinking i have passed interview o only to hear 'your spectranet...😂😂😂 they got me😂   \n",
       "155                                                                                                                                                                                                                                      trying to enjoy my movie but tizeti out here like   \n",
       "222                                                                                                                                                                                                                                      specy spectranet_ng warris all dis na! la ta aro!   \n",
       "261                                                                                                                                                                                                                                            na gprs una dey run me no lie spectranet_ng   \n",
       "348                                                                                                                                                            is there any internet service provider in nigeria that offers unlimited data for a month with no cap ? asides tizeti please   \n",
       "360                                                                                                                                                                                                                                           funmiistic tizeti internet service provider.   \n",
       "372                                                                                                                                                                                                                                                  spectranet unlimited. value for money   \n",
       "\n",
       "    sentiment model_preds  \n",
       "61    Neutral    Negative  \n",
       "78    Neutral    Negative  \n",
       "94    Neutral    Negative  \n",
       "108  Negative    Positive  \n",
       "113   Neutral    Negative  \n",
       "155  Negative    Positive  \n",
       "222  Negative     Neutral  \n",
       "261  Negative     Neutral  \n",
       "348  Negative     Neutral  \n",
       "360   Neutral    Negative  \n",
       "372  Positive    Negative  "
      ]
     },
     "metadata": {},
     "output_type": "display_data"
    }
   ],
   "source": [
    "valid_df = df.query(\"split_group == 'validation_set' \")\n",
    "valid_df['model_preds'] = bbt_val_preds \n",
    "misclassified = valid_df[valid_df.label != valid_df.model_preds][['Text','sentiment','model_preds']]\n",
    "misclassified.model_preds = misclassified.model_preds.map({0:'Negative', 1: 'Neutral', 2: 'Positive'})\n",
    "\n",
    "with pd.option_context('display.max_colwidth', None):\n",
    "  display(misclassified)"
   ]
  },
  {
   "cell_type": "markdown",
   "id": "ab5077da-ac53-4548-86b0-f17ecf2b681e",
   "metadata": {},
   "source": [
    "- Some of the misclassified sentenes could indeed (objectively) be interpreted as the ISP predicts. But since they do not speak specifically to the ISP's performance or service but more so the actions or attitudes of the user, I classify them otherwise e.g. I'm not going to subscribe because I'm waiting for double data (as in sentence 78). Not subscribing indeed has a negative connotation but the user follows up by stating it is because they are waiting to take advantage of a promo and not necessarily because the ISP's performance is bad.\n",
    "\n",
    "- Seems to struggle to detect the negative sentiments towards the named entity e.g. Spectranet (sentence 108).\n",
    "\n",
    "- Might be struggling with the pidgin English in the tweets (see sentences 222 and 261)\n",
    "\n",
    "- Possible that since a high proportion of the tweets containing the ISPs names are negative, it automatically relates tweets with no other strongly suggestive words except the ISPs names to 'Negative' e.g. sentence 360 and 372 "
   ]
  },
  {
   "cell_type": "markdown",
   "id": "c597fae3-fa85-463e-9421-4b7316721cb4",
   "metadata": {},
   "source": [
    "#### • Conclusion"
   ]
  },
  {
   "cell_type": "markdown",
   "id": "2bec3c4e-14c8-4f96-857d-05457d794cd4",
   "metadata": {},
   "source": [
    "##### Pros\n",
    "- Does a great job predicting all the classes\n",
    "\n",
    "##### Cons\n",
    "- Has minor challenges differentiating some positive and negative tweets \n",
    "- Lowwe predictive performance on positive samples. We note however that there were very few positive samples in the validation set and it was able to recall 83% and predict 71% correctly.\n",
    "\n",
    "\n",
    "#### DID FINETUNING ACTUALLY IMPROVE THE MODEL?\n",
    "\n",
    "##### How might we improve predictive performance, especially on positive samples?\n",
    "- We note that the default batch size of 8 was used. Hence it is very possible that the model trained on numerous batches which didn't have a positive sample. We could try increasing the batch size to increase the chance of the model training on and learning positive samples\n",
    "- We could also weight positive samples higher so that the model pays more attention to them\n",
    "- Similar to the first in trying to increase the chances of training on positive samples, we could try oversampling (i.e. resampling) positive tweets."
   ]
  },
  {
   "cell_type": "markdown",
   "id": "ab028365-75dc-474a-805c-e9cf7264d72a",
   "metadata": {},
   "source": [
    "---"
   ]
  },
  {
   "cell_type": "markdown",
   "id": "0ca50280-8a8e-44ab-bf9b-b6a719cec036",
   "metadata": {},
   "source": [
    "### (ii) Modified BerTweet (v1)\n",
    "`Loss function reweighting` | `Increased batch size`"
   ]
  },
  {
   "cell_type": "code",
   "execution_count": null,
   "id": "f15729d2-5fe4-47ca-82cc-33bbf38b4c5c",
   "metadata": {},
   "outputs": [
    {
     "name": "stderr",
     "output_type": "stream",
     "text": [
      "PyTorch: setting up devices\n",
      "The default value for the training argument `--report_to` will change in v5 (from all installed integrations to none). In v5, you will need to use `--report_to all` to get the same behavior as now. You should start updating your code and make this info disappear :-).\n",
      "***** Running training *****\n",
      "  Num examples = 225\n",
      "  Num Epochs = 20\n",
      "  Instantaneous batch size per device = 32\n",
      "  Total train batch size (w. parallel, distributed & accumulation) = 32\n",
      "  Gradient Accumulation steps = 1\n",
      "  Total optimization steps = 160\n"
     ]
    },
    {
     "data": {
      "text/html": [
       "\n",
       "    <div>\n",
       "      \n",
       "      <progress value='85' max='160' style='width:300px; height:20px; vertical-align: middle;'></progress>\n",
       "      [ 85/160 45:38 < 41:14, 0.03 it/s, Epoch 10.50/20]\n",
       "    </div>\n",
       "    <table border=\"1\" class=\"dataframe\">\n",
       "  <thead>\n",
       "    <tr style=\"text-align: left;\">\n",
       "      <th>Epoch</th>\n",
       "      <th>Training Loss</th>\n",
       "      <th>Validation Loss</th>\n",
       "      <th>F1</th>\n",
       "      <th>Precision</th>\n",
       "      <th>Recall</th>\n",
       "      <th>Accuracy</th>\n",
       "    </tr>\n",
       "  </thead>\n",
       "  <tbody>\n",
       "    <tr>\n",
       "      <td>1</td>\n",
       "      <td>0.000400</td>\n",
       "      <td>2.260786</td>\n",
       "      <td>0.723356</td>\n",
       "      <td>0.859596</td>\n",
       "      <td>0.669681</td>\n",
       "      <td>0.776316</td>\n",
       "    </tr>\n",
       "    <tr>\n",
       "      <td>2</td>\n",
       "      <td>0.023500</td>\n",
       "      <td>2.052974</td>\n",
       "      <td>0.760443</td>\n",
       "      <td>0.869331</td>\n",
       "      <td>0.711312</td>\n",
       "      <td>0.815789</td>\n",
       "    </tr>\n",
       "    <tr>\n",
       "      <td>3</td>\n",
       "      <td>0.000100</td>\n",
       "      <td>1.843790</td>\n",
       "      <td>0.784629</td>\n",
       "      <td>0.882232</td>\n",
       "      <td>0.745191</td>\n",
       "      <td>0.842105</td>\n",
       "    </tr>\n",
       "    <tr>\n",
       "      <td>4</td>\n",
       "      <td>0.003200</td>\n",
       "      <td>2.182108</td>\n",
       "      <td>0.729020</td>\n",
       "      <td>0.860949</td>\n",
       "      <td>0.674275</td>\n",
       "      <td>0.776316</td>\n",
       "    </tr>\n",
       "    <tr>\n",
       "      <td>5</td>\n",
       "      <td>0.006300</td>\n",
       "      <td>1.922617</td>\n",
       "      <td>0.739035</td>\n",
       "      <td>0.859585</td>\n",
       "      <td>0.686621</td>\n",
       "      <td>0.789474</td>\n",
       "    </tr>\n",
       "    <tr>\n",
       "      <td>6</td>\n",
       "      <td>0.000100</td>\n",
       "      <td>1.797545</td>\n",
       "      <td>0.815710</td>\n",
       "      <td>0.872917</td>\n",
       "      <td>0.785243</td>\n",
       "      <td>0.828947</td>\n",
       "    </tr>\n",
       "    <tr>\n",
       "      <td>7</td>\n",
       "      <td>0.038100</td>\n",
       "      <td>1.449459</td>\n",
       "      <td>0.830435</td>\n",
       "      <td>0.902100</td>\n",
       "      <td>0.786965</td>\n",
       "      <td>0.855263</td>\n",
       "    </tr>\n",
       "    <tr>\n",
       "      <td>8</td>\n",
       "      <td>0.022900</td>\n",
       "      <td>1.432764</td>\n",
       "      <td>0.811280</td>\n",
       "      <td>0.836522</td>\n",
       "      <td>0.791559</td>\n",
       "      <td>0.855263</td>\n",
       "    </tr>\n",
       "    <tr>\n",
       "      <td>9</td>\n",
       "      <td>0.000100</td>\n",
       "      <td>1.535962</td>\n",
       "      <td>0.817028</td>\n",
       "      <td>0.875645</td>\n",
       "      <td>0.789836</td>\n",
       "      <td>0.828947</td>\n",
       "    </tr>\n",
       "    <tr>\n",
       "      <td>10</td>\n",
       "      <td>0.000300</td>\n",
       "      <td>1.357584</td>\n",
       "      <td>0.833726</td>\n",
       "      <td>0.893827</td>\n",
       "      <td>0.796153</td>\n",
       "      <td>0.855263</td>\n",
       "    </tr>\n",
       "  </tbody>\n",
       "</table><p>"
      ],
      "text/plain": [
       "<IPython.core.display.HTML object>"
      ]
     },
     "metadata": {},
     "output_type": "display_data"
    },
    {
     "name": "stderr",
     "output_type": "stream",
     "text": [
      "***** Running Evaluation *****\n",
      "  Num examples = 76\n",
      "  Batch size = 8\n",
      "***** Running Evaluation *****\n",
      "  Num examples = 76\n",
      "  Batch size = 8\n",
      "Saving model checkpoint to ../models/bertweet/loss-reweighted/checkpoint-20\n",
      "Configuration saved in ../models/bertweet/loss-reweighted/checkpoint-20/config.json\n",
      "Model weights saved in ../models/bertweet/loss-reweighted/checkpoint-20/pytorch_model.bin\n",
      "***** Running Evaluation *****\n",
      "  Num examples = 76\n",
      "  Batch size = 8\n",
      "***** Running Evaluation *****\n",
      "  Num examples = 76\n",
      "  Batch size = 8\n",
      "Saving model checkpoint to ../models/bertweet/loss-reweighted/checkpoint-40\n",
      "Configuration saved in ../models/bertweet/loss-reweighted/checkpoint-40/config.json\n",
      "Model weights saved in ../models/bertweet/loss-reweighted/checkpoint-40/pytorch_model.bin\n",
      "***** Running Evaluation *****\n",
      "  Num examples = 76\n",
      "  Batch size = 8\n",
      "***** Running Evaluation *****\n",
      "  Num examples = 76\n",
      "  Batch size = 8\n",
      "***** Running Evaluation *****\n",
      "  Num examples = 76\n",
      "  Batch size = 8\n",
      "Saving model checkpoint to ../models/bertweet/loss-reweighted/checkpoint-60\n",
      "Configuration saved in ../models/bertweet/loss-reweighted/checkpoint-60/config.json\n",
      "Model weights saved in ../models/bertweet/loss-reweighted/checkpoint-60/pytorch_model.bin\n",
      "***** Running Evaluation *****\n",
      "  Num examples = 76\n",
      "  Batch size = 8\n",
      "***** Running Evaluation *****\n",
      "  Num examples = 76\n",
      "  Batch size = 8\n",
      "Saving model checkpoint to ../models/bertweet/loss-reweighted/checkpoint-80\n",
      "Configuration saved in ../models/bertweet/loss-reweighted/checkpoint-80/config.json\n",
      "Model weights saved in ../models/bertweet/loss-reweighted/checkpoint-80/pytorch_model.bin\n",
      "***** Running Evaluation *****\n",
      "  Num examples = 76\n",
      "  Batch size = 8\n"
     ]
    }
   ],
   "source": [
    "class CustomTrainer(Trainer):\n",
    "    \n",
    "    \"\"\"\n",
    "    Class weighted trainer to account for imbalance\n",
    "    \"\"\"\n",
    "    \n",
    "    def __init__(self, no_of_classes, samples_per_cls, *args, **kwargs):\n",
    "        super().__init__(*args, **kwargs)\n",
    "        self.class_weights = self.get_ens_weights(no_of_classes, samples_per_cls)\n",
    "        \n",
    "    def get_ens_weights(self, no_of_classes,samples_per_cls,beta=0.99):\n",
    "    \n",
    "        \"\"\"\n",
    "        Compute class weights using effective number of samples strategy\n",
    "        \"\"\"\n",
    "\n",
    "        effective_num = 1.0 - np.power(beta, samples_per_cls)\n",
    "        weights = (1.0 - beta) / np.array(effective_num)\n",
    "        weights = weights / np.sum(weights) * no_of_classes\n",
    "        weights = torch.tensor(weights.astype(np.float32))\n",
    "        \n",
    "        return weights\n",
    "    \n",
    "    def compute_loss(self, model, inputs, return_outputs=False):\n",
    "        \n",
    "        labels = inputs.get(\"labels\")\n",
    "        #Forward pass\n",
    "        outputs = model(**inputs)\n",
    "        logits = outputs.get('logits')\n",
    "        #Compute custom loss\n",
    "        loss_fct = torch.nn.CrossEntropyLoss(weight= self.class_weights)\n",
    "        loss = loss_fct(logits.view(-1, self.model.config.num_labels), labels.view(-1))\n",
    "        return (loss, outputs) if return_outputs else loss\n",
    " \n",
    "\n",
    "#Define the training parameters\n",
    "lrbt_training_args = TrainingArguments(\n",
    "    output_dir                  = \"../models/bertweet/loss-reweighted\",\n",
    "    num_train_epochs            = 20,\n",
    "    per_device_train_batch_size = 32, #Increase training batch size to ensure that each batch has a decent chance of containing a few positive samples.\n",
    "    save_steps                  = 20,\n",
    "    seed                        = 123,\n",
    "    logging_strategy            = \"epoch\",\n",
    "    evaluation_strategy         = \"epoch\"\n",
    ")\n",
    "    \n",
    "  \n",
    "#Define Trainer object\n",
    "lrbt_trainer = CustomTrainer(\n",
    "    no_of_classes   = len(df.label.unique()),\n",
    "    samples_per_cls = df.label.value_counts(sort=False).to_list(),\n",
    "    model           = bt_model,\n",
    "    args            = lrbt_training_args,\n",
    "    train_dataset   = train_set_dataset,\n",
    "    eval_dataset    = val_set_dataset,\n",
    "    compute_metrics = compute_metrics\n",
    ")\n",
    "\n",
    "#Start pre-training!\n",
    "lrbt_trainer.train()"
   ]
  },
  {
   "cell_type": "code",
   "execution_count": 19,
   "id": "48eec059-e6ce-4464-bedb-bead6a70df2b",
   "metadata": {},
   "outputs": [
    {
     "name": "stderr",
     "output_type": "stream",
     "text": [
      "Loading model from ../models/bertweet/loss-reweighted/checkpoint-80).\n",
      "***** Running training *****\n",
      "  Num examples = 225\n",
      "  Num Epochs = 20\n",
      "  Instantaneous batch size per device = 32\n",
      "  Total train batch size (w. parallel, distributed & accumulation) = 32\n",
      "  Gradient Accumulation steps = 1\n",
      "  Total optimization steps = 160\n",
      "  Continuing training from checkpoint, will skip to saved global_step\n",
      "  Continuing training from epoch 10\n",
      "  Continuing training from global step 80\n",
      "  Will skip the first 10 epochs then the first 0 batches in the first epoch. If this takes a lot of time, you can add the `--ignore_data_skip` flag to your launch command, but you will resume the training on data already seen by your model.\n"
     ]
    },
    {
     "data": {
      "application/vnd.jupyter.widget-view+json": {
       "model_id": "7222784e1870421b81db513fa7554e26",
       "version_major": 2,
       "version_minor": 0
      },
      "text/plain": [
       "0it [00:00, ?it/s]"
      ]
     },
     "metadata": {},
     "output_type": "display_data"
    },
    {
     "data": {
      "text/html": [
       "\n",
       "    <div>\n",
       "      \n",
       "      <progress value='160' max='160' style='width:300px; height:20px; vertical-align: middle;'></progress>\n",
       "      [160/160 47:20, Epoch 20/20]\n",
       "    </div>\n",
       "    <table border=\"1\" class=\"dataframe\">\n",
       "  <thead>\n",
       "    <tr style=\"text-align: left;\">\n",
       "      <th>Epoch</th>\n",
       "      <th>Training Loss</th>\n",
       "      <th>Validation Loss</th>\n",
       "      <th>F1</th>\n",
       "      <th>Precision</th>\n",
       "      <th>Recall</th>\n",
       "      <th>Accuracy</th>\n",
       "    </tr>\n",
       "  </thead>\n",
       "  <tbody>\n",
       "    <tr>\n",
       "      <td>11</td>\n",
       "      <td>0.000100</td>\n",
       "      <td>1.564183</td>\n",
       "      <td>0.823188</td>\n",
       "      <td>0.895297</td>\n",
       "      <td>0.779213</td>\n",
       "      <td>0.842105</td>\n",
       "    </tr>\n",
       "    <tr>\n",
       "      <td>12</td>\n",
       "      <td>0.000100</td>\n",
       "      <td>1.683910</td>\n",
       "      <td>0.823188</td>\n",
       "      <td>0.895297</td>\n",
       "      <td>0.779213</td>\n",
       "      <td>0.842105</td>\n",
       "    </tr>\n",
       "    <tr>\n",
       "      <td>13</td>\n",
       "      <td>0.000100</td>\n",
       "      <td>1.725717</td>\n",
       "      <td>0.823188</td>\n",
       "      <td>0.895297</td>\n",
       "      <td>0.779213</td>\n",
       "      <td>0.842105</td>\n",
       "    </tr>\n",
       "    <tr>\n",
       "      <td>14</td>\n",
       "      <td>0.000100</td>\n",
       "      <td>1.748035</td>\n",
       "      <td>0.811908</td>\n",
       "      <td>0.887879</td>\n",
       "      <td>0.766868</td>\n",
       "      <td>0.828947</td>\n",
       "    </tr>\n",
       "    <tr>\n",
       "      <td>15</td>\n",
       "      <td>0.000100</td>\n",
       "      <td>1.760115</td>\n",
       "      <td>0.811908</td>\n",
       "      <td>0.887879</td>\n",
       "      <td>0.766868</td>\n",
       "      <td>0.828947</td>\n",
       "    </tr>\n",
       "    <tr>\n",
       "      <td>16</td>\n",
       "      <td>0.000100</td>\n",
       "      <td>1.767024</td>\n",
       "      <td>0.811908</td>\n",
       "      <td>0.887879</td>\n",
       "      <td>0.766868</td>\n",
       "      <td>0.828947</td>\n",
       "    </tr>\n",
       "    <tr>\n",
       "      <td>17</td>\n",
       "      <td>0.000100</td>\n",
       "      <td>1.771428</td>\n",
       "      <td>0.811908</td>\n",
       "      <td>0.887879</td>\n",
       "      <td>0.766868</td>\n",
       "      <td>0.828947</td>\n",
       "    </tr>\n",
       "    <tr>\n",
       "      <td>18</td>\n",
       "      <td>0.000100</td>\n",
       "      <td>1.774259</td>\n",
       "      <td>0.811908</td>\n",
       "      <td>0.887879</td>\n",
       "      <td>0.766868</td>\n",
       "      <td>0.828947</td>\n",
       "    </tr>\n",
       "    <tr>\n",
       "      <td>19</td>\n",
       "      <td>0.000000</td>\n",
       "      <td>1.775917</td>\n",
       "      <td>0.811908</td>\n",
       "      <td>0.887879</td>\n",
       "      <td>0.766868</td>\n",
       "      <td>0.828947</td>\n",
       "    </tr>\n",
       "    <tr>\n",
       "      <td>20</td>\n",
       "      <td>0.000100</td>\n",
       "      <td>1.776603</td>\n",
       "      <td>0.811908</td>\n",
       "      <td>0.887879</td>\n",
       "      <td>0.766868</td>\n",
       "      <td>0.828947</td>\n",
       "    </tr>\n",
       "  </tbody>\n",
       "</table><p>"
      ],
      "text/plain": [
       "<IPython.core.display.HTML object>"
      ]
     },
     "metadata": {},
     "output_type": "display_data"
    },
    {
     "name": "stderr",
     "output_type": "stream",
     "text": [
      "***** Running Evaluation *****\n",
      "  Num examples = 76\n",
      "  Batch size = 8\n",
      "***** Running Evaluation *****\n",
      "  Num examples = 76\n",
      "  Batch size = 8\n",
      "Saving model checkpoint to ../models/bertweet/loss-reweighted/checkpoint-100\n",
      "Configuration saved in ../models/bertweet/loss-reweighted/checkpoint-100/config.json\n",
      "Model weights saved in ../models/bertweet/loss-reweighted/checkpoint-100/pytorch_model.bin\n",
      "***** Running Evaluation *****\n",
      "  Num examples = 76\n",
      "  Batch size = 8\n",
      "***** Running Evaluation *****\n",
      "  Num examples = 76\n",
      "  Batch size = 8\n",
      "Saving model checkpoint to ../models/bertweet/loss-reweighted/checkpoint-120\n",
      "Configuration saved in ../models/bertweet/loss-reweighted/checkpoint-120/config.json\n",
      "Model weights saved in ../models/bertweet/loss-reweighted/checkpoint-120/pytorch_model.bin\n",
      "***** Running Evaluation *****\n",
      "  Num examples = 76\n",
      "  Batch size = 8\n",
      "***** Running Evaluation *****\n",
      "  Num examples = 76\n",
      "  Batch size = 8\n",
      "***** Running Evaluation *****\n",
      "  Num examples = 76\n",
      "  Batch size = 8\n",
      "Saving model checkpoint to ../models/bertweet/loss-reweighted/checkpoint-140\n",
      "Configuration saved in ../models/bertweet/loss-reweighted/checkpoint-140/config.json\n",
      "Model weights saved in ../models/bertweet/loss-reweighted/checkpoint-140/pytorch_model.bin\n",
      "***** Running Evaluation *****\n",
      "  Num examples = 76\n",
      "  Batch size = 8\n",
      "***** Running Evaluation *****\n",
      "  Num examples = 76\n",
      "  Batch size = 8\n",
      "Saving model checkpoint to ../models/bertweet/loss-reweighted/checkpoint-160\n",
      "Configuration saved in ../models/bertweet/loss-reweighted/checkpoint-160/config.json\n",
      "Model weights saved in ../models/bertweet/loss-reweighted/checkpoint-160/pytorch_model.bin\n",
      "***** Running Evaluation *****\n",
      "  Num examples = 76\n",
      "  Batch size = 8\n",
      "\n",
      "\n",
      "Training completed. Do not forget to share your model on huggingface.co/models =)\n",
      "\n",
      "\n"
     ]
    },
    {
     "data": {
      "text/plain": [
       "TrainOutput(global_step=160, training_loss=2.9874328174628317e-05, metrics={'train_runtime': 2877.6907, 'train_samples_per_second': 1.564, 'train_steps_per_second': 0.056, 'total_flos': 466222262400000.0, 'train_loss': 2.9874328174628317e-05, 'epoch': 20.0})"
      ]
     },
     "execution_count": 19,
     "metadata": {},
     "output_type": "execute_result"
    }
   ],
   "source": [
    "#Continue training\n",
    "lrbt_trainer.train(\"../models/bertweet/loss-reweighted/checkpoint-80\")"
   ]
  },
  {
   "cell_type": "markdown",
   "id": "2e1c4cd7-f355-451e-9941-9959bc9d951b",
   "metadata": {},
   "source": [
    "#### • Plot train and validation metrics"
   ]
  },
  {
   "cell_type": "code",
   "execution_count": 25,
   "id": "1138daf3-8ee9-4258-8085-89f40fabdacd",
   "metadata": {},
   "outputs": [],
   "source": [
    "#Get the baseline bertweet's training logs\n",
    "lrbt_history = pd.DataFrame(lrbt_trainer.state.log_history)\n",
    "lrbt_history.to_csv(\"../models/logs/loss_reweighted_bertweet_logs.csv\",index=False)\n",
    "lrbt_history = lrbt_history.fillna(method='bfill', limit=1).drop_duplicates(subset=['epoch','eval_loss'])"
   ]
  },
  {
   "cell_type": "code",
   "execution_count": 41,
   "id": "8c482439-f884-4109-bbcd-8c66567490aa",
   "metadata": {},
   "outputs": [
    {
     "data": {
      "image/png": "[encoded data removed]",
      "text/plain": [
       "<Figure size 1080x648 with 6 Axes>"
      ]
     },
     "metadata": {
      "needs_background": "light"
     },
     "output_type": "display_data"
    }
   ],
   "source": [
    "plt.figure(figsize=(15,9))\n",
    "#plt.tight_layout()\n",
    "\n",
    "metrics = ['eval_loss','eval_f1','eval_precision','eval_recall','eval_accuracy','eval_runtime']\n",
    "\n",
    "for idx, metric in enumerate(metrics):\n",
    "    with plt.style.context(['grid']):\n",
    "        plt.tight_layout()\n",
    "        ax = plt.subplot(3,2,idx+1).plot(lrbt_history['epoch'],\n",
    "                                    lrbt_history[metric],\n",
    "                                    label='validation')\n",
    "\n",
    "        #Also plot training loss when plotting validation loss\n",
    "        if metric == 'eval_loss':\n",
    "            ax = plt.subplot(3,2,idx+1).plot(lrbt_history['epoch'],\n",
    "                                             lrbt_history['loss'],\n",
    "                                             color = ax[0].get_color(),\n",
    "                                             linestyle= \"--\",\n",
    "                                             label='training')\n",
    "\n",
    "        plt.xlabel('Epoch', fontsize=12)\n",
    "        plt.ylabel(metric.replace('eval_','').capitalize(),fontsize=12)\n",
    "        plt.legend()"
   ]
  },
  {
   "cell_type": "markdown",
   "id": "4a6ac98e-c35a-4e8a-8e28-fe10ceb5eaaf",
   "metadata": {},
   "source": [
    "The metric I prioritize for model evaluation is F1 given it tries to balance precision and recall. I also consider precision and recall as well. Based on this, the best model/checkpoint from our training procedure is checkpoint-15, outperforming all other checkpoints. Given this was the first epoch, the model had been exposed to very little data and was essentially still the BerTweet model. This suggests that training actually worsened its classification performance."
   ]
  },
  {
   "cell_type": "markdown",
   "id": "bded6a76-4ec8-4b89-a7e8-e9b1b931a5dc",
   "metadata": {},
   "source": [
    "#### • Determine the best checkpoint"
   ]
  },
  {
   "cell_type": "code",
   "execution_count": 43,
   "id": "b4a7e99c-61f6-44a1-967f-8151f9c0977f",
   "metadata": {},
   "outputs": [
    {
     "name": "stderr",
     "output_type": "stream",
     "text": [
      "loading configuration file ../models/bertweet/loss-reweighted/checkpoint-80/config.json\n",
      "Model config RobertaConfig {\n",
      "  \"_name_or_path\": \"finiteautomata/bertweet-base-sentiment-analysis\",\n",
      "  \"architectures\": [\n",
      "    \"RobertaForSequenceClassification\"\n",
      "  ],\n",
      "  \"attention_probs_dropout_prob\": 0.1,\n",
      "  \"bos_token_id\": 0,\n",
      "  \"eos_token_id\": 2,\n",
      "  \"gradient_checkpointing\": false,\n",
      "  \"hidden_act\": \"gelu\",\n",
      "  \"hidden_dropout_prob\": 0.1,\n",
      "  \"hidden_size\": 768,\n",
      "  \"id2label\": {\n",
      "    \"0\": \"NEG\",\n",
      "    \"1\": \"NEU\",\n",
      "    \"2\": \"POS\"\n",
      "  },\n",
      "  \"initializer_range\": 0.02,\n",
      "  \"intermediate_size\": 3072,\n",
      "  \"label2id\": {\n",
      "    \"NEG\": 0,\n",
      "    \"NEU\": 1,\n",
      "    \"POS\": 2\n",
      "  },\n",
      "  \"layer_norm_eps\": 1e-05,\n",
      "  \"max_position_embeddings\": 130,\n",
      "  \"model_type\": \"roberta\",\n",
      "  \"num_attention_heads\": 12,\n",
      "  \"num_hidden_layers\": 12,\n",
      "  \"pad_token_id\": 1,\n",
      "  \"position_embedding_type\": \"absolute\",\n",
      "  \"problem_type\": \"single_label_classification\",\n",
      "  \"tokenizer_class\": \"BertweetTokenizer\",\n",
      "  \"transformers_version\": \"4.8.0\",\n",
      "  \"type_vocab_size\": 1,\n",
      "  \"use_cache\": true,\n",
      "  \"vocab_size\": 64001\n",
      "}\n",
      "\n",
      "loading weights file ../models/bertweet/loss-reweighted/checkpoint-80/pytorch_model.bin\n",
      "All model checkpoint weights were used when initializing RobertaForSequenceClassification.\n",
      "\n",
      "All the weights of RobertaForSequenceClassification were initialized from the model checkpoint at ../models/bertweet/loss-reweighted/checkpoint-80/.\n",
      "If your task is similar to the task the model of the checkpoint was trained on, you can already use RobertaForSequenceClassification for predictions without further training.\n",
      "PyTorch: setting up devices\n",
      "The default value for the training argument `--report_to` will change in v5 (from all installed integrations to none). In v5, you will need to use `--report_to all` to get the same behavior as now. You should start updating your code and make this info disappear :-).\n",
      "***** Running Prediction *****\n",
      "  Num examples = 76\n",
      "  Batch size = 8\n"
     ]
    },
    {
     "data": {
      "text/html": [
       "\n",
       "    <div>\n",
       "      \n",
       "      <progress value='10' max='10' style='width:300px; height:20px; vertical-align: middle;'></progress>\n",
       "      [10/10 00:17]\n",
       "    </div>\n",
       "    "
      ],
      "text/plain": [
       "<IPython.core.display.HTML object>"
      ]
     },
     "metadata": {},
     "output_type": "display_data"
    },
    {
     "name": "stderr",
     "output_type": "stream",
     "text": [
      "loading configuration file ../models/bertweet/loss-reweighted/checkpoint-20/config.json\n",
      "Model config RobertaConfig {\n",
      "  \"_name_or_path\": \"finiteautomata/bertweet-base-sentiment-analysis\",\n",
      "  \"architectures\": [\n",
      "    \"RobertaForSequenceClassification\"\n",
      "  ],\n",
      "  \"attention_probs_dropout_prob\": 0.1,\n",
      "  \"bos_token_id\": 0,\n",
      "  \"eos_token_id\": 2,\n",
      "  \"gradient_checkpointing\": false,\n",
      "  \"hidden_act\": \"gelu\",\n",
      "  \"hidden_dropout_prob\": 0.1,\n",
      "  \"hidden_size\": 768,\n",
      "  \"id2label\": {\n",
      "    \"0\": \"NEG\",\n",
      "    \"1\": \"NEU\",\n",
      "    \"2\": \"POS\"\n",
      "  },\n",
      "  \"initializer_range\": 0.02,\n",
      "  \"intermediate_size\": 3072,\n",
      "  \"label2id\": {\n",
      "    \"NEG\": 0,\n",
      "    \"NEU\": 1,\n",
      "    \"POS\": 2\n",
      "  },\n",
      "  \"layer_norm_eps\": 1e-05,\n",
      "  \"max_position_embeddings\": 130,\n",
      "  \"model_type\": \"roberta\",\n",
      "  \"num_attention_heads\": 12,\n",
      "  \"num_hidden_layers\": 12,\n",
      "  \"pad_token_id\": 1,\n",
      "  \"position_embedding_type\": \"absolute\",\n",
      "  \"problem_type\": \"single_label_classification\",\n",
      "  \"tokenizer_class\": \"BertweetTokenizer\",\n",
      "  \"transformers_version\": \"4.8.0\",\n",
      "  \"type_vocab_size\": 1,\n",
      "  \"use_cache\": true,\n",
      "  \"vocab_size\": 64001\n",
      "}\n",
      "\n",
      "loading weights file ../models/bertweet/loss-reweighted/checkpoint-20/pytorch_model.bin\n",
      "All model checkpoint weights were used when initializing RobertaForSequenceClassification.\n",
      "\n",
      "All the weights of RobertaForSequenceClassification were initialized from the model checkpoint at ../models/bertweet/loss-reweighted/checkpoint-20/.\n",
      "If your task is similar to the task the model of the checkpoint was trained on, you can already use RobertaForSequenceClassification for predictions without further training.\n",
      "PyTorch: setting up devices\n",
      "The default value for the training argument `--report_to` will change in v5 (from all installed integrations to none). In v5, you will need to use `--report_to all` to get the same behavior as now. You should start updating your code and make this info disappear :-).\n",
      "***** Running Prediction *****\n",
      "  Num examples = 76\n",
      "  Batch size = 8\n"
     ]
    },
    {
     "data": {
      "text/html": [
       "\n",
       "    <div>\n",
       "      \n",
       "      <progress value='10' max='10' style='width:300px; height:20px; vertical-align: middle;'></progress>\n",
       "      [10/10 00:17]\n",
       "    </div>\n",
       "    "
      ],
      "text/plain": [
       "<IPython.core.display.HTML object>"
      ]
     },
     "metadata": {},
     "output_type": "display_data"
    },
    {
     "name": "stderr",
     "output_type": "stream",
     "text": [
      "loading configuration file ../models/bertweet/loss-reweighted/checkpoint-100/config.json\n",
      "Model config RobertaConfig {\n",
      "  \"_name_or_path\": \"finiteautomata/bertweet-base-sentiment-analysis\",\n",
      "  \"architectures\": [\n",
      "    \"RobertaForSequenceClassification\"\n",
      "  ],\n",
      "  \"attention_probs_dropout_prob\": 0.1,\n",
      "  \"bos_token_id\": 0,\n",
      "  \"eos_token_id\": 2,\n",
      "  \"gradient_checkpointing\": false,\n",
      "  \"hidden_act\": \"gelu\",\n",
      "  \"hidden_dropout_prob\": 0.1,\n",
      "  \"hidden_size\": 768,\n",
      "  \"id2label\": {\n",
      "    \"0\": \"NEG\",\n",
      "    \"1\": \"NEU\",\n",
      "    \"2\": \"POS\"\n",
      "  },\n",
      "  \"initializer_range\": 0.02,\n",
      "  \"intermediate_size\": 3072,\n",
      "  \"label2id\": {\n",
      "    \"NEG\": 0,\n",
      "    \"NEU\": 1,\n",
      "    \"POS\": 2\n",
      "  },\n",
      "  \"layer_norm_eps\": 1e-05,\n",
      "  \"max_position_embeddings\": 130,\n",
      "  \"model_type\": \"roberta\",\n",
      "  \"num_attention_heads\": 12,\n",
      "  \"num_hidden_layers\": 12,\n",
      "  \"pad_token_id\": 1,\n",
      "  \"position_embedding_type\": \"absolute\",\n",
      "  \"problem_type\": \"single_label_classification\",\n",
      "  \"tokenizer_class\": \"BertweetTokenizer\",\n",
      "  \"transformers_version\": \"4.8.0\",\n",
      "  \"type_vocab_size\": 1,\n",
      "  \"use_cache\": true,\n",
      "  \"vocab_size\": 64001\n",
      "}\n",
      "\n",
      "loading weights file ../models/bertweet/loss-reweighted/checkpoint-100/pytorch_model.bin\n",
      "All model checkpoint weights were used when initializing RobertaForSequenceClassification.\n",
      "\n",
      "All the weights of RobertaForSequenceClassification were initialized from the model checkpoint at ../models/bertweet/loss-reweighted/checkpoint-100/.\n",
      "If your task is similar to the task the model of the checkpoint was trained on, you can already use RobertaForSequenceClassification for predictions without further training.\n",
      "PyTorch: setting up devices\n",
      "The default value for the training argument `--report_to` will change in v5 (from all installed integrations to none). In v5, you will need to use `--report_to all` to get the same behavior as now. You should start updating your code and make this info disappear :-).\n",
      "***** Running Prediction *****\n",
      "  Num examples = 76\n",
      "  Batch size = 8\n"
     ]
    },
    {
     "data": {
      "text/html": [
       "\n",
       "    <div>\n",
       "      \n",
       "      <progress value='10' max='10' style='width:300px; height:20px; vertical-align: middle;'></progress>\n",
       "      [10/10 00:17]\n",
       "    </div>\n",
       "    "
      ],
      "text/plain": [
       "<IPython.core.display.HTML object>"
      ]
     },
     "metadata": {},
     "output_type": "display_data"
    },
    {
     "name": "stderr",
     "output_type": "stream",
     "text": [
      "loading configuration file ../models/bertweet/loss-reweighted/checkpoint-140/config.json\n",
      "Model config RobertaConfig {\n",
      "  \"_name_or_path\": \"finiteautomata/bertweet-base-sentiment-analysis\",\n",
      "  \"architectures\": [\n",
      "    \"RobertaForSequenceClassification\"\n",
      "  ],\n",
      "  \"attention_probs_dropout_prob\": 0.1,\n",
      "  \"bos_token_id\": 0,\n",
      "  \"eos_token_id\": 2,\n",
      "  \"gradient_checkpointing\": false,\n",
      "  \"hidden_act\": \"gelu\",\n",
      "  \"hidden_dropout_prob\": 0.1,\n",
      "  \"hidden_size\": 768,\n",
      "  \"id2label\": {\n",
      "    \"0\": \"NEG\",\n",
      "    \"1\": \"NEU\",\n",
      "    \"2\": \"POS\"\n",
      "  },\n",
      "  \"initializer_range\": 0.02,\n",
      "  \"intermediate_size\": 3072,\n",
      "  \"label2id\": {\n",
      "    \"NEG\": 0,\n",
      "    \"NEU\": 1,\n",
      "    \"POS\": 2\n",
      "  },\n",
      "  \"layer_norm_eps\": 1e-05,\n",
      "  \"max_position_embeddings\": 130,\n",
      "  \"model_type\": \"roberta\",\n",
      "  \"num_attention_heads\": 12,\n",
      "  \"num_hidden_layers\": 12,\n",
      "  \"pad_token_id\": 1,\n",
      "  \"position_embedding_type\": \"absolute\",\n",
      "  \"problem_type\": \"single_label_classification\",\n",
      "  \"tokenizer_class\": \"BertweetTokenizer\",\n",
      "  \"transformers_version\": \"4.8.0\",\n",
      "  \"type_vocab_size\": 1,\n",
      "  \"use_cache\": true,\n",
      "  \"vocab_size\": 64001\n",
      "}\n",
      "\n",
      "loading weights file ../models/bertweet/loss-reweighted/checkpoint-140/pytorch_model.bin\n",
      "All model checkpoint weights were used when initializing RobertaForSequenceClassification.\n",
      "\n",
      "All the weights of RobertaForSequenceClassification were initialized from the model checkpoint at ../models/bertweet/loss-reweighted/checkpoint-140/.\n",
      "If your task is similar to the task the model of the checkpoint was trained on, you can already use RobertaForSequenceClassification for predictions without further training.\n",
      "PyTorch: setting up devices\n",
      "The default value for the training argument `--report_to` will change in v5 (from all installed integrations to none). In v5, you will need to use `--report_to all` to get the same behavior as now. You should start updating your code and make this info disappear :-).\n",
      "***** Running Prediction *****\n",
      "  Num examples = 76\n",
      "  Batch size = 8\n"
     ]
    },
    {
     "data": {
      "text/html": [
       "\n",
       "    <div>\n",
       "      \n",
       "      <progress value='10' max='10' style='width:300px; height:20px; vertical-align: middle;'></progress>\n",
       "      [10/10 00:17]\n",
       "    </div>\n",
       "    "
      ],
      "text/plain": [
       "<IPython.core.display.HTML object>"
      ]
     },
     "metadata": {},
     "output_type": "display_data"
    },
    {
     "name": "stderr",
     "output_type": "stream",
     "text": [
      "loading configuration file ../models/bertweet/loss-reweighted/checkpoint-60/config.json\n",
      "Model config RobertaConfig {\n",
      "  \"_name_or_path\": \"finiteautomata/bertweet-base-sentiment-analysis\",\n",
      "  \"architectures\": [\n",
      "    \"RobertaForSequenceClassification\"\n",
      "  ],\n",
      "  \"attention_probs_dropout_prob\": 0.1,\n",
      "  \"bos_token_id\": 0,\n",
      "  \"eos_token_id\": 2,\n",
      "  \"gradient_checkpointing\": false,\n",
      "  \"hidden_act\": \"gelu\",\n",
      "  \"hidden_dropout_prob\": 0.1,\n",
      "  \"hidden_size\": 768,\n",
      "  \"id2label\": {\n",
      "    \"0\": \"NEG\",\n",
      "    \"1\": \"NEU\",\n",
      "    \"2\": \"POS\"\n",
      "  },\n",
      "  \"initializer_range\": 0.02,\n",
      "  \"intermediate_size\": 3072,\n",
      "  \"label2id\": {\n",
      "    \"NEG\": 0,\n",
      "    \"NEU\": 1,\n",
      "    \"POS\": 2\n",
      "  },\n",
      "  \"layer_norm_eps\": 1e-05,\n",
      "  \"max_position_embeddings\": 130,\n",
      "  \"model_type\": \"roberta\",\n",
      "  \"num_attention_heads\": 12,\n",
      "  \"num_hidden_layers\": 12,\n",
      "  \"pad_token_id\": 1,\n",
      "  \"position_embedding_type\": \"absolute\",\n",
      "  \"problem_type\": \"single_label_classification\",\n",
      "  \"tokenizer_class\": \"BertweetTokenizer\",\n",
      "  \"transformers_version\": \"4.8.0\",\n",
      "  \"type_vocab_size\": 1,\n",
      "  \"use_cache\": true,\n",
      "  \"vocab_size\": 64001\n",
      "}\n",
      "\n",
      "loading weights file ../models/bertweet/loss-reweighted/checkpoint-60/pytorch_model.bin\n",
      "All model checkpoint weights were used when initializing RobertaForSequenceClassification.\n",
      "\n",
      "All the weights of RobertaForSequenceClassification were initialized from the model checkpoint at ../models/bertweet/loss-reweighted/checkpoint-60/.\n",
      "If your task is similar to the task the model of the checkpoint was trained on, you can already use RobertaForSequenceClassification for predictions without further training.\n",
      "PyTorch: setting up devices\n",
      "The default value for the training argument `--report_to` will change in v5 (from all installed integrations to none). In v5, you will need to use `--report_to all` to get the same behavior as now. You should start updating your code and make this info disappear :-).\n",
      "***** Running Prediction *****\n",
      "  Num examples = 76\n",
      "  Batch size = 8\n"
     ]
    },
    {
     "data": {
      "text/html": [
       "\n",
       "    <div>\n",
       "      \n",
       "      <progress value='10' max='10' style='width:300px; height:20px; vertical-align: middle;'></progress>\n",
       "      [10/10 00:17]\n",
       "    </div>\n",
       "    "
      ],
      "text/plain": [
       "<IPython.core.display.HTML object>"
      ]
     },
     "metadata": {},
     "output_type": "display_data"
    },
    {
     "name": "stderr",
     "output_type": "stream",
     "text": [
      "loading configuration file ../models/bertweet/loss-reweighted/checkpoint-40/config.json\n",
      "Model config RobertaConfig {\n",
      "  \"_name_or_path\": \"finiteautomata/bertweet-base-sentiment-analysis\",\n",
      "  \"architectures\": [\n",
      "    \"RobertaForSequenceClassification\"\n",
      "  ],\n",
      "  \"attention_probs_dropout_prob\": 0.1,\n",
      "  \"bos_token_id\": 0,\n",
      "  \"eos_token_id\": 2,\n",
      "  \"gradient_checkpointing\": false,\n",
      "  \"hidden_act\": \"gelu\",\n",
      "  \"hidden_dropout_prob\": 0.1,\n",
      "  \"hidden_size\": 768,\n",
      "  \"id2label\": {\n",
      "    \"0\": \"NEG\",\n",
      "    \"1\": \"NEU\",\n",
      "    \"2\": \"POS\"\n",
      "  },\n",
      "  \"initializer_range\": 0.02,\n",
      "  \"intermediate_size\": 3072,\n",
      "  \"label2id\": {\n",
      "    \"NEG\": 0,\n",
      "    \"NEU\": 1,\n",
      "    \"POS\": 2\n",
      "  },\n",
      "  \"layer_norm_eps\": 1e-05,\n",
      "  \"max_position_embeddings\": 130,\n",
      "  \"model_type\": \"roberta\",\n",
      "  \"num_attention_heads\": 12,\n",
      "  \"num_hidden_layers\": 12,\n",
      "  \"pad_token_id\": 1,\n",
      "  \"position_embedding_type\": \"absolute\",\n",
      "  \"problem_type\": \"single_label_classification\",\n",
      "  \"tokenizer_class\": \"BertweetTokenizer\",\n",
      "  \"transformers_version\": \"4.8.0\",\n",
      "  \"type_vocab_size\": 1,\n",
      "  \"use_cache\": true,\n",
      "  \"vocab_size\": 64001\n",
      "}\n",
      "\n",
      "loading weights file ../models/bertweet/loss-reweighted/checkpoint-40/pytorch_model.bin\n",
      "All model checkpoint weights were used when initializing RobertaForSequenceClassification.\n",
      "\n",
      "All the weights of RobertaForSequenceClassification were initialized from the model checkpoint at ../models/bertweet/loss-reweighted/checkpoint-40/.\n",
      "If your task is similar to the task the model of the checkpoint was trained on, you can already use RobertaForSequenceClassification for predictions without further training.\n",
      "PyTorch: setting up devices\n",
      "The default value for the training argument `--report_to` will change in v5 (from all installed integrations to none). In v5, you will need to use `--report_to all` to get the same behavior as now. You should start updating your code and make this info disappear :-).\n",
      "***** Running Prediction *****\n",
      "  Num examples = 76\n",
      "  Batch size = 8\n"
     ]
    },
    {
     "data": {
      "text/html": [
       "\n",
       "    <div>\n",
       "      \n",
       "      <progress value='10' max='10' style='width:300px; height:20px; vertical-align: middle;'></progress>\n",
       "      [10/10 00:17]\n",
       "    </div>\n",
       "    "
      ],
      "text/plain": [
       "<IPython.core.display.HTML object>"
      ]
     },
     "metadata": {},
     "output_type": "display_data"
    },
    {
     "name": "stderr",
     "output_type": "stream",
     "text": [
      "loading configuration file ../models/bertweet/loss-reweighted/checkpoint-160/config.json\n",
      "Model config RobertaConfig {\n",
      "  \"_name_or_path\": \"finiteautomata/bertweet-base-sentiment-analysis\",\n",
      "  \"architectures\": [\n",
      "    \"RobertaForSequenceClassification\"\n",
      "  ],\n",
      "  \"attention_probs_dropout_prob\": 0.1,\n",
      "  \"bos_token_id\": 0,\n",
      "  \"eos_token_id\": 2,\n",
      "  \"gradient_checkpointing\": false,\n",
      "  \"hidden_act\": \"gelu\",\n",
      "  \"hidden_dropout_prob\": 0.1,\n",
      "  \"hidden_size\": 768,\n",
      "  \"id2label\": {\n",
      "    \"0\": \"NEG\",\n",
      "    \"1\": \"NEU\",\n",
      "    \"2\": \"POS\"\n",
      "  },\n",
      "  \"initializer_range\": 0.02,\n",
      "  \"intermediate_size\": 3072,\n",
      "  \"label2id\": {\n",
      "    \"NEG\": 0,\n",
      "    \"NEU\": 1,\n",
      "    \"POS\": 2\n",
      "  },\n",
      "  \"layer_norm_eps\": 1e-05,\n",
      "  \"max_position_embeddings\": 130,\n",
      "  \"model_type\": \"roberta\",\n",
      "  \"num_attention_heads\": 12,\n",
      "  \"num_hidden_layers\": 12,\n",
      "  \"pad_token_id\": 1,\n",
      "  \"position_embedding_type\": \"absolute\",\n",
      "  \"problem_type\": \"single_label_classification\",\n",
      "  \"tokenizer_class\": \"BertweetTokenizer\",\n",
      "  \"transformers_version\": \"4.8.0\",\n",
      "  \"type_vocab_size\": 1,\n",
      "  \"use_cache\": true,\n",
      "  \"vocab_size\": 64001\n",
      "}\n",
      "\n",
      "loading weights file ../models/bertweet/loss-reweighted/checkpoint-160/pytorch_model.bin\n",
      "All model checkpoint weights were used when initializing RobertaForSequenceClassification.\n",
      "\n",
      "All the weights of RobertaForSequenceClassification were initialized from the model checkpoint at ../models/bertweet/loss-reweighted/checkpoint-160/.\n",
      "If your task is similar to the task the model of the checkpoint was trained on, you can already use RobertaForSequenceClassification for predictions without further training.\n",
      "PyTorch: setting up devices\n",
      "The default value for the training argument `--report_to` will change in v5 (from all installed integrations to none). In v5, you will need to use `--report_to all` to get the same behavior as now. You should start updating your code and make this info disappear :-).\n",
      "***** Running Prediction *****\n",
      "  Num examples = 76\n",
      "  Batch size = 8\n"
     ]
    },
    {
     "data": {
      "text/html": [
       "\n",
       "    <div>\n",
       "      \n",
       "      <progress value='10' max='10' style='width:300px; height:20px; vertical-align: middle;'></progress>\n",
       "      [10/10 00:17]\n",
       "    </div>\n",
       "    "
      ],
      "text/plain": [
       "<IPython.core.display.HTML object>"
      ]
     },
     "metadata": {},
     "output_type": "display_data"
    },
    {
     "name": "stderr",
     "output_type": "stream",
     "text": [
      "loading configuration file ../models/bertweet/loss-reweighted/checkpoint-120/config.json\n",
      "Model config RobertaConfig {\n",
      "  \"_name_or_path\": \"finiteautomata/bertweet-base-sentiment-analysis\",\n",
      "  \"architectures\": [\n",
      "    \"RobertaForSequenceClassification\"\n",
      "  ],\n",
      "  \"attention_probs_dropout_prob\": 0.1,\n",
      "  \"bos_token_id\": 0,\n",
      "  \"eos_token_id\": 2,\n",
      "  \"gradient_checkpointing\": false,\n",
      "  \"hidden_act\": \"gelu\",\n",
      "  \"hidden_dropout_prob\": 0.1,\n",
      "  \"hidden_size\": 768,\n",
      "  \"id2label\": {\n",
      "    \"0\": \"NEG\",\n",
      "    \"1\": \"NEU\",\n",
      "    \"2\": \"POS\"\n",
      "  },\n",
      "  \"initializer_range\": 0.02,\n",
      "  \"intermediate_size\": 3072,\n",
      "  \"label2id\": {\n",
      "    \"NEG\": 0,\n",
      "    \"NEU\": 1,\n",
      "    \"POS\": 2\n",
      "  },\n",
      "  \"layer_norm_eps\": 1e-05,\n",
      "  \"max_position_embeddings\": 130,\n",
      "  \"model_type\": \"roberta\",\n",
      "  \"num_attention_heads\": 12,\n",
      "  \"num_hidden_layers\": 12,\n",
      "  \"pad_token_id\": 1,\n",
      "  \"position_embedding_type\": \"absolute\",\n",
      "  \"problem_type\": \"single_label_classification\",\n",
      "  \"tokenizer_class\": \"BertweetTokenizer\",\n",
      "  \"transformers_version\": \"4.8.0\",\n",
      "  \"type_vocab_size\": 1,\n",
      "  \"use_cache\": true,\n",
      "  \"vocab_size\": 64001\n",
      "}\n",
      "\n",
      "loading weights file ../models/bertweet/loss-reweighted/checkpoint-120/pytorch_model.bin\n",
      "All model checkpoint weights were used when initializing RobertaForSequenceClassification.\n",
      "\n",
      "All the weights of RobertaForSequenceClassification were initialized from the model checkpoint at ../models/bertweet/loss-reweighted/checkpoint-120/.\n",
      "If your task is similar to the task the model of the checkpoint was trained on, you can already use RobertaForSequenceClassification for predictions without further training.\n",
      "PyTorch: setting up devices\n",
      "The default value for the training argument `--report_to` will change in v5 (from all installed integrations to none). In v5, you will need to use `--report_to all` to get the same behavior as now. You should start updating your code and make this info disappear :-).\n",
      "***** Running Prediction *****\n",
      "  Num examples = 76\n",
      "  Batch size = 8\n"
     ]
    },
    {
     "data": {
      "text/html": [
       "\n",
       "    <div>\n",
       "      \n",
       "      <progress value='10' max='10' style='width:300px; height:20px; vertical-align: middle;'></progress>\n",
       "      [10/10 00:17]\n",
       "    </div>\n",
       "    "
      ],
      "text/plain": [
       "<IPython.core.display.HTML object>"
      ]
     },
     "metadata": {},
     "output_type": "display_data"
    }
   ],
   "source": [
    "from glob import glob\n",
    "import re\n",
    "\n",
    "#List to store validation set results for the different checkpoints\n",
    "val_results = []\n",
    "\n",
    "#Iterate through all the subfolders in the bertweet directory          \n",
    "for folder in glob('../models/bertweet/loss-reweighted/*/'):\n",
    "    \n",
    "    #If it is a model save checkpoint\n",
    "    if 'checkpoint' in folder:\n",
    "    \n",
    "        #Load the checkpoint\n",
    "        val_model = AutoModelForSequenceClassification.from_pretrained(folder)\n",
    "\n",
    "        lrbt_val_training_args = TrainingArguments(\n",
    "           output_dir = \"../model_predictions\",\n",
    "           do_predict = True)\n",
    "\n",
    "        lrbt_val_trainer = Trainer(\n",
    "            model           = val_model,\n",
    "            args            = lrbt_val_training_args,\n",
    "            compute_metrics = compute_metrics)\n",
    "\n",
    "        model_preds_and_results = lrbt_val_trainer.predict(val_set_dataset)\n",
    "\n",
    "        val_results.append(model_preds_and_results[-1])"
   ]
  },
  {
   "cell_type": "code",
   "execution_count": 44,
   "id": "499143a0-9f49-4dfd-82f1-954df89c6365",
   "metadata": {},
   "outputs": [],
   "source": [
    "lrbt_results_df = pd.DataFrame(val_results)\n",
    "lrbt_results_df.insert(0,'model_checkpoint',[re.search('checkpoint-\\d+',checkpoint)[0] for checkpoint in (glob('../models/bertweet/loss-reweighted/*/')) if 'checkpoint' in checkpoint])"
   ]
  },
  {
   "cell_type": "code",
   "execution_count": 45,
   "id": "3351d057-7e35-44e0-8f5d-dec5842aebf3",
   "metadata": {},
   "outputs": [
    {
     "data": {
      "text/html": [
       "<div>\n",
       "<style scoped>\n",
       "    .dataframe tbody tr th:only-of-type {\n",
       "        vertical-align: middle;\n",
       "    }\n",
       "\n",
       "    .dataframe tbody tr th {\n",
       "        vertical-align: top;\n",
       "    }\n",
       "\n",
       "    .dataframe thead th {\n",
       "        text-align: right;\n",
       "    }\n",
       "</style>\n",
       "<table border=\"1\" class=\"dataframe\">\n",
       "  <thead>\n",
       "    <tr style=\"text-align: right;\">\n",
       "      <th></th>\n",
       "      <th>model_checkpoint</th>\n",
       "      <th>test_loss</th>\n",
       "      <th>test_f1</th>\n",
       "      <th>test_precision</th>\n",
       "      <th>test_recall</th>\n",
       "      <th>test_accuracy</th>\n",
       "      <th>test_runtime</th>\n",
       "      <th>test_samples_per_second</th>\n",
       "      <th>test_steps_per_second</th>\n",
       "    </tr>\n",
       "  </thead>\n",
       "  <tbody>\n",
       "    <tr>\n",
       "      <th>0</th>\n",
       "      <td>checkpoint-80</td>\n",
       "      <td>1.172140</td>\n",
       "      <td>0.833726</td>\n",
       "      <td>0.893827</td>\n",
       "      <td>0.796153</td>\n",
       "      <td>0.855263</td>\n",
       "      <td>19.9767</td>\n",
       "      <td>3.804</td>\n",
       "      <td>0.501</td>\n",
       "    </tr>\n",
       "    <tr>\n",
       "      <th>1</th>\n",
       "      <td>checkpoint-20</td>\n",
       "      <td>1.505375</td>\n",
       "      <td>0.771673</td>\n",
       "      <td>0.877778</td>\n",
       "      <td>0.723658</td>\n",
       "      <td>0.828947</td>\n",
       "      <td>19.7493</td>\n",
       "      <td>3.848</td>\n",
       "      <td>0.506</td>\n",
       "    </tr>\n",
       "    <tr>\n",
       "      <th>2</th>\n",
       "      <td>checkpoint-100</td>\n",
       "      <td>1.505769</td>\n",
       "      <td>0.823188</td>\n",
       "      <td>0.895297</td>\n",
       "      <td>0.779213</td>\n",
       "      <td>0.842105</td>\n",
       "      <td>19.8654</td>\n",
       "      <td>3.826</td>\n",
       "      <td>0.503</td>\n",
       "    </tr>\n",
       "    <tr>\n",
       "      <th>3</th>\n",
       "      <td>checkpoint-140</td>\n",
       "      <td>1.571644</td>\n",
       "      <td>0.811908</td>\n",
       "      <td>0.887879</td>\n",
       "      <td>0.766868</td>\n",
       "      <td>0.828947</td>\n",
       "      <td>19.5962</td>\n",
       "      <td>3.878</td>\n",
       "      <td>0.510</td>\n",
       "    </tr>\n",
       "    <tr>\n",
       "      <th>4</th>\n",
       "      <td>checkpoint-60</td>\n",
       "      <td>1.523013</td>\n",
       "      <td>0.804710</td>\n",
       "      <td>0.895730</td>\n",
       "      <td>0.757680</td>\n",
       "      <td>0.828947</td>\n",
       "      <td>19.5329</td>\n",
       "      <td>3.891</td>\n",
       "      <td>0.512</td>\n",
       "    </tr>\n",
       "    <tr>\n",
       "      <th>5</th>\n",
       "      <td>checkpoint-40</td>\n",
       "      <td>1.800098</td>\n",
       "      <td>0.739035</td>\n",
       "      <td>0.859585</td>\n",
       "      <td>0.686621</td>\n",
       "      <td>0.789474</td>\n",
       "      <td>19.3359</td>\n",
       "      <td>3.931</td>\n",
       "      <td>0.517</td>\n",
       "    </tr>\n",
       "    <tr>\n",
       "      <th>6</th>\n",
       "      <td>checkpoint-160</td>\n",
       "      <td>1.575190</td>\n",
       "      <td>0.811908</td>\n",
       "      <td>0.887879</td>\n",
       "      <td>0.766868</td>\n",
       "      <td>0.828947</td>\n",
       "      <td>19.7466</td>\n",
       "      <td>3.849</td>\n",
       "      <td>0.506</td>\n",
       "    </tr>\n",
       "    <tr>\n",
       "      <th>7</th>\n",
       "      <td>checkpoint-120</td>\n",
       "      <td>1.558509</td>\n",
       "      <td>0.811908</td>\n",
       "      <td>0.887879</td>\n",
       "      <td>0.766868</td>\n",
       "      <td>0.828947</td>\n",
       "      <td>19.3688</td>\n",
       "      <td>3.924</td>\n",
       "      <td>0.516</td>\n",
       "    </tr>\n",
       "  </tbody>\n",
       "</table>\n",
       "</div>"
      ],
      "text/plain": [
       "  model_checkpoint  test_loss   test_f1  test_precision  test_recall  \\\n",
       "0    checkpoint-80   1.172140  0.833726        0.893827     0.796153   \n",
       "1    checkpoint-20   1.505375  0.771673        0.877778     0.723658   \n",
       "2   checkpoint-100   1.505769  0.823188        0.895297     0.779213   \n",
       "3   checkpoint-140   1.571644  0.811908        0.887879     0.766868   \n",
       "4    checkpoint-60   1.523013  0.804710        0.895730     0.757680   \n",
       "5    checkpoint-40   1.800098  0.739035        0.859585     0.686621   \n",
       "6   checkpoint-160   1.575190  0.811908        0.887879     0.766868   \n",
       "7   checkpoint-120   1.558509  0.811908        0.887879     0.766868   \n",
       "\n",
       "   test_accuracy  test_runtime  test_samples_per_second  test_steps_per_second  \n",
       "0       0.855263       19.9767                    3.804                  0.501  \n",
       "1       0.828947       19.7493                    3.848                  0.506  \n",
       "2       0.842105       19.8654                    3.826                  0.503  \n",
       "3       0.828947       19.5962                    3.878                  0.510  \n",
       "4       0.828947       19.5329                    3.891                  0.512  \n",
       "5       0.789474       19.3359                    3.931                  0.517  \n",
       "6       0.828947       19.7466                    3.849                  0.506  \n",
       "7       0.828947       19.3688                    3.924                  0.516  "
      ]
     },
     "execution_count": 45,
     "metadata": {},
     "output_type": "execute_result"
    }
   ],
   "source": [
    "lrbt_results_df"
   ]
  },
  {
   "cell_type": "markdown",
   "id": "515261d2-0b19-46d8-8223-52921f51ec6e",
   "metadata": {},
   "source": [
    "Checkpoint-100 appears to have performed the best. The differentiating factor, asides from the classification metrics (on which it tied with a significant number of other checkpoints), was the test loss"
   ]
  },
  {
   "cell_type": "markdown",
   "id": "e8e8d303-8171-4a95-9b38-3746ca845cb0",
   "metadata": {},
   "source": [
    "#### • Load the best checkpoint"
   ]
  },
  {
   "cell_type": "code",
   "execution_count": 26,
   "id": "cb6f8f1e-dc7c-4b9c-9596-a12e7ca5b5e1",
   "metadata": {},
   "outputs": [
    {
     "name": "stderr",
     "output_type": "stream",
     "text": [
      "loading configuration file ../models/bertweet/checkpoint-100/config.json\n",
      "Model config RobertaConfig {\n",
      "  \"_name_or_path\": \"finiteautomata/bertweet-base-sentiment-analysis\",\n",
      "  \"architectures\": [\n",
      "    \"RobertaForSequenceClassification\"\n",
      "  ],\n",
      "  \"attention_probs_dropout_prob\": 0.1,\n",
      "  \"bos_token_id\": 0,\n",
      "  \"eos_token_id\": 2,\n",
      "  \"gradient_checkpointing\": false,\n",
      "  \"hidden_act\": \"gelu\",\n",
      "  \"hidden_dropout_prob\": 0.1,\n",
      "  \"hidden_size\": 768,\n",
      "  \"id2label\": {\n",
      "    \"0\": \"NEG\",\n",
      "    \"1\": \"NEU\",\n",
      "    \"2\": \"POS\"\n",
      "  },\n",
      "  \"initializer_range\": 0.02,\n",
      "  \"intermediate_size\": 3072,\n",
      "  \"label2id\": {\n",
      "    \"NEG\": 0,\n",
      "    \"NEU\": 1,\n",
      "    \"POS\": 2\n",
      "  },\n",
      "  \"layer_norm_eps\": 1e-05,\n",
      "  \"max_position_embeddings\": 130,\n",
      "  \"model_type\": \"roberta\",\n",
      "  \"num_attention_heads\": 12,\n",
      "  \"num_hidden_layers\": 12,\n",
      "  \"pad_token_id\": 1,\n",
      "  \"position_embedding_type\": \"absolute\",\n",
      "  \"problem_type\": \"single_label_classification\",\n",
      "  \"tokenizer_class\": \"BertweetTokenizer\",\n",
      "  \"transformers_version\": \"4.8.0\",\n",
      "  \"type_vocab_size\": 1,\n",
      "  \"use_cache\": true,\n",
      "  \"vocab_size\": 64001\n",
      "}\n",
      "\n",
      "loading weights file ../models/bertweet/checkpoint-100/pytorch_model.bin\n",
      "All model checkpoint weights were used when initializing RobertaForSequenceClassification.\n",
      "\n",
      "All the weights of RobertaForSequenceClassification were initialized from the model checkpoint at ../models/bertweet/checkpoint-100.\n",
      "If your task is similar to the task the model of the checkpoint was trained on, you can already use RobertaForSequenceClassification for predictions without further training.\n",
      "***** Running Prediction *****\n",
      "  Num examples = 76\n",
      "  Batch size = 8\n"
     ]
    },
    {
     "data": {
      "text/html": [
       "\n",
       "    <div>\n",
       "      \n",
       "      <progress value='10' max='10' style='width:300px; height:20px; vertical-align: middle;'></progress>\n",
       "      [10/10 00:17]\n",
       "    </div>\n",
       "    "
      ],
      "text/plain": [
       "<IPython.core.display.HTML object>"
      ]
     },
     "metadata": {},
     "output_type": "display_data"
    }
   ],
   "source": [
    "#Load the model\n",
    "model = AutoModelForSequenceClassification.from_pretrained(\"../models/bertweet/checkpoint-100\")\n",
    "\n",
    "trainer = Trainer(\n",
    "    model           = model,\n",
    "    args            = training_args,\n",
    "    compute_metrics = compute_metrics,\n",
    ")\n",
    "\n",
    "test_preds = trainer.predict(test_set_dataset)"
   ]
  },
  {
   "cell_type": "markdown",
   "id": "e8289234-00ff-453f-bca6-5eaf0bc8b17d",
   "metadata": {},
   "source": [
    "#### • Evaluating the model: How well does it classify tweets?"
   ]
  },
  {
   "cell_type": "code",
   "execution_count": 27,
   "id": "fbbda560-4141-41bc-93ed-2d966027fa25",
   "metadata": {},
   "outputs": [
    {
     "data": {
      "text/html": [
       "<div>\n",
       "<style scoped>\n",
       "    .dataframe tbody tr th:only-of-type {\n",
       "        vertical-align: middle;\n",
       "    }\n",
       "\n",
       "    .dataframe tbody tr th {\n",
       "        vertical-align: top;\n",
       "    }\n",
       "\n",
       "    .dataframe thead th {\n",
       "        text-align: right;\n",
       "    }\n",
       "</style>\n",
       "<table border=\"1\" class=\"dataframe\">\n",
       "  <thead>\n",
       "    <tr style=\"text-align: right;\">\n",
       "      <th></th>\n",
       "      <th>test_loss</th>\n",
       "      <th>test_f1</th>\n",
       "      <th>test_precision</th>\n",
       "      <th>test_recall</th>\n",
       "      <th>test_accuracy</th>\n",
       "      <th>test_runtime</th>\n",
       "      <th>test_samples_per_second</th>\n",
       "      <th>test_steps_per_second</th>\n",
       "    </tr>\n",
       "  </thead>\n",
       "  <tbody>\n",
       "    <tr>\n",
       "      <th>0</th>\n",
       "      <td>1.074658</td>\n",
       "      <td>0.815789</td>\n",
       "      <td>0.815789</td>\n",
       "      <td>0.815789</td>\n",
       "      <td>0.815789</td>\n",
       "      <td>19.6118</td>\n",
       "      <td>3.875</td>\n",
       "      <td>0.51</td>\n",
       "    </tr>\n",
       "  </tbody>\n",
       "</table>\n",
       "</div>"
      ],
      "text/plain": [
       "   test_loss   test_f1  test_precision  test_recall  test_accuracy  \\\n",
       "0   1.074658  0.815789        0.815789     0.815789       0.815789   \n",
       "\n",
       "   test_runtime  test_samples_per_second  test_steps_per_second  \n",
       "0       19.6118                    3.875                   0.51  "
      ]
     },
     "execution_count": 27,
     "metadata": {},
     "output_type": "execute_result"
    }
   ],
   "source": [
    "pd.DataFrame([test_preds[-1]])"
   ]
  },
  {
   "cell_type": "code",
   "execution_count": 28,
   "id": "e039a01b-2b35-457a-9fac-443dbe153155",
   "metadata": {},
   "outputs": [
    {
     "name": "stdout",
     "output_type": "stream",
     "text": [
      "              precision    recall  f1-score   support\n",
      "\n",
      "           0       0.88      0.81      0.84        43\n",
      "           1       0.77      0.85      0.81        27\n",
      "           2       0.67      0.67      0.67         6\n",
      "\n",
      "    accuracy                           0.82        76\n",
      "   macro avg       0.77      0.78      0.77        76\n",
      "weighted avg       0.82      0.82      0.82        76\n",
      "\n"
     ]
    }
   ],
   "source": [
    "y_true = df.query(\"split_group == 'test_set' \").label.tolist()\n",
    "preds = np.argmax(test_preds[0], axis=1).flatten()\n",
    "\n",
    "print(classification_report(y_true, preds))"
   ]
  },
  {
   "cell_type": "code",
   "execution_count": 29,
   "id": "72009617-6727-484c-acce-f70da7b959fc",
   "metadata": {},
   "outputs": [],
   "source": [
    "cm = confusion_matrix(y_true, preds)\n",
    "disp = ConfusionMatrixDisplay(confusion_matrix=cm, display_labels = ['Negative', 'Neutral', 'Positive'])"
   ]
  },
  {
   "cell_type": "code",
   "execution_count": 30,
   "id": "a7292ccc-fd9a-453f-bae8-1f6905f10fec",
   "metadata": {},
   "outputs": [
    {
     "data": {
      "image/png": "[encoded data removed]",
      "text/plain": [
       "<Figure size 432x288 with 2 Axes>"
      ]
     },
     "metadata": {},
     "output_type": "display_data"
    }
   ],
   "source": [
    "disp.plot(cmap='Blues',ax=None)\n",
    "plt.grid(False)\n",
    "plt.show()"
   ]
  },
  {
   "cell_type": "markdown",
   "id": "d84336b2-c968-48a8-ba56-ccfd4a91354c",
   "metadata": {},
   "source": [
    "Comparing the classification report and the confusion matrix above to those of the other BerTweet models, we see that this model improved on all fronts. Not only did it have better validation set metrics (around 85% for F1, precision, recall, etc.), it also performed better on the test.\n",
    "\n",
    "Specifically, we see improved performance in predicting and distinguishing all classes. We again, however, note that the positive samples were very few in the test set.\n",
    "\n",
    "\n",
    "These results suggest that loss function reweighting and increasing the batch size for beneficial for the training process.\n",
    "\n",
    "\n",
    "Next, I experiment with oversampling the positive class to see if it yields even better results"
   ]
  },
  {
   "cell_type": "markdown",
   "id": "b7bc9283-e9a7-4715-96f1-70f7f052a40a",
   "metadata": {},
   "source": [
    "---"
   ]
  },
  {
   "cell_type": "markdown",
   "id": "69a7ae9b-bbbd-42b4-a9e6-8c22e1fa8c18",
   "metadata": {},
   "source": [
    "### (iv) Modified BerTweet (v2)\n",
    "`Oversampling/resampling positive class`"
   ]
  },
  {
   "cell_type": "markdown",
   "id": "9c31fe9e-418c-477d-8b23-38daf24d2080",
   "metadata": {},
   "source": [
    "#### • Oversample the positive sample to the size of the neutral class"
   ]
  },
  {
   "cell_type": "code",
   "execution_count": 16,
   "id": "2016ba1b-6971-4504-b113-c96675ceef87",
   "metadata": {},
   "outputs": [],
   "source": [
    "#Make a copy of the training data for oversampling and drop all positive sample\n",
    "#We DO NOT oversample the validation set as we want it to mirror the true class distribution\n",
    "#and be similar to the the test data\n",
    "training_df = df.query(\" split_group == 'training_set' \")\n",
    "oversampled_df = training_df.copy().query(\" sentiment != 'Positive' \")"
   ]
  },
  {
   "cell_type": "code",
   "execution_count": 17,
   "id": "85ce6d48-e7ea-4d88-85a0-2f40a2f56166",
   "metadata": {},
   "outputs": [],
   "source": [
    "#Oversample the positive samples to the size of the neutral class\n",
    "pos_samples = training_df.query(\"sentiment == 'Positive'\").sample(training_df.\\\n",
    "                                                                  sentiment.value_counts()['Neutral'], \n",
    "                                                                  replace=True)"
   ]
  },
  {
   "cell_type": "code",
   "execution_count": 18,
   "id": "13bcf96b-9c77-46e9-acfd-f2724c747a64",
   "metadata": {},
   "outputs": [],
   "source": [
    "#Merge the positive samples, shuffle, and reset index\n",
    "oversampled_df = oversampled_df.append(pos_samples).sample(frac=1).reset_index(drop=True)"
   ]
  },
  {
   "cell_type": "markdown",
   "id": "fda5fb37-067f-442f-8fab-d8756a05d9a3",
   "metadata": {},
   "source": [
    "#### • Quick preview of the resampled data"
   ]
  },
  {
   "cell_type": "code",
   "execution_count": 19,
   "id": "cee80b87-50e4-4558-8861-55129d5a1488",
   "metadata": {},
   "outputs": [
    {
     "data": {
      "text/html": [
       "<div>\n",
       "<style scoped>\n",
       "    .dataframe tbody tr th:only-of-type {\n",
       "        vertical-align: middle;\n",
       "    }\n",
       "\n",
       "    .dataframe tbody tr th {\n",
       "        vertical-align: top;\n",
       "    }\n",
       "\n",
       "    .dataframe thead th {\n",
       "        text-align: right;\n",
       "    }\n",
       "</style>\n",
       "<table border=\"1\" class=\"dataframe\">\n",
       "  <thead>\n",
       "    <tr style=\"text-align: right;\">\n",
       "      <th></th>\n",
       "      <th>ISP_Name</th>\n",
       "      <th>Time</th>\n",
       "      <th>Text</th>\n",
       "      <th>Source</th>\n",
       "      <th>sentiment</th>\n",
       "      <th>label</th>\n",
       "      <th>split_group</th>\n",
       "    </tr>\n",
       "  </thead>\n",
       "  <tbody>\n",
       "    <tr>\n",
       "      <th>0</th>\n",
       "      <td>sprectranet</td>\n",
       "      <td>2020-06-21 08:42:47+00:00</td>\n",
       "      <td>deejay_klem smilecomsng well this means i will...</td>\n",
       "      <td>Twitter for iPhone</td>\n",
       "      <td>Negative</td>\n",
       "      <td>0</td>\n",
       "      <td>training_set</td>\n",
       "    </tr>\n",
       "    <tr>\n",
       "      <th>1</th>\n",
       "      <td>sprectranet</td>\n",
       "      <td>2019-12-26 21:59:56</td>\n",
       "      <td>mtewww.....this was my predicament before i bo...</td>\n",
       "      <td>Twitter for Android</td>\n",
       "      <td>Positive</td>\n",
       "      <td>2</td>\n",
       "      <td>training_set</td>\n",
       "    </tr>\n",
       "    <tr>\n",
       "      <th>2</th>\n",
       "      <td>sprectranet</td>\n",
       "      <td>2019-04-20 16:54:09</td>\n",
       "      <td>spectranet_ng fiberone and smile just got hacked</td>\n",
       "      <td>Twitter for Android</td>\n",
       "      <td>Neutral</td>\n",
       "      <td>1</td>\n",
       "      <td>training_set</td>\n",
       "    </tr>\n",
       "    <tr>\n",
       "      <th>3</th>\n",
       "      <td>tizeti</td>\n",
       "      <td>2020-06-03 22:47:08+00:00</td>\n",
       "      <td>cant even get internet to do my work 🤡🤡🤡🤡👿 tizeti</td>\n",
       "      <td>Twitter for Android</td>\n",
       "      <td>Negative</td>\n",
       "      <td>0</td>\n",
       "      <td>training_set</td>\n",
       "    </tr>\n",
       "    <tr>\n",
       "      <th>4</th>\n",
       "      <td>sprectranet</td>\n",
       "      <td>2019-03-13 13:31:35</td>\n",
       "      <td>modelina the best! spectranet 12k5 monthly tiz...</td>\n",
       "      <td>Twitter for iPhone</td>\n",
       "      <td>Positive</td>\n",
       "      <td>2</td>\n",
       "      <td>training_set</td>\n",
       "    </tr>\n",
       "    <tr>\n",
       "      <th>...</th>\n",
       "      <td>...</td>\n",
       "      <td>...</td>\n",
       "      <td>...</td>\n",
       "      <td>...</td>\n",
       "      <td>...</td>\n",
       "      <td>...</td>\n",
       "      <td>...</td>\n",
       "    </tr>\n",
       "    <tr>\n",
       "      <th>283</th>\n",
       "      <td>sprectranet</td>\n",
       "      <td>2020-03-31 10:22:50+00:00</td>\n",
       "      <td>drightsauce spectranet is fucking me up. since...</td>\n",
       "      <td>Twitter for iPhone</td>\n",
       "      <td>Negative</td>\n",
       "      <td>0</td>\n",
       "      <td>training_set</td>\n",
       "    </tr>\n",
       "    <tr>\n",
       "      <th>284</th>\n",
       "      <td>sprectranet</td>\n",
       "      <td>2020-04-06 14:31:54+00:00</td>\n",
       "      <td>anyone in surulere using smile network? spectr...</td>\n",
       "      <td>Twitter for iPhone</td>\n",
       "      <td>Negative</td>\n",
       "      <td>0</td>\n",
       "      <td>training_set</td>\n",
       "    </tr>\n",
       "    <tr>\n",
       "      <th>285</th>\n",
       "      <td>sprectranet</td>\n",
       "      <td>2019-01-11 07:59:24</td>\n",
       "      <td>spectranet_ng account was made active yesterda...</td>\n",
       "      <td>Twitter for Android</td>\n",
       "      <td>Negative</td>\n",
       "      <td>0</td>\n",
       "      <td>training_set</td>\n",
       "    </tr>\n",
       "    <tr>\n",
       "      <th>286</th>\n",
       "      <td>sprectranet</td>\n",
       "      <td>2020-04-04 02:37:31+00:00</td>\n",
       "      <td>day or night spectranet_ng remain useless 🤦🏽‍♂️</td>\n",
       "      <td>Twitter for iPhone</td>\n",
       "      <td>Negative</td>\n",
       "      <td>0</td>\n",
       "      <td>training_set</td>\n",
       "    </tr>\n",
       "    <tr>\n",
       "      <th>287</th>\n",
       "      <td>sprectranet</td>\n",
       "      <td>2020-05-21 16:18:09+00:00</td>\n",
       "      <td>confyscenty officialbambam4 spectranet_ng leem...</td>\n",
       "      <td>Twitter for Android</td>\n",
       "      <td>Negative</td>\n",
       "      <td>0</td>\n",
       "      <td>training_set</td>\n",
       "    </tr>\n",
       "  </tbody>\n",
       "</table>\n",
       "<p>288 rows × 7 columns</p>\n",
       "</div>"
      ],
      "text/plain": [
       "        ISP_Name                       Time  \\\n",
       "0    sprectranet  2020-06-21 08:42:47+00:00   \n",
       "1    sprectranet        2019-12-26 21:59:56   \n",
       "2    sprectranet        2019-04-20 16:54:09   \n",
       "3         tizeti  2020-06-03 22:47:08+00:00   \n",
       "4    sprectranet        2019-03-13 13:31:35   \n",
       "..           ...                        ...   \n",
       "283  sprectranet  2020-03-31 10:22:50+00:00   \n",
       "284  sprectranet  2020-04-06 14:31:54+00:00   \n",
       "285  sprectranet        2019-01-11 07:59:24   \n",
       "286  sprectranet  2020-04-04 02:37:31+00:00   \n",
       "287  sprectranet  2020-05-21 16:18:09+00:00   \n",
       "\n",
       "                                                  Text               Source  \\\n",
       "0    deejay_klem smilecomsng well this means i will...   Twitter for iPhone   \n",
       "1    mtewww.....this was my predicament before i bo...  Twitter for Android   \n",
       "2     spectranet_ng fiberone and smile just got hacked  Twitter for Android   \n",
       "3    cant even get internet to do my work 🤡🤡🤡🤡👿 tizeti  Twitter for Android   \n",
       "4    modelina the best! spectranet 12k5 monthly tiz...   Twitter for iPhone   \n",
       "..                                                 ...                  ...   \n",
       "283  drightsauce spectranet is fucking me up. since...   Twitter for iPhone   \n",
       "284  anyone in surulere using smile network? spectr...   Twitter for iPhone   \n",
       "285  spectranet_ng account was made active yesterda...  Twitter for Android   \n",
       "286    day or night spectranet_ng remain useless 🤦🏽‍♂️   Twitter for iPhone   \n",
       "287  confyscenty officialbambam4 spectranet_ng leem...  Twitter for Android   \n",
       "\n",
       "    sentiment  label   split_group  \n",
       "0    Negative      0  training_set  \n",
       "1    Positive      2  training_set  \n",
       "2     Neutral      1  training_set  \n",
       "3    Negative      0  training_set  \n",
       "4    Positive      2  training_set  \n",
       "..        ...    ...           ...  \n",
       "283  Negative      0  training_set  \n",
       "284  Negative      0  training_set  \n",
       "285  Negative      0  training_set  \n",
       "286  Negative      0  training_set  \n",
       "287  Negative      0  training_set  \n",
       "\n",
       "[288 rows x 7 columns]"
      ]
     },
     "execution_count": 19,
     "metadata": {},
     "output_type": "execute_result"
    }
   ],
   "source": [
    "oversampled_df"
   ]
  },
  {
   "cell_type": "code",
   "execution_count": 20,
   "id": "b508814c-7b11-49ce-9ac1-0359c6211400",
   "metadata": {},
   "outputs": [
    {
     "data": {
      "text/plain": [
       "Negative    0.451389\n",
       "Positive    0.274306\n",
       "Neutral     0.274306\n",
       "Name: sentiment, dtype: float64"
      ]
     },
     "execution_count": 20,
     "metadata": {},
     "output_type": "execute_result"
    }
   ],
   "source": [
    "#Check the class proportions\n",
    "oversampled_df.sentiment.value_counts(normalize=True)"
   ]
  },
  {
   "cell_type": "code",
   "execution_count": 21,
   "id": "17074906-71a0-40df-beb7-79a6524e3d29",
   "metadata": {},
   "outputs": [
    {
     "data": {
      "image/png": "[encoded data removed]",
      "text/plain": [
       "<Figure size 443.225x360 with 1 Axes>"
      ]
     },
     "metadata": {},
     "output_type": "display_data"
    }
   ],
   "source": [
    "#Plot the proportion of each sentiment class in the training set\n",
    "sns.catplot(x='split_group', \n",
    "            y='percent', \n",
    "            hue='sentiment', \n",
    "            data=oversampled_df.groupby(['split_group'])['sentiment'].value_counts(normalize=True).\\\n",
    "            rename('percent').\\\n",
    "            reset_index(),kind='bar')\n",
    "plt.show()"
   ]
  },
  {
   "cell_type": "markdown",
   "id": "e8a51684-c700-4db8-8b69-93ce0f82638b",
   "metadata": {},
   "source": [
    "### a. Encode the training and validation sets"
   ]
  },
  {
   "cell_type": "code",
   "execution_count": 22,
   "id": "13d32778-83ea-4f0d-8051-db8023bf0ba7",
   "metadata": {},
   "outputs": [],
   "source": [
    "#Prepare the Training and validation sets\n",
    "oversampled_train_dataset = Generate_PyTorch_Dataset(\n",
    "    texts     = oversampled_df.query(\"split_group == 'training_set' \").Text.tolist(),\n",
    "    labels    = oversampled_df.query(\"split_group == 'training_set' \").label.tolist(),\n",
    "    tokenizer = tokenizer\n",
    ")\n",
    "\n",
    "val_set_dataset = Generate_PyTorch_Dataset(\n",
    "    texts    = df.query(\"split_group == 'validation_set' \").Text.tolist(),\n",
    "    labels = df.query(\"split_group == 'validation_set' \").label.tolist(),\n",
    "    tokenizer  = tokenizer\n",
    ")"
   ]
  },
  {
   "cell_type": "code",
   "execution_count": 25,
   "id": "bb6b8a1c-0dcb-4b93-ba7b-fd949e26bd8a",
   "metadata": {},
   "outputs": [
    {
     "name": "stderr",
     "output_type": "stream",
     "text": [
      "***** Running training *****\n",
      "  Num examples = 288\n",
      "  Num Epochs = 10\n",
      "  Instantaneous batch size per device = 8\n",
      "  Total train batch size (w. parallel, distributed & accumulation) = 8\n",
      "  Gradient Accumulation steps = 1\n",
      "  Total optimization steps = 360\n"
     ]
    },
    {
     "data": {
      "text/html": [
       "\n",
       "    <div>\n",
       "      \n",
       "      <progress value='360' max='360' style='width:300px; height:20px; vertical-align: middle;'></progress>\n",
       "      [360/360 50:50, Epoch 10/10]\n",
       "    </div>\n",
       "    <table border=\"1\" class=\"dataframe\">\n",
       "  <thead>\n",
       "    <tr style=\"text-align: left;\">\n",
       "      <th>Epoch</th>\n",
       "      <th>Training Loss</th>\n",
       "      <th>Validation Loss</th>\n",
       "      <th>F1</th>\n",
       "      <th>Precision</th>\n",
       "      <th>Recall</th>\n",
       "      <th>Accuracy</th>\n",
       "    </tr>\n",
       "  </thead>\n",
       "  <tbody>\n",
       "    <tr>\n",
       "      <td>1</td>\n",
       "      <td>No log</td>\n",
       "      <td>0.702094</td>\n",
       "      <td>0.763158</td>\n",
       "      <td>0.763158</td>\n",
       "      <td>0.763158</td>\n",
       "      <td>0.763158</td>\n",
       "    </tr>\n",
       "    <tr>\n",
       "      <td>2</td>\n",
       "      <td>No log</td>\n",
       "      <td>1.295210</td>\n",
       "      <td>0.723684</td>\n",
       "      <td>0.723684</td>\n",
       "      <td>0.723684</td>\n",
       "      <td>0.723684</td>\n",
       "    </tr>\n",
       "    <tr>\n",
       "      <td>3</td>\n",
       "      <td>No log</td>\n",
       "      <td>1.497282</td>\n",
       "      <td>0.723684</td>\n",
       "      <td>0.723684</td>\n",
       "      <td>0.723684</td>\n",
       "      <td>0.723684</td>\n",
       "    </tr>\n",
       "    <tr>\n",
       "      <td>4</td>\n",
       "      <td>No log</td>\n",
       "      <td>1.656071</td>\n",
       "      <td>0.710526</td>\n",
       "      <td>0.710526</td>\n",
       "      <td>0.710526</td>\n",
       "      <td>0.710526</td>\n",
       "    </tr>\n",
       "    <tr>\n",
       "      <td>5</td>\n",
       "      <td>No log</td>\n",
       "      <td>1.597593</td>\n",
       "      <td>0.750000</td>\n",
       "      <td>0.750000</td>\n",
       "      <td>0.750000</td>\n",
       "      <td>0.750000</td>\n",
       "    </tr>\n",
       "    <tr>\n",
       "      <td>6</td>\n",
       "      <td>No log</td>\n",
       "      <td>1.725344</td>\n",
       "      <td>0.736842</td>\n",
       "      <td>0.736842</td>\n",
       "      <td>0.736842</td>\n",
       "      <td>0.736842</td>\n",
       "    </tr>\n",
       "    <tr>\n",
       "      <td>7</td>\n",
       "      <td>No log</td>\n",
       "      <td>1.700232</td>\n",
       "      <td>0.750000</td>\n",
       "      <td>0.750000</td>\n",
       "      <td>0.750000</td>\n",
       "      <td>0.750000</td>\n",
       "    </tr>\n",
       "    <tr>\n",
       "      <td>8</td>\n",
       "      <td>No log</td>\n",
       "      <td>1.724273</td>\n",
       "      <td>0.750000</td>\n",
       "      <td>0.750000</td>\n",
       "      <td>0.750000</td>\n",
       "      <td>0.750000</td>\n",
       "    </tr>\n",
       "    <tr>\n",
       "      <td>9</td>\n",
       "      <td>No log</td>\n",
       "      <td>1.738871</td>\n",
       "      <td>0.750000</td>\n",
       "      <td>0.750000</td>\n",
       "      <td>0.750000</td>\n",
       "      <td>0.750000</td>\n",
       "    </tr>\n",
       "    <tr>\n",
       "      <td>10</td>\n",
       "      <td>No log</td>\n",
       "      <td>1.743852</td>\n",
       "      <td>0.750000</td>\n",
       "      <td>0.750000</td>\n",
       "      <td>0.750000</td>\n",
       "      <td>0.750000</td>\n",
       "    </tr>\n",
       "  </tbody>\n",
       "</table><p>"
      ],
      "text/plain": [
       "<IPython.core.display.HTML object>"
      ]
     },
     "metadata": {},
     "output_type": "display_data"
    },
    {
     "name": "stderr",
     "output_type": "stream",
     "text": [
      "***** Running Evaluation *****\n",
      "  Num examples = 76\n",
      "  Batch size = 16\n",
      "Saving model checkpoint to ../models/bertweet/after-oversampling/checkpoint-36\n",
      "Configuration saved in ../models/bertweet/after-oversampling/checkpoint-36/config.json\n",
      "Model weights saved in ../models/bertweet/after-oversampling/checkpoint-36/pytorch_model.bin\n",
      "***** Running Evaluation *****\n",
      "  Num examples = 76\n",
      "  Batch size = 16\n",
      "Saving model checkpoint to ../models/bertweet/after-oversampling/checkpoint-72\n",
      "Configuration saved in ../models/bertweet/after-oversampling/checkpoint-72/config.json\n",
      "Model weights saved in ../models/bertweet/after-oversampling/checkpoint-72/pytorch_model.bin\n",
      "***** Running Evaluation *****\n",
      "  Num examples = 76\n",
      "  Batch size = 16\n",
      "Saving model checkpoint to ../models/bertweet/after-oversampling/checkpoint-108\n",
      "Configuration saved in ../models/bertweet/after-oversampling/checkpoint-108/config.json\n",
      "Model weights saved in ../models/bertweet/after-oversampling/checkpoint-108/pytorch_model.bin\n",
      "***** Running Evaluation *****\n",
      "  Num examples = 76\n",
      "  Batch size = 16\n",
      "Saving model checkpoint to ../models/bertweet/after-oversampling/checkpoint-144\n",
      "Configuration saved in ../models/bertweet/after-oversampling/checkpoint-144/config.json\n",
      "Model weights saved in ../models/bertweet/after-oversampling/checkpoint-144/pytorch_model.bin\n",
      "***** Running Evaluation *****\n",
      "  Num examples = 76\n",
      "  Batch size = 16\n",
      "Saving model checkpoint to ../models/bertweet/after-oversampling/checkpoint-180\n",
      "Configuration saved in ../models/bertweet/after-oversampling/checkpoint-180/config.json\n",
      "Model weights saved in ../models/bertweet/after-oversampling/checkpoint-180/pytorch_model.bin\n",
      "***** Running Evaluation *****\n",
      "  Num examples = 76\n",
      "  Batch size = 16\n",
      "Saving model checkpoint to ../models/bertweet/after-oversampling/checkpoint-216\n",
      "Configuration saved in ../models/bertweet/after-oversampling/checkpoint-216/config.json\n",
      "Model weights saved in ../models/bertweet/after-oversampling/checkpoint-216/pytorch_model.bin\n",
      "***** Running Evaluation *****\n",
      "  Num examples = 76\n",
      "  Batch size = 16\n",
      "Saving model checkpoint to ../models/bertweet/after-oversampling/checkpoint-252\n",
      "Configuration saved in ../models/bertweet/after-oversampling/checkpoint-252/config.json\n",
      "Model weights saved in ../models/bertweet/after-oversampling/checkpoint-252/pytorch_model.bin\n",
      "***** Running Evaluation *****\n",
      "  Num examples = 76\n",
      "  Batch size = 16\n",
      "Saving model checkpoint to ../models/bertweet/after-oversampling/checkpoint-288\n",
      "Configuration saved in ../models/bertweet/after-oversampling/checkpoint-288/config.json\n",
      "Model weights saved in ../models/bertweet/after-oversampling/checkpoint-288/pytorch_model.bin\n",
      "***** Running Evaluation *****\n",
      "  Num examples = 76\n",
      "  Batch size = 16\n",
      "Saving model checkpoint to ../models/bertweet/after-oversampling/checkpoint-324\n",
      "Configuration saved in ../models/bertweet/after-oversampling/checkpoint-324/config.json\n",
      "Model weights saved in ../models/bertweet/after-oversampling/checkpoint-324/pytorch_model.bin\n",
      "***** Running Evaluation *****\n",
      "  Num examples = 76\n",
      "  Batch size = 16\n",
      "Saving model checkpoint to ../models/bertweet/after-oversampling/checkpoint-360\n",
      "Configuration saved in ../models/bertweet/after-oversampling/checkpoint-360/config.json\n",
      "Model weights saved in ../models/bertweet/after-oversampling/checkpoint-360/pytorch_model.bin\n",
      "\n",
      "\n",
      "Training completed. Do not forget to share your model on huggingface.co/models =)\n",
      "\n",
      "\n"
     ]
    },
    {
     "data": {
      "text/plain": [
       "TrainOutput(global_step=360, training_loss=0.10306854248046875, metrics={'train_runtime': 3058.5196, 'train_samples_per_second': 0.942, 'train_steps_per_second': 0.118, 'total_flos': 298382247936000.0, 'train_loss': 0.10306854248046875, 'epoch': 10.0})"
      ]
     },
     "execution_count": 25,
     "metadata": {},
     "output_type": "execute_result"
    }
   ],
   "source": [
    "#Load the model\n",
    "model = AutoModelForSequenceClassification.from_pretrained(\"finiteautomata/bertweet-base-sentiment-analysis\")\n",
    "\n",
    "#Define the training parameters\n",
    "oversampling_training_args = TrainingArguments(\n",
    "    output_dir                  = \"../models/bertweet/after-oversampling\",\n",
    "    num_train_epochs            = 10,\n",
    "    per_device_eval_batch_size  = 16,\n",
    "    save_strategy               = \"epoch\",\n",
    "    evaluation_strategy         = \"epoch\"\n",
    ")\n",
    "\n",
    "#Define Trainer object\n",
    "oversampling_trainer = Trainer(\n",
    "    model           = model,\n",
    "    args            = oversampling_training_args,\n",
    "    train_dataset   = oversampled_train_dataset,\n",
    "    eval_dataset    = val_set_dataset,\n",
    "    compute_metrics = compute_metrics\n",
    ")\n",
    "\n",
    "oversampling_trainer.train()"
   ]
  },
  {
   "cell_type": "code",
   "execution_count": 26,
   "id": "d7995d32-d48f-402d-95d4-3388a84bf148",
   "metadata": {},
   "outputs": [],
   "source": [
    "#Got the training logs\n",
    "oversampled_history = pd.DataFrame(oversampling_trainer.state.log_history)\n",
    "oversampled_history.to_csv(\"../models/logs/oversampled_logs.csv\",index=False)"
   ]
  },
  {
   "cell_type": "code",
   "execution_count": 27,
   "id": "c1cb59fb-043d-486d-8a23-3f5151ed2fdf",
   "metadata": {},
   "outputs": [
    {
     "data": {
      "image/png": "[encoded data removed]",
      "text/plain": [
       "<Figure size 1080x648 with 6 Axes>"
      ]
     },
     "metadata": {},
     "output_type": "display_data"
    }
   ],
   "source": [
    "plt.figure(figsize=(15,9))\n",
    "plt.tight_layout()\n",
    "\n",
    "metrics = ['eval_loss','eval_f1','eval_precision','eval_recall','eval_accuracy','eval_runtime']\n",
    "\n",
    "for idx, metric in enumerate(metrics):\n",
    "    plt.subplot(2,3,idx+1).plot(oversampled_history['epoch'],\n",
    "                                oversampled_history[metric],\n",
    "                                label='validation')\n",
    "    plt.xlabel('Epoch')\n",
    "    plt.ylabel(metric.replace('eval_','').capitalize())\n",
    "    plt.legend()"
   ]
  },
  {
   "cell_type": "markdown",
   "id": "1968f5a0-ded6-415e-8d92-65d8b96386b5",
   "metadata": {},
   "source": [
    "The models from oversampling perform significantly worse than those from our loss-reweighting approach"
   ]
  },
  {
   "cell_type": "markdown",
   "id": "0b95f9d4-6f88-4d3f-9a19-e6e8c51e1113",
   "metadata": {},
   "source": [
    "#### • Load the best checkpoint"
   ]
  },
  {
   "cell_type": "code",
   "execution_count": 135,
   "id": "4dd6712d-defc-4c09-b830-5bd087853b01",
   "metadata": {},
   "outputs": [
    {
     "name": "stderr",
     "output_type": "stream",
     "text": [
      "loading configuration file ../models/bertweet/after-oversampling/checkpoint-252/config.json\n",
      "Model config RobertaConfig {\n",
      "  \"_name_or_path\": \"finiteautomata/bertweet-base-sentiment-analysis\",\n",
      "  \"architectures\": [\n",
      "    \"RobertaForSequenceClassification\"\n",
      "  ],\n",
      "  \"attention_probs_dropout_prob\": 0.1,\n",
      "  \"bos_token_id\": 0,\n",
      "  \"eos_token_id\": 2,\n",
      "  \"gradient_checkpointing\": false,\n",
      "  \"hidden_act\": \"gelu\",\n",
      "  \"hidden_dropout_prob\": 0.1,\n",
      "  \"hidden_size\": 768,\n",
      "  \"id2label\": {\n",
      "    \"0\": \"NEG\",\n",
      "    \"1\": \"NEU\",\n",
      "    \"2\": \"POS\"\n",
      "  },\n",
      "  \"initializer_range\": 0.02,\n",
      "  \"intermediate_size\": 3072,\n",
      "  \"label2id\": {\n",
      "    \"NEG\": 0,\n",
      "    \"NEU\": 1,\n",
      "    \"POS\": 2\n",
      "  },\n",
      "  \"layer_norm_eps\": 1e-05,\n",
      "  \"max_position_embeddings\": 130,\n",
      "  \"model_type\": \"roberta\",\n",
      "  \"num_attention_heads\": 12,\n",
      "  \"num_hidden_layers\": 12,\n",
      "  \"pad_token_id\": 1,\n",
      "  \"position_embedding_type\": \"absolute\",\n",
      "  \"problem_type\": \"single_label_classification\",\n",
      "  \"tokenizer_class\": \"BertweetTokenizer\",\n",
      "  \"transformers_version\": \"4.8.0\",\n",
      "  \"type_vocab_size\": 1,\n",
      "  \"use_cache\": true,\n",
      "  \"vocab_size\": 64001\n",
      "}\n",
      "\n",
      "loading weights file ../models/bertweet/after-oversampling/checkpoint-252/pytorch_model.bin\n",
      "All model checkpoint weights were used when initializing RobertaForSequenceClassification.\n",
      "\n",
      "All the weights of RobertaForSequenceClassification were initialized from the model checkpoint at ../models/bertweet/after-oversampling/checkpoint-252.\n",
      "If your task is similar to the task the model of the checkpoint was trained on, you can already use RobertaForSequenceClassification for predictions without further training.\n",
      "PyTorch: setting up devices\n",
      "The default value for the training argument `--report_to` will change in v5 (from all installed integrations to none). In v5, you will need to use `--report_to all` to get the same behavior as now. You should start updating your code and make this info disappear :-).\n",
      "***** Running Prediction *****\n",
      "  Num examples = 76\n",
      "  Batch size = 8\n"
     ]
    },
    {
     "data": {
      "text/html": [
       "\n",
       "    <div>\n",
       "      \n",
       "      <progress value='10' max='10' style='width:300px; height:20px; vertical-align: middle;'></progress>\n",
       "      [10/10 00:18]\n",
       "    </div>\n",
       "    "
      ],
      "text/plain": [
       "<IPython.core.display.HTML object>"
      ]
     },
     "metadata": {},
     "output_type": "display_data"
    }
   ],
   "source": [
    "#Load the model\n",
    "best_oversampled = AutoModelForSequenceClassification.from_pretrained(\"../models/bertweet/after-oversampling/checkpoint-252\")\n",
    "\n",
    "training_args = TrainingArguments(\n",
    "    output_dir = \"../model_predictions\",\n",
    "    do_predict = True\n",
    ")\n",
    "\n",
    "trainer = Trainer(\n",
    "    model           = best_oversampled,\n",
    "    args            = training_args,\n",
    "    compute_metrics = compute_metrics\n",
    ")\n",
    "\n",
    "oversampled_test_preds = trainer.predict(test_set_dataset)"
   ]
  },
  {
   "cell_type": "markdown",
   "id": "7b3f89ad-d6b9-4389-8a6c-9f35f94d34b5",
   "metadata": {},
   "source": [
    "#### • Evaluating the model: How well does it classify tweets?"
   ]
  },
  {
   "cell_type": "code",
   "execution_count": 136,
   "id": "cf0be41e-5dec-45f6-af7a-9915b6b9c3e6",
   "metadata": {},
   "outputs": [
    {
     "data": {
      "text/html": [
       "<div>\n",
       "<style scoped>\n",
       "    .dataframe tbody tr th:only-of-type {\n",
       "        vertical-align: middle;\n",
       "    }\n",
       "\n",
       "    .dataframe tbody tr th {\n",
       "        vertical-align: top;\n",
       "    }\n",
       "\n",
       "    .dataframe thead th {\n",
       "        text-align: right;\n",
       "    }\n",
       "</style>\n",
       "<table border=\"1\" class=\"dataframe\">\n",
       "  <thead>\n",
       "    <tr style=\"text-align: right;\">\n",
       "      <th></th>\n",
       "      <th>test_loss</th>\n",
       "      <th>test_f1</th>\n",
       "      <th>test_precision</th>\n",
       "      <th>test_recall</th>\n",
       "      <th>test_accuracy</th>\n",
       "      <th>test_runtime</th>\n",
       "      <th>test_samples_per_second</th>\n",
       "      <th>test_steps_per_second</th>\n",
       "    </tr>\n",
       "  </thead>\n",
       "  <tbody>\n",
       "    <tr>\n",
       "      <th>0</th>\n",
       "      <td>1.125088</td>\n",
       "      <td>0.789474</td>\n",
       "      <td>0.789474</td>\n",
       "      <td>0.789474</td>\n",
       "      <td>0.789474</td>\n",
       "      <td>20.8034</td>\n",
       "      <td>3.653</td>\n",
       "      <td>0.481</td>\n",
       "    </tr>\n",
       "  </tbody>\n",
       "</table>\n",
       "</div>"
      ],
      "text/plain": [
       "   test_loss   test_f1  test_precision  test_recall  test_accuracy  \\\n",
       "0   1.125088  0.789474        0.789474     0.789474       0.789474   \n",
       "\n",
       "   test_runtime  test_samples_per_second  test_steps_per_second  \n",
       "0       20.8034                    3.653                  0.481  "
      ]
     },
     "execution_count": 136,
     "metadata": {},
     "output_type": "execute_result"
    }
   ],
   "source": [
    "pd.DataFrame([oversampled_test_preds[-1]])"
   ]
  },
  {
   "cell_type": "code",
   "execution_count": 137,
   "id": "35c28ca9-5441-4b52-b1a4-b80668f8e195",
   "metadata": {},
   "outputs": [
    {
     "name": "stdout",
     "output_type": "stream",
     "text": [
      "              precision    recall  f1-score   support\n",
      "\n",
      "           0       0.81      0.88      0.84        43\n",
      "           1       0.79      0.70      0.75        27\n",
      "           2       0.60      0.50      0.55         6\n",
      "\n",
      "    accuracy                           0.79        76\n",
      "   macro avg       0.73      0.70      0.71        76\n",
      "weighted avg       0.79      0.79      0.79        76\n",
      "\n"
     ]
    }
   ],
   "source": [
    "y_true = df.query(\"split_group == 'test_set' \").label.tolist()\n",
    "oversampled_preds = np.argmax(oversampled_test_preds[0], axis=1).flatten()\n",
    "\n",
    "print(classification_report(y_true, oversampled_preds))"
   ]
  },
  {
   "cell_type": "code",
   "execution_count": 138,
   "id": "68e441d3-ef86-47ab-afef-0e6d50cbd4c9",
   "metadata": {},
   "outputs": [],
   "source": [
    "oversampled_cm = confusion_matrix(y_true, oversampled_preds)\n",
    "oversampled_disp = ConfusionMatrixDisplay(confusion_matrix=oversampled_cm, \n",
    "                                          display_labels = ['Negative', 'Neutral', 'Positive'])"
   ]
  },
  {
   "cell_type": "code",
   "execution_count": 139,
   "id": "202a2e0d-ea78-4573-842a-8cf073856510",
   "metadata": {},
   "outputs": [
    {
     "data": {
      "image/png": "[encoded data removed]",
      "text/plain": [
       "<Figure size 432x288 with 2 Axes>"
      ]
     },
     "metadata": {},
     "output_type": "display_data"
    }
   ],
   "source": [
    "oversampled_disp.plot(cmap='Blues',ax=None)\n",
    "plt.grid(False)\n",
    "plt.show()"
   ]
  },
  {
   "cell_type": "code",
   "execution_count": 146,
   "id": "1040bbab-0732-4de0-918a-b2649ecb5ec1",
   "metadata": {},
   "outputs": [
    {
     "data": {
      "text/html": [
       "<div>\n",
       "<style scoped>\n",
       "    .dataframe tbody tr th:only-of-type {\n",
       "        vertical-align: middle;\n",
       "    }\n",
       "\n",
       "    .dataframe tbody tr th {\n",
       "        vertical-align: top;\n",
       "    }\n",
       "\n",
       "    .dataframe thead th {\n",
       "        text-align: right;\n",
       "    }\n",
       "</style>\n",
       "<table border=\"1\" class=\"dataframe\">\n",
       "  <thead>\n",
       "    <tr style=\"text-align: right;\">\n",
       "      <th></th>\n",
       "      <th>test_loss</th>\n",
       "      <th>test_f1</th>\n",
       "      <th>test_precision</th>\n",
       "      <th>test_recall</th>\n",
       "      <th>test_accuracy</th>\n",
       "      <th>test_runtime</th>\n",
       "      <th>test_samples_per_second</th>\n",
       "      <th>test_steps_per_second</th>\n",
       "    </tr>\n",
       "  </thead>\n",
       "  <tbody>\n",
       "    <tr>\n",
       "      <th>0</th>\n",
       "      <td>1.074658</td>\n",
       "      <td>0.815789</td>\n",
       "      <td>0.815789</td>\n",
       "      <td>0.815789</td>\n",
       "      <td>0.815789</td>\n",
       "      <td>19.6118</td>\n",
       "      <td>3.875</td>\n",
       "      <td>0.51</td>\n",
       "    </tr>\n",
       "  </tbody>\n",
       "</table>\n",
       "</div>"
      ],
      "text/plain": [
       "   test_loss   test_f1  test_precision  test_recall  test_accuracy  \\\n",
       "0   1.074658  0.815789        0.815789     0.815789       0.815789   \n",
       "\n",
       "   test_runtime  test_samples_per_second  test_steps_per_second  \n",
       "0       19.6118                    3.875                   0.51  "
      ]
     },
     "execution_count": 146,
     "metadata": {},
     "output_type": "execute_result"
    }
   ],
   "source": [
    "pd.DataFrame([test_preds.metrics])"
   ]
  },
  {
   "cell_type": "code",
   "execution_count": null,
   "id": "66134437-f6ed-4ca8-b6af-c365e3dd5ecd",
   "metadata": {},
   "outputs": [],
   "source": []
  },
  {
   "cell_type": "code",
   "execution_count": 147,
   "id": "f5286c00-12fa-49fa-bf61-818a61291905",
   "metadata": {},
   "outputs": [
    {
     "name": "stderr",
     "output_type": "stream",
     "text": [
      "loading configuration file https://huggingface.co/finiteautomata/bertweet-base-sentiment-analysis/resolve/main/config.json from cache at /Users/koredeakande/.cache/huggingface/transformers/cb09766f7ba60b5f7a1bb640617b24f1499c4a6f3ab160c4a0ac171e3a377c68.008dca06003188334001a96363da79ced4944abc68d94a2f1e0db786dc5aa08b\n",
      "Model config RobertaConfig {\n",
      "  \"_name_or_path\": \"vinai/bertweet-base\",\n",
      "  \"architectures\": [\n",
      "    \"RobertaForSequenceClassification\"\n",
      "  ],\n",
      "  \"attention_probs_dropout_prob\": 0.1,\n",
      "  \"bos_token_id\": 0,\n",
      "  \"eos_token_id\": 2,\n",
      "  \"gradient_checkpointing\": false,\n",
      "  \"hidden_act\": \"gelu\",\n",
      "  \"hidden_dropout_prob\": 0.1,\n",
      "  \"hidden_size\": 768,\n",
      "  \"id2label\": {\n",
      "    \"0\": \"NEG\",\n",
      "    \"1\": \"NEU\",\n",
      "    \"2\": \"POS\"\n",
      "  },\n",
      "  \"initializer_range\": 0.02,\n",
      "  \"intermediate_size\": 3072,\n",
      "  \"label2id\": {\n",
      "    \"NEG\": 0,\n",
      "    \"NEU\": 1,\n",
      "    \"POS\": 2\n",
      "  },\n",
      "  \"layer_norm_eps\": 1e-05,\n",
      "  \"max_position_embeddings\": 130,\n",
      "  \"model_type\": \"roberta\",\n",
      "  \"num_attention_heads\": 12,\n",
      "  \"num_hidden_layers\": 12,\n",
      "  \"pad_token_id\": 1,\n",
      "  \"position_embedding_type\": \"absolute\",\n",
      "  \"problem_type\": \"single_label_classification\",\n",
      "  \"tokenizer_class\": \"BertweetTokenizer\",\n",
      "  \"transformers_version\": \"4.8.0\",\n",
      "  \"type_vocab_size\": 1,\n",
      "  \"use_cache\": true,\n",
      "  \"vocab_size\": 64001\n",
      "}\n",
      "\n",
      "loading weights file https://huggingface.co/finiteautomata/bertweet-base-sentiment-analysis/resolve/main/pytorch_model.bin from cache at /Users/koredeakande/.cache/huggingface/transformers/2e4719cf8d097772eb75070b88cbc56f1d3b1392fffc5f75032a389ef21d1847.16366ca1277caccb15200478349503b3336a1420ac26d44fc16763354f5a2cae\n",
      "All model checkpoint weights were used when initializing RobertaForSequenceClassification.\n",
      "\n",
      "All the weights of RobertaForSequenceClassification were initialized from the model checkpoint at finiteautomata/bertweet-base-sentiment-analysis.\n",
      "If your task is similar to the task the model of the checkpoint was trained on, you can already use RobertaForSequenceClassification for predictions without further training.\n",
      "PyTorch: setting up devices\n",
      "The default value for the training argument `--report_to` will change in v5 (from all installed integrations to none). In v5, you will need to use `--report_to all` to get the same behavior as now. You should start updating your code and make this info disappear :-).\n",
      "***** Running training *****\n",
      "  Num examples = 288\n",
      "  Num Epochs = 20\n",
      "  Instantaneous batch size per device = 32\n",
      "  Total train batch size (w. parallel, distributed & accumulation) = 32\n",
      "  Gradient Accumulation steps = 1\n",
      "  Total optimization steps = 180\n"
     ]
    },
    {
     "data": {
      "text/html": [
       "\n",
       "    <div>\n",
       "      \n",
       "      <progress value='53' max='180' style='width:300px; height:20px; vertical-align: middle;'></progress>\n",
       "      [ 53/180 37:50 < 1:34:13, 0.02 it/s, Epoch 5.78/20]\n",
       "    </div>\n",
       "    <table border=\"1\" class=\"dataframe\">\n",
       "  <thead>\n",
       "    <tr style=\"text-align: left;\">\n",
       "      <th>Epoch</th>\n",
       "      <th>Training Loss</th>\n",
       "      <th>Validation Loss</th>\n",
       "      <th>F1</th>\n",
       "      <th>Precision</th>\n",
       "      <th>Recall</th>\n",
       "      <th>Accuracy</th>\n",
       "    </tr>\n",
       "  </thead>\n",
       "  <tbody>\n",
       "    <tr>\n",
       "      <td>1</td>\n",
       "      <td>No log</td>\n",
       "      <td>0.605818</td>\n",
       "      <td>0.793814</td>\n",
       "      <td>0.793814</td>\n",
       "      <td>0.793814</td>\n",
       "      <td>0.793814</td>\n",
       "    </tr>\n",
       "    <tr>\n",
       "      <td>2</td>\n",
       "      <td>No log</td>\n",
       "      <td>0.537871</td>\n",
       "      <td>0.824742</td>\n",
       "      <td>0.824742</td>\n",
       "      <td>0.824742</td>\n",
       "      <td>0.824742</td>\n",
       "    </tr>\n",
       "    <tr>\n",
       "      <td>3</td>\n",
       "      <td>No log</td>\n",
       "      <td>0.668581</td>\n",
       "      <td>0.835052</td>\n",
       "      <td>0.835052</td>\n",
       "      <td>0.835052</td>\n",
       "      <td>0.835052</td>\n",
       "    </tr>\n",
       "    <tr>\n",
       "      <td>4</td>\n",
       "      <td>No log</td>\n",
       "      <td>0.530798</td>\n",
       "      <td>0.835052</td>\n",
       "      <td>0.835052</td>\n",
       "      <td>0.835052</td>\n",
       "      <td>0.835052</td>\n",
       "    </tr>\n",
       "    <tr>\n",
       "      <td>5</td>\n",
       "      <td>No log</td>\n",
       "      <td>0.608592</td>\n",
       "      <td>0.865979</td>\n",
       "      <td>0.865979</td>\n",
       "      <td>0.865979</td>\n",
       "      <td>0.865979</td>\n",
       "    </tr>\n",
       "  </tbody>\n",
       "</table><p>"
      ],
      "text/plain": [
       "<IPython.core.display.HTML object>"
      ]
     },
     "metadata": {},
     "output_type": "display_data"
    },
    {
     "name": "stderr",
     "output_type": "stream",
     "text": [
      "***** Running Evaluation *****\n",
      "  Num examples = 97\n",
      "  Batch size = 16\n",
      "***** Running Evaluation *****\n",
      "  Num examples = 97\n",
      "  Batch size = 16\n",
      "Saving model checkpoint to ../models/bertweet/after-oversampling/checkpoint-20\n",
      "Configuration saved in ../models/bertweet/after-oversampling/checkpoint-20/config.json\n",
      "Model weights saved in ../models/bertweet/after-oversampling/checkpoint-20/pytorch_model.bin\n",
      "***** Running Evaluation *****\n",
      "  Num examples = 97\n",
      "  Batch size = 16\n",
      "***** Running Evaluation *****\n",
      "  Num examples = 97\n",
      "  Batch size = 16\n",
      "Saving model checkpoint to ../models/bertweet/after-oversampling/checkpoint-40\n",
      "Configuration saved in ../models/bertweet/after-oversampling/checkpoint-40/config.json\n",
      "Model weights saved in ../models/bertweet/after-oversampling/checkpoint-40/pytorch_model.bin\n",
      "***** Running Evaluation *****\n",
      "  Num examples = 97\n",
      "  Batch size = 16\n"
     ]
    },
    {
     "ename": "KeyboardInterrupt",
     "evalue": "",
     "output_type": "error",
     "traceback": [
      "\u001b[0;31m---------------------------------------------------------------------------\u001b[0m",
      "\u001b[0;31mKeyboardInterrupt\u001b[0m                         Traceback (most recent call last)",
      "\u001b[0;32m/var/folders/j5/540q0bw12gx3g56qg4llbmlh0000gn/T/ipykernel_1770/1215099021.py\u001b[0m in \u001b[0;36m<module>\u001b[0;34m\u001b[0m\n\u001b[1;32m     22\u001b[0m )\n\u001b[1;32m     23\u001b[0m \u001b[0;34m\u001b[0m\u001b[0m\n\u001b[0;32m---> 24\u001b[0;31m \u001b[0mtrainer\u001b[0m\u001b[0;34m.\u001b[0m\u001b[0mtrain\u001b[0m\u001b[0;34m(\u001b[0m\u001b[0;34m)\u001b[0m\u001b[0;34m\u001b[0m\u001b[0;34m\u001b[0m\u001b[0m\n\u001b[0m",
      "\u001b[0;32m~/opt/anaconda3/envs/capstone/lib/python3.7/site-packages/transformers/trainer.py\u001b[0m in \u001b[0;36mtrain\u001b[0;34m(self, resume_from_checkpoint, trial, **kwargs)\u001b[0m\n\u001b[1;32m   1267\u001b[0m                         \u001b[0mtr_loss\u001b[0m \u001b[0;34m+=\u001b[0m \u001b[0mself\u001b[0m\u001b[0;34m.\u001b[0m\u001b[0mtraining_step\u001b[0m\u001b[0;34m(\u001b[0m\u001b[0mmodel\u001b[0m\u001b[0;34m,\u001b[0m \u001b[0minputs\u001b[0m\u001b[0;34m)\u001b[0m\u001b[0;34m\u001b[0m\u001b[0;34m\u001b[0m\u001b[0m\n\u001b[1;32m   1268\u001b[0m                 \u001b[0;32melse\u001b[0m\u001b[0;34m:\u001b[0m\u001b[0;34m\u001b[0m\u001b[0;34m\u001b[0m\u001b[0m\n\u001b[0;32m-> 1269\u001b[0;31m                     \u001b[0mtr_loss\u001b[0m \u001b[0;34m+=\u001b[0m \u001b[0mself\u001b[0m\u001b[0;34m.\u001b[0m\u001b[0mtraining_step\u001b[0m\u001b[0;34m(\u001b[0m\u001b[0mmodel\u001b[0m\u001b[0;34m,\u001b[0m \u001b[0minputs\u001b[0m\u001b[0;34m)\u001b[0m\u001b[0;34m\u001b[0m\u001b[0;34m\u001b[0m\u001b[0m\n\u001b[0m\u001b[1;32m   1270\u001b[0m                 \u001b[0mself\u001b[0m\u001b[0;34m.\u001b[0m\u001b[0mcurrent_flos\u001b[0m \u001b[0;34m+=\u001b[0m \u001b[0mfloat\u001b[0m\u001b[0;34m(\u001b[0m\u001b[0mself\u001b[0m\u001b[0;34m.\u001b[0m\u001b[0mfloating_point_ops\u001b[0m\u001b[0;34m(\u001b[0m\u001b[0minputs\u001b[0m\u001b[0;34m)\u001b[0m\u001b[0;34m)\u001b[0m\u001b[0;34m\u001b[0m\u001b[0;34m\u001b[0m\u001b[0m\n\u001b[1;32m   1271\u001b[0m \u001b[0;34m\u001b[0m\u001b[0m\n",
      "\u001b[0;32m~/opt/anaconda3/envs/capstone/lib/python3.7/site-packages/transformers/trainer.py\u001b[0m in \u001b[0;36mtraining_step\u001b[0;34m(self, model, inputs)\u001b[0m\n\u001b[1;32m   1770\u001b[0m             \u001b[0mloss\u001b[0m \u001b[0;34m=\u001b[0m \u001b[0mself\u001b[0m\u001b[0;34m.\u001b[0m\u001b[0mdeepspeed\u001b[0m\u001b[0;34m.\u001b[0m\u001b[0mbackward\u001b[0m\u001b[0;34m(\u001b[0m\u001b[0mloss\u001b[0m\u001b[0;34m)\u001b[0m\u001b[0;34m\u001b[0m\u001b[0;34m\u001b[0m\u001b[0m\n\u001b[1;32m   1771\u001b[0m         \u001b[0;32melse\u001b[0m\u001b[0;34m:\u001b[0m\u001b[0;34m\u001b[0m\u001b[0;34m\u001b[0m\u001b[0m\n\u001b[0;32m-> 1772\u001b[0;31m             \u001b[0mloss\u001b[0m\u001b[0;34m.\u001b[0m\u001b[0mbackward\u001b[0m\u001b[0;34m(\u001b[0m\u001b[0;34m)\u001b[0m\u001b[0;34m\u001b[0m\u001b[0;34m\u001b[0m\u001b[0m\n\u001b[0m\u001b[1;32m   1773\u001b[0m \u001b[0;34m\u001b[0m\u001b[0m\n\u001b[1;32m   1774\u001b[0m         \u001b[0;32mreturn\u001b[0m \u001b[0mloss\u001b[0m\u001b[0;34m.\u001b[0m\u001b[0mdetach\u001b[0m\u001b[0;34m(\u001b[0m\u001b[0;34m)\u001b[0m\u001b[0;34m\u001b[0m\u001b[0;34m\u001b[0m\u001b[0m\n",
      "\u001b[0;32m~/opt/anaconda3/envs/capstone/lib/python3.7/site-packages/torch/_tensor.py\u001b[0m in \u001b[0;36mbackward\u001b[0;34m(self, gradient, retain_graph, create_graph, inputs)\u001b[0m\n\u001b[1;32m    305\u001b[0m                 \u001b[0mcreate_graph\u001b[0m\u001b[0;34m=\u001b[0m\u001b[0mcreate_graph\u001b[0m\u001b[0;34m,\u001b[0m\u001b[0;34m\u001b[0m\u001b[0;34m\u001b[0m\u001b[0m\n\u001b[1;32m    306\u001b[0m                 inputs=inputs)\n\u001b[0;32m--> 307\u001b[0;31m         \u001b[0mtorch\u001b[0m\u001b[0;34m.\u001b[0m\u001b[0mautograd\u001b[0m\u001b[0;34m.\u001b[0m\u001b[0mbackward\u001b[0m\u001b[0;34m(\u001b[0m\u001b[0mself\u001b[0m\u001b[0;34m,\u001b[0m \u001b[0mgradient\u001b[0m\u001b[0;34m,\u001b[0m \u001b[0mretain_graph\u001b[0m\u001b[0;34m,\u001b[0m \u001b[0mcreate_graph\u001b[0m\u001b[0;34m,\u001b[0m \u001b[0minputs\u001b[0m\u001b[0;34m=\u001b[0m\u001b[0minputs\u001b[0m\u001b[0;34m)\u001b[0m\u001b[0;34m\u001b[0m\u001b[0;34m\u001b[0m\u001b[0m\n\u001b[0m\u001b[1;32m    308\u001b[0m \u001b[0;34m\u001b[0m\u001b[0m\n\u001b[1;32m    309\u001b[0m     \u001b[0;32mdef\u001b[0m \u001b[0mregister_hook\u001b[0m\u001b[0;34m(\u001b[0m\u001b[0mself\u001b[0m\u001b[0;34m,\u001b[0m \u001b[0mhook\u001b[0m\u001b[0;34m)\u001b[0m\u001b[0;34m:\u001b[0m\u001b[0;34m\u001b[0m\u001b[0;34m\u001b[0m\u001b[0m\n",
      "\u001b[0;32m~/opt/anaconda3/envs/capstone/lib/python3.7/site-packages/torch/autograd/__init__.py\u001b[0m in \u001b[0;36mbackward\u001b[0;34m(tensors, grad_tensors, retain_graph, create_graph, grad_variables, inputs)\u001b[0m\n\u001b[1;32m    154\u001b[0m     Variable._execution_engine.run_backward(\n\u001b[1;32m    155\u001b[0m         \u001b[0mtensors\u001b[0m\u001b[0;34m,\u001b[0m \u001b[0mgrad_tensors_\u001b[0m\u001b[0;34m,\u001b[0m \u001b[0mretain_graph\u001b[0m\u001b[0;34m,\u001b[0m \u001b[0mcreate_graph\u001b[0m\u001b[0;34m,\u001b[0m \u001b[0minputs\u001b[0m\u001b[0;34m,\u001b[0m\u001b[0;34m\u001b[0m\u001b[0;34m\u001b[0m\u001b[0m\n\u001b[0;32m--> 156\u001b[0;31m         allow_unreachable=True, accumulate_grad=True)  # allow_unreachable flag\n\u001b[0m\u001b[1;32m    157\u001b[0m \u001b[0;34m\u001b[0m\u001b[0m\n\u001b[1;32m    158\u001b[0m \u001b[0;34m\u001b[0m\u001b[0m\n",
      "\u001b[0;31mKeyboardInterrupt\u001b[0m: "
     ]
    }
   ],
   "source": [
    "#Load the model\n",
    "oversampled_model = AutoModelForSequenceClassification.from_pretrained(\"finiteautomata/bertweet-base-sentiment-analysis\")\n",
    "\n",
    "#Define the training parameters\n",
    "training_args = TrainingArguments(\n",
    "    output_dir                  = \"../models/bertweet/after-oversampling\",\n",
    "    num_train_epochs            = 20,\n",
    "    per_device_train_batch_size = 32, #Increase training batch size to ensure that each batch has a decent chance of containing a few positive samples.\n",
    "    per_device_eval_batch_size  = 16,\n",
    "    save_steps                  = 20, \n",
    "    evaluation_strategy         = \"epoch\"\n",
    ")\n",
    "\n",
    "\n",
    "#Define Trainer object\n",
    "trainer = Trainer(\n",
    "    model           = oversampled_model,\n",
    "    args            = training_args,\n",
    "    train_dataset   = train_set_dataset,\n",
    "    eval_dataset    = val_set_dataset,\n",
    "    compute_metrics = compute_metrics\n",
    ")\n",
    "\n",
    "trainer.train()"
   ]
  },
  {
   "cell_type": "code",
   "execution_count": null,
   "id": "a194adfd-aa52-45aa-908f-98658a4da5ee",
   "metadata": {},
   "outputs": [],
   "source": []
  },
  {
   "cell_type": "code",
   "execution_count": null,
   "id": "cf240718-7369-420b-b884-04df90c47680",
   "metadata": {},
   "outputs": [],
   "source": []
  },
  {
   "cell_type": "code",
   "execution_count": null,
   "id": "aa192ce7-663d-4c6a-8954-6cda66da917f",
   "metadata": {},
   "outputs": [],
   "source": []
  },
  {
   "cell_type": "code",
   "execution_count": null,
   "id": "ddb3cefa-e258-43b2-b037-b798d95920bf",
   "metadata": {},
   "outputs": [],
   "source": []
  },
  {
   "cell_type": "code",
   "execution_count": null,
   "id": "5894c8ab-30b0-4380-8718-6d61466b82f2",
   "metadata": {},
   "outputs": [],
   "source": []
  },
  {
   "cell_type": "code",
   "execution_count": null,
   "id": "ae11c32d-c177-413a-bfd3-fc7334e8a0e7",
   "metadata": {},
   "outputs": [],
   "source": []
  },
  {
   "cell_type": "markdown",
   "id": "524bd82d-c9de-4a6c-94f4-528cc83d9b4e",
   "metadata": {
    "tags": []
   },
   "source": [
    "### 7. Evaluating the model: How well does it classify tweets?"
   ]
  },
  {
   "cell_type": "code",
   "execution_count": 39,
   "id": "5abe294f-861b-4284-9e83-0ba6282b4349",
   "metadata": {},
   "outputs": [
    {
     "name": "stderr",
     "output_type": "stream",
     "text": [
      "loading configuration file ../models/bertweet/checkpoint-120/config.json\n",
      "Model config RobertaConfig {\n",
      "  \"_name_or_path\": \"finiteautomata/bertweet-base-sentiment-analysis\",\n",
      "  \"architectures\": [\n",
      "    \"RobertaForSequenceClassification\"\n",
      "  ],\n",
      "  \"attention_probs_dropout_prob\": 0.1,\n",
      "  \"bos_token_id\": 0,\n",
      "  \"eos_token_id\": 2,\n",
      "  \"gradient_checkpointing\": false,\n",
      "  \"hidden_act\": \"gelu\",\n",
      "  \"hidden_dropout_prob\": 0.1,\n",
      "  \"hidden_size\": 768,\n",
      "  \"id2label\": {\n",
      "    \"0\": \"NEG\",\n",
      "    \"1\": \"NEU\",\n",
      "    \"2\": \"POS\"\n",
      "  },\n",
      "  \"initializer_range\": 0.02,\n",
      "  \"intermediate_size\": 3072,\n",
      "  \"label2id\": {\n",
      "    \"NEG\": 0,\n",
      "    \"NEU\": 1,\n",
      "    \"POS\": 2\n",
      "  },\n",
      "  \"layer_norm_eps\": 1e-05,\n",
      "  \"max_position_embeddings\": 130,\n",
      "  \"model_type\": \"roberta\",\n",
      "  \"num_attention_heads\": 12,\n",
      "  \"num_hidden_layers\": 12,\n",
      "  \"pad_token_id\": 1,\n",
      "  \"position_embedding_type\": \"absolute\",\n",
      "  \"problem_type\": \"single_label_classification\",\n",
      "  \"tokenizer_class\": \"BertweetTokenizer\",\n",
      "  \"transformers_version\": \"4.8.0\",\n",
      "  \"type_vocab_size\": 1,\n",
      "  \"use_cache\": true,\n",
      "  \"vocab_size\": 64001\n",
      "}\n",
      "\n",
      "loading weights file ../models/bertweet/checkpoint-120/pytorch_model.bin\n",
      "All model checkpoint weights were used when initializing RobertaForSequenceClassification.\n",
      "\n",
      "All the weights of RobertaForSequenceClassification were initialized from the model checkpoint at ../models/bertweet/checkpoint-120.\n",
      "If your task is similar to the task the model of the checkpoint was trained on, you can already use RobertaForSequenceClassification for predictions without further training.\n"
     ]
    }
   ],
   "source": [
    "# Load the checkpoint\n",
    "model = AutoModelForSequenceClassification.from_pretrained(\"../models/bertweet/checkpoint-120\")"
   ]
  },
  {
   "cell_type": "code",
   "execution_count": 40,
   "id": "928c4624-2db3-4343-81d7-babf8b8bff9b",
   "metadata": {},
   "outputs": [
    {
     "name": "stderr",
     "output_type": "stream",
     "text": [
      "PyTorch: setting up devices\n",
      "The default value for the training argument `--report_to` will change in v5 (from all installed integrations to none). In v5, you will need to use `--report_to all` to get the same behavior as now. You should start updating your code and make this info disappear :-).\n",
      "***** Running Prediction *****\n",
      "  Num examples = 76\n",
      "  Batch size = 8\n"
     ]
    },
    {
     "data": {
      "text/html": [
       "\n",
       "    <div>\n",
       "      \n",
       "      <progress value='10' max='10' style='width:300px; height:20px; vertical-align: middle;'></progress>\n",
       "      [10/10 00:18]\n",
       "    </div>\n",
       "    "
      ],
      "text/plain": [
       "<IPython.core.display.HTML object>"
      ]
     },
     "metadata": {},
     "output_type": "display_data"
    }
   ],
   "source": [
    "# Make the test set ready\n",
    "test_set_dataset = Generate_PyTorch_Dataset(\n",
    "    texts    = df.query(\"split_group == 'test_set' \").Text.tolist(),\n",
    "    labels = df.query(\"split_group == 'test_set' \").label.tolist(),\n",
    "    tokenizer  = tokenizer\n",
    ")\n",
    "\n",
    "training_args = TrainingArguments(\n",
    "    output_dir = \"../model_predictions\",\n",
    "    do_predict = True\n",
    ")\n",
    "\n",
    "trainer = Trainer(\n",
    "    model           = model,\n",
    "    args            = training_args,\n",
    "    compute_metrics = compute_metrics,\n",
    ")\n",
    "\n",
    "test_preds = trainer.predict(test_set_dataset)"
   ]
  },
  {
   "cell_type": "code",
   "execution_count": 41,
   "id": "39522a3c-5bee-4727-8db9-bd5ae411412e",
   "metadata": {},
   "outputs": [
    {
     "data": {
      "text/html": [
       "<div>\n",
       "<style scoped>\n",
       "    .dataframe tbody tr th:only-of-type {\n",
       "        vertical-align: middle;\n",
       "    }\n",
       "\n",
       "    .dataframe tbody tr th {\n",
       "        vertical-align: top;\n",
       "    }\n",
       "\n",
       "    .dataframe thead th {\n",
       "        text-align: right;\n",
       "    }\n",
       "</style>\n",
       "<table border=\"1\" class=\"dataframe\">\n",
       "  <thead>\n",
       "    <tr style=\"text-align: right;\">\n",
       "      <th></th>\n",
       "      <th>test_loss</th>\n",
       "      <th>test_f1</th>\n",
       "      <th>test_precision</th>\n",
       "      <th>test_recall</th>\n",
       "      <th>test_accuracy</th>\n",
       "      <th>test_runtime</th>\n",
       "      <th>test_samples_per_second</th>\n",
       "      <th>test_steps_per_second</th>\n",
       "    </tr>\n",
       "  </thead>\n",
       "  <tbody>\n",
       "    <tr>\n",
       "      <th>0</th>\n",
       "      <td>1.085137</td>\n",
       "      <td>0.815789</td>\n",
       "      <td>0.815789</td>\n",
       "      <td>0.815789</td>\n",
       "      <td>0.815789</td>\n",
       "      <td>20.5678</td>\n",
       "      <td>3.695</td>\n",
       "      <td>0.486</td>\n",
       "    </tr>\n",
       "  </tbody>\n",
       "</table>\n",
       "</div>"
      ],
      "text/plain": [
       "   test_loss   test_f1  test_precision  test_recall  test_accuracy  \\\n",
       "0   1.085137  0.815789        0.815789     0.815789       0.815789   \n",
       "\n",
       "   test_runtime  test_samples_per_second  test_steps_per_second  \n",
       "0       20.5678                    3.695                  0.486  "
      ]
     },
     "execution_count": 41,
     "metadata": {},
     "output_type": "execute_result"
    }
   ],
   "source": [
    "pd.DataFrame([test_preds[-1]])"
   ]
  },
  {
   "cell_type": "code",
   "execution_count": 38,
   "id": "2e8bd7b9-bfc1-4880-9fa2-bf3bbd2abb62",
   "metadata": {},
   "outputs": [
    {
     "name": "stdout",
     "output_type": "stream",
     "text": [
      "              precision    recall  f1-score   support\n",
      "\n",
      "           0       0.88      0.81      0.84        43\n",
      "           1       0.77      0.85      0.81        27\n",
      "           2       0.67      0.67      0.67         6\n",
      "\n",
      "    accuracy                           0.82        76\n",
      "   macro avg       0.77      0.78      0.77        76\n",
      "weighted avg       0.82      0.82      0.82        76\n",
      "\n"
     ]
    }
   ],
   "source": [
    "y_true = df.query(\"split_group == 'test_set' \").label.tolist()\n",
    "preds = np.argmax(test_preds[0], axis=1).flatten()\n",
    "\n",
    "print(classification_report(y_true, preds))"
   ]
  },
  {
   "cell_type": "markdown",
   "id": "dbf2483a-f1bd-4a3c-86ad-3dcaca59e1d3",
   "metadata": {},
   "source": [
    "### How about the 2nd best model?"
   ]
  },
  {
   "cell_type": "code",
   "execution_count": null,
   "id": "50f5c9eb-813d-49ec-abb0-95897c8f1f6d",
   "metadata": {},
   "outputs": [],
   "source": []
  },
  {
   "cell_type": "markdown",
   "id": "087c3101-f91d-49bf-aafa-c6bff70f6751",
   "metadata": {},
   "source": [
    "It could be that the model did not get to train on "
   ]
  },
  {
   "cell_type": "code",
   "execution_count": null,
   "id": "70257000-e84c-4f4d-86ad-c2fab4090a9e",
   "metadata": {},
   "outputs": [],
   "source": [
    "# Define the training parameters\n",
    "training_args = TrainingArguments(\n",
    "    output_dir                  = \"../models\",\n",
    "    per_device_train_batch_size = 16, #Increase default batch size to ensure that each batch has a decent chance of containing a few positive samples.\n",
    "    per_device_eval_batch_size  = 64,\n",
    "    warmup_steps                = 500,\n",
    "    save_strategy               = \"epoch\",\n",
    "    evaluation_strategy         = \"epoch\"\n",
    ")\n",
    "\n",
    "#Define Trainer object\n",
    "trainer = Trainer(\n",
    "    model           = model,\n",
    "    args            = training_args,\n",
    "    train_dataset   = train_set_dataset,\n",
    "    eval_dataset    = val_set_dataset,\n",
    "    compute_metrics = compute_metrics\n",
    ")\n",
    "\n",
    "#Start pre-training!\n",
    "trainer.train()"
   ]
  },
  {
   "cell_type": "code",
   "execution_count": null,
   "id": "9d1d250e-6903-460b-8c33-92c1a68c101a",
   "metadata": {},
   "outputs": [],
   "source": []
  },
  {
   "cell_type": "code",
   "execution_count": null,
   "id": "424ac0f2-5dfe-485f-a5f9-e87d8e2c8476",
   "metadata": {},
   "outputs": [],
   "source": []
  },
  {
   "cell_type": "code",
   "execution_count": null,
   "id": "da2271ee-1469-4295-9854-ffbdf86ce802",
   "metadata": {},
   "outputs": [],
   "source": []
  },
  {
   "cell_type": "markdown",
   "id": "a2e95dd3-e884-49c8-960e-8052bd2e7c19",
   "metadata": {},
   "source": [
    "### 7. Modeling: M-BERT"
   ]
  },
  {
   "cell_type": "code",
   "execution_count": 16,
   "id": "842d239a-2b6c-4fbb-90a4-7fab1a6c0615",
   "metadata": {},
   "outputs": [],
   "source": [
    "import os\n",
    "os.environ['KMP_DUPLICATE_LIB_OK']='True'"
   ]
  },
  {
   "cell_type": "code",
   "execution_count": 17,
   "id": "6e43e6b9-fd39-40a6-bfe4-d76446a41c9e",
   "metadata": {},
   "outputs": [
    {
     "name": "stderr",
     "output_type": "stream",
     "text": [
      "Loading model from ../models/checkpoint-75).\n",
      "***** Running training *****\n",
      "  Num examples = 226\n",
      "  Num Epochs = 10\n",
      "  Instantaneous batch size per device = 16\n",
      "  Total train batch size (w. parallel, distributed & accumulation) = 16\n",
      "  Gradient Accumulation steps = 1\n",
      "  Total optimization steps = 150\n",
      "  Continuing training from checkpoint, will skip to saved global_step\n",
      "  Continuing training from epoch 5\n",
      "  Continuing training from global step 75\n",
      "  Will skip the first 5 epochs then the first 0 batches in the first epoch. If this takes a lot of time, you can add the `--ignore_data_skip` flag to your launch command, but you will resume the training on data already seen by your model.\n"
     ]
    },
    {
     "data": {
      "application/vnd.jupyter.widget-view+json": {
       "model_id": "98ba1bc173074d33921bd9c3634bb7b1",
       "version_major": 2,
       "version_minor": 0
      },
      "text/plain": [
       "0it [00:00, ?it/s]"
      ]
     },
     "metadata": {},
     "output_type": "display_data"
    },
    {
     "data": {
      "text/html": [
       "\n",
       "    <div>\n",
       "      \n",
       "      <progress value='150' max='150' style='width:300px; height:20px; vertical-align: middle;'></progress>\n",
       "      [150/150 1:49:46, Epoch 10/10]\n",
       "    </div>\n",
       "    <table border=\"1\" class=\"dataframe\">\n",
       "  <thead>\n",
       "    <tr style=\"text-align: left;\">\n",
       "      <th>Epoch</th>\n",
       "      <th>Training Loss</th>\n",
       "      <th>Validation Loss</th>\n",
       "      <th>F1</th>\n",
       "      <th>Precision</th>\n",
       "      <th>Recall</th>\n",
       "      <th>Accuracy</th>\n",
       "    </tr>\n",
       "  </thead>\n",
       "  <tbody>\n",
       "    <tr>\n",
       "      <td>6</td>\n",
       "      <td>No log</td>\n",
       "      <td>0.763013</td>\n",
       "      <td>0.570215</td>\n",
       "      <td>0.630990</td>\n",
       "      <td>0.644737</td>\n",
       "      <td>0.644737</td>\n",
       "    </tr>\n",
       "    <tr>\n",
       "      <td>7</td>\n",
       "      <td>No log</td>\n",
       "      <td>0.702986</td>\n",
       "      <td>0.708169</td>\n",
       "      <td>0.716233</td>\n",
       "      <td>0.750000</td>\n",
       "      <td>0.750000</td>\n",
       "    </tr>\n",
       "    <tr>\n",
       "      <td>8</td>\n",
       "      <td>No log</td>\n",
       "      <td>0.685107</td>\n",
       "      <td>0.731384</td>\n",
       "      <td>0.702577</td>\n",
       "      <td>0.763158</td>\n",
       "      <td>0.763158</td>\n",
       "    </tr>\n",
       "    <tr>\n",
       "      <td>9</td>\n",
       "      <td>No log</td>\n",
       "      <td>0.666470</td>\n",
       "      <td>0.756062</td>\n",
       "      <td>0.728259</td>\n",
       "      <td>0.789474</td>\n",
       "      <td>0.789474</td>\n",
       "    </tr>\n",
       "    <tr>\n",
       "      <td>10</td>\n",
       "      <td>No log</td>\n",
       "      <td>0.732520</td>\n",
       "      <td>0.742764</td>\n",
       "      <td>0.716873</td>\n",
       "      <td>0.776316</td>\n",
       "      <td>0.776316</td>\n",
       "    </tr>\n",
       "  </tbody>\n",
       "</table><p>"
      ],
      "text/plain": [
       "<IPython.core.display.HTML object>"
      ]
     },
     "metadata": {},
     "output_type": "display_data"
    },
    {
     "name": "stderr",
     "output_type": "stream",
     "text": [
      "***** Running Evaluation *****\n",
      "  Num examples = 76\n",
      "  Batch size = 64\n",
      "/Users/koredeakande/opt/anaconda3/envs/jupyterlab/lib/python3.9/site-packages/sklearn/metrics/_classification.py:1308: UndefinedMetricWarning: Precision and F-score are ill-defined and being set to 0.0 in labels with no predicted samples. Use `zero_division` parameter to control this behavior.\n",
      "  _warn_prf(average, modifier, msg_start, len(result))\n",
      "Saving model checkpoint to ../models/checkpoint-90\n",
      "Configuration saved in ../models/checkpoint-90/config.json\n",
      "Model weights saved in ../models/checkpoint-90/pytorch_model.bin\n",
      "***** Running Evaluation *****\n",
      "  Num examples = 76\n",
      "  Batch size = 64\n",
      "/Users/koredeakande/opt/anaconda3/envs/jupyterlab/lib/python3.9/site-packages/sklearn/metrics/_classification.py:1308: UndefinedMetricWarning: Precision and F-score are ill-defined and being set to 0.0 in labels with no predicted samples. Use `zero_division` parameter to control this behavior.\n",
      "  _warn_prf(average, modifier, msg_start, len(result))\n",
      "Saving model checkpoint to ../models/checkpoint-105\n",
      "Configuration saved in ../models/checkpoint-105/config.json\n",
      "Model weights saved in ../models/checkpoint-105/pytorch_model.bin\n",
      "***** Running Evaluation *****\n",
      "  Num examples = 76\n",
      "  Batch size = 64\n",
      "/Users/koredeakande/opt/anaconda3/envs/jupyterlab/lib/python3.9/site-packages/sklearn/metrics/_classification.py:1308: UndefinedMetricWarning: Precision and F-score are ill-defined and being set to 0.0 in labels with no predicted samples. Use `zero_division` parameter to control this behavior.\n",
      "  _warn_prf(average, modifier, msg_start, len(result))\n",
      "Saving model checkpoint to ../models/checkpoint-120\n",
      "Configuration saved in ../models/checkpoint-120/config.json\n",
      "Model weights saved in ../models/checkpoint-120/pytorch_model.bin\n",
      "***** Running Evaluation *****\n",
      "  Num examples = 76\n",
      "  Batch size = 64\n",
      "/Users/koredeakande/opt/anaconda3/envs/jupyterlab/lib/python3.9/site-packages/sklearn/metrics/_classification.py:1308: UndefinedMetricWarning: Precision and F-score are ill-defined and being set to 0.0 in labels with no predicted samples. Use `zero_division` parameter to control this behavior.\n",
      "  _warn_prf(average, modifier, msg_start, len(result))\n",
      "Saving model checkpoint to ../models/checkpoint-135\n",
      "Configuration saved in ../models/checkpoint-135/config.json\n",
      "Model weights saved in ../models/checkpoint-135/pytorch_model.bin\n",
      "***** Running Evaluation *****\n",
      "  Num examples = 76\n",
      "  Batch size = 64\n",
      "/Users/koredeakande/opt/anaconda3/envs/jupyterlab/lib/python3.9/site-packages/sklearn/metrics/_classification.py:1308: UndefinedMetricWarning: Precision and F-score are ill-defined and being set to 0.0 in labels with no predicted samples. Use `zero_division` parameter to control this behavior.\n",
      "  _warn_prf(average, modifier, msg_start, len(result))\n",
      "Saving model checkpoint to ../models/checkpoint-150\n",
      "Configuration saved in ../models/checkpoint-150/config.json\n",
      "Model weights saved in ../models/checkpoint-150/pytorch_model.bin\n",
      "\n",
      "\n",
      "Training completed. Do not forget to share your model on huggingface.co/models =)\n",
      "\n",
      "\n"
     ]
    },
    {
     "data": {
      "text/plain": [
       "TrainOutput(global_step=150, training_loss=0.2528162129720052, metrics={'train_runtime': 6676.7605, 'train_samples_per_second': 0.338, 'train_steps_per_second': 0.022, 'total_flos': 594636324065280.0, 'train_loss': 0.2528162129720052, 'epoch': 10.0})"
      ]
     },
     "execution_count": 17,
     "metadata": {},
     "output_type": "execute_result"
    }
   ],
   "source": [
    "# Define the training parameters\n",
    "training_args = TrainingArguments(\n",
    "    output_dir                  = \"../models\",\n",
    "    num_train_epochs            = 10,\n",
    "    per_device_train_batch_size = 16,\n",
    "    per_device_eval_batch_size  = 64,\n",
    "    warmup_steps                = 500,\n",
    "    weight_decay                = 0.01,\n",
    "    save_strategy               = \"epoch\",\n",
    "    evaluation_strategy         = \"epoch\"\n",
    ")\n",
    "\n",
    "#Define Trainer object\n",
    "trainer = Trainer(\n",
    "    model           = model,\n",
    "    args            = training_args,\n",
    "    train_dataset   = train_set_dataset,\n",
    "    eval_dataset    = val_set_dataset,\n",
    "    compute_metrics = compute_metrics\n",
    ")\n",
    "\n",
    "trainer.train('../models/checkpoint-75')"
   ]
  },
  {
   "cell_type": "markdown",
   "id": "e7509e84-20b5-472c-ad3a-f679d6504fde",
   "metadata": {},
   "source": [
    "From the above results, the checkpoint from epoch 9 (checkpoint-135) does the best across all metrics. I also had a similar checkpoint in a previous run (see Appendix). We thus compare both checkpoints on metrics to prioritize one:"
   ]
  },
  {
   "cell_type": "code",
   "execution_count": 28,
   "id": "ad6f0b4f-213a-47bd-85f0-0b6593bde051",
   "metadata": {},
   "outputs": [
    {
     "data": {
      "text/html": [
       "<div>\n",
       "<style scoped>\n",
       "    .dataframe tbody tr th:only-of-type {\n",
       "        vertical-align: middle;\n",
       "    }\n",
       "\n",
       "    .dataframe tbody tr th {\n",
       "        vertical-align: top;\n",
       "    }\n",
       "\n",
       "    .dataframe thead th {\n",
       "        text-align: right;\n",
       "    }\n",
       "</style>\n",
       "<table border=\"1\" class=\"dataframe\">\n",
       "  <thead>\n",
       "    <tr style=\"text-align: right;\">\n",
       "      <th></th>\n",
       "      <th>Validation Loss</th>\n",
       "      <th>F1</th>\n",
       "      <th>Precision</th>\n",
       "      <th>Recall</th>\n",
       "      <th>Accuracy</th>\n",
       "    </tr>\n",
       "  </thead>\n",
       "  <tbody>\n",
       "    <tr>\n",
       "      <th>checkpoint_135</th>\n",
       "      <td>0.666470</td>\n",
       "      <td>0.756062</td>\n",
       "      <td>0.728259</td>\n",
       "      <td>0.789474</td>\n",
       "      <td>0.789474</td>\n",
       "    </tr>\n",
       "    <tr>\n",
       "      <th>checkpoint_174</th>\n",
       "      <td>0.905348</td>\n",
       "      <td>0.756738</td>\n",
       "      <td>0.727052</td>\n",
       "      <td>0.789474</td>\n",
       "      <td>0.789474</td>\n",
       "    </tr>\n",
       "  </tbody>\n",
       "</table>\n",
       "</div>"
      ],
      "text/plain": [
       "                Validation Loss        F1  Precision    Recall  Accuracy\n",
       "checkpoint_135         0.666470  0.756062   0.728259  0.789474  0.789474\n",
       "checkpoint_174         0.905348  0.756738   0.727052  0.789474  0.789474"
      ]
     },
     "execution_count": 28,
     "metadata": {},
     "output_type": "execute_result"
    }
   ],
   "source": [
    "checkpoint_135 = {'Validation Loss': 0.666470, 'F1': 0.756062, 'Precision': 0.728259, \n",
    "                  'Recall': 0.789474, 'Accuracy': 0.789474}\n",
    "\n",
    "checkpoint_174 = {'Validation Loss': 0.905348, 'F1': 0.756738, 'Precision': 0.727052, \n",
    "                  'Recall': 0.789474, 'Accuracy': 0.789474}\n",
    "\n",
    "\n",
    "pd.DataFrame([checkpoint_135,checkpoint_174], index= ['checkpoint_135','checkpoint_174'])"
   ]
  },
  {
   "cell_type": "markdown",
   "id": "691d9b78-2203-4020-a362-8505361b0a79",
   "metadata": {},
   "source": [
    "We see a tradeoff between F1 and precision (not surprising given that F1 tries to balance precision and recall). In this scenario, I don't have a reason to believe precision is more important than recall (i.e. it is important to consider false positives and false negatives for the classes). Hence I decide to go with checkpoint_174 for future predictions. I also keep checkpoint_135, just in case, but I delete all other checkpoints (including those listed in the Appendix)\n",
    "\n",
    "**Note:** Here, I don't really pay attention to accuracy (although in this scenario they are the same) because we have a really uneven class distribution, and the accuracy would be misleading."
   ]
  },
  {
   "cell_type": "markdown",
   "id": "a3dfa104-f69e-4cd3-8e85-ce255940acd7",
   "metadata": {},
   "source": [
    "### 6. Test set Prediction with the Fine-tuned BERT"
   ]
  },
  {
   "cell_type": "code",
   "execution_count": 29,
   "id": "63fa374f-3174-4c45-a8f0-c52fdacb6fc6",
   "metadata": {},
   "outputs": [
    {
     "name": "stderr",
     "output_type": "stream",
     "text": [
      "loading configuration file ../models/checkpoint-174/config.json\n",
      "Model config BertConfig {\n",
      "  \"_name_or_path\": \"bert-base-multilingual-cased\",\n",
      "  \"architectures\": [\n",
      "    \"BertForSequenceClassification\"\n",
      "  ],\n",
      "  \"attention_probs_dropout_prob\": 0.1,\n",
      "  \"classifier_dropout\": null,\n",
      "  \"directionality\": \"bidi\",\n",
      "  \"hidden_act\": \"gelu\",\n",
      "  \"hidden_dropout_prob\": 0.1,\n",
      "  \"hidden_size\": 768,\n",
      "  \"id2label\": {\n",
      "    \"0\": \"LABEL_0\",\n",
      "    \"1\": \"LABEL_1\",\n",
      "    \"2\": \"LABEL_2\"\n",
      "  },\n",
      "  \"initializer_range\": 0.02,\n",
      "  \"intermediate_size\": 3072,\n",
      "  \"label2id\": {\n",
      "    \"LABEL_0\": 0,\n",
      "    \"LABEL_1\": 1,\n",
      "    \"LABEL_2\": 2\n",
      "  },\n",
      "  \"layer_norm_eps\": 1e-12,\n",
      "  \"max_position_embeddings\": 512,\n",
      "  \"model_type\": \"bert\",\n",
      "  \"num_attention_heads\": 12,\n",
      "  \"num_hidden_layers\": 12,\n",
      "  \"pad_token_id\": 0,\n",
      "  \"pooler_fc_size\": 768,\n",
      "  \"pooler_num_attention_heads\": 12,\n",
      "  \"pooler_num_fc_layers\": 3,\n",
      "  \"pooler_size_per_head\": 128,\n",
      "  \"pooler_type\": \"first_token_transform\",\n",
      "  \"position_embedding_type\": \"absolute\",\n",
      "  \"problem_type\": \"single_label_classification\",\n",
      "  \"torch_dtype\": \"float32\",\n",
      "  \"transformers_version\": \"4.11.3\",\n",
      "  \"type_vocab_size\": 2,\n",
      "  \"use_cache\": true,\n",
      "  \"vocab_size\": 119547\n",
      "}\n",
      "\n",
      "loading weights file ../models/checkpoint-174/pytorch_model.bin\n",
      "All model checkpoint weights were used when initializing BertForSequenceClassification.\n",
      "\n",
      "All the weights of BertForSequenceClassification were initialized from the model checkpoint at ../models/checkpoint-174.\n",
      "If your task is similar to the task the model of the checkpoint was trained on, you can already use BertForSequenceClassification for predictions without further training.\n",
      "PyTorch: setting up devices\n",
      "The default value for the training argument `--report_to` will change in v5 (from all installed integrations to none). In v5, you will need to use `--report_to all` to get the same behavior as now. You should start updating your code and make this info disappear :-).\n",
      "***** Running Prediction *****\n",
      "  Num examples = 76\n",
      "  Batch size = 8\n"
     ]
    },
    {
     "data": {
      "text/html": [
       "\n",
       "    <div>\n",
       "      \n",
       "      <progress value='10' max='10' style='width:300px; height:20px; vertical-align: middle;'></progress>\n",
       "      [10/10 01:14]\n",
       "    </div>\n",
       "    "
      ],
      "text/plain": [
       "<IPython.core.display.HTML object>"
      ]
     },
     "metadata": {},
     "output_type": "display_data"
    },
    {
     "name": "stderr",
     "output_type": "stream",
     "text": [
      "/Users/koredeakande/opt/anaconda3/envs/jupyterlab/lib/python3.9/site-packages/sklearn/metrics/_classification.py:1308: UndefinedMetricWarning: Precision and F-score are ill-defined and being set to 0.0 in labels with no predicted samples. Use `zero_division` parameter to control this behavior.\n",
      "  _warn_prf(average, modifier, msg_start, len(result))\n"
     ]
    }
   ],
   "source": [
    "# Load the checkpoint\n",
    "model = BertForSequenceClassification.from_pretrained(\"../models/checkpoint-174\")\n",
    "\n",
    "# Make the test set ready\n",
    "test_set_dataset = Generate_PyTorch_Dataset(\n",
    "    texts    = df.query(\"split_group == 'test_set' \").Text.tolist(),\n",
    "    labels = df.query(\"split_group == 'test_set' \").label.tolist(),\n",
    "    tokenizer  = tokenizer\n",
    ")\n",
    "\n",
    "training_args = TrainingArguments(\n",
    "    output_dir = \"../model_predictions\",\n",
    "    do_predict = True\n",
    ")\n",
    "\n",
    "trainer = Trainer(\n",
    "    model           = model,\n",
    "    args            = training_args,\n",
    "    compute_metrics =compute_metrics,\n",
    ")\n",
    "\n",
    "test_preds = trainer.predict(test_set_dataset)"
   ]
  },
  {
   "cell_type": "code",
   "execution_count": 30,
   "id": "4e4e24cd-9423-4fb6-9fb6-ea9a60249ab5",
   "metadata": {},
   "outputs": [
    {
     "data": {
      "text/html": [
       "<div>\n",
       "<style scoped>\n",
       "    .dataframe tbody tr th:only-of-type {\n",
       "        vertical-align: middle;\n",
       "    }\n",
       "\n",
       "    .dataframe tbody tr th {\n",
       "        vertical-align: top;\n",
       "    }\n",
       "\n",
       "    .dataframe thead th {\n",
       "        text-align: right;\n",
       "    }\n",
       "</style>\n",
       "<table border=\"1\" class=\"dataframe\">\n",
       "  <thead>\n",
       "    <tr style=\"text-align: right;\">\n",
       "      <th></th>\n",
       "      <th>test_loss</th>\n",
       "      <th>test_f1</th>\n",
       "      <th>test_precision</th>\n",
       "      <th>test_recall</th>\n",
       "      <th>test_accuracy</th>\n",
       "      <th>test_runtime</th>\n",
       "      <th>test_samples_per_second</th>\n",
       "      <th>test_steps_per_second</th>\n",
       "    </tr>\n",
       "  </thead>\n",
       "  <tbody>\n",
       "    <tr>\n",
       "      <th>0</th>\n",
       "      <td>1.057386</td>\n",
       "      <td>0.704644</td>\n",
       "      <td>0.677688</td>\n",
       "      <td>0.736842</td>\n",
       "      <td>0.736842</td>\n",
       "      <td>83.9709</td>\n",
       "      <td>0.905</td>\n",
       "      <td>0.119</td>\n",
       "    </tr>\n",
       "  </tbody>\n",
       "</table>\n",
       "</div>"
      ],
      "text/plain": [
       "   test_loss   test_f1  test_precision  test_recall  test_accuracy  \\\n",
       "0   1.057386  0.704644        0.677688     0.736842       0.736842   \n",
       "\n",
       "   test_runtime  test_samples_per_second  test_steps_per_second  \n",
       "0       83.9709                    0.905                  0.119  "
      ]
     },
     "execution_count": 30,
     "metadata": {},
     "output_type": "execute_result"
    }
   ],
   "source": [
    "pd.DataFrame([test_preds[-1]])"
   ]
  },
  {
   "cell_type": "markdown",
   "id": "af61f306-d3d3-4681-a032-2dc7b46561f8",
   "metadata": {},
   "source": [
    "### 7. Evaluating the model: How well does it classify tweets?"
   ]
  },
  {
   "cell_type": "code",
   "execution_count": 31,
   "id": "a927b8f4-48fa-4e66-b866-ab9e0b85e973",
   "metadata": {},
   "outputs": [
    {
     "name": "stdout",
     "output_type": "stream",
     "text": [
      "              precision    recall  f1-score   support\n",
      "\n",
      "           0       0.72      0.69      0.71        26\n",
      "           1       0.75      0.86      0.80        44\n",
      "           2       0.00      0.00      0.00         6\n",
      "\n",
      "    accuracy                           0.74        76\n",
      "   macro avg       0.49      0.52      0.50        76\n",
      "weighted avg       0.68      0.74      0.70        76\n",
      "\n"
     ]
    },
    {
     "name": "stderr",
     "output_type": "stream",
     "text": [
      "/Users/koredeakande/opt/anaconda3/envs/jupyterlab/lib/python3.9/site-packages/sklearn/metrics/_classification.py:1308: UndefinedMetricWarning: Precision and F-score are ill-defined and being set to 0.0 in labels with no predicted samples. Use `zero_division` parameter to control this behavior.\n",
      "  _warn_prf(average, modifier, msg_start, len(result))\n",
      "/Users/koredeakande/opt/anaconda3/envs/jupyterlab/lib/python3.9/site-packages/sklearn/metrics/_classification.py:1308: UndefinedMetricWarning: Precision and F-score are ill-defined and being set to 0.0 in labels with no predicted samples. Use `zero_division` parameter to control this behavior.\n",
      "  _warn_prf(average, modifier, msg_start, len(result))\n",
      "/Users/koredeakande/opt/anaconda3/envs/jupyterlab/lib/python3.9/site-packages/sklearn/metrics/_classification.py:1308: UndefinedMetricWarning: Precision and F-score are ill-defined and being set to 0.0 in labels with no predicted samples. Use `zero_division` parameter to control this behavior.\n",
      "  _warn_prf(average, modifier, msg_start, len(result))\n"
     ]
    }
   ],
   "source": [
    "y_true = df.query(\"split_group == 'test_set' \").label.tolist()\n",
    "preds = np.argmax(test_preds[0], axis=1).flatten()\n",
    "\n",
    "print(classification_report(y_true, preds))"
   ]
  },
  {
   "cell_type": "code",
   "execution_count": 32,
   "id": "85ca2709-465a-45b8-9c41-6110bacfe30e",
   "metadata": {},
   "outputs": [],
   "source": [
    "cm = confusion_matrix(y_true, preds)\n",
    "disp = ConfusionMatrixDisplay(confusion_matrix=cm, display_labels = ['Negative', 'Neutral', 'Positive'])"
   ]
  },
  {
   "cell_type": "code",
   "execution_count": 33,
   "id": "0014dcbe-dd48-4e11-b9c7-36015badbb97",
   "metadata": {},
   "outputs": [
    {
     "data": {
      "image/png": "[encoded data removed]",
      "text/plain": [
       "<Figure size 432x288 with 2 Axes>"
      ]
     },
     "metadata": {},
     "output_type": "display_data"
    }
   ],
   "source": [
    "disp.plot(cmap='Blues',ax=None)\n",
    "plt.grid(False)\n",
    "plt.show()"
   ]
  },
  {
   "cell_type": "markdown",
   "id": "ffd56e89-18ec-46ba-b89d-9c2df6779e1d",
   "metadata": {},
   "source": [
    "### 8. Conclusions"
   ]
  },
  {
   "cell_type": "markdown",
   "id": "7d1c3093-811f-43fb-b2fe-fed2fb637e6a",
   "metadata": {},
   "source": [
    "- It does fairly well differentiating between neutral and negative tweets.\n",
    "- However, it model does poorly predicting positive tweets. This is not surprising given it has very few positive tweets to train with to start with. \n",
    "\n",
    "Hence it would be helpful to consider strategies to handle the imbalance and improve prediction of positive samples. Some potential strategies include:\n",
    "- Reweighting the classes in the loss function to penalize more for positive samples misclassification\n",
    "- Oversampling (or sampling with replacement) so that positive cases are more represented in the dataset\n",
    "- Try other algorithms that are known to do well with imbalanced datasets (e.g. decision trees, random forests, etc.)\n",
    "\n",
    "Sources consulted for inspiration:\n",
    "- [8 Tactics to Combat Imbalanced Classes in Your Machine Learning Dataset by Jason Brownlee](https://machinelearningmastery.com/tactics-to-combat-imbalanced-classes-in-your-machine-learning-dataset/)"
   ]
  },
  {
   "cell_type": "markdown",
   "id": "43a1371a-f30e-4402-bd6d-40edc78ade4b",
   "metadata": {},
   "source": [
    "---"
   ]
  }
 ],
 "metadata": {
  "kernelspec": {
   "display_name": "Python 3 (ipykernel)",
   "language": "python",
   "name": "python3"
  },
  "language_info": {
   "codemirror_mode": {
    "name": "ipython",
    "version": 3
   },
   "file_extension": ".py",
   "mimetype": "text/x-python",
   "name": "python",
   "nbconvert_exporter": "python",
   "pygments_lexer": "ipython3",
   "version": "3.7.11"
  }
 },
 "nbformat": 4,
 "nbformat_minor": 5
}
