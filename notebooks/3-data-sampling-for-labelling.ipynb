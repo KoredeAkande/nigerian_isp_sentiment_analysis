{
 "cells": [
  {
   "cell_type": "markdown",
   "id": "94cbffa3-ae16-48e8-8490-f85de63a0f5d",
   "metadata": {},
   "source": [
    "# Data Sampling\n",
    "**`Goal:`** Draw a sample of the merged dataframe to label for a supervised learning task"
   ]
  },
  {
   "cell_type": "markdown",
   "id": "1ec52585-0343-480d-b411-41128f0a06a1",
   "metadata": {},
   "source": [
    "### 1. Library Importation"
   ]
  },
  {
   "cell_type": "code",
   "execution_count": 2,
   "id": "36ee6efb-5641-450d-b686-cac4c90a3eab",
   "metadata": {},
   "outputs": [],
   "source": [
    "import pandas as pd\n",
    "import numpy as np"
   ]
  },
  {
   "cell_type": "markdown",
   "id": "f0588c06-13e4-4d99-b33f-4e442c78fd3c",
   "metadata": {},
   "source": [
    "### 2. Defining sampler"
   ]
  },
  {
   "cell_type": "code",
   "execution_count": 3,
   "id": "cc949b86-99e5-4732-a102-f942edb9973b",
   "metadata": {},
   "outputs": [],
   "source": [
    "def sample_generator(filepath,pct_of_file= 0.25):\n",
    "    \n",
    "    \"\"\"\n",
    "    Return a sample of the file, where the sample size is determined by the pct_of_file specified\n",
    "    \n",
    "    Inputs:\n",
    "        - filename (str): Path to file to be read\n",
    "        - pct_of_file (float): Percentage of the original file to sample\n",
    "        \n",
    "    Output:\n",
    "        - df (pandas Dataframe): Return the random sample\n",
    "    \n",
    "    \"\"\"\n",
    "    \n",
    "    #Load a sample of the dataset\n",
    "    #If randomly generated probability is greater than pct_of_file, the row will be skipped\n",
    "    df = pd.read_csv(filepath, \n",
    "                     skiprows = lambda l: l>0 and np.random.random() > pct_of_file,\n",
    "                     low_memory=False)\n",
    "    \n",
    "    print(f\"Sampling complete. Sampled {len(df)} rows from {len(pd.read_csv(filepath))} rows\")\n",
    "    \n",
    "    return df"
   ]
  },
  {
   "cell_type": "markdown",
   "id": "6780410e-ee03-44f7-bbaa-c2249e122f33",
   "metadata": {},
   "source": [
    "### 3. Generate Sample From the Dataframe"
   ]
  },
  {
   "cell_type": "code",
   "execution_count": 35,
   "id": "f96eccd9-d6ba-4012-a4f8-79059ab05af3",
   "metadata": {},
   "outputs": [
    {
     "name": "stdout",
     "output_type": "stream",
     "text": [
      "Sampling complete. Sampled 434 rows from 1646 rows\n"
     ]
    }
   ],
   "source": [
    "sampled_df = sample_generator('../data/raw/merged.csv')"
   ]
  },
  {
   "cell_type": "markdown",
   "id": "fb0c0eaa-c926-4172-8be0-af357a84bfc0",
   "metadata": {},
   "source": [
    "#### a. Sample for language labelling"
   ]
  },
  {
   "cell_type": "code",
   "execution_count": 8,
   "id": "002626e7-577e-4802-a019-159184539c03",
   "metadata": {},
   "outputs": [
    {
     "name": "stdout",
     "output_type": "stream",
     "text": [
      "Sampling complete. Sampled 82 rows from 1646 rows\n"
     ]
    }
   ],
   "source": [
    "#Draw a random sample for annotation - to determine proportion of pidgin English texts\n",
    "language_labelling = sample_generator('../data/raw/merged.csv',0.05)"
   ]
  },
  {
   "cell_type": "markdown",
   "id": "a5213eb2-c0fc-4e2a-a9c5-1d6098793447",
   "metadata": {},
   "source": [
    "#### b. Sample For further aspect based sentiment analysis annotation"
   ]
  },
  {
   "cell_type": "code",
   "execution_count": 7,
   "id": "6c62eed2-7ce1-47bb-ab04-1b5222fc75e3",
   "metadata": {},
   "outputs": [
    {
     "name": "stdout",
     "output_type": "stream",
     "text": [
      "Sampling complete. Sampled 826 rows from 1646 rows\n"
     ]
    }
   ],
   "source": [
    "#Note: I sample a huge chunk of the data – this is just to have enough new ones as there \n",
    "#will be some overlap with the tweets I've already annotated. Most likely, all of it will not be used\n",
    "sample_for_absa_annotation = sample_generator('../data/raw/merged.csv', 0.5)"
   ]
  },
  {
   "cell_type": "code",
   "execution_count": 6,
   "id": "66f6e643-aa82-46a9-8603-8886b615f8bd",
   "metadata": {},
   "outputs": [
    {
     "data": {
      "text/html": [
       "<div>\n",
       "<style scoped>\n",
       "    .dataframe tbody tr th:only-of-type {\n",
       "        vertical-align: middle;\n",
       "    }\n",
       "\n",
       "    .dataframe tbody tr th {\n",
       "        vertical-align: top;\n",
       "    }\n",
       "\n",
       "    .dataframe thead th {\n",
       "        text-align: right;\n",
       "    }\n",
       "</style>\n",
       "<table border=\"1\" class=\"dataframe\">\n",
       "  <thead>\n",
       "    <tr style=\"text-align: right;\">\n",
       "      <th></th>\n",
       "      <th>ISP_Name</th>\n",
       "      <th>Time</th>\n",
       "      <th>Text</th>\n",
       "      <th>Coordinates</th>\n",
       "      <th>Place</th>\n",
       "      <th>Source</th>\n",
       "    </tr>\n",
       "  </thead>\n",
       "  <tbody>\n",
       "    <tr>\n",
       "      <th>0</th>\n",
       "      <td>sprectranet</td>\n",
       "      <td>2020-04-21 06:11:55+00:00</td>\n",
       "      <td>@Spectranet_NG is this even fair? I won’t rene...</td>\n",
       "      <td>NaN</td>\n",
       "      <td>Place(_api=&lt;tweepy.api.API object at 0x7fbc03d...</td>\n",
       "      <td>Twitter for iPhone</td>\n",
       "    </tr>\n",
       "    <tr>\n",
       "      <th>1</th>\n",
       "      <td>sprectranet</td>\n",
       "      <td>2019-02-16 18:11:48</td>\n",
       "      <td>@Spectranet_NG Can I subscribe via @UBAGroup m...</td>\n",
       "      <td>NaN</td>\n",
       "      <td>Place(_api=&lt;tweepy.api.API object at 0x7f96f2f...</td>\n",
       "      <td>Twitter for Android</td>\n",
       "    </tr>\n",
       "    <tr>\n",
       "      <th>2</th>\n",
       "      <td>sprectranet</td>\n",
       "      <td>2020-10-20 08:36:06+00:00</td>\n",
       "      <td>If Spectranet wants to be shit like this eh th...</td>\n",
       "      <td>NaN</td>\n",
       "      <td>Place(_api=&lt;tweepy.api.API object at 0x7fbc029...</td>\n",
       "      <td>Twitter for iPhone</td>\n",
       "    </tr>\n",
       "    <tr>\n",
       "      <th>3</th>\n",
       "      <td>tizeti</td>\n",
       "      <td>2020-07-08 05:37:08+00:00</td>\n",
       "      <td>@igalaman @tizeti No one. And they will still ...</td>\n",
       "      <td>NaN</td>\n",
       "      <td>Place(_api=&lt;tweepy.api.API object at 0x7fe2d86...</td>\n",
       "      <td>Twitter for Android</td>\n",
       "    </tr>\n",
       "    <tr>\n",
       "      <th>4</th>\n",
       "      <td>tizeti</td>\n",
       "      <td>2019-07-28 22:13:53+00:00</td>\n",
       "      <td>TIZETI PLEASE</td>\n",
       "      <td>NaN</td>\n",
       "      <td>Place(_api=&lt;tweepy.api.API object at 0x7fe2d6d...</td>\n",
       "      <td>Twitter for iPhone</td>\n",
       "    </tr>\n",
       "    <tr>\n",
       "      <th>...</th>\n",
       "      <td>...</td>\n",
       "      <td>...</td>\n",
       "      <td>...</td>\n",
       "      <td>...</td>\n",
       "      <td>...</td>\n",
       "      <td>...</td>\n",
       "    </tr>\n",
       "    <tr>\n",
       "      <th>422</th>\n",
       "      <td>sprectranet</td>\n",
       "      <td>2020-04-28 11:51:58+00:00</td>\n",
       "      <td>Spectranet/MTNN is making WFH today super stre...</td>\n",
       "      <td>NaN</td>\n",
       "      <td>Place(_api=&lt;tweepy.api.API object at 0x7fbc03d...</td>\n",
       "      <td>Twitter for Android</td>\n",
       "    </tr>\n",
       "    <tr>\n",
       "      <th>423</th>\n",
       "      <td>sprectranet</td>\n",
       "      <td>2020-04-03 12:55:27+00:00</td>\n",
       "      <td>50GB gone in one week, @Spectranet_NG na so? I...</td>\n",
       "      <td>NaN</td>\n",
       "      <td>Place(_api=&lt;tweepy.api.API object at 0x7fbc03d...</td>\n",
       "      <td>Twitter for Android</td>\n",
       "    </tr>\n",
       "    <tr>\n",
       "      <th>424</th>\n",
       "      <td>sprectranet</td>\n",
       "      <td>2019-03-02 15:08:26</td>\n",
       "      <td>I can’t find my  @Spectranet_NG mifi and I sti...</td>\n",
       "      <td>NaN</td>\n",
       "      <td>Place(_api=&lt;tweepy.api.API object at 0x7f96f2f...</td>\n",
       "      <td>Twitter for iPhone</td>\n",
       "    </tr>\n",
       "    <tr>\n",
       "      <th>425</th>\n",
       "      <td>sprectranet</td>\n",
       "      <td>2020-10-30 00:19:29+00:00</td>\n",
       "      <td>Spectranet is always terrible at night. Fix up...</td>\n",
       "      <td>NaN</td>\n",
       "      <td>Place(_api=&lt;tweepy.api.API object at 0x7fbc029...</td>\n",
       "      <td>Twitter for iPhone</td>\n",
       "    </tr>\n",
       "    <tr>\n",
       "      <th>426</th>\n",
       "      <td>sprectranet</td>\n",
       "      <td>2019-11-29 16:32:48</td>\n",
       "      <td>I don’t know why @Spectranet_NG has the shitti...</td>\n",
       "      <td>NaN</td>\n",
       "      <td>Place(_api=&lt;tweepy.api.API object at 0x7f96f37...</td>\n",
       "      <td>Twitter for iPhone</td>\n",
       "    </tr>\n",
       "  </tbody>\n",
       "</table>\n",
       "<p>427 rows × 6 columns</p>\n",
       "</div>"
      ],
      "text/plain": [
       "        ISP_Name                       Time  \\\n",
       "0    sprectranet  2020-04-21 06:11:55+00:00   \n",
       "1    sprectranet        2019-02-16 18:11:48   \n",
       "2    sprectranet  2020-10-20 08:36:06+00:00   \n",
       "3         tizeti  2020-07-08 05:37:08+00:00   \n",
       "4         tizeti  2019-07-28 22:13:53+00:00   \n",
       "..           ...                        ...   \n",
       "422  sprectranet  2020-04-28 11:51:58+00:00   \n",
       "423  sprectranet  2020-04-03 12:55:27+00:00   \n",
       "424  sprectranet        2019-03-02 15:08:26   \n",
       "425  sprectranet  2020-10-30 00:19:29+00:00   \n",
       "426  sprectranet        2019-11-29 16:32:48   \n",
       "\n",
       "                                                  Text Coordinates  \\\n",
       "0    @Spectranet_NG is this even fair? I won’t rene...         NaN   \n",
       "1    @Spectranet_NG Can I subscribe via @UBAGroup m...         NaN   \n",
       "2    If Spectranet wants to be shit like this eh th...         NaN   \n",
       "3    @igalaman @tizeti No one. And they will still ...         NaN   \n",
       "4                                        TIZETI PLEASE         NaN   \n",
       "..                                                 ...         ...   \n",
       "422  Spectranet/MTNN is making WFH today super stre...         NaN   \n",
       "423  50GB gone in one week, @Spectranet_NG na so? I...         NaN   \n",
       "424  I can’t find my  @Spectranet_NG mifi and I sti...         NaN   \n",
       "425  Spectranet is always terrible at night. Fix up...         NaN   \n",
       "426  I don’t know why @Spectranet_NG has the shitti...         NaN   \n",
       "\n",
       "                                                 Place               Source  \n",
       "0    Place(_api=<tweepy.api.API object at 0x7fbc03d...   Twitter for iPhone  \n",
       "1    Place(_api=<tweepy.api.API object at 0x7f96f2f...  Twitter for Android  \n",
       "2    Place(_api=<tweepy.api.API object at 0x7fbc029...   Twitter for iPhone  \n",
       "3    Place(_api=<tweepy.api.API object at 0x7fe2d86...  Twitter for Android  \n",
       "4    Place(_api=<tweepy.api.API object at 0x7fe2d6d...   Twitter for iPhone  \n",
       "..                                                 ...                  ...  \n",
       "422  Place(_api=<tweepy.api.API object at 0x7fbc03d...  Twitter for Android  \n",
       "423  Place(_api=<tweepy.api.API object at 0x7fbc03d...  Twitter for Android  \n",
       "424  Place(_api=<tweepy.api.API object at 0x7f96f2f...   Twitter for iPhone  \n",
       "425  Place(_api=<tweepy.api.API object at 0x7fbc029...   Twitter for iPhone  \n",
       "426  Place(_api=<tweepy.api.API object at 0x7f96f37...   Twitter for iPhone  \n",
       "\n",
       "[427 rows x 6 columns]"
      ]
     },
     "execution_count": 6,
     "metadata": {},
     "output_type": "execute_result"
    }
   ],
   "source": [
    "sample_for_absa_annotation"
   ]
  },
  {
   "cell_type": "markdown",
   "id": "268f9f46-0f06-4b9f-90e1-dc238bbab6df",
   "metadata": {},
   "source": [
    "### 4. Save Sample Dataframe to CSV File\n",
    "This CSV will be subsequently annotated"
   ]
  },
  {
   "cell_type": "code",
   "execution_count": 10,
   "id": "18779313-a000-4efe-8c9e-931378dbb7fa",
   "metadata": {},
   "outputs": [],
   "source": [
    "save_file_with_name = lambda df,name: df.to_csv(f\"../data/raw/{name}.csv\",index=False)"
   ]
  },
  {
   "cell_type": "markdown",
   "id": "ae5008aa-8e87-4c72-85a1-7da4ec9d7ff4",
   "metadata": {},
   "source": [
    "save_file_with_name(sampled_df,'sample')"
   ]
  },
  {
   "cell_type": "markdown",
   "id": "e53c086e-5ee2-4c19-ba90-6f6f2b54238f",
   "metadata": {},
   "source": [
    "sampled_df[['Text']].rename(columns={'Text':'text'}).to_csv(f\"../data/raw/sample_tweet_text.csv\",\n",
    "                                                            index=False)"
   ]
  },
  {
   "cell_type": "markdown",
   "id": "26b6b12e-d468-4ba1-ac9a-aa7970f0e26f",
   "metadata": {},
   "source": [
    "#Save the dataset for language annotation\n",
    "language_labelling[['Text']].rename(columns={'Text':'text'}).to_csv(f\"../data/raw/lang_labelling_sample.csv\", index=False)"
   ]
  },
  {
   "cell_type": "markdown",
   "id": "a122f94e-2499-4efd-8a8b-819e542ca6e9",
   "metadata": {},
   "source": [
    "#Save the dataset for further absa annotation\n",
    "sample_for_absa_annotation[['Text']].to_csv(f\"../data/raw/sample_for_absa_annotation.csv\", index=False)"
   ]
  }
 ],
 "metadata": {
  "kernelspec": {
   "display_name": "Python 3 (ipykernel)",
   "language": "python",
   "name": "python3"
  },
  "language_info": {
   "codemirror_mode": {
    "name": "ipython",
    "version": 3
   },
   "file_extension": ".py",
   "mimetype": "text/x-python",
   "name": "python",
   "nbconvert_exporter": "python",
   "pygments_lexer": "ipython3",
   "version": "3.7.11"
  }
 },
 "nbformat": 4,
 "nbformat_minor": 5
}
