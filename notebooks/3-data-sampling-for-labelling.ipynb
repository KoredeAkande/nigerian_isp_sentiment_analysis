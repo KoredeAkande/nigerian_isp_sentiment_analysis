{
 "cells": [
  {
   "cell_type": "markdown",
   "id": "94cbffa3-ae16-48e8-8490-f85de63a0f5d",
   "metadata": {},
   "source": [
    "# Data Sampling\n",
    "**`Goal:`** Draw a sample of the merged dataframe to label for a supervised learning task"
   ]
  },
  {
   "cell_type": "markdown",
   "id": "1ec52585-0343-480d-b411-41128f0a06a1",
   "metadata": {},
   "source": [
    "### 1. Library Importation"
   ]
  },
  {
   "cell_type": "code",
   "execution_count": 24,
   "id": "36ee6efb-5641-450d-b686-cac4c90a3eab",
   "metadata": {},
   "outputs": [],
   "source": [
    "import pandas as pd\n",
    "import numpy as np"
   ]
  },
  {
   "cell_type": "markdown",
   "id": "f0588c06-13e4-4d99-b33f-4e442c78fd3c",
   "metadata": {},
   "source": [
    "### 2. Defining sampler"
   ]
  },
  {
   "cell_type": "code",
   "execution_count": 25,
   "id": "cc949b86-99e5-4732-a102-f942edb9973b",
   "metadata": {},
   "outputs": [],
   "source": [
    "def sample_generator(filepath,pct_of_file= 0.25):\n",
    "    \n",
    "    \"\"\"\n",
    "    Return a sample of the file, where the sample size is determined by the pct_of_file specified\n",
    "    \n",
    "    Inputs:\n",
    "        - filename (str): Path to file to be read\n",
    "        - pct_of_file (float): Percentage of the original file to sample\n",
    "        \n",
    "    Output:\n",
    "        - df (pandas Dataframe): Return the random sample\n",
    "    \n",
    "    \"\"\"\n",
    "    \n",
    "    #Load a sample of the dataset\n",
    "    #If randomly generated probability is greater than pct_of_file, the row will be skipped\n",
    "    df = pd.read_csv(filepath, \n",
    "                     skiprows = lambda l: l>0 and np.random.random() > pct_of_file,\n",
    "                     low_memory=False)\n",
    "    \n",
    "    print(f\"Sampling complete. Sampled {len(df)} rows from {len(pd.read_csv(filepath))} rows\")\n",
    "    \n",
    "    return df"
   ]
  },
  {
   "cell_type": "markdown",
   "id": "6780410e-ee03-44f7-bbaa-c2249e122f33",
   "metadata": {},
   "source": [
    "### 3. Generate Sample From the Dataframe"
   ]
  },
  {
   "cell_type": "code",
   "execution_count": 26,
   "id": "f96eccd9-d6ba-4012-a4f8-79059ab05af3",
   "metadata": {},
   "outputs": [
    {
     "name": "stdout",
     "output_type": "stream",
     "text": [
      "Sampling complete. Sampled 691 rows from 2701 rows\n"
     ]
    }
   ],
   "source": [
    "sampled_df = sample_generator('../data/raw/merged.csv')"
   ]
  },
  {
   "cell_type": "markdown",
   "id": "268f9f46-0f06-4b9f-90e1-dc238bbab6df",
   "metadata": {},
   "source": [
    "### 4. Save Sample Dataframe to CSV File\n",
    "This CSV will be subsequently annotated"
   ]
  },
  {
   "cell_type": "code",
   "execution_count": 27,
   "id": "18779313-a000-4efe-8c9e-931378dbb7fa",
   "metadata": {},
   "outputs": [],
   "source": [
    "save_file_with_name = lambda name: sampled_df.to_csv(f\"../data/raw/{name}.csv\",index=False)"
   ]
  },
  {
   "cell_type": "markdown",
   "id": "dcf84c84-1898-461a-b566-87a4770e8b9f",
   "metadata": {},
   "source": [
    "save_file_with_name('sample')"
   ]
  },
  {
   "cell_type": "markdown",
   "id": "8d17f3d2-297f-4cc0-ad66-3f1c0c5afcf4",
   "metadata": {},
   "source": [
    "sampled_df[['Text']].rename(columns={'Text':'text'}).to_csv(f\"../data/raw/sample_tweet_text.csv\",\n",
    "                                                            index=False)"
   ]
  }
 ],
 "metadata": {
  "kernelspec": {
   "display_name": "Python 3 (ipykernel)",
   "language": "python",
   "name": "python3"
  },
  "language_info": {
   "codemirror_mode": {
    "name": "ipython",
    "version": 3
   },
   "file_extension": ".py",
   "mimetype": "text/x-python",
   "name": "python",
   "nbconvert_exporter": "python",
   "pygments_lexer": "ipython3",
   "version": "3.9.7"
  }
 },
 "nbformat": 4,
 "nbformat_minor": 5
}
